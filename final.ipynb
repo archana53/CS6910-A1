{
 "cells": [
  {
   "cell_type": "code",
   "execution_count": 6,
   "metadata": {},
   "outputs": [],
   "source": [
    "import numpy as np\n",
    "import matplotlib.pyplot as plt\n",
    "import math\n",
    "import copy"
   ]
  },
  {
   "cell_type": "code",
   "execution_count": 7,
   "metadata": {},
   "outputs": [],
   "source": [
    "from tensorflow.keras.datasets import fashion_mnist\n",
    "((x_train, y_train), (x_test, y_test)) = fashion_mnist.load_data()"
   ]
  },
  {
   "cell_type": "code",
   "execution_count": 8,
   "metadata": {},
   "outputs": [
    {
     "data": {
      "image/png": "[encoded data removed]",
      "text/plain": [
       "<Figure size 720x720 with 10 Axes>"
      ]
     },
     "metadata": {
      "needs_background": "light"
     },
     "output_type": "display_data"
    }
   ],
   "source": [
    "class_names = ['T-shirt/top', 'Trouser', 'Pullover', 'Dress', 'Coat',\n",
    "               'Sandal', 'Shirt', 'Sneaker', 'Bag', 'Ankle boot']\n",
    "\n",
    "_, indicesList = np.unique(y_train, return_index=True)\n",
    "\n",
    "plt.figure(figsize=(10,10))\n",
    "for i in range(10):\n",
    "    plt.xticks([])\n",
    "    plt.yticks([])\n",
    "    plt.subplot(5,5,i+1)\n",
    "#     plt.grid(False)\n",
    "    plt.imshow(x_train[indicesList[i]] , cmap=plt.cm.binary)\n",
    "    plt.xlabel(class_names[i])\n",
    "plt.show()"
   ]
  },
  {
   "cell_type": "code",
   "execution_count": 9,
   "metadata": {},
   "outputs": [],
   "source": [
    "def sigmoid(x):\n",
    "    x = np.clip(x, a_min = -700, a_max = 700)\n",
    "    return (1/(1+ np.exp(-x)))\n",
    "\n",
    "def sigmoid_grad(x):\n",
    "    a = sigmoid(x)\n",
    "    return a*(1-a)\n",
    "\n",
    "def tanh(x):\n",
    "    return np.tanh(x)\n",
    "\n",
    "def tanh_grad(x):\n",
    "    a = tanh(x)\n",
    "    return 1 - a*a\n",
    "\n",
    "def relu(x):\n",
    "    x[x<0] = 0\n",
    "    return x\n",
    "\n",
    "def relu_grad(x):\n",
    "    x[x<=0] = 0\n",
    "    x[x>0] = 1\n",
    "    return x\n",
    "\n",
    "def linear(x):\n",
    "    return x\n",
    "\n",
    "def linear_grad(x):\n",
    "    return np.ones(x.shape)\n",
    "\n",
    "# def softmax(x):\n",
    "#     exps = np.exp(x)\n",
    "#     exps_sum = np.sum(exps,axis=0,keepdims=True)\n",
    "#     return exps/exps_sum\n",
    "\n",
    "# def softmax_grad(x):\n",
    "#     soft = softmax(x)\n",
    "    \n",
    "    "
   ]
  },
  {
   "cell_type": "code",
   "execution_count": 10,
   "metadata": {},
   "outputs": [],
   "source": [
    "activations = {\n",
    "    \"sigmoid\": [sigmoid,sigmoid_grad],\n",
    "    \"tanh\": [tanh,tanh_grad],\n",
    "    \"relu\": [relu,relu_grad],\n",
    "    \"linear\": [linear,linear_grad]\n",
    "}"
   ]
  },
  {
   "cell_type": "code",
   "execution_count": 11,
   "metadata": {},
   "outputs": [],
   "source": [
    "def cross_entropy_loss(real,pred):\n",
    "    ret = np.multiply(real,pred)\n",
    "    loss = -np.mean(np.log(np.sum(ret,axis=1)+1e-8))\n",
    "    return loss\n",
    "\n",
    "def cross_entropy_loss_grad(real,pred):\n",
    "    return pred-real\n",
    "\n",
    "def mse_loss(real,pred):\n",
    "    ret = np.mean((pred-real)**2)/2\n",
    "    return ret\n",
    "    \n",
    "def mse_loss_grad(real,pred):\n",
    "    return pred-real"
   ]
  },
  {
   "cell_type": "code",
   "execution_count": 12,
   "metadata": {},
   "outputs": [],
   "source": [
    "losses = {\n",
    "    \"cross_entropy\":(cross_entropy_loss,cross_entropy_loss_grad),\n",
    "    \"mse\": (mse_loss,mse_loss_grad)\n",
    "}"
   ]
  },
  {
   "cell_type": "code",
   "execution_count": 13,
   "metadata": {},
   "outputs": [],
   "source": [
    "class initializer:\n",
    "    \n",
    "    def normal(inputs,outputs):\n",
    "        weights = np.random.randn(inputs,outputs)\n",
    "        bias = np.random.randn(outputs,)\n",
    "        return weights,bias\n",
    "    \n",
    "    def xavier(inputs,outputs):\n",
    "        scale = 1/max(1.,(inputs+outputs)/2.)\n",
    "        limit = math.sqrt(3.0*scale)\n",
    "        weights = np.random.uniform(-limit,limit,size=(inputs,outputs))\n",
    "        bias = np.random.uniform(-limit,limit,size=(outputs,))\n",
    "        return weights,bias\n",
    "    "
   ]
  },
  {
   "cell_type": "code",
   "execution_count": 14,
   "metadata": {},
   "outputs": [],
   "source": [
    "weight_inits = {\n",
    "    \"random\": initializer.normal,\n",
    "    \"xavier\": initializer.xavier\n",
    "}"
   ]
  },
  {
   "cell_type": "code",
   "execution_count": 56,
   "metadata": {},
   "outputs": [],
   "source": [
    "class layer:\n",
    "    \n",
    "    def __init__(self,neurons,inputs,activation = \"sigmoid\",weight_init=\"random\"):\n",
    "        self.W,self.b = weight_inits[weight_init](inputs,neurons)\n",
    "        self.neurons = neurons\n",
    "        self.inputs = inputs\n",
    "        self.activation = activations[activation]\n",
    "        \n",
    "            \n",
    "    def run_layer(self,A):\n",
    "        a = A @ self.W +self.b      #a is not dot product\n",
    "        self.inp = A\n",
    "        return self.activation[0](a)\n",
    "    \n",
    "    def back_pass(self,dl_da,lr=0.1,lamda=0.0):\n",
    "        h = self.inp @ self.W + self.b\n",
    "        da_dh = self.activation[1](h)\n",
    "        temp = np.multiply(dl_da,da_dh)\n",
    "        dl_dw = self.inp.T @ temp + lamda * self.W\n",
    "        dl_db = np.sum(temp,axis=0) + lamda * self.b\n",
    "        dl_dx = temp @ self.W.T\n",
    "        \n",
    "        return dl_dx, dl_dw, dl_db\n",
    "    "
   ]
  },
  {
   "cell_type": "code",
   "execution_count": 57,
   "metadata": {},
   "outputs": [],
   "source": [
    "def find_accuracy(pred,real):\n",
    "    a = np.argmax(pred,axis=1)\n",
    "    b = np.argmax(real,axis=1)\n",
    "    return np.mean(a==b)"
   ]
  },
  {
   "cell_type": "code",
   "execution_count": 113,
   "metadata": {},
   "outputs": [],
   "source": [
    "def logging(model,inputs,outputs,xval,yval):\n",
    "\n",
    "    train_accuracy = find_accuracy(model.predict(inputs),outputs)\n",
    "    val_accuracy = find_accuracy(model.predict(xval),yval)\n",
    "\n",
    "    train_loss = model.loss[0](model.predict(inputs),outputs)\n",
    "    val_loss = model.loss[0](model.predict(xval),yval)\n",
    "    wandb.log({\"train accuracy\": train_accuracy,\"validation accuracy\": val_accuracy,\"train loss\": train_loss,\"val loss\": val_loss})"
   ]
  },
  {
   "cell_type": "code",
   "execution_count": 132,
   "metadata": {},
   "outputs": [],
   "source": [
    "class optimizers:\n",
    "    \n",
    "    def sgd(model, inputs, outputs,val=None,epochs = 1, lr = 0.01, batch_size = 1):\n",
    "        best_acc = 0.0\n",
    "        for i in range(epochs):\n",
    "            for j in range(0,inputs.shape[0],batch_size):\n",
    "                inps = inputs[j:min(inputs.shape[0],j+batch_size)]\n",
    "                outs = outputs[j:min(inputs.shape[0],j+batch_size)]\n",
    "                grads = model.find_gradient(inps,outs)\n",
    "                for k,lay in enumerate(model.layers):\n",
    "                    dw,db = grads[k]\n",
    "                    lay.W -= lr * dw / batch_size\n",
    "                    lay.b -= lr * db / batch_size\n",
    "                    \n",
    "            pred = model.predict(inputs)\n",
    "            regularization = sum([np.sum(lay.W**2)+np.sum(lay.b**2) for lay in model.layers])\n",
    "            loss = model.loss[0](outputs,pred) + regularization * model.lamda / 2\n",
    "            \n",
    "            if val is not None:\n",
    "                xval,yval = val\n",
    "                acc = find_accuracy(model.predict(xval),yval)\n",
    "                if acc >= best_acc:\n",
    "                    best_acc = acc\n",
    "                    best_model = model\n",
    "                logging(model,inputs,outputs,xval,yval)\n",
    "                         \n",
    "            print(\"Epoch {} done: Loss = {}\".format(i,loss))\n",
    "            \n",
    "        if val is not None:\n",
    "            model = best_model\n",
    "            \n",
    "            \n",
    "        return model\n",
    "    \n",
    "    def momentum(model, inputs, outputs,val=None,epochs = 1, lr = 0.1, batch_size = 1,gamma = 0.9):\n",
    "        eps = 1e-8\n",
    "        best_acc = 0.0\n",
    "        v_w = [np.zeros(la.W.shape) for la in model.layers]\n",
    "        v_b = [np.zeros(la.b.shape) for la in model.layers]\n",
    "        for i in range(epochs):\n",
    "            for j in range(0,inputs.shape[0],batch_size):\n",
    "                inps = inputs[j:min(inputs.shape[0],j+batch_size)]\n",
    "                outs = outputs[j:min(inputs.shape[0],j+batch_size)]\n",
    "                grads = model.find_gradient(inps,outs)\n",
    "                for k,lay in enumerate(model.layers):\n",
    "                    dw,db = grads[k]\n",
    "                    v_w[k] = gamma * v_w[k] + lr * dw\n",
    "                    v_b[k] = gamma * v_b[k] + lr * db\n",
    "                    \n",
    "                    lay.W -= v_w[k]\n",
    "                    lay.b -= v_b[k]\n",
    "                    \n",
    "            pred = model.predict(inputs)\n",
    "            regularization = sum([np.sum(lay.W**2)+np.sum(lay.b**2) for lay in model.layers])\n",
    "            loss = model.loss[0](outputs,pred) + regularization * model.lamda / 2\n",
    "            \n",
    "            if val is not None:\n",
    "                xval,yval = val\n",
    "                acc = find_accuracy(model.predict(xval),yval)\n",
    "                if acc >= best_acc:\n",
    "                    best_acc = acc\n",
    "                    best_model = model\n",
    "                    \n",
    "                logging(model,inputs,outputs,xval,yval)\n",
    "                    \n",
    "            print(\"Epoch {} done: Loss = {}\".format(i,loss))\n",
    "            \n",
    "        if val is not None:\n",
    "            model = best_model\n",
    "            \n",
    "            \n",
    "        return model\n",
    "    \n",
    "    def nesterov(model, inputs, outputs,val=None,epochs = 1, lr = 0.1, batch_size = 1,gamma = 0.9):\n",
    "        eps = 1e-8\n",
    "        best_acc = 0.0\n",
    "        v_w = [np.zeros(la.W.shape) for la in model.layers]\n",
    "        v_b = [np.zeros(la.b.shape) for la in model.layers]\n",
    "        for i in range(epochs):\n",
    "            for j in range(0,inputs.shape[0],batch_size):\n",
    "                inps = inputs[j:min(inputs.shape[0],j+batch_size)]\n",
    "                outs = outputs[j:min(inputs.shape[0],j+batch_size)]\n",
    "                \n",
    "                model1 = copy.copy(model)\n",
    "                \n",
    "                for k,lay in enumerate(model1.layers):\n",
    "                    lay.W -= gamma * v_w[k]\n",
    "                    lay.b -= gamma * v_b[k]\n",
    "                \n",
    "                grads = model1.find_gradient(inps,outs)\n",
    "                        \n",
    "                for k,lay in enumerate(model.layers):\n",
    "                    dw,db = grads[k]\n",
    "                    dw /= batch_size\n",
    "                    db /= batch_size\n",
    "                    \n",
    "                    v_w[k] = gamma * v_w[k] + lr * dw\n",
    "                    v_b[k] = gamma * v_b[k] + lr * db\n",
    "                    \n",
    "                    lay.W -= v_w[k]\n",
    "                    lay.b -= v_b[k]\n",
    "                    \n",
    "            pred = model.predict(inputs)\n",
    "            regularization = sum([np.sum(lay.W**2)+np.sum(lay.b**2) for lay in model.layers])\n",
    "            loss = model.loss[0](outputs,pred) + regularization * model.lamda / 2\n",
    "            \n",
    "            if val is not None:\n",
    "                xval,yval = val\n",
    "                acc = find_accuracy(model.predict(xval),yval)\n",
    "                if acc >= best_acc:\n",
    "                    best_acc = acc\n",
    "                    best_model = model\n",
    "                    \n",
    "                logging(model,inputs,outputs,xval,yval)\n",
    "                \n",
    "            print(\"Epoch {} done: Loss = {}\".format(i,loss))\n",
    "            \n",
    "        if val is not None:\n",
    "            model = best_model\n",
    "            \n",
    "            \n",
    "        return model\n",
    "    \n",
    "    def rmsprop(model, inputs, outputs,val=None,epochs = 1, lr = 0.01, batch_size = 1,beta1 = 0.9):\n",
    "        eps = 1e-8\n",
    "        best_acc = 0.0\n",
    "        v_w = [np.zeros(la.W.shape) for la in model.layers]\n",
    "        v_b = [np.zeros(la.b.shape) for la in model.layers]\n",
    "        for i in range(epochs):\n",
    "            for j in range(0,inputs.shape[0],batch_size):\n",
    "                inps = inputs[j:min(inputs.shape[0],j+batch_size)]\n",
    "                outs = outputs[j:min(inputs.shape[0],j+batch_size)]\n",
    "                grads = model.find_gradient(inps,outs)\n",
    "                \n",
    "                for k,lay in enumerate(model.layers):\n",
    "                    dw,db = grads[k]\n",
    "                    dw /= batch_size\n",
    "                    db /= batch_size\n",
    "                    \n",
    "                    v_w[k] = beta1 * v_w[k] + (1-beta1) * dw**2\n",
    "                    v_b[k] = beta1 * v_b[k] + (1-beta1) * db**2\n",
    "                    \n",
    "                    lay.W -= (lr / np.sqrt(v_w[k] + eps)) * dw\n",
    "                    lay.b -= (lr / np.sqrt(v_b[k] + eps)) * db\n",
    "                    \n",
    "            pred = model.predict(inputs)\n",
    "            regularization = sum([np.sum(lay.W**2)+np.sum(lay.b**2) for lay in model.layers])\n",
    "            loss = model.loss[0](outputs,pred) + regularization * model.lamda / 2\n",
    "            \n",
    "            if val is not None:\n",
    "                xval,yval = val\n",
    "                acc = find_accuracy(model.predict(xval),yval)\n",
    "                if acc >= best_acc:\n",
    "                    best_acc = acc\n",
    "                    best_model = model\n",
    "                logging(model,inputs,outputs,xval,yval)\n",
    "                    \n",
    "            print(\"Epoch {} done: Loss = {}\".format(i,loss))\n",
    "            \n",
    "        if val is not None:\n",
    "            model = best_model\n",
    "            \n",
    "            \n",
    "        return model\n",
    "    \n",
    "    def adam(model, inputs, outputs,val=None,epochs = 1, lr = 0.01, batch_size = 1,beta1 = 0.9,beta2 = 0.999,lamda=0.0):\n",
    "        eps = 1e-8\n",
    "        best_acc = 0.0\n",
    "        m_w = [np.zeros(la.W.shape) for la in model.layers]\n",
    "        m_b = [np.zeros(la.b.shape) for la in model.layers]\n",
    "        v_w = [np.zeros(la.W.shape) for la in model.layers]\n",
    "        v_b = [np.zeros(la.b.shape) for la in model.layers]\n",
    "        for i in range(epochs):\n",
    "            for j in range(0,inputs.shape[0],batch_size):\n",
    "                inps = inputs[j:min(inputs.shape[0],j+batch_size)]\n",
    "                outs = outputs[j:min(inputs.shape[0],j+batch_size)]\n",
    "                \n",
    "                grads = model.find_gradient(inps,outs)\n",
    "                \n",
    "                for k,lay in enumerate(model.layers):\n",
    "                    dw,db = grads[k]\n",
    "                    dw /= batch_size\n",
    "                    db /= batch_size\n",
    "                    \n",
    "                    m_w[k] = beta1 * m_w[k] + (1-beta1) * dw\n",
    "                    m_b[k] = beta1 * m_b[k] + (1-beta1) * db\n",
    "                    \n",
    "                    v_w[k] = beta2 * v_w[k] + (1-beta2) * dw**2\n",
    "                    v_b[k] = beta2 * v_b[k] + (1-beta2) * db**2\n",
    "                    \n",
    "                    m_w_hat = m_w[k]/(1-math.pow(beta1,i+1))\n",
    "                    m_b_hat = m_b[k]/(1-math.pow(beta1,i+1))\n",
    "                    \n",
    "                    v_w_hat = v_w[k]/(1-math.pow(beta2,i+1))\n",
    "                    v_b_hat = v_b[k]/(1-math.pow(beta2,i+1))\n",
    "                    \n",
    "                    lay.W -= (lr / np.sqrt(v_w_hat + eps)) * m_w_hat\n",
    "                    lay.b -= (lr / np.sqrt(v_b_hat + eps)) * m_b_hat\n",
    "                    \n",
    "            pred = model.predict(inputs)\n",
    "            regularization = sum([np.sum(lay.W**2)+np.sum(lay.b**2) for lay in model.layers])\n",
    "            loss = model.loss[0](outputs,pred) + regularization * model.lamda / 2\n",
    "            \n",
    "            if val is not None:\n",
    "                xval,yval = val\n",
    "                acc = find_accuracy(model.predict(xval),yval)\n",
    "                if acc >= best_acc:\n",
    "                    best_acc = acc\n",
    "                    best_model = model\n",
    "                    \n",
    "                logging(model,inputs,outputs,xval,yval)\n",
    "                    \n",
    "            print(\"Epoch {} done: Loss = {}\".format(i,loss))\n",
    "            \n",
    "        if val is not None:\n",
    "            model = best_model\n",
    "            \n",
    "            \n",
    "        return model\n",
    "    \n",
    "    \n",
    "    def nadam(model, inputs, outputs,val=None,epochs = 1, lr = 0.01, batch_size = 1,beta1 = 0.9,beta2 = 0.999):\n",
    "        eps = 1e-8\n",
    "        best_acc = 0.0\n",
    "        m_w = [np.zeros(la.W.shape) for la in model.layers]\n",
    "        m_b = [np.zeros(la.b.shape) for la in model.layers]\n",
    "        v_w = [np.zeros(la.W.shape) for la in model.layers]\n",
    "        v_b = [np.zeros(la.b.shape) for la in model.layers]\n",
    "        for i in range(epochs):\n",
    "            for j in range(0,inputs.shape[0],batch_size):\n",
    "                inps = inputs[j:min(inputs.shape[0],j+batch_size)]\n",
    "                outs = outputs[j:min(inputs.shape[0],j+batch_size)]\n",
    "                \n",
    "                grads = model.find_gradient(inps,outs)\n",
    "                \n",
    "                for k,lay in enumerate(model.layers):\n",
    "                    dw,db = grads[k]\n",
    "                    dw /= batch_size\n",
    "                    db /= batch_size\n",
    "                    \n",
    "                    m_w[k] = beta1 * m_w[k] + (1-beta1) * dw\n",
    "                    m_b[k] = beta1 * m_b[k] + (1-beta1) * db\n",
    "                    \n",
    "                    v_w[k] = beta2 * v_w[k] + (1-beta2) * dw**2\n",
    "                    v_b[k] = beta2 * v_b[k] + (1-beta2) * db**2\n",
    "                    \n",
    "                    m_w_hat = m_w[k]/(1-math.pow(beta1,i+1))\n",
    "                    m_b_hat = m_b[k]/(1-math.pow(beta1,i+1))\n",
    "                    \n",
    "                    v_w_hat = v_w[k]/(1-math.pow(beta2,i+1))\n",
    "                    v_b_hat = v_b[k]/(1-math.pow(beta2,i+1))\n",
    "                    \n",
    "                    bcalc = (1-beta1)/(1-math.pow(beta1,i+1))\n",
    "                    \n",
    "                    lay.W -= (lr / np.sqrt(v_w_hat + eps)) * ( beta1 * m_w_hat + bcalc * dw)\n",
    "                    lay.b -= (lr / np.sqrt(v_b_hat + eps)) * ( beta1 * m_b_hat + bcalc * db)\n",
    "                    \n",
    "            pred = model.predict(inputs)\n",
    "            regularization = sum([np.sum(lay.W**2)+np.sum(lay.b**2) for lay in model.layers])\n",
    "            loss = model.loss[0](outputs,pred) + regularization * model.lamda / 2\n",
    "            \n",
    "            if val is not None:\n",
    "                xval,yval = val\n",
    "                acc = find_accuracy(model.predict(xval),yval)\n",
    "                if acc >= best_acc:\n",
    "                    best_acc = acc\n",
    "                    best_model = model\n",
    "                    \n",
    "                logging(model,inputs,outputs,xval,yval)\n",
    "                    \n",
    "            print(\"Epoch {} done: Loss = {}\".format(i,loss))\n",
    "            \n",
    "        if val is not None:\n",
    "            model = best_model\n",
    "        return model"
   ]
  },
  {
   "cell_type": "code",
   "execution_count": 133,
   "metadata": {},
   "outputs": [],
   "source": [
    "opts = {\n",
    "    \"sgd\": optimizers.sgd,\n",
    "    \"rmsprop\": optimizers.rmsprop,\n",
    "    \"adam\": optimizers.adam,\n",
    "    \"nadam\": optimizers.nadam,\n",
    "    \"momentum\": optimizers.momentum,\n",
    "    \"nesterov\": optimizers.nesterov\n",
    "}"
   ]
  },
  {
   "cell_type": "code",
   "execution_count": 134,
   "metadata": {},
   "outputs": [],
   "source": [
    "class models:\n",
    "    \n",
    "    def __init__(self,inputs,loss=\"cross_entropy\",optimizer=\"sgd\",lamda=0.0):\n",
    "        self.inputs = inputs\n",
    "        self.layers = []\n",
    "        self.loss = losses[loss]\n",
    "        self.optimizer = opts[optimizer]\n",
    "        self.opt_name = optimizer\n",
    "        self.lamda = lamda\n",
    "        \n",
    "        \n",
    "    def add_layer(self,neurons,weight_init=\"random\",activation=None):\n",
    "        if len(self.layers) == 0:\n",
    "            inps = self.inputs\n",
    "        else:\n",
    "            inps = self.layers[-1].neurons\n",
    "        new_layer = layer(neurons,inps,activation,weight_init=weight_init)\n",
    "        self.layers.append(new_layer)\n",
    "        \n",
    "        \n",
    "    def forward_pass(self,inputs):\n",
    "        res = inputs\n",
    "        for lay in self.layers:\n",
    "            res = lay.run_layer(res)\n",
    "            \n",
    "        return res\n",
    "    \n",
    "    def print(self):\n",
    "        for lay in self.layers:\n",
    "            print(\"Layer : \")\n",
    "            print(\"Input: {}\".format(lay.inputs))\n",
    "            print(\"Neurons: {}\".format(lay.neurons))\n",
    "            \n",
    "    def backward_pass(self,dl_da):\n",
    "        dd = dl_da\n",
    "        grads = []\n",
    "        for lay in reversed(self.layers) :\n",
    "            dd,dw,db = lay.back_pass(dd,lamda=self.lamda)\n",
    "            grads.append((dw,db))\n",
    "            \n",
    "        return grads[::-1]\n",
    "    \n",
    "    def find_gradient(self,inputs,outputs):\n",
    "        pred = self.forward_pass(inputs)\n",
    "        dl_dout = self.loss[1](outputs,pred)\n",
    "        grads = self.backward_pass(dl_dout)\n",
    "        return grads\n",
    "    \n",
    "    def predict(self,inputs):\n",
    "        pred = self.forward_pass(inputs)\n",
    "        return np.array(pred)\n",
    "    \n",
    "        \n",
    "    def train(self,inputs,outputs,val=None,lr=0.01,batch_size=1,epochs=1,v_w=0,v_b=0,beta1=0.9,beta2=0.999,gamma=0.9):\n",
    "        if self.opt_name == \"sgd\":\n",
    "            model = self.optimizer(self,inputs,outputs,val=val,epochs=epochs,lr=lr,\n",
    "                                   batch_size=batch_size)\n",
    "            \n",
    "        elif self.opt_name == \"momentum\":\n",
    "            model = self.optimizer(self,inputs,outputs,val=val,epochs=epochs,lr=lr,batch_size=batch_size,\n",
    "                                   gamma=gamma)\n",
    "            \n",
    "        \n",
    "        elif self.opt_name == \"nesterov\":\n",
    "            model = self.optimizer(self,inputs,outputs,val=val,epochs=epochs,lr=lr,batch_size=batch_size,\n",
    "                                   gamma=gamma)\n",
    "            \n",
    "        elif self.opt_name == \"rmsprop\":\n",
    "            model = self.optimizer(self,inputs,outputs,val=val,epochs=epochs,lr=lr,batch_size=batch_size,\n",
    "                                   beta1=beta1)\n",
    "            \n",
    "        elif self.opt_name == \"adam\":\n",
    "            model = self.optimizer(self,inputs,outputs,val=val,epochs=epochs,lr=lr,batch_size=batch_size,\n",
    "                                   beta1=beta1,beta2=beta2)\n",
    "            \n",
    "        elif self.opt_name == \"nadam\":\n",
    "            model = self.optimizer(self,inputs,outputs,val=val,epochs=epochs,lr=lr,batch_size=batch_size,\n",
    "                                   beta1=beta1,beta2=beta2)\n",
    "            \n",
    "        return model\n",
    "            "
   ]
  },
  {
   "cell_type": "code",
   "execution_count": 135,
   "metadata": {},
   "outputs": [],
   "source": [
    "def transx(x):\n",
    "    l,b,h = x.shape\n",
    "    xt = x.reshape((l,b*h))\n",
    "    xt = xt/np.max(xt)\n",
    "    return xt"
   ]
  },
  {
   "cell_type": "code",
   "execution_count": 136,
   "metadata": {},
   "outputs": [],
   "source": [
    "xt = transx(x_train)"
   ]
  },
  {
   "cell_type": "code",
   "execution_count": 137,
   "metadata": {},
   "outputs": [
    {
     "name": "stdout",
     "output_type": "stream",
     "text": [
      "(60000, 10)\n"
     ]
    }
   ],
   "source": [
    "def one_hot_encoding(a):\n",
    "    b = np.zeros((a.size, a.max()+1))\n",
    "    b[np.arange(a.size),a] = 1\n",
    "    return b\n",
    "\n",
    "yt = one_hot_encoding(y_train)\n",
    "print(yt.shape)"
   ]
  },
  {
   "cell_type": "code",
   "execution_count": 141,
   "metadata": {},
   "outputs": [],
   "source": [
    "# model = models(784,optimizer=\"momentum\")\n",
    "# model.add_layer(32,activation=\"sigmoid\",weight_init=\"xavier\")\n",
    "# model.add_layer(len(class_names),activation=\"sigmoid\")\n",
    "# model.print()"
   ]
  },
  {
   "cell_type": "code",
   "execution_count": 142,
   "metadata": {
    "scrolled": true
   },
   "outputs": [],
   "source": [
    "# trained = model.train(xt,yt,epochs = 10, batch_size = 64)"
   ]
  },
  {
   "cell_type": "code",
   "execution_count": 143,
   "metadata": {},
   "outputs": [],
   "source": [
    "xte = transx(x_test)\n",
    "#pred = np.argmax(trained.predict(xte),axis=1)"
   ]
  },
  {
   "cell_type": "code",
   "execution_count": 144,
   "metadata": {},
   "outputs": [],
   "source": [
    "#print(np.sum(pred==y_test)/y_test.shape[0])"
   ]
  },
  {
   "cell_type": "code",
   "execution_count": 145,
   "metadata": {},
   "outputs": [],
   "source": [
    "import wandb"
   ]
  },
  {
   "cell_type": "code",
   "execution_count": 154,
   "metadata": {},
   "outputs": [],
   "source": [
    "sweep_config = {\n",
    "    'method': 'random', #grid, random\n",
    "    'metric': {\n",
    "      'name': 'validation accuracy',\n",
    "      'goal': 'maximize'   \n",
    "    },\n",
    "    'parameters': {\n",
    "        'epochs': {\n",
    "            'values': [10]\n",
    "        },\n",
    "        'hidden_layers': {\n",
    "            'values': [3,4,5]\n",
    "        },\n",
    "        'hidden_layer_size' : {\n",
    "            'values' : [32,64,128]\n",
    "        },\n",
    "        'lr': {\n",
    "            'values': [1e-3]\n",
    "        },\n",
    "        'optimiser': {\n",
    "            'values': [\"momentum\",\"nesterov\",\"rmsprop\",\"adam\",\"nadam\"]\n",
    "        },\n",
    "        'batch_size': {\n",
    "            'values': [16,32,64]\n",
    "        },\n",
    "        'weight_init': {\n",
    "            'values': [\"xavier\"]\n",
    "        },\n",
    "        'activation': {\n",
    "            'values': [\"sigmoid\",\"tanh\",\"relu\"]\n",
    "        },\n",
    "        'weight_decay': {\n",
    "            'values': [0,0.0005,0.5]\n",
    "        }\n",
    "    }\n",
    "}\n"
   ]
  },
  {
   "cell_type": "code",
   "execution_count": 155,
   "metadata": {},
   "outputs": [
    {
     "data": {
      "text/plain": [
       "True"
      ]
     },
     "execution_count": 155,
     "metadata": {},
     "output_type": "execute_result"
    }
   ],
   "source": [
    "wandb.login()"
   ]
  },
  {
   "cell_type": "code",
   "execution_count": 156,
   "metadata": {},
   "outputs": [
    {
     "name": "stdout",
     "output_type": "stream",
     "text": [
      "Create sweep with ID: lzmcss02\n",
      "Sweep URL: https://wandb.ai/notarchana/CS6910-A1/sweeps/lzmcss02\n"
     ]
    }
   ],
   "source": [
    "sweep_id = wandb.sweep(sweep_config,entity = \"notarchana\" , project = \"cs6910-A1\")"
   ]
  },
  {
   "cell_type": "code",
   "execution_count": 157,
   "metadata": {},
   "outputs": [],
   "source": [
    "from sklearn.model_selection import train_test_split"
   ]
  },
  {
   "cell_type": "code",
   "execution_count": 159,
   "metadata": {},
   "outputs": [],
   "source": [
    "# The sweep calls this function with each set of hyperparameters\n",
    "def train():\n",
    "    # Default values for hyper-parameters we're going to sweep over\n",
    "    config_defaults = {\n",
    "        'epochs': 5,\n",
    "        'hidden_layers': 3,\n",
    "        'lr': 1e-3,\n",
    "        'activation': \"sigmoid\",\n",
    "        'optimiser': \"sgd\",\n",
    "        'batch_size': 32,\n",
    "        'weight_init' : \"random\"\n",
    "    }\n",
    "\n",
    "    # Initialize a new wandb run\n",
    "    wandb.init(config=config_defaults,name=\"hello\")\n",
    "    \n",
    "    config = wandb.config\n",
    "    \n",
    "    name = f'hl_{config.hidden_layers}_bs_{config.batch_size}_ac_{config.activation}_lr_{config.lr}_opt_{config.optimiser}_winit_{config.weight_init}_wd_{config.weight_decay}'\n",
    "    wandb.run.name = name\n",
    "    wandb.run.save()\n",
    "    \n",
    "    # Config is a variable that holds and saves hyperparameters and inputs\n",
    "    \n",
    "    # Splitting test data for cv\n",
    "    xtrain, xval,ytrain,yval = train_test_split(xt,yt,test_size = 0.2)\n",
    "    \n",
    "    model = models(784,optimizer = config.optimiser)\n",
    "    for i in range(config.hidden_layers) :\n",
    "      model.add_layer(config.hidden_layer_size,weight_init=config.weight_init,activation=config.activation)\n",
    "\n",
    "    model.add_layer(len(class_names),activation=\"sigmoid\",weight_init=config.weight_init)\n",
    "    print(\"model building done\")\n",
    "    yte = one_hot_encoding(y_test)\n",
    "    trained = model.train(xtrain,ytrain,val=(xval,yval),lr=config.lr,batch_size=config.batch_size,epochs=config.epochs)\n",
    "\n",
    "    print(\"model training done\")\n"
   ]
  },
  {
   "cell_type": "code",
   "execution_count": 160,
   "metadata": {},
   "outputs": [],
   "source": [
    "np.random.seed(42)"
   ]
  },
  {
   "cell_type": "code",
   "execution_count": 161,
   "metadata": {
    "collapsed": true
   },
   "outputs": [
    {
     "name": "stderr",
     "output_type": "stream",
     "text": [
      "\u001b[34m\u001b[1mwandb\u001b[0m: Agent Starting Run: iejyeosp with config:\n",
      "\u001b[34m\u001b[1mwandb\u001b[0m: \tactivation: relu\n",
      "\u001b[34m\u001b[1mwandb\u001b[0m: \tbatch_size: 64\n",
      "\u001b[34m\u001b[1mwandb\u001b[0m: \tepochs: 10\n",
      "\u001b[34m\u001b[1mwandb\u001b[0m: \thidden_layer_size: 64\n",
      "\u001b[34m\u001b[1mwandb\u001b[0m: \thidden_layers: 5\n",
      "\u001b[34m\u001b[1mwandb\u001b[0m: \tlr: 0.001\n",
      "\u001b[34m\u001b[1mwandb\u001b[0m: \toptimiser: momentum\n",
      "\u001b[34m\u001b[1mwandb\u001b[0m: \tweight_decay: 0.5\n",
      "\u001b[34m\u001b[1mwandb\u001b[0m: \tweight_init: xavier\n"
     ]
    },
    {
     "data": {
      "text/html": [
       "\n",
       "                Tracking run with wandb version 0.10.22<br/>\n",
       "                Syncing run <strong style=\"color:#cdcd00\">hello</strong> to <a href=\"https://wandb.ai\" target=\"_blank\">Weights & Biases</a> <a href=\"https://docs.wandb.com/integrations/jupyter.html\" target=\"_blank\">(Documentation)</a>.<br/>\n",
       "                Project page: <a href=\"https://wandb.ai/notarchana/CS6910-A1\" target=\"_blank\">https://wandb.ai/notarchana/CS6910-A1</a><br/>\n",
       "                Sweep page: <a href=\"https://wandb.ai/notarchana/CS6910-A1/sweeps/lzmcss02\" target=\"_blank\">https://wandb.ai/notarchana/CS6910-A1/sweeps/lzmcss02</a><br/>\n",
       "Run page: <a href=\"https://wandb.ai/notarchana/CS6910-A1/runs/iejyeosp\" target=\"_blank\">https://wandb.ai/notarchana/CS6910-A1/runs/iejyeosp</a><br/>\n",
       "                Run data is saved locally in <code>/home/krishna/iit/sem6/dl/wandb/run-20210311_140727-iejyeosp</code><br/><br/>\n",
       "            "
      ],
      "text/plain": [
       "<IPython.core.display.HTML object>"
      ]
     },
     "metadata": {},
     "output_type": "display_data"
    },
    {
     "name": "stderr",
     "output_type": "stream",
     "text": [
      "\u001b[34m\u001b[1mwandb\u001b[0m: \u001b[33mWARNING\u001b[0m Calling run.save without any arguments is deprecated.Changes to attributes are automatically persisted.\n"
     ]
    },
    {
     "name": "stdout",
     "output_type": "stream",
     "text": [
      "model building done\n",
      "Epoch 0 done: Loss = 18.23444541243299\n",
      "Epoch 1 done: Loss = 18.230901236092542\n",
      "Epoch 2 done: Loss = 18.22712894034692\n",
      "Epoch 3 done: Loss = 18.22310125906368\n",
      "Epoch 4 done: Loss = 18.218786717449476\n",
      "Epoch 5 done: Loss = 18.214145823857894\n",
      "Epoch 6 done: Loss = 18.209131669429034\n",
      "Epoch 7 done: Loss = 18.20368660782642\n",
      "Epoch 8 done: Loss = 18.197740220485375\n",
      "Epoch 9 done: Loss = 18.191203556312864\n",
      "model training done\n"
     ]
    },
    {
     "data": {
      "text/html": [
       "<br/>Waiting for W&B process to finish, PID 58430<br/>Program ended successfully."
      ],
      "text/plain": [
       "<IPython.core.display.HTML object>"
      ]
     },
     "metadata": {},
     "output_type": "display_data"
    },
    {
     "data": {
      "application/vnd.jupyter.widget-view+json": {
       "model_id": "",
       "version_major": 2,
       "version_minor": 0
      },
      "text/plain": [
       "VBox(children=(Label(value=' 0.00MB of 0.00MB uploaded (0.00MB deduped)\\r'), FloatProgress(value=1.0, max=1.0)…"
      ]
     },
     "metadata": {},
     "output_type": "display_data"
    },
    {
     "data": {
      "text/html": [
       "Find user logs for this run at: <code>/home/krishna/iit/sem6/dl/wandb/run-20210311_140727-iejyeosp/logs/debug.log</code>"
      ],
      "text/plain": [
       "<IPython.core.display.HTML object>"
      ]
     },
     "metadata": {},
     "output_type": "display_data"
    },
    {
     "data": {
      "text/html": [
       "Find internal logs for this run at: <code>/home/krishna/iit/sem6/dl/wandb/run-20210311_140727-iejyeosp/logs/debug-internal.log</code>"
      ],
      "text/plain": [
       "<IPython.core.display.HTML object>"
      ]
     },
     "metadata": {},
     "output_type": "display_data"
    },
    {
     "data": {
      "text/html": [
       "<h3>Run summary:</h3><br/><style>\n",
       "    table.wandb td:nth-child(1) { padding: 0 10px; text-align: right }\n",
       "    </style><table class=\"wandb\">\n",
       "<tr><td>train accuracy</td><td>0.09963</td></tr><tr><td>validation accuracy</td><td>0.1015</td></tr><tr><td>train loss</td><td>18.1912</td></tr><tr><td>val loss</td><td>18.18207</td></tr><tr><td>_runtime</td><td>18</td></tr><tr><td>_timestamp</td><td>1615451865</td></tr><tr><td>_step</td><td>9</td></tr></table>"
      ],
      "text/plain": [
       "<IPython.core.display.HTML object>"
      ]
     },
     "metadata": {},
     "output_type": "display_data"
    },
    {
     "data": {
      "text/html": [
       "<h3>Run history:</h3><br/><style>\n",
       "    table.wandb td:nth-child(1) { padding: 0 10px; text-align: right }\n",
       "    </style><table class=\"wandb\">\n",
       "<tr><td>train accuracy</td><td>█▃▁▁▁▁▁▁▁▁</td></tr><tr><td>validation accuracy</td><td>█▃▁▁▁▁▁▁▁▁</td></tr><tr><td>train loss</td><td>█▇▇▆▅▅▄▃▂▁</td></tr><tr><td>val loss</td><td>█▇▇▆▅▅▄▃▂▁</td></tr><tr><td>_runtime</td><td>▁▁▂▃▃▅▅▇▇█</td></tr><tr><td>_timestamp</td><td>▁▁▂▃▃▅▅▇▇█</td></tr><tr><td>_step</td><td>▁▂▃▃▄▅▆▆▇█</td></tr></table><br/>"
      ],
      "text/plain": [
       "<IPython.core.display.HTML object>"
      ]
     },
     "metadata": {},
     "output_type": "display_data"
    },
    {
     "data": {
      "text/html": [
       "Synced 5 W&B file(s), 0 media file(s), 0 artifact file(s) and 0 other file(s)"
      ],
      "text/plain": [
       "<IPython.core.display.HTML object>"
      ]
     },
     "metadata": {},
     "output_type": "display_data"
    },
    {
     "data": {
      "text/html": [
       "\n",
       "                    <br/>Synced <strong style=\"color:#cdcd00\">hello</strong>: <a href=\"https://wandb.ai/notarchana/CS6910-A1/runs/iejyeosp\" target=\"_blank\">https://wandb.ai/notarchana/CS6910-A1/runs/iejyeosp</a><br/>\n",
       "                "
      ],
      "text/plain": [
       "<IPython.core.display.HTML object>"
      ]
     },
     "metadata": {},
     "output_type": "display_data"
    },
    {
     "name": "stderr",
     "output_type": "stream",
     "text": [
      "\u001b[34m\u001b[1mwandb\u001b[0m: Agent Starting Run: p2plaiir with config:\n",
      "\u001b[34m\u001b[1mwandb\u001b[0m: \tactivation: relu\n",
      "\u001b[34m\u001b[1mwandb\u001b[0m: \tbatch_size: 16\n",
      "\u001b[34m\u001b[1mwandb\u001b[0m: \tepochs: 10\n",
      "\u001b[34m\u001b[1mwandb\u001b[0m: \thidden_layer_size: 128\n",
      "\u001b[34m\u001b[1mwandb\u001b[0m: \thidden_layers: 3\n",
      "\u001b[34m\u001b[1mwandb\u001b[0m: \tlr: 0.001\n",
      "\u001b[34m\u001b[1mwandb\u001b[0m: \toptimiser: nadam\n",
      "\u001b[34m\u001b[1mwandb\u001b[0m: \tweight_decay: 0.5\n",
      "\u001b[34m\u001b[1mwandb\u001b[0m: \tweight_init: xavier\n"
     ]
    },
    {
     "data": {
      "text/html": [
       "\n",
       "                Tracking run with wandb version 0.10.22<br/>\n",
       "                Syncing run <strong style=\"color:#cdcd00\">hello</strong> to <a href=\"https://wandb.ai\" target=\"_blank\">Weights & Biases</a> <a href=\"https://docs.wandb.com/integrations/jupyter.html\" target=\"_blank\">(Documentation)</a>.<br/>\n",
       "                Project page: <a href=\"https://wandb.ai/notarchana/CS6910-A1\" target=\"_blank\">https://wandb.ai/notarchana/CS6910-A1</a><br/>\n",
       "                Sweep page: <a href=\"https://wandb.ai/notarchana/CS6910-A1/sweeps/lzmcss02\" target=\"_blank\">https://wandb.ai/notarchana/CS6910-A1/sweeps/lzmcss02</a><br/>\n",
       "Run page: <a href=\"https://wandb.ai/notarchana/CS6910-A1/runs/p2plaiir\" target=\"_blank\">https://wandb.ai/notarchana/CS6910-A1/runs/p2plaiir</a><br/>\n",
       "                Run data is saved locally in <code>/home/krishna/iit/sem6/dl/wandb/run-20210311_140752-p2plaiir</code><br/><br/>\n",
       "            "
      ],
      "text/plain": [
       "<IPython.core.display.HTML object>"
      ]
     },
     "metadata": {},
     "output_type": "display_data"
    },
    {
     "name": "stderr",
     "output_type": "stream",
     "text": [
      "\u001b[34m\u001b[1mwandb\u001b[0m: \u001b[33mWARNING\u001b[0m Calling run.save without any arguments is deprecated.Changes to attributes are automatically persisted.\n"
     ]
    },
    {
     "name": "stdout",
     "output_type": "stream",
     "text": [
      "model building done\n",
      "Epoch 0 done: Loss = 0.46313882769735887\n",
      "Epoch 1 done: Loss = 0.40309527512554266\n",
      "Epoch 2 done: Loss = 0.36998815679543\n",
      "Epoch 3 done: Loss = 0.3524449670931081\n",
      "Epoch 4 done: Loss = 0.3392698939823434\n",
      "Epoch 5 done: Loss = 0.32914151687182275\n",
      "Epoch 6 done: Loss = 0.31844097707709756\n",
      "Epoch 7 done: Loss = 0.30907092992625945\n",
      "Epoch 8 done: Loss = 0.30066239659268174\n",
      "Epoch 9 done: Loss = 0.28569005393760954\n",
      "model training done\n"
     ]
    },
    {
     "data": {
      "text/html": [
       "<br/>Waiting for W&B process to finish, PID 58510<br/>Program ended successfully."
      ],
      "text/plain": [
       "<IPython.core.display.HTML object>"
      ]
     },
     "metadata": {},
     "output_type": "display_data"
    },
    {
     "data": {
      "application/vnd.jupyter.widget-view+json": {
       "model_id": "",
       "version_major": 2,
       "version_minor": 0
      },
      "text/plain": [
       "VBox(children=(Label(value=' 0.00MB of 0.00MB uploaded (0.00MB deduped)\\r'), FloatProgress(value=1.0, max=1.0)…"
      ]
     },
     "metadata": {},
     "output_type": "display_data"
    },
    {
     "data": {
      "text/html": [
       "Find user logs for this run at: <code>/home/krishna/iit/sem6/dl/wandb/run-20210311_140752-p2plaiir/logs/debug.log</code>"
      ],
      "text/plain": [
       "<IPython.core.display.HTML object>"
      ]
     },
     "metadata": {},
     "output_type": "display_data"
    },
    {
     "data": {
      "text/html": [
       "Find internal logs for this run at: <code>/home/krishna/iit/sem6/dl/wandb/run-20210311_140752-p2plaiir/logs/debug-internal.log</code>"
      ],
      "text/plain": [
       "<IPython.core.display.HTML object>"
      ]
     },
     "metadata": {},
     "output_type": "display_data"
    },
    {
     "data": {
      "text/html": [
       "<h3>Run summary:</h3><br/><style>\n",
       "    table.wandb td:nth-child(1) { padding: 0 10px; text-align: right }\n",
       "    </style><table class=\"wandb\">\n",
       "<tr><td>train accuracy</td><td>0.90804</td></tr><tr><td>validation accuracy</td><td>0.88567</td></tr><tr><td>train loss</td><td>0.28569</td></tr><tr><td>val loss</td><td>0.34429</td></tr><tr><td>_runtime</td><td>186</td></tr><tr><td>_timestamp</td><td>1615452058</td></tr><tr><td>_step</td><td>9</td></tr></table>"
      ],
      "text/plain": [
       "<IPython.core.display.HTML object>"
      ]
     },
     "metadata": {},
     "output_type": "display_data"
    },
    {
     "data": {
      "text/html": [
       "<h3>Run history:</h3><br/><style>\n",
       "    table.wandb td:nth-child(1) { padding: 0 10px; text-align: right }\n",
       "    </style><table class=\"wandb\">\n",
       "<tr><td>train accuracy</td><td>▁▃▄▅▅▆▆▇▇█</td></tr><tr><td>validation accuracy</td><td>▁▃▅▅▅▆▆▇▇█</td></tr><tr><td>train loss</td><td>█▆▄▄▃▃▂▂▂▁</td></tr><tr><td>val loss</td><td>█▅▄▃▂▂▂▂▂▁</td></tr><tr><td>_runtime</td><td>▁▁▂▃▄▅▅▆▇█</td></tr><tr><td>_timestamp</td><td>▁▁▂▃▄▅▅▆▇█</td></tr><tr><td>_step</td><td>▁▂▃▃▄▅▆▆▇█</td></tr></table><br/>"
      ],
      "text/plain": [
       "<IPython.core.display.HTML object>"
      ]
     },
     "metadata": {},
     "output_type": "display_data"
    },
    {
     "data": {
      "text/html": [
       "Synced 5 W&B file(s), 0 media file(s), 0 artifact file(s) and 0 other file(s)"
      ],
      "text/plain": [
       "<IPython.core.display.HTML object>"
      ]
     },
     "metadata": {},
     "output_type": "display_data"
    },
    {
     "data": {
      "text/html": [
       "\n",
       "                    <br/>Synced <strong style=\"color:#cdcd00\">hello</strong>: <a href=\"https://wandb.ai/notarchana/CS6910-A1/runs/p2plaiir\" target=\"_blank\">https://wandb.ai/notarchana/CS6910-A1/runs/p2plaiir</a><br/>\n",
       "                "
      ],
      "text/plain": [
       "<IPython.core.display.HTML object>"
      ]
     },
     "metadata": {},
     "output_type": "display_data"
    },
    {
     "name": "stderr",
     "output_type": "stream",
     "text": [
      "\u001b[34m\u001b[1mwandb\u001b[0m: Agent Starting Run: rsceyb9y with config:\n",
      "\u001b[34m\u001b[1mwandb\u001b[0m: \tactivation: tanh\n",
      "\u001b[34m\u001b[1mwandb\u001b[0m: \tbatch_size: 32\n",
      "\u001b[34m\u001b[1mwandb\u001b[0m: \tepochs: 10\n",
      "\u001b[34m\u001b[1mwandb\u001b[0m: \thidden_layer_size: 128\n",
      "\u001b[34m\u001b[1mwandb\u001b[0m: \thidden_layers: 5\n",
      "\u001b[34m\u001b[1mwandb\u001b[0m: \tlr: 0.001\n",
      "\u001b[34m\u001b[1mwandb\u001b[0m: \toptimiser: nadam\n",
      "\u001b[34m\u001b[1mwandb\u001b[0m: \tweight_decay: 0.5\n",
      "\u001b[34m\u001b[1mwandb\u001b[0m: \tweight_init: xavier\n"
     ]
    },
    {
     "data": {
      "text/html": [
       "\n",
       "                Tracking run with wandb version 0.10.22<br/>\n",
       "                Syncing run <strong style=\"color:#cdcd00\">hello</strong> to <a href=\"https://wandb.ai\" target=\"_blank\">Weights & Biases</a> <a href=\"https://docs.wandb.com/integrations/jupyter.html\" target=\"_blank\">(Documentation)</a>.<br/>\n",
       "                Project page: <a href=\"https://wandb.ai/notarchana/CS6910-A1\" target=\"_blank\">https://wandb.ai/notarchana/CS6910-A1</a><br/>\n",
       "                Sweep page: <a href=\"https://wandb.ai/notarchana/CS6910-A1/sweeps/lzmcss02\" target=\"_blank\">https://wandb.ai/notarchana/CS6910-A1/sweeps/lzmcss02</a><br/>\n",
       "Run page: <a href=\"https://wandb.ai/notarchana/CS6910-A1/runs/rsceyb9y\" target=\"_blank\">https://wandb.ai/notarchana/CS6910-A1/runs/rsceyb9y</a><br/>\n",
       "                Run data is saved locally in <code>/home/krishna/iit/sem6/dl/wandb/run-20210311_141105-rsceyb9y</code><br/><br/>\n",
       "            "
      ],
      "text/plain": [
       "<IPython.core.display.HTML object>"
      ]
     },
     "metadata": {},
     "output_type": "display_data"
    },
    {
     "name": "stderr",
     "output_type": "stream",
     "text": [
      "\u001b[34m\u001b[1mwandb\u001b[0m: \u001b[33mWARNING\u001b[0m Calling run.save without any arguments is deprecated.Changes to attributes are automatically persisted.\n"
     ]
    },
    {
     "name": "stdout",
     "output_type": "stream",
     "text": [
      "model building done\n",
      "Epoch 0 done: Loss = 0.39056230243209983\n",
      "Epoch 1 done: Loss = 0.35156656567531386\n",
      "Epoch 2 done: Loss = 0.3298256222434937\n",
      "Epoch 3 done: Loss = 0.31423119300402047\n",
      "Epoch 4 done: Loss = 0.30473700825784084\n",
      "Epoch 5 done: Loss = 0.29973320252523117\n",
      "Epoch 6 done: Loss = 0.29529824397267723\n",
      "Epoch 7 done: Loss = 0.29300231306119184\n",
      "Epoch 8 done: Loss = 0.29341223996606025\n",
      "Epoch 9 done: Loss = 0.2907644634724762\n",
      "model training done\n"
     ]
    },
    {
     "data": {
      "text/html": [
       "<br/>Waiting for W&B process to finish, PID 58657<br/>Program ended successfully."
      ],
      "text/plain": [
       "<IPython.core.display.HTML object>"
      ]
     },
     "metadata": {},
     "output_type": "display_data"
    },
    {
     "data": {
      "application/vnd.jupyter.widget-view+json": {
       "model_id": "",
       "version_major": 2,
       "version_minor": 0
      },
      "text/plain": [
       "VBox(children=(Label(value=' 0.00MB of 0.00MB uploaded (0.00MB deduped)\\r'), FloatProgress(value=1.0, max=1.0)…"
      ]
     },
     "metadata": {},
     "output_type": "display_data"
    },
    {
     "data": {
      "text/html": [
       "Find user logs for this run at: <code>/home/krishna/iit/sem6/dl/wandb/run-20210311_141105-rsceyb9y/logs/debug.log</code>"
      ],
      "text/plain": [
       "<IPython.core.display.HTML object>"
      ]
     },
     "metadata": {},
     "output_type": "display_data"
    },
    {
     "data": {
      "text/html": [
       "Find internal logs for this run at: <code>/home/krishna/iit/sem6/dl/wandb/run-20210311_141105-rsceyb9y/logs/debug-internal.log</code>"
      ],
      "text/plain": [
       "<IPython.core.display.HTML object>"
      ]
     },
     "metadata": {},
     "output_type": "display_data"
    },
    {
     "data": {
      "text/html": [
       "<h3>Run summary:</h3><br/><style>\n",
       "    table.wandb td:nth-child(1) { padding: 0 10px; text-align: right }\n",
       "    </style><table class=\"wandb\">\n",
       "<tr><td>train accuracy</td><td>0.9051</td></tr><tr><td>validation accuracy</td><td>0.87892</td></tr><tr><td>train loss</td><td>0.29076</td></tr><tr><td>val loss</td><td>0.3569</td></tr><tr><td>_runtime</td><td>140</td></tr><tr><td>_timestamp</td><td>1615452205</td></tr><tr><td>_step</td><td>9</td></tr></table>"
      ],
      "text/plain": [
       "<IPython.core.display.HTML object>"
      ]
     },
     "metadata": {},
     "output_type": "display_data"
    },
    {
     "data": {
      "text/html": [
       "<h3>Run history:</h3><br/><style>\n",
       "    table.wandb td:nth-child(1) { padding: 0 10px; text-align: right }\n",
       "    </style><table class=\"wandb\">\n",
       "<tr><td>train accuracy</td><td>▁▄▅▆▇▇████</td></tr><tr><td>validation accuracy</td><td>▁▅▆▇▇▇████</td></tr><tr><td>train loss</td><td>█▅▄▃▂▂▁▁▁▁</td></tr><tr><td>val loss</td><td>█▅▃▂▁▁▁▁▂▂</td></tr><tr><td>_runtime</td><td>▁▂▃▃▄▅▆▇▇█</td></tr><tr><td>_timestamp</td><td>▁▂▃▃▄▅▆▇▇█</td></tr><tr><td>_step</td><td>▁▂▃▃▄▅▆▆▇█</td></tr></table><br/>"
      ],
      "text/plain": [
       "<IPython.core.display.HTML object>"
      ]
     },
     "metadata": {},
     "output_type": "display_data"
    },
    {
     "data": {
      "text/html": [
       "Synced 5 W&B file(s), 0 media file(s), 0 artifact file(s) and 0 other file(s)"
      ],
      "text/plain": [
       "<IPython.core.display.HTML object>"
      ]
     },
     "metadata": {},
     "output_type": "display_data"
    },
    {
     "data": {
      "text/html": [
       "\n",
       "                    <br/>Synced <strong style=\"color:#cdcd00\">hello</strong>: <a href=\"https://wandb.ai/notarchana/CS6910-A1/runs/rsceyb9y\" target=\"_blank\">https://wandb.ai/notarchana/CS6910-A1/runs/rsceyb9y</a><br/>\n",
       "                "
      ],
      "text/plain": [
       "<IPython.core.display.HTML object>"
      ]
     },
     "metadata": {},
     "output_type": "display_data"
    },
    {
     "name": "stderr",
     "output_type": "stream",
     "text": [
      "\u001b[34m\u001b[1mwandb\u001b[0m: Agent Starting Run: odbstta2 with config:\n",
      "\u001b[34m\u001b[1mwandb\u001b[0m: \tactivation: tanh\n",
      "\u001b[34m\u001b[1mwandb\u001b[0m: \tbatch_size: 64\n",
      "\u001b[34m\u001b[1mwandb\u001b[0m: \tepochs: 10\n",
      "\u001b[34m\u001b[1mwandb\u001b[0m: \thidden_layer_size: 32\n",
      "\u001b[34m\u001b[1mwandb\u001b[0m: \thidden_layers: 4\n",
      "\u001b[34m\u001b[1mwandb\u001b[0m: \tlr: 0.001\n",
      "\u001b[34m\u001b[1mwandb\u001b[0m: \toptimiser: nesterov\n",
      "\u001b[34m\u001b[1mwandb\u001b[0m: \tweight_decay: 0.5\n",
      "\u001b[34m\u001b[1mwandb\u001b[0m: \tweight_init: xavier\n"
     ]
    },
    {
     "data": {
      "text/html": [
       "\n",
       "                Tracking run with wandb version 0.10.22<br/>\n",
       "                Syncing run <strong style=\"color:#cdcd00\">hello</strong> to <a href=\"https://wandb.ai\" target=\"_blank\">Weights & Biases</a> <a href=\"https://docs.wandb.com/integrations/jupyter.html\" target=\"_blank\">(Documentation)</a>.<br/>\n",
       "                Project page: <a href=\"https://wandb.ai/notarchana/CS6910-A1\" target=\"_blank\">https://wandb.ai/notarchana/CS6910-A1</a><br/>\n",
       "                Sweep page: <a href=\"https://wandb.ai/notarchana/CS6910-A1/sweeps/lzmcss02\" target=\"_blank\">https://wandb.ai/notarchana/CS6910-A1/sweeps/lzmcss02</a><br/>\n",
       "Run page: <a href=\"https://wandb.ai/notarchana/CS6910-A1/runs/odbstta2\" target=\"_blank\">https://wandb.ai/notarchana/CS6910-A1/runs/odbstta2</a><br/>\n",
       "                Run data is saved locally in <code>/home/krishna/iit/sem6/dl/wandb/run-20210311_141332-odbstta2</code><br/><br/>\n",
       "            "
      ],
      "text/plain": [
       "<IPython.core.display.HTML object>"
      ]
     },
     "metadata": {},
     "output_type": "display_data"
    },
    {
     "name": "stderr",
     "output_type": "stream",
     "text": [
      "\u001b[34m\u001b[1mwandb\u001b[0m: \u001b[33mWARNING\u001b[0m Calling run.save without any arguments is deprecated.Changes to attributes are automatically persisted.\n"
     ]
    },
    {
     "name": "stdout",
     "output_type": "stream",
     "text": [
      "model building done\n",
      "Epoch 0 done: Loss = 1.4923195257829032\n",
      "Epoch 1 done: Loss = 1.184080344592949\n",
      "Epoch 2 done: Loss = 0.9618246765788007\n",
      "Epoch 3 done: Loss = 0.8245020772519288\n",
      "Epoch 4 done: Loss = 0.7446812885192597\n",
      "Epoch 5 done: Loss = 0.6863426216841331\n",
      "Epoch 6 done: Loss = 0.6400870497353396\n",
      "Epoch 7 done: Loss = 0.603719916316958\n",
      "Epoch 8 done: Loss = 0.5748176048223994\n",
      "Epoch 9 done: Loss = 0.550925943118113\n",
      "model training done\n"
     ]
    },
    {
     "data": {
      "text/html": [
       "<br/>Waiting for W&B process to finish, PID 58716<br/>Program ended successfully."
      ],
      "text/plain": [
       "<IPython.core.display.HTML object>"
      ]
     },
     "metadata": {},
     "output_type": "display_data"
    },
    {
     "data": {
      "application/vnd.jupyter.widget-view+json": {
       "model_id": "",
       "version_major": 2,
       "version_minor": 0
      },
      "text/plain": [
       "VBox(children=(Label(value=' 0.00MB of 0.00MB uploaded (0.00MB deduped)\\r'), FloatProgress(value=1.0, max=1.0)…"
      ]
     },
     "metadata": {},
     "output_type": "display_data"
    },
    {
     "data": {
      "text/html": [
       "Find user logs for this run at: <code>/home/krishna/iit/sem6/dl/wandb/run-20210311_141332-odbstta2/logs/debug.log</code>"
      ],
      "text/plain": [
       "<IPython.core.display.HTML object>"
      ]
     },
     "metadata": {},
     "output_type": "display_data"
    },
    {
     "data": {
      "text/html": [
       "Find internal logs for this run at: <code>/home/krishna/iit/sem6/dl/wandb/run-20210311_141332-odbstta2/logs/debug-internal.log</code>"
      ],
      "text/plain": [
       "<IPython.core.display.HTML object>"
      ]
     },
     "metadata": {},
     "output_type": "display_data"
    },
    {
     "data": {
      "text/html": [
       "<h3>Run summary:</h3><br/><style>\n",
       "    table.wandb td:nth-child(1) { padding: 0 10px; text-align: right }\n",
       "    </style><table class=\"wandb\">\n",
       "<tr><td>train accuracy</td><td>0.82117</td></tr><tr><td>validation accuracy</td><td>0.815</td></tr><tr><td>train loss</td><td>0.55093</td></tr><tr><td>val loss</td><td>0.55942</td></tr><tr><td>_runtime</td><td>24</td></tr><tr><td>_timestamp</td><td>1615452236</td></tr><tr><td>_step</td><td>9</td></tr></table>"
      ],
      "text/plain": [
       "<IPython.core.display.HTML object>"
      ]
     },
     "metadata": {},
     "output_type": "display_data"
    },
    {
     "data": {
      "text/html": [
       "<h3>Run history:</h3><br/><style>\n",
       "    table.wandb td:nth-child(1) { padding: 0 10px; text-align: right }\n",
       "    </style><table class=\"wandb\">\n",
       "<tr><td>train accuracy</td><td>▁▄▆▇▇▇▇███</td></tr><tr><td>validation accuracy</td><td>▁▄▆▇▇▇▇███</td></tr><tr><td>train loss</td><td>█▆▄▃▂▂▂▁▁▁</td></tr><tr><td>val loss</td><td>█▆▄▃▂▂▂▁▁▁</td></tr><tr><td>_runtime</td><td>▁▂▃▃▅▅▆▇▇█</td></tr><tr><td>_timestamp</td><td>▁▂▃▃▅▅▆▇▇█</td></tr><tr><td>_step</td><td>▁▂▃▃▄▅▆▆▇█</td></tr></table><br/>"
      ],
      "text/plain": [
       "<IPython.core.display.HTML object>"
      ]
     },
     "metadata": {},
     "output_type": "display_data"
    },
    {
     "data": {
      "text/html": [
       "Synced 5 W&B file(s), 0 media file(s), 0 artifact file(s) and 0 other file(s)"
      ],
      "text/plain": [
       "<IPython.core.display.HTML object>"
      ]
     },
     "metadata": {},
     "output_type": "display_data"
    },
    {
     "data": {
      "text/html": [
       "\n",
       "                    <br/>Synced <strong style=\"color:#cdcd00\">hello</strong>: <a href=\"https://wandb.ai/notarchana/CS6910-A1/runs/odbstta2\" target=\"_blank\">https://wandb.ai/notarchana/CS6910-A1/runs/odbstta2</a><br/>\n",
       "                "
      ],
      "text/plain": [
       "<IPython.core.display.HTML object>"
      ]
     },
     "metadata": {},
     "output_type": "display_data"
    },
    {
     "name": "stderr",
     "output_type": "stream",
     "text": [
      "\u001b[34m\u001b[1mwandb\u001b[0m: Agent Starting Run: wvhdfi7v with config:\n",
      "\u001b[34m\u001b[1mwandb\u001b[0m: \tactivation: relu\n",
      "\u001b[34m\u001b[1mwandb\u001b[0m: \tbatch_size: 32\n",
      "\u001b[34m\u001b[1mwandb\u001b[0m: \tepochs: 10\n",
      "\u001b[34m\u001b[1mwandb\u001b[0m: \thidden_layer_size: 128\n",
      "\u001b[34m\u001b[1mwandb\u001b[0m: \thidden_layers: 4\n",
      "\u001b[34m\u001b[1mwandb\u001b[0m: \tlr: 0.001\n",
      "\u001b[34m\u001b[1mwandb\u001b[0m: \toptimiser: rmsprop\n",
      "\u001b[34m\u001b[1mwandb\u001b[0m: \tweight_decay: 0\n",
      "\u001b[34m\u001b[1mwandb\u001b[0m: \tweight_init: xavier\n"
     ]
    },
    {
     "data": {
      "text/html": [
       "\n",
       "                Tracking run with wandb version 0.10.22<br/>\n",
       "                Syncing run <strong style=\"color:#cdcd00\">hello</strong> to <a href=\"https://wandb.ai\" target=\"_blank\">Weights & Biases</a> <a href=\"https://docs.wandb.com/integrations/jupyter.html\" target=\"_blank\">(Documentation)</a>.<br/>\n",
       "                Project page: <a href=\"https://wandb.ai/notarchana/CS6910-A1\" target=\"_blank\">https://wandb.ai/notarchana/CS6910-A1</a><br/>\n",
       "                Sweep page: <a href=\"https://wandb.ai/notarchana/CS6910-A1/sweeps/lzmcss02\" target=\"_blank\">https://wandb.ai/notarchana/CS6910-A1/sweeps/lzmcss02</a><br/>\n",
       "Run page: <a href=\"https://wandb.ai/notarchana/CS6910-A1/runs/wvhdfi7v\" target=\"_blank\">https://wandb.ai/notarchana/CS6910-A1/runs/wvhdfi7v</a><br/>\n",
       "                Run data is saved locally in <code>/home/krishna/iit/sem6/dl/wandb/run-20210311_141403-wvhdfi7v</code><br/><br/>\n",
       "            "
      ],
      "text/plain": [
       "<IPython.core.display.HTML object>"
      ]
     },
     "metadata": {},
     "output_type": "display_data"
    },
    {
     "name": "stderr",
     "output_type": "stream",
     "text": [
      "\u001b[34m\u001b[1mwandb\u001b[0m: \u001b[33mWARNING\u001b[0m Calling run.save without any arguments is deprecated.Changes to attributes are automatically persisted.\n"
     ]
    },
    {
     "name": "stdout",
     "output_type": "stream",
     "text": [
      "model building done\n",
      "Epoch 0 done: Loss = 0.4104842548625537\n",
      "Epoch 1 done: Loss = 0.38122065330683935\n",
      "Epoch 2 done: Loss = 0.3656008836790278\n",
      "Epoch 3 done: Loss = 0.38143373791536045\n",
      "Epoch 4 done: Loss = 0.36930754237459307\n",
      "Epoch 5 done: Loss = 0.36021972028105054\n",
      "Epoch 6 done: Loss = 0.3959458583759394\n",
      "Epoch 7 done: Loss = 0.42640089711731827\n",
      "Epoch 8 done: Loss = 0.4264631327648925\n",
      "Epoch 9 done: Loss = 0.42701316811923246\n",
      "model training done\n"
     ]
    },
    {
     "data": {
      "text/html": [
       "<br/>Waiting for W&B process to finish, PID 58748<br/>Program ended successfully."
      ],
      "text/plain": [
       "<IPython.core.display.HTML object>"
      ]
     },
     "metadata": {},
     "output_type": "display_data"
    },
    {
     "data": {
      "application/vnd.jupyter.widget-view+json": {
       "model_id": "",
       "version_major": 2,
       "version_minor": 0
      },
      "text/plain": [
       "VBox(children=(Label(value=' 0.00MB of 0.00MB uploaded (0.00MB deduped)\\r'), FloatProgress(value=1.0, max=1.0)…"
      ]
     },
     "metadata": {},
     "output_type": "display_data"
    },
    {
     "data": {
      "text/html": [
       "Find user logs for this run at: <code>/home/krishna/iit/sem6/dl/wandb/run-20210311_141403-wvhdfi7v/logs/debug.log</code>"
      ],
      "text/plain": [
       "<IPython.core.display.HTML object>"
      ]
     },
     "metadata": {},
     "output_type": "display_data"
    },
    {
     "data": {
      "text/html": [
       "Find internal logs for this run at: <code>/home/krishna/iit/sem6/dl/wandb/run-20210311_141403-wvhdfi7v/logs/debug-internal.log</code>"
      ],
      "text/plain": [
       "<IPython.core.display.HTML object>"
      ]
     },
     "metadata": {},
     "output_type": "display_data"
    },
    {
     "data": {
      "text/html": [
       "<h3>Run summary:</h3><br/><style>\n",
       "    table.wandb td:nth-child(1) { padding: 0 10px; text-align: right }\n",
       "    </style><table class=\"wandb\">\n",
       "<tr><td>train accuracy</td><td>0.89608</td></tr><tr><td>validation accuracy</td><td>0.87758</td></tr><tr><td>train loss</td><td>0.42701</td></tr><tr><td>val loss</td><td>0.52858</td></tr><tr><td>_runtime</td><td>57</td></tr><tr><td>_timestamp</td><td>1615452300</td></tr><tr><td>_step</td><td>9</td></tr></table>"
      ],
      "text/plain": [
       "<IPython.core.display.HTML object>"
      ]
     },
     "metadata": {},
     "output_type": "display_data"
    },
    {
     "data": {
      "text/html": [
       "<h3>Run history:</h3><br/><style>\n",
       "    table.wandb td:nth-child(1) { padding: 0 10px; text-align: right }\n",
       "    </style><table class=\"wandb\">\n",
       "<tr><td>train accuracy</td><td>▁▃▅▆▆█▇▇██</td></tr><tr><td>validation accuracy</td><td>▁▄▆▅▇█▆▇▇▇</td></tr><tr><td>train loss</td><td>▆▃▂▃▂▁▅███</td></tr><tr><td>val loss</td><td>▂▁▁▃▂▂▅███</td></tr><tr><td>_runtime</td><td>▁▂▃▃▄▅▅▆▇█</td></tr><tr><td>_timestamp</td><td>▁▂▃▃▄▅▅▆▇█</td></tr><tr><td>_step</td><td>▁▂▃▃▄▅▆▆▇█</td></tr></table><br/>"
      ],
      "text/plain": [
       "<IPython.core.display.HTML object>"
      ]
     },
     "metadata": {},
     "output_type": "display_data"
    },
    {
     "data": {
      "text/html": [
       "Synced 5 W&B file(s), 0 media file(s), 0 artifact file(s) and 0 other file(s)"
      ],
      "text/plain": [
       "<IPython.core.display.HTML object>"
      ]
     },
     "metadata": {},
     "output_type": "display_data"
    },
    {
     "data": {
      "text/html": [
       "\n",
       "                    <br/>Synced <strong style=\"color:#cdcd00\">hello</strong>: <a href=\"https://wandb.ai/notarchana/CS6910-A1/runs/wvhdfi7v\" target=\"_blank\">https://wandb.ai/notarchana/CS6910-A1/runs/wvhdfi7v</a><br/>\n",
       "                "
      ],
      "text/plain": [
       "<IPython.core.display.HTML object>"
      ]
     },
     "metadata": {},
     "output_type": "display_data"
    },
    {
     "name": "stderr",
     "output_type": "stream",
     "text": [
      "\u001b[34m\u001b[1mwandb\u001b[0m: Agent Starting Run: 1zfc4kh9 with config:\n",
      "\u001b[34m\u001b[1mwandb\u001b[0m: \tactivation: sigmoid\n",
      "\u001b[34m\u001b[1mwandb\u001b[0m: \tbatch_size: 32\n",
      "\u001b[34m\u001b[1mwandb\u001b[0m: \tepochs: 10\n",
      "\u001b[34m\u001b[1mwandb\u001b[0m: \thidden_layer_size: 32\n",
      "\u001b[34m\u001b[1mwandb\u001b[0m: \thidden_layers: 3\n",
      "\u001b[34m\u001b[1mwandb\u001b[0m: \tlr: 0.001\n",
      "\u001b[34m\u001b[1mwandb\u001b[0m: \toptimiser: momentum\n",
      "\u001b[34m\u001b[1mwandb\u001b[0m: \tweight_decay: 0\n",
      "\u001b[34m\u001b[1mwandb\u001b[0m: \tweight_init: xavier\n"
     ]
    },
    {
     "data": {
      "text/html": [
       "\n",
       "                Tracking run with wandb version 0.10.22<br/>\n",
       "                Syncing run <strong style=\"color:#cdcd00\">hello</strong> to <a href=\"https://wandb.ai\" target=\"_blank\">Weights & Biases</a> <a href=\"https://docs.wandb.com/integrations/jupyter.html\" target=\"_blank\">(Documentation)</a>.<br/>\n",
       "                Project page: <a href=\"https://wandb.ai/notarchana/CS6910-A1\" target=\"_blank\">https://wandb.ai/notarchana/CS6910-A1</a><br/>\n",
       "                Sweep page: <a href=\"https://wandb.ai/notarchana/CS6910-A1/sweeps/lzmcss02\" target=\"_blank\">https://wandb.ai/notarchana/CS6910-A1/sweeps/lzmcss02</a><br/>\n",
       "Run page: <a href=\"https://wandb.ai/notarchana/CS6910-A1/runs/1zfc4kh9\" target=\"_blank\">https://wandb.ai/notarchana/CS6910-A1/runs/1zfc4kh9</a><br/>\n",
       "                Run data is saved locally in <code>/home/krishna/iit/sem6/dl/wandb/run-20210311_141507-1zfc4kh9</code><br/><br/>\n",
       "            "
      ],
      "text/plain": [
       "<IPython.core.display.HTML object>"
      ]
     },
     "metadata": {},
     "output_type": "display_data"
    },
    {
     "name": "stderr",
     "output_type": "stream",
     "text": [
      "\u001b[34m\u001b[1mwandb\u001b[0m: \u001b[33mWARNING\u001b[0m Calling run.save without any arguments is deprecated.Changes to attributes are automatically persisted.\n"
     ]
    },
    {
     "name": "stdout",
     "output_type": "stream",
     "text": [
      "model building done\n",
      "Epoch 0 done: Loss = 2.150356679711922\n",
      "Epoch 1 done: Loss = 1.5558491859683445\n",
      "Epoch 2 done: Loss = 1.1026815281352311\n",
      "Epoch 3 done: Loss = 0.9315353500395451\n",
      "Epoch 4 done: Loss = 0.7864288883179674\n",
      "Epoch 5 done: Loss = 0.6907430960274779\n",
      "Epoch 6 done: Loss = 0.6299974858503329\n",
      "Epoch 7 done: Loss = 0.591114222811364\n",
      "Epoch 8 done: Loss = 0.5647583371761515\n",
      "Epoch 9 done: Loss = 0.5465760676964366\n",
      "model training done\n"
     ]
    },
    {
     "data": {
      "text/html": [
       "<br/>Waiting for W&B process to finish, PID 58797<br/>Program ended successfully."
      ],
      "text/plain": [
       "<IPython.core.display.HTML object>"
      ]
     },
     "metadata": {},
     "output_type": "display_data"
    },
    {
     "data": {
      "application/vnd.jupyter.widget-view+json": {
       "model_id": "",
       "version_major": 2,
       "version_minor": 0
      },
      "text/plain": [
       "VBox(children=(Label(value=' 0.00MB of 0.00MB uploaded (0.00MB deduped)\\r'), FloatProgress(value=1.0, max=1.0)…"
      ]
     },
     "metadata": {},
     "output_type": "display_data"
    },
    {
     "data": {
      "text/html": [
       "Find user logs for this run at: <code>/home/krishna/iit/sem6/dl/wandb/run-20210311_141507-1zfc4kh9/logs/debug.log</code>"
      ],
      "text/plain": [
       "<IPython.core.display.HTML object>"
      ]
     },
     "metadata": {},
     "output_type": "display_data"
    },
    {
     "data": {
      "text/html": [
       "Find internal logs for this run at: <code>/home/krishna/iit/sem6/dl/wandb/run-20210311_141507-1zfc4kh9/logs/debug-internal.log</code>"
      ],
      "text/plain": [
       "<IPython.core.display.HTML object>"
      ]
     },
     "metadata": {},
     "output_type": "display_data"
    },
    {
     "data": {
      "text/html": [
       "<h3>Run summary:</h3><br/><style>\n",
       "    table.wandb td:nth-child(1) { padding: 0 10px; text-align: right }\n",
       "    </style><table class=\"wandb\">\n",
       "<tr><td>train accuracy</td><td>0.84229</td></tr><tr><td>validation accuracy</td><td>0.83317</td></tr><tr><td>train loss</td><td>0.54658</td></tr><tr><td>val loss</td><td>0.56759</td></tr><tr><td>_runtime</td><td>22</td></tr><tr><td>_timestamp</td><td>1615452329</td></tr><tr><td>_step</td><td>9</td></tr></table>"
      ],
      "text/plain": [
       "<IPython.core.display.HTML object>"
      ]
     },
     "metadata": {},
     "output_type": "display_data"
    },
    {
     "data": {
      "text/html": [
       "<h3>Run history:</h3><br/><style>\n",
       "    table.wandb td:nth-child(1) { padding: 0 10px; text-align: right }\n",
       "    </style><table class=\"wandb\">\n",
       "<tr><td>train accuracy</td><td>▁▂▅▆▆▇▇███</td></tr><tr><td>validation accuracy</td><td>▁▂▅▆▇▇▇███</td></tr><tr><td>train loss</td><td>█▅▃▃▂▂▁▁▁▁</td></tr><tr><td>val loss</td><td>█▅▃▃▂▂▁▁▁▁</td></tr><tr><td>_runtime</td><td>▁▂▃▃▄▅▆▆▇█</td></tr><tr><td>_timestamp</td><td>▁▂▃▃▄▅▆▆▇█</td></tr><tr><td>_step</td><td>▁▂▃▃▄▅▆▆▇█</td></tr></table><br/>"
      ],
      "text/plain": [
       "<IPython.core.display.HTML object>"
      ]
     },
     "metadata": {},
     "output_type": "display_data"
    },
    {
     "data": {
      "text/html": [
       "Synced 5 W&B file(s), 0 media file(s), 0 artifact file(s) and 0 other file(s)"
      ],
      "text/plain": [
       "<IPython.core.display.HTML object>"
      ]
     },
     "metadata": {},
     "output_type": "display_data"
    },
    {
     "data": {
      "text/html": [
       "\n",
       "                    <br/>Synced <strong style=\"color:#cdcd00\">hello</strong>: <a href=\"https://wandb.ai/notarchana/CS6910-A1/runs/1zfc4kh9\" target=\"_blank\">https://wandb.ai/notarchana/CS6910-A1/runs/1zfc4kh9</a><br/>\n",
       "                "
      ],
      "text/plain": [
       "<IPython.core.display.HTML object>"
      ]
     },
     "metadata": {},
     "output_type": "display_data"
    },
    {
     "name": "stderr",
     "output_type": "stream",
     "text": [
      "\u001b[34m\u001b[1mwandb\u001b[0m: Agent Starting Run: yv3wwdrp with config:\n",
      "\u001b[34m\u001b[1mwandb\u001b[0m: \tactivation: relu\n",
      "\u001b[34m\u001b[1mwandb\u001b[0m: \tbatch_size: 64\n",
      "\u001b[34m\u001b[1mwandb\u001b[0m: \tepochs: 10\n",
      "\u001b[34m\u001b[1mwandb\u001b[0m: \thidden_layer_size: 128\n",
      "\u001b[34m\u001b[1mwandb\u001b[0m: \thidden_layers: 4\n",
      "\u001b[34m\u001b[1mwandb\u001b[0m: \tlr: 0.001\n",
      "\u001b[34m\u001b[1mwandb\u001b[0m: \toptimiser: nadam\n",
      "\u001b[34m\u001b[1mwandb\u001b[0m: \tweight_decay: 0\n",
      "\u001b[34m\u001b[1mwandb\u001b[0m: \tweight_init: xavier\n"
     ]
    },
    {
     "data": {
      "text/html": [
       "\n",
       "                Tracking run with wandb version 0.10.22<br/>\n",
       "                Syncing run <strong style=\"color:#cdcd00\">hello</strong> to <a href=\"https://wandb.ai\" target=\"_blank\">Weights & Biases</a> <a href=\"https://docs.wandb.com/integrations/jupyter.html\" target=\"_blank\">(Documentation)</a>.<br/>\n",
       "                Project page: <a href=\"https://wandb.ai/notarchana/CS6910-A1\" target=\"_blank\">https://wandb.ai/notarchana/CS6910-A1</a><br/>\n",
       "                Sweep page: <a href=\"https://wandb.ai/notarchana/CS6910-A1/sweeps/lzmcss02\" target=\"_blank\">https://wandb.ai/notarchana/CS6910-A1/sweeps/lzmcss02</a><br/>\n",
       "Run page: <a href=\"https://wandb.ai/notarchana/CS6910-A1/runs/yv3wwdrp\" target=\"_blank\">https://wandb.ai/notarchana/CS6910-A1/runs/yv3wwdrp</a><br/>\n",
       "                Run data is saved locally in <code>/home/krishna/iit/sem6/dl/wandb/run-20210311_141536-yv3wwdrp</code><br/><br/>\n",
       "            "
      ],
      "text/plain": [
       "<IPython.core.display.HTML object>"
      ]
     },
     "metadata": {},
     "output_type": "display_data"
    },
    {
     "name": "stderr",
     "output_type": "stream",
     "text": [
      "\u001b[34m\u001b[1mwandb\u001b[0m: \u001b[33mWARNING\u001b[0m Calling run.save without any arguments is deprecated.Changes to attributes are automatically persisted.\n"
     ]
    },
    {
     "name": "stdout",
     "output_type": "stream",
     "text": [
      "model building done\n",
      "Epoch 0 done: Loss = 1.7679381641677838\n",
      "Epoch 1 done: Loss = 0.4298627121091751\n",
      "Epoch 2 done: Loss = 0.3981083795939223\n",
      "Epoch 3 done: Loss = 0.3809374741150328\n",
      "Epoch 4 done: Loss = 0.3707437327041674\n",
      "Epoch 5 done: Loss = 0.3607061735018415\n",
      "Epoch 6 done: Loss = 0.352435898814705\n",
      "Epoch 7 done: Loss = 0.34456295424658984\n",
      "Epoch 8 done: Loss = 0.33889473051243724\n",
      "Epoch 9 done: Loss = 0.3316645389152919\n",
      "model training done\n"
     ]
    },
    {
     "data": {
      "text/html": [
       "<br/>Waiting for W&B process to finish, PID 58829<br/>Program ended successfully."
      ],
      "text/plain": [
       "<IPython.core.display.HTML object>"
      ]
     },
     "metadata": {},
     "output_type": "display_data"
    },
    {
     "data": {
      "application/vnd.jupyter.widget-view+json": {
       "model_id": "",
       "version_major": 2,
       "version_minor": 0
      },
      "text/plain": [
       "VBox(children=(Label(value=' 0.00MB of 0.00MB uploaded (0.00MB deduped)\\r'), FloatProgress(value=1.0, max=1.0)…"
      ]
     },
     "metadata": {},
     "output_type": "display_data"
    },
    {
     "data": {
      "text/html": [
       "Find user logs for this run at: <code>/home/krishna/iit/sem6/dl/wandb/run-20210311_141536-yv3wwdrp/logs/debug.log</code>"
      ],
      "text/plain": [
       "<IPython.core.display.HTML object>"
      ]
     },
     "metadata": {},
     "output_type": "display_data"
    },
    {
     "data": {
      "text/html": [
       "Find internal logs for this run at: <code>/home/krishna/iit/sem6/dl/wandb/run-20210311_141536-yv3wwdrp/logs/debug-internal.log</code>"
      ],
      "text/plain": [
       "<IPython.core.display.HTML object>"
      ]
     },
     "metadata": {},
     "output_type": "display_data"
    },
    {
     "data": {
      "text/html": [
       "<h3>Run summary:</h3><br/><style>\n",
       "    table.wandb td:nth-child(1) { padding: 0 10px; text-align: right }\n",
       "    </style><table class=\"wandb\">\n",
       "<tr><td>train accuracy</td><td>0.89804</td></tr><tr><td>validation accuracy</td><td>0.88075</td></tr><tr><td>train loss</td><td>0.33166</td></tr><tr><td>val loss</td><td>0.36697</td></tr><tr><td>_runtime</td><td>59</td></tr><tr><td>_timestamp</td><td>1615452395</td></tr><tr><td>_step</td><td>9</td></tr></table>"
      ],
      "text/plain": [
       "<IPython.core.display.HTML object>"
      ]
     },
     "metadata": {},
     "output_type": "display_data"
    },
    {
     "data": {
      "text/html": [
       "<h3>Run history:</h3><br/><style>\n",
       "    table.wandb td:nth-child(1) { padding: 0 10px; text-align: right }\n",
       "    </style><table class=\"wandb\">\n",
       "<tr><td>train accuracy</td><td>▁▆▇▇▇▇████</td></tr><tr><td>validation accuracy</td><td>▁▆▇▇▇█████</td></tr><tr><td>train loss</td><td>█▁▁▁▁▁▁▁▁▁</td></tr><tr><td>val loss</td><td>█▁▁▁▁▁▁▁▁▁</td></tr><tr><td>_runtime</td><td>▁▂▂▃▄▅▅▆▇█</td></tr><tr><td>_timestamp</td><td>▁▂▂▃▄▅▅▆▇█</td></tr><tr><td>_step</td><td>▁▂▃▃▄▅▆▆▇█</td></tr></table><br/>"
      ],
      "text/plain": [
       "<IPython.core.display.HTML object>"
      ]
     },
     "metadata": {},
     "output_type": "display_data"
    },
    {
     "data": {
      "text/html": [
       "Synced 5 W&B file(s), 0 media file(s), 0 artifact file(s) and 0 other file(s)"
      ],
      "text/plain": [
       "<IPython.core.display.HTML object>"
      ]
     },
     "metadata": {},
     "output_type": "display_data"
    },
    {
     "data": {
      "text/html": [
       "\n",
       "                    <br/>Synced <strong style=\"color:#cdcd00\">hello</strong>: <a href=\"https://wandb.ai/notarchana/CS6910-A1/runs/yv3wwdrp\" target=\"_blank\">https://wandb.ai/notarchana/CS6910-A1/runs/yv3wwdrp</a><br/>\n",
       "                "
      ],
      "text/plain": [
       "<IPython.core.display.HTML object>"
      ]
     },
     "metadata": {},
     "output_type": "display_data"
    },
    {
     "name": "stderr",
     "output_type": "stream",
     "text": [
      "\u001b[34m\u001b[1mwandb\u001b[0m: Agent Starting Run: 897l7kv7 with config:\n",
      "\u001b[34m\u001b[1mwandb\u001b[0m: \tactivation: relu\n",
      "\u001b[34m\u001b[1mwandb\u001b[0m: \tbatch_size: 64\n",
      "\u001b[34m\u001b[1mwandb\u001b[0m: \tepochs: 10\n",
      "\u001b[34m\u001b[1mwandb\u001b[0m: \thidden_layer_size: 128\n",
      "\u001b[34m\u001b[1mwandb\u001b[0m: \thidden_layers: 3\n",
      "\u001b[34m\u001b[1mwandb\u001b[0m: \tlr: 0.001\n",
      "\u001b[34m\u001b[1mwandb\u001b[0m: \toptimiser: nadam\n",
      "\u001b[34m\u001b[1mwandb\u001b[0m: \tweight_decay: 0.5\n",
      "\u001b[34m\u001b[1mwandb\u001b[0m: \tweight_init: xavier\n"
     ]
    },
    {
     "data": {
      "text/html": [
       "\n",
       "                Tracking run with wandb version 0.10.22<br/>\n",
       "                Syncing run <strong style=\"color:#cdcd00\">hello</strong> to <a href=\"https://wandb.ai\" target=\"_blank\">Weights & Biases</a> <a href=\"https://docs.wandb.com/integrations/jupyter.html\" target=\"_blank\">(Documentation)</a>.<br/>\n",
       "                Project page: <a href=\"https://wandb.ai/notarchana/CS6910-A1\" target=\"_blank\">https://wandb.ai/notarchana/CS6910-A1</a><br/>\n",
       "                Sweep page: <a href=\"https://wandb.ai/notarchana/CS6910-A1/sweeps/lzmcss02\" target=\"_blank\">https://wandb.ai/notarchana/CS6910-A1/sweeps/lzmcss02</a><br/>\n",
       "Run page: <a href=\"https://wandb.ai/notarchana/CS6910-A1/runs/897l7kv7\" target=\"_blank\">https://wandb.ai/notarchana/CS6910-A1/runs/897l7kv7</a><br/>\n",
       "                Run data is saved locally in <code>/home/krishna/iit/sem6/dl/wandb/run-20210311_141642-897l7kv7</code><br/><br/>\n",
       "            "
      ],
      "text/plain": [
       "<IPython.core.display.HTML object>"
      ]
     },
     "metadata": {},
     "output_type": "display_data"
    },
    {
     "name": "stderr",
     "output_type": "stream",
     "text": [
      "\u001b[34m\u001b[1mwandb\u001b[0m: \u001b[33mWARNING\u001b[0m Calling run.save without any arguments is deprecated.Changes to attributes are automatically persisted.\n"
     ]
    },
    {
     "name": "stdout",
     "output_type": "stream",
     "text": [
      "model building done\n",
      "Epoch 0 done: Loss = 1.5851258766658236\n",
      "Epoch 1 done: Loss = 0.43244459870102225\n",
      "Epoch 2 done: Loss = 0.40272428778952957\n",
      "Epoch 3 done: Loss = 0.3861083285399159\n",
      "Epoch 4 done: Loss = 0.3733911412696108\n",
      "Epoch 5 done: Loss = 0.3616145600349007\n",
      "Epoch 6 done: Loss = 0.3529765427756694\n",
      "Epoch 7 done: Loss = 0.34477157414099063\n",
      "Epoch 8 done: Loss = 0.3368259476986896\n",
      "Epoch 9 done: Loss = 0.32920534098118137\n",
      "model training done\n"
     ]
    },
    {
     "data": {
      "text/html": [
       "<br/>Waiting for W&B process to finish, PID 58887<br/>Program ended successfully."
      ],
      "text/plain": [
       "<IPython.core.display.HTML object>"
      ]
     },
     "metadata": {},
     "output_type": "display_data"
    },
    {
     "data": {
      "application/vnd.jupyter.widget-view+json": {
       "model_id": "",
       "version_major": 2,
       "version_minor": 0
      },
      "text/plain": [
       "VBox(children=(Label(value=' 0.00MB of 0.00MB uploaded (0.00MB deduped)\\r'), FloatProgress(value=1.0, max=1.0)…"
      ]
     },
     "metadata": {},
     "output_type": "display_data"
    },
    {
     "data": {
      "text/html": [
       "Find user logs for this run at: <code>/home/krishna/iit/sem6/dl/wandb/run-20210311_141642-897l7kv7/logs/debug.log</code>"
      ],
      "text/plain": [
       "<IPython.core.display.HTML object>"
      ]
     },
     "metadata": {},
     "output_type": "display_data"
    },
    {
     "data": {
      "text/html": [
       "Find internal logs for this run at: <code>/home/krishna/iit/sem6/dl/wandb/run-20210311_141642-897l7kv7/logs/debug-internal.log</code>"
      ],
      "text/plain": [
       "<IPython.core.display.HTML object>"
      ]
     },
     "metadata": {},
     "output_type": "display_data"
    },
    {
     "data": {
      "text/html": [
       "<h3>Run summary:</h3><br/><style>\n",
       "    table.wandb td:nth-child(1) { padding: 0 10px; text-align: right }\n",
       "    </style><table class=\"wandb\">\n",
       "<tr><td>train accuracy</td><td>0.8975</td></tr><tr><td>validation accuracy</td><td>0.88233</td></tr><tr><td>train loss</td><td>0.32921</td></tr><tr><td>val loss</td><td>0.3625</td></tr><tr><td>_runtime</td><td>52</td></tr><tr><td>_timestamp</td><td>1615452454</td></tr><tr><td>_step</td><td>9</td></tr></table>"
      ],
      "text/plain": [
       "<IPython.core.display.HTML object>"
      ]
     },
     "metadata": {},
     "output_type": "display_data"
    },
    {
     "data": {
      "text/html": [
       "<h3>Run history:</h3><br/><style>\n",
       "    table.wandb td:nth-child(1) { padding: 0 10px; text-align: right }\n",
       "    </style><table class=\"wandb\">\n",
       "<tr><td>train accuracy</td><td>▁▆▇▇▇▇████</td></tr><tr><td>validation accuracy</td><td>▁▆▇▇▇█████</td></tr><tr><td>train loss</td><td>█▂▁▁▁▁▁▁▁▁</td></tr><tr><td>val loss</td><td>█▁▁▁▁▁▁▁▁▁</td></tr><tr><td>_runtime</td><td>▁▂▂▃▄▄▅▆▇█</td></tr><tr><td>_timestamp</td><td>▁▂▂▃▄▄▅▆▇█</td></tr><tr><td>_step</td><td>▁▂▃▃▄▅▆▆▇█</td></tr></table><br/>"
      ],
      "text/plain": [
       "<IPython.core.display.HTML object>"
      ]
     },
     "metadata": {},
     "output_type": "display_data"
    },
    {
     "data": {
      "text/html": [
       "Synced 5 W&B file(s), 0 media file(s), 0 artifact file(s) and 0 other file(s)"
      ],
      "text/plain": [
       "<IPython.core.display.HTML object>"
      ]
     },
     "metadata": {},
     "output_type": "display_data"
    },
    {
     "data": {
      "text/html": [
       "\n",
       "                    <br/>Synced <strong style=\"color:#cdcd00\">hello</strong>: <a href=\"https://wandb.ai/notarchana/CS6910-A1/runs/897l7kv7\" target=\"_blank\">https://wandb.ai/notarchana/CS6910-A1/runs/897l7kv7</a><br/>\n",
       "                "
      ],
      "text/plain": [
       "<IPython.core.display.HTML object>"
      ]
     },
     "metadata": {},
     "output_type": "display_data"
    },
    {
     "name": "stderr",
     "output_type": "stream",
     "text": [
      "\u001b[34m\u001b[1mwandb\u001b[0m: Agent Starting Run: 9v1otglt with config:\n",
      "\u001b[34m\u001b[1mwandb\u001b[0m: \tactivation: relu\n",
      "\u001b[34m\u001b[1mwandb\u001b[0m: \tbatch_size: 16\n",
      "\u001b[34m\u001b[1mwandb\u001b[0m: \tepochs: 10\n",
      "\u001b[34m\u001b[1mwandb\u001b[0m: \thidden_layer_size: 64\n",
      "\u001b[34m\u001b[1mwandb\u001b[0m: \thidden_layers: 5\n",
      "\u001b[34m\u001b[1mwandb\u001b[0m: \tlr: 0.001\n",
      "\u001b[34m\u001b[1mwandb\u001b[0m: \toptimiser: rmsprop\n",
      "\u001b[34m\u001b[1mwandb\u001b[0m: \tweight_decay: 0.5\n",
      "\u001b[34m\u001b[1mwandb\u001b[0m: \tweight_init: xavier\n"
     ]
    },
    {
     "data": {
      "text/html": [
       "\n",
       "                Tracking run with wandb version 0.10.22<br/>\n",
       "                Syncing run <strong style=\"color:#cdcd00\">hello</strong> to <a href=\"https://wandb.ai\" target=\"_blank\">Weights & Biases</a> <a href=\"https://docs.wandb.com/integrations/jupyter.html\" target=\"_blank\">(Documentation)</a>.<br/>\n",
       "                Project page: <a href=\"https://wandb.ai/notarchana/CS6910-A1\" target=\"_blank\">https://wandb.ai/notarchana/CS6910-A1</a><br/>\n",
       "                Sweep page: <a href=\"https://wandb.ai/notarchana/CS6910-A1/sweeps/lzmcss02\" target=\"_blank\">https://wandb.ai/notarchana/CS6910-A1/sweeps/lzmcss02</a><br/>\n",
       "Run page: <a href=\"https://wandb.ai/notarchana/CS6910-A1/runs/9v1otglt\" target=\"_blank\">https://wandb.ai/notarchana/CS6910-A1/runs/9v1otglt</a><br/>\n",
       "                Run data is saved locally in <code>/home/krishna/iit/sem6/dl/wandb/run-20210311_141740-9v1otglt</code><br/><br/>\n",
       "            "
      ],
      "text/plain": [
       "<IPython.core.display.HTML object>"
      ]
     },
     "metadata": {},
     "output_type": "display_data"
    },
    {
     "name": "stderr",
     "output_type": "stream",
     "text": [
      "\u001b[34m\u001b[1mwandb\u001b[0m: \u001b[33mWARNING\u001b[0m Calling run.save without any arguments is deprecated.Changes to attributes are automatically persisted.\n"
     ]
    },
    {
     "name": "stdout",
     "output_type": "stream",
     "text": [
      "model building done\n",
      "Epoch 0 done: Loss = 0.4822089774644456\n",
      "Epoch 1 done: Loss = 0.45208805351113507\n",
      "Epoch 2 done: Loss = 0.4739120255369847\n",
      "Epoch 3 done: Loss = 0.4608267230078581\n",
      "Epoch 4 done: Loss = 0.4779992081141513\n",
      "Epoch 5 done: Loss = 0.5357937616325381\n",
      "Epoch 6 done: Loss = 0.6386818921567761\n",
      "Epoch 7 done: Loss = 0.629655134705584\n",
      "Epoch 8 done: Loss = 0.6480236573948986\n",
      "Epoch 9 done: Loss = 0.6655771403361074\n",
      "model training done\n"
     ]
    },
    {
     "data": {
      "text/html": [
       "<br/>Waiting for W&B process to finish, PID 58924<br/>Program ended successfully."
      ],
      "text/plain": [
       "<IPython.core.display.HTML object>"
      ]
     },
     "metadata": {},
     "output_type": "display_data"
    },
    {
     "data": {
      "application/vnd.jupyter.widget-view+json": {
       "model_id": "",
       "version_major": 2,
       "version_minor": 0
      },
      "text/plain": [
       "VBox(children=(Label(value=' 0.00MB of 0.00MB uploaded (0.00MB deduped)\\r'), FloatProgress(value=1.0, max=1.0)…"
      ]
     },
     "metadata": {},
     "output_type": "display_data"
    },
    {
     "data": {
      "text/html": [
       "Find user logs for this run at: <code>/home/krishna/iit/sem6/dl/wandb/run-20210311_141740-9v1otglt/logs/debug.log</code>"
      ],
      "text/plain": [
       "<IPython.core.display.HTML object>"
      ]
     },
     "metadata": {},
     "output_type": "display_data"
    },
    {
     "data": {
      "text/html": [
       "Find internal logs for this run at: <code>/home/krishna/iit/sem6/dl/wandb/run-20210311_141740-9v1otglt/logs/debug-internal.log</code>"
      ],
      "text/plain": [
       "<IPython.core.display.HTML object>"
      ]
     },
     "metadata": {},
     "output_type": "display_data"
    },
    {
     "data": {
      "text/html": [
       "<h3>Run summary:</h3><br/><style>\n",
       "    table.wandb td:nth-child(1) { padding: 0 10px; text-align: right }\n",
       "    </style><table class=\"wandb\">\n",
       "<tr><td>train accuracy</td><td>0.88527</td></tr><tr><td>validation accuracy</td><td>0.86625</td></tr><tr><td>train loss</td><td>0.66558</td></tr><tr><td>val loss</td><td>0.81869</td></tr><tr><td>_runtime</td><td>70</td></tr><tr><td>_timestamp</td><td>1615452530</td></tr><tr><td>_step</td><td>9</td></tr></table>"
      ],
      "text/plain": [
       "<IPython.core.display.HTML object>"
      ]
     },
     "metadata": {},
     "output_type": "display_data"
    },
    {
     "data": {
      "text/html": [
       "<h3>Run history:</h3><br/><style>\n",
       "    table.wandb td:nth-child(1) { padding: 0 10px; text-align: right }\n",
       "    </style><table class=\"wandb\">\n",
       "<tr><td>train accuracy</td><td>▁▃▄▆▇█▇▇██</td></tr><tr><td>validation accuracy</td><td>▁▃▅▇▇█▇▇▇█</td></tr><tr><td>train loss</td><td>▂▁▂▁▂▄▇▇▇█</td></tr><tr><td>val loss</td><td>▁▁▂▂▂▄▆▇▇█</td></tr><tr><td>_runtime</td><td>▁▂▂▃▄▅▆▆▇█</td></tr><tr><td>_timestamp</td><td>▁▂▂▃▄▅▆▆▇█</td></tr><tr><td>_step</td><td>▁▂▃▃▄▅▆▆▇█</td></tr></table><br/>"
      ],
      "text/plain": [
       "<IPython.core.display.HTML object>"
      ]
     },
     "metadata": {},
     "output_type": "display_data"
    },
    {
     "data": {
      "text/html": [
       "Synced 5 W&B file(s), 0 media file(s), 0 artifact file(s) and 0 other file(s)"
      ],
      "text/plain": [
       "<IPython.core.display.HTML object>"
      ]
     },
     "metadata": {},
     "output_type": "display_data"
    },
    {
     "data": {
      "text/html": [
       "\n",
       "                    <br/>Synced <strong style=\"color:#cdcd00\">hello</strong>: <a href=\"https://wandb.ai/notarchana/CS6910-A1/runs/9v1otglt\" target=\"_blank\">https://wandb.ai/notarchana/CS6910-A1/runs/9v1otglt</a><br/>\n",
       "                "
      ],
      "text/plain": [
       "<IPython.core.display.HTML object>"
      ]
     },
     "metadata": {},
     "output_type": "display_data"
    },
    {
     "name": "stderr",
     "output_type": "stream",
     "text": [
      "\u001b[34m\u001b[1mwandb\u001b[0m: Agent Starting Run: v4ksnrun with config:\n",
      "\u001b[34m\u001b[1mwandb\u001b[0m: \tactivation: tanh\n",
      "\u001b[34m\u001b[1mwandb\u001b[0m: \tbatch_size: 32\n",
      "\u001b[34m\u001b[1mwandb\u001b[0m: \tepochs: 10\n",
      "\u001b[34m\u001b[1mwandb\u001b[0m: \thidden_layer_size: 128\n",
      "\u001b[34m\u001b[1mwandb\u001b[0m: \thidden_layers: 4\n",
      "\u001b[34m\u001b[1mwandb\u001b[0m: \tlr: 0.001\n",
      "\u001b[34m\u001b[1mwandb\u001b[0m: \toptimiser: nesterov\n",
      "\u001b[34m\u001b[1mwandb\u001b[0m: \tweight_decay: 0.5\n",
      "\u001b[34m\u001b[1mwandb\u001b[0m: \tweight_init: xavier\n"
     ]
    },
    {
     "data": {
      "text/html": [
       "\n",
       "                Tracking run with wandb version 0.10.22<br/>\n",
       "                Syncing run <strong style=\"color:#cdcd00\">hello</strong> to <a href=\"https://wandb.ai\" target=\"_blank\">Weights & Biases</a> <a href=\"https://docs.wandb.com/integrations/jupyter.html\" target=\"_blank\">(Documentation)</a>.<br/>\n",
       "                Project page: <a href=\"https://wandb.ai/notarchana/CS6910-A1\" target=\"_blank\">https://wandb.ai/notarchana/CS6910-A1</a><br/>\n",
       "                Sweep page: <a href=\"https://wandb.ai/notarchana/CS6910-A1/sweeps/lzmcss02\" target=\"_blank\">https://wandb.ai/notarchana/CS6910-A1/sweeps/lzmcss02</a><br/>\n",
       "Run page: <a href=\"https://wandb.ai/notarchana/CS6910-A1/runs/v4ksnrun\" target=\"_blank\">https://wandb.ai/notarchana/CS6910-A1/runs/v4ksnrun</a><br/>\n",
       "                Run data is saved locally in <code>/home/krishna/iit/sem6/dl/wandb/run-20210311_141858-v4ksnrun</code><br/><br/>\n",
       "            "
      ],
      "text/plain": [
       "<IPython.core.display.HTML object>"
      ]
     },
     "metadata": {},
     "output_type": "display_data"
    },
    {
     "name": "stderr",
     "output_type": "stream",
     "text": [
      "\u001b[34m\u001b[1mwandb\u001b[0m: \u001b[33mWARNING\u001b[0m Calling run.save without any arguments is deprecated.Changes to attributes are automatically persisted.\n"
     ]
    },
    {
     "name": "stdout",
     "output_type": "stream",
     "text": [
      "model building done\n",
      "Epoch 0 done: Loss = 0.7079379792464229\n",
      "Epoch 1 done: Loss = 0.5768606102152531\n",
      "Epoch 2 done: Loss = 0.5281379195282536\n",
      "Epoch 3 done: Loss = 0.4978384885010752\n",
      "Epoch 4 done: Loss = 0.4741848898432586\n",
      "Epoch 5 done: Loss = 0.45531549875608546\n",
      "Epoch 6 done: Loss = 0.4402523487864948\n",
      "Epoch 7 done: Loss = 0.4279900580391861\n",
      "Epoch 8 done: Loss = 0.41770768378953016\n",
      "Epoch 9 done: Loss = 0.40884410845096075\n",
      "model training done\n"
     ]
    },
    {
     "data": {
      "text/html": [
       "<br/>Waiting for W&B process to finish, PID 58961<br/>Program ended successfully."
      ],
      "text/plain": [
       "<IPython.core.display.HTML object>"
      ]
     },
     "metadata": {},
     "output_type": "display_data"
    },
    {
     "data": {
      "application/vnd.jupyter.widget-view+json": {
       "model_id": "",
       "version_major": 2,
       "version_minor": 0
      },
      "text/plain": [
       "VBox(children=(Label(value=' 0.00MB of 0.00MB uploaded (0.00MB deduped)\\r'), FloatProgress(value=1.0, max=1.0)…"
      ]
     },
     "metadata": {},
     "output_type": "display_data"
    },
    {
     "data": {
      "text/html": [
       "Find user logs for this run at: <code>/home/krishna/iit/sem6/dl/wandb/run-20210311_141858-v4ksnrun/logs/debug.log</code>"
      ],
      "text/plain": [
       "<IPython.core.display.HTML object>"
      ]
     },
     "metadata": {},
     "output_type": "display_data"
    },
    {
     "data": {
      "text/html": [
       "Find internal logs for this run at: <code>/home/krishna/iit/sem6/dl/wandb/run-20210311_141858-v4ksnrun/logs/debug-internal.log</code>"
      ],
      "text/plain": [
       "<IPython.core.display.HTML object>"
      ]
     },
     "metadata": {},
     "output_type": "display_data"
    },
    {
     "data": {
      "text/html": [
       "<h3>Run summary:</h3><br/><style>\n",
       "    table.wandb td:nth-child(1) { padding: 0 10px; text-align: right }\n",
       "    </style><table class=\"wandb\">\n",
       "<tr><td>train accuracy</td><td>0.86419</td></tr><tr><td>validation accuracy</td><td>0.86233</td></tr><tr><td>train loss</td><td>0.40884</td></tr><tr><td>val loss</td><td>0.41051</td></tr><tr><td>_runtime</td><td>98</td></tr><tr><td>_timestamp</td><td>1615452636</td></tr><tr><td>_step</td><td>9</td></tr></table>"
      ],
      "text/plain": [
       "<IPython.core.display.HTML object>"
      ]
     },
     "metadata": {},
     "output_type": "display_data"
    },
    {
     "data": {
      "text/html": [
       "<h3>Run history:</h3><br/><style>\n",
       "    table.wandb td:nth-child(1) { padding: 0 10px; text-align: right }\n",
       "    </style><table class=\"wandb\">\n",
       "<tr><td>train accuracy</td><td>▁▄▅▆▆▇▇███</td></tr><tr><td>validation accuracy</td><td>▁▄▅▆▇▇▇███</td></tr><tr><td>train loss</td><td>█▅▄▃▃▂▂▁▁▁</td></tr><tr><td>val loss</td><td>█▅▄▃▂▂▂▁▁▁</td></tr><tr><td>_runtime</td><td>▁▂▂▃▄▅▆▆▇█</td></tr><tr><td>_timestamp</td><td>▁▂▂▃▄▅▆▆▇█</td></tr><tr><td>_step</td><td>▁▂▃▃▄▅▆▆▇█</td></tr></table><br/>"
      ],
      "text/plain": [
       "<IPython.core.display.HTML object>"
      ]
     },
     "metadata": {},
     "output_type": "display_data"
    },
    {
     "data": {
      "text/html": [
       "Synced 5 W&B file(s), 0 media file(s), 0 artifact file(s) and 0 other file(s)"
      ],
      "text/plain": [
       "<IPython.core.display.HTML object>"
      ]
     },
     "metadata": {},
     "output_type": "display_data"
    },
    {
     "data": {
      "text/html": [
       "\n",
       "                    <br/>Synced <strong style=\"color:#cdcd00\">hello</strong>: <a href=\"https://wandb.ai/notarchana/CS6910-A1/runs/v4ksnrun\" target=\"_blank\">https://wandb.ai/notarchana/CS6910-A1/runs/v4ksnrun</a><br/>\n",
       "                "
      ],
      "text/plain": [
       "<IPython.core.display.HTML object>"
      ]
     },
     "metadata": {},
     "output_type": "display_data"
    },
    {
     "name": "stderr",
     "output_type": "stream",
     "text": [
      "\u001b[34m\u001b[1mwandb\u001b[0m: Agent Starting Run: 53nk4bd0 with config:\n",
      "\u001b[34m\u001b[1mwandb\u001b[0m: \tactivation: tanh\n",
      "\u001b[34m\u001b[1mwandb\u001b[0m: \tbatch_size: 16\n",
      "\u001b[34m\u001b[1mwandb\u001b[0m: \tepochs: 10\n",
      "\u001b[34m\u001b[1mwandb\u001b[0m: \thidden_layer_size: 64\n",
      "\u001b[34m\u001b[1mwandb\u001b[0m: \thidden_layers: 5\n",
      "\u001b[34m\u001b[1mwandb\u001b[0m: \tlr: 0.001\n",
      "\u001b[34m\u001b[1mwandb\u001b[0m: \toptimiser: nadam\n",
      "\u001b[34m\u001b[1mwandb\u001b[0m: \tweight_decay: 0.0005\n",
      "\u001b[34m\u001b[1mwandb\u001b[0m: \tweight_init: xavier\n"
     ]
    },
    {
     "data": {
      "text/html": [
       "\n",
       "                Tracking run with wandb version 0.10.22<br/>\n",
       "                Syncing run <strong style=\"color:#cdcd00\">hello</strong> to <a href=\"https://wandb.ai\" target=\"_blank\">Weights & Biases</a> <a href=\"https://docs.wandb.com/integrations/jupyter.html\" target=\"_blank\">(Documentation)</a>.<br/>\n",
       "                Project page: <a href=\"https://wandb.ai/notarchana/CS6910-A1\" target=\"_blank\">https://wandb.ai/notarchana/CS6910-A1</a><br/>\n",
       "                Sweep page: <a href=\"https://wandb.ai/notarchana/CS6910-A1/sweeps/lzmcss02\" target=\"_blank\">https://wandb.ai/notarchana/CS6910-A1/sweeps/lzmcss02</a><br/>\n",
       "Run page: <a href=\"https://wandb.ai/notarchana/CS6910-A1/runs/53nk4bd0\" target=\"_blank\">https://wandb.ai/notarchana/CS6910-A1/runs/53nk4bd0</a><br/>\n",
       "                Run data is saved locally in <code>/home/krishna/iit/sem6/dl/wandb/run-20210311_142043-53nk4bd0</code><br/><br/>\n",
       "            "
      ],
      "text/plain": [
       "<IPython.core.display.HTML object>"
      ]
     },
     "metadata": {},
     "output_type": "display_data"
    },
    {
     "name": "stderr",
     "output_type": "stream",
     "text": [
      "\u001b[34m\u001b[1mwandb\u001b[0m: \u001b[33mWARNING\u001b[0m Calling run.save without any arguments is deprecated.Changes to attributes are automatically persisted.\n"
     ]
    },
    {
     "name": "stdout",
     "output_type": "stream",
     "text": [
      "model building done\n",
      "Epoch 0 done: Loss = 0.4610784153365836\n",
      "Epoch 1 done: Loss = 0.3908924349711158\n",
      "Epoch 2 done: Loss = 0.36192819809196825\n",
      "Epoch 3 done: Loss = 0.3466997591517403\n",
      "Epoch 4 done: Loss = 0.3349160328280511\n",
      "Epoch 5 done: Loss = 0.32813613629436117\n",
      "Epoch 6 done: Loss = 0.3210340145169967\n",
      "Epoch 7 done: Loss = 0.3130158402835565\n",
      "Epoch 8 done: Loss = 0.3052051386267765\n",
      "Epoch 9 done: Loss = 0.2989581962761603\n",
      "model training done\n"
     ]
    },
    {
     "data": {
      "text/html": [
       "<br/>Waiting for W&B process to finish, PID 59007<br/>Program ended successfully."
      ],
      "text/plain": [
       "<IPython.core.display.HTML object>"
      ]
     },
     "metadata": {},
     "output_type": "display_data"
    },
    {
     "data": {
      "application/vnd.jupyter.widget-view+json": {
       "model_id": "",
       "version_major": 2,
       "version_minor": 0
      },
      "text/plain": [
       "VBox(children=(Label(value=' 0.00MB of 0.00MB uploaded (0.00MB deduped)\\r'), FloatProgress(value=1.0, max=1.0)…"
      ]
     },
     "metadata": {},
     "output_type": "display_data"
    },
    {
     "data": {
      "text/html": [
       "Find user logs for this run at: <code>/home/krishna/iit/sem6/dl/wandb/run-20210311_142043-53nk4bd0/logs/debug.log</code>"
      ],
      "text/plain": [
       "<IPython.core.display.HTML object>"
      ]
     },
     "metadata": {},
     "output_type": "display_data"
    },
    {
     "data": {
      "text/html": [
       "Find internal logs for this run at: <code>/home/krishna/iit/sem6/dl/wandb/run-20210311_142043-53nk4bd0/logs/debug-internal.log</code>"
      ],
      "text/plain": [
       "<IPython.core.display.HTML object>"
      ]
     },
     "metadata": {},
     "output_type": "display_data"
    },
    {
     "data": {
      "text/html": [
       "<h3>Run summary:</h3><br/><style>\n",
       "    table.wandb td:nth-child(1) { padding: 0 10px; text-align: right }\n",
       "    </style><table class=\"wandb\">\n",
       "<tr><td>train accuracy</td><td>0.90198</td></tr><tr><td>validation accuracy</td><td>0.88025</td></tr><tr><td>train loss</td><td>0.29896</td></tr><tr><td>val loss</td><td>0.34479</td></tr><tr><td>_runtime</td><td>102</td></tr><tr><td>_timestamp</td><td>1615452745</td></tr><tr><td>_step</td><td>9</td></tr></table>"
      ],
      "text/plain": [
       "<IPython.core.display.HTML object>"
      ]
     },
     "metadata": {},
     "output_type": "display_data"
    },
    {
     "data": {
      "text/html": [
       "<h3>Run history:</h3><br/><style>\n",
       "    table.wandb td:nth-child(1) { padding: 0 10px; text-align: right }\n",
       "    </style><table class=\"wandb\">\n",
       "<tr><td>train accuracy</td><td>▁▄▅▅▆▆▇▇██</td></tr><tr><td>validation accuracy</td><td>▁▄▅▆▇▇▇▇██</td></tr><tr><td>train loss</td><td>█▅▄▃▃▂▂▂▁▁</td></tr><tr><td>val loss</td><td>█▄▃▂▂▂▂▁▁▁</td></tr><tr><td>_runtime</td><td>▁▂▃▃▄▅▆▆▇█</td></tr><tr><td>_timestamp</td><td>▁▂▃▃▄▅▆▆▇█</td></tr><tr><td>_step</td><td>▁▂▃▃▄▅▆▆▇█</td></tr></table><br/>"
      ],
      "text/plain": [
       "<IPython.core.display.HTML object>"
      ]
     },
     "metadata": {},
     "output_type": "display_data"
    },
    {
     "data": {
      "text/html": [
       "Synced 5 W&B file(s), 0 media file(s), 0 artifact file(s) and 0 other file(s)"
      ],
      "text/plain": [
       "<IPython.core.display.HTML object>"
      ]
     },
     "metadata": {},
     "output_type": "display_data"
    },
    {
     "data": {
      "text/html": [
       "\n",
       "                    <br/>Synced <strong style=\"color:#cdcd00\">hello</strong>: <a href=\"https://wandb.ai/notarchana/CS6910-A1/runs/53nk4bd0\" target=\"_blank\">https://wandb.ai/notarchana/CS6910-A1/runs/53nk4bd0</a><br/>\n",
       "                "
      ],
      "text/plain": [
       "<IPython.core.display.HTML object>"
      ]
     },
     "metadata": {},
     "output_type": "display_data"
    },
    {
     "name": "stderr",
     "output_type": "stream",
     "text": [
      "\u001b[34m\u001b[1mwandb\u001b[0m: Agent Starting Run: qn424d7n with config:\n",
      "\u001b[34m\u001b[1mwandb\u001b[0m: \tactivation: relu\n",
      "\u001b[34m\u001b[1mwandb\u001b[0m: \tbatch_size: 64\n",
      "\u001b[34m\u001b[1mwandb\u001b[0m: \tepochs: 10\n",
      "\u001b[34m\u001b[1mwandb\u001b[0m: \thidden_layer_size: 64\n",
      "\u001b[34m\u001b[1mwandb\u001b[0m: \thidden_layers: 5\n",
      "\u001b[34m\u001b[1mwandb\u001b[0m: \tlr: 0.001\n",
      "\u001b[34m\u001b[1mwandb\u001b[0m: \toptimiser: nesterov\n",
      "\u001b[34m\u001b[1mwandb\u001b[0m: \tweight_decay: 0.5\n",
      "\u001b[34m\u001b[1mwandb\u001b[0m: \tweight_init: xavier\n"
     ]
    },
    {
     "data": {
      "text/html": [
       "\n",
       "                Tracking run with wandb version 0.10.22<br/>\n",
       "                Syncing run <strong style=\"color:#cdcd00\">hello</strong> to <a href=\"https://wandb.ai\" target=\"_blank\">Weights & Biases</a> <a href=\"https://docs.wandb.com/integrations/jupyter.html\" target=\"_blank\">(Documentation)</a>.<br/>\n",
       "                Project page: <a href=\"https://wandb.ai/notarchana/CS6910-A1\" target=\"_blank\">https://wandb.ai/notarchana/CS6910-A1</a><br/>\n",
       "                Sweep page: <a href=\"https://wandb.ai/notarchana/CS6910-A1/sweeps/lzmcss02\" target=\"_blank\">https://wandb.ai/notarchana/CS6910-A1/sweeps/lzmcss02</a><br/>\n",
       "Run page: <a href=\"https://wandb.ai/notarchana/CS6910-A1/runs/qn424d7n\" target=\"_blank\">https://wandb.ai/notarchana/CS6910-A1/runs/qn424d7n</a><br/>\n",
       "                Run data is saved locally in <code>/home/krishna/iit/sem6/dl/wandb/run-20210311_142234-qn424d7n</code><br/><br/>\n",
       "            "
      ],
      "text/plain": [
       "<IPython.core.display.HTML object>"
      ]
     },
     "metadata": {},
     "output_type": "display_data"
    },
    {
     "name": "stderr",
     "output_type": "stream",
     "text": [
      "\u001b[34m\u001b[1mwandb\u001b[0m: \u001b[33mWARNING\u001b[0m Calling run.save without any arguments is deprecated.Changes to attributes are automatically persisted.\n"
     ]
    },
    {
     "name": "stdout",
     "output_type": "stream",
     "text": [
      "model building done\n",
      "Epoch 0 done: Loss = 1.763262319846654\n",
      "Epoch 1 done: Loss = 0.9760259125967757\n",
      "Epoch 2 done: Loss = 0.820256707575199\n",
      "Epoch 3 done: Loss = 0.7485238091947106\n",
      "Epoch 4 done: Loss = 0.6947567769814783\n",
      "Epoch 5 done: Loss = 0.6549540249022702\n",
      "Epoch 6 done: Loss = 0.6270796910225572\n",
      "Epoch 7 done: Loss = 0.6011367008630778\n",
      "Epoch 8 done: Loss = 0.5746131671233582\n",
      "Epoch 9 done: Loss = 0.5510302923496657\n",
      "model training done\n"
     ]
    },
    {
     "data": {
      "text/html": [
       "<br/>Waiting for W&B process to finish, PID 59051<br/>Program ended successfully."
      ],
      "text/plain": [
       "<IPython.core.display.HTML object>"
      ]
     },
     "metadata": {},
     "output_type": "display_data"
    },
    {
     "data": {
      "application/vnd.jupyter.widget-view+json": {
       "model_id": "",
       "version_major": 2,
       "version_minor": 0
      },
      "text/plain": [
       "VBox(children=(Label(value=' 0.00MB of 0.00MB uploaded (0.00MB deduped)\\r'), FloatProgress(value=1.0, max=1.0)…"
      ]
     },
     "metadata": {},
     "output_type": "display_data"
    },
    {
     "data": {
      "text/html": [
       "Find user logs for this run at: <code>/home/krishna/iit/sem6/dl/wandb/run-20210311_142234-qn424d7n/logs/debug.log</code>"
      ],
      "text/plain": [
       "<IPython.core.display.HTML object>"
      ]
     },
     "metadata": {},
     "output_type": "display_data"
    },
    {
     "data": {
      "text/html": [
       "Find internal logs for this run at: <code>/home/krishna/iit/sem6/dl/wandb/run-20210311_142234-qn424d7n/logs/debug-internal.log</code>"
      ],
      "text/plain": [
       "<IPython.core.display.HTML object>"
      ]
     },
     "metadata": {},
     "output_type": "display_data"
    },
    {
     "data": {
      "text/html": [
       "<h3>Run summary:</h3><br/><style>\n",
       "    table.wandb td:nth-child(1) { padding: 0 10px; text-align: right }\n",
       "    </style><table class=\"wandb\">\n",
       "<tr><td>train accuracy</td><td>0.82</td></tr><tr><td>validation accuracy</td><td>0.81633</td></tr><tr><td>train loss</td><td>0.55103</td></tr><tr><td>val loss</td><td>0.5698</td></tr><tr><td>_runtime</td><td>26</td></tr><tr><td>_timestamp</td><td>1615452780</td></tr><tr><td>_step</td><td>9</td></tr></table>"
      ],
      "text/plain": [
       "<IPython.core.display.HTML object>"
      ]
     },
     "metadata": {},
     "output_type": "display_data"
    },
    {
     "data": {
      "text/html": [
       "<h3>Run history:</h3><br/><style>\n",
       "    table.wandb td:nth-child(1) { padding: 0 10px; text-align: right }\n",
       "    </style><table class=\"wandb\">\n",
       "<tr><td>train accuracy</td><td>▁▅▇▇██████</td></tr><tr><td>validation accuracy</td><td>▁▅▇▇▇█████</td></tr><tr><td>train loss</td><td>█▃▃▂▂▂▁▁▁▁</td></tr><tr><td>val loss</td><td>█▃▃▂▂▂▁▁▁▁</td></tr><tr><td>_runtime</td><td>▁▂▃▃▄▅▅▆▇█</td></tr><tr><td>_timestamp</td><td>▁▂▃▃▄▅▅▆▇█</td></tr><tr><td>_step</td><td>▁▂▃▃▄▅▆▆▇█</td></tr></table><br/>"
      ],
      "text/plain": [
       "<IPython.core.display.HTML object>"
      ]
     },
     "metadata": {},
     "output_type": "display_data"
    },
    {
     "data": {
      "text/html": [
       "Synced 5 W&B file(s), 0 media file(s), 0 artifact file(s) and 0 other file(s)"
      ],
      "text/plain": [
       "<IPython.core.display.HTML object>"
      ]
     },
     "metadata": {},
     "output_type": "display_data"
    },
    {
     "data": {
      "text/html": [
       "\n",
       "                    <br/>Synced <strong style=\"color:#cdcd00\">hello</strong>: <a href=\"https://wandb.ai/notarchana/CS6910-A1/runs/qn424d7n\" target=\"_blank\">https://wandb.ai/notarchana/CS6910-A1/runs/qn424d7n</a><br/>\n",
       "                "
      ],
      "text/plain": [
       "<IPython.core.display.HTML object>"
      ]
     },
     "metadata": {},
     "output_type": "display_data"
    },
    {
     "name": "stderr",
     "output_type": "stream",
     "text": [
      "\u001b[34m\u001b[1mwandb\u001b[0m: Agent Starting Run: ukbmdl71 with config:\n",
      "\u001b[34m\u001b[1mwandb\u001b[0m: \tactivation: relu\n",
      "\u001b[34m\u001b[1mwandb\u001b[0m: \tbatch_size: 32\n",
      "\u001b[34m\u001b[1mwandb\u001b[0m: \tepochs: 10\n",
      "\u001b[34m\u001b[1mwandb\u001b[0m: \thidden_layer_size: 32\n",
      "\u001b[34m\u001b[1mwandb\u001b[0m: \thidden_layers: 4\n",
      "\u001b[34m\u001b[1mwandb\u001b[0m: \tlr: 0.001\n",
      "\u001b[34m\u001b[1mwandb\u001b[0m: \toptimiser: momentum\n",
      "\u001b[34m\u001b[1mwandb\u001b[0m: \tweight_decay: 0.0005\n",
      "\u001b[34m\u001b[1mwandb\u001b[0m: \tweight_init: xavier\n"
     ]
    },
    {
     "data": {
      "text/html": [
       "\n",
       "                Tracking run with wandb version 0.10.22<br/>\n",
       "                Syncing run <strong style=\"color:#cdcd00\">hello</strong> to <a href=\"https://wandb.ai\" target=\"_blank\">Weights & Biases</a> <a href=\"https://docs.wandb.com/integrations/jupyter.html\" target=\"_blank\">(Documentation)</a>.<br/>\n",
       "                Project page: <a href=\"https://wandb.ai/notarchana/CS6910-A1\" target=\"_blank\">https://wandb.ai/notarchana/CS6910-A1</a><br/>\n",
       "                Sweep page: <a href=\"https://wandb.ai/notarchana/CS6910-A1/sweeps/lzmcss02\" target=\"_blank\">https://wandb.ai/notarchana/CS6910-A1/sweeps/lzmcss02</a><br/>\n",
       "Run page: <a href=\"https://wandb.ai/notarchana/CS6910-A1/runs/ukbmdl71\" target=\"_blank\">https://wandb.ai/notarchana/CS6910-A1/runs/ukbmdl71</a><br/>\n",
       "                Run data is saved locally in <code>/home/krishna/iit/sem6/dl/wandb/run-20210311_142307-ukbmdl71</code><br/><br/>\n",
       "            "
      ],
      "text/plain": [
       "<IPython.core.display.HTML object>"
      ]
     },
     "metadata": {},
     "output_type": "display_data"
    },
    {
     "name": "stderr",
     "output_type": "stream",
     "text": [
      "\u001b[34m\u001b[1mwandb\u001b[0m: \u001b[33mWARNING\u001b[0m Calling run.save without any arguments is deprecated.Changes to attributes are automatically persisted.\n"
     ]
    },
    {
     "name": "stdout",
     "output_type": "stream",
     "text": [
      "model building done\n",
      "Epoch 0 done: Loss = 0.5792827286186567\n",
      "Epoch 1 done: Loss = 0.45868009970231854\n",
      "Epoch 2 done: Loss = 0.4339406611931643\n",
      "Epoch 3 done: Loss = 0.39914567198962564\n",
      "Epoch 4 done: Loss = 0.3981638723814871\n",
      "Epoch 5 done: Loss = 0.3876894083509266\n",
      "Epoch 6 done: Loss = 0.3616968752272347\n",
      "Epoch 7 done: Loss = 0.35643425487951536\n",
      "Epoch 8 done: Loss = 0.36892022838388605\n",
      "Epoch 9 done: Loss = 0.35831302360589234\n",
      "model training done\n"
     ]
    },
    {
     "data": {
      "text/html": [
       "<br/>Waiting for W&B process to finish, PID 59087<br/>Program ended successfully."
      ],
      "text/plain": [
       "<IPython.core.display.HTML object>"
      ]
     },
     "metadata": {},
     "output_type": "display_data"
    },
    {
     "data": {
      "application/vnd.jupyter.widget-view+json": {
       "model_id": "",
       "version_major": 2,
       "version_minor": 0
      },
      "text/plain": [
       "VBox(children=(Label(value=' 0.00MB of 0.00MB uploaded (0.00MB deduped)\\r'), FloatProgress(value=1.0, max=1.0)…"
      ]
     },
     "metadata": {},
     "output_type": "display_data"
    },
    {
     "data": {
      "text/html": [
       "Find user logs for this run at: <code>/home/krishna/iit/sem6/dl/wandb/run-20210311_142307-ukbmdl71/logs/debug.log</code>"
      ],
      "text/plain": [
       "<IPython.core.display.HTML object>"
      ]
     },
     "metadata": {},
     "output_type": "display_data"
    },
    {
     "data": {
      "text/html": [
       "Find internal logs for this run at: <code>/home/krishna/iit/sem6/dl/wandb/run-20210311_142307-ukbmdl71/logs/debug-internal.log</code>"
      ],
      "text/plain": [
       "<IPython.core.display.HTML object>"
      ]
     },
     "metadata": {},
     "output_type": "display_data"
    },
    {
     "data": {
      "text/html": [
       "<h3>Run summary:</h3><br/><style>\n",
       "    table.wandb td:nth-child(1) { padding: 0 10px; text-align: right }\n",
       "    </style><table class=\"wandb\">\n",
       "<tr><td>train accuracy</td><td>0.88775</td></tr><tr><td>validation accuracy</td><td>0.87225</td></tr><tr><td>train loss</td><td>0.35831</td></tr><tr><td>val loss</td><td>0.40018</td></tr><tr><td>_runtime</td><td>18</td></tr><tr><td>_timestamp</td><td>1615452805</td></tr><tr><td>_step</td><td>9</td></tr></table>"
      ],
      "text/plain": [
       "<IPython.core.display.HTML object>"
      ]
     },
     "metadata": {},
     "output_type": "display_data"
    },
    {
     "data": {
      "text/html": [
       "<h3>Run history:</h3><br/><style>\n",
       "    table.wandb td:nth-child(1) { padding: 0 10px; text-align: right }\n",
       "    </style><table class=\"wandb\">\n",
       "<tr><td>train accuracy</td><td>▁▄▅▆▅▇▇▇▇█</td></tr><tr><td>validation accuracy</td><td>▁▄▅▆▅▇▇█▇█</td></tr><tr><td>train loss</td><td>█▄▃▂▂▂▁▁▁▁</td></tr><tr><td>val loss</td><td>█▄▃▂▂▂▁▁▁▁</td></tr><tr><td>_runtime</td><td>▁▂▃▃▄▅▆▇▇█</td></tr><tr><td>_timestamp</td><td>▁▂▃▃▄▅▆▇▇█</td></tr><tr><td>_step</td><td>▁▂▃▃▄▅▆▆▇█</td></tr></table><br/>"
      ],
      "text/plain": [
       "<IPython.core.display.HTML object>"
      ]
     },
     "metadata": {},
     "output_type": "display_data"
    },
    {
     "data": {
      "text/html": [
       "Synced 5 W&B file(s), 0 media file(s), 0 artifact file(s) and 0 other file(s)"
      ],
      "text/plain": [
       "<IPython.core.display.HTML object>"
      ]
     },
     "metadata": {},
     "output_type": "display_data"
    },
    {
     "data": {
      "text/html": [
       "\n",
       "                    <br/>Synced <strong style=\"color:#cdcd00\">hello</strong>: <a href=\"https://wandb.ai/notarchana/CS6910-A1/runs/ukbmdl71\" target=\"_blank\">https://wandb.ai/notarchana/CS6910-A1/runs/ukbmdl71</a><br/>\n",
       "                "
      ],
      "text/plain": [
       "<IPython.core.display.HTML object>"
      ]
     },
     "metadata": {},
     "output_type": "display_data"
    },
    {
     "name": "stderr",
     "output_type": "stream",
     "text": [
      "\u001b[34m\u001b[1mwandb\u001b[0m: Agent Starting Run: 1vcui5rp with config:\n",
      "\u001b[34m\u001b[1mwandb\u001b[0m: \tactivation: tanh\n",
      "\u001b[34m\u001b[1mwandb\u001b[0m: \tbatch_size: 32\n",
      "\u001b[34m\u001b[1mwandb\u001b[0m: \tepochs: 10\n",
      "\u001b[34m\u001b[1mwandb\u001b[0m: \thidden_layer_size: 128\n",
      "\u001b[34m\u001b[1mwandb\u001b[0m: \thidden_layers: 3\n",
      "\u001b[34m\u001b[1mwandb\u001b[0m: \tlr: 0.001\n",
      "\u001b[34m\u001b[1mwandb\u001b[0m: \toptimiser: adam\n",
      "\u001b[34m\u001b[1mwandb\u001b[0m: \tweight_decay: 0.0005\n",
      "\u001b[34m\u001b[1mwandb\u001b[0m: \tweight_init: xavier\n"
     ]
    },
    {
     "data": {
      "text/html": [
       "\n",
       "                Tracking run with wandb version 0.10.22<br/>\n",
       "                Syncing run <strong style=\"color:#cdcd00\">hello</strong> to <a href=\"https://wandb.ai\" target=\"_blank\">Weights & Biases</a> <a href=\"https://docs.wandb.com/integrations/jupyter.html\" target=\"_blank\">(Documentation)</a>.<br/>\n",
       "                Project page: <a href=\"https://wandb.ai/notarchana/CS6910-A1\" target=\"_blank\">https://wandb.ai/notarchana/CS6910-A1</a><br/>\n",
       "                Sweep page: <a href=\"https://wandb.ai/notarchana/CS6910-A1/sweeps/lzmcss02\" target=\"_blank\">https://wandb.ai/notarchana/CS6910-A1/sweeps/lzmcss02</a><br/>\n",
       "Run page: <a href=\"https://wandb.ai/notarchana/CS6910-A1/runs/1vcui5rp\" target=\"_blank\">https://wandb.ai/notarchana/CS6910-A1/runs/1vcui5rp</a><br/>\n",
       "                Run data is saved locally in <code>/home/krishna/iit/sem6/dl/wandb/run-20210311_142333-1vcui5rp</code><br/><br/>\n",
       "            "
      ],
      "text/plain": [
       "<IPython.core.display.HTML object>"
      ]
     },
     "metadata": {},
     "output_type": "display_data"
    },
    {
     "name": "stderr",
     "output_type": "stream",
     "text": [
      "\u001b[34m\u001b[1mwandb\u001b[0m: \u001b[33mWARNING\u001b[0m Calling run.save without any arguments is deprecated.Changes to attributes are automatically persisted.\n"
     ]
    },
    {
     "name": "stdout",
     "output_type": "stream",
     "text": [
      "model building done\n",
      "Epoch 0 done: Loss = 0.42120359612099717\n",
      "Epoch 1 done: Loss = 0.3800524861233435\n",
      "Epoch 2 done: Loss = 0.36419657611626727\n",
      "Epoch 3 done: Loss = 0.35529829788182854\n",
      "Epoch 4 done: Loss = 0.34852739092322665\n",
      "Epoch 5 done: Loss = 0.3423947551827617\n",
      "Epoch 6 done: Loss = 0.33656580309922457\n",
      "Epoch 7 done: Loss = 0.3309740398458289\n",
      "Epoch 8 done: Loss = 0.3254597245526376\n",
      "Epoch 9 done: Loss = 0.3200387158746451\n",
      "model training done\n"
     ]
    },
    {
     "data": {
      "text/html": [
       "<br/>Waiting for W&B process to finish, PID 59124<br/>Program ended successfully."
      ],
      "text/plain": [
       "<IPython.core.display.HTML object>"
      ]
     },
     "metadata": {},
     "output_type": "display_data"
    },
    {
     "data": {
      "application/vnd.jupyter.widget-view+json": {
       "model_id": "",
       "version_major": 2,
       "version_minor": 0
      },
      "text/plain": [
       "VBox(children=(Label(value=' 0.00MB of 0.00MB uploaded (0.00MB deduped)\\r'), FloatProgress(value=1.0, max=1.0)…"
      ]
     },
     "metadata": {},
     "output_type": "display_data"
    },
    {
     "data": {
      "text/html": [
       "Find user logs for this run at: <code>/home/krishna/iit/sem6/dl/wandb/run-20210311_142333-1vcui5rp/logs/debug.log</code>"
      ],
      "text/plain": [
       "<IPython.core.display.HTML object>"
      ]
     },
     "metadata": {},
     "output_type": "display_data"
    },
    {
     "data": {
      "text/html": [
       "Find internal logs for this run at: <code>/home/krishna/iit/sem6/dl/wandb/run-20210311_142333-1vcui5rp/logs/debug-internal.log</code>"
      ],
      "text/plain": [
       "<IPython.core.display.HTML object>"
      ]
     },
     "metadata": {},
     "output_type": "display_data"
    },
    {
     "data": {
      "text/html": [
       "<h3>Run summary:</h3><br/><style>\n",
       "    table.wandb td:nth-child(1) { padding: 0 10px; text-align: right }\n",
       "    </style><table class=\"wandb\">\n",
       "<tr><td>train accuracy</td><td>0.9009</td></tr><tr><td>validation accuracy</td><td>0.88058</td></tr><tr><td>train loss</td><td>0.32004</td></tr><tr><td>val loss</td><td>0.37157</td></tr><tr><td>_runtime</td><td>100</td></tr><tr><td>_timestamp</td><td>1615452914</td></tr><tr><td>_step</td><td>9</td></tr></table>"
      ],
      "text/plain": [
       "<IPython.core.display.HTML object>"
      ]
     },
     "metadata": {},
     "output_type": "display_data"
    },
    {
     "data": {
      "text/html": [
       "<h3>Run history:</h3><br/><style>\n",
       "    table.wandb td:nth-child(1) { padding: 0 10px; text-align: right }\n",
       "    </style><table class=\"wandb\">\n",
       "<tr><td>train accuracy</td><td>▁▄▅▆▆▆▇▇██</td></tr><tr><td>validation accuracy</td><td>▁▄▆▆▇▇▇███</td></tr><tr><td>train loss</td><td>█▅▄▃▃▃▂▂▁▁</td></tr><tr><td>val loss</td><td>█▄▃▂▂▂▂▁▁▁</td></tr><tr><td>_runtime</td><td>▁▂▃▃▄▅▆▆▇█</td></tr><tr><td>_timestamp</td><td>▁▂▃▃▄▅▆▆▇█</td></tr><tr><td>_step</td><td>▁▂▃▃▄▅▆▆▇█</td></tr></table><br/>"
      ],
      "text/plain": [
       "<IPython.core.display.HTML object>"
      ]
     },
     "metadata": {},
     "output_type": "display_data"
    },
    {
     "data": {
      "text/html": [
       "Synced 5 W&B file(s), 0 media file(s), 0 artifact file(s) and 0 other file(s)"
      ],
      "text/plain": [
       "<IPython.core.display.HTML object>"
      ]
     },
     "metadata": {},
     "output_type": "display_data"
    },
    {
     "data": {
      "text/html": [
       "\n",
       "                    <br/>Synced <strong style=\"color:#cdcd00\">hello</strong>: <a href=\"https://wandb.ai/notarchana/CS6910-A1/runs/1vcui5rp\" target=\"_blank\">https://wandb.ai/notarchana/CS6910-A1/runs/1vcui5rp</a><br/>\n",
       "                "
      ],
      "text/plain": [
       "<IPython.core.display.HTML object>"
      ]
     },
     "metadata": {},
     "output_type": "display_data"
    },
    {
     "name": "stderr",
     "output_type": "stream",
     "text": [
      "\u001b[34m\u001b[1mwandb\u001b[0m: Agent Starting Run: e7gon9qq with config:\n",
      "\u001b[34m\u001b[1mwandb\u001b[0m: \tactivation: relu\n",
      "\u001b[34m\u001b[1mwandb\u001b[0m: \tbatch_size: 64\n",
      "\u001b[34m\u001b[1mwandb\u001b[0m: \tepochs: 10\n",
      "\u001b[34m\u001b[1mwandb\u001b[0m: \thidden_layer_size: 128\n",
      "\u001b[34m\u001b[1mwandb\u001b[0m: \thidden_layers: 3\n",
      "\u001b[34m\u001b[1mwandb\u001b[0m: \tlr: 0.001\n",
      "\u001b[34m\u001b[1mwandb\u001b[0m: \toptimiser: rmsprop\n",
      "\u001b[34m\u001b[1mwandb\u001b[0m: \tweight_decay: 0.5\n",
      "\u001b[34m\u001b[1mwandb\u001b[0m: \tweight_init: xavier\n"
     ]
    },
    {
     "data": {
      "text/html": [
       "\n",
       "                Tracking run with wandb version 0.10.22<br/>\n",
       "                Syncing run <strong style=\"color:#cdcd00\">hello</strong> to <a href=\"https://wandb.ai\" target=\"_blank\">Weights & Biases</a> <a href=\"https://docs.wandb.com/integrations/jupyter.html\" target=\"_blank\">(Documentation)</a>.<br/>\n",
       "                Project page: <a href=\"https://wandb.ai/notarchana/CS6910-A1\" target=\"_blank\">https://wandb.ai/notarchana/CS6910-A1</a><br/>\n",
       "                Sweep page: <a href=\"https://wandb.ai/notarchana/CS6910-A1/sweeps/lzmcss02\" target=\"_blank\">https://wandb.ai/notarchana/CS6910-A1/sweeps/lzmcss02</a><br/>\n",
       "Run page: <a href=\"https://wandb.ai/notarchana/CS6910-A1/runs/e7gon9qq\" target=\"_blank\">https://wandb.ai/notarchana/CS6910-A1/runs/e7gon9qq</a><br/>\n",
       "                Run data is saved locally in <code>/home/krishna/iit/sem6/dl/wandb/run-20210311_142523-e7gon9qq</code><br/><br/>\n",
       "            "
      ],
      "text/plain": [
       "<IPython.core.display.HTML object>"
      ]
     },
     "metadata": {},
     "output_type": "display_data"
    },
    {
     "name": "stderr",
     "output_type": "stream",
     "text": [
      "\u001b[34m\u001b[1mwandb\u001b[0m: \u001b[33mWARNING\u001b[0m Calling run.save without any arguments is deprecated.Changes to attributes are automatically persisted.\n"
     ]
    },
    {
     "name": "stdout",
     "output_type": "stream",
     "text": [
      "model building done\n",
      "Epoch 0 done: Loss = 0.4061206106026353\n",
      "Epoch 1 done: Loss = 0.3634049875516781\n",
      "Epoch 2 done: Loss = 0.32847300263700385\n",
      "Epoch 3 done: Loss = 0.3321549801460729\n",
      "Epoch 4 done: Loss = 0.31485823787597533\n",
      "Epoch 5 done: Loss = 0.3314465361642413\n",
      "Epoch 6 done: Loss = 0.3309535880885675\n",
      "Epoch 7 done: Loss = 0.3311042989807091\n",
      "Epoch 8 done: Loss = 0.31260983965287453\n",
      "Epoch 9 done: Loss = 0.3187941999987381\n",
      "model training done\n"
     ]
    },
    {
     "data": {
      "text/html": [
       "<br/>Waiting for W&B process to finish, PID 59190<br/>Program ended successfully."
      ],
      "text/plain": [
       "<IPython.core.display.HTML object>"
      ]
     },
     "metadata": {},
     "output_type": "display_data"
    },
    {
     "data": {
      "application/vnd.jupyter.widget-view+json": {
       "model_id": "",
       "version_major": 2,
       "version_minor": 0
      },
      "text/plain": [
       "VBox(children=(Label(value=' 0.00MB of 0.00MB uploaded (0.00MB deduped)\\r'), FloatProgress(value=1.0, max=1.0)…"
      ]
     },
     "metadata": {},
     "output_type": "display_data"
    },
    {
     "data": {
      "text/html": [
       "Find user logs for this run at: <code>/home/krishna/iit/sem6/dl/wandb/run-20210311_142523-e7gon9qq/logs/debug.log</code>"
      ],
      "text/plain": [
       "<IPython.core.display.HTML object>"
      ]
     },
     "metadata": {},
     "output_type": "display_data"
    },
    {
     "data": {
      "text/html": [
       "Find internal logs for this run at: <code>/home/krishna/iit/sem6/dl/wandb/run-20210311_142523-e7gon9qq/logs/debug-internal.log</code>"
      ],
      "text/plain": [
       "<IPython.core.display.HTML object>"
      ]
     },
     "metadata": {},
     "output_type": "display_data"
    },
    {
     "data": {
      "text/html": [
       "<h3>Run summary:</h3><br/><style>\n",
       "    table.wandb td:nth-child(1) { padding: 0 10px; text-align: right }\n",
       "    </style><table class=\"wandb\">\n",
       "<tr><td>train accuracy</td><td>0.90277</td></tr><tr><td>validation accuracy</td><td>0.87558</td></tr><tr><td>train loss</td><td>0.31879</td></tr><tr><td>val loss</td><td>0.4078</td></tr><tr><td>_runtime</td><td>41</td></tr><tr><td>_timestamp</td><td>1615452964</td></tr><tr><td>_step</td><td>9</td></tr></table>"
      ],
      "text/plain": [
       "<IPython.core.display.HTML object>"
      ]
     },
     "metadata": {},
     "output_type": "display_data"
    },
    {
     "data": {
      "text/html": [
       "<h3>Run history:</h3><br/><style>\n",
       "    table.wandb td:nth-child(1) { padding: 0 10px; text-align: right }\n",
       "    </style><table class=\"wandb\">\n",
       "<tr><td>train accuracy</td><td>▁▄▆▆▆▆▆▇██</td></tr><tr><td>validation accuracy</td><td>▁▅▇▇▇▆▆▇█▇</td></tr><tr><td>train loss</td><td>█▅▂▂▁▂▂▂▁▁</td></tr><tr><td>val loss</td><td>█▄▁▂▁▄▄▆▄▆</td></tr><tr><td>_runtime</td><td>▁▂▃▃▄▅▆▆▇█</td></tr><tr><td>_timestamp</td><td>▁▂▃▃▄▅▆▆▇█</td></tr><tr><td>_step</td><td>▁▂▃▃▄▅▆▆▇█</td></tr></table><br/>"
      ],
      "text/plain": [
       "<IPython.core.display.HTML object>"
      ]
     },
     "metadata": {},
     "output_type": "display_data"
    },
    {
     "data": {
      "text/html": [
       "Synced 5 W&B file(s), 0 media file(s), 0 artifact file(s) and 0 other file(s)"
      ],
      "text/plain": [
       "<IPython.core.display.HTML object>"
      ]
     },
     "metadata": {},
     "output_type": "display_data"
    },
    {
     "data": {
      "text/html": [
       "\n",
       "                    <br/>Synced <strong style=\"color:#cdcd00\">hello</strong>: <a href=\"https://wandb.ai/notarchana/CS6910-A1/runs/e7gon9qq\" target=\"_blank\">https://wandb.ai/notarchana/CS6910-A1/runs/e7gon9qq</a><br/>\n",
       "                "
      ],
      "text/plain": [
       "<IPython.core.display.HTML object>"
      ]
     },
     "metadata": {},
     "output_type": "display_data"
    },
    {
     "name": "stderr",
     "output_type": "stream",
     "text": [
      "\u001b[34m\u001b[1mwandb\u001b[0m: Agent Starting Run: fuzjyw4w with config:\n",
      "\u001b[34m\u001b[1mwandb\u001b[0m: \tactivation: sigmoid\n",
      "\u001b[34m\u001b[1mwandb\u001b[0m: \tbatch_size: 32\n",
      "\u001b[34m\u001b[1mwandb\u001b[0m: \tepochs: 10\n",
      "\u001b[34m\u001b[1mwandb\u001b[0m: \thidden_layer_size: 64\n",
      "\u001b[34m\u001b[1mwandb\u001b[0m: \thidden_layers: 4\n",
      "\u001b[34m\u001b[1mwandb\u001b[0m: \tlr: 0.001\n",
      "\u001b[34m\u001b[1mwandb\u001b[0m: \toptimiser: adam\n",
      "\u001b[34m\u001b[1mwandb\u001b[0m: \tweight_decay: 0.0005\n",
      "\u001b[34m\u001b[1mwandb\u001b[0m: \tweight_init: xavier\n"
     ]
    },
    {
     "data": {
      "text/html": [
       "\n",
       "                Tracking run with wandb version 0.10.22<br/>\n",
       "                Syncing run <strong style=\"color:#cdcd00\">hello</strong> to <a href=\"https://wandb.ai\" target=\"_blank\">Weights & Biases</a> <a href=\"https://docs.wandb.com/integrations/jupyter.html\" target=\"_blank\">(Documentation)</a>.<br/>\n",
       "                Project page: <a href=\"https://wandb.ai/notarchana/CS6910-A1\" target=\"_blank\">https://wandb.ai/notarchana/CS6910-A1</a><br/>\n",
       "                Sweep page: <a href=\"https://wandb.ai/notarchana/CS6910-A1/sweeps/lzmcss02\" target=\"_blank\">https://wandb.ai/notarchana/CS6910-A1/sweeps/lzmcss02</a><br/>\n",
       "Run page: <a href=\"https://wandb.ai/notarchana/CS6910-A1/runs/fuzjyw4w\" target=\"_blank\">https://wandb.ai/notarchana/CS6910-A1/runs/fuzjyw4w</a><br/>\n",
       "                Run data is saved locally in <code>/home/krishna/iit/sem6/dl/wandb/run-20210311_142611-fuzjyw4w</code><br/><br/>\n",
       "            "
      ],
      "text/plain": [
       "<IPython.core.display.HTML object>"
      ]
     },
     "metadata": {},
     "output_type": "display_data"
    },
    {
     "name": "stderr",
     "output_type": "stream",
     "text": [
      "\u001b[34m\u001b[1mwandb\u001b[0m: \u001b[33mWARNING\u001b[0m Calling run.save without any arguments is deprecated.Changes to attributes are automatically persisted.\n"
     ]
    },
    {
     "name": "stdout",
     "output_type": "stream",
     "text": [
      "model building done\n",
      "Epoch 0 done: Loss = 1.0711476036999432\n",
      "Epoch 1 done: Loss = 0.6952255133669446\n",
      "Epoch 2 done: Loss = 0.5883993518297986\n",
      "Epoch 3 done: Loss = 0.5460596152611761\n",
      "Epoch 4 done: Loss = 0.5180171192874677\n",
      "Epoch 5 done: Loss = 0.4951041728267138\n",
      "Epoch 6 done: Loss = 0.4782505218494402\n",
      "Epoch 7 done: Loss = 0.46529095490329764\n",
      "Epoch 8 done: Loss = 0.45448833977504344\n",
      "Epoch 9 done: Loss = 0.44481857758625754\n",
      "model training done\n"
     ]
    },
    {
     "data": {
      "text/html": [
       "<br/>Waiting for W&B process to finish, PID 59223<br/>Program ended successfully."
      ],
      "text/plain": [
       "<IPython.core.display.HTML object>"
      ]
     },
     "metadata": {},
     "output_type": "display_data"
    },
    {
     "data": {
      "application/vnd.jupyter.widget-view+json": {
       "model_id": "",
       "version_major": 2,
       "version_minor": 0
      },
      "text/plain": [
       "VBox(children=(Label(value=' 0.00MB of 0.00MB uploaded (0.00MB deduped)\\r'), FloatProgress(value=1.0, max=1.0)…"
      ]
     },
     "metadata": {},
     "output_type": "display_data"
    },
    {
     "data": {
      "text/html": [
       "Find user logs for this run at: <code>/home/krishna/iit/sem6/dl/wandb/run-20210311_142611-fuzjyw4w/logs/debug.log</code>"
      ],
      "text/plain": [
       "<IPython.core.display.HTML object>"
      ]
     },
     "metadata": {},
     "output_type": "display_data"
    },
    {
     "data": {
      "text/html": [
       "Find internal logs for this run at: <code>/home/krishna/iit/sem6/dl/wandb/run-20210311_142611-fuzjyw4w/logs/debug-internal.log</code>"
      ],
      "text/plain": [
       "<IPython.core.display.HTML object>"
      ]
     },
     "metadata": {},
     "output_type": "display_data"
    },
    {
     "data": {
      "text/html": [
       "<h3>Run summary:</h3><br/><style>\n",
       "    table.wandb td:nth-child(1) { padding: 0 10px; text-align: right }\n",
       "    </style><table class=\"wandb\">\n",
       "<tr><td>train accuracy</td><td>0.86417</td></tr><tr><td>validation accuracy</td><td>0.85333</td></tr><tr><td>train loss</td><td>0.44482</td></tr><tr><td>val loss</td><td>0.46719</td></tr><tr><td>_runtime</td><td>54</td></tr><tr><td>_timestamp</td><td>1615453025</td></tr><tr><td>_step</td><td>9</td></tr></table>"
      ],
      "text/plain": [
       "<IPython.core.display.HTML object>"
      ]
     },
     "metadata": {},
     "output_type": "display_data"
    },
    {
     "data": {
      "text/html": [
       "<h3>Run history:</h3><br/><style>\n",
       "    table.wandb td:nth-child(1) { padding: 0 10px; text-align: right }\n",
       "    </style><table class=\"wandb\">\n",
       "<tr><td>train accuracy</td><td>▁▆▆▇▇█████</td></tr><tr><td>validation accuracy</td><td>▁▆▆▇▇█████</td></tr><tr><td>train loss</td><td>█▄▃▂▂▂▁▁▁▁</td></tr><tr><td>val loss</td><td>█▄▃▂▂▂▁▁▁▁</td></tr><tr><td>_runtime</td><td>▁▂▂▃▄▅▆▇▇█</td></tr><tr><td>_timestamp</td><td>▁▂▂▃▄▅▆▇▇█</td></tr><tr><td>_step</td><td>▁▂▃▃▄▅▆▆▇█</td></tr></table><br/>"
      ],
      "text/plain": [
       "<IPython.core.display.HTML object>"
      ]
     },
     "metadata": {},
     "output_type": "display_data"
    },
    {
     "data": {
      "text/html": [
       "Synced 5 W&B file(s), 0 media file(s), 0 artifact file(s) and 0 other file(s)"
      ],
      "text/plain": [
       "<IPython.core.display.HTML object>"
      ]
     },
     "metadata": {},
     "output_type": "display_data"
    },
    {
     "data": {
      "text/html": [
       "\n",
       "                    <br/>Synced <strong style=\"color:#cdcd00\">hello</strong>: <a href=\"https://wandb.ai/notarchana/CS6910-A1/runs/fuzjyw4w\" target=\"_blank\">https://wandb.ai/notarchana/CS6910-A1/runs/fuzjyw4w</a><br/>\n",
       "                "
      ],
      "text/plain": [
       "<IPython.core.display.HTML object>"
      ]
     },
     "metadata": {},
     "output_type": "display_data"
    },
    {
     "name": "stderr",
     "output_type": "stream",
     "text": [
      "\u001b[34m\u001b[1mwandb\u001b[0m: Agent Starting Run: 3d4u7m0z with config:\n",
      "\u001b[34m\u001b[1mwandb\u001b[0m: \tactivation: tanh\n",
      "\u001b[34m\u001b[1mwandb\u001b[0m: \tbatch_size: 64\n",
      "\u001b[34m\u001b[1mwandb\u001b[0m: \tepochs: 10\n",
      "\u001b[34m\u001b[1mwandb\u001b[0m: \thidden_layer_size: 128\n",
      "\u001b[34m\u001b[1mwandb\u001b[0m: \thidden_layers: 3\n",
      "\u001b[34m\u001b[1mwandb\u001b[0m: \tlr: 0.001\n",
      "\u001b[34m\u001b[1mwandb\u001b[0m: \toptimiser: nesterov\n",
      "\u001b[34m\u001b[1mwandb\u001b[0m: \tweight_decay: 0.0005\n",
      "\u001b[34m\u001b[1mwandb\u001b[0m: \tweight_init: xavier\n"
     ]
    },
    {
     "data": {
      "text/html": [
       "\n",
       "                Tracking run with wandb version 0.10.22<br/>\n",
       "                Syncing run <strong style=\"color:#cdcd00\">hello</strong> to <a href=\"https://wandb.ai\" target=\"_blank\">Weights & Biases</a> <a href=\"https://docs.wandb.com/integrations/jupyter.html\" target=\"_blank\">(Documentation)</a>.<br/>\n",
       "                Project page: <a href=\"https://wandb.ai/notarchana/CS6910-A1\" target=\"_blank\">https://wandb.ai/notarchana/CS6910-A1</a><br/>\n",
       "                Sweep page: <a href=\"https://wandb.ai/notarchana/CS6910-A1/sweeps/lzmcss02\" target=\"_blank\">https://wandb.ai/notarchana/CS6910-A1/sweeps/lzmcss02</a><br/>\n",
       "Run page: <a href=\"https://wandb.ai/notarchana/CS6910-A1/runs/3d4u7m0z\" target=\"_blank\">https://wandb.ai/notarchana/CS6910-A1/runs/3d4u7m0z</a><br/>\n",
       "                Run data is saved locally in <code>/home/krishna/iit/sem6/dl/wandb/run-20210311_142712-3d4u7m0z</code><br/><br/>\n",
       "            "
      ],
      "text/plain": [
       "<IPython.core.display.HTML object>"
      ]
     },
     "metadata": {},
     "output_type": "display_data"
    },
    {
     "name": "stderr",
     "output_type": "stream",
     "text": [
      "\u001b[34m\u001b[1mwandb\u001b[0m: \u001b[33mWARNING\u001b[0m Calling run.save without any arguments is deprecated.Changes to attributes are automatically persisted.\n"
     ]
    },
    {
     "name": "stdout",
     "output_type": "stream",
     "text": [
      "model building done\n",
      "Epoch 0 done: Loss = 0.9037730472159377\n",
      "Epoch 1 done: Loss = 0.7198743914261553\n",
      "Epoch 2 done: Loss = 0.6371382757529079\n",
      "Epoch 3 done: Loss = 0.588010170991079\n",
      "Epoch 4 done: Loss = 0.5570053153420785\n",
      "Epoch 5 done: Loss = 0.5358827622574024\n",
      "Epoch 6 done: Loss = 0.5197086774160948\n",
      "Epoch 7 done: Loss = 0.5063589831014986\n",
      "Epoch 8 done: Loss = 0.49495845901749724\n",
      "Epoch 9 done: Loss = 0.4850572288630292\n",
      "model training done\n"
     ]
    },
    {
     "data": {
      "text/html": [
       "<br/>Waiting for W&B process to finish, PID 59260<br/>Program ended successfully."
      ],
      "text/plain": [
       "<IPython.core.display.HTML object>"
      ]
     },
     "metadata": {},
     "output_type": "display_data"
    },
    {
     "data": {
      "application/vnd.jupyter.widget-view+json": {
       "model_id": "",
       "version_major": 2,
       "version_minor": 0
      },
      "text/plain": [
       "VBox(children=(Label(value=' 0.00MB of 0.00MB uploaded (0.00MB deduped)\\r'), FloatProgress(value=1.0, max=1.0)…"
      ]
     },
     "metadata": {},
     "output_type": "display_data"
    },
    {
     "data": {
      "text/html": [
       "Find user logs for this run at: <code>/home/krishna/iit/sem6/dl/wandb/run-20210311_142712-3d4u7m0z/logs/debug.log</code>"
      ],
      "text/plain": [
       "<IPython.core.display.HTML object>"
      ]
     },
     "metadata": {},
     "output_type": "display_data"
    },
    {
     "data": {
      "text/html": [
       "Find internal logs for this run at: <code>/home/krishna/iit/sem6/dl/wandb/run-20210311_142712-3d4u7m0z/logs/debug-internal.log</code>"
      ],
      "text/plain": [
       "<IPython.core.display.HTML object>"
      ]
     },
     "metadata": {},
     "output_type": "display_data"
    },
    {
     "data": {
      "text/html": [
       "<h3>Run summary:</h3><br/><style>\n",
       "    table.wandb td:nth-child(1) { padding: 0 10px; text-align: right }\n",
       "    </style><table class=\"wandb\">\n",
       "<tr><td>train accuracy</td><td>0.8406</td></tr><tr><td>validation accuracy</td><td>0.83267</td></tr><tr><td>train loss</td><td>0.48506</td></tr><tr><td>val loss</td><td>0.50156</td></tr><tr><td>_runtime</td><td>70</td></tr><tr><td>_timestamp</td><td>1615453102</td></tr><tr><td>_step</td><td>9</td></tr></table>"
      ],
      "text/plain": [
       "<IPython.core.display.HTML object>"
      ]
     },
     "metadata": {},
     "output_type": "display_data"
    },
    {
     "data": {
      "text/html": [
       "<h3>Run history:</h3><br/><style>\n",
       "    table.wandb td:nth-child(1) { padding: 0 10px; text-align: right }\n",
       "    </style><table class=\"wandb\">\n",
       "<tr><td>train accuracy</td><td>▁▄▆▆▇▇▇███</td></tr><tr><td>validation accuracy</td><td>▁▄▆▆▇▇▇███</td></tr><tr><td>train loss</td><td>█▅▄▃▂▂▂▁▁▁</td></tr><tr><td>val loss</td><td>█▅▄▃▂▂▂▁▁▁</td></tr><tr><td>_runtime</td><td>▁▂▂▃▄▅▆▆▇█</td></tr><tr><td>_timestamp</td><td>▁▂▂▃▄▅▆▆▇█</td></tr><tr><td>_step</td><td>▁▂▃▃▄▅▆▆▇█</td></tr></table><br/>"
      ],
      "text/plain": [
       "<IPython.core.display.HTML object>"
      ]
     },
     "metadata": {},
     "output_type": "display_data"
    },
    {
     "data": {
      "text/html": [
       "Synced 5 W&B file(s), 0 media file(s), 0 artifact file(s) and 0 other file(s)"
      ],
      "text/plain": [
       "<IPython.core.display.HTML object>"
      ]
     },
     "metadata": {},
     "output_type": "display_data"
    },
    {
     "data": {
      "text/html": [
       "\n",
       "                    <br/>Synced <strong style=\"color:#cdcd00\">hello</strong>: <a href=\"https://wandb.ai/notarchana/CS6910-A1/runs/3d4u7m0z\" target=\"_blank\">https://wandb.ai/notarchana/CS6910-A1/runs/3d4u7m0z</a><br/>\n",
       "                "
      ],
      "text/plain": [
       "<IPython.core.display.HTML object>"
      ]
     },
     "metadata": {},
     "output_type": "display_data"
    },
    {
     "name": "stderr",
     "output_type": "stream",
     "text": [
      "\u001b[34m\u001b[1mwandb\u001b[0m: Agent Starting Run: brhljn8h with config:\n",
      "\u001b[34m\u001b[1mwandb\u001b[0m: \tactivation: sigmoid\n",
      "\u001b[34m\u001b[1mwandb\u001b[0m: \tbatch_size: 16\n",
      "\u001b[34m\u001b[1mwandb\u001b[0m: \tepochs: 10\n",
      "\u001b[34m\u001b[1mwandb\u001b[0m: \thidden_layer_size: 64\n",
      "\u001b[34m\u001b[1mwandb\u001b[0m: \thidden_layers: 3\n",
      "\u001b[34m\u001b[1mwandb\u001b[0m: \tlr: 0.001\n",
      "\u001b[34m\u001b[1mwandb\u001b[0m: \toptimiser: rmsprop\n",
      "\u001b[34m\u001b[1mwandb\u001b[0m: \tweight_decay: 0.0005\n",
      "\u001b[34m\u001b[1mwandb\u001b[0m: \tweight_init: xavier\n"
     ]
    },
    {
     "data": {
      "text/html": [
       "\n",
       "                Tracking run with wandb version 0.10.22<br/>\n",
       "                Syncing run <strong style=\"color:#cdcd00\">hello</strong> to <a href=\"https://wandb.ai\" target=\"_blank\">Weights & Biases</a> <a href=\"https://docs.wandb.com/integrations/jupyter.html\" target=\"_blank\">(Documentation)</a>.<br/>\n",
       "                Project page: <a href=\"https://wandb.ai/notarchana/CS6910-A1\" target=\"_blank\">https://wandb.ai/notarchana/CS6910-A1</a><br/>\n",
       "                Sweep page: <a href=\"https://wandb.ai/notarchana/CS6910-A1/sweeps/lzmcss02\" target=\"_blank\">https://wandb.ai/notarchana/CS6910-A1/sweeps/lzmcss02</a><br/>\n",
       "Run page: <a href=\"https://wandb.ai/notarchana/CS6910-A1/runs/brhljn8h\" target=\"_blank\">https://wandb.ai/notarchana/CS6910-A1/runs/brhljn8h</a><br/>\n",
       "                Run data is saved locally in <code>/home/krishna/iit/sem6/dl/wandb/run-20210311_142829-brhljn8h</code><br/><br/>\n",
       "            "
      ],
      "text/plain": [
       "<IPython.core.display.HTML object>"
      ]
     },
     "metadata": {},
     "output_type": "display_data"
    },
    {
     "name": "stderr",
     "output_type": "stream",
     "text": [
      "\u001b[34m\u001b[1mwandb\u001b[0m: \u001b[33mWARNING\u001b[0m Calling run.save without any arguments is deprecated.Changes to attributes are automatically persisted.\n"
     ]
    },
    {
     "name": "stdout",
     "output_type": "stream",
     "text": [
      "model building done\n",
      "Epoch 0 done: Loss = 0.5396704287221992\n",
      "Epoch 1 done: Loss = 0.48193868862569017\n",
      "Epoch 2 done: Loss = 0.44995525046703716\n",
      "Epoch 3 done: Loss = 0.4199266266266114\n",
      "Epoch 4 done: Loss = 0.4011299726824137\n",
      "Epoch 5 done: Loss = 0.3935006671957786\n",
      "Epoch 6 done: Loss = 0.38191380140468467\n",
      "Epoch 7 done: Loss = 0.3813336270621082\n",
      "Epoch 8 done: Loss = 0.3823957492571061\n",
      "Epoch 9 done: Loss = 0.37985334405698706\n",
      "model training done\n"
     ]
    },
    {
     "data": {
      "text/html": [
       "<br/>Waiting for W&B process to finish, PID 59299<br/>Program ended successfully."
      ],
      "text/plain": [
       "<IPython.core.display.HTML object>"
      ]
     },
     "metadata": {},
     "output_type": "display_data"
    },
    {
     "data": {
      "application/vnd.jupyter.widget-view+json": {
       "model_id": "",
       "version_major": 2,
       "version_minor": 0
      },
      "text/plain": [
       "VBox(children=(Label(value=' 0.00MB of 0.00MB uploaded (0.00MB deduped)\\r'), FloatProgress(value=1.0, max=1.0)…"
      ]
     },
     "metadata": {},
     "output_type": "display_data"
    },
    {
     "data": {
      "text/html": [
       "Find user logs for this run at: <code>/home/krishna/iit/sem6/dl/wandb/run-20210311_142829-brhljn8h/logs/debug.log</code>"
      ],
      "text/plain": [
       "<IPython.core.display.HTML object>"
      ]
     },
     "metadata": {},
     "output_type": "display_data"
    },
    {
     "data": {
      "text/html": [
       "Find internal logs for this run at: <code>/home/krishna/iit/sem6/dl/wandb/run-20210311_142829-brhljn8h/logs/debug-internal.log</code>"
      ],
      "text/plain": [
       "<IPython.core.display.HTML object>"
      ]
     },
     "metadata": {},
     "output_type": "display_data"
    },
    {
     "data": {
      "text/html": [
       "<h3>Run summary:</h3><br/><style>\n",
       "    table.wandb td:nth-child(1) { padding: 0 10px; text-align: right }\n",
       "    </style><table class=\"wandb\">\n",
       "<tr><td>train accuracy</td><td>0.89129</td></tr><tr><td>validation accuracy</td><td>0.86783</td></tr><tr><td>train loss</td><td>0.37985</td></tr><tr><td>val loss</td><td>0.45043</td></tr><tr><td>_runtime</td><td>61</td></tr><tr><td>_timestamp</td><td>1615453170</td></tr><tr><td>_step</td><td>9</td></tr></table>"
      ],
      "text/plain": [
       "<IPython.core.display.HTML object>"
      ]
     },
     "metadata": {},
     "output_type": "display_data"
    },
    {
     "data": {
      "text/html": [
       "<h3>Run history:</h3><br/><style>\n",
       "    table.wandb td:nth-child(1) { padding: 0 10px; text-align: right }\n",
       "    </style><table class=\"wandb\">\n",
       "<tr><td>train accuracy</td><td>▁▄▅▆▇▇▇███</td></tr><tr><td>validation accuracy</td><td>▁▄▅▆▇▇████</td></tr><tr><td>train loss</td><td>█▅▄▃▂▂▁▁▁▁</td></tr><tr><td>val loss</td><td>█▅▄▂▂▁▁▁▂▂</td></tr><tr><td>_runtime</td><td>▁▂▃▃▄▅▆▇▇█</td></tr><tr><td>_timestamp</td><td>▁▂▃▃▄▅▆▇▇█</td></tr><tr><td>_step</td><td>▁▂▃▃▄▅▆▆▇█</td></tr></table><br/>"
      ],
      "text/plain": [
       "<IPython.core.display.HTML object>"
      ]
     },
     "metadata": {},
     "output_type": "display_data"
    },
    {
     "data": {
      "text/html": [
       "Synced 5 W&B file(s), 0 media file(s), 0 artifact file(s) and 0 other file(s)"
      ],
      "text/plain": [
       "<IPython.core.display.HTML object>"
      ]
     },
     "metadata": {},
     "output_type": "display_data"
    },
    {
     "data": {
      "text/html": [
       "\n",
       "                    <br/>Synced <strong style=\"color:#cdcd00\">hello</strong>: <a href=\"https://wandb.ai/notarchana/CS6910-A1/runs/brhljn8h\" target=\"_blank\">https://wandb.ai/notarchana/CS6910-A1/runs/brhljn8h</a><br/>\n",
       "                "
      ],
      "text/plain": [
       "<IPython.core.display.HTML object>"
      ]
     },
     "metadata": {},
     "output_type": "display_data"
    },
    {
     "name": "stderr",
     "output_type": "stream",
     "text": [
      "\u001b[34m\u001b[1mwandb\u001b[0m: Agent Starting Run: 32urfjev with config:\n",
      "\u001b[34m\u001b[1mwandb\u001b[0m: \tactivation: tanh\n",
      "\u001b[34m\u001b[1mwandb\u001b[0m: \tbatch_size: 64\n",
      "\u001b[34m\u001b[1mwandb\u001b[0m: \tepochs: 10\n",
      "\u001b[34m\u001b[1mwandb\u001b[0m: \thidden_layer_size: 64\n",
      "\u001b[34m\u001b[1mwandb\u001b[0m: \thidden_layers: 5\n",
      "\u001b[34m\u001b[1mwandb\u001b[0m: \tlr: 0.001\n",
      "\u001b[34m\u001b[1mwandb\u001b[0m: \toptimiser: nesterov\n",
      "\u001b[34m\u001b[1mwandb\u001b[0m: \tweight_decay: 0.0005\n",
      "\u001b[34m\u001b[1mwandb\u001b[0m: \tweight_init: xavier\n"
     ]
    },
    {
     "data": {
      "text/html": [
       "\n",
       "                Tracking run with wandb version 0.10.22<br/>\n",
       "                Syncing run <strong style=\"color:#cdcd00\">hello</strong> to <a href=\"https://wandb.ai\" target=\"_blank\">Weights & Biases</a> <a href=\"https://docs.wandb.com/integrations/jupyter.html\" target=\"_blank\">(Documentation)</a>.<br/>\n",
       "                Project page: <a href=\"https://wandb.ai/notarchana/CS6910-A1\" target=\"_blank\">https://wandb.ai/notarchana/CS6910-A1</a><br/>\n",
       "                Sweep page: <a href=\"https://wandb.ai/notarchana/CS6910-A1/sweeps/lzmcss02\" target=\"_blank\">https://wandb.ai/notarchana/CS6910-A1/sweeps/lzmcss02</a><br/>\n",
       "Run page: <a href=\"https://wandb.ai/notarchana/CS6910-A1/runs/32urfjev\" target=\"_blank\">https://wandb.ai/notarchana/CS6910-A1/runs/32urfjev</a><br/>\n",
       "                Run data is saved locally in <code>/home/krishna/iit/sem6/dl/wandb/run-20210311_142938-32urfjev</code><br/><br/>\n",
       "            "
      ],
      "text/plain": [
       "<IPython.core.display.HTML object>"
      ]
     },
     "metadata": {},
     "output_type": "display_data"
    },
    {
     "name": "stderr",
     "output_type": "stream",
     "text": [
      "\u001b[34m\u001b[1mwandb\u001b[0m: \u001b[33mWARNING\u001b[0m Calling run.save without any arguments is deprecated.Changes to attributes are automatically persisted.\n"
     ]
    },
    {
     "name": "stdout",
     "output_type": "stream",
     "text": [
      "model building done\n",
      "Epoch 0 done: Loss = 1.1340452743889837\n",
      "Epoch 1 done: Loss = 0.889220398424558\n",
      "Epoch 2 done: Loss = 0.7609649052650291\n",
      "Epoch 3 done: Loss = 0.6690616459828075\n",
      "Epoch 4 done: Loss = 0.6041906654451911\n",
      "Epoch 5 done: Loss = 0.5609496116399006\n",
      "Epoch 6 done: Loss = 0.5297588512384942\n",
      "Epoch 7 done: Loss = 0.5059123001208397\n",
      "Epoch 8 done: Loss = 0.4872716844058712\n",
      "Epoch 9 done: Loss = 0.4723522138691113\n",
      "model training done\n"
     ]
    },
    {
     "data": {
      "text/html": [
       "<br/>Waiting for W&B process to finish, PID 59382<br/>Program ended successfully."
      ],
      "text/plain": [
       "<IPython.core.display.HTML object>"
      ]
     },
     "metadata": {},
     "output_type": "display_data"
    },
    {
     "data": {
      "application/vnd.jupyter.widget-view+json": {
       "model_id": "",
       "version_major": 2,
       "version_minor": 0
      },
      "text/plain": [
       "VBox(children=(Label(value=' 0.00MB of 0.00MB uploaded (0.00MB deduped)\\r'), FloatProgress(value=1.0, max=1.0)…"
      ]
     },
     "metadata": {},
     "output_type": "display_data"
    },
    {
     "data": {
      "text/html": [
       "Find user logs for this run at: <code>/home/krishna/iit/sem6/dl/wandb/run-20210311_142938-32urfjev/logs/debug.log</code>"
      ],
      "text/plain": [
       "<IPython.core.display.HTML object>"
      ]
     },
     "metadata": {},
     "output_type": "display_data"
    },
    {
     "data": {
      "text/html": [
       "Find internal logs for this run at: <code>/home/krishna/iit/sem6/dl/wandb/run-20210311_142938-32urfjev/logs/debug-internal.log</code>"
      ],
      "text/plain": [
       "<IPython.core.display.HTML object>"
      ]
     },
     "metadata": {},
     "output_type": "display_data"
    },
    {
     "data": {
      "text/html": [
       "<h3>Run summary:</h3><br/><style>\n",
       "    table.wandb td:nth-child(1) { padding: 0 10px; text-align: right }\n",
       "    </style><table class=\"wandb\">\n",
       "<tr><td>train accuracy</td><td>0.8401</td></tr><tr><td>validation accuracy</td><td>0.84333</td></tr><tr><td>train loss</td><td>0.47235</td></tr><tr><td>val loss</td><td>0.46409</td></tr><tr><td>_runtime</td><td>46</td></tr><tr><td>_timestamp</td><td>1615453224</td></tr><tr><td>_step</td><td>9</td></tr></table>"
      ],
      "text/plain": [
       "<IPython.core.display.HTML object>"
      ]
     },
     "metadata": {},
     "output_type": "display_data"
    },
    {
     "data": {
      "text/html": [
       "<h3>Run history:</h3><br/><style>\n",
       "    table.wandb td:nth-child(1) { padding: 0 10px; text-align: right }\n",
       "    </style><table class=\"wandb\">\n",
       "<tr><td>train accuracy</td><td>▁▃▅▆▇▇▇███</td></tr><tr><td>validation accuracy</td><td>▁▃▅▆▇▇████</td></tr><tr><td>train loss</td><td>█▅▄▃▂▂▂▁▁▁</td></tr><tr><td>val loss</td><td>█▅▄▃▂▂▂▁▁▁</td></tr><tr><td>_runtime</td><td>▁▂▂▃▄▅▆▆▇█</td></tr><tr><td>_timestamp</td><td>▁▂▂▃▄▅▆▆▇█</td></tr><tr><td>_step</td><td>▁▂▃▃▄▅▆▆▇█</td></tr></table><br/>"
      ],
      "text/plain": [
       "<IPython.core.display.HTML object>"
      ]
     },
     "metadata": {},
     "output_type": "display_data"
    },
    {
     "data": {
      "text/html": [
       "Synced 5 W&B file(s), 0 media file(s), 0 artifact file(s) and 0 other file(s)"
      ],
      "text/plain": [
       "<IPython.core.display.HTML object>"
      ]
     },
     "metadata": {},
     "output_type": "display_data"
    },
    {
     "data": {
      "text/html": [
       "\n",
       "                    <br/>Synced <strong style=\"color:#cdcd00\">hello</strong>: <a href=\"https://wandb.ai/notarchana/CS6910-A1/runs/32urfjev\" target=\"_blank\">https://wandb.ai/notarchana/CS6910-A1/runs/32urfjev</a><br/>\n",
       "                "
      ],
      "text/plain": [
       "<IPython.core.display.HTML object>"
      ]
     },
     "metadata": {},
     "output_type": "display_data"
    },
    {
     "name": "stderr",
     "output_type": "stream",
     "text": [
      "\u001b[34m\u001b[1mwandb\u001b[0m: Sweep Agent: Waiting for job.\n",
      "\u001b[34m\u001b[1mwandb\u001b[0m: Job received.\n",
      "\u001b[34m\u001b[1mwandb\u001b[0m: Agent Starting Run: qxutgsh9 with config:\n",
      "\u001b[34m\u001b[1mwandb\u001b[0m: \tactivation: relu\n",
      "\u001b[34m\u001b[1mwandb\u001b[0m: \tbatch_size: 16\n",
      "\u001b[34m\u001b[1mwandb\u001b[0m: \tepochs: 10\n",
      "\u001b[34m\u001b[1mwandb\u001b[0m: \thidden_layer_size: 128\n",
      "\u001b[34m\u001b[1mwandb\u001b[0m: \thidden_layers: 5\n",
      "\u001b[34m\u001b[1mwandb\u001b[0m: \tlr: 0.001\n",
      "\u001b[34m\u001b[1mwandb\u001b[0m: \toptimiser: rmsprop\n",
      "\u001b[34m\u001b[1mwandb\u001b[0m: \tweight_decay: 0.5\n",
      "\u001b[34m\u001b[1mwandb\u001b[0m: \tweight_init: xavier\n"
     ]
    },
    {
     "data": {
      "text/html": [
       "\n",
       "                Tracking run with wandb version 0.10.22<br/>\n",
       "                Syncing run <strong style=\"color:#cdcd00\">hello</strong> to <a href=\"https://wandb.ai\" target=\"_blank\">Weights & Biases</a> <a href=\"https://docs.wandb.com/integrations/jupyter.html\" target=\"_blank\">(Documentation)</a>.<br/>\n",
       "                Project page: <a href=\"https://wandb.ai/notarchana/CS6910-A1\" target=\"_blank\">https://wandb.ai/notarchana/CS6910-A1</a><br/>\n",
       "                Sweep page: <a href=\"https://wandb.ai/notarchana/CS6910-A1/sweeps/lzmcss02\" target=\"_blank\">https://wandb.ai/notarchana/CS6910-A1/sweeps/lzmcss02</a><br/>\n",
       "Run page: <a href=\"https://wandb.ai/notarchana/CS6910-A1/runs/qxutgsh9\" target=\"_blank\">https://wandb.ai/notarchana/CS6910-A1/runs/qxutgsh9</a><br/>\n",
       "                Run data is saved locally in <code>/home/krishna/iit/sem6/dl/wandb/run-20210311_143040-qxutgsh9</code><br/><br/>\n",
       "            "
      ],
      "text/plain": [
       "<IPython.core.display.HTML object>"
      ]
     },
     "metadata": {},
     "output_type": "display_data"
    },
    {
     "name": "stderr",
     "output_type": "stream",
     "text": [
      "\u001b[34m\u001b[1mwandb\u001b[0m: \u001b[33mWARNING\u001b[0m Calling run.save without any arguments is deprecated.Changes to attributes are automatically persisted.\n"
     ]
    },
    {
     "name": "stdout",
     "output_type": "stream",
     "text": [
      "model building done\n",
      "Epoch 0 done: Loss = 0.443889522478054\n",
      "Epoch 1 done: Loss = 0.4194874588691979\n",
      "Epoch 2 done: Loss = 0.41495621289385987\n",
      "Epoch 3 done: Loss = 0.6006253045688006\n",
      "Epoch 4 done: Loss = 0.5063370702185189\n",
      "Epoch 5 done: Loss = 0.5800897513866131\n",
      "Epoch 6 done: Loss = 0.5747502869641621\n",
      "Epoch 7 done: Loss = 0.7527836762977648\n",
      "Epoch 8 done: Loss = 0.6552685016648042\n",
      "Epoch 9 done: Loss = 0.8142685753154478\n",
      "model training done\n"
     ]
    },
    {
     "data": {
      "text/html": [
       "<br/>Waiting for W&B process to finish, PID 59611<br/>Program ended successfully."
      ],
      "text/plain": [
       "<IPython.core.display.HTML object>"
      ]
     },
     "metadata": {},
     "output_type": "display_data"
    },
    {
     "data": {
      "application/vnd.jupyter.widget-view+json": {
       "model_id": "",
       "version_major": 2,
       "version_minor": 0
      },
      "text/plain": [
       "VBox(children=(Label(value=' 0.00MB of 0.00MB uploaded (0.00MB deduped)\\r'), FloatProgress(value=1.0, max=1.0)…"
      ]
     },
     "metadata": {},
     "output_type": "display_data"
    },
    {
     "data": {
      "text/html": [
       "Find user logs for this run at: <code>/home/krishna/iit/sem6/dl/wandb/run-20210311_143040-qxutgsh9/logs/debug.log</code>"
      ],
      "text/plain": [
       "<IPython.core.display.HTML object>"
      ]
     },
     "metadata": {},
     "output_type": "display_data"
    },
    {
     "data": {
      "text/html": [
       "Find internal logs for this run at: <code>/home/krishna/iit/sem6/dl/wandb/run-20210311_143040-qxutgsh9/logs/debug-internal.log</code>"
      ],
      "text/plain": [
       "<IPython.core.display.HTML object>"
      ]
     },
     "metadata": {},
     "output_type": "display_data"
    },
    {
     "data": {
      "text/html": [
       "<h3>Run summary:</h3><br/><style>\n",
       "    table.wandb td:nth-child(1) { padding: 0 10px; text-align: right }\n",
       "    </style><table class=\"wandb\">\n",
       "<tr><td>train accuracy</td><td>0.88729</td></tr><tr><td>validation accuracy</td><td>0.86817</td></tr><tr><td>train loss</td><td>0.81427</td></tr><tr><td>val loss</td><td>0.95006</td></tr><tr><td>_runtime</td><td>109</td></tr><tr><td>_timestamp</td><td>1615453349</td></tr><tr><td>_step</td><td>9</td></tr></table>"
      ],
      "text/plain": [
       "<IPython.core.display.HTML object>"
      ]
     },
     "metadata": {},
     "output_type": "display_data"
    },
    {
     "data": {
      "text/html": [
       "<h3>Run history:</h3><br/><style>\n",
       "    table.wandb td:nth-child(1) { padding: 0 10px; text-align: right }\n",
       "    </style><table class=\"wandb\">\n",
       "<tr><td>train accuracy</td><td>▁▄▆▂▇▅█▅█▇</td></tr><tr><td>validation accuracy</td><td>▁▆▆▂▇▆█▄█▇</td></tr><tr><td>train loss</td><td>▂▁▁▄▃▄▄▇▅█</td></tr><tr><td>val loss</td><td>▁▁▁▄▃▄▄▇▆█</td></tr><tr><td>_runtime</td><td>▁▂▂▃▄▅▆▆▇█</td></tr><tr><td>_timestamp</td><td>▁▂▂▃▄▅▆▆▇█</td></tr><tr><td>_step</td><td>▁▂▃▃▄▅▆▆▇█</td></tr></table><br/>"
      ],
      "text/plain": [
       "<IPython.core.display.HTML object>"
      ]
     },
     "metadata": {},
     "output_type": "display_data"
    },
    {
     "data": {
      "text/html": [
       "Synced 5 W&B file(s), 0 media file(s), 0 artifact file(s) and 0 other file(s)"
      ],
      "text/plain": [
       "<IPython.core.display.HTML object>"
      ]
     },
     "metadata": {},
     "output_type": "display_data"
    },
    {
     "data": {
      "text/html": [
       "\n",
       "                    <br/>Synced <strong style=\"color:#cdcd00\">hello</strong>: <a href=\"https://wandb.ai/notarchana/CS6910-A1/runs/qxutgsh9\" target=\"_blank\">https://wandb.ai/notarchana/CS6910-A1/runs/qxutgsh9</a><br/>\n",
       "                "
      ],
      "text/plain": [
       "<IPython.core.display.HTML object>"
      ]
     },
     "metadata": {},
     "output_type": "display_data"
    },
    {
     "name": "stderr",
     "output_type": "stream",
     "text": [
      "\u001b[34m\u001b[1mwandb\u001b[0m: Agent Starting Run: da7zgjbl with config:\n",
      "\u001b[34m\u001b[1mwandb\u001b[0m: \tactivation: sigmoid\n",
      "\u001b[34m\u001b[1mwandb\u001b[0m: \tbatch_size: 64\n",
      "\u001b[34m\u001b[1mwandb\u001b[0m: \tepochs: 10\n",
      "\u001b[34m\u001b[1mwandb\u001b[0m: \thidden_layer_size: 128\n",
      "\u001b[34m\u001b[1mwandb\u001b[0m: \thidden_layers: 4\n",
      "\u001b[34m\u001b[1mwandb\u001b[0m: \tlr: 0.001\n",
      "\u001b[34m\u001b[1mwandb\u001b[0m: \toptimiser: momentum\n",
      "\u001b[34m\u001b[1mwandb\u001b[0m: \tweight_decay: 0.0005\n",
      "\u001b[34m\u001b[1mwandb\u001b[0m: \tweight_init: xavier\n"
     ]
    },
    {
     "data": {
      "text/html": [
       "\n",
       "                Tracking run with wandb version 0.10.22<br/>\n",
       "                Syncing run <strong style=\"color:#cdcd00\">hello</strong> to <a href=\"https://wandb.ai\" target=\"_blank\">Weights & Biases</a> <a href=\"https://docs.wandb.com/integrations/jupyter.html\" target=\"_blank\">(Documentation)</a>.<br/>\n",
       "                Project page: <a href=\"https://wandb.ai/notarchana/CS6910-A1\" target=\"_blank\">https://wandb.ai/notarchana/CS6910-A1</a><br/>\n",
       "                Sweep page: <a href=\"https://wandb.ai/notarchana/CS6910-A1/sweeps/lzmcss02\" target=\"_blank\">https://wandb.ai/notarchana/CS6910-A1/sweeps/lzmcss02</a><br/>\n",
       "Run page: <a href=\"https://wandb.ai/notarchana/CS6910-A1/runs/da7zgjbl\" target=\"_blank\">https://wandb.ai/notarchana/CS6910-A1/runs/da7zgjbl</a><br/>\n",
       "                Run data is saved locally in <code>/home/krishna/iit/sem6/dl/wandb/run-20210311_143236-da7zgjbl</code><br/><br/>\n",
       "            "
      ],
      "text/plain": [
       "<IPython.core.display.HTML object>"
      ]
     },
     "metadata": {},
     "output_type": "display_data"
    },
    {
     "name": "stderr",
     "output_type": "stream",
     "text": [
      "\u001b[34m\u001b[1mwandb\u001b[0m: \u001b[33mWARNING\u001b[0m Calling run.save without any arguments is deprecated.Changes to attributes are automatically persisted.\n"
     ]
    },
    {
     "name": "stdout",
     "output_type": "stream",
     "text": [
      "model building done\n",
      "Epoch 0 done: Loss = 2.7772969325599535\n",
      "Epoch 1 done: Loss = 2.3077993355343547\n",
      "Epoch 2 done: Loss = 2.2839406373866726\n",
      "Epoch 3 done: Loss = 1.7404842151765902\n",
      "Epoch 4 done: Loss = 1.474993806993897\n",
      "Epoch 5 done: Loss = 1.0255911051497664\n",
      "Epoch 6 done: Loss = 0.8475014117793668\n",
      "Epoch 7 done: Loss = 0.7677686593076808\n",
      "Epoch 8 done: Loss = 0.7188267395901251\n",
      "Epoch 9 done: Loss = 0.67641383041544\n",
      "model training done\n"
     ]
    },
    {
     "data": {
      "text/html": [
       "<br/>Waiting for W&B process to finish, PID 59699<br/>Program ended successfully."
      ],
      "text/plain": [
       "<IPython.core.display.HTML object>"
      ]
     },
     "metadata": {},
     "output_type": "display_data"
    },
    {
     "data": {
      "application/vnd.jupyter.widget-view+json": {
       "model_id": "",
       "version_major": 2,
       "version_minor": 0
      },
      "text/plain": [
       "VBox(children=(Label(value=' 0.00MB of 0.00MB uploaded (0.00MB deduped)\\r'), FloatProgress(value=1.0, max=1.0)…"
      ]
     },
     "metadata": {},
     "output_type": "display_data"
    },
    {
     "data": {
      "text/html": [
       "Find user logs for this run at: <code>/home/krishna/iit/sem6/dl/wandb/run-20210311_143236-da7zgjbl/logs/debug.log</code>"
      ],
      "text/plain": [
       "<IPython.core.display.HTML object>"
      ]
     },
     "metadata": {},
     "output_type": "display_data"
    },
    {
     "data": {
      "text/html": [
       "Find internal logs for this run at: <code>/home/krishna/iit/sem6/dl/wandb/run-20210311_143236-da7zgjbl/logs/debug-internal.log</code>"
      ],
      "text/plain": [
       "<IPython.core.display.HTML object>"
      ]
     },
     "metadata": {},
     "output_type": "display_data"
    },
    {
     "data": {
      "text/html": [
       "<h3>Run summary:</h3><br/><style>\n",
       "    table.wandb td:nth-child(1) { padding: 0 10px; text-align: right }\n",
       "    </style><table class=\"wandb\">\n",
       "<tr><td>train accuracy</td><td>0.78448</td></tr><tr><td>validation accuracy</td><td>0.77942</td></tr><tr><td>train loss</td><td>0.67641</td></tr><tr><td>val loss</td><td>0.6915</td></tr><tr><td>_runtime</td><td>49</td></tr><tr><td>_timestamp</td><td>1615453405</td></tr><tr><td>_step</td><td>9</td></tr></table>"
      ],
      "text/plain": [
       "<IPython.core.display.HTML object>"
      ]
     },
     "metadata": {},
     "output_type": "display_data"
    },
    {
     "data": {
      "text/html": [
       "<h3>Run history:</h3><br/><style>\n",
       "    table.wandb td:nth-child(1) { padding: 0 10px; text-align: right }\n",
       "    </style><table class=\"wandb\">\n",
       "<tr><td>train accuracy</td><td>▁▁▂▃▅▆▇▇██</td></tr><tr><td>validation accuracy</td><td>▁▁▂▃▅▆▇▇██</td></tr><tr><td>train loss</td><td>█▆▆▅▄▂▂▁▁▁</td></tr><tr><td>val loss</td><td>█▆▆▄▄▂▂▁▁▁</td></tr><tr><td>_runtime</td><td>▁▂▃▃▄▅▅▆▇█</td></tr><tr><td>_timestamp</td><td>▁▂▃▃▄▅▅▆▇█</td></tr><tr><td>_step</td><td>▁▂▃▃▄▅▆▆▇█</td></tr></table><br/>"
      ],
      "text/plain": [
       "<IPython.core.display.HTML object>"
      ]
     },
     "metadata": {},
     "output_type": "display_data"
    },
    {
     "data": {
      "text/html": [
       "Synced 5 W&B file(s), 0 media file(s), 0 artifact file(s) and 0 other file(s)"
      ],
      "text/plain": [
       "<IPython.core.display.HTML object>"
      ]
     },
     "metadata": {},
     "output_type": "display_data"
    },
    {
     "data": {
      "text/html": [
       "\n",
       "                    <br/>Synced <strong style=\"color:#cdcd00\">hello</strong>: <a href=\"https://wandb.ai/notarchana/CS6910-A1/runs/da7zgjbl\" target=\"_blank\">https://wandb.ai/notarchana/CS6910-A1/runs/da7zgjbl</a><br/>\n",
       "                "
      ],
      "text/plain": [
       "<IPython.core.display.HTML object>"
      ]
     },
     "metadata": {},
     "output_type": "display_data"
    },
    {
     "name": "stderr",
     "output_type": "stream",
     "text": [
      "\u001b[34m\u001b[1mwandb\u001b[0m: Agent Starting Run: sryvxpq4 with config:\n",
      "\u001b[34m\u001b[1mwandb\u001b[0m: \tactivation: relu\n",
      "\u001b[34m\u001b[1mwandb\u001b[0m: \tbatch_size: 16\n",
      "\u001b[34m\u001b[1mwandb\u001b[0m: \tepochs: 10\n",
      "\u001b[34m\u001b[1mwandb\u001b[0m: \thidden_layer_size: 128\n",
      "\u001b[34m\u001b[1mwandb\u001b[0m: \thidden_layers: 4\n",
      "\u001b[34m\u001b[1mwandb\u001b[0m: \tlr: 0.001\n",
      "\u001b[34m\u001b[1mwandb\u001b[0m: \toptimiser: adam\n",
      "\u001b[34m\u001b[1mwandb\u001b[0m: \tweight_decay: 0.0005\n",
      "\u001b[34m\u001b[1mwandb\u001b[0m: \tweight_init: xavier\n"
     ]
    },
    {
     "data": {
      "text/html": [
       "\n",
       "                Tracking run with wandb version 0.10.22<br/>\n",
       "                Syncing run <strong style=\"color:#cdcd00\">hello</strong> to <a href=\"https://wandb.ai\" target=\"_blank\">Weights & Biases</a> <a href=\"https://docs.wandb.com/integrations/jupyter.html\" target=\"_blank\">(Documentation)</a>.<br/>\n",
       "                Project page: <a href=\"https://wandb.ai/notarchana/CS6910-A1\" target=\"_blank\">https://wandb.ai/notarchana/CS6910-A1</a><br/>\n",
       "                Sweep page: <a href=\"https://wandb.ai/notarchana/CS6910-A1/sweeps/lzmcss02\" target=\"_blank\">https://wandb.ai/notarchana/CS6910-A1/sweeps/lzmcss02</a><br/>\n",
       "Run page: <a href=\"https://wandb.ai/notarchana/CS6910-A1/runs/sryvxpq4\" target=\"_blank\">https://wandb.ai/notarchana/CS6910-A1/runs/sryvxpq4</a><br/>\n",
       "                Run data is saved locally in <code>/home/krishna/iit/sem6/dl/wandb/run-20210311_143332-sryvxpq4</code><br/><br/>\n",
       "            "
      ],
      "text/plain": [
       "<IPython.core.display.HTML object>"
      ]
     },
     "metadata": {},
     "output_type": "display_data"
    },
    {
     "name": "stderr",
     "output_type": "stream",
     "text": [
      "\u001b[34m\u001b[1mwandb\u001b[0m: \u001b[33mWARNING\u001b[0m Calling run.save without any arguments is deprecated.Changes to attributes are automatically persisted.\n"
     ]
    },
    {
     "name": "stdout",
     "output_type": "stream",
     "text": [
      "model building done\n",
      "Epoch 0 done: Loss = 0.4202023463692729\n",
      "Epoch 1 done: Loss = 0.3924076765342481\n",
      "Epoch 2 done: Loss = 0.37019593026619124\n",
      "Epoch 3 done: Loss = 0.3529606661852778\n",
      "Epoch 4 done: Loss = 0.3485398685279494\n",
      "Epoch 5 done: Loss = 0.33080326852611086\n",
      "Epoch 6 done: Loss = 0.3302214625723541\n",
      "Epoch 7 done: Loss = 0.3240562108170859\n",
      "Epoch 8 done: Loss = 0.3156216455596466\n",
      "Epoch 9 done: Loss = 0.3097689559263915\n",
      "model training done\n"
     ]
    },
    {
     "data": {
      "text/html": [
       "<br/>Waiting for W&B process to finish, PID 59742<br/>Program ended successfully."
      ],
      "text/plain": [
       "<IPython.core.display.HTML object>"
      ]
     },
     "metadata": {},
     "output_type": "display_data"
    },
    {
     "data": {
      "application/vnd.jupyter.widget-view+json": {
       "model_id": "",
       "version_major": 2,
       "version_minor": 0
      },
      "text/plain": [
       "VBox(children=(Label(value=' 0.00MB of 0.00MB uploaded (0.00MB deduped)\\r'), FloatProgress(value=1.0, max=1.0)…"
      ]
     },
     "metadata": {},
     "output_type": "display_data"
    },
    {
     "data": {
      "text/html": [
       "Find user logs for this run at: <code>/home/krishna/iit/sem6/dl/wandb/run-20210311_143332-sryvxpq4/logs/debug.log</code>"
      ],
      "text/plain": [
       "<IPython.core.display.HTML object>"
      ]
     },
     "metadata": {},
     "output_type": "display_data"
    },
    {
     "data": {
      "text/html": [
       "Find internal logs for this run at: <code>/home/krishna/iit/sem6/dl/wandb/run-20210311_143332-sryvxpq4/logs/debug-internal.log</code>"
      ],
      "text/plain": [
       "<IPython.core.display.HTML object>"
      ]
     },
     "metadata": {},
     "output_type": "display_data"
    },
    {
     "data": {
      "text/html": [
       "<h3>Run summary:</h3><br/><style>\n",
       "    table.wandb td:nth-child(1) { padding: 0 10px; text-align: right }\n",
       "    </style><table class=\"wandb\">\n",
       "<tr><td>train accuracy</td><td>0.89938</td></tr><tr><td>validation accuracy</td><td>0.882</td></tr><tr><td>train loss</td><td>0.30977</td></tr><tr><td>val loss</td><td>0.36773</td></tr><tr><td>_runtime</td><td>206</td></tr><tr><td>_timestamp</td><td>1615453618</td></tr><tr><td>_step</td><td>9</td></tr></table>"
      ],
      "text/plain": [
       "<IPython.core.display.HTML object>"
      ]
     },
     "metadata": {},
     "output_type": "display_data"
    },
    {
     "data": {
      "text/html": [
       "<h3>Run history:</h3><br/><style>\n",
       "    table.wandb td:nth-child(1) { padding: 0 10px; text-align: right }\n",
       "    </style><table class=\"wandb\">\n",
       "<tr><td>train accuracy</td><td>▁▂▃▅▅▆▇▇██</td></tr><tr><td>validation accuracy</td><td>▁▂▃▅▅▇▆▇██</td></tr><tr><td>train loss</td><td>█▆▅▄▃▂▂▂▁▁</td></tr><tr><td>val loss</td><td>█▅▃▂▃▁▂▂▁▁</td></tr><tr><td>_runtime</td><td>▁▁▂▃▄▅▆▆▇█</td></tr><tr><td>_timestamp</td><td>▁▁▂▃▄▅▆▆▇█</td></tr><tr><td>_step</td><td>▁▂▃▃▄▅▆▆▇█</td></tr></table><br/>"
      ],
      "text/plain": [
       "<IPython.core.display.HTML object>"
      ]
     },
     "metadata": {},
     "output_type": "display_data"
    },
    {
     "data": {
      "text/html": [
       "Synced 5 W&B file(s), 0 media file(s), 0 artifact file(s) and 0 other file(s)"
      ],
      "text/plain": [
       "<IPython.core.display.HTML object>"
      ]
     },
     "metadata": {},
     "output_type": "display_data"
    },
    {
     "data": {
      "text/html": [
       "\n",
       "                    <br/>Synced <strong style=\"color:#cdcd00\">hello</strong>: <a href=\"https://wandb.ai/notarchana/CS6910-A1/runs/sryvxpq4\" target=\"_blank\">https://wandb.ai/notarchana/CS6910-A1/runs/sryvxpq4</a><br/>\n",
       "                "
      ],
      "text/plain": [
       "<IPython.core.display.HTML object>"
      ]
     },
     "metadata": {},
     "output_type": "display_data"
    },
    {
     "name": "stderr",
     "output_type": "stream",
     "text": [
      "\u001b[34m\u001b[1mwandb\u001b[0m: Agent Starting Run: hmeuyiky with config:\n",
      "\u001b[34m\u001b[1mwandb\u001b[0m: \tactivation: tanh\n",
      "\u001b[34m\u001b[1mwandb\u001b[0m: \tbatch_size: 16\n",
      "\u001b[34m\u001b[1mwandb\u001b[0m: \tepochs: 10\n",
      "\u001b[34m\u001b[1mwandb\u001b[0m: \thidden_layer_size: 32\n",
      "\u001b[34m\u001b[1mwandb\u001b[0m: \thidden_layers: 4\n",
      "\u001b[34m\u001b[1mwandb\u001b[0m: \tlr: 0.001\n",
      "\u001b[34m\u001b[1mwandb\u001b[0m: \toptimiser: momentum\n",
      "\u001b[34m\u001b[1mwandb\u001b[0m: \tweight_decay: 0\n",
      "\u001b[34m\u001b[1mwandb\u001b[0m: \tweight_init: xavier\n"
     ]
    },
    {
     "data": {
      "text/html": [
       "\n",
       "                Tracking run with wandb version 0.10.22<br/>\n",
       "                Syncing run <strong style=\"color:#cdcd00\">hello</strong> to <a href=\"https://wandb.ai\" target=\"_blank\">Weights & Biases</a> <a href=\"https://docs.wandb.com/integrations/jupyter.html\" target=\"_blank\">(Documentation)</a>.<br/>\n",
       "                Project page: <a href=\"https://wandb.ai/notarchana/CS6910-A1\" target=\"_blank\">https://wandb.ai/notarchana/CS6910-A1</a><br/>\n",
       "                Sweep page: <a href=\"https://wandb.ai/notarchana/CS6910-A1/sweeps/lzmcss02\" target=\"_blank\">https://wandb.ai/notarchana/CS6910-A1/sweeps/lzmcss02</a><br/>\n",
       "Run page: <a href=\"https://wandb.ai/notarchana/CS6910-A1/runs/hmeuyiky\" target=\"_blank\">https://wandb.ai/notarchana/CS6910-A1/runs/hmeuyiky</a><br/>\n",
       "                Run data is saved locally in <code>/home/krishna/iit/sem6/dl/wandb/run-20210311_143705-hmeuyiky</code><br/><br/>\n",
       "            "
      ],
      "text/plain": [
       "<IPython.core.display.HTML object>"
      ]
     },
     "metadata": {},
     "output_type": "display_data"
    },
    {
     "name": "stderr",
     "output_type": "stream",
     "text": [
      "\u001b[34m\u001b[1mwandb\u001b[0m: \u001b[33mWARNING\u001b[0m Calling run.save without any arguments is deprecated.Changes to attributes are automatically persisted.\n"
     ]
    },
    {
     "name": "stdout",
     "output_type": "stream",
     "text": [
      "model building done\n",
      "Epoch 0 done: Loss = 0.5317497921135322\n",
      "Epoch 1 done: Loss = 0.4337385421066249\n",
      "Epoch 2 done: Loss = 0.4096478509546142\n",
      "Epoch 3 done: Loss = 0.38311679919963004\n",
      "Epoch 4 done: Loss = 0.3776483295948583\n",
      "Epoch 5 done: Loss = 0.369617551026714\n",
      "Epoch 6 done: Loss = 0.3705799808250343\n",
      "Epoch 7 done: Loss = 0.36862046423097444\n",
      "Epoch 8 done: Loss = 0.3800047247154325\n",
      "Epoch 9 done: Loss = 0.37306187104798916\n",
      "model training done\n"
     ]
    },
    {
     "data": {
      "text/html": [
       "<br/>Waiting for W&B process to finish, PID 59835<br/>Program ended successfully."
      ],
      "text/plain": [
       "<IPython.core.display.HTML object>"
      ]
     },
     "metadata": {},
     "output_type": "display_data"
    },
    {
     "data": {
      "application/vnd.jupyter.widget-view+json": {
       "model_id": "",
       "version_major": 2,
       "version_minor": 0
      },
      "text/plain": [
       "VBox(children=(Label(value=' 0.00MB of 0.00MB uploaded (0.00MB deduped)\\r'), FloatProgress(value=1.0, max=1.0)…"
      ]
     },
     "metadata": {},
     "output_type": "display_data"
    },
    {
     "data": {
      "text/html": [
       "Find user logs for this run at: <code>/home/krishna/iit/sem6/dl/wandb/run-20210311_143705-hmeuyiky/logs/debug.log</code>"
      ],
      "text/plain": [
       "<IPython.core.display.HTML object>"
      ]
     },
     "metadata": {},
     "output_type": "display_data"
    },
    {
     "data": {
      "text/html": [
       "Find internal logs for this run at: <code>/home/krishna/iit/sem6/dl/wandb/run-20210311_143705-hmeuyiky/logs/debug-internal.log</code>"
      ],
      "text/plain": [
       "<IPython.core.display.HTML object>"
      ]
     },
     "metadata": {},
     "output_type": "display_data"
    },
    {
     "data": {
      "text/html": [
       "<h3>Run summary:</h3><br/><style>\n",
       "    table.wandb td:nth-child(1) { padding: 0 10px; text-align: right }\n",
       "    </style><table class=\"wandb\">\n",
       "<tr><td>train accuracy</td><td>0.88096</td></tr><tr><td>validation accuracy</td><td>0.86208</td></tr><tr><td>train loss</td><td>0.37306</td></tr><tr><td>val loss</td><td>0.41706</td></tr><tr><td>_runtime</td><td>37</td></tr><tr><td>_timestamp</td><td>1615453662</td></tr><tr><td>_step</td><td>9</td></tr></table>"
      ],
      "text/plain": [
       "<IPython.core.display.HTML object>"
      ]
     },
     "metadata": {},
     "output_type": "display_data"
    },
    {
     "data": {
      "text/html": [
       "<h3>Run history:</h3><br/><style>\n",
       "    table.wandb td:nth-child(1) { padding: 0 10px; text-align: right }\n",
       "    </style><table class=\"wandb\">\n",
       "<tr><td>train accuracy</td><td>▁▅▆▇████▇█</td></tr><tr><td>validation accuracy</td><td>▁▅▆▇████▆▇</td></tr><tr><td>train loss</td><td>█▄▃▂▁▁▁▁▁▁</td></tr><tr><td>val loss</td><td>█▃▂▁▁▁▁▁▂▂</td></tr><tr><td>_runtime</td><td>▁▂▃▃▄▅▆▆▇█</td></tr><tr><td>_timestamp</td><td>▁▂▃▃▄▅▆▆▇█</td></tr><tr><td>_step</td><td>▁▂▃▃▄▅▆▆▇█</td></tr></table><br/>"
      ],
      "text/plain": [
       "<IPython.core.display.HTML object>"
      ]
     },
     "metadata": {},
     "output_type": "display_data"
    },
    {
     "data": {
      "text/html": [
       "Synced 5 W&B file(s), 0 media file(s), 0 artifact file(s) and 0 other file(s)"
      ],
      "text/plain": [
       "<IPython.core.display.HTML object>"
      ]
     },
     "metadata": {},
     "output_type": "display_data"
    },
    {
     "data": {
      "text/html": [
       "\n",
       "                    <br/>Synced <strong style=\"color:#cdcd00\">hello</strong>: <a href=\"https://wandb.ai/notarchana/CS6910-A1/runs/hmeuyiky\" target=\"_blank\">https://wandb.ai/notarchana/CS6910-A1/runs/hmeuyiky</a><br/>\n",
       "                "
      ],
      "text/plain": [
       "<IPython.core.display.HTML object>"
      ]
     },
     "metadata": {},
     "output_type": "display_data"
    },
    {
     "name": "stderr",
     "output_type": "stream",
     "text": [
      "\u001b[34m\u001b[1mwandb\u001b[0m: Agent Starting Run: owf5g5am with config:\n",
      "\u001b[34m\u001b[1mwandb\u001b[0m: \tactivation: sigmoid\n",
      "\u001b[34m\u001b[1mwandb\u001b[0m: \tbatch_size: 32\n",
      "\u001b[34m\u001b[1mwandb\u001b[0m: \tepochs: 10\n",
      "\u001b[34m\u001b[1mwandb\u001b[0m: \thidden_layer_size: 128\n",
      "\u001b[34m\u001b[1mwandb\u001b[0m: \thidden_layers: 5\n",
      "\u001b[34m\u001b[1mwandb\u001b[0m: \tlr: 0.001\n",
      "\u001b[34m\u001b[1mwandb\u001b[0m: \toptimiser: momentum\n",
      "\u001b[34m\u001b[1mwandb\u001b[0m: \tweight_decay: 0\n",
      "\u001b[34m\u001b[1mwandb\u001b[0m: \tweight_init: xavier\n"
     ]
    },
    {
     "data": {
      "text/html": [
       "\n",
       "                Tracking run with wandb version 0.10.22<br/>\n",
       "                Syncing run <strong style=\"color:#cdcd00\">hello</strong> to <a href=\"https://wandb.ai\" target=\"_blank\">Weights & Biases</a> <a href=\"https://docs.wandb.com/integrations/jupyter.html\" target=\"_blank\">(Documentation)</a>.<br/>\n",
       "                Project page: <a href=\"https://wandb.ai/notarchana/CS6910-A1\" target=\"_blank\">https://wandb.ai/notarchana/CS6910-A1</a><br/>\n",
       "                Sweep page: <a href=\"https://wandb.ai/notarchana/CS6910-A1/sweeps/lzmcss02\" target=\"_blank\">https://wandb.ai/notarchana/CS6910-A1/sweeps/lzmcss02</a><br/>\n",
       "Run page: <a href=\"https://wandb.ai/notarchana/CS6910-A1/runs/owf5g5am\" target=\"_blank\">https://wandb.ai/notarchana/CS6910-A1/runs/owf5g5am</a><br/>\n",
       "                Run data is saved locally in <code>/home/krishna/iit/sem6/dl/wandb/run-20210311_143751-owf5g5am</code><br/><br/>\n",
       "            "
      ],
      "text/plain": [
       "<IPython.core.display.HTML object>"
      ]
     },
     "metadata": {},
     "output_type": "display_data"
    },
    {
     "name": "stderr",
     "output_type": "stream",
     "text": [
      "\u001b[34m\u001b[1mwandb\u001b[0m: \u001b[33mWARNING\u001b[0m Calling run.save without any arguments is deprecated.Changes to attributes are automatically persisted.\n"
     ]
    },
    {
     "name": "stdout",
     "output_type": "stream",
     "text": [
      "model building done\n",
      "Epoch 0 done: Loss = 2.314401056512666\n",
      "Epoch 1 done: Loss = 2.313352485683574\n",
      "Epoch 2 done: Loss = 2.312231510618125\n",
      "Epoch 3 done: Loss = 2.3110035295801845\n",
      "Epoch 4 done: Loss = 2.3095992233528797\n",
      "Epoch 5 done: Loss = 2.307873661702751\n",
      "Epoch 6 done: Loss = 2.30549615543789\n",
      "Epoch 7 done: Loss = 2.3015733008962407\n",
      "Epoch 8 done: Loss = 2.292787385976634\n",
      "Epoch 9 done: Loss = 2.2524606467089208\n",
      "model training done\n"
     ]
    },
    {
     "data": {
      "text/html": [
       "<br/>Waiting for W&B process to finish, PID 59866<br/>Program ended successfully."
      ],
      "text/plain": [
       "<IPython.core.display.HTML object>"
      ]
     },
     "metadata": {},
     "output_type": "display_data"
    },
    {
     "data": {
      "application/vnd.jupyter.widget-view+json": {
       "model_id": "",
       "version_major": 2,
       "version_minor": 0
      },
      "text/plain": [
       "VBox(children=(Label(value=' 0.00MB of 0.00MB uploaded (0.00MB deduped)\\r'), FloatProgress(value=1.0, max=1.0)…"
      ]
     },
     "metadata": {},
     "output_type": "display_data"
    },
    {
     "data": {
      "text/html": [
       "Find user logs for this run at: <code>/home/krishna/iit/sem6/dl/wandb/run-20210311_143751-owf5g5am/logs/debug.log</code>"
      ],
      "text/plain": [
       "<IPython.core.display.HTML object>"
      ]
     },
     "metadata": {},
     "output_type": "display_data"
    },
    {
     "data": {
      "text/html": [
       "Find internal logs for this run at: <code>/home/krishna/iit/sem6/dl/wandb/run-20210311_143751-owf5g5am/logs/debug-internal.log</code>"
      ],
      "text/plain": [
       "<IPython.core.display.HTML object>"
      ]
     },
     "metadata": {},
     "output_type": "display_data"
    },
    {
     "data": {
      "text/html": [
       "<h3>Run summary:</h3><br/><style>\n",
       "    table.wandb td:nth-child(1) { padding: 0 10px; text-align: right }\n",
       "    </style><table class=\"wandb\">\n",
       "<tr><td>train accuracy</td><td>0.24069</td></tr><tr><td>validation accuracy</td><td>0.24233</td></tr><tr><td>train loss</td><td>2.25246</td></tr><tr><td>val loss</td><td>2.25188</td></tr><tr><td>_runtime</td><td>79</td></tr><tr><td>_timestamp</td><td>1615453750</td></tr><tr><td>_step</td><td>9</td></tr></table>"
      ],
      "text/plain": [
       "<IPython.core.display.HTML object>"
      ]
     },
     "metadata": {},
     "output_type": "display_data"
    },
    {
     "data": {
      "text/html": [
       "<h3>Run history:</h3><br/><style>\n",
       "    table.wandb td:nth-child(1) { padding: 0 10px; text-align: right }\n",
       "    </style><table class=\"wandb\">\n",
       "<tr><td>train accuracy</td><td>▁▁▁▁▁▁▁▁▁█</td></tr><tr><td>validation accuracy</td><td>▁▁▁▁▁▁▁▁▁█</td></tr><tr><td>train loss</td><td>████▇▇▇▇▆▁</td></tr><tr><td>val loss</td><td>████▇▇▇▇▆▁</td></tr><tr><td>_runtime</td><td>▁▂▂▃▄▅▆▆▇█</td></tr><tr><td>_timestamp</td><td>▁▂▂▃▄▅▆▆▇█</td></tr><tr><td>_step</td><td>▁▂▃▃▄▅▆▆▇█</td></tr></table><br/>"
      ],
      "text/plain": [
       "<IPython.core.display.HTML object>"
      ]
     },
     "metadata": {},
     "output_type": "display_data"
    },
    {
     "data": {
      "text/html": [
       "Synced 5 W&B file(s), 0 media file(s), 0 artifact file(s) and 0 other file(s)"
      ],
      "text/plain": [
       "<IPython.core.display.HTML object>"
      ]
     },
     "metadata": {},
     "output_type": "display_data"
    },
    {
     "data": {
      "text/html": [
       "\n",
       "                    <br/>Synced <strong style=\"color:#cdcd00\">hello</strong>: <a href=\"https://wandb.ai/notarchana/CS6910-A1/runs/owf5g5am\" target=\"_blank\">https://wandb.ai/notarchana/CS6910-A1/runs/owf5g5am</a><br/>\n",
       "                "
      ],
      "text/plain": [
       "<IPython.core.display.HTML object>"
      ]
     },
     "metadata": {},
     "output_type": "display_data"
    },
    {
     "name": "stderr",
     "output_type": "stream",
     "text": [
      "\u001b[34m\u001b[1mwandb\u001b[0m: Agent Starting Run: zmdvr6x6 with config:\n",
      "\u001b[34m\u001b[1mwandb\u001b[0m: \tactivation: relu\n",
      "\u001b[34m\u001b[1mwandb\u001b[0m: \tbatch_size: 64\n",
      "\u001b[34m\u001b[1mwandb\u001b[0m: \tepochs: 10\n",
      "\u001b[34m\u001b[1mwandb\u001b[0m: \thidden_layer_size: 128\n",
      "\u001b[34m\u001b[1mwandb\u001b[0m: \thidden_layers: 5\n",
      "\u001b[34m\u001b[1mwandb\u001b[0m: \tlr: 0.001\n",
      "\u001b[34m\u001b[1mwandb\u001b[0m: \toptimiser: nesterov\n",
      "\u001b[34m\u001b[1mwandb\u001b[0m: \tweight_decay: 0.0005\n",
      "\u001b[34m\u001b[1mwandb\u001b[0m: \tweight_init: xavier\n"
     ]
    },
    {
     "data": {
      "text/html": [
       "\n",
       "                Tracking run with wandb version 0.10.22<br/>\n",
       "                Syncing run <strong style=\"color:#cdcd00\">hello</strong> to <a href=\"https://wandb.ai\" target=\"_blank\">Weights & Biases</a> <a href=\"https://docs.wandb.com/integrations/jupyter.html\" target=\"_blank\">(Documentation)</a>.<br/>\n",
       "                Project page: <a href=\"https://wandb.ai/notarchana/CS6910-A1\" target=\"_blank\">https://wandb.ai/notarchana/CS6910-A1</a><br/>\n",
       "                Sweep page: <a href=\"https://wandb.ai/notarchana/CS6910-A1/sweeps/lzmcss02\" target=\"_blank\">https://wandb.ai/notarchana/CS6910-A1/sweeps/lzmcss02</a><br/>\n",
       "Run page: <a href=\"https://wandb.ai/notarchana/CS6910-A1/runs/zmdvr6x6\" target=\"_blank\">https://wandb.ai/notarchana/CS6910-A1/runs/zmdvr6x6</a><br/>\n",
       "                Run data is saved locally in <code>/home/krishna/iit/sem6/dl/wandb/run-20210311_143915-zmdvr6x6</code><br/><br/>\n",
       "            "
      ],
      "text/plain": [
       "<IPython.core.display.HTML object>"
      ]
     },
     "metadata": {},
     "output_type": "display_data"
    },
    {
     "name": "stderr",
     "output_type": "stream",
     "text": [
      "\u001b[34m\u001b[1mwandb\u001b[0m: \u001b[33mWARNING\u001b[0m Calling run.save without any arguments is deprecated.Changes to attributes are automatically persisted.\n"
     ]
    },
    {
     "name": "stdout",
     "output_type": "stream",
     "text": [
      "model building done\n",
      "Epoch 0 done: Loss = 1.8200031871101576\n",
      "Epoch 1 done: Loss = 1.650269954469789\n",
      "Epoch 2 done: Loss = 1.6648420368823729\n",
      "Epoch 3 done: Loss = 1.656865007777474\n",
      "Epoch 4 done: Loss = 1.6110366230026194\n",
      "Epoch 5 done: Loss = 1.5662272558585162\n",
      "Epoch 6 done: Loss = 1.5125421985323404\n",
      "Epoch 7 done: Loss = 1.45250052233485\n",
      "Epoch 8 done: Loss = 1.372164776460215\n",
      "Epoch 9 done: Loss = 1.2894681689881657\n",
      "model training done\n"
     ]
    },
    {
     "data": {
      "text/html": [
       "<br/>Waiting for W&B process to finish, PID 59963<br/>Program ended successfully."
      ],
      "text/plain": [
       "<IPython.core.display.HTML object>"
      ]
     },
     "metadata": {},
     "output_type": "display_data"
    },
    {
     "data": {
      "application/vnd.jupyter.widget-view+json": {
       "model_id": "",
       "version_major": 2,
       "version_minor": 0
      },
      "text/plain": [
       "VBox(children=(Label(value=' 0.00MB of 0.00MB uploaded (0.00MB deduped)\\r'), FloatProgress(value=1.0, max=1.0)…"
      ]
     },
     "metadata": {},
     "output_type": "display_data"
    },
    {
     "data": {
      "text/html": [
       "Find user logs for this run at: <code>/home/krishna/iit/sem6/dl/wandb/run-20210311_143915-zmdvr6x6/logs/debug.log</code>"
      ],
      "text/plain": [
       "<IPython.core.display.HTML object>"
      ]
     },
     "metadata": {},
     "output_type": "display_data"
    },
    {
     "data": {
      "text/html": [
       "Find internal logs for this run at: <code>/home/krishna/iit/sem6/dl/wandb/run-20210311_143915-zmdvr6x6/logs/debug-internal.log</code>"
      ],
      "text/plain": [
       "<IPython.core.display.HTML object>"
      ]
     },
     "metadata": {},
     "output_type": "display_data"
    },
    {
     "data": {
      "text/html": [
       "<h3>Run summary:</h3><br/><style>\n",
       "    table.wandb td:nth-child(1) { padding: 0 10px; text-align: right }\n",
       "    </style><table class=\"wandb\">\n",
       "<tr><td>train accuracy</td><td>0.78904</td></tr><tr><td>validation accuracy</td><td>0.78275</td></tr><tr><td>train loss</td><td>1.28947</td></tr><tr><td>val loss</td><td>1.32346</td></tr><tr><td>_runtime</td><td>49</td></tr><tr><td>_timestamp</td><td>1615453804</td></tr><tr><td>_step</td><td>9</td></tr></table>"
      ],
      "text/plain": [
       "<IPython.core.display.HTML object>"
      ]
     },
     "metadata": {},
     "output_type": "display_data"
    },
    {
     "data": {
      "text/html": [
       "<h3>Run history:</h3><br/><style>\n",
       "    table.wandb td:nth-child(1) { padding: 0 10px; text-align: right }\n",
       "    </style><table class=\"wandb\">\n",
       "<tr><td>train accuracy</td><td>▁▅▆▇▇▇████</td></tr><tr><td>validation accuracy</td><td>▁▅▆▇▇▇████</td></tr><tr><td>train loss</td><td>█▆▆▆▅▅▄▃▂▁</td></tr><tr><td>val loss</td><td>█▆▆▆▅▅▄▃▂▁</td></tr><tr><td>_runtime</td><td>▁▂▂▃▄▅▆▆▇█</td></tr><tr><td>_timestamp</td><td>▁▂▂▃▄▅▆▆▇█</td></tr><tr><td>_step</td><td>▁▂▃▃▄▅▆▆▇█</td></tr></table><br/>"
      ],
      "text/plain": [
       "<IPython.core.display.HTML object>"
      ]
     },
     "metadata": {},
     "output_type": "display_data"
    },
    {
     "data": {
      "text/html": [
       "Synced 5 W&B file(s), 0 media file(s), 0 artifact file(s) and 0 other file(s)"
      ],
      "text/plain": [
       "<IPython.core.display.HTML object>"
      ]
     },
     "metadata": {},
     "output_type": "display_data"
    },
    {
     "data": {
      "text/html": [
       "\n",
       "                    <br/>Synced <strong style=\"color:#cdcd00\">hello</strong>: <a href=\"https://wandb.ai/notarchana/CS6910-A1/runs/zmdvr6x6\" target=\"_blank\">https://wandb.ai/notarchana/CS6910-A1/runs/zmdvr6x6</a><br/>\n",
       "                "
      ],
      "text/plain": [
       "<IPython.core.display.HTML object>"
      ]
     },
     "metadata": {},
     "output_type": "display_data"
    },
    {
     "name": "stderr",
     "output_type": "stream",
     "text": [
      "\u001b[34m\u001b[1mwandb\u001b[0m: Agent Starting Run: zlawkopi with config:\n",
      "\u001b[34m\u001b[1mwandb\u001b[0m: \tactivation: sigmoid\n",
      "\u001b[34m\u001b[1mwandb\u001b[0m: \tbatch_size: 16\n",
      "\u001b[34m\u001b[1mwandb\u001b[0m: \tepochs: 10\n",
      "\u001b[34m\u001b[1mwandb\u001b[0m: \thidden_layer_size: 32\n",
      "\u001b[34m\u001b[1mwandb\u001b[0m: \thidden_layers: 4\n",
      "\u001b[34m\u001b[1mwandb\u001b[0m: \tlr: 0.001\n",
      "\u001b[34m\u001b[1mwandb\u001b[0m: \toptimiser: rmsprop\n",
      "\u001b[34m\u001b[1mwandb\u001b[0m: \tweight_decay: 0.0005\n",
      "\u001b[34m\u001b[1mwandb\u001b[0m: \tweight_init: xavier\n"
     ]
    },
    {
     "data": {
      "text/html": [
       "\n",
       "                Tracking run with wandb version 0.10.22<br/>\n",
       "                Syncing run <strong style=\"color:#cdcd00\">hello</strong> to <a href=\"https://wandb.ai\" target=\"_blank\">Weights & Biases</a> <a href=\"https://docs.wandb.com/integrations/jupyter.html\" target=\"_blank\">(Documentation)</a>.<br/>\n",
       "                Project page: <a href=\"https://wandb.ai/notarchana/CS6910-A1\" target=\"_blank\">https://wandb.ai/notarchana/CS6910-A1</a><br/>\n",
       "                Sweep page: <a href=\"https://wandb.ai/notarchana/CS6910-A1/sweeps/lzmcss02\" target=\"_blank\">https://wandb.ai/notarchana/CS6910-A1/sweeps/lzmcss02</a><br/>\n",
       "Run page: <a href=\"https://wandb.ai/notarchana/CS6910-A1/runs/zlawkopi\" target=\"_blank\">https://wandb.ai/notarchana/CS6910-A1/runs/zlawkopi</a><br/>\n",
       "                Run data is saved locally in <code>/home/krishna/iit/sem6/dl/wandb/run-20210311_144011-zlawkopi</code><br/><br/>\n",
       "            "
      ],
      "text/plain": [
       "<IPython.core.display.HTML object>"
      ]
     },
     "metadata": {},
     "output_type": "display_data"
    },
    {
     "name": "stderr",
     "output_type": "stream",
     "text": [
      "\u001b[34m\u001b[1mwandb\u001b[0m: \u001b[33mWARNING\u001b[0m Calling run.save without any arguments is deprecated.Changes to attributes are automatically persisted.\n"
     ]
    },
    {
     "name": "stdout",
     "output_type": "stream",
     "text": [
      "model building done\n",
      "Epoch 0 done: Loss = 0.9816554659887479\n",
      "Epoch 1 done: Loss = 0.7246527548108364\n",
      "Epoch 2 done: Loss = 0.696311057448834\n",
      "Epoch 3 done: Loss = 0.6900085467538716\n",
      "Epoch 4 done: Loss = 0.6015815926764391\n",
      "Epoch 5 done: Loss = 0.542311923573715\n",
      "Epoch 6 done: Loss = 0.5206412365563248\n",
      "Epoch 7 done: Loss = 0.5137350201641512\n",
      "Epoch 8 done: Loss = 0.5089658934030515\n",
      "Epoch 9 done: Loss = 0.5129755552564941\n",
      "model training done\n"
     ]
    },
    {
     "data": {
      "text/html": [
       "<br/>Waiting for W&B process to finish, PID 60011<br/>Program ended successfully."
      ],
      "text/plain": [
       "<IPython.core.display.HTML object>"
      ]
     },
     "metadata": {},
     "output_type": "display_data"
    },
    {
     "data": {
      "application/vnd.jupyter.widget-view+json": {
       "model_id": "",
       "version_major": 2,
       "version_minor": 0
      },
      "text/plain": [
       "VBox(children=(Label(value=' 0.00MB of 0.00MB uploaded (0.00MB deduped)\\r'), FloatProgress(value=1.0, max=1.0)…"
      ]
     },
     "metadata": {},
     "output_type": "display_data"
    },
    {
     "data": {
      "text/html": [
       "Find user logs for this run at: <code>/home/krishna/iit/sem6/dl/wandb/run-20210311_144011-zlawkopi/logs/debug.log</code>"
      ],
      "text/plain": [
       "<IPython.core.display.HTML object>"
      ]
     },
     "metadata": {},
     "output_type": "display_data"
    },
    {
     "data": {
      "text/html": [
       "Find internal logs for this run at: <code>/home/krishna/iit/sem6/dl/wandb/run-20210311_144011-zlawkopi/logs/debug-internal.log</code>"
      ],
      "text/plain": [
       "<IPython.core.display.HTML object>"
      ]
     },
     "metadata": {},
     "output_type": "display_data"
    },
    {
     "data": {
      "text/html": [
       "<h3>Run summary:</h3><br/><style>\n",
       "    table.wandb td:nth-child(1) { padding: 0 10px; text-align: right }\n",
       "    </style><table class=\"wandb\">\n",
       "<tr><td>train accuracy</td><td>0.87162</td></tr><tr><td>validation accuracy</td><td>0.85742</td></tr><tr><td>train loss</td><td>0.51298</td></tr><tr><td>val loss</td><td>0.54954</td></tr><tr><td>_runtime</td><td>45</td></tr><tr><td>_timestamp</td><td>1615453856</td></tr><tr><td>_step</td><td>9</td></tr></table>"
      ],
      "text/plain": [
       "<IPython.core.display.HTML object>"
      ]
     },
     "metadata": {},
     "output_type": "display_data"
    },
    {
     "data": {
      "text/html": [
       "<h3>Run history:</h3><br/><style>\n",
       "    table.wandb td:nth-child(1) { padding: 0 10px; text-align: right }\n",
       "    </style><table class=\"wandb\">\n",
       "<tr><td>train accuracy</td><td>▁▄▅▆▇▇████</td></tr><tr><td>validation accuracy</td><td>▁▄▅▆▇▇████</td></tr><tr><td>train loss</td><td>█▄▄▄▂▁▁▁▁▁</td></tr><tr><td>val loss</td><td>█▄▄▄▂▁▁▁▁▁</td></tr><tr><td>_runtime</td><td>▁▂▂▃▄▅▆▇▇█</td></tr><tr><td>_timestamp</td><td>▁▂▂▃▄▅▆▇▇█</td></tr><tr><td>_step</td><td>▁▂▃▃▄▅▆▆▇█</td></tr></table><br/>"
      ],
      "text/plain": [
       "<IPython.core.display.HTML object>"
      ]
     },
     "metadata": {},
     "output_type": "display_data"
    },
    {
     "data": {
      "text/html": [
       "Synced 5 W&B file(s), 0 media file(s), 0 artifact file(s) and 0 other file(s)"
      ],
      "text/plain": [
       "<IPython.core.display.HTML object>"
      ]
     },
     "metadata": {},
     "output_type": "display_data"
    },
    {
     "data": {
      "text/html": [
       "\n",
       "                    <br/>Synced <strong style=\"color:#cdcd00\">hello</strong>: <a href=\"https://wandb.ai/notarchana/CS6910-A1/runs/zlawkopi\" target=\"_blank\">https://wandb.ai/notarchana/CS6910-A1/runs/zlawkopi</a><br/>\n",
       "                "
      ],
      "text/plain": [
       "<IPython.core.display.HTML object>"
      ]
     },
     "metadata": {},
     "output_type": "display_data"
    },
    {
     "name": "stderr",
     "output_type": "stream",
     "text": [
      "\u001b[34m\u001b[1mwandb\u001b[0m: Agent Starting Run: y4se6r1h with config:\n",
      "\u001b[34m\u001b[1mwandb\u001b[0m: \tactivation: sigmoid\n",
      "\u001b[34m\u001b[1mwandb\u001b[0m: \tbatch_size: 64\n",
      "\u001b[34m\u001b[1mwandb\u001b[0m: \tepochs: 10\n",
      "\u001b[34m\u001b[1mwandb\u001b[0m: \thidden_layer_size: 64\n",
      "\u001b[34m\u001b[1mwandb\u001b[0m: \thidden_layers: 5\n",
      "\u001b[34m\u001b[1mwandb\u001b[0m: \tlr: 0.001\n",
      "\u001b[34m\u001b[1mwandb\u001b[0m: \toptimiser: adam\n",
      "\u001b[34m\u001b[1mwandb\u001b[0m: \tweight_decay: 0.5\n",
      "\u001b[34m\u001b[1mwandb\u001b[0m: \tweight_init: xavier\n"
     ]
    },
    {
     "data": {
      "text/html": [
       "\n",
       "                Tracking run with wandb version 0.10.22<br/>\n",
       "                Syncing run <strong style=\"color:#cdcd00\">hello</strong> to <a href=\"https://wandb.ai\" target=\"_blank\">Weights & Biases</a> <a href=\"https://docs.wandb.com/integrations/jupyter.html\" target=\"_blank\">(Documentation)</a>.<br/>\n",
       "                Project page: <a href=\"https://wandb.ai/notarchana/CS6910-A1\" target=\"_blank\">https://wandb.ai/notarchana/CS6910-A1</a><br/>\n",
       "                Sweep page: <a href=\"https://wandb.ai/notarchana/CS6910-A1/sweeps/lzmcss02\" target=\"_blank\">https://wandb.ai/notarchana/CS6910-A1/sweeps/lzmcss02</a><br/>\n",
       "Run page: <a href=\"https://wandb.ai/notarchana/CS6910-A1/runs/y4se6r1h\" target=\"_blank\">https://wandb.ai/notarchana/CS6910-A1/runs/y4se6r1h</a><br/>\n",
       "                Run data is saved locally in <code>/home/krishna/iit/sem6/dl/wandb/run-20210311_144103-y4se6r1h</code><br/><br/>\n",
       "            "
      ],
      "text/plain": [
       "<IPython.core.display.HTML object>"
      ]
     },
     "metadata": {},
     "output_type": "display_data"
    },
    {
     "name": "stderr",
     "output_type": "stream",
     "text": [
      "\u001b[34m\u001b[1mwandb\u001b[0m: \u001b[33mWARNING\u001b[0m Calling run.save without any arguments is deprecated.Changes to attributes are automatically persisted.\n"
     ]
    },
    {
     "name": "stdout",
     "output_type": "stream",
     "text": [
      "model building done\n",
      "Epoch 0 done: Loss = 2.311681857072618\n",
      "Epoch 1 done: Loss = 2.2657750513500354\n",
      "Epoch 2 done: Loss = 1.6666217264470928\n",
      "Epoch 3 done: Loss = 1.3422877471493488\n",
      "Epoch 4 done: Loss = 1.1341316502512415\n",
      "Epoch 5 done: Loss = 1.033204222130284\n",
      "Epoch 6 done: Loss = 0.9732618242994389\n",
      "Epoch 7 done: Loss = 0.9187022505672366\n",
      "Epoch 8 done: Loss = 0.8480715146344501\n",
      "Epoch 9 done: Loss = 0.7906660464587509\n",
      "model training done\n"
     ]
    },
    {
     "data": {
      "text/html": [
       "<br/>Waiting for W&B process to finish, PID 60049<br/>Program ended successfully."
      ],
      "text/plain": [
       "<IPython.core.display.HTML object>"
      ]
     },
     "metadata": {},
     "output_type": "display_data"
    },
    {
     "data": {
      "application/vnd.jupyter.widget-view+json": {
       "model_id": "",
       "version_major": 2,
       "version_minor": 0
      },
      "text/plain": [
       "VBox(children=(Label(value=' 0.00MB of 0.00MB uploaded (0.00MB deduped)\\r'), FloatProgress(value=1.0, max=1.0)…"
      ]
     },
     "metadata": {},
     "output_type": "display_data"
    },
    {
     "data": {
      "text/html": [
       "Find user logs for this run at: <code>/home/krishna/iit/sem6/dl/wandb/run-20210311_144103-y4se6r1h/logs/debug.log</code>"
      ],
      "text/plain": [
       "<IPython.core.display.HTML object>"
      ]
     },
     "metadata": {},
     "output_type": "display_data"
    },
    {
     "data": {
      "text/html": [
       "Find internal logs for this run at: <code>/home/krishna/iit/sem6/dl/wandb/run-20210311_144103-y4se6r1h/logs/debug-internal.log</code>"
      ],
      "text/plain": [
       "<IPython.core.display.HTML object>"
      ]
     },
     "metadata": {},
     "output_type": "display_data"
    },
    {
     "data": {
      "text/html": [
       "<h3>Run summary:</h3><br/><style>\n",
       "    table.wandb td:nth-child(1) { padding: 0 10px; text-align: right }\n",
       "    </style><table class=\"wandb\">\n",
       "<tr><td>train accuracy</td><td>0.68417</td></tr><tr><td>validation accuracy</td><td>0.672</td></tr><tr><td>train loss</td><td>0.79067</td></tr><tr><td>val loss</td><td>0.81251</td></tr><tr><td>_runtime</td><td>37</td></tr><tr><td>_timestamp</td><td>1615453900</td></tr><tr><td>_step</td><td>9</td></tr></table>"
      ],
      "text/plain": [
       "<IPython.core.display.HTML object>"
      ]
     },
     "metadata": {},
     "output_type": "display_data"
    },
    {
     "data": {
      "text/html": [
       "<h3>Run history:</h3><br/><style>\n",
       "    table.wandb td:nth-child(1) { padding: 0 10px; text-align: right }\n",
       "    </style><table class=\"wandb\">\n",
       "<tr><td>train accuracy</td><td>▁▂▃▅▆▆▇▇██</td></tr><tr><td>validation accuracy</td><td>▁▂▃▅▆▆▇▇██</td></tr><tr><td>train loss</td><td>██▅▄▃▂▂▂▁▁</td></tr><tr><td>val loss</td><td>██▅▃▃▂▂▂▁▁</td></tr><tr><td>_runtime</td><td>▁▂▂▃▄▅▆▆▇█</td></tr><tr><td>_timestamp</td><td>▁▂▂▃▄▅▆▆▇█</td></tr><tr><td>_step</td><td>▁▂▃▃▄▅▆▆▇█</td></tr></table><br/>"
      ],
      "text/plain": [
       "<IPython.core.display.HTML object>"
      ]
     },
     "metadata": {},
     "output_type": "display_data"
    },
    {
     "data": {
      "text/html": [
       "Synced 5 W&B file(s), 0 media file(s), 0 artifact file(s) and 0 other file(s)"
      ],
      "text/plain": [
       "<IPython.core.display.HTML object>"
      ]
     },
     "metadata": {},
     "output_type": "display_data"
    },
    {
     "data": {
      "text/html": [
       "\n",
       "                    <br/>Synced <strong style=\"color:#cdcd00\">hello</strong>: <a href=\"https://wandb.ai/notarchana/CS6910-A1/runs/y4se6r1h\" target=\"_blank\">https://wandb.ai/notarchana/CS6910-A1/runs/y4se6r1h</a><br/>\n",
       "                "
      ],
      "text/plain": [
       "<IPython.core.display.HTML object>"
      ]
     },
     "metadata": {},
     "output_type": "display_data"
    },
    {
     "name": "stderr",
     "output_type": "stream",
     "text": [
      "\u001b[34m\u001b[1mwandb\u001b[0m: Agent Starting Run: ccvdb1ek with config:\n",
      "\u001b[34m\u001b[1mwandb\u001b[0m: \tactivation: relu\n",
      "\u001b[34m\u001b[1mwandb\u001b[0m: \tbatch_size: 16\n",
      "\u001b[34m\u001b[1mwandb\u001b[0m: \tepochs: 10\n",
      "\u001b[34m\u001b[1mwandb\u001b[0m: \thidden_layer_size: 32\n",
      "\u001b[34m\u001b[1mwandb\u001b[0m: \thidden_layers: 5\n",
      "\u001b[34m\u001b[1mwandb\u001b[0m: \tlr: 0.001\n",
      "\u001b[34m\u001b[1mwandb\u001b[0m: \toptimiser: nadam\n",
      "\u001b[34m\u001b[1mwandb\u001b[0m: \tweight_decay: 0.5\n",
      "\u001b[34m\u001b[1mwandb\u001b[0m: \tweight_init: xavier\n"
     ]
    },
    {
     "data": {
      "text/html": [
       "\n",
       "                Tracking run with wandb version 0.10.22<br/>\n",
       "                Syncing run <strong style=\"color:#cdcd00\">hello</strong> to <a href=\"https://wandb.ai\" target=\"_blank\">Weights & Biases</a> <a href=\"https://docs.wandb.com/integrations/jupyter.html\" target=\"_blank\">(Documentation)</a>.<br/>\n",
       "                Project page: <a href=\"https://wandb.ai/notarchana/CS6910-A1\" target=\"_blank\">https://wandb.ai/notarchana/CS6910-A1</a><br/>\n",
       "                Sweep page: <a href=\"https://wandb.ai/notarchana/CS6910-A1/sweeps/lzmcss02\" target=\"_blank\">https://wandb.ai/notarchana/CS6910-A1/sweeps/lzmcss02</a><br/>\n",
       "Run page: <a href=\"https://wandb.ai/notarchana/CS6910-A1/runs/ccvdb1ek\" target=\"_blank\">https://wandb.ai/notarchana/CS6910-A1/runs/ccvdb1ek</a><br/>\n",
       "                Run data is saved locally in <code>/home/krishna/iit/sem6/dl/wandb/run-20210311_144149-ccvdb1ek</code><br/><br/>\n",
       "            "
      ],
      "text/plain": [
       "<IPython.core.display.HTML object>"
      ]
     },
     "metadata": {},
     "output_type": "display_data"
    },
    {
     "name": "stderr",
     "output_type": "stream",
     "text": [
      "\u001b[34m\u001b[1mwandb\u001b[0m: \u001b[33mWARNING\u001b[0m Calling run.save without any arguments is deprecated.Changes to attributes are automatically persisted.\n"
     ]
    },
    {
     "name": "stdout",
     "output_type": "stream",
     "text": [
      "model building done\n",
      "Epoch 0 done: Loss = 2.2637225073182794\n",
      "Epoch 1 done: Loss = 2.191322955223688\n",
      "Epoch 2 done: Loss = 2.0930056316046874\n",
      "Epoch 3 done: Loss = 1.896354316904994\n",
      "Epoch 4 done: Loss = 1.19552390678241\n",
      "Epoch 5 done: Loss = 0.4936517758052071\n",
      "Epoch 6 done: Loss = 0.4799178564739509\n",
      "Epoch 7 done: Loss = 0.4634589310593152\n",
      "Epoch 8 done: Loss = 0.4525161086362158\n",
      "Epoch 9 done: Loss = 0.4458346949125277\n",
      "model training done\n"
     ]
    },
    {
     "data": {
      "text/html": [
       "<br/>Waiting for W&B process to finish, PID 60090<br/>Program ended successfully."
      ],
      "text/plain": [
       "<IPython.core.display.HTML object>"
      ]
     },
     "metadata": {},
     "output_type": "display_data"
    },
    {
     "data": {
      "application/vnd.jupyter.widget-view+json": {
       "model_id": "",
       "version_major": 2,
       "version_minor": 0
      },
      "text/plain": [
       "VBox(children=(Label(value=' 0.00MB of 0.00MB uploaded (0.00MB deduped)\\r'), FloatProgress(value=1.0, max=1.0)…"
      ]
     },
     "metadata": {},
     "output_type": "display_data"
    },
    {
     "data": {
      "text/html": [
       "Find user logs for this run at: <code>/home/krishna/iit/sem6/dl/wandb/run-20210311_144149-ccvdb1ek/logs/debug.log</code>"
      ],
      "text/plain": [
       "<IPython.core.display.HTML object>"
      ]
     },
     "metadata": {},
     "output_type": "display_data"
    },
    {
     "data": {
      "text/html": [
       "Find internal logs for this run at: <code>/home/krishna/iit/sem6/dl/wandb/run-20210311_144149-ccvdb1ek/logs/debug-internal.log</code>"
      ],
      "text/plain": [
       "<IPython.core.display.HTML object>"
      ]
     },
     "metadata": {},
     "output_type": "display_data"
    },
    {
     "data": {
      "text/html": [
       "<h3>Run summary:</h3><br/><style>\n",
       "    table.wandb td:nth-child(1) { padding: 0 10px; text-align: right }\n",
       "    </style><table class=\"wandb\">\n",
       "<tr><td>train accuracy</td><td>0.87154</td></tr><tr><td>validation accuracy</td><td>0.85633</td></tr><tr><td>train loss</td><td>0.44583</td></tr><tr><td>val loss</td><td>0.4774</td></tr><tr><td>_runtime</td><td>79</td></tr><tr><td>_timestamp</td><td>1615453988</td></tr><tr><td>_step</td><td>9</td></tr></table>"
      ],
      "text/plain": [
       "<IPython.core.display.HTML object>"
      ]
     },
     "metadata": {},
     "output_type": "display_data"
    },
    {
     "data": {
      "text/html": [
       "<h3>Run history:</h3><br/><style>\n",
       "    table.wandb td:nth-child(1) { padding: 0 10px; text-align: right }\n",
       "    </style><table class=\"wandb\">\n",
       "<tr><td>train accuracy</td><td>▁▃▄▄▄▇▇███</td></tr><tr><td>validation accuracy</td><td>▁▃▄▄▄▇████</td></tr><tr><td>train loss</td><td>██▇▇▄▁▁▁▁▁</td></tr><tr><td>val loss</td><td>██▇▇▄▁▁▁▁▁</td></tr><tr><td>_runtime</td><td>▁▁▂▃▄▅▅▆▇█</td></tr><tr><td>_timestamp</td><td>▁▁▂▃▄▅▅▆▇█</td></tr><tr><td>_step</td><td>▁▂▃▃▄▅▆▆▇█</td></tr></table><br/>"
      ],
      "text/plain": [
       "<IPython.core.display.HTML object>"
      ]
     },
     "metadata": {},
     "output_type": "display_data"
    },
    {
     "data": {
      "text/html": [
       "Synced 5 W&B file(s), 0 media file(s), 0 artifact file(s) and 0 other file(s)"
      ],
      "text/plain": [
       "<IPython.core.display.HTML object>"
      ]
     },
     "metadata": {},
     "output_type": "display_data"
    },
    {
     "data": {
      "text/html": [
       "\n",
       "                    <br/>Synced <strong style=\"color:#cdcd00\">hello</strong>: <a href=\"https://wandb.ai/notarchana/CS6910-A1/runs/ccvdb1ek\" target=\"_blank\">https://wandb.ai/notarchana/CS6910-A1/runs/ccvdb1ek</a><br/>\n",
       "                "
      ],
      "text/plain": [
       "<IPython.core.display.HTML object>"
      ]
     },
     "metadata": {},
     "output_type": "display_data"
    },
    {
     "name": "stderr",
     "output_type": "stream",
     "text": [
      "\u001b[34m\u001b[1mwandb\u001b[0m: Agent Starting Run: g5dacab0 with config:\n",
      "\u001b[34m\u001b[1mwandb\u001b[0m: \tactivation: relu\n",
      "\u001b[34m\u001b[1mwandb\u001b[0m: \tbatch_size: 32\n",
      "\u001b[34m\u001b[1mwandb\u001b[0m: \tepochs: 10\n",
      "\u001b[34m\u001b[1mwandb\u001b[0m: \thidden_layer_size: 32\n",
      "\u001b[34m\u001b[1mwandb\u001b[0m: \thidden_layers: 5\n",
      "\u001b[34m\u001b[1mwandb\u001b[0m: \tlr: 0.001\n",
      "\u001b[34m\u001b[1mwandb\u001b[0m: \toptimiser: rmsprop\n",
      "\u001b[34m\u001b[1mwandb\u001b[0m: \tweight_decay: 0\n",
      "\u001b[34m\u001b[1mwandb\u001b[0m: \tweight_init: xavier\n"
     ]
    },
    {
     "data": {
      "text/html": [
       "\n",
       "                Tracking run with wandb version 0.10.22<br/>\n",
       "                Syncing run <strong style=\"color:#cdcd00\">hello</strong> to <a href=\"https://wandb.ai\" target=\"_blank\">Weights & Biases</a> <a href=\"https://docs.wandb.com/integrations/jupyter.html\" target=\"_blank\">(Documentation)</a>.<br/>\n",
       "                Project page: <a href=\"https://wandb.ai/notarchana/CS6910-A1\" target=\"_blank\">https://wandb.ai/notarchana/CS6910-A1</a><br/>\n",
       "                Sweep page: <a href=\"https://wandb.ai/notarchana/CS6910-A1/sweeps/lzmcss02\" target=\"_blank\">https://wandb.ai/notarchana/CS6910-A1/sweeps/lzmcss02</a><br/>\n",
       "Run page: <a href=\"https://wandb.ai/notarchana/CS6910-A1/runs/g5dacab0\" target=\"_blank\">https://wandb.ai/notarchana/CS6910-A1/runs/g5dacab0</a><br/>\n",
       "                Run data is saved locally in <code>/home/krishna/iit/sem6/dl/wandb/run-20210311_144319-g5dacab0</code><br/><br/>\n",
       "            "
      ],
      "text/plain": [
       "<IPython.core.display.HTML object>"
      ]
     },
     "metadata": {},
     "output_type": "display_data"
    },
    {
     "name": "stderr",
     "output_type": "stream",
     "text": [
      "\u001b[34m\u001b[1mwandb\u001b[0m: \u001b[33mWARNING\u001b[0m Calling run.save without any arguments is deprecated.Changes to attributes are automatically persisted.\n"
     ]
    },
    {
     "name": "stdout",
     "output_type": "stream",
     "text": [
      "model building done\n",
      "Epoch 0 done: Loss = 0.49888872378924226\n",
      "Epoch 1 done: Loss = 0.4579357991745122\n",
      "Epoch 2 done: Loss = 0.43180267013320917\n",
      "Epoch 3 done: Loss = 0.44346504724174285\n",
      "Epoch 4 done: Loss = 0.40297026559537424\n",
      "Epoch 5 done: Loss = 0.38330806846267695\n",
      "Epoch 6 done: Loss = 0.38523403872081824\n",
      "Epoch 7 done: Loss = 0.40452054265773457\n",
      "Epoch 8 done: Loss = 0.4041061371177941\n",
      "Epoch 9 done: Loss = 0.38847105319461184\n",
      "model training done\n"
     ]
    },
    {
     "data": {
      "text/html": [
       "<br/>Waiting for W&B process to finish, PID 60130<br/>Program ended successfully."
      ],
      "text/plain": [
       "<IPython.core.display.HTML object>"
      ]
     },
     "metadata": {},
     "output_type": "display_data"
    },
    {
     "data": {
      "application/vnd.jupyter.widget-view+json": {
       "model_id": "",
       "version_major": 2,
       "version_minor": 0
      },
      "text/plain": [
       "VBox(children=(Label(value=' 0.00MB of 0.00MB uploaded (0.00MB deduped)\\r'), FloatProgress(value=1.0, max=1.0)…"
      ]
     },
     "metadata": {},
     "output_type": "display_data"
    },
    {
     "data": {
      "text/html": [
       "Find user logs for this run at: <code>/home/krishna/iit/sem6/dl/wandb/run-20210311_144319-g5dacab0/logs/debug.log</code>"
      ],
      "text/plain": [
       "<IPython.core.display.HTML object>"
      ]
     },
     "metadata": {},
     "output_type": "display_data"
    },
    {
     "data": {
      "text/html": [
       "Find internal logs for this run at: <code>/home/krishna/iit/sem6/dl/wandb/run-20210311_144319-g5dacab0/logs/debug-internal.log</code>"
      ],
      "text/plain": [
       "<IPython.core.display.HTML object>"
      ]
     },
     "metadata": {},
     "output_type": "display_data"
    },
    {
     "data": {
      "text/html": [
       "<h3>Run summary:</h3><br/><style>\n",
       "    table.wandb td:nth-child(1) { padding: 0 10px; text-align: right }\n",
       "    </style><table class=\"wandb\">\n",
       "<tr><td>train accuracy</td><td>0.88365</td></tr><tr><td>validation accuracy</td><td>0.86725</td></tr><tr><td>train loss</td><td>0.38847</td></tr><tr><td>val loss</td><td>0.43511</td></tr><tr><td>_runtime</td><td>24</td></tr><tr><td>_timestamp</td><td>1615454023</td></tr><tr><td>_step</td><td>9</td></tr></table>"
      ],
      "text/plain": [
       "<IPython.core.display.HTML object>"
      ]
     },
     "metadata": {},
     "output_type": "display_data"
    },
    {
     "data": {
      "text/html": [
       "<h3>Run history:</h3><br/><style>\n",
       "    table.wandb td:nth-child(1) { padding: 0 10px; text-align: right }\n",
       "    </style><table class=\"wandb\">\n",
       "<tr><td>train accuracy</td><td>▁▄▅▅▆▇▇▇▇█</td></tr><tr><td>validation accuracy</td><td>▁▄▅▅▇██▇▇█</td></tr><tr><td>train loss</td><td>█▆▄▅▂▁▁▂▂▁</td></tr><tr><td>val loss</td><td>█▅▄▅▂▁▁▃▄▃</td></tr><tr><td>_runtime</td><td>▁▂▂▃▄▅▅▆▇█</td></tr><tr><td>_timestamp</td><td>▁▂▂▃▄▅▅▆▇█</td></tr><tr><td>_step</td><td>▁▂▃▃▄▅▆▆▇█</td></tr></table><br/>"
      ],
      "text/plain": [
       "<IPython.core.display.HTML object>"
      ]
     },
     "metadata": {},
     "output_type": "display_data"
    },
    {
     "data": {
      "text/html": [
       "Synced 5 W&B file(s), 0 media file(s), 0 artifact file(s) and 0 other file(s)"
      ],
      "text/plain": [
       "<IPython.core.display.HTML object>"
      ]
     },
     "metadata": {},
     "output_type": "display_data"
    },
    {
     "data": {
      "text/html": [
       "\n",
       "                    <br/>Synced <strong style=\"color:#cdcd00\">hello</strong>: <a href=\"https://wandb.ai/notarchana/CS6910-A1/runs/g5dacab0\" target=\"_blank\">https://wandb.ai/notarchana/CS6910-A1/runs/g5dacab0</a><br/>\n",
       "                "
      ],
      "text/plain": [
       "<IPython.core.display.HTML object>"
      ]
     },
     "metadata": {},
     "output_type": "display_data"
    },
    {
     "name": "stderr",
     "output_type": "stream",
     "text": [
      "\u001b[34m\u001b[1mwandb\u001b[0m: Agent Starting Run: 5hx55ldq with config:\n",
      "\u001b[34m\u001b[1mwandb\u001b[0m: \tactivation: sigmoid\n",
      "\u001b[34m\u001b[1mwandb\u001b[0m: \tbatch_size: 64\n",
      "\u001b[34m\u001b[1mwandb\u001b[0m: \tepochs: 10\n",
      "\u001b[34m\u001b[1mwandb\u001b[0m: \thidden_layer_size: 64\n",
      "\u001b[34m\u001b[1mwandb\u001b[0m: \thidden_layers: 5\n",
      "\u001b[34m\u001b[1mwandb\u001b[0m: \tlr: 0.001\n",
      "\u001b[34m\u001b[1mwandb\u001b[0m: \toptimiser: nadam\n",
      "\u001b[34m\u001b[1mwandb\u001b[0m: \tweight_decay: 0.0005\n",
      "\u001b[34m\u001b[1mwandb\u001b[0m: \tweight_init: xavier\n"
     ]
    },
    {
     "data": {
      "text/html": [
       "\n",
       "                Tracking run with wandb version 0.10.22<br/>\n",
       "                Syncing run <strong style=\"color:#cdcd00\">hello</strong> to <a href=\"https://wandb.ai\" target=\"_blank\">Weights & Biases</a> <a href=\"https://docs.wandb.com/integrations/jupyter.html\" target=\"_blank\">(Documentation)</a>.<br/>\n",
       "                Project page: <a href=\"https://wandb.ai/notarchana/CS6910-A1\" target=\"_blank\">https://wandb.ai/notarchana/CS6910-A1</a><br/>\n",
       "                Sweep page: <a href=\"https://wandb.ai/notarchana/CS6910-A1/sweeps/lzmcss02\" target=\"_blank\">https://wandb.ai/notarchana/CS6910-A1/sweeps/lzmcss02</a><br/>\n",
       "Run page: <a href=\"https://wandb.ai/notarchana/CS6910-A1/runs/5hx55ldq\" target=\"_blank\">https://wandb.ai/notarchana/CS6910-A1/runs/5hx55ldq</a><br/>\n",
       "                Run data is saved locally in <code>/home/krishna/iit/sem6/dl/wandb/run-20210311_144350-5hx55ldq</code><br/><br/>\n",
       "            "
      ],
      "text/plain": [
       "<IPython.core.display.HTML object>"
      ]
     },
     "metadata": {},
     "output_type": "display_data"
    },
    {
     "name": "stderr",
     "output_type": "stream",
     "text": [
      "\u001b[34m\u001b[1mwandb\u001b[0m: \u001b[33mWARNING\u001b[0m Calling run.save without any arguments is deprecated.Changes to attributes are automatically persisted.\n"
     ]
    },
    {
     "name": "stdout",
     "output_type": "stream",
     "text": [
      "model building done\n",
      "Epoch 0 done: Loss = 1.7246694899592743\n",
      "Epoch 1 done: Loss = 1.0982848704307604\n",
      "Epoch 2 done: Loss = 0.8654312126839881\n",
      "Epoch 3 done: Loss = 0.776518164298109\n",
      "Epoch 4 done: Loss = 0.7258026364536451\n",
      "Epoch 5 done: Loss = 0.6846502943207433\n",
      "Epoch 6 done: Loss = 0.6487791637273983\n",
      "Epoch 7 done: Loss = 0.6205475868784494\n",
      "Epoch 8 done: Loss = 0.5984558793676972\n",
      "Epoch 9 done: Loss = 0.5800854559202051\n",
      "model training done\n"
     ]
    },
    {
     "data": {
      "text/html": [
       "<br/>Waiting for W&B process to finish, PID 60162<br/>Program ended successfully."
      ],
      "text/plain": [
       "<IPython.core.display.HTML object>"
      ]
     },
     "metadata": {},
     "output_type": "display_data"
    },
    {
     "data": {
      "application/vnd.jupyter.widget-view+json": {
       "model_id": "",
       "version_major": 2,
       "version_minor": 0
      },
      "text/plain": [
       "VBox(children=(Label(value=' 0.00MB of 0.00MB uploaded (0.00MB deduped)\\r'), FloatProgress(value=1.0, max=1.0)…"
      ]
     },
     "metadata": {},
     "output_type": "display_data"
    },
    {
     "data": {
      "text/html": [
       "Find user logs for this run at: <code>/home/krishna/iit/sem6/dl/wandb/run-20210311_144350-5hx55ldq/logs/debug.log</code>"
      ],
      "text/plain": [
       "<IPython.core.display.HTML object>"
      ]
     },
     "metadata": {},
     "output_type": "display_data"
    },
    {
     "data": {
      "text/html": [
       "Find internal logs for this run at: <code>/home/krishna/iit/sem6/dl/wandb/run-20210311_144350-5hx55ldq/logs/debug-internal.log</code>"
      ],
      "text/plain": [
       "<IPython.core.display.HTML object>"
      ]
     },
     "metadata": {},
     "output_type": "display_data"
    },
    {
     "data": {
      "text/html": [
       "<h3>Run summary:</h3><br/><style>\n",
       "    table.wandb td:nth-child(1) { padding: 0 10px; text-align: right }\n",
       "    </style><table class=\"wandb\">\n",
       "<tr><td>train accuracy</td><td>0.80731</td></tr><tr><td>validation accuracy</td><td>0.79392</td></tr><tr><td>train loss</td><td>0.58009</td></tr><tr><td>val loss</td><td>0.61971</td></tr><tr><td>_runtime</td><td>42</td></tr><tr><td>_timestamp</td><td>1615454072</td></tr><tr><td>_step</td><td>9</td></tr></table>"
      ],
      "text/plain": [
       "<IPython.core.display.HTML object>"
      ]
     },
     "metadata": {},
     "output_type": "display_data"
    },
    {
     "data": {
      "text/html": [
       "<h3>Run history:</h3><br/><style>\n",
       "    table.wandb td:nth-child(1) { padding: 0 10px; text-align: right }\n",
       "    </style><table class=\"wandb\">\n",
       "<tr><td>train accuracy</td><td>▁▆▇▇██████</td></tr><tr><td>validation accuracy</td><td>▁▆▇▇██████</td></tr><tr><td>train loss</td><td>█▄▃▂▂▂▁▁▁▁</td></tr><tr><td>val loss</td><td>█▄▃▂▂▂▁▁▁▁</td></tr><tr><td>_runtime</td><td>▁▂▂▃▄▅▆▆▇█</td></tr><tr><td>_timestamp</td><td>▁▂▂▃▄▅▆▆▇█</td></tr><tr><td>_step</td><td>▁▂▃▃▄▅▆▆▇█</td></tr></table><br/>"
      ],
      "text/plain": [
       "<IPython.core.display.HTML object>"
      ]
     },
     "metadata": {},
     "output_type": "display_data"
    },
    {
     "data": {
      "text/html": [
       "Synced 5 W&B file(s), 0 media file(s), 0 artifact file(s) and 0 other file(s)"
      ],
      "text/plain": [
       "<IPython.core.display.HTML object>"
      ]
     },
     "metadata": {},
     "output_type": "display_data"
    },
    {
     "data": {
      "text/html": [
       "\n",
       "                    <br/>Synced <strong style=\"color:#cdcd00\">hello</strong>: <a href=\"https://wandb.ai/notarchana/CS6910-A1/runs/5hx55ldq\" target=\"_blank\">https://wandb.ai/notarchana/CS6910-A1/runs/5hx55ldq</a><br/>\n",
       "                "
      ],
      "text/plain": [
       "<IPython.core.display.HTML object>"
      ]
     },
     "metadata": {},
     "output_type": "display_data"
    },
    {
     "name": "stderr",
     "output_type": "stream",
     "text": [
      "\u001b[34m\u001b[1mwandb\u001b[0m: Agent Starting Run: k0gzvmfa with config:\n",
      "\u001b[34m\u001b[1mwandb\u001b[0m: \tactivation: relu\n",
      "\u001b[34m\u001b[1mwandb\u001b[0m: \tbatch_size: 32\n",
      "\u001b[34m\u001b[1mwandb\u001b[0m: \tepochs: 10\n",
      "\u001b[34m\u001b[1mwandb\u001b[0m: \thidden_layer_size: 32\n",
      "\u001b[34m\u001b[1mwandb\u001b[0m: \thidden_layers: 4\n",
      "\u001b[34m\u001b[1mwandb\u001b[0m: \tlr: 0.001\n",
      "\u001b[34m\u001b[1mwandb\u001b[0m: \toptimiser: rmsprop\n",
      "\u001b[34m\u001b[1mwandb\u001b[0m: \tweight_decay: 0.5\n",
      "\u001b[34m\u001b[1mwandb\u001b[0m: \tweight_init: xavier\n"
     ]
    },
    {
     "data": {
      "text/html": [
       "\n",
       "                Tracking run with wandb version 0.10.22<br/>\n",
       "                Syncing run <strong style=\"color:#cdcd00\">hello</strong> to <a href=\"https://wandb.ai\" target=\"_blank\">Weights & Biases</a> <a href=\"https://docs.wandb.com/integrations/jupyter.html\" target=\"_blank\">(Documentation)</a>.<br/>\n",
       "                Project page: <a href=\"https://wandb.ai/notarchana/CS6910-A1\" target=\"_blank\">https://wandb.ai/notarchana/CS6910-A1</a><br/>\n",
       "                Sweep page: <a href=\"https://wandb.ai/notarchana/CS6910-A1/sweeps/lzmcss02\" target=\"_blank\">https://wandb.ai/notarchana/CS6910-A1/sweeps/lzmcss02</a><br/>\n",
       "Run page: <a href=\"https://wandb.ai/notarchana/CS6910-A1/runs/k0gzvmfa\" target=\"_blank\">https://wandb.ai/notarchana/CS6910-A1/runs/k0gzvmfa</a><br/>\n",
       "                Run data is saved locally in <code>/home/krishna/iit/sem6/dl/wandb/run-20210311_144439-k0gzvmfa</code><br/><br/>\n",
       "            "
      ],
      "text/plain": [
       "<IPython.core.display.HTML object>"
      ]
     },
     "metadata": {},
     "output_type": "display_data"
    },
    {
     "name": "stderr",
     "output_type": "stream",
     "text": [
      "\u001b[34m\u001b[1mwandb\u001b[0m: \u001b[33mWARNING\u001b[0m Calling run.save without any arguments is deprecated.Changes to attributes are automatically persisted.\n"
     ]
    },
    {
     "name": "stdout",
     "output_type": "stream",
     "text": [
      "model building done\n",
      "Epoch 0 done: Loss = 0.5038992764234325\n",
      "Epoch 1 done: Loss = 0.44595251061849983\n",
      "Epoch 2 done: Loss = 0.40917145120051146\n",
      "Epoch 3 done: Loss = 0.38096052696798943\n",
      "Epoch 4 done: Loss = 0.3798072568236031\n",
      "Epoch 5 done: Loss = 0.37632775578148175\n",
      "Epoch 6 done: Loss = 0.3662512020165693\n",
      "Epoch 7 done: Loss = 0.38216745227444576\n",
      "Epoch 8 done: Loss = 0.37214686186952833\n",
      "Epoch 9 done: Loss = 0.37765210848124914\n",
      "model training done\n"
     ]
    },
    {
     "data": {
      "text/html": [
       "<br/>Waiting for W&B process to finish, PID 60202<br/>Program ended successfully."
      ],
      "text/plain": [
       "<IPython.core.display.HTML object>"
      ]
     },
     "metadata": {},
     "output_type": "display_data"
    },
    {
     "data": {
      "application/vnd.jupyter.widget-view+json": {
       "model_id": "",
       "version_major": 2,
       "version_minor": 0
      },
      "text/plain": [
       "VBox(children=(Label(value=' 0.00MB of 0.00MB uploaded (0.00MB deduped)\\r'), FloatProgress(value=1.0, max=1.0)…"
      ]
     },
     "metadata": {},
     "output_type": "display_data"
    },
    {
     "data": {
      "text/html": [
       "Find user logs for this run at: <code>/home/krishna/iit/sem6/dl/wandb/run-20210311_144439-k0gzvmfa/logs/debug.log</code>"
      ],
      "text/plain": [
       "<IPython.core.display.HTML object>"
      ]
     },
     "metadata": {},
     "output_type": "display_data"
    },
    {
     "data": {
      "text/html": [
       "Find internal logs for this run at: <code>/home/krishna/iit/sem6/dl/wandb/run-20210311_144439-k0gzvmfa/logs/debug-internal.log</code>"
      ],
      "text/plain": [
       "<IPython.core.display.HTML object>"
      ]
     },
     "metadata": {},
     "output_type": "display_data"
    },
    {
     "data": {
      "text/html": [
       "<h3>Run summary:</h3><br/><style>\n",
       "    table.wandb td:nth-child(1) { padding: 0 10px; text-align: right }\n",
       "    </style><table class=\"wandb\">\n",
       "<tr><td>train accuracy</td><td>0.88981</td></tr><tr><td>validation accuracy</td><td>0.87142</td></tr><tr><td>train loss</td><td>0.37765</td></tr><tr><td>val loss</td><td>0.43758</td></tr><tr><td>_runtime</td><td>22</td></tr><tr><td>_timestamp</td><td>1615454101</td></tr><tr><td>_step</td><td>9</td></tr></table>"
      ],
      "text/plain": [
       "<IPython.core.display.HTML object>"
      ]
     },
     "metadata": {},
     "output_type": "display_data"
    },
    {
     "data": {
      "text/html": [
       "<h3>Run history:</h3><br/><style>\n",
       "    table.wandb td:nth-child(1) { padding: 0 10px; text-align: right }\n",
       "    </style><table class=\"wandb\">\n",
       "<tr><td>train accuracy</td><td>▁▅▆▆▇▇▇▇██</td></tr><tr><td>validation accuracy</td><td>▁▅▇▇▇▇█▇█▇</td></tr><tr><td>train loss</td><td>█▅▃▂▂▂▁▂▁▂</td></tr><tr><td>val loss</td><td>█▄▂▁▂▂▁▃▂▃</td></tr><tr><td>_runtime</td><td>▁▂▃▃▄▅▅▆▇█</td></tr><tr><td>_timestamp</td><td>▁▂▃▃▄▅▅▆▇█</td></tr><tr><td>_step</td><td>▁▂▃▃▄▅▆▆▇█</td></tr></table><br/>"
      ],
      "text/plain": [
       "<IPython.core.display.HTML object>"
      ]
     },
     "metadata": {},
     "output_type": "display_data"
    },
    {
     "data": {
      "text/html": [
       "Synced 5 W&B file(s), 0 media file(s), 0 artifact file(s) and 0 other file(s)"
      ],
      "text/plain": [
       "<IPython.core.display.HTML object>"
      ]
     },
     "metadata": {},
     "output_type": "display_data"
    },
    {
     "data": {
      "text/html": [
       "\n",
       "                    <br/>Synced <strong style=\"color:#cdcd00\">hello</strong>: <a href=\"https://wandb.ai/notarchana/CS6910-A1/runs/k0gzvmfa\" target=\"_blank\">https://wandb.ai/notarchana/CS6910-A1/runs/k0gzvmfa</a><br/>\n",
       "                "
      ],
      "text/plain": [
       "<IPython.core.display.HTML object>"
      ]
     },
     "metadata": {},
     "output_type": "display_data"
    },
    {
     "name": "stderr",
     "output_type": "stream",
     "text": [
      "\u001b[34m\u001b[1mwandb\u001b[0m: Agent Starting Run: iku5t5en with config:\n",
      "\u001b[34m\u001b[1mwandb\u001b[0m: \tactivation: relu\n",
      "\u001b[34m\u001b[1mwandb\u001b[0m: \tbatch_size: 64\n",
      "\u001b[34m\u001b[1mwandb\u001b[0m: \tepochs: 10\n",
      "\u001b[34m\u001b[1mwandb\u001b[0m: \thidden_layer_size: 64\n",
      "\u001b[34m\u001b[1mwandb\u001b[0m: \thidden_layers: 3\n",
      "\u001b[34m\u001b[1mwandb\u001b[0m: \tlr: 0.001\n",
      "\u001b[34m\u001b[1mwandb\u001b[0m: \toptimiser: nadam\n",
      "\u001b[34m\u001b[1mwandb\u001b[0m: \tweight_decay: 0.5\n",
      "\u001b[34m\u001b[1mwandb\u001b[0m: \tweight_init: xavier\n"
     ]
    },
    {
     "data": {
      "text/html": [
       "\n",
       "                Tracking run with wandb version 0.10.22<br/>\n",
       "                Syncing run <strong style=\"color:#cdcd00\">hello</strong> to <a href=\"https://wandb.ai\" target=\"_blank\">Weights & Biases</a> <a href=\"https://docs.wandb.com/integrations/jupyter.html\" target=\"_blank\">(Documentation)</a>.<br/>\n",
       "                Project page: <a href=\"https://wandb.ai/notarchana/CS6910-A1\" target=\"_blank\">https://wandb.ai/notarchana/CS6910-A1</a><br/>\n",
       "                Sweep page: <a href=\"https://wandb.ai/notarchana/CS6910-A1/sweeps/lzmcss02\" target=\"_blank\">https://wandb.ai/notarchana/CS6910-A1/sweeps/lzmcss02</a><br/>\n",
       "Run page: <a href=\"https://wandb.ai/notarchana/CS6910-A1/runs/iku5t5en\" target=\"_blank\">https://wandb.ai/notarchana/CS6910-A1/runs/iku5t5en</a><br/>\n",
       "                Run data is saved locally in <code>/home/krishna/iit/sem6/dl/wandb/run-20210311_144507-iku5t5en</code><br/><br/>\n",
       "            "
      ],
      "text/plain": [
       "<IPython.core.display.HTML object>"
      ]
     },
     "metadata": {},
     "output_type": "display_data"
    },
    {
     "name": "stderr",
     "output_type": "stream",
     "text": [
      "\u001b[34m\u001b[1mwandb\u001b[0m: \u001b[33mWARNING\u001b[0m Calling run.save without any arguments is deprecated.Changes to attributes are automatically persisted.\n"
     ]
    },
    {
     "name": "stdout",
     "output_type": "stream",
     "text": [
      "model building done\n",
      "Epoch 0 done: Loss = 4.124996586339669\n",
      "Epoch 1 done: Loss = 3.5280520735266934\n",
      "Epoch 2 done: Loss = 3.4940552364829096\n",
      "Epoch 3 done: Loss = 3.455031697571242\n",
      "Epoch 4 done: Loss = 3.4104528102122478\n",
      "Epoch 5 done: Loss = 3.354681619846998\n",
      "Epoch 6 done: Loss = 3.2437534568903805\n",
      "Epoch 7 done: Loss = 2.9015445347760216\n",
      "Epoch 8 done: Loss = 0.5114850365668937\n",
      "Epoch 9 done: Loss = 0.4456542675639779\n",
      "model training done\n"
     ]
    },
    {
     "data": {
      "text/html": [
       "<br/>Waiting for W&B process to finish, PID 60236<br/>Program ended successfully."
      ],
      "text/plain": [
       "<IPython.core.display.HTML object>"
      ]
     },
     "metadata": {},
     "output_type": "display_data"
    },
    {
     "data": {
      "application/vnd.jupyter.widget-view+json": {
       "model_id": "",
       "version_major": 2,
       "version_minor": 0
      },
      "text/plain": [
       "VBox(children=(Label(value=' 0.00MB of 0.00MB uploaded (0.00MB deduped)\\r'), FloatProgress(value=1.0, max=1.0)…"
      ]
     },
     "metadata": {},
     "output_type": "display_data"
    },
    {
     "data": {
      "text/html": [
       "Find user logs for this run at: <code>/home/krishna/iit/sem6/dl/wandb/run-20210311_144507-iku5t5en/logs/debug.log</code>"
      ],
      "text/plain": [
       "<IPython.core.display.HTML object>"
      ]
     },
     "metadata": {},
     "output_type": "display_data"
    },
    {
     "data": {
      "text/html": [
       "Find internal logs for this run at: <code>/home/krishna/iit/sem6/dl/wandb/run-20210311_144507-iku5t5en/logs/debug-internal.log</code>"
      ],
      "text/plain": [
       "<IPython.core.display.HTML object>"
      ]
     },
     "metadata": {},
     "output_type": "display_data"
    },
    {
     "data": {
      "text/html": [
       "<h3>Run summary:</h3><br/><style>\n",
       "    table.wandb td:nth-child(1) { padding: 0 10px; text-align: right }\n",
       "    </style><table class=\"wandb\">\n",
       "<tr><td>train accuracy</td><td>0.86987</td></tr><tr><td>validation accuracy</td><td>0.86508</td></tr><tr><td>train loss</td><td>0.44565</td></tr><tr><td>val loss</td><td>0.44471</td></tr><tr><td>_runtime</td><td>26</td></tr><tr><td>_timestamp</td><td>1615454133</td></tr><tr><td>_step</td><td>9</td></tr></table>"
      ],
      "text/plain": [
       "<IPython.core.display.HTML object>"
      ]
     },
     "metadata": {},
     "output_type": "display_data"
    },
    {
     "data": {
      "text/html": [
       "<h3>Run history:</h3><br/><style>\n",
       "    table.wandb td:nth-child(1) { padding: 0 10px; text-align: right }\n",
       "    </style><table class=\"wandb\">\n",
       "<tr><td>train accuracy</td><td>▁▃▃▃▃▃▃▃██</td></tr><tr><td>validation accuracy</td><td>▁▃▃▃▃▃▃▃██</td></tr><tr><td>train loss</td><td>█▇▇▇▇▇▆▆▁▁</td></tr><tr><td>val loss</td><td>█▇▇▇▇▇▆▆▁▁</td></tr><tr><td>_runtime</td><td>▁▂▂▃▄▅▅▆▇█</td></tr><tr><td>_timestamp</td><td>▁▂▂▃▄▅▅▆▇█</td></tr><tr><td>_step</td><td>▁▂▃▃▄▅▆▆▇█</td></tr></table><br/>"
      ],
      "text/plain": [
       "<IPython.core.display.HTML object>"
      ]
     },
     "metadata": {},
     "output_type": "display_data"
    },
    {
     "data": {
      "text/html": [
       "Synced 5 W&B file(s), 0 media file(s), 0 artifact file(s) and 0 other file(s)"
      ],
      "text/plain": [
       "<IPython.core.display.HTML object>"
      ]
     },
     "metadata": {},
     "output_type": "display_data"
    },
    {
     "data": {
      "text/html": [
       "\n",
       "                    <br/>Synced <strong style=\"color:#cdcd00\">hello</strong>: <a href=\"https://wandb.ai/notarchana/CS6910-A1/runs/iku5t5en\" target=\"_blank\">https://wandb.ai/notarchana/CS6910-A1/runs/iku5t5en</a><br/>\n",
       "                "
      ],
      "text/plain": [
       "<IPython.core.display.HTML object>"
      ]
     },
     "metadata": {},
     "output_type": "display_data"
    },
    {
     "name": "stderr",
     "output_type": "stream",
     "text": [
      "\u001b[34m\u001b[1mwandb\u001b[0m: Agent Starting Run: ls0abgcy with config:\n",
      "\u001b[34m\u001b[1mwandb\u001b[0m: \tactivation: relu\n",
      "\u001b[34m\u001b[1mwandb\u001b[0m: \tbatch_size: 64\n",
      "\u001b[34m\u001b[1mwandb\u001b[0m: \tepochs: 10\n",
      "\u001b[34m\u001b[1mwandb\u001b[0m: \thidden_layer_size: 128\n",
      "\u001b[34m\u001b[1mwandb\u001b[0m: \thidden_layers: 3\n",
      "\u001b[34m\u001b[1mwandb\u001b[0m: \tlr: 0.001\n",
      "\u001b[34m\u001b[1mwandb\u001b[0m: \toptimiser: adam\n",
      "\u001b[34m\u001b[1mwandb\u001b[0m: \tweight_decay: 0.0005\n",
      "\u001b[34m\u001b[1mwandb\u001b[0m: \tweight_init: xavier\n"
     ]
    },
    {
     "data": {
      "text/html": [
       "\n",
       "                Tracking run with wandb version 0.10.22<br/>\n",
       "                Syncing run <strong style=\"color:#cdcd00\">hello</strong> to <a href=\"https://wandb.ai\" target=\"_blank\">Weights & Biases</a> <a href=\"https://docs.wandb.com/integrations/jupyter.html\" target=\"_blank\">(Documentation)</a>.<br/>\n",
       "                Project page: <a href=\"https://wandb.ai/notarchana/CS6910-A1\" target=\"_blank\">https://wandb.ai/notarchana/CS6910-A1</a><br/>\n",
       "                Sweep page: <a href=\"https://wandb.ai/notarchana/CS6910-A1/sweeps/lzmcss02\" target=\"_blank\">https://wandb.ai/notarchana/CS6910-A1/sweeps/lzmcss02</a><br/>\n",
       "Run page: <a href=\"https://wandb.ai/notarchana/CS6910-A1/runs/ls0abgcy\" target=\"_blank\">https://wandb.ai/notarchana/CS6910-A1/runs/ls0abgcy</a><br/>\n",
       "                Run data is saved locally in <code>/home/krishna/iit/sem6/dl/wandb/run-20210311_144540-ls0abgcy</code><br/><br/>\n",
       "            "
      ],
      "text/plain": [
       "<IPython.core.display.HTML object>"
      ]
     },
     "metadata": {},
     "output_type": "display_data"
    },
    {
     "name": "stderr",
     "output_type": "stream",
     "text": [
      "\u001b[34m\u001b[1mwandb\u001b[0m: \u001b[33mWARNING\u001b[0m Calling run.save without any arguments is deprecated.Changes to attributes are automatically persisted.\n"
     ]
    },
    {
     "name": "stdout",
     "output_type": "stream",
     "text": [
      "model building done\n",
      "Epoch 0 done: Loss = 2.354075972815716\n",
      "Epoch 1 done: Loss = 0.4607749355711828\n",
      "Epoch 2 done: Loss = 0.43487920226638554\n",
      "Epoch 3 done: Loss = 0.42312012273029664\n",
      "Epoch 4 done: Loss = 0.4081426275811058\n",
      "Epoch 5 done: Loss = 0.39763693102999825\n",
      "Epoch 6 done: Loss = 0.3871199822688023\n",
      "Epoch 7 done: Loss = 0.37817683097510085\n",
      "Epoch 8 done: Loss = 0.3697334967416264\n",
      "Epoch 9 done: Loss = 0.3609818049399132\n",
      "model training done\n"
     ]
    },
    {
     "data": {
      "text/html": [
       "<br/>Waiting for W&B process to finish, PID 60268<br/>Program ended successfully."
      ],
      "text/plain": [
       "<IPython.core.display.HTML object>"
      ]
     },
     "metadata": {},
     "output_type": "display_data"
    },
    {
     "data": {
      "application/vnd.jupyter.widget-view+json": {
       "model_id": "",
       "version_major": 2,
       "version_minor": 0
      },
      "text/plain": [
       "VBox(children=(Label(value=' 0.00MB of 0.00MB uploaded (0.00MB deduped)\\r'), FloatProgress(value=1.0, max=1.0)…"
      ]
     },
     "metadata": {},
     "output_type": "display_data"
    },
    {
     "data": {
      "text/html": [
       "Find user logs for this run at: <code>/home/krishna/iit/sem6/dl/wandb/run-20210311_144540-ls0abgcy/logs/debug.log</code>"
      ],
      "text/plain": [
       "<IPython.core.display.HTML object>"
      ]
     },
     "metadata": {},
     "output_type": "display_data"
    },
    {
     "data": {
      "text/html": [
       "Find internal logs for this run at: <code>/home/krishna/iit/sem6/dl/wandb/run-20210311_144540-ls0abgcy/logs/debug-internal.log</code>"
      ],
      "text/plain": [
       "<IPython.core.display.HTML object>"
      ]
     },
     "metadata": {},
     "output_type": "display_data"
    },
    {
     "data": {
      "text/html": [
       "<h3>Run summary:</h3><br/><style>\n",
       "    table.wandb td:nth-child(1) { padding: 0 10px; text-align: right }\n",
       "    </style><table class=\"wandb\">\n",
       "<tr><td>train accuracy</td><td>0.88956</td></tr><tr><td>validation accuracy</td><td>0.87592</td></tr><tr><td>train loss</td><td>0.36098</td></tr><tr><td>val loss</td><td>0.3885</td></tr><tr><td>_runtime</td><td>49</td></tr><tr><td>_timestamp</td><td>1615454189</td></tr><tr><td>_step</td><td>9</td></tr></table>"
      ],
      "text/plain": [
       "<IPython.core.display.HTML object>"
      ]
     },
     "metadata": {},
     "output_type": "display_data"
    },
    {
     "data": {
      "text/html": [
       "<h3>Run history:</h3><br/><style>\n",
       "    table.wandb td:nth-child(1) { padding: 0 10px; text-align: right }\n",
       "    </style><table class=\"wandb\">\n",
       "<tr><td>train accuracy</td><td>▁▇▇▇▇█████</td></tr><tr><td>validation accuracy</td><td>▁▇▇▇▇█████</td></tr><tr><td>train loss</td><td>█▁▁▁▁▁▁▁▁▁</td></tr><tr><td>val loss</td><td>█▁▁▁▁▁▁▁▁▁</td></tr><tr><td>_runtime</td><td>▁▂▂▃▄▄▅▆▇█</td></tr><tr><td>_timestamp</td><td>▁▂▂▃▄▄▅▆▇█</td></tr><tr><td>_step</td><td>▁▂▃▃▄▅▆▆▇█</td></tr></table><br/>"
      ],
      "text/plain": [
       "<IPython.core.display.HTML object>"
      ]
     },
     "metadata": {},
     "output_type": "display_data"
    },
    {
     "data": {
      "text/html": [
       "Synced 5 W&B file(s), 0 media file(s), 0 artifact file(s) and 0 other file(s)"
      ],
      "text/plain": [
       "<IPython.core.display.HTML object>"
      ]
     },
     "metadata": {},
     "output_type": "display_data"
    },
    {
     "data": {
      "text/html": [
       "\n",
       "                    <br/>Synced <strong style=\"color:#cdcd00\">hello</strong>: <a href=\"https://wandb.ai/notarchana/CS6910-A1/runs/ls0abgcy\" target=\"_blank\">https://wandb.ai/notarchana/CS6910-A1/runs/ls0abgcy</a><br/>\n",
       "                "
      ],
      "text/plain": [
       "<IPython.core.display.HTML object>"
      ]
     },
     "metadata": {},
     "output_type": "display_data"
    },
    {
     "name": "stderr",
     "output_type": "stream",
     "text": [
      "\u001b[34m\u001b[1mwandb\u001b[0m: Agent Starting Run: yaiut7yj with config:\n",
      "\u001b[34m\u001b[1mwandb\u001b[0m: \tactivation: sigmoid\n",
      "\u001b[34m\u001b[1mwandb\u001b[0m: \tbatch_size: 16\n",
      "\u001b[34m\u001b[1mwandb\u001b[0m: \tepochs: 10\n",
      "\u001b[34m\u001b[1mwandb\u001b[0m: \thidden_layer_size: 128\n",
      "\u001b[34m\u001b[1mwandb\u001b[0m: \thidden_layers: 4\n",
      "\u001b[34m\u001b[1mwandb\u001b[0m: \tlr: 0.001\n",
      "\u001b[34m\u001b[1mwandb\u001b[0m: \toptimiser: momentum\n",
      "\u001b[34m\u001b[1mwandb\u001b[0m: \tweight_decay: 0.5\n",
      "\u001b[34m\u001b[1mwandb\u001b[0m: \tweight_init: xavier\n"
     ]
    },
    {
     "data": {
      "text/html": [
       "\n",
       "                Tracking run with wandb version 0.10.22<br/>\n",
       "                Syncing run <strong style=\"color:#cdcd00\">hello</strong> to <a href=\"https://wandb.ai\" target=\"_blank\">Weights & Biases</a> <a href=\"https://docs.wandb.com/integrations/jupyter.html\" target=\"_blank\">(Documentation)</a>.<br/>\n",
       "                Project page: <a href=\"https://wandb.ai/notarchana/CS6910-A1\" target=\"_blank\">https://wandb.ai/notarchana/CS6910-A1</a><br/>\n",
       "                Sweep page: <a href=\"https://wandb.ai/notarchana/CS6910-A1/sweeps/lzmcss02\" target=\"_blank\">https://wandb.ai/notarchana/CS6910-A1/sweeps/lzmcss02</a><br/>\n",
       "Run page: <a href=\"https://wandb.ai/notarchana/CS6910-A1/runs/yaiut7yj\" target=\"_blank\">https://wandb.ai/notarchana/CS6910-A1/runs/yaiut7yj</a><br/>\n",
       "                Run data is saved locally in <code>/home/krishna/iit/sem6/dl/wandb/run-20210311_144636-yaiut7yj</code><br/><br/>\n",
       "            "
      ],
      "text/plain": [
       "<IPython.core.display.HTML object>"
      ]
     },
     "metadata": {},
     "output_type": "display_data"
    },
    {
     "name": "stderr",
     "output_type": "stream",
     "text": [
      "\u001b[34m\u001b[1mwandb\u001b[0m: \u001b[33mWARNING\u001b[0m Calling run.save without any arguments is deprecated.Changes to attributes are automatically persisted.\n"
     ]
    },
    {
     "name": "stdout",
     "output_type": "stream",
     "text": [
      "model building done\n",
      "Epoch 0 done: Loss = 2.3045598125789337\n",
      "Epoch 1 done: Loss = 2.27292218583495\n",
      "Epoch 2 done: Loss = 1.734338332518818\n",
      "Epoch 3 done: Loss = 1.3737709430582445\n",
      "Epoch 4 done: Loss = 1.014907717325694\n",
      "Epoch 5 done: Loss = 0.8225679866998759\n",
      "Epoch 6 done: Loss = 0.7452130906164587\n",
      "Epoch 7 done: Loss = 0.6888915900203175\n",
      "Epoch 8 done: Loss = 0.6502710619203184\n",
      "Epoch 9 done: Loss = 0.6300115708267302\n",
      "model training done\n"
     ]
    },
    {
     "data": {
      "text/html": [
       "<br/>Waiting for W&B process to finish, PID 60307<br/>Program ended successfully."
      ],
      "text/plain": [
       "<IPython.core.display.HTML object>"
      ]
     },
     "metadata": {},
     "output_type": "display_data"
    },
    {
     "data": {
      "application/vnd.jupyter.widget-view+json": {
       "model_id": "",
       "version_major": 2,
       "version_minor": 0
      },
      "text/plain": [
       "VBox(children=(Label(value=' 0.00MB of 0.00MB uploaded (0.00MB deduped)\\r'), FloatProgress(value=1.0, max=1.0)…"
      ]
     },
     "metadata": {},
     "output_type": "display_data"
    },
    {
     "data": {
      "text/html": [
       "Find user logs for this run at: <code>/home/krishna/iit/sem6/dl/wandb/run-20210311_144636-yaiut7yj/logs/debug.log</code>"
      ],
      "text/plain": [
       "<IPython.core.display.HTML object>"
      ]
     },
     "metadata": {},
     "output_type": "display_data"
    },
    {
     "data": {
      "text/html": [
       "Find internal logs for this run at: <code>/home/krishna/iit/sem6/dl/wandb/run-20210311_144636-yaiut7yj/logs/debug-internal.log</code>"
      ],
      "text/plain": [
       "<IPython.core.display.HTML object>"
      ]
     },
     "metadata": {},
     "output_type": "display_data"
    },
    {
     "data": {
      "text/html": [
       "<h3>Run summary:</h3><br/><style>\n",
       "    table.wandb td:nth-child(1) { padding: 0 10px; text-align: right }\n",
       "    </style><table class=\"wandb\">\n",
       "<tr><td>train accuracy</td><td>0.79027</td></tr><tr><td>validation accuracy</td><td>0.78483</td></tr><tr><td>train loss</td><td>0.63001</td></tr><tr><td>val loss</td><td>0.6468</td></tr><tr><td>_runtime</td><td>92</td></tr><tr><td>_timestamp</td><td>1615454288</td></tr><tr><td>_step</td><td>9</td></tr></table>"
      ],
      "text/plain": [
       "<IPython.core.display.HTML object>"
      ]
     },
     "metadata": {},
     "output_type": "display_data"
    },
    {
     "data": {
      "text/html": [
       "<h3>Run history:</h3><br/><style>\n",
       "    table.wandb td:nth-child(1) { padding: 0 10px; text-align: right }\n",
       "    </style><table class=\"wandb\">\n",
       "<tr><td>train accuracy</td><td>▁▁▃▄▇▇▇███</td></tr><tr><td>validation accuracy</td><td>▁▁▃▄▇▇▇███</td></tr><tr><td>train loss</td><td>██▆▄▃▂▁▁▁▁</td></tr><tr><td>val loss</td><td>██▆▄▃▂▁▁▁▁</td></tr><tr><td>_runtime</td><td>▁▂▃▃▄▅▆▇▇█</td></tr><tr><td>_timestamp</td><td>▁▂▃▃▄▅▆▇▇█</td></tr><tr><td>_step</td><td>▁▂▃▃▄▅▆▆▇█</td></tr></table><br/>"
      ],
      "text/plain": [
       "<IPython.core.display.HTML object>"
      ]
     },
     "metadata": {},
     "output_type": "display_data"
    },
    {
     "data": {
      "text/html": [
       "Synced 5 W&B file(s), 0 media file(s), 0 artifact file(s) and 0 other file(s)"
      ],
      "text/plain": [
       "<IPython.core.display.HTML object>"
      ]
     },
     "metadata": {},
     "output_type": "display_data"
    },
    {
     "data": {
      "text/html": [
       "\n",
       "                    <br/>Synced <strong style=\"color:#cdcd00\">hello</strong>: <a href=\"https://wandb.ai/notarchana/CS6910-A1/runs/yaiut7yj\" target=\"_blank\">https://wandb.ai/notarchana/CS6910-A1/runs/yaiut7yj</a><br/>\n",
       "                "
      ],
      "text/plain": [
       "<IPython.core.display.HTML object>"
      ]
     },
     "metadata": {},
     "output_type": "display_data"
    },
    {
     "name": "stderr",
     "output_type": "stream",
     "text": [
      "\u001b[34m\u001b[1mwandb\u001b[0m: Agent Starting Run: gvl7id8p with config:\n",
      "\u001b[34m\u001b[1mwandb\u001b[0m: \tactivation: tanh\n",
      "\u001b[34m\u001b[1mwandb\u001b[0m: \tbatch_size: 16\n",
      "\u001b[34m\u001b[1mwandb\u001b[0m: \tepochs: 10\n",
      "\u001b[34m\u001b[1mwandb\u001b[0m: \thidden_layer_size: 32\n",
      "\u001b[34m\u001b[1mwandb\u001b[0m: \thidden_layers: 3\n",
      "\u001b[34m\u001b[1mwandb\u001b[0m: \tlr: 0.001\n",
      "\u001b[34m\u001b[1mwandb\u001b[0m: \toptimiser: nadam\n",
      "\u001b[34m\u001b[1mwandb\u001b[0m: \tweight_decay: 0.5\n",
      "\u001b[34m\u001b[1mwandb\u001b[0m: \tweight_init: xavier\n"
     ]
    },
    {
     "data": {
      "text/html": [
       "\n",
       "                Tracking run with wandb version 0.10.22<br/>\n",
       "                Syncing run <strong style=\"color:#cdcd00\">hello</strong> to <a href=\"https://wandb.ai\" target=\"_blank\">Weights & Biases</a> <a href=\"https://docs.wandb.com/integrations/jupyter.html\" target=\"_blank\">(Documentation)</a>.<br/>\n",
       "                Project page: <a href=\"https://wandb.ai/notarchana/CS6910-A1\" target=\"_blank\">https://wandb.ai/notarchana/CS6910-A1</a><br/>\n",
       "                Sweep page: <a href=\"https://wandb.ai/notarchana/CS6910-A1/sweeps/lzmcss02\" target=\"_blank\">https://wandb.ai/notarchana/CS6910-A1/sweeps/lzmcss02</a><br/>\n",
       "Run page: <a href=\"https://wandb.ai/notarchana/CS6910-A1/runs/gvl7id8p\" target=\"_blank\">https://wandb.ai/notarchana/CS6910-A1/runs/gvl7id8p</a><br/>\n",
       "                Run data is saved locally in <code>/home/krishna/iit/sem6/dl/wandb/run-20210311_144815-gvl7id8p</code><br/><br/>\n",
       "            "
      ],
      "text/plain": [
       "<IPython.core.display.HTML object>"
      ]
     },
     "metadata": {},
     "output_type": "display_data"
    },
    {
     "name": "stderr",
     "output_type": "stream",
     "text": [
      "\u001b[34m\u001b[1mwandb\u001b[0m: \u001b[33mWARNING\u001b[0m Calling run.save without any arguments is deprecated.Changes to attributes are automatically persisted.\n"
     ]
    },
    {
     "name": "stdout",
     "output_type": "stream",
     "text": [
      "model building done\n",
      "Epoch 0 done: Loss = 0.4478612581641494\n",
      "Epoch 1 done: Loss = 0.3968721582441099\n",
      "Epoch 2 done: Loss = 0.37481129060617757\n",
      "Epoch 3 done: Loss = 0.36172973118748736\n",
      "Epoch 4 done: Loss = 0.351930147205617\n",
      "Epoch 5 done: Loss = 0.34383423533201357\n",
      "Epoch 6 done: Loss = 0.3372389963924728\n",
      "Epoch 7 done: Loss = 0.3317127472830883\n",
      "Epoch 8 done: Loss = 0.3268710805438842\n",
      "Epoch 9 done: Loss = 0.32260546842404286\n",
      "model training done\n"
     ]
    },
    {
     "data": {
      "text/html": [
       "<br/>Waiting for W&B process to finish, PID 60357<br/>Program ended successfully."
      ],
      "text/plain": [
       "<IPython.core.display.HTML object>"
      ]
     },
     "metadata": {},
     "output_type": "display_data"
    },
    {
     "data": {
      "application/vnd.jupyter.widget-view+json": {
       "model_id": "",
       "version_major": 2,
       "version_minor": 0
      },
      "text/plain": [
       "VBox(children=(Label(value=' 0.00MB of 0.00MB uploaded (0.00MB deduped)\\r'), FloatProgress(value=1.0, max=1.0)…"
      ]
     },
     "metadata": {},
     "output_type": "display_data"
    },
    {
     "data": {
      "text/html": [
       "Find user logs for this run at: <code>/home/krishna/iit/sem6/dl/wandb/run-20210311_144815-gvl7id8p/logs/debug.log</code>"
      ],
      "text/plain": [
       "<IPython.core.display.HTML object>"
      ]
     },
     "metadata": {},
     "output_type": "display_data"
    },
    {
     "data": {
      "text/html": [
       "Find internal logs for this run at: <code>/home/krishna/iit/sem6/dl/wandb/run-20210311_144815-gvl7id8p/logs/debug-internal.log</code>"
      ],
      "text/plain": [
       "<IPython.core.display.HTML object>"
      ]
     },
     "metadata": {},
     "output_type": "display_data"
    },
    {
     "data": {
      "text/html": [
       "<h3>Run summary:</h3><br/><style>\n",
       "    table.wandb td:nth-child(1) { padding: 0 10px; text-align: right }\n",
       "    </style><table class=\"wandb\">\n",
       "<tr><td>train accuracy</td><td>0.89658</td></tr><tr><td>validation accuracy</td><td>0.879</td></tr><tr><td>train loss</td><td>0.32261</td></tr><tr><td>val loss</td><td>0.36333</td></tr><tr><td>_runtime</td><td>45</td></tr><tr><td>_timestamp</td><td>1615454340</td></tr><tr><td>_step</td><td>9</td></tr></table>"
      ],
      "text/plain": [
       "<IPython.core.display.HTML object>"
      ]
     },
     "metadata": {},
     "output_type": "display_data"
    },
    {
     "data": {
      "text/html": [
       "<h3>Run history:</h3><br/><style>\n",
       "    table.wandb td:nth-child(1) { padding: 0 10px; text-align: right }\n",
       "    </style><table class=\"wandb\">\n",
       "<tr><td>train accuracy</td><td>▁▄▅▆▆▇▇▇██</td></tr><tr><td>validation accuracy</td><td>▁▄▅▅▆▇▇▇██</td></tr><tr><td>train loss</td><td>█▅▄▃▃▂▂▂▁▁</td></tr><tr><td>val loss</td><td>█▅▃▃▂▂▂▁▁▁</td></tr><tr><td>_runtime</td><td>▁▂▂▃▄▅▆▇▇█</td></tr><tr><td>_timestamp</td><td>▁▂▂▃▄▅▆▇▇█</td></tr><tr><td>_step</td><td>▁▂▃▃▄▅▆▆▇█</td></tr></table><br/>"
      ],
      "text/plain": [
       "<IPython.core.display.HTML object>"
      ]
     },
     "metadata": {},
     "output_type": "display_data"
    },
    {
     "data": {
      "text/html": [
       "Synced 5 W&B file(s), 0 media file(s), 0 artifact file(s) and 0 other file(s)"
      ],
      "text/plain": [
       "<IPython.core.display.HTML object>"
      ]
     },
     "metadata": {},
     "output_type": "display_data"
    },
    {
     "data": {
      "text/html": [
       "\n",
       "                    <br/>Synced <strong style=\"color:#cdcd00\">hello</strong>: <a href=\"https://wandb.ai/notarchana/CS6910-A1/runs/gvl7id8p\" target=\"_blank\">https://wandb.ai/notarchana/CS6910-A1/runs/gvl7id8p</a><br/>\n",
       "                "
      ],
      "text/plain": [
       "<IPython.core.display.HTML object>"
      ]
     },
     "metadata": {},
     "output_type": "display_data"
    },
    {
     "name": "stderr",
     "output_type": "stream",
     "text": [
      "\u001b[34m\u001b[1mwandb\u001b[0m: Agent Starting Run: 6cqq95k4 with config:\n",
      "\u001b[34m\u001b[1mwandb\u001b[0m: \tactivation: relu\n",
      "\u001b[34m\u001b[1mwandb\u001b[0m: \tbatch_size: 64\n",
      "\u001b[34m\u001b[1mwandb\u001b[0m: \tepochs: 10\n",
      "\u001b[34m\u001b[1mwandb\u001b[0m: \thidden_layer_size: 32\n",
      "\u001b[34m\u001b[1mwandb\u001b[0m: \thidden_layers: 3\n",
      "\u001b[34m\u001b[1mwandb\u001b[0m: \tlr: 0.001\n",
      "\u001b[34m\u001b[1mwandb\u001b[0m: \toptimiser: nadam\n",
      "\u001b[34m\u001b[1mwandb\u001b[0m: \tweight_decay: 0\n",
      "\u001b[34m\u001b[1mwandb\u001b[0m: \tweight_init: xavier\n"
     ]
    },
    {
     "data": {
      "text/html": [
       "\n",
       "                Tracking run with wandb version 0.10.22<br/>\n",
       "                Syncing run <strong style=\"color:#cdcd00\">hello</strong> to <a href=\"https://wandb.ai\" target=\"_blank\">Weights & Biases</a> <a href=\"https://docs.wandb.com/integrations/jupyter.html\" target=\"_blank\">(Documentation)</a>.<br/>\n",
       "                Project page: <a href=\"https://wandb.ai/notarchana/CS6910-A1\" target=\"_blank\">https://wandb.ai/notarchana/CS6910-A1</a><br/>\n",
       "                Sweep page: <a href=\"https://wandb.ai/notarchana/CS6910-A1/sweeps/lzmcss02\" target=\"_blank\">https://wandb.ai/notarchana/CS6910-A1/sweeps/lzmcss02</a><br/>\n",
       "Run page: <a href=\"https://wandb.ai/notarchana/CS6910-A1/runs/6cqq95k4\" target=\"_blank\">https://wandb.ai/notarchana/CS6910-A1/runs/6cqq95k4</a><br/>\n",
       "                Run data is saved locally in <code>/home/krishna/iit/sem6/dl/wandb/run-20210311_144914-6cqq95k4</code><br/><br/>\n",
       "            "
      ],
      "text/plain": [
       "<IPython.core.display.HTML object>"
      ]
     },
     "metadata": {},
     "output_type": "display_data"
    },
    {
     "name": "stderr",
     "output_type": "stream",
     "text": [
      "\u001b[34m\u001b[1mwandb\u001b[0m: \u001b[33mWARNING\u001b[0m Calling run.save without any arguments is deprecated.Changes to attributes are automatically persisted.\n"
     ]
    },
    {
     "name": "stdout",
     "output_type": "stream",
     "text": [
      "model building done\n",
      "Epoch 0 done: Loss = 1.8647764429480278\n",
      "Epoch 1 done: Loss = 1.9349445566521726\n",
      "Epoch 2 done: Loss = 1.9527417289419244\n",
      "Epoch 3 done: Loss = 1.9582399946623654\n",
      "Epoch 4 done: Loss = 1.9483848095106866\n",
      "Epoch 5 done: Loss = 1.9255856795497488\n",
      "Epoch 6 done: Loss = 1.8882336418671208\n",
      "Epoch 7 done: Loss = 1.8202498614329607\n",
      "Epoch 8 done: Loss = 1.640901414235527\n",
      "Epoch 9 done: Loss = 0.47954484202373077\n",
      "model training done\n"
     ]
    },
    {
     "data": {
      "text/html": [
       "<br/>Waiting for W&B process to finish, PID 60404<br/>Program ended successfully."
      ],
      "text/plain": [
       "<IPython.core.display.HTML object>"
      ]
     },
     "metadata": {},
     "output_type": "display_data"
    },
    {
     "data": {
      "application/vnd.jupyter.widget-view+json": {
       "model_id": "",
       "version_major": 2,
       "version_minor": 0
      },
      "text/plain": [
       "VBox(children=(Label(value=' 0.00MB of 0.00MB uploaded (0.00MB deduped)\\r'), FloatProgress(value=1.0, max=1.0)…"
      ]
     },
     "metadata": {},
     "output_type": "display_data"
    },
    {
     "data": {
      "text/html": [
       "Find user logs for this run at: <code>/home/krishna/iit/sem6/dl/wandb/run-20210311_144914-6cqq95k4/logs/debug.log</code>"
      ],
      "text/plain": [
       "<IPython.core.display.HTML object>"
      ]
     },
     "metadata": {},
     "output_type": "display_data"
    },
    {
     "data": {
      "text/html": [
       "Find internal logs for this run at: <code>/home/krishna/iit/sem6/dl/wandb/run-20210311_144914-6cqq95k4/logs/debug-internal.log</code>"
      ],
      "text/plain": [
       "<IPython.core.display.HTML object>"
      ]
     },
     "metadata": {},
     "output_type": "display_data"
    },
    {
     "data": {
      "text/html": [
       "<h3>Run summary:</h3><br/><style>\n",
       "    table.wandb td:nth-child(1) { padding: 0 10px; text-align: right }\n",
       "    </style><table class=\"wandb\">\n",
       "<tr><td>train accuracy</td><td>0.8611</td></tr><tr><td>validation accuracy</td><td>0.8545</td></tr><tr><td>train loss</td><td>0.47954</td></tr><tr><td>val loss</td><td>0.48692</td></tr><tr><td>_runtime</td><td>15</td></tr><tr><td>_timestamp</td><td>1615454369</td></tr><tr><td>_step</td><td>9</td></tr></table>"
      ],
      "text/plain": [
       "<IPython.core.display.HTML object>"
      ]
     },
     "metadata": {},
     "output_type": "display_data"
    },
    {
     "data": {
      "text/html": [
       "<h3>Run history:</h3><br/><style>\n",
       "    table.wandb td:nth-child(1) { padding: 0 10px; text-align: right }\n",
       "    </style><table class=\"wandb\">\n",
       "<tr><td>train accuracy</td><td>▁▂▂▂▃▃▃▃▃█</td></tr><tr><td>validation accuracy</td><td>▁▂▂▂▃▃▃▃▃█</td></tr><tr><td>train loss</td><td>███████▇▆▁</td></tr><tr><td>val loss</td><td>███████▇▇▁</td></tr><tr><td>_runtime</td><td>▁▂▃▃▄▅▅▆▇█</td></tr><tr><td>_timestamp</td><td>▁▂▃▃▄▅▅▆▇█</td></tr><tr><td>_step</td><td>▁▂▃▃▄▅▆▆▇█</td></tr></table><br/>"
      ],
      "text/plain": [
       "<IPython.core.display.HTML object>"
      ]
     },
     "metadata": {},
     "output_type": "display_data"
    },
    {
     "data": {
      "text/html": [
       "Synced 5 W&B file(s), 0 media file(s), 0 artifact file(s) and 0 other file(s)"
      ],
      "text/plain": [
       "<IPython.core.display.HTML object>"
      ]
     },
     "metadata": {},
     "output_type": "display_data"
    },
    {
     "data": {
      "text/html": [
       "\n",
       "                    <br/>Synced <strong style=\"color:#cdcd00\">hello</strong>: <a href=\"https://wandb.ai/notarchana/CS6910-A1/runs/6cqq95k4\" target=\"_blank\">https://wandb.ai/notarchana/CS6910-A1/runs/6cqq95k4</a><br/>\n",
       "                "
      ],
      "text/plain": [
       "<IPython.core.display.HTML object>"
      ]
     },
     "metadata": {},
     "output_type": "display_data"
    },
    {
     "name": "stderr",
     "output_type": "stream",
     "text": [
      "\u001b[34m\u001b[1mwandb\u001b[0m: Agent Starting Run: phfjoah5 with config:\n",
      "\u001b[34m\u001b[1mwandb\u001b[0m: \tactivation: tanh\n",
      "\u001b[34m\u001b[1mwandb\u001b[0m: \tbatch_size: 32\n",
      "\u001b[34m\u001b[1mwandb\u001b[0m: \tepochs: 10\n",
      "\u001b[34m\u001b[1mwandb\u001b[0m: \thidden_layer_size: 128\n",
      "\u001b[34m\u001b[1mwandb\u001b[0m: \thidden_layers: 5\n",
      "\u001b[34m\u001b[1mwandb\u001b[0m: \tlr: 0.001\n",
      "\u001b[34m\u001b[1mwandb\u001b[0m: \toptimiser: rmsprop\n",
      "\u001b[34m\u001b[1mwandb\u001b[0m: \tweight_decay: 0\n",
      "\u001b[34m\u001b[1mwandb\u001b[0m: \tweight_init: xavier\n"
     ]
    },
    {
     "data": {
      "text/html": [
       "\n",
       "                Tracking run with wandb version 0.10.22<br/>\n",
       "                Syncing run <strong style=\"color:#cdcd00\">hello</strong> to <a href=\"https://wandb.ai\" target=\"_blank\">Weights & Biases</a> <a href=\"https://docs.wandb.com/integrations/jupyter.html\" target=\"_blank\">(Documentation)</a>.<br/>\n",
       "                Project page: <a href=\"https://wandb.ai/notarchana/CS6910-A1\" target=\"_blank\">https://wandb.ai/notarchana/CS6910-A1</a><br/>\n",
       "                Sweep page: <a href=\"https://wandb.ai/notarchana/CS6910-A1/sweeps/lzmcss02\" target=\"_blank\">https://wandb.ai/notarchana/CS6910-A1/sweeps/lzmcss02</a><br/>\n",
       "Run page: <a href=\"https://wandb.ai/notarchana/CS6910-A1/runs/phfjoah5\" target=\"_blank\">https://wandb.ai/notarchana/CS6910-A1/runs/phfjoah5</a><br/>\n",
       "                Run data is saved locally in <code>/home/krishna/iit/sem6/dl/wandb/run-20210311_144936-phfjoah5</code><br/><br/>\n",
       "            "
      ],
      "text/plain": [
       "<IPython.core.display.HTML object>"
      ]
     },
     "metadata": {},
     "output_type": "display_data"
    },
    {
     "name": "stderr",
     "output_type": "stream",
     "text": [
      "\u001b[34m\u001b[1mwandb\u001b[0m: \u001b[33mWARNING\u001b[0m Calling run.save without any arguments is deprecated.Changes to attributes are automatically persisted.\n"
     ]
    },
    {
     "name": "stdout",
     "output_type": "stream",
     "text": [
      "model building done\n",
      "Epoch 0 done: Loss = 0.4929084662855798\n",
      "Epoch 1 done: Loss = 0.39583521845720715\n",
      "Epoch 2 done: Loss = 0.38225240695820695\n",
      "Epoch 3 done: Loss = 0.3559633062473094\n",
      "Epoch 4 done: Loss = 0.3366481075741091\n",
      "Epoch 5 done: Loss = 0.3687843433771708\n",
      "Epoch 6 done: Loss = 0.33092465429345996\n",
      "Epoch 7 done: Loss = 0.3021675046271896\n",
      "Epoch 8 done: Loss = 0.32257531927268956\n",
      "Epoch 9 done: Loss = 0.2982753247978699\n",
      "model training done\n"
     ]
    },
    {
     "data": {
      "text/html": [
       "<br/>Waiting for W&B process to finish, PID 60434<br/>Program ended successfully."
      ],
      "text/plain": [
       "<IPython.core.display.HTML object>"
      ]
     },
     "metadata": {},
     "output_type": "display_data"
    },
    {
     "data": {
      "application/vnd.jupyter.widget-view+json": {
       "model_id": "",
       "version_major": 2,
       "version_minor": 0
      },
      "text/plain": [
       "VBox(children=(Label(value=' 0.00MB of 0.00MB uploaded (0.00MB deduped)\\r'), FloatProgress(value=1.0, max=1.0)…"
      ]
     },
     "metadata": {},
     "output_type": "display_data"
    },
    {
     "data": {
      "text/html": [
       "Find user logs for this run at: <code>/home/krishna/iit/sem6/dl/wandb/run-20210311_144936-phfjoah5/logs/debug.log</code>"
      ],
      "text/plain": [
       "<IPython.core.display.HTML object>"
      ]
     },
     "metadata": {},
     "output_type": "display_data"
    },
    {
     "data": {
      "text/html": [
       "Find internal logs for this run at: <code>/home/krishna/iit/sem6/dl/wandb/run-20210311_144936-phfjoah5/logs/debug-internal.log</code>"
      ],
      "text/plain": [
       "<IPython.core.display.HTML object>"
      ]
     },
     "metadata": {},
     "output_type": "display_data"
    },
    {
     "data": {
      "text/html": [
       "<h3>Run summary:</h3><br/><style>\n",
       "    table.wandb td:nth-child(1) { padding: 0 10px; text-align: right }\n",
       "    </style><table class=\"wandb\">\n",
       "<tr><td>train accuracy</td><td>0.9044</td></tr><tr><td>validation accuracy</td><td>0.88483</td></tr><tr><td>train loss</td><td>0.29828</td></tr><tr><td>val loss</td><td>0.35753</td></tr><tr><td>_runtime</td><td>123</td></tr><tr><td>_timestamp</td><td>1615454499</td></tr><tr><td>_step</td><td>9</td></tr></table>"
      ],
      "text/plain": [
       "<IPython.core.display.HTML object>"
      ]
     },
     "metadata": {},
     "output_type": "display_data"
    },
    {
     "data": {
      "text/html": [
       "<h3>Run history:</h3><br/><style>\n",
       "    table.wandb td:nth-child(1) { padding: 0 10px; text-align: right }\n",
       "    </style><table class=\"wandb\">\n",
       "<tr><td>train accuracy</td><td>▁▄▅▆▇▅▇█▇█</td></tr><tr><td>validation accuracy</td><td>▁▅▆▆▇▅▇█▇█</td></tr><tr><td>train loss</td><td>█▅▄▃▂▄▂▁▂▁</td></tr><tr><td>val loss</td><td>█▃▃▂▂▄▂▁▂▁</td></tr><tr><td>_runtime</td><td>▁▂▃▃▄▅▆▆▇█</td></tr><tr><td>_timestamp</td><td>▁▂▃▃▄▅▆▆▇█</td></tr><tr><td>_step</td><td>▁▂▃▃▄▅▆▆▇█</td></tr></table><br/>"
      ],
      "text/plain": [
       "<IPython.core.display.HTML object>"
      ]
     },
     "metadata": {},
     "output_type": "display_data"
    },
    {
     "data": {
      "text/html": [
       "Synced 5 W&B file(s), 0 media file(s), 0 artifact file(s) and 0 other file(s)"
      ],
      "text/plain": [
       "<IPython.core.display.HTML object>"
      ]
     },
     "metadata": {},
     "output_type": "display_data"
    },
    {
     "data": {
      "text/html": [
       "\n",
       "                    <br/>Synced <strong style=\"color:#cdcd00\">hello</strong>: <a href=\"https://wandb.ai/notarchana/CS6910-A1/runs/phfjoah5\" target=\"_blank\">https://wandb.ai/notarchana/CS6910-A1/runs/phfjoah5</a><br/>\n",
       "                "
      ],
      "text/plain": [
       "<IPython.core.display.HTML object>"
      ]
     },
     "metadata": {},
     "output_type": "display_data"
    },
    {
     "name": "stderr",
     "output_type": "stream",
     "text": [
      "\u001b[34m\u001b[1mwandb\u001b[0m: Agent Starting Run: e5g1k8r4 with config:\n",
      "\u001b[34m\u001b[1mwandb\u001b[0m: \tactivation: relu\n",
      "\u001b[34m\u001b[1mwandb\u001b[0m: \tbatch_size: 32\n",
      "\u001b[34m\u001b[1mwandb\u001b[0m: \tepochs: 10\n",
      "\u001b[34m\u001b[1mwandb\u001b[0m: \thidden_layer_size: 32\n",
      "\u001b[34m\u001b[1mwandb\u001b[0m: \thidden_layers: 3\n",
      "\u001b[34m\u001b[1mwandb\u001b[0m: \tlr: 0.001\n",
      "\u001b[34m\u001b[1mwandb\u001b[0m: \toptimiser: nadam\n",
      "\u001b[34m\u001b[1mwandb\u001b[0m: \tweight_decay: 0.0005\n",
      "\u001b[34m\u001b[1mwandb\u001b[0m: \tweight_init: xavier\n"
     ]
    },
    {
     "data": {
      "text/html": [
       "\n",
       "                Tracking run with wandb version 0.10.22<br/>\n",
       "                Syncing run <strong style=\"color:#cdcd00\">hello</strong> to <a href=\"https://wandb.ai\" target=\"_blank\">Weights & Biases</a> <a href=\"https://docs.wandb.com/integrations/jupyter.html\" target=\"_blank\">(Documentation)</a>.<br/>\n",
       "                Project page: <a href=\"https://wandb.ai/notarchana/CS6910-A1\" target=\"_blank\">https://wandb.ai/notarchana/CS6910-A1</a><br/>\n",
       "                Sweep page: <a href=\"https://wandb.ai/notarchana/CS6910-A1/sweeps/lzmcss02\" target=\"_blank\">https://wandb.ai/notarchana/CS6910-A1/sweeps/lzmcss02</a><br/>\n",
       "Run page: <a href=\"https://wandb.ai/notarchana/CS6910-A1/runs/e5g1k8r4\" target=\"_blank\">https://wandb.ai/notarchana/CS6910-A1/runs/e5g1k8r4</a><br/>\n",
       "                Run data is saved locally in <code>/home/krishna/iit/sem6/dl/wandb/run-20210311_145146-e5g1k8r4</code><br/><br/>\n",
       "            "
      ],
      "text/plain": [
       "<IPython.core.display.HTML object>"
      ]
     },
     "metadata": {},
     "output_type": "display_data"
    },
    {
     "name": "stderr",
     "output_type": "stream",
     "text": [
      "\u001b[34m\u001b[1mwandb\u001b[0m: \u001b[33mWARNING\u001b[0m Calling run.save without any arguments is deprecated.Changes to attributes are automatically persisted.\n"
     ]
    },
    {
     "name": "stdout",
     "output_type": "stream",
     "text": [
      "model building done\n",
      "Epoch 0 done: Loss = 4.355868463253684\n",
      "Epoch 1 done: Loss = 3.6032489423328995\n",
      "Epoch 2 done: Loss = 3.6952406331037886\n",
      "Epoch 3 done: Loss = 3.6965553648534053\n",
      "Epoch 4 done: Loss = 3.650664642178007\n",
      "Epoch 5 done: Loss = 3.5215586374780163\n",
      "Epoch 6 done: Loss = 3.00995040043298\n",
      "Epoch 7 done: Loss = 2.242583349023973\n",
      "Epoch 8 done: Loss = 2.2361419358282952\n",
      "Epoch 9 done: Loss = 2.231988328355858\n",
      "model training done\n"
     ]
    },
    {
     "data": {
      "text/html": [
       "<br/>Waiting for W&B process to finish, PID 60513<br/>Program ended successfully."
      ],
      "text/plain": [
       "<IPython.core.display.HTML object>"
      ]
     },
     "metadata": {},
     "output_type": "display_data"
    },
    {
     "data": {
      "application/vnd.jupyter.widget-view+json": {
       "model_id": "",
       "version_major": 2,
       "version_minor": 0
      },
      "text/plain": [
       "VBox(children=(Label(value=' 0.00MB of 0.00MB uploaded (0.00MB deduped)\\r'), FloatProgress(value=1.0, max=1.0)…"
      ]
     },
     "metadata": {},
     "output_type": "display_data"
    },
    {
     "data": {
      "text/html": [
       "Find user logs for this run at: <code>/home/krishna/iit/sem6/dl/wandb/run-20210311_145146-e5g1k8r4/logs/debug.log</code>"
      ],
      "text/plain": [
       "<IPython.core.display.HTML object>"
      ]
     },
     "metadata": {},
     "output_type": "display_data"
    },
    {
     "data": {
      "text/html": [
       "Find internal logs for this run at: <code>/home/krishna/iit/sem6/dl/wandb/run-20210311_145146-e5g1k8r4/logs/debug-internal.log</code>"
      ],
      "text/plain": [
       "<IPython.core.display.HTML object>"
      ]
     },
     "metadata": {},
     "output_type": "display_data"
    },
    {
     "data": {
      "text/html": [
       "<h3>Run summary:</h3><br/><style>\n",
       "    table.wandb td:nth-child(1) { padding: 0 10px; text-align: right }\n",
       "    </style><table class=\"wandb\">\n",
       "<tr><td>train accuracy</td><td>0.77992</td></tr><tr><td>validation accuracy</td><td>0.7725</td></tr><tr><td>train loss</td><td>2.23199</td></tr><tr><td>val loss</td><td>2.27238</td></tr><tr><td>_runtime</td><td>31</td></tr><tr><td>_timestamp</td><td>1615454537</td></tr><tr><td>_step</td><td>9</td></tr></table>"
      ],
      "text/plain": [
       "<IPython.core.display.HTML object>"
      ]
     },
     "metadata": {},
     "output_type": "display_data"
    },
    {
     "data": {
      "text/html": [
       "<h3>Run history:</h3><br/><style>\n",
       "    table.wandb td:nth-child(1) { padding: 0 10px; text-align: right }\n",
       "    </style><table class=\"wandb\">\n",
       "<tr><td>train accuracy</td><td>▁▃▄▄▄▄▄███</td></tr><tr><td>validation accuracy</td><td>▁▄▄▄▄▄▄███</td></tr><tr><td>train loss</td><td>█▆▆▆▆▅▄▁▁▁</td></tr><tr><td>val loss</td><td>█▆▆▆▆▅▄▁▁▁</td></tr><tr><td>_runtime</td><td>▁▂▂▃▃▄▅▆▇█</td></tr><tr><td>_timestamp</td><td>▁▂▂▃▃▄▅▆▇█</td></tr><tr><td>_step</td><td>▁▂▃▃▄▅▆▆▇█</td></tr></table><br/>"
      ],
      "text/plain": [
       "<IPython.core.display.HTML object>"
      ]
     },
     "metadata": {},
     "output_type": "display_data"
    },
    {
     "data": {
      "text/html": [
       "Synced 5 W&B file(s), 0 media file(s), 0 artifact file(s) and 0 other file(s)"
      ],
      "text/plain": [
       "<IPython.core.display.HTML object>"
      ]
     },
     "metadata": {},
     "output_type": "display_data"
    },
    {
     "data": {
      "text/html": [
       "\n",
       "                    <br/>Synced <strong style=\"color:#cdcd00\">hello</strong>: <a href=\"https://wandb.ai/notarchana/CS6910-A1/runs/e5g1k8r4\" target=\"_blank\">https://wandb.ai/notarchana/CS6910-A1/runs/e5g1k8r4</a><br/>\n",
       "                "
      ],
      "text/plain": [
       "<IPython.core.display.HTML object>"
      ]
     },
     "metadata": {},
     "output_type": "display_data"
    },
    {
     "name": "stderr",
     "output_type": "stream",
     "text": [
      "\u001b[34m\u001b[1mwandb\u001b[0m: Agent Starting Run: r13bgnr3 with config:\n",
      "\u001b[34m\u001b[1mwandb\u001b[0m: \tactivation: tanh\n",
      "\u001b[34m\u001b[1mwandb\u001b[0m: \tbatch_size: 64\n",
      "\u001b[34m\u001b[1mwandb\u001b[0m: \tepochs: 10\n",
      "\u001b[34m\u001b[1mwandb\u001b[0m: \thidden_layer_size: 32\n",
      "\u001b[34m\u001b[1mwandb\u001b[0m: \thidden_layers: 4\n",
      "\u001b[34m\u001b[1mwandb\u001b[0m: \tlr: 0.001\n",
      "\u001b[34m\u001b[1mwandb\u001b[0m: \toptimiser: rmsprop\n",
      "\u001b[34m\u001b[1mwandb\u001b[0m: \tweight_decay: 0.0005\n",
      "\u001b[34m\u001b[1mwandb\u001b[0m: \tweight_init: xavier\n"
     ]
    },
    {
     "data": {
      "text/html": [
       "\n",
       "                Tracking run with wandb version 0.10.22<br/>\n",
       "                Syncing run <strong style=\"color:#cdcd00\">hello</strong> to <a href=\"https://wandb.ai\" target=\"_blank\">Weights & Biases</a> <a href=\"https://docs.wandb.com/integrations/jupyter.html\" target=\"_blank\">(Documentation)</a>.<br/>\n",
       "                Project page: <a href=\"https://wandb.ai/notarchana/CS6910-A1\" target=\"_blank\">https://wandb.ai/notarchana/CS6910-A1</a><br/>\n",
       "                Sweep page: <a href=\"https://wandb.ai/notarchana/CS6910-A1/sweeps/lzmcss02\" target=\"_blank\">https://wandb.ai/notarchana/CS6910-A1/sweeps/lzmcss02</a><br/>\n",
       "Run page: <a href=\"https://wandb.ai/notarchana/CS6910-A1/runs/r13bgnr3\" target=\"_blank\">https://wandb.ai/notarchana/CS6910-A1/runs/r13bgnr3</a><br/>\n",
       "                Run data is saved locally in <code>/home/krishna/iit/sem6/dl/wandb/run-20210311_145225-r13bgnr3</code><br/><br/>\n",
       "            "
      ],
      "text/plain": [
       "<IPython.core.display.HTML object>"
      ]
     },
     "metadata": {},
     "output_type": "display_data"
    },
    {
     "name": "stderr",
     "output_type": "stream",
     "text": [
      "\u001b[34m\u001b[1mwandb\u001b[0m: \u001b[33mWARNING\u001b[0m Calling run.save without any arguments is deprecated.Changes to attributes are automatically persisted.\n"
     ]
    },
    {
     "name": "stdout",
     "output_type": "stream",
     "text": [
      "model building done\n",
      "Epoch 0 done: Loss = 0.47697008195834656\n",
      "Epoch 1 done: Loss = 0.4239852538920229\n",
      "Epoch 2 done: Loss = 0.39937301711906864\n",
      "Epoch 3 done: Loss = 0.37868523793494885\n",
      "Epoch 4 done: Loss = 0.3617465246535074\n",
      "Epoch 5 done: Loss = 0.3552932994070922\n",
      "Epoch 6 done: Loss = 0.36113198546338593\n",
      "Epoch 7 done: Loss = 0.3522896923319548\n",
      "Epoch 8 done: Loss = 0.34792926491176673\n",
      "Epoch 9 done: Loss = 0.3354905409017212\n",
      "model training done\n"
     ]
    },
    {
     "data": {
      "text/html": [
       "<br/>Waiting for W&B process to finish, PID 60549<br/>Program ended successfully."
      ],
      "text/plain": [
       "<IPython.core.display.HTML object>"
      ]
     },
     "metadata": {},
     "output_type": "display_data"
    },
    {
     "data": {
      "application/vnd.jupyter.widget-view+json": {
       "model_id": "",
       "version_major": 2,
       "version_minor": 0
      },
      "text/plain": [
       "VBox(children=(Label(value=' 0.00MB of 0.00MB uploaded (0.00MB deduped)\\r'), FloatProgress(value=1.0, max=1.0)…"
      ]
     },
     "metadata": {},
     "output_type": "display_data"
    },
    {
     "data": {
      "text/html": [
       "Find user logs for this run at: <code>/home/krishna/iit/sem6/dl/wandb/run-20210311_145225-r13bgnr3/logs/debug.log</code>"
      ],
      "text/plain": [
       "<IPython.core.display.HTML object>"
      ]
     },
     "metadata": {},
     "output_type": "display_data"
    },
    {
     "data": {
      "text/html": [
       "Find internal logs for this run at: <code>/home/krishna/iit/sem6/dl/wandb/run-20210311_145225-r13bgnr3/logs/debug-internal.log</code>"
      ],
      "text/plain": [
       "<IPython.core.display.HTML object>"
      ]
     },
     "metadata": {},
     "output_type": "display_data"
    },
    {
     "data": {
      "text/html": [
       "<h3>Run summary:</h3><br/><style>\n",
       "    table.wandb td:nth-child(1) { padding: 0 10px; text-align: right }\n",
       "    </style><table class=\"wandb\">\n",
       "<tr><td>train accuracy</td><td>0.89046</td></tr><tr><td>validation accuracy</td><td>0.87417</td></tr><tr><td>train loss</td><td>0.33549</td></tr><tr><td>val loss</td><td>0.37698</td></tr><tr><td>_runtime</td><td>23</td></tr><tr><td>_timestamp</td><td>1615454568</td></tr><tr><td>_step</td><td>9</td></tr></table>"
      ],
      "text/plain": [
       "<IPython.core.display.HTML object>"
      ]
     },
     "metadata": {},
     "output_type": "display_data"
    },
    {
     "data": {
      "text/html": [
       "<h3>Run history:</h3><br/><style>\n",
       "    table.wandb td:nth-child(1) { padding: 0 10px; text-align: right }\n",
       "    </style><table class=\"wandb\">\n",
       "<tr><td>train accuracy</td><td>▁▄▅▆▆▇▇▇▇█</td></tr><tr><td>validation accuracy</td><td>▁▄▅▆▇▇▇▇▇█</td></tr><tr><td>train loss</td><td>█▅▄▃▂▂▂▂▂▁</td></tr><tr><td>val loss</td><td>█▅▃▂▁▁▂▁▂▁</td></tr><tr><td>_runtime</td><td>▁▂▂▃▄▅▅▆▇█</td></tr><tr><td>_timestamp</td><td>▁▂▂▃▄▅▅▆▇█</td></tr><tr><td>_step</td><td>▁▂▃▃▄▅▆▆▇█</td></tr></table><br/>"
      ],
      "text/plain": [
       "<IPython.core.display.HTML object>"
      ]
     },
     "metadata": {},
     "output_type": "display_data"
    },
    {
     "data": {
      "text/html": [
       "Synced 5 W&B file(s), 0 media file(s), 0 artifact file(s) and 0 other file(s)"
      ],
      "text/plain": [
       "<IPython.core.display.HTML object>"
      ]
     },
     "metadata": {},
     "output_type": "display_data"
    },
    {
     "data": {
      "text/html": [
       "\n",
       "                    <br/>Synced <strong style=\"color:#cdcd00\">hello</strong>: <a href=\"https://wandb.ai/notarchana/CS6910-A1/runs/r13bgnr3\" target=\"_blank\">https://wandb.ai/notarchana/CS6910-A1/runs/r13bgnr3</a><br/>\n",
       "                "
      ],
      "text/plain": [
       "<IPython.core.display.HTML object>"
      ]
     },
     "metadata": {},
     "output_type": "display_data"
    },
    {
     "name": "stderr",
     "output_type": "stream",
     "text": [
      "\u001b[34m\u001b[1mwandb\u001b[0m: Agent Starting Run: ukprs86c with config:\n",
      "\u001b[34m\u001b[1mwandb\u001b[0m: \tactivation: relu\n",
      "\u001b[34m\u001b[1mwandb\u001b[0m: \tbatch_size: 16\n",
      "\u001b[34m\u001b[1mwandb\u001b[0m: \tepochs: 10\n",
      "\u001b[34m\u001b[1mwandb\u001b[0m: \thidden_layer_size: 64\n",
      "\u001b[34m\u001b[1mwandb\u001b[0m: \thidden_layers: 3\n",
      "\u001b[34m\u001b[1mwandb\u001b[0m: \tlr: 0.001\n",
      "\u001b[34m\u001b[1mwandb\u001b[0m: \toptimiser: nadam\n",
      "\u001b[34m\u001b[1mwandb\u001b[0m: \tweight_decay: 0\n",
      "\u001b[34m\u001b[1mwandb\u001b[0m: \tweight_init: xavier\n"
     ]
    },
    {
     "data": {
      "text/html": [
       "\n",
       "                Tracking run with wandb version 0.10.22<br/>\n",
       "                Syncing run <strong style=\"color:#cdcd00\">hello</strong> to <a href=\"https://wandb.ai\" target=\"_blank\">Weights & Biases</a> <a href=\"https://docs.wandb.com/integrations/jupyter.html\" target=\"_blank\">(Documentation)</a>.<br/>\n",
       "                Project page: <a href=\"https://wandb.ai/notarchana/CS6910-A1\" target=\"_blank\">https://wandb.ai/notarchana/CS6910-A1</a><br/>\n",
       "                Sweep page: <a href=\"https://wandb.ai/notarchana/CS6910-A1/sweeps/lzmcss02\" target=\"_blank\">https://wandb.ai/notarchana/CS6910-A1/sweeps/lzmcss02</a><br/>\n",
       "Run page: <a href=\"https://wandb.ai/notarchana/CS6910-A1/runs/ukprs86c\" target=\"_blank\">https://wandb.ai/notarchana/CS6910-A1/runs/ukprs86c</a><br/>\n",
       "                Run data is saved locally in <code>/home/krishna/iit/sem6/dl/wandb/run-20210311_145255-ukprs86c</code><br/><br/>\n",
       "            "
      ],
      "text/plain": [
       "<IPython.core.display.HTML object>"
      ]
     },
     "metadata": {},
     "output_type": "display_data"
    },
    {
     "name": "stderr",
     "output_type": "stream",
     "text": [
      "\u001b[34m\u001b[1mwandb\u001b[0m: \u001b[33mWARNING\u001b[0m Calling run.save without any arguments is deprecated.Changes to attributes are automatically persisted.\n"
     ]
    },
    {
     "name": "stdout",
     "output_type": "stream",
     "text": [
      "model building done\n",
      "Epoch 0 done: Loss = 0.45923264603195546\n",
      "Epoch 1 done: Loss = 0.42804207439704833\n",
      "Epoch 2 done: Loss = 0.4171013244853312\n",
      "Epoch 3 done: Loss = 0.4014681670657944\n",
      "Epoch 4 done: Loss = 0.38900592362831743\n",
      "Epoch 5 done: Loss = 0.3722315094813069\n",
      "Epoch 6 done: Loss = 0.36025508333433903\n",
      "Epoch 7 done: Loss = 0.3503862919052593\n",
      "Epoch 8 done: Loss = 0.34558680921688983\n",
      "Epoch 9 done: Loss = 0.33978829233223085\n",
      "model training done\n"
     ]
    },
    {
     "data": {
      "text/html": [
       "<br/>Waiting for W&B process to finish, PID 60583<br/>Program ended successfully."
      ],
      "text/plain": [
       "<IPython.core.display.HTML object>"
      ]
     },
     "metadata": {},
     "output_type": "display_data"
    },
    {
     "data": {
      "application/vnd.jupyter.widget-view+json": {
       "model_id": "",
       "version_major": 2,
       "version_minor": 0
      },
      "text/plain": [
       "VBox(children=(Label(value=' 0.00MB of 0.00MB uploaded (0.00MB deduped)\\r'), FloatProgress(value=1.0, max=1.0)…"
      ]
     },
     "metadata": {},
     "output_type": "display_data"
    },
    {
     "data": {
      "text/html": [
       "Find user logs for this run at: <code>/home/krishna/iit/sem6/dl/wandb/run-20210311_145255-ukprs86c/logs/debug.log</code>"
      ],
      "text/plain": [
       "<IPython.core.display.HTML object>"
      ]
     },
     "metadata": {},
     "output_type": "display_data"
    },
    {
     "data": {
      "text/html": [
       "Find internal logs for this run at: <code>/home/krishna/iit/sem6/dl/wandb/run-20210311_145255-ukprs86c/logs/debug-internal.log</code>"
      ],
      "text/plain": [
       "<IPython.core.display.HTML object>"
      ]
     },
     "metadata": {},
     "output_type": "display_data"
    },
    {
     "data": {
      "text/html": [
       "<h3>Run summary:</h3><br/><style>\n",
       "    table.wandb td:nth-child(1) { padding: 0 10px; text-align: right }\n",
       "    </style><table class=\"wandb\">\n",
       "<tr><td>train accuracy</td><td>0.89685</td></tr><tr><td>validation accuracy</td><td>0.87608</td></tr><tr><td>train loss</td><td>0.33979</td></tr><tr><td>val loss</td><td>0.39718</td></tr><tr><td>_runtime</td><td>103</td></tr><tr><td>_timestamp</td><td>1615454678</td></tr><tr><td>_step</td><td>9</td></tr></table>"
      ],
      "text/plain": [
       "<IPython.core.display.HTML object>"
      ]
     },
     "metadata": {},
     "output_type": "display_data"
    },
    {
     "data": {
      "text/html": [
       "<h3>Run history:</h3><br/><style>\n",
       "    table.wandb td:nth-child(1) { padding: 0 10px; text-align: right }\n",
       "    </style><table class=\"wandb\">\n",
       "<tr><td>train accuracy</td><td>▁▃▄▅▆▆▇▇██</td></tr><tr><td>validation accuracy</td><td>▁▄▅▅▆▇▇███</td></tr><tr><td>train loss</td><td>█▆▆▅▄▃▂▂▁▁</td></tr><tr><td>val loss</td><td>█▆▆▅▄▃▂▁▁▁</td></tr><tr><td>_runtime</td><td>▁▁▂▃▄▅▅▆▇█</td></tr><tr><td>_timestamp</td><td>▁▁▂▃▄▅▅▆▇█</td></tr><tr><td>_step</td><td>▁▂▃▃▄▅▆▆▇█</td></tr></table><br/>"
      ],
      "text/plain": [
       "<IPython.core.display.HTML object>"
      ]
     },
     "metadata": {},
     "output_type": "display_data"
    },
    {
     "data": {
      "text/html": [
       "Synced 5 W&B file(s), 0 media file(s), 0 artifact file(s) and 0 other file(s)"
      ],
      "text/plain": [
       "<IPython.core.display.HTML object>"
      ]
     },
     "metadata": {},
     "output_type": "display_data"
    },
    {
     "data": {
      "text/html": [
       "\n",
       "                    <br/>Synced <strong style=\"color:#cdcd00\">hello</strong>: <a href=\"https://wandb.ai/notarchana/CS6910-A1/runs/ukprs86c\" target=\"_blank\">https://wandb.ai/notarchana/CS6910-A1/runs/ukprs86c</a><br/>\n",
       "                "
      ],
      "text/plain": [
       "<IPython.core.display.HTML object>"
      ]
     },
     "metadata": {},
     "output_type": "display_data"
    },
    {
     "name": "stderr",
     "output_type": "stream",
     "text": [
      "\u001b[34m\u001b[1mwandb\u001b[0m: Sweep Agent: Waiting for job.\n",
      "\u001b[34m\u001b[1mwandb\u001b[0m: Job received.\n",
      "\u001b[34m\u001b[1mwandb\u001b[0m: Agent Starting Run: qt398n1z with config:\n",
      "\u001b[34m\u001b[1mwandb\u001b[0m: \tactivation: sigmoid\n",
      "\u001b[34m\u001b[1mwandb\u001b[0m: \tbatch_size: 16\n",
      "\u001b[34m\u001b[1mwandb\u001b[0m: \tepochs: 10\n",
      "\u001b[34m\u001b[1mwandb\u001b[0m: \thidden_layer_size: 128\n",
      "\u001b[34m\u001b[1mwandb\u001b[0m: \thidden_layers: 4\n",
      "\u001b[34m\u001b[1mwandb\u001b[0m: \tlr: 0.001\n",
      "\u001b[34m\u001b[1mwandb\u001b[0m: \toptimiser: nadam\n",
      "\u001b[34m\u001b[1mwandb\u001b[0m: \tweight_decay: 0.0005\n",
      "\u001b[34m\u001b[1mwandb\u001b[0m: \tweight_init: xavier\n"
     ]
    },
    {
     "data": {
      "text/html": [
       "\n",
       "                Tracking run with wandb version 0.10.22<br/>\n",
       "                Syncing run <strong style=\"color:#cdcd00\">hello</strong> to <a href=\"https://wandb.ai\" target=\"_blank\">Weights & Biases</a> <a href=\"https://docs.wandb.com/integrations/jupyter.html\" target=\"_blank\">(Documentation)</a>.<br/>\n",
       "                Project page: <a href=\"https://wandb.ai/notarchana/CS6910-A1\" target=\"_blank\">https://wandb.ai/notarchana/CS6910-A1</a><br/>\n",
       "                Sweep page: <a href=\"https://wandb.ai/notarchana/CS6910-A1/sweeps/lzmcss02\" target=\"_blank\">https://wandb.ai/notarchana/CS6910-A1/sweeps/lzmcss02</a><br/>\n",
       "Run page: <a href=\"https://wandb.ai/notarchana/CS6910-A1/runs/qt398n1z\" target=\"_blank\">https://wandb.ai/notarchana/CS6910-A1/runs/qt398n1z</a><br/>\n",
       "                Run data is saved locally in <code>/home/krishna/iit/sem6/dl/wandb/run-20210311_145524-qt398n1z</code><br/><br/>\n",
       "            "
      ],
      "text/plain": [
       "<IPython.core.display.HTML object>"
      ]
     },
     "metadata": {},
     "output_type": "display_data"
    },
    {
     "name": "stderr",
     "output_type": "stream",
     "text": [
      "\u001b[34m\u001b[1mwandb\u001b[0m: \u001b[33mWARNING\u001b[0m Calling run.save without any arguments is deprecated.Changes to attributes are automatically persisted.\n"
     ]
    },
    {
     "name": "stdout",
     "output_type": "stream",
     "text": [
      "model building done\n",
      "Epoch 0 done: Loss = 0.6025556875050709\n",
      "Epoch 1 done: Loss = 0.49926266320225227\n",
      "Epoch 2 done: Loss = 0.4550642717753782\n",
      "Epoch 3 done: Loss = 0.4345843170956686\n",
      "Epoch 4 done: Loss = 0.42074178336035856\n",
      "Epoch 5 done: Loss = 0.40978749115583846\n",
      "Epoch 6 done: Loss = 0.40036046086165744\n",
      "Epoch 7 done: Loss = 0.3919798267802781\n",
      "Epoch 8 done: Loss = 0.3841441063200857\n",
      "Epoch 9 done: Loss = 0.3773471064283971\n",
      "model training done\n"
     ]
    },
    {
     "data": {
      "text/html": [
       "<br/>Waiting for W&B process to finish, PID 60639<br/>Program ended successfully."
      ],
      "text/plain": [
       "<IPython.core.display.HTML object>"
      ]
     },
     "metadata": {},
     "output_type": "display_data"
    },
    {
     "data": {
      "application/vnd.jupyter.widget-view+json": {
       "model_id": "",
       "version_major": 2,
       "version_minor": 0
      },
      "text/plain": [
       "VBox(children=(Label(value=' 0.00MB of 0.00MB uploaded (0.00MB deduped)\\r'), FloatProgress(value=1.0, max=1.0)…"
      ]
     },
     "metadata": {},
     "output_type": "display_data"
    },
    {
     "data": {
      "text/html": [
       "Find user logs for this run at: <code>/home/krishna/iit/sem6/dl/wandb/run-20210311_145524-qt398n1z/logs/debug.log</code>"
      ],
      "text/plain": [
       "<IPython.core.display.HTML object>"
      ]
     },
     "metadata": {},
     "output_type": "display_data"
    },
    {
     "data": {
      "text/html": [
       "Find internal logs for this run at: <code>/home/krishna/iit/sem6/dl/wandb/run-20210311_145524-qt398n1z/logs/debug-internal.log</code>"
      ],
      "text/plain": [
       "<IPython.core.display.HTML object>"
      ]
     },
     "metadata": {},
     "output_type": "display_data"
    },
    {
     "data": {
      "text/html": [
       "<h3>Run summary:</h3><br/><style>\n",
       "    table.wandb td:nth-child(1) { padding: 0 10px; text-align: right }\n",
       "    </style><table class=\"wandb\">\n",
       "<tr><td>train accuracy</td><td>0.88325</td></tr><tr><td>validation accuracy</td><td>0.86875</td></tr><tr><td>train loss</td><td>0.37735</td></tr><tr><td>val loss</td><td>0.41944</td></tr><tr><td>_runtime</td><td>150</td></tr><tr><td>_timestamp</td><td>1615454874</td></tr><tr><td>_step</td><td>9</td></tr></table>"
      ],
      "text/plain": [
       "<IPython.core.display.HTML object>"
      ]
     },
     "metadata": {},
     "output_type": "display_data"
    },
    {
     "data": {
      "text/html": [
       "<h3>Run history:</h3><br/><style>\n",
       "    table.wandb td:nth-child(1) { padding: 0 10px; text-align: right }\n",
       "    </style><table class=\"wandb\">\n",
       "<tr><td>train accuracy</td><td>▁▅▆▆▇▇▇▇██</td></tr><tr><td>validation accuracy</td><td>▁▅▆▇▇▇████</td></tr><tr><td>train loss</td><td>█▅▃▃▂▂▂▁▁▁</td></tr><tr><td>val loss</td><td>█▄▃▂▂▂▁▁▁▁</td></tr><tr><td>_runtime</td><td>▁▂▃▃▄▅▆▇▇█</td></tr><tr><td>_timestamp</td><td>▁▂▃▃▄▅▆▇▇█</td></tr><tr><td>_step</td><td>▁▂▃▃▄▅▆▆▇█</td></tr></table><br/>"
      ],
      "text/plain": [
       "<IPython.core.display.HTML object>"
      ]
     },
     "metadata": {},
     "output_type": "display_data"
    },
    {
     "data": {
      "text/html": [
       "Synced 5 W&B file(s), 0 media file(s), 0 artifact file(s) and 0 other file(s)"
      ],
      "text/plain": [
       "<IPython.core.display.HTML object>"
      ]
     },
     "metadata": {},
     "output_type": "display_data"
    },
    {
     "data": {
      "text/html": [
       "\n",
       "                    <br/>Synced <strong style=\"color:#cdcd00\">hello</strong>: <a href=\"https://wandb.ai/notarchana/CS6910-A1/runs/qt398n1z\" target=\"_blank\">https://wandb.ai/notarchana/CS6910-A1/runs/qt398n1z</a><br/>\n",
       "                "
      ],
      "text/plain": [
       "<IPython.core.display.HTML object>"
      ]
     },
     "metadata": {},
     "output_type": "display_data"
    },
    {
     "name": "stderr",
     "output_type": "stream",
     "text": [
      "\u001b[34m\u001b[1mwandb\u001b[0m: Agent Starting Run: vnqwmj85 with config:\n",
      "\u001b[34m\u001b[1mwandb\u001b[0m: \tactivation: relu\n",
      "\u001b[34m\u001b[1mwandb\u001b[0m: \tbatch_size: 16\n",
      "\u001b[34m\u001b[1mwandb\u001b[0m: \tepochs: 10\n",
      "\u001b[34m\u001b[1mwandb\u001b[0m: \thidden_layer_size: 64\n",
      "\u001b[34m\u001b[1mwandb\u001b[0m: \thidden_layers: 3\n",
      "\u001b[34m\u001b[1mwandb\u001b[0m: \tlr: 0.001\n",
      "\u001b[34m\u001b[1mwandb\u001b[0m: \toptimiser: rmsprop\n",
      "\u001b[34m\u001b[1mwandb\u001b[0m: \tweight_decay: 0.5\n",
      "\u001b[34m\u001b[1mwandb\u001b[0m: \tweight_init: xavier\n"
     ]
    },
    {
     "data": {
      "text/html": [
       "\n",
       "                Tracking run with wandb version 0.10.22<br/>\n",
       "                Syncing run <strong style=\"color:#cdcd00\">hello</strong> to <a href=\"https://wandb.ai\" target=\"_blank\">Weights & Biases</a> <a href=\"https://docs.wandb.com/integrations/jupyter.html\" target=\"_blank\">(Documentation)</a>.<br/>\n",
       "                Project page: <a href=\"https://wandb.ai/notarchana/CS6910-A1\" target=\"_blank\">https://wandb.ai/notarchana/CS6910-A1</a><br/>\n",
       "                Sweep page: <a href=\"https://wandb.ai/notarchana/CS6910-A1/sweeps/lzmcss02\" target=\"_blank\">https://wandb.ai/notarchana/CS6910-A1/sweeps/lzmcss02</a><br/>\n",
       "Run page: <a href=\"https://wandb.ai/notarchana/CS6910-A1/runs/vnqwmj85\" target=\"_blank\">https://wandb.ai/notarchana/CS6910-A1/runs/vnqwmj85</a><br/>\n",
       "                Run data is saved locally in <code>/home/krishna/iit/sem6/dl/wandb/run-20210311_145801-vnqwmj85</code><br/><br/>\n",
       "            "
      ],
      "text/plain": [
       "<IPython.core.display.HTML object>"
      ]
     },
     "metadata": {},
     "output_type": "display_data"
    },
    {
     "name": "stderr",
     "output_type": "stream",
     "text": [
      "\u001b[34m\u001b[1mwandb\u001b[0m: \u001b[33mWARNING\u001b[0m Calling run.save without any arguments is deprecated.Changes to attributes are automatically persisted.\n"
     ]
    },
    {
     "name": "stdout",
     "output_type": "stream",
     "text": [
      "model building done\n",
      "Epoch 0 done: Loss = 0.45870659163072214\n",
      "Epoch 1 done: Loss = 0.4354030382612839\n",
      "Epoch 2 done: Loss = 0.44596549941068603\n",
      "Epoch 3 done: Loss = 0.47385749868119365\n",
      "Epoch 4 done: Loss = 0.41637246284040946\n",
      "Epoch 5 done: Loss = 0.44887563800492913\n",
      "Epoch 6 done: Loss = 0.4186734812092396\n",
      "Epoch 7 done: Loss = 0.3872698205945319\n",
      "Epoch 8 done: Loss = 0.46234812959040905\n",
      "Epoch 9 done: Loss = 0.45321922610746274\n",
      "model training done\n"
     ]
    },
    {
     "data": {
      "text/html": [
       "<br/>Waiting for W&B process to finish, PID 60847<br/>Program ended successfully."
      ],
      "text/plain": [
       "<IPython.core.display.HTML object>"
      ]
     },
     "metadata": {},
     "output_type": "display_data"
    },
    {
     "data": {
      "application/vnd.jupyter.widget-view+json": {
       "model_id": "",
       "version_major": 2,
       "version_minor": 0
      },
      "text/plain": [
       "VBox(children=(Label(value=' 0.00MB of 0.00MB uploaded (0.00MB deduped)\\r'), FloatProgress(value=1.0, max=1.0)…"
      ]
     },
     "metadata": {},
     "output_type": "display_data"
    },
    {
     "data": {
      "text/html": [
       "Find user logs for this run at: <code>/home/krishna/iit/sem6/dl/wandb/run-20210311_145801-vnqwmj85/logs/debug.log</code>"
      ],
      "text/plain": [
       "<IPython.core.display.HTML object>"
      ]
     },
     "metadata": {},
     "output_type": "display_data"
    },
    {
     "data": {
      "text/html": [
       "Find internal logs for this run at: <code>/home/krishna/iit/sem6/dl/wandb/run-20210311_145801-vnqwmj85/logs/debug-internal.log</code>"
      ],
      "text/plain": [
       "<IPython.core.display.HTML object>"
      ]
     },
     "metadata": {},
     "output_type": "display_data"
    },
    {
     "data": {
      "text/html": [
       "<h3>Run summary:</h3><br/><style>\n",
       "    table.wandb td:nth-child(1) { padding: 0 10px; text-align: right }\n",
       "    </style><table class=\"wandb\">\n",
       "<tr><td>train accuracy</td><td>0.89196</td></tr><tr><td>validation accuracy</td><td>0.87233</td></tr><tr><td>train loss</td><td>0.45322</td></tr><tr><td>val loss</td><td>0.55479</td></tr><tr><td>_runtime</td><td>43</td></tr><tr><td>_timestamp</td><td>1615454924</td></tr><tr><td>_step</td><td>9</td></tr></table>"
      ],
      "text/plain": [
       "<IPython.core.display.HTML object>"
      ]
     },
     "metadata": {},
     "output_type": "display_data"
    },
    {
     "data": {
      "text/html": [
       "<h3>Run history:</h3><br/><style>\n",
       "    table.wandb td:nth-child(1) { padding: 0 10px; text-align: right }\n",
       "    </style><table class=\"wandb\">\n",
       "<tr><td>train accuracy</td><td>▁▃▃▃▇▆████</td></tr><tr><td>validation accuracy</td><td>▁▄▃▂█▇███▇</td></tr><tr><td>train loss</td><td>▇▅▆█▃▆▄▁▇▆</td></tr><tr><td>val loss</td><td>▃▁▃▆▂▅▄▁██</td></tr><tr><td>_runtime</td><td>▁▂▂▃▄▅▅▆▇█</td></tr><tr><td>_timestamp</td><td>▁▂▂▃▄▅▅▆▇█</td></tr><tr><td>_step</td><td>▁▂▃▃▄▅▆▆▇█</td></tr></table><br/>"
      ],
      "text/plain": [
       "<IPython.core.display.HTML object>"
      ]
     },
     "metadata": {},
     "output_type": "display_data"
    },
    {
     "data": {
      "text/html": [
       "Synced 5 W&B file(s), 0 media file(s), 0 artifact file(s) and 0 other file(s)"
      ],
      "text/plain": [
       "<IPython.core.display.HTML object>"
      ]
     },
     "metadata": {},
     "output_type": "display_data"
    },
    {
     "data": {
      "text/html": [
       "\n",
       "                    <br/>Synced <strong style=\"color:#cdcd00\">hello</strong>: <a href=\"https://wandb.ai/notarchana/CS6910-A1/runs/vnqwmj85\" target=\"_blank\">https://wandb.ai/notarchana/CS6910-A1/runs/vnqwmj85</a><br/>\n",
       "                "
      ],
      "text/plain": [
       "<IPython.core.display.HTML object>"
      ]
     },
     "metadata": {},
     "output_type": "display_data"
    },
    {
     "name": "stderr",
     "output_type": "stream",
     "text": [
      "\u001b[34m\u001b[1mwandb\u001b[0m: Agent Starting Run: rfxc4d3d with config:\n",
      "\u001b[34m\u001b[1mwandb\u001b[0m: \tactivation: relu\n",
      "\u001b[34m\u001b[1mwandb\u001b[0m: \tbatch_size: 32\n",
      "\u001b[34m\u001b[1mwandb\u001b[0m: \tepochs: 10\n",
      "\u001b[34m\u001b[1mwandb\u001b[0m: \thidden_layer_size: 32\n",
      "\u001b[34m\u001b[1mwandb\u001b[0m: \thidden_layers: 3\n",
      "\u001b[34m\u001b[1mwandb\u001b[0m: \tlr: 0.001\n",
      "\u001b[34m\u001b[1mwandb\u001b[0m: \toptimiser: nadam\n",
      "\u001b[34m\u001b[1mwandb\u001b[0m: \tweight_decay: 0.0005\n",
      "\u001b[34m\u001b[1mwandb\u001b[0m: \tweight_init: xavier\n"
     ]
    },
    {
     "data": {
      "text/html": [
       "\n",
       "                Tracking run with wandb version 0.10.22<br/>\n",
       "                Syncing run <strong style=\"color:#cdcd00\">hello</strong> to <a href=\"https://wandb.ai\" target=\"_blank\">Weights & Biases</a> <a href=\"https://docs.wandb.com/integrations/jupyter.html\" target=\"_blank\">(Documentation)</a>.<br/>\n",
       "                Project page: <a href=\"https://wandb.ai/notarchana/CS6910-A1\" target=\"_blank\">https://wandb.ai/notarchana/CS6910-A1</a><br/>\n",
       "                Sweep page: <a href=\"https://wandb.ai/notarchana/CS6910-A1/sweeps/lzmcss02\" target=\"_blank\">https://wandb.ai/notarchana/CS6910-A1/sweeps/lzmcss02</a><br/>\n",
       "Run page: <a href=\"https://wandb.ai/notarchana/CS6910-A1/runs/rfxc4d3d\" target=\"_blank\">https://wandb.ai/notarchana/CS6910-A1/runs/rfxc4d3d</a><br/>\n",
       "                Run data is saved locally in <code>/home/krishna/iit/sem6/dl/wandb/run-20210311_145851-rfxc4d3d</code><br/><br/>\n",
       "            "
      ],
      "text/plain": [
       "<IPython.core.display.HTML object>"
      ]
     },
     "metadata": {},
     "output_type": "display_data"
    },
    {
     "name": "stderr",
     "output_type": "stream",
     "text": [
      "\u001b[34m\u001b[1mwandb\u001b[0m: \u001b[33mWARNING\u001b[0m Calling run.save without any arguments is deprecated.Changes to attributes are automatically persisted.\n"
     ]
    },
    {
     "name": "stdout",
     "output_type": "stream",
     "text": [
      "model building done\n",
      "Epoch 0 done: Loss = 2.1160769929451204\n",
      "Epoch 1 done: Loss = 2.141843803192968\n",
      "Epoch 2 done: Loss = 2.13582654109416\n",
      "Epoch 3 done: Loss = 2.1187350478179523\n",
      "Epoch 4 done: Loss = 2.0840568035124605\n",
      "Epoch 5 done: Loss = 2.012880949186978\n",
      "Epoch 6 done: Loss = 1.7909202768303751\n",
      "Epoch 7 done: Loss = 0.47927869832795017\n",
      "Epoch 8 done: Loss = 0.46148295380354815\n",
      "Epoch 9 done: Loss = 0.4526753488466648\n",
      "model training done\n"
     ]
    },
    {
     "data": {
      "text/html": [
       "<br/>Waiting for W&B process to finish, PID 60883<br/>Program ended successfully."
      ],
      "text/plain": [
       "<IPython.core.display.HTML object>"
      ]
     },
     "metadata": {},
     "output_type": "display_data"
    },
    {
     "data": {
      "application/vnd.jupyter.widget-view+json": {
       "model_id": "",
       "version_major": 2,
       "version_minor": 0
      },
      "text/plain": [
       "VBox(children=(Label(value=' 0.00MB of 0.00MB uploaded (0.00MB deduped)\\r'), FloatProgress(value=1.0, max=1.0)…"
      ]
     },
     "metadata": {},
     "output_type": "display_data"
    },
    {
     "data": {
      "text/html": [
       "Find user logs for this run at: <code>/home/krishna/iit/sem6/dl/wandb/run-20210311_145851-rfxc4d3d/logs/debug.log</code>"
      ],
      "text/plain": [
       "<IPython.core.display.HTML object>"
      ]
     },
     "metadata": {},
     "output_type": "display_data"
    },
    {
     "data": {
      "text/html": [
       "Find internal logs for this run at: <code>/home/krishna/iit/sem6/dl/wandb/run-20210311_145851-rfxc4d3d/logs/debug-internal.log</code>"
      ],
      "text/plain": [
       "<IPython.core.display.HTML object>"
      ]
     },
     "metadata": {},
     "output_type": "display_data"
    },
    {
     "data": {
      "text/html": [
       "<h3>Run summary:</h3><br/><style>\n",
       "    table.wandb td:nth-child(1) { padding: 0 10px; text-align: right }\n",
       "    </style><table class=\"wandb\">\n",
       "<tr><td>train accuracy</td><td>0.87096</td></tr><tr><td>validation accuracy</td><td>0.86258</td></tr><tr><td>train loss</td><td>0.45268</td></tr><tr><td>val loss</td><td>0.47143</td></tr><tr><td>_runtime</td><td>35</td></tr><tr><td>_timestamp</td><td>1615454966</td></tr><tr><td>_step</td><td>9</td></tr></table>"
      ],
      "text/plain": [
       "<IPython.core.display.HTML object>"
      ]
     },
     "metadata": {},
     "output_type": "display_data"
    },
    {
     "data": {
      "text/html": [
       "<h3>Run history:</h3><br/><style>\n",
       "    table.wandb td:nth-child(1) { padding: 0 10px; text-align: right }\n",
       "    </style><table class=\"wandb\">\n",
       "<tr><td>train accuracy</td><td>▁▂▂▂▃▃▃███</td></tr><tr><td>validation accuracy</td><td>▁▂▂▂▂▃▃███</td></tr><tr><td>train loss</td><td>█████▇▇▁▁▁</td></tr><tr><td>val loss</td><td>█████▇▇▁▁▁</td></tr><tr><td>_runtime</td><td>▁▁▂▂▃▄▅▆▇█</td></tr><tr><td>_timestamp</td><td>▁▁▂▂▃▄▅▆▇█</td></tr><tr><td>_step</td><td>▁▂▃▃▄▅▆▆▇█</td></tr></table><br/>"
      ],
      "text/plain": [
       "<IPython.core.display.HTML object>"
      ]
     },
     "metadata": {},
     "output_type": "display_data"
    },
    {
     "data": {
      "text/html": [
       "Synced 5 W&B file(s), 0 media file(s), 0 artifact file(s) and 0 other file(s)"
      ],
      "text/plain": [
       "<IPython.core.display.HTML object>"
      ]
     },
     "metadata": {},
     "output_type": "display_data"
    },
    {
     "data": {
      "text/html": [
       "\n",
       "                    <br/>Synced <strong style=\"color:#cdcd00\">hello</strong>: <a href=\"https://wandb.ai/notarchana/CS6910-A1/runs/rfxc4d3d\" target=\"_blank\">https://wandb.ai/notarchana/CS6910-A1/runs/rfxc4d3d</a><br/>\n",
       "                "
      ],
      "text/plain": [
       "<IPython.core.display.HTML object>"
      ]
     },
     "metadata": {},
     "output_type": "display_data"
    },
    {
     "name": "stderr",
     "output_type": "stream",
     "text": [
      "\u001b[34m\u001b[1mwandb\u001b[0m: Agent Starting Run: n8lfpm4r with config:\n",
      "\u001b[34m\u001b[1mwandb\u001b[0m: \tactivation: tanh\n",
      "\u001b[34m\u001b[1mwandb\u001b[0m: \tbatch_size: 64\n",
      "\u001b[34m\u001b[1mwandb\u001b[0m: \tepochs: 10\n",
      "\u001b[34m\u001b[1mwandb\u001b[0m: \thidden_layer_size: 64\n",
      "\u001b[34m\u001b[1mwandb\u001b[0m: \thidden_layers: 4\n",
      "\u001b[34m\u001b[1mwandb\u001b[0m: \tlr: 0.001\n",
      "\u001b[34m\u001b[1mwandb\u001b[0m: \toptimiser: nesterov\n",
      "\u001b[34m\u001b[1mwandb\u001b[0m: \tweight_decay: 0.0005\n",
      "\u001b[34m\u001b[1mwandb\u001b[0m: \tweight_init: xavier\n"
     ]
    },
    {
     "data": {
      "text/html": [
       "\n",
       "                Tracking run with wandb version 0.10.22<br/>\n",
       "                Syncing run <strong style=\"color:#cdcd00\">hello</strong> to <a href=\"https://wandb.ai\" target=\"_blank\">Weights & Biases</a> <a href=\"https://docs.wandb.com/integrations/jupyter.html\" target=\"_blank\">(Documentation)</a>.<br/>\n",
       "                Project page: <a href=\"https://wandb.ai/notarchana/CS6910-A1\" target=\"_blank\">https://wandb.ai/notarchana/CS6910-A1</a><br/>\n",
       "                Sweep page: <a href=\"https://wandb.ai/notarchana/CS6910-A1/sweeps/lzmcss02\" target=\"_blank\">https://wandb.ai/notarchana/CS6910-A1/sweeps/lzmcss02</a><br/>\n",
       "Run page: <a href=\"https://wandb.ai/notarchana/CS6910-A1/runs/n8lfpm4r\" target=\"_blank\">https://wandb.ai/notarchana/CS6910-A1/runs/n8lfpm4r</a><br/>\n",
       "                Run data is saved locally in <code>/home/krishna/iit/sem6/dl/wandb/run-20210311_145933-n8lfpm4r</code><br/><br/>\n",
       "            "
      ],
      "text/plain": [
       "<IPython.core.display.HTML object>"
      ]
     },
     "metadata": {},
     "output_type": "display_data"
    },
    {
     "name": "stderr",
     "output_type": "stream",
     "text": [
      "\u001b[34m\u001b[1mwandb\u001b[0m: \u001b[33mWARNING\u001b[0m Calling run.save without any arguments is deprecated.Changes to attributes are automatically persisted.\n"
     ]
    },
    {
     "name": "stdout",
     "output_type": "stream",
     "text": [
      "model building done\n",
      "Epoch 0 done: Loss = 1.2676081997006459\n",
      "Epoch 1 done: Loss = 0.8864108378334428\n",
      "Epoch 2 done: Loss = 0.7315559061893308\n",
      "Epoch 3 done: Loss = 0.6541975210004498\n",
      "Epoch 4 done: Loss = 0.6036547851958912\n",
      "Epoch 5 done: Loss = 0.5679944690910315\n",
      "Epoch 6 done: Loss = 0.5418992638568814\n",
      "Epoch 7 done: Loss = 0.5222850112894506\n",
      "Epoch 8 done: Loss = 0.5068280029262004\n",
      "Epoch 9 done: Loss = 0.4939505232305006\n",
      "model training done\n"
     ]
    },
    {
     "data": {
      "text/html": [
       "<br/>Waiting for W&B process to finish, PID 60927<br/>Program ended successfully."
      ],
      "text/plain": [
       "<IPython.core.display.HTML object>"
      ]
     },
     "metadata": {},
     "output_type": "display_data"
    },
    {
     "data": {
      "application/vnd.jupyter.widget-view+json": {
       "model_id": "",
       "version_major": 2,
       "version_minor": 0
      },
      "text/plain": [
       "VBox(children=(Label(value=' 0.00MB of 0.00MB uploaded (0.00MB deduped)\\r'), FloatProgress(value=1.0, max=1.0)…"
      ]
     },
     "metadata": {},
     "output_type": "display_data"
    },
    {
     "data": {
      "text/html": [
       "Find user logs for this run at: <code>/home/krishna/iit/sem6/dl/wandb/run-20210311_145933-n8lfpm4r/logs/debug.log</code>"
      ],
      "text/plain": [
       "<IPython.core.display.HTML object>"
      ]
     },
     "metadata": {},
     "output_type": "display_data"
    },
    {
     "data": {
      "text/html": [
       "Find internal logs for this run at: <code>/home/krishna/iit/sem6/dl/wandb/run-20210311_145933-n8lfpm4r/logs/debug-internal.log</code>"
      ],
      "text/plain": [
       "<IPython.core.display.HTML object>"
      ]
     },
     "metadata": {},
     "output_type": "display_data"
    },
    {
     "data": {
      "text/html": [
       "<h3>Run summary:</h3><br/><style>\n",
       "    table.wandb td:nth-child(1) { padding: 0 10px; text-align: right }\n",
       "    </style><table class=\"wandb\">\n",
       "<tr><td>train accuracy</td><td>0.83137</td></tr><tr><td>validation accuracy</td><td>0.83433</td></tr><tr><td>train loss</td><td>0.49395</td></tr><tr><td>val loss</td><td>0.49395</td></tr><tr><td>_runtime</td><td>36</td></tr><tr><td>_timestamp</td><td>1615455009</td></tr><tr><td>_step</td><td>9</td></tr></table>"
      ],
      "text/plain": [
       "<IPython.core.display.HTML object>"
      ]
     },
     "metadata": {},
     "output_type": "display_data"
    },
    {
     "data": {
      "text/html": [
       "<h3>Run history:</h3><br/><style>\n",
       "    table.wandb td:nth-child(1) { padding: 0 10px; text-align: right }\n",
       "    </style><table class=\"wandb\">\n",
       "<tr><td>train accuracy</td><td>▁▅▆▆▇▇████</td></tr><tr><td>validation accuracy</td><td>▁▅▆▆▇▇████</td></tr><tr><td>train loss</td><td>█▅▃▂▂▂▁▁▁▁</td></tr><tr><td>val loss</td><td>█▅▃▂▂▂▁▁▁▁</td></tr><tr><td>_runtime</td><td>▁▂▃▃▄▅▆▆▇█</td></tr><tr><td>_timestamp</td><td>▁▂▃▃▄▅▆▆▇█</td></tr><tr><td>_step</td><td>▁▂▃▃▄▅▆▆▇█</td></tr></table><br/>"
      ],
      "text/plain": [
       "<IPython.core.display.HTML object>"
      ]
     },
     "metadata": {},
     "output_type": "display_data"
    },
    {
     "data": {
      "text/html": [
       "Synced 5 W&B file(s), 0 media file(s), 0 artifact file(s) and 0 other file(s)"
      ],
      "text/plain": [
       "<IPython.core.display.HTML object>"
      ]
     },
     "metadata": {},
     "output_type": "display_data"
    },
    {
     "data": {
      "text/html": [
       "\n",
       "                    <br/>Synced <strong style=\"color:#cdcd00\">hello</strong>: <a href=\"https://wandb.ai/notarchana/CS6910-A1/runs/n8lfpm4r\" target=\"_blank\">https://wandb.ai/notarchana/CS6910-A1/runs/n8lfpm4r</a><br/>\n",
       "                "
      ],
      "text/plain": [
       "<IPython.core.display.HTML object>"
      ]
     },
     "metadata": {},
     "output_type": "display_data"
    },
    {
     "name": "stderr",
     "output_type": "stream",
     "text": [
      "\u001b[34m\u001b[1mwandb\u001b[0m: Agent Starting Run: j91g5piu with config:\n",
      "\u001b[34m\u001b[1mwandb\u001b[0m: \tactivation: sigmoid\n",
      "\u001b[34m\u001b[1mwandb\u001b[0m: \tbatch_size: 16\n",
      "\u001b[34m\u001b[1mwandb\u001b[0m: \tepochs: 10\n",
      "\u001b[34m\u001b[1mwandb\u001b[0m: \thidden_layer_size: 128\n",
      "\u001b[34m\u001b[1mwandb\u001b[0m: \thidden_layers: 3\n",
      "\u001b[34m\u001b[1mwandb\u001b[0m: \tlr: 0.001\n",
      "\u001b[34m\u001b[1mwandb\u001b[0m: \toptimiser: adam\n",
      "\u001b[34m\u001b[1mwandb\u001b[0m: \tweight_decay: 0.0005\n",
      "\u001b[34m\u001b[1mwandb\u001b[0m: \tweight_init: xavier\n"
     ]
    },
    {
     "data": {
      "text/html": [
       "\n",
       "                Tracking run with wandb version 0.10.22<br/>\n",
       "                Syncing run <strong style=\"color:#cdcd00\">hello</strong> to <a href=\"https://wandb.ai\" target=\"_blank\">Weights & Biases</a> <a href=\"https://docs.wandb.com/integrations/jupyter.html\" target=\"_blank\">(Documentation)</a>.<br/>\n",
       "                Project page: <a href=\"https://wandb.ai/notarchana/CS6910-A1\" target=\"_blank\">https://wandb.ai/notarchana/CS6910-A1</a><br/>\n",
       "                Sweep page: <a href=\"https://wandb.ai/notarchana/CS6910-A1/sweeps/lzmcss02\" target=\"_blank\">https://wandb.ai/notarchana/CS6910-A1/sweeps/lzmcss02</a><br/>\n",
       "Run page: <a href=\"https://wandb.ai/notarchana/CS6910-A1/runs/j91g5piu\" target=\"_blank\">https://wandb.ai/notarchana/CS6910-A1/runs/j91g5piu</a><br/>\n",
       "                Run data is saved locally in <code>/home/krishna/iit/sem6/dl/wandb/run-20210311_150016-j91g5piu</code><br/><br/>\n",
       "            "
      ],
      "text/plain": [
       "<IPython.core.display.HTML object>"
      ]
     },
     "metadata": {},
     "output_type": "display_data"
    },
    {
     "name": "stderr",
     "output_type": "stream",
     "text": [
      "\u001b[34m\u001b[1mwandb\u001b[0m: \u001b[33mWARNING\u001b[0m Calling run.save without any arguments is deprecated.Changes to attributes are automatically persisted.\n"
     ]
    },
    {
     "name": "stdout",
     "output_type": "stream",
     "text": [
      "model building done\n",
      "Epoch 0 done: Loss = 0.49240399137965235\n",
      "Epoch 1 done: Loss = 0.43480977943939675\n",
      "Epoch 2 done: Loss = 0.4081454838778083\n",
      "Epoch 3 done: Loss = 0.39153411270358957\n",
      "Epoch 4 done: Loss = 0.37941757850349095\n",
      "Epoch 5 done: Loss = 0.36952875332006163\n",
      "Epoch 6 done: Loss = 0.36093449098687164\n",
      "Epoch 7 done: Loss = 0.3532778241263122\n",
      "Epoch 8 done: Loss = 0.346424140699591\n",
      "Epoch 9 done: Loss = 0.3402861569781675\n",
      "model training done\n"
     ]
    },
    {
     "data": {
      "text/html": [
       "<br/>Waiting for W&B process to finish, PID 60963<br/>Program ended successfully."
      ],
      "text/plain": [
       "<IPython.core.display.HTML object>"
      ]
     },
     "metadata": {},
     "output_type": "display_data"
    },
    {
     "data": {
      "application/vnd.jupyter.widget-view+json": {
       "model_id": "",
       "version_major": 2,
       "version_minor": 0
      },
      "text/plain": [
       "VBox(children=(Label(value=' 0.00MB of 0.00MB uploaded (0.00MB deduped)\\r'), FloatProgress(value=1.0, max=1.0)…"
      ]
     },
     "metadata": {},
     "output_type": "display_data"
    },
    {
     "data": {
      "text/html": [
       "Find user logs for this run at: <code>/home/krishna/iit/sem6/dl/wandb/run-20210311_150016-j91g5piu/logs/debug.log</code>"
      ],
      "text/plain": [
       "<IPython.core.display.HTML object>"
      ]
     },
     "metadata": {},
     "output_type": "display_data"
    },
    {
     "data": {
      "text/html": [
       "Find internal logs for this run at: <code>/home/krishna/iit/sem6/dl/wandb/run-20210311_150016-j91g5piu/logs/debug-internal.log</code>"
      ],
      "text/plain": [
       "<IPython.core.display.HTML object>"
      ]
     },
     "metadata": {},
     "output_type": "display_data"
    },
    {
     "data": {
      "text/html": [
       "<h3>Run summary:</h3><br/><style>\n",
       "    table.wandb td:nth-child(1) { padding: 0 10px; text-align: right }\n",
       "    </style><table class=\"wandb\">\n",
       "<tr><td>train accuracy</td><td>0.8886</td></tr><tr><td>validation accuracy</td><td>0.87808</td></tr><tr><td>train loss</td><td>0.34029</td></tr><tr><td>val loss</td><td>0.36634</td></tr><tr><td>_runtime</td><td>106</td></tr><tr><td>_timestamp</td><td>1615455122</td></tr><tr><td>_step</td><td>9</td></tr></table>"
      ],
      "text/plain": [
       "<IPython.core.display.HTML object>"
      ]
     },
     "metadata": {},
     "output_type": "display_data"
    },
    {
     "data": {
      "text/html": [
       "<h3>Run history:</h3><br/><style>\n",
       "    table.wandb td:nth-child(1) { padding: 0 10px; text-align: right }\n",
       "    </style><table class=\"wandb\">\n",
       "<tr><td>train accuracy</td><td>▁▄▅▆▆▇▇▇██</td></tr><tr><td>validation accuracy</td><td>▁▃▅▅▆▇▇▇██</td></tr><tr><td>train loss</td><td>█▅▄▃▃▂▂▂▁▁</td></tr><tr><td>val loss</td><td>█▅▄▃▃▂▂▁▁▁</td></tr><tr><td>_runtime</td><td>▁▂▃▃▄▅▆▆▇█</td></tr><tr><td>_timestamp</td><td>▁▂▃▃▄▅▆▆▇█</td></tr><tr><td>_step</td><td>▁▂▃▃▄▅▆▆▇█</td></tr></table><br/>"
      ],
      "text/plain": [
       "<IPython.core.display.HTML object>"
      ]
     },
     "metadata": {},
     "output_type": "display_data"
    },
    {
     "data": {
      "text/html": [
       "Synced 5 W&B file(s), 0 media file(s), 0 artifact file(s) and 0 other file(s)"
      ],
      "text/plain": [
       "<IPython.core.display.HTML object>"
      ]
     },
     "metadata": {},
     "output_type": "display_data"
    },
    {
     "data": {
      "text/html": [
       "\n",
       "                    <br/>Synced <strong style=\"color:#cdcd00\">hello</strong>: <a href=\"https://wandb.ai/notarchana/CS6910-A1/runs/j91g5piu\" target=\"_blank\">https://wandb.ai/notarchana/CS6910-A1/runs/j91g5piu</a><br/>\n",
       "                "
      ],
      "text/plain": [
       "<IPython.core.display.HTML object>"
      ]
     },
     "metadata": {},
     "output_type": "display_data"
    },
    {
     "name": "stderr",
     "output_type": "stream",
     "text": [
      "\u001b[34m\u001b[1mwandb\u001b[0m: Agent Starting Run: yeb7jwhz with config:\n",
      "\u001b[34m\u001b[1mwandb\u001b[0m: \tactivation: sigmoid\n",
      "\u001b[34m\u001b[1mwandb\u001b[0m: \tbatch_size: 64\n",
      "\u001b[34m\u001b[1mwandb\u001b[0m: \tepochs: 10\n",
      "\u001b[34m\u001b[1mwandb\u001b[0m: \thidden_layer_size: 64\n",
      "\u001b[34m\u001b[1mwandb\u001b[0m: \thidden_layers: 5\n",
      "\u001b[34m\u001b[1mwandb\u001b[0m: \tlr: 0.001\n",
      "\u001b[34m\u001b[1mwandb\u001b[0m: \toptimiser: nadam\n",
      "\u001b[34m\u001b[1mwandb\u001b[0m: \tweight_decay: 0.0005\n",
      "\u001b[34m\u001b[1mwandb\u001b[0m: \tweight_init: xavier\n"
     ]
    },
    {
     "data": {
      "text/html": [
       "\n",
       "                Tracking run with wandb version 0.10.22<br/>\n",
       "                Syncing run <strong style=\"color:#cdcd00\">hello</strong> to <a href=\"https://wandb.ai\" target=\"_blank\">Weights & Biases</a> <a href=\"https://docs.wandb.com/integrations/jupyter.html\" target=\"_blank\">(Documentation)</a>.<br/>\n",
       "                Project page: <a href=\"https://wandb.ai/notarchana/CS6910-A1\" target=\"_blank\">https://wandb.ai/notarchana/CS6910-A1</a><br/>\n",
       "                Sweep page: <a href=\"https://wandb.ai/notarchana/CS6910-A1/sweeps/lzmcss02\" target=\"_blank\">https://wandb.ai/notarchana/CS6910-A1/sweeps/lzmcss02</a><br/>\n",
       "Run page: <a href=\"https://wandb.ai/notarchana/CS6910-A1/runs/yeb7jwhz\" target=\"_blank\">https://wandb.ai/notarchana/CS6910-A1/runs/yeb7jwhz</a><br/>\n",
       "                Run data is saved locally in <code>/home/krishna/iit/sem6/dl/wandb/run-20210311_150210-yeb7jwhz</code><br/><br/>\n",
       "            "
      ],
      "text/plain": [
       "<IPython.core.display.HTML object>"
      ]
     },
     "metadata": {},
     "output_type": "display_data"
    },
    {
     "name": "stderr",
     "output_type": "stream",
     "text": [
      "\u001b[34m\u001b[1mwandb\u001b[0m: \u001b[33mWARNING\u001b[0m Calling run.save without any arguments is deprecated.Changes to attributes are automatically persisted.\n"
     ]
    },
    {
     "name": "stdout",
     "output_type": "stream",
     "text": [
      "model building done\n",
      "Epoch 0 done: Loss = 2.3055201554763527\n",
      "Epoch 1 done: Loss = 1.7423302681607362\n",
      "Epoch 2 done: Loss = 1.591957924058582\n",
      "Epoch 3 done: Loss = 1.3321940386376943\n",
      "Epoch 4 done: Loss = 1.1395625021504787\n",
      "Epoch 5 done: Loss = 0.9805061625183025\n",
      "Epoch 6 done: Loss = 0.8884717365203155\n",
      "Epoch 7 done: Loss = 0.8322635022144393\n",
      "Epoch 8 done: Loss = 0.7873650927355001\n",
      "Epoch 9 done: Loss = 0.7520410063655226\n",
      "model training done\n"
     ]
    },
    {
     "data": {
      "text/html": [
       "<br/>Waiting for W&B process to finish, PID 61016<br/>Program ended successfully."
      ],
      "text/plain": [
       "<IPython.core.display.HTML object>"
      ]
     },
     "metadata": {},
     "output_type": "display_data"
    },
    {
     "data": {
      "application/vnd.jupyter.widget-view+json": {
       "model_id": "",
       "version_major": 2,
       "version_minor": 0
      },
      "text/plain": [
       "VBox(children=(Label(value=' 0.00MB of 0.00MB uploaded (0.00MB deduped)\\r'), FloatProgress(value=1.0, max=1.0)…"
      ]
     },
     "metadata": {},
     "output_type": "display_data"
    },
    {
     "data": {
      "text/html": [
       "Find user logs for this run at: <code>/home/krishna/iit/sem6/dl/wandb/run-20210311_150210-yeb7jwhz/logs/debug.log</code>"
      ],
      "text/plain": [
       "<IPython.core.display.HTML object>"
      ]
     },
     "metadata": {},
     "output_type": "display_data"
    },
    {
     "data": {
      "text/html": [
       "Find internal logs for this run at: <code>/home/krishna/iit/sem6/dl/wandb/run-20210311_150210-yeb7jwhz/logs/debug-internal.log</code>"
      ],
      "text/plain": [
       "<IPython.core.display.HTML object>"
      ]
     },
     "metadata": {},
     "output_type": "display_data"
    },
    {
     "data": {
      "text/html": [
       "<h3>Run summary:</h3><br/><style>\n",
       "    table.wandb td:nth-child(1) { padding: 0 10px; text-align: right }\n",
       "    </style><table class=\"wandb\">\n",
       "<tr><td>train accuracy</td><td>0.71469</td></tr><tr><td>validation accuracy</td><td>0.7115</td></tr><tr><td>train loss</td><td>0.75204</td></tr><tr><td>val loss</td><td>0.75911</td></tr><tr><td>_runtime</td><td>35</td></tr><tr><td>_timestamp</td><td>1615455165</td></tr><tr><td>_step</td><td>9</td></tr></table>"
      ],
      "text/plain": [
       "<IPython.core.display.HTML object>"
      ]
     },
     "metadata": {},
     "output_type": "display_data"
    },
    {
     "data": {
      "text/html": [
       "<h3>Run history:</h3><br/><style>\n",
       "    table.wandb td:nth-child(1) { padding: 0 10px; text-align: right }\n",
       "    </style><table class=\"wandb\">\n",
       "<tr><td>train accuracy</td><td>▁▂▃▆▆▇▇███</td></tr><tr><td>validation accuracy</td><td>▁▂▃▆▆▇████</td></tr><tr><td>train loss</td><td>█▅▅▄▃▂▂▁▁▁</td></tr><tr><td>val loss</td><td>█▅▅▄▃▂▂▁▁▁</td></tr><tr><td>_runtime</td><td>▁▂▃▃▄▅▆▆▇█</td></tr><tr><td>_timestamp</td><td>▁▂▃▃▄▅▆▆▇█</td></tr><tr><td>_step</td><td>▁▂▃▃▄▅▆▆▇█</td></tr></table><br/>"
      ],
      "text/plain": [
       "<IPython.core.display.HTML object>"
      ]
     },
     "metadata": {},
     "output_type": "display_data"
    },
    {
     "data": {
      "text/html": [
       "Synced 5 W&B file(s), 0 media file(s), 0 artifact file(s) and 0 other file(s)"
      ],
      "text/plain": [
       "<IPython.core.display.HTML object>"
      ]
     },
     "metadata": {},
     "output_type": "display_data"
    },
    {
     "data": {
      "text/html": [
       "\n",
       "                    <br/>Synced <strong style=\"color:#cdcd00\">hello</strong>: <a href=\"https://wandb.ai/notarchana/CS6910-A1/runs/yeb7jwhz\" target=\"_blank\">https://wandb.ai/notarchana/CS6910-A1/runs/yeb7jwhz</a><br/>\n",
       "                "
      ],
      "text/plain": [
       "<IPython.core.display.HTML object>"
      ]
     },
     "metadata": {},
     "output_type": "display_data"
    },
    {
     "name": "stderr",
     "output_type": "stream",
     "text": [
      "\u001b[34m\u001b[1mwandb\u001b[0m: Agent Starting Run: bq9hgguh with config:\n",
      "\u001b[34m\u001b[1mwandb\u001b[0m: \tactivation: relu\n",
      "\u001b[34m\u001b[1mwandb\u001b[0m: \tbatch_size: 32\n",
      "\u001b[34m\u001b[1mwandb\u001b[0m: \tepochs: 10\n",
      "\u001b[34m\u001b[1mwandb\u001b[0m: \thidden_layer_size: 128\n",
      "\u001b[34m\u001b[1mwandb\u001b[0m: \thidden_layers: 5\n",
      "\u001b[34m\u001b[1mwandb\u001b[0m: \tlr: 0.001\n",
      "\u001b[34m\u001b[1mwandb\u001b[0m: \toptimiser: nadam\n",
      "\u001b[34m\u001b[1mwandb\u001b[0m: \tweight_decay: 0\n",
      "\u001b[34m\u001b[1mwandb\u001b[0m: \tweight_init: xavier\n"
     ]
    },
    {
     "data": {
      "text/html": [
       "\n",
       "                Tracking run with wandb version 0.10.22<br/>\n",
       "                Syncing run <strong style=\"color:#cdcd00\">hello</strong> to <a href=\"https://wandb.ai\" target=\"_blank\">Weights & Biases</a> <a href=\"https://docs.wandb.com/integrations/jupyter.html\" target=\"_blank\">(Documentation)</a>.<br/>\n",
       "                Project page: <a href=\"https://wandb.ai/notarchana/CS6910-A1\" target=\"_blank\">https://wandb.ai/notarchana/CS6910-A1</a><br/>\n",
       "                Sweep page: <a href=\"https://wandb.ai/notarchana/CS6910-A1/sweeps/lzmcss02\" target=\"_blank\">https://wandb.ai/notarchana/CS6910-A1/sweeps/lzmcss02</a><br/>\n",
       "Run page: <a href=\"https://wandb.ai/notarchana/CS6910-A1/runs/bq9hgguh\" target=\"_blank\">https://wandb.ai/notarchana/CS6910-A1/runs/bq9hgguh</a><br/>\n",
       "                Run data is saved locally in <code>/home/krishna/iit/sem6/dl/wandb/run-20210311_150255-bq9hgguh</code><br/><br/>\n",
       "            "
      ],
      "text/plain": [
       "<IPython.core.display.HTML object>"
      ]
     },
     "metadata": {},
     "output_type": "display_data"
    },
    {
     "name": "stderr",
     "output_type": "stream",
     "text": [
      "\u001b[34m\u001b[1mwandb\u001b[0m: \u001b[33mWARNING\u001b[0m Calling run.save without any arguments is deprecated.Changes to attributes are automatically persisted.\n"
     ]
    },
    {
     "name": "stdout",
     "output_type": "stream",
     "text": [
      "model building done\n",
      "Epoch 0 done: Loss = 0.5010536153801088\n",
      "Epoch 1 done: Loss = 0.4014941527695551\n",
      "Epoch 2 done: Loss = 0.36925579994335633\n",
      "Epoch 3 done: Loss = 0.3579127828446813\n",
      "Epoch 4 done: Loss = 0.3432822614978668\n",
      "Epoch 5 done: Loss = 0.335848017278697\n",
      "Epoch 6 done: Loss = 0.332820810883143\n",
      "Epoch 7 done: Loss = 0.32121092412310215\n",
      "Epoch 8 done: Loss = 0.3170612748591719\n",
      "Epoch 9 done: Loss = 0.3167023023815801\n",
      "model training done\n"
     ]
    },
    {
     "data": {
      "text/html": [
       "<br/>Waiting for W&B process to finish, PID 61053<br/>Program ended successfully."
      ],
      "text/plain": [
       "<IPython.core.display.HTML object>"
      ]
     },
     "metadata": {},
     "output_type": "display_data"
    },
    {
     "data": {
      "application/vnd.jupyter.widget-view+json": {
       "model_id": "",
       "version_major": 2,
       "version_minor": 0
      },
      "text/plain": [
       "VBox(children=(Label(value=' 0.00MB of 0.00MB uploaded (0.00MB deduped)\\r'), FloatProgress(value=1.0, max=1.0)…"
      ]
     },
     "metadata": {},
     "output_type": "display_data"
    },
    {
     "data": {
      "text/html": [
       "Find user logs for this run at: <code>/home/krishna/iit/sem6/dl/wandb/run-20210311_150255-bq9hgguh/logs/debug.log</code>"
      ],
      "text/plain": [
       "<IPython.core.display.HTML object>"
      ]
     },
     "metadata": {},
     "output_type": "display_data"
    },
    {
     "data": {
      "text/html": [
       "Find internal logs for this run at: <code>/home/krishna/iit/sem6/dl/wandb/run-20210311_150255-bq9hgguh/logs/debug-internal.log</code>"
      ],
      "text/plain": [
       "<IPython.core.display.HTML object>"
      ]
     },
     "metadata": {},
     "output_type": "display_data"
    },
    {
     "data": {
      "text/html": [
       "<h3>Run summary:</h3><br/><style>\n",
       "    table.wandb td:nth-child(1) { padding: 0 10px; text-align: right }\n",
       "    </style><table class=\"wandb\">\n",
       "<tr><td>train accuracy</td><td>0.89815</td></tr><tr><td>validation accuracy</td><td>0.88025</td></tr><tr><td>train loss</td><td>0.3167</td></tr><tr><td>val loss</td><td>0.36814</td></tr><tr><td>_runtime</td><td>124</td></tr><tr><td>_timestamp</td><td>1615455300</td></tr><tr><td>_step</td><td>9</td></tr></table>"
      ],
      "text/plain": [
       "<IPython.core.display.HTML object>"
      ]
     },
     "metadata": {},
     "output_type": "display_data"
    },
    {
     "data": {
      "text/html": [
       "<h3>Run history:</h3><br/><style>\n",
       "    table.wandb td:nth-child(1) { padding: 0 10px; text-align: right }\n",
       "    </style><table class=\"wandb\">\n",
       "<tr><td>train accuracy</td><td>▁▄▅▆▆▇▇███</td></tr><tr><td>validation accuracy</td><td>▁▅▆▇▇▇▇███</td></tr><tr><td>train loss</td><td>█▄▃▃▂▂▂▁▁▁</td></tr><tr><td>val loss</td><td>█▃▂▂▁▁▁▁▁▁</td></tr><tr><td>_runtime</td><td>▁▁▂▂▃▄▅▆▇█</td></tr><tr><td>_timestamp</td><td>▁▁▂▂▃▄▅▆▇█</td></tr><tr><td>_step</td><td>▁▂▃▃▄▅▆▆▇█</td></tr></table><br/>"
      ],
      "text/plain": [
       "<IPython.core.display.HTML object>"
      ]
     },
     "metadata": {},
     "output_type": "display_data"
    },
    {
     "data": {
      "text/html": [
       "Synced 5 W&B file(s), 0 media file(s), 0 artifact file(s) and 0 other file(s)"
      ],
      "text/plain": [
       "<IPython.core.display.HTML object>"
      ]
     },
     "metadata": {},
     "output_type": "display_data"
    },
    {
     "data": {
      "text/html": [
       "\n",
       "                    <br/>Synced <strong style=\"color:#cdcd00\">hello</strong>: <a href=\"https://wandb.ai/notarchana/CS6910-A1/runs/bq9hgguh\" target=\"_blank\">https://wandb.ai/notarchana/CS6910-A1/runs/bq9hgguh</a><br/>\n",
       "                "
      ],
      "text/plain": [
       "<IPython.core.display.HTML object>"
      ]
     },
     "metadata": {},
     "output_type": "display_data"
    },
    {
     "name": "stderr",
     "output_type": "stream",
     "text": [
      "\u001b[34m\u001b[1mwandb\u001b[0m: Agent Starting Run: c1iw9z3i with config:\n",
      "\u001b[34m\u001b[1mwandb\u001b[0m: \tactivation: tanh\n",
      "\u001b[34m\u001b[1mwandb\u001b[0m: \tbatch_size: 32\n",
      "\u001b[34m\u001b[1mwandb\u001b[0m: \tepochs: 10\n",
      "\u001b[34m\u001b[1mwandb\u001b[0m: \thidden_layer_size: 32\n",
      "\u001b[34m\u001b[1mwandb\u001b[0m: \thidden_layers: 5\n",
      "\u001b[34m\u001b[1mwandb\u001b[0m: \tlr: 0.001\n",
      "\u001b[34m\u001b[1mwandb\u001b[0m: \toptimiser: nesterov\n",
      "\u001b[34m\u001b[1mwandb\u001b[0m: \tweight_decay: 0.5\n",
      "\u001b[34m\u001b[1mwandb\u001b[0m: \tweight_init: xavier\n"
     ]
    },
    {
     "data": {
      "text/html": [
       "\n",
       "                Tracking run with wandb version 0.10.22<br/>\n",
       "                Syncing run <strong style=\"color:#cdcd00\">hello</strong> to <a href=\"https://wandb.ai\" target=\"_blank\">Weights & Biases</a> <a href=\"https://docs.wandb.com/integrations/jupyter.html\" target=\"_blank\">(Documentation)</a>.<br/>\n",
       "                Project page: <a href=\"https://wandb.ai/notarchana/CS6910-A1\" target=\"_blank\">https://wandb.ai/notarchana/CS6910-A1</a><br/>\n",
       "                Sweep page: <a href=\"https://wandb.ai/notarchana/CS6910-A1/sweeps/lzmcss02\" target=\"_blank\">https://wandb.ai/notarchana/CS6910-A1/sweeps/lzmcss02</a><br/>\n",
       "Run page: <a href=\"https://wandb.ai/notarchana/CS6910-A1/runs/c1iw9z3i\" target=\"_blank\">https://wandb.ai/notarchana/CS6910-A1/runs/c1iw9z3i</a><br/>\n",
       "                Run data is saved locally in <code>/home/krishna/iit/sem6/dl/wandb/run-20210311_150507-c1iw9z3i</code><br/><br/>\n",
       "            "
      ],
      "text/plain": [
       "<IPython.core.display.HTML object>"
      ]
     },
     "metadata": {},
     "output_type": "display_data"
    },
    {
     "name": "stderr",
     "output_type": "stream",
     "text": [
      "\u001b[34m\u001b[1mwandb\u001b[0m: \u001b[33mWARNING\u001b[0m Calling run.save without any arguments is deprecated.Changes to attributes are automatically persisted.\n"
     ]
    },
    {
     "name": "stdout",
     "output_type": "stream",
     "text": [
      "model building done\n",
      "Epoch 0 done: Loss = 1.081521945353444\n",
      "Epoch 1 done: Loss = 0.7855447248809035\n",
      "Epoch 2 done: Loss = 0.6560796867202248\n",
      "Epoch 3 done: Loss = 0.5863061590727227\n",
      "Epoch 4 done: Loss = 0.5368352793811059\n",
      "Epoch 5 done: Loss = 0.505113840725516\n",
      "Epoch 6 done: Loss = 0.4852992741603797\n",
      "Epoch 7 done: Loss = 0.47014630259018964\n",
      "Epoch 8 done: Loss = 0.4566042804727811\n",
      "Epoch 9 done: Loss = 0.44451484683004444\n",
      "model training done\n"
     ]
    },
    {
     "data": {
      "text/html": [
       "<br/>Waiting for W&B process to finish, PID 61097<br/>Program ended successfully."
      ],
      "text/plain": [
       "<IPython.core.display.HTML object>"
      ]
     },
     "metadata": {},
     "output_type": "display_data"
    },
    {
     "data": {
      "application/vnd.jupyter.widget-view+json": {
       "model_id": "",
       "version_major": 2,
       "version_minor": 0
      },
      "text/plain": [
       "VBox(children=(Label(value=' 0.00MB of 0.00MB uploaded (0.00MB deduped)\\r'), FloatProgress(value=1.0, max=1.0)…"
      ]
     },
     "metadata": {},
     "output_type": "display_data"
    },
    {
     "data": {
      "text/html": [
       "Find user logs for this run at: <code>/home/krishna/iit/sem6/dl/wandb/run-20210311_150507-c1iw9z3i/logs/debug.log</code>"
      ],
      "text/plain": [
       "<IPython.core.display.HTML object>"
      ]
     },
     "metadata": {},
     "output_type": "display_data"
    },
    {
     "data": {
      "text/html": [
       "Find internal logs for this run at: <code>/home/krishna/iit/sem6/dl/wandb/run-20210311_150507-c1iw9z3i/logs/debug-internal.log</code>"
      ],
      "text/plain": [
       "<IPython.core.display.HTML object>"
      ]
     },
     "metadata": {},
     "output_type": "display_data"
    },
    {
     "data": {
      "text/html": [
       "<h3>Run summary:</h3><br/><style>\n",
       "    table.wandb td:nth-child(1) { padding: 0 10px; text-align: right }\n",
       "    </style><table class=\"wandb\">\n",
       "<tr><td>train accuracy</td><td>0.85592</td></tr><tr><td>validation accuracy</td><td>0.8475</td></tr><tr><td>train loss</td><td>0.44451</td></tr><tr><td>val loss</td><td>0.45675</td></tr><tr><td>_runtime</td><td>29</td></tr><tr><td>_timestamp</td><td>1615455336</td></tr><tr><td>_step</td><td>9</td></tr></table>"
      ],
      "text/plain": [
       "<IPython.core.display.HTML object>"
      ]
     },
     "metadata": {},
     "output_type": "display_data"
    },
    {
     "data": {
      "text/html": [
       "<h3>Run history:</h3><br/><style>\n",
       "    table.wandb td:nth-child(1) { padding: 0 10px; text-align: right }\n",
       "    </style><table class=\"wandb\">\n",
       "<tr><td>train accuracy</td><td>▁▄▅▆▇▇████</td></tr><tr><td>validation accuracy</td><td>▁▄▅▆▇▇████</td></tr><tr><td>train loss</td><td>█▅▃▃▂▂▁▁▁▁</td></tr><tr><td>val loss</td><td>█▅▃▂▂▂▁▁▁▁</td></tr><tr><td>_runtime</td><td>▁▂▂▃▄▅▅▆▇█</td></tr><tr><td>_timestamp</td><td>▁▂▂▃▄▅▅▆▇█</td></tr><tr><td>_step</td><td>▁▂▃▃▄▅▆▆▇█</td></tr></table><br/>"
      ],
      "text/plain": [
       "<IPython.core.display.HTML object>"
      ]
     },
     "metadata": {},
     "output_type": "display_data"
    },
    {
     "data": {
      "text/html": [
       "Synced 5 W&B file(s), 0 media file(s), 0 artifact file(s) and 0 other file(s)"
      ],
      "text/plain": [
       "<IPython.core.display.HTML object>"
      ]
     },
     "metadata": {},
     "output_type": "display_data"
    },
    {
     "data": {
      "text/html": [
       "\n",
       "                    <br/>Synced <strong style=\"color:#cdcd00\">hello</strong>: <a href=\"https://wandb.ai/notarchana/CS6910-A1/runs/c1iw9z3i\" target=\"_blank\">https://wandb.ai/notarchana/CS6910-A1/runs/c1iw9z3i</a><br/>\n",
       "                "
      ],
      "text/plain": [
       "<IPython.core.display.HTML object>"
      ]
     },
     "metadata": {},
     "output_type": "display_data"
    },
    {
     "name": "stderr",
     "output_type": "stream",
     "text": [
      "\u001b[34m\u001b[1mwandb\u001b[0m: Agent Starting Run: cgigjm5d with config:\n",
      "\u001b[34m\u001b[1mwandb\u001b[0m: \tactivation: sigmoid\n",
      "\u001b[34m\u001b[1mwandb\u001b[0m: \tbatch_size: 16\n",
      "\u001b[34m\u001b[1mwandb\u001b[0m: \tepochs: 10\n",
      "\u001b[34m\u001b[1mwandb\u001b[0m: \thidden_layer_size: 64\n",
      "\u001b[34m\u001b[1mwandb\u001b[0m: \thidden_layers: 5\n",
      "\u001b[34m\u001b[1mwandb\u001b[0m: \tlr: 0.001\n",
      "\u001b[34m\u001b[1mwandb\u001b[0m: \toptimiser: momentum\n",
      "\u001b[34m\u001b[1mwandb\u001b[0m: \tweight_decay: 0.0005\n",
      "\u001b[34m\u001b[1mwandb\u001b[0m: \tweight_init: xavier\n"
     ]
    },
    {
     "data": {
      "text/html": [
       "\n",
       "                Tracking run with wandb version 0.10.22<br/>\n",
       "                Syncing run <strong style=\"color:#cdcd00\">hello</strong> to <a href=\"https://wandb.ai\" target=\"_blank\">Weights & Biases</a> <a href=\"https://docs.wandb.com/integrations/jupyter.html\" target=\"_blank\">(Documentation)</a>.<br/>\n",
       "                Project page: <a href=\"https://wandb.ai/notarchana/CS6910-A1\" target=\"_blank\">https://wandb.ai/notarchana/CS6910-A1</a><br/>\n",
       "                Sweep page: <a href=\"https://wandb.ai/notarchana/CS6910-A1/sweeps/lzmcss02\" target=\"_blank\">https://wandb.ai/notarchana/CS6910-A1/sweeps/lzmcss02</a><br/>\n",
       "Run page: <a href=\"https://wandb.ai/notarchana/CS6910-A1/runs/cgigjm5d\" target=\"_blank\">https://wandb.ai/notarchana/CS6910-A1/runs/cgigjm5d</a><br/>\n",
       "                Run data is saved locally in <code>/home/krishna/iit/sem6/dl/wandb/run-20210311_150543-cgigjm5d</code><br/><br/>\n",
       "            "
      ],
      "text/plain": [
       "<IPython.core.display.HTML object>"
      ]
     },
     "metadata": {},
     "output_type": "display_data"
    },
    {
     "name": "stderr",
     "output_type": "stream",
     "text": [
      "\u001b[34m\u001b[1mwandb\u001b[0m: \u001b[33mWARNING\u001b[0m Calling run.save without any arguments is deprecated.Changes to attributes are automatically persisted.\n"
     ]
    },
    {
     "name": "stdout",
     "output_type": "stream",
     "text": [
      "model building done\n",
      "Epoch 0 done: Loss = 2.3112851608340894\n",
      "Epoch 1 done: Loss = 2.310677898463555\n",
      "Epoch 2 done: Loss = 2.3100193335107355\n",
      "Epoch 3 done: Loss = 2.3092597000457267\n",
      "Epoch 4 done: Loss = 2.308310734511357\n",
      "Epoch 5 done: Loss = 2.3069888084730197\n",
      "Epoch 6 done: Loss = 2.304828233136412\n",
      "Epoch 7 done: Loss = 2.300238594466154\n",
      "Epoch 8 done: Loss = 2.283608010587253\n",
      "Epoch 9 done: Loss = 1.8986571654293696\n",
      "model training done\n"
     ]
    },
    {
     "data": {
      "text/html": [
       "<br/>Waiting for W&B process to finish, PID 61131<br/>Program ended successfully."
      ],
      "text/plain": [
       "<IPython.core.display.HTML object>"
      ]
     },
     "metadata": {},
     "output_type": "display_data"
    },
    {
     "data": {
      "application/vnd.jupyter.widget-view+json": {
       "model_id": "",
       "version_major": 2,
       "version_minor": 0
      },
      "text/plain": [
       "VBox(children=(Label(value=' 0.00MB of 0.00MB uploaded (0.00MB deduped)\\r'), FloatProgress(value=1.0, max=1.0)…"
      ]
     },
     "metadata": {},
     "output_type": "display_data"
    },
    {
     "data": {
      "text/html": [
       "Find user logs for this run at: <code>/home/krishna/iit/sem6/dl/wandb/run-20210311_150543-cgigjm5d/logs/debug.log</code>"
      ],
      "text/plain": [
       "<IPython.core.display.HTML object>"
      ]
     },
     "metadata": {},
     "output_type": "display_data"
    },
    {
     "data": {
      "text/html": [
       "Find internal logs for this run at: <code>/home/krishna/iit/sem6/dl/wandb/run-20210311_150543-cgigjm5d/logs/debug-internal.log</code>"
      ],
      "text/plain": [
       "<IPython.core.display.HTML object>"
      ]
     },
     "metadata": {},
     "output_type": "display_data"
    },
    {
     "data": {
      "text/html": [
       "<h3>Run summary:</h3><br/><style>\n",
       "    table.wandb td:nth-child(1) { padding: 0 10px; text-align: right }\n",
       "    </style><table class=\"wandb\">\n",
       "<tr><td>train accuracy</td><td>0.19258</td></tr><tr><td>validation accuracy</td><td>0.19442</td></tr><tr><td>train loss</td><td>1.89866</td></tr><tr><td>val loss</td><td>1.90006</td></tr><tr><td>_runtime</td><td>53</td></tr><tr><td>_timestamp</td><td>1615455396</td></tr><tr><td>_step</td><td>9</td></tr></table>"
      ],
      "text/plain": [
       "<IPython.core.display.HTML object>"
      ]
     },
     "metadata": {},
     "output_type": "display_data"
    },
    {
     "data": {
      "text/html": [
       "<h3>Run history:</h3><br/><style>\n",
       "    table.wandb td:nth-child(1) { padding: 0 10px; text-align: right }\n",
       "    </style><table class=\"wandb\">\n",
       "<tr><td>train accuracy</td><td>▁▁▁▁▁▁▁▁▅█</td></tr><tr><td>validation accuracy</td><td>▁▁▁▁▁▁▁▁▅█</td></tr><tr><td>train loss</td><td>█████████▁</td></tr><tr><td>val loss</td><td>█████████▁</td></tr><tr><td>_runtime</td><td>▁▂▃▃▄▅▆▆▇█</td></tr><tr><td>_timestamp</td><td>▁▂▃▃▄▅▆▆▇█</td></tr><tr><td>_step</td><td>▁▂▃▃▄▅▆▆▇█</td></tr></table><br/>"
      ],
      "text/plain": [
       "<IPython.core.display.HTML object>"
      ]
     },
     "metadata": {},
     "output_type": "display_data"
    },
    {
     "data": {
      "text/html": [
       "Synced 5 W&B file(s), 0 media file(s), 0 artifact file(s) and 0 other file(s)"
      ],
      "text/plain": [
       "<IPython.core.display.HTML object>"
      ]
     },
     "metadata": {},
     "output_type": "display_data"
    },
    {
     "data": {
      "text/html": [
       "\n",
       "                    <br/>Synced <strong style=\"color:#cdcd00\">hello</strong>: <a href=\"https://wandb.ai/notarchana/CS6910-A1/runs/cgigjm5d\" target=\"_blank\">https://wandb.ai/notarchana/CS6910-A1/runs/cgigjm5d</a><br/>\n",
       "                "
      ],
      "text/plain": [
       "<IPython.core.display.HTML object>"
      ]
     },
     "metadata": {},
     "output_type": "display_data"
    },
    {
     "name": "stderr",
     "output_type": "stream",
     "text": [
      "\u001b[34m\u001b[1mwandb\u001b[0m: Agent Starting Run: bdnsgk6r with config:\n",
      "\u001b[34m\u001b[1mwandb\u001b[0m: \tactivation: sigmoid\n",
      "\u001b[34m\u001b[1mwandb\u001b[0m: \tbatch_size: 32\n",
      "\u001b[34m\u001b[1mwandb\u001b[0m: \tepochs: 10\n",
      "\u001b[34m\u001b[1mwandb\u001b[0m: \thidden_layer_size: 32\n",
      "\u001b[34m\u001b[1mwandb\u001b[0m: \thidden_layers: 5\n",
      "\u001b[34m\u001b[1mwandb\u001b[0m: \tlr: 0.001\n",
      "\u001b[34m\u001b[1mwandb\u001b[0m: \toptimiser: momentum\n",
      "\u001b[34m\u001b[1mwandb\u001b[0m: \tweight_decay: 0.0005\n",
      "\u001b[34m\u001b[1mwandb\u001b[0m: \tweight_init: xavier\n"
     ]
    },
    {
     "data": {
      "text/html": [
       "\n",
       "                Tracking run with wandb version 0.10.22<br/>\n",
       "                Syncing run <strong style=\"color:#cdcd00\">hello</strong> to <a href=\"https://wandb.ai\" target=\"_blank\">Weights & Biases</a> <a href=\"https://docs.wandb.com/integrations/jupyter.html\" target=\"_blank\">(Documentation)</a>.<br/>\n",
       "                Project page: <a href=\"https://wandb.ai/notarchana/CS6910-A1\" target=\"_blank\">https://wandb.ai/notarchana/CS6910-A1</a><br/>\n",
       "                Sweep page: <a href=\"https://wandb.ai/notarchana/CS6910-A1/sweeps/lzmcss02\" target=\"_blank\">https://wandb.ai/notarchana/CS6910-A1/sweeps/lzmcss02</a><br/>\n",
       "Run page: <a href=\"https://wandb.ai/notarchana/CS6910-A1/runs/bdnsgk6r\" target=\"_blank\">https://wandb.ai/notarchana/CS6910-A1/runs/bdnsgk6r</a><br/>\n",
       "                Run data is saved locally in <code>/home/krishna/iit/sem6/dl/wandb/run-20210311_150645-bdnsgk6r</code><br/><br/>\n",
       "            "
      ],
      "text/plain": [
       "<IPython.core.display.HTML object>"
      ]
     },
     "metadata": {},
     "output_type": "display_data"
    },
    {
     "name": "stderr",
     "output_type": "stream",
     "text": [
      "\u001b[34m\u001b[1mwandb\u001b[0m: \u001b[33mWARNING\u001b[0m Calling run.save without any arguments is deprecated.Changes to attributes are automatically persisted.\n"
     ]
    },
    {
     "name": "stdout",
     "output_type": "stream",
     "text": [
      "model building done\n",
      "Epoch 0 done: Loss = 2.3069592635185203\n",
      "Epoch 1 done: Loss = 2.3067511806127907\n",
      "Epoch 2 done: Loss = 2.306537595518057\n",
      "Epoch 3 done: Loss = 2.3063121311946277\n",
      "Epoch 4 done: Loss = 2.306067279859257\n",
      "Epoch 5 done: Loss = 2.3057934473940733\n",
      "Epoch 6 done: Loss = 2.305477522340598\n",
      "Epoch 7 done: Loss = 2.3051005331842376\n",
      "Epoch 8 done: Loss = 2.304633479947009\n",
      "Epoch 9 done: Loss = 2.304029262020994\n",
      "model training done\n"
     ]
    },
    {
     "data": {
      "text/html": [
       "<br/>Waiting for W&B process to finish, PID 61169<br/>Program ended successfully."
      ],
      "text/plain": [
       "<IPython.core.display.HTML object>"
      ]
     },
     "metadata": {},
     "output_type": "display_data"
    },
    {
     "data": {
      "application/vnd.jupyter.widget-view+json": {
       "model_id": "",
       "version_major": 2,
       "version_minor": 0
      },
      "text/plain": [
       "VBox(children=(Label(value=' 0.00MB of 0.00MB uploaded (0.00MB deduped)\\r'), FloatProgress(value=1.0, max=1.0)…"
      ]
     },
     "metadata": {},
     "output_type": "display_data"
    },
    {
     "data": {
      "text/html": [
       "Find user logs for this run at: <code>/home/krishna/iit/sem6/dl/wandb/run-20210311_150645-bdnsgk6r/logs/debug.log</code>"
      ],
      "text/plain": [
       "<IPython.core.display.HTML object>"
      ]
     },
     "metadata": {},
     "output_type": "display_data"
    },
    {
     "data": {
      "text/html": [
       "Find internal logs for this run at: <code>/home/krishna/iit/sem6/dl/wandb/run-20210311_150645-bdnsgk6r/logs/debug-internal.log</code>"
      ],
      "text/plain": [
       "<IPython.core.display.HTML object>"
      ]
     },
     "metadata": {},
     "output_type": "display_data"
    },
    {
     "data": {
      "text/html": [
       "<h3>Run summary:</h3><br/><style>\n",
       "    table.wandb td:nth-child(1) { padding: 0 10px; text-align: right }\n",
       "    </style><table class=\"wandb\">\n",
       "<tr><td>train accuracy</td><td>0.09971</td></tr><tr><td>validation accuracy</td><td>0.10117</td></tr><tr><td>train loss</td><td>2.30403</td></tr><tr><td>val loss</td><td>2.30387</td></tr><tr><td>_runtime</td><td>25</td></tr><tr><td>_timestamp</td><td>1615455430</td></tr><tr><td>_step</td><td>9</td></tr></table>"
      ],
      "text/plain": [
       "<IPython.core.display.HTML object>"
      ]
     },
     "metadata": {},
     "output_type": "display_data"
    },
    {
     "data": {
      "text/html": [
       "<h3>Run history:</h3><br/><style>\n",
       "    table.wandb td:nth-child(1) { padding: 0 10px; text-align: right }\n",
       "    </style><table class=\"wandb\">\n",
       "<tr><td>train accuracy</td><td>█▁▁▁▁▁▁▁▁▁</td></tr><tr><td>validation accuracy</td><td>█▁▁▁▁▁▁▁▁▁</td></tr><tr><td>train loss</td><td>██▇▆▆▅▄▄▂▁</td></tr><tr><td>val loss</td><td>██▇▆▆▅▄▄▂▁</td></tr><tr><td>_runtime</td><td>▁▂▃▃▄▅▆▆▇█</td></tr><tr><td>_timestamp</td><td>▁▂▃▃▄▅▆▆▇█</td></tr><tr><td>_step</td><td>▁▂▃▃▄▅▆▆▇█</td></tr></table><br/>"
      ],
      "text/plain": [
       "<IPython.core.display.HTML object>"
      ]
     },
     "metadata": {},
     "output_type": "display_data"
    },
    {
     "data": {
      "text/html": [
       "Synced 5 W&B file(s), 0 media file(s), 0 artifact file(s) and 0 other file(s)"
      ],
      "text/plain": [
       "<IPython.core.display.HTML object>"
      ]
     },
     "metadata": {},
     "output_type": "display_data"
    },
    {
     "data": {
      "text/html": [
       "\n",
       "                    <br/>Synced <strong style=\"color:#cdcd00\">hello</strong>: <a href=\"https://wandb.ai/notarchana/CS6910-A1/runs/bdnsgk6r\" target=\"_blank\">https://wandb.ai/notarchana/CS6910-A1/runs/bdnsgk6r</a><br/>\n",
       "                "
      ],
      "text/plain": [
       "<IPython.core.display.HTML object>"
      ]
     },
     "metadata": {},
     "output_type": "display_data"
    },
    {
     "name": "stderr",
     "output_type": "stream",
     "text": [
      "\u001b[34m\u001b[1mwandb\u001b[0m: Agent Starting Run: 37fhh1tu with config:\n",
      "\u001b[34m\u001b[1mwandb\u001b[0m: \tactivation: sigmoid\n",
      "\u001b[34m\u001b[1mwandb\u001b[0m: \tbatch_size: 32\n",
      "\u001b[34m\u001b[1mwandb\u001b[0m: \tepochs: 10\n",
      "\u001b[34m\u001b[1mwandb\u001b[0m: \thidden_layer_size: 64\n",
      "\u001b[34m\u001b[1mwandb\u001b[0m: \thidden_layers: 5\n",
      "\u001b[34m\u001b[1mwandb\u001b[0m: \tlr: 0.001\n",
      "\u001b[34m\u001b[1mwandb\u001b[0m: \toptimiser: momentum\n",
      "\u001b[34m\u001b[1mwandb\u001b[0m: \tweight_decay: 0\n",
      "\u001b[34m\u001b[1mwandb\u001b[0m: \tweight_init: xavier\n"
     ]
    },
    {
     "data": {
      "text/html": [
       "\n",
       "                Tracking run with wandb version 0.10.22<br/>\n",
       "                Syncing run <strong style=\"color:#cdcd00\">hello</strong> to <a href=\"https://wandb.ai\" target=\"_blank\">Weights & Biases</a> <a href=\"https://docs.wandb.com/integrations/jupyter.html\" target=\"_blank\">(Documentation)</a>.<br/>\n",
       "                Project page: <a href=\"https://wandb.ai/notarchana/CS6910-A1\" target=\"_blank\">https://wandb.ai/notarchana/CS6910-A1</a><br/>\n",
       "                Sweep page: <a href=\"https://wandb.ai/notarchana/CS6910-A1/sweeps/lzmcss02\" target=\"_blank\">https://wandb.ai/notarchana/CS6910-A1/sweeps/lzmcss02</a><br/>\n",
       "Run page: <a href=\"https://wandb.ai/notarchana/CS6910-A1/runs/37fhh1tu\" target=\"_blank\">https://wandb.ai/notarchana/CS6910-A1/runs/37fhh1tu</a><br/>\n",
       "                Run data is saved locally in <code>/home/krishna/iit/sem6/dl/wandb/run-20210311_150717-37fhh1tu</code><br/><br/>\n",
       "            "
      ],
      "text/plain": [
       "<IPython.core.display.HTML object>"
      ]
     },
     "metadata": {},
     "output_type": "display_data"
    },
    {
     "name": "stderr",
     "output_type": "stream",
     "text": [
      "\u001b[34m\u001b[1mwandb\u001b[0m: \u001b[33mWARNING\u001b[0m Calling run.save without any arguments is deprecated.Changes to attributes are automatically persisted.\n"
     ]
    },
    {
     "name": "stdout",
     "output_type": "stream",
     "text": [
      "model building done\n",
      "Epoch 0 done: Loss = 2.3069181532292515\n",
      "Epoch 1 done: Loss = 2.306553884595857\n",
      "Epoch 2 done: Loss = 2.306177507788808\n",
      "Epoch 3 done: Loss = 2.305774204372045\n",
      "Epoch 4 done: Loss = 2.30532347611176\n",
      "Epoch 5 done: Loss = 2.3047940829913007\n",
      "Epoch 6 done: Loss = 2.304133868257164\n",
      "Epoch 7 done: Loss = 2.3032467755864547\n",
      "Epoch 8 done: Loss = 2.301933083844816\n",
      "Epoch 9 done: Loss = 2.2997005417605383\n",
      "model training done\n"
     ]
    },
    {
     "data": {
      "text/html": [
       "<br/>Waiting for W&B process to finish, PID 61201<br/>Program ended successfully."
      ],
      "text/plain": [
       "<IPython.core.display.HTML object>"
      ]
     },
     "metadata": {},
     "output_type": "display_data"
    },
    {
     "data": {
      "application/vnd.jupyter.widget-view+json": {
       "model_id": "",
       "version_major": 2,
       "version_minor": 0
      },
      "text/plain": [
       "VBox(children=(Label(value=' 0.00MB of 0.00MB uploaded (0.00MB deduped)\\r'), FloatProgress(value=1.0, max=1.0)…"
      ]
     },
     "metadata": {},
     "output_type": "display_data"
    },
    {
     "data": {
      "text/html": [
       "Find user logs for this run at: <code>/home/krishna/iit/sem6/dl/wandb/run-20210311_150717-37fhh1tu/logs/debug.log</code>"
      ],
      "text/plain": [
       "<IPython.core.display.HTML object>"
      ]
     },
     "metadata": {},
     "output_type": "display_data"
    },
    {
     "data": {
      "text/html": [
       "Find internal logs for this run at: <code>/home/krishna/iit/sem6/dl/wandb/run-20210311_150717-37fhh1tu/logs/debug-internal.log</code>"
      ],
      "text/plain": [
       "<IPython.core.display.HTML object>"
      ]
     },
     "metadata": {},
     "output_type": "display_data"
    },
    {
     "data": {
      "text/html": [
       "<h3>Run summary:</h3><br/><style>\n",
       "    table.wandb td:nth-child(1) { padding: 0 10px; text-align: right }\n",
       "    </style><table class=\"wandb\">\n",
       "<tr><td>train accuracy</td><td>0.10021</td></tr><tr><td>validation accuracy</td><td>0.09917</td></tr><tr><td>train loss</td><td>2.2997</td></tr><tr><td>val loss</td><td>2.30033</td></tr><tr><td>_runtime</td><td>39</td></tr><tr><td>_timestamp</td><td>1615455476</td></tr><tr><td>_step</td><td>9</td></tr></table>"
      ],
      "text/plain": [
       "<IPython.core.display.HTML object>"
      ]
     },
     "metadata": {},
     "output_type": "display_data"
    },
    {
     "data": {
      "text/html": [
       "<h3>Run history:</h3><br/><style>\n",
       "    table.wandb td:nth-child(1) { padding: 0 10px; text-align: right }\n",
       "    </style><table class=\"wandb\">\n",
       "<tr><td>train accuracy</td><td>▁▁▁▁▁▁▁▁▁▁</td></tr><tr><td>validation accuracy</td><td>▁▁▁▁▁▁▁▁▁▁</td></tr><tr><td>train loss</td><td>██▇▇▆▆▅▄▃▁</td></tr><tr><td>val loss</td><td>██▇▇▆▆▅▄▃▁</td></tr><tr><td>_runtime</td><td>▁▂▃▃▄▅▆▆▇█</td></tr><tr><td>_timestamp</td><td>▁▂▃▃▄▅▆▆▇█</td></tr><tr><td>_step</td><td>▁▂▃▃▄▅▆▆▇█</td></tr></table><br/>"
      ],
      "text/plain": [
       "<IPython.core.display.HTML object>"
      ]
     },
     "metadata": {},
     "output_type": "display_data"
    },
    {
     "data": {
      "text/html": [
       "Synced 5 W&B file(s), 0 media file(s), 0 artifact file(s) and 0 other file(s)"
      ],
      "text/plain": [
       "<IPython.core.display.HTML object>"
      ]
     },
     "metadata": {},
     "output_type": "display_data"
    },
    {
     "data": {
      "text/html": [
       "\n",
       "                    <br/>Synced <strong style=\"color:#cdcd00\">hello</strong>: <a href=\"https://wandb.ai/notarchana/CS6910-A1/runs/37fhh1tu\" target=\"_blank\">https://wandb.ai/notarchana/CS6910-A1/runs/37fhh1tu</a><br/>\n",
       "                "
      ],
      "text/plain": [
       "<IPython.core.display.HTML object>"
      ]
     },
     "metadata": {},
     "output_type": "display_data"
    },
    {
     "name": "stderr",
     "output_type": "stream",
     "text": [
      "\u001b[34m\u001b[1mwandb\u001b[0m: Agent Starting Run: xv1wy3kq with config:\n",
      "\u001b[34m\u001b[1mwandb\u001b[0m: \tactivation: tanh\n",
      "\u001b[34m\u001b[1mwandb\u001b[0m: \tbatch_size: 32\n",
      "\u001b[34m\u001b[1mwandb\u001b[0m: \tepochs: 10\n",
      "\u001b[34m\u001b[1mwandb\u001b[0m: \thidden_layer_size: 64\n",
      "\u001b[34m\u001b[1mwandb\u001b[0m: \thidden_layers: 4\n",
      "\u001b[34m\u001b[1mwandb\u001b[0m: \tlr: 0.001\n",
      "\u001b[34m\u001b[1mwandb\u001b[0m: \toptimiser: adam\n",
      "\u001b[34m\u001b[1mwandb\u001b[0m: \tweight_decay: 0.5\n",
      "\u001b[34m\u001b[1mwandb\u001b[0m: \tweight_init: xavier\n"
     ]
    },
    {
     "data": {
      "text/html": [
       "\n",
       "                Tracking run with wandb version 0.10.22<br/>\n",
       "                Syncing run <strong style=\"color:#cdcd00\">hello</strong> to <a href=\"https://wandb.ai\" target=\"_blank\">Weights & Biases</a> <a href=\"https://docs.wandb.com/integrations/jupyter.html\" target=\"_blank\">(Documentation)</a>.<br/>\n",
       "                Project page: <a href=\"https://wandb.ai/notarchana/CS6910-A1\" target=\"_blank\">https://wandb.ai/notarchana/CS6910-A1</a><br/>\n",
       "                Sweep page: <a href=\"https://wandb.ai/notarchana/CS6910-A1/sweeps/lzmcss02\" target=\"_blank\">https://wandb.ai/notarchana/CS6910-A1/sweeps/lzmcss02</a><br/>\n",
       "Run page: <a href=\"https://wandb.ai/notarchana/CS6910-A1/runs/xv1wy3kq\" target=\"_blank\">https://wandb.ai/notarchana/CS6910-A1/runs/xv1wy3kq</a><br/>\n",
       "                Run data is saved locally in <code>/home/krishna/iit/sem6/dl/wandb/run-20210311_150803-xv1wy3kq</code><br/><br/>\n",
       "            "
      ],
      "text/plain": [
       "<IPython.core.display.HTML object>"
      ]
     },
     "metadata": {},
     "output_type": "display_data"
    },
    {
     "name": "stderr",
     "output_type": "stream",
     "text": [
      "\u001b[34m\u001b[1mwandb\u001b[0m: \u001b[33mWARNING\u001b[0m Calling run.save without any arguments is deprecated.Changes to attributes are automatically persisted.\n"
     ]
    },
    {
     "name": "stdout",
     "output_type": "stream",
     "text": [
      "model building done\n",
      "Epoch 0 done: Loss = 0.4441214988440335\n",
      "Epoch 1 done: Loss = 0.3910839296879656\n",
      "Epoch 2 done: Loss = 0.36888838220099707\n",
      "Epoch 3 done: Loss = 0.3547441774647068\n",
      "Epoch 4 done: Loss = 0.3429117811257978\n",
      "Epoch 5 done: Loss = 0.3330495987702236\n",
      "Epoch 6 done: Loss = 0.3249322755374368\n",
      "Epoch 7 done: Loss = 0.3180965677681084\n",
      "Epoch 8 done: Loss = 0.3121053780292618\n",
      "Epoch 9 done: Loss = 0.30683003185455415\n",
      "model training done\n"
     ]
    },
    {
     "data": {
      "text/html": [
       "<br/>Waiting for W&B process to finish, PID 61231<br/>Program ended successfully."
      ],
      "text/plain": [
       "<IPython.core.display.HTML object>"
      ]
     },
     "metadata": {},
     "output_type": "display_data"
    },
    {
     "data": {
      "application/vnd.jupyter.widget-view+json": {
       "model_id": "",
       "version_major": 2,
       "version_minor": 0
      },
      "text/plain": [
       "VBox(children=(Label(value=' 0.00MB of 0.00MB uploaded (0.00MB deduped)\\r'), FloatProgress(value=1.0, max=1.0)…"
      ]
     },
     "metadata": {},
     "output_type": "display_data"
    },
    {
     "data": {
      "text/html": [
       "Find user logs for this run at: <code>/home/krishna/iit/sem6/dl/wandb/run-20210311_150803-xv1wy3kq/logs/debug.log</code>"
      ],
      "text/plain": [
       "<IPython.core.display.HTML object>"
      ]
     },
     "metadata": {},
     "output_type": "display_data"
    },
    {
     "data": {
      "text/html": [
       "Find internal logs for this run at: <code>/home/krishna/iit/sem6/dl/wandb/run-20210311_150803-xv1wy3kq/logs/debug-internal.log</code>"
      ],
      "text/plain": [
       "<IPython.core.display.HTML object>"
      ]
     },
     "metadata": {},
     "output_type": "display_data"
    },
    {
     "data": {
      "text/html": [
       "<h3>Run summary:</h3><br/><style>\n",
       "    table.wandb td:nth-child(1) { padding: 0 10px; text-align: right }\n",
       "    </style><table class=\"wandb\">\n",
       "<tr><td>train accuracy</td><td>0.89954</td></tr><tr><td>validation accuracy</td><td>0.883</td></tr><tr><td>train loss</td><td>0.30683</td></tr><tr><td>val loss</td><td>0.34262</td></tr><tr><td>_runtime</td><td>49</td></tr><tr><td>_timestamp</td><td>1615455532</td></tr><tr><td>_step</td><td>9</td></tr></table>"
      ],
      "text/plain": [
       "<IPython.core.display.HTML object>"
      ]
     },
     "metadata": {},
     "output_type": "display_data"
    },
    {
     "data": {
      "text/html": [
       "<h3>Run history:</h3><br/><style>\n",
       "    table.wandb td:nth-child(1) { padding: 0 10px; text-align: right }\n",
       "    </style><table class=\"wandb\">\n",
       "<tr><td>train accuracy</td><td>▁▄▅▆▆▇▇▇██</td></tr><tr><td>validation accuracy</td><td>▁▅▆▆▇▇▇███</td></tr><tr><td>train loss</td><td>█▅▄▃▃▂▂▂▁▁</td></tr><tr><td>val loss</td><td>█▅▄▃▂▂▂▁▁▁</td></tr><tr><td>_runtime</td><td>▁▂▃▃▄▅▆▇▇█</td></tr><tr><td>_timestamp</td><td>▁▂▃▃▄▅▆▇▇█</td></tr><tr><td>_step</td><td>▁▂▃▃▄▅▆▆▇█</td></tr></table><br/>"
      ],
      "text/plain": [
       "<IPython.core.display.HTML object>"
      ]
     },
     "metadata": {},
     "output_type": "display_data"
    },
    {
     "data": {
      "text/html": [
       "Synced 5 W&B file(s), 0 media file(s), 0 artifact file(s) and 0 other file(s)"
      ],
      "text/plain": [
       "<IPython.core.display.HTML object>"
      ]
     },
     "metadata": {},
     "output_type": "display_data"
    },
    {
     "data": {
      "text/html": [
       "\n",
       "                    <br/>Synced <strong style=\"color:#cdcd00\">hello</strong>: <a href=\"https://wandb.ai/notarchana/CS6910-A1/runs/xv1wy3kq\" target=\"_blank\">https://wandb.ai/notarchana/CS6910-A1/runs/xv1wy3kq</a><br/>\n",
       "                "
      ],
      "text/plain": [
       "<IPython.core.display.HTML object>"
      ]
     },
     "metadata": {},
     "output_type": "display_data"
    },
    {
     "name": "stderr",
     "output_type": "stream",
     "text": [
      "\u001b[34m\u001b[1mwandb\u001b[0m: Agent Starting Run: 20edofmf with config:\n",
      "\u001b[34m\u001b[1mwandb\u001b[0m: \tactivation: relu\n",
      "\u001b[34m\u001b[1mwandb\u001b[0m: \tbatch_size: 16\n",
      "\u001b[34m\u001b[1mwandb\u001b[0m: \tepochs: 10\n",
      "\u001b[34m\u001b[1mwandb\u001b[0m: \thidden_layer_size: 128\n",
      "\u001b[34m\u001b[1mwandb\u001b[0m: \thidden_layers: 3\n",
      "\u001b[34m\u001b[1mwandb\u001b[0m: \tlr: 0.001\n",
      "\u001b[34m\u001b[1mwandb\u001b[0m: \toptimiser: nesterov\n",
      "\u001b[34m\u001b[1mwandb\u001b[0m: \tweight_decay: 0\n",
      "\u001b[34m\u001b[1mwandb\u001b[0m: \tweight_init: xavier\n"
     ]
    },
    {
     "data": {
      "text/html": [
       "\n",
       "                Tracking run with wandb version 0.10.22<br/>\n",
       "                Syncing run <strong style=\"color:#cdcd00\">hello</strong> to <a href=\"https://wandb.ai\" target=\"_blank\">Weights & Biases</a> <a href=\"https://docs.wandb.com/integrations/jupyter.html\" target=\"_blank\">(Documentation)</a>.<br/>\n",
       "                Project page: <a href=\"https://wandb.ai/notarchana/CS6910-A1\" target=\"_blank\">https://wandb.ai/notarchana/CS6910-A1</a><br/>\n",
       "                Sweep page: <a href=\"https://wandb.ai/notarchana/CS6910-A1/sweeps/lzmcss02\" target=\"_blank\">https://wandb.ai/notarchana/CS6910-A1/sweeps/lzmcss02</a><br/>\n",
       "Run page: <a href=\"https://wandb.ai/notarchana/CS6910-A1/runs/20edofmf\" target=\"_blank\">https://wandb.ai/notarchana/CS6910-A1/runs/20edofmf</a><br/>\n",
       "                Run data is saved locally in <code>/home/krishna/iit/sem6/dl/wandb/run-20210311_150859-20edofmf</code><br/><br/>\n",
       "            "
      ],
      "text/plain": [
       "<IPython.core.display.HTML object>"
      ]
     },
     "metadata": {},
     "output_type": "display_data"
    },
    {
     "name": "stderr",
     "output_type": "stream",
     "text": [
      "\u001b[34m\u001b[1mwandb\u001b[0m: \u001b[33mWARNING\u001b[0m Calling run.save without any arguments is deprecated.Changes to attributes are automatically persisted.\n"
     ]
    },
    {
     "name": "stdout",
     "output_type": "stream",
     "text": [
      "model building done\n",
      "Epoch 0 done: Loss = 0.692087386004956\n",
      "Epoch 1 done: Loss = 0.5535915760681174\n",
      "Epoch 2 done: Loss = 0.49734990011354413\n",
      "Epoch 3 done: Loss = 0.4705744577581524\n",
      "Epoch 4 done: Loss = 0.45282887757992396\n",
      "Epoch 5 done: Loss = 0.43850375535607716\n",
      "Epoch 6 done: Loss = 0.423916591406373\n",
      "Epoch 7 done: Loss = 0.41018508110913005\n",
      "Epoch 8 done: Loss = 0.3983470108969807\n",
      "Epoch 9 done: Loss = 0.3874140288333053\n",
      "model training done\n"
     ]
    },
    {
     "data": {
      "text/html": [
       "<br/>Waiting for W&B process to finish, PID 61270<br/>Program ended successfully."
      ],
      "text/plain": [
       "<IPython.core.display.HTML object>"
      ]
     },
     "metadata": {},
     "output_type": "display_data"
    },
    {
     "data": {
      "application/vnd.jupyter.widget-view+json": {
       "model_id": "",
       "version_major": 2,
       "version_minor": 0
      },
      "text/plain": [
       "VBox(children=(Label(value=' 0.00MB of 0.00MB uploaded (0.00MB deduped)\\r'), FloatProgress(value=1.0, max=1.0)…"
      ]
     },
     "metadata": {},
     "output_type": "display_data"
    },
    {
     "data": {
      "text/html": [
       "Find user logs for this run at: <code>/home/krishna/iit/sem6/dl/wandb/run-20210311_150859-20edofmf/logs/debug.log</code>"
      ],
      "text/plain": [
       "<IPython.core.display.HTML object>"
      ]
     },
     "metadata": {},
     "output_type": "display_data"
    },
    {
     "data": {
      "text/html": [
       "Find internal logs for this run at: <code>/home/krishna/iit/sem6/dl/wandb/run-20210311_150859-20edofmf/logs/debug-internal.log</code>"
      ],
      "text/plain": [
       "<IPython.core.display.HTML object>"
      ]
     },
     "metadata": {},
     "output_type": "display_data"
    },
    {
     "data": {
      "text/html": [
       "<h3>Run summary:</h3><br/><style>\n",
       "    table.wandb td:nth-child(1) { padding: 0 10px; text-align: right }\n",
       "    </style><table class=\"wandb\">\n",
       "<tr><td>train accuracy</td><td>0.87815</td></tr><tr><td>validation accuracy</td><td>0.8675</td></tr><tr><td>train loss</td><td>0.38741</td></tr><tr><td>val loss</td><td>0.41289</td></tr><tr><td>_runtime</td><td>63</td></tr><tr><td>_timestamp</td><td>1615455602</td></tr><tr><td>_step</td><td>9</td></tr></table>"
      ],
      "text/plain": [
       "<IPython.core.display.HTML object>"
      ]
     },
     "metadata": {},
     "output_type": "display_data"
    },
    {
     "data": {
      "text/html": [
       "<h3>Run history:</h3><br/><style>\n",
       "    table.wandb td:nth-child(1) { padding: 0 10px; text-align: right }\n",
       "    </style><table class=\"wandb\">\n",
       "<tr><td>train accuracy</td><td>▁▄▅▆▇▇▇▇██</td></tr><tr><td>validation accuracy</td><td>▁▅▆▆▇▇▇███</td></tr><tr><td>train loss</td><td>█▅▄▃▃▂▂▂▁▁</td></tr><tr><td>val loss</td><td>█▅▃▃▂▂▂▁▁▁</td></tr><tr><td>_runtime</td><td>▁▂▃▃▄▅▆▆▇█</td></tr><tr><td>_timestamp</td><td>▁▂▃▃▄▅▆▆▇█</td></tr><tr><td>_step</td><td>▁▂▃▃▄▅▆▆▇█</td></tr></table><br/>"
      ],
      "text/plain": [
       "<IPython.core.display.HTML object>"
      ]
     },
     "metadata": {},
     "output_type": "display_data"
    },
    {
     "data": {
      "text/html": [
       "Synced 5 W&B file(s), 0 media file(s), 0 artifact file(s) and 0 other file(s)"
      ],
      "text/plain": [
       "<IPython.core.display.HTML object>"
      ]
     },
     "metadata": {},
     "output_type": "display_data"
    },
    {
     "data": {
      "text/html": [
       "\n",
       "                    <br/>Synced <strong style=\"color:#cdcd00\">hello</strong>: <a href=\"https://wandb.ai/notarchana/CS6910-A1/runs/20edofmf\" target=\"_blank\">https://wandb.ai/notarchana/CS6910-A1/runs/20edofmf</a><br/>\n",
       "                "
      ],
      "text/plain": [
       "<IPython.core.display.HTML object>"
      ]
     },
     "metadata": {},
     "output_type": "display_data"
    },
    {
     "name": "stderr",
     "output_type": "stream",
     "text": [
      "\u001b[34m\u001b[1mwandb\u001b[0m: Agent Starting Run: sc1wj516 with config:\n",
      "\u001b[34m\u001b[1mwandb\u001b[0m: \tactivation: relu\n",
      "\u001b[34m\u001b[1mwandb\u001b[0m: \tbatch_size: 16\n",
      "\u001b[34m\u001b[1mwandb\u001b[0m: \tepochs: 10\n",
      "\u001b[34m\u001b[1mwandb\u001b[0m: \thidden_layer_size: 32\n",
      "\u001b[34m\u001b[1mwandb\u001b[0m: \thidden_layers: 3\n",
      "\u001b[34m\u001b[1mwandb\u001b[0m: \tlr: 0.001\n",
      "\u001b[34m\u001b[1mwandb\u001b[0m: \toptimiser: adam\n",
      "\u001b[34m\u001b[1mwandb\u001b[0m: \tweight_decay: 0.5\n",
      "\u001b[34m\u001b[1mwandb\u001b[0m: \tweight_init: xavier\n"
     ]
    },
    {
     "data": {
      "text/html": [
       "\n",
       "                Tracking run with wandb version 0.10.22<br/>\n",
       "                Syncing run <strong style=\"color:#cdcd00\">hello</strong> to <a href=\"https://wandb.ai\" target=\"_blank\">Weights & Biases</a> <a href=\"https://docs.wandb.com/integrations/jupyter.html\" target=\"_blank\">(Documentation)</a>.<br/>\n",
       "                Project page: <a href=\"https://wandb.ai/notarchana/CS6910-A1\" target=\"_blank\">https://wandb.ai/notarchana/CS6910-A1</a><br/>\n",
       "                Sweep page: <a href=\"https://wandb.ai/notarchana/CS6910-A1/sweeps/lzmcss02\" target=\"_blank\">https://wandb.ai/notarchana/CS6910-A1/sweeps/lzmcss02</a><br/>\n",
       "Run page: <a href=\"https://wandb.ai/notarchana/CS6910-A1/runs/sc1wj516\" target=\"_blank\">https://wandb.ai/notarchana/CS6910-A1/runs/sc1wj516</a><br/>\n",
       "                Run data is saved locally in <code>/home/krishna/iit/sem6/dl/wandb/run-20210311_151009-sc1wj516</code><br/><br/>\n",
       "            "
      ],
      "text/plain": [
       "<IPython.core.display.HTML object>"
      ]
     },
     "metadata": {},
     "output_type": "display_data"
    },
    {
     "name": "stderr",
     "output_type": "stream",
     "text": [
      "\u001b[34m\u001b[1mwandb\u001b[0m: \u001b[33mWARNING\u001b[0m Calling run.save without any arguments is deprecated.Changes to attributes are automatically persisted.\n"
     ]
    },
    {
     "name": "stdout",
     "output_type": "stream",
     "text": [
      "model building done\n",
      "Epoch 0 done: Loss = 2.259874390213776\n",
      "Epoch 1 done: Loss = 2.2597413946812295\n",
      "Epoch 2 done: Loss = 2.265670802872322\n",
      "Epoch 3 done: Loss = 2.260033469354092\n",
      "Epoch 4 done: Loss = 2.2529349482969736\n",
      "Epoch 5 done: Loss = 2.248877512735202\n",
      "Epoch 6 done: Loss = 2.2434885794237363\n",
      "Epoch 7 done: Loss = 2.236719509068076\n",
      "Epoch 8 done: Loss = 2.23543186534922\n",
      "Epoch 9 done: Loss = 2.2320277566595723\n",
      "model training done\n"
     ]
    },
    {
     "data": {
      "text/html": [
       "<br/>Waiting for W&B process to finish, PID 61314<br/>Program ended successfully."
      ],
      "text/plain": [
       "<IPython.core.display.HTML object>"
      ]
     },
     "metadata": {},
     "output_type": "display_data"
    },
    {
     "data": {
      "application/vnd.jupyter.widget-view+json": {
       "model_id": "",
       "version_major": 2,
       "version_minor": 0
      },
      "text/plain": [
       "VBox(children=(Label(value=' 0.00MB of 0.00MB uploaded (0.00MB deduped)\\r'), FloatProgress(value=1.0, max=1.0)…"
      ]
     },
     "metadata": {},
     "output_type": "display_data"
    },
    {
     "data": {
      "text/html": [
       "Find user logs for this run at: <code>/home/krishna/iit/sem6/dl/wandb/run-20210311_151009-sc1wj516/logs/debug.log</code>"
      ],
      "text/plain": [
       "<IPython.core.display.HTML object>"
      ]
     },
     "metadata": {},
     "output_type": "display_data"
    },
    {
     "data": {
      "text/html": [
       "Find internal logs for this run at: <code>/home/krishna/iit/sem6/dl/wandb/run-20210311_151009-sc1wj516/logs/debug-internal.log</code>"
      ],
      "text/plain": [
       "<IPython.core.display.HTML object>"
      ]
     },
     "metadata": {},
     "output_type": "display_data"
    },
    {
     "data": {
      "text/html": [
       "<h3>Run summary:</h3><br/><style>\n",
       "    table.wandb td:nth-child(1) { padding: 0 10px; text-align: right }\n",
       "    </style><table class=\"wandb\">\n",
       "<tr><td>train accuracy</td><td>0.78415</td></tr><tr><td>validation accuracy</td><td>0.77542</td></tr><tr><td>train loss</td><td>2.23203</td></tr><tr><td>val loss</td><td>2.25285</td></tr><tr><td>_runtime</td><td>50</td></tr><tr><td>_timestamp</td><td>1615455659</td></tr><tr><td>_step</td><td>9</td></tr></table>"
      ],
      "text/plain": [
       "<IPython.core.display.HTML object>"
      ]
     },
     "metadata": {},
     "output_type": "display_data"
    },
    {
     "data": {
      "text/html": [
       "<h3>Run history:</h3><br/><style>\n",
       "    table.wandb td:nth-child(1) { padding: 0 10px; text-align: right }\n",
       "    </style><table class=\"wandb\">\n",
       "<tr><td>train accuracy</td><td>▁▄▅▆▆▇▇▇██</td></tr><tr><td>validation accuracy</td><td>▁▄▅▆▇▇█▇██</td></tr><tr><td>train loss</td><td>▇▇█▇▅▅▃▂▂▁</td></tr><tr><td>val loss</td><td>▄▆█▇▅▄▃▂▂▁</td></tr><tr><td>_runtime</td><td>▁▁▂▃▄▅▆▆▇█</td></tr><tr><td>_timestamp</td><td>▁▁▂▃▄▅▆▆▇█</td></tr><tr><td>_step</td><td>▁▂▃▃▄▅▆▆▇█</td></tr></table><br/>"
      ],
      "text/plain": [
       "<IPython.core.display.HTML object>"
      ]
     },
     "metadata": {},
     "output_type": "display_data"
    },
    {
     "data": {
      "text/html": [
       "Synced 5 W&B file(s), 0 media file(s), 0 artifact file(s) and 0 other file(s)"
      ],
      "text/plain": [
       "<IPython.core.display.HTML object>"
      ]
     },
     "metadata": {},
     "output_type": "display_data"
    },
    {
     "data": {
      "text/html": [
       "\n",
       "                    <br/>Synced <strong style=\"color:#cdcd00\">hello</strong>: <a href=\"https://wandb.ai/notarchana/CS6910-A1/runs/sc1wj516\" target=\"_blank\">https://wandb.ai/notarchana/CS6910-A1/runs/sc1wj516</a><br/>\n",
       "                "
      ],
      "text/plain": [
       "<IPython.core.display.HTML object>"
      ]
     },
     "metadata": {},
     "output_type": "display_data"
    },
    {
     "name": "stderr",
     "output_type": "stream",
     "text": [
      "\u001b[34m\u001b[1mwandb\u001b[0m: Agent Starting Run: hg86s9ie with config:\n",
      "\u001b[34m\u001b[1mwandb\u001b[0m: \tactivation: relu\n",
      "\u001b[34m\u001b[1mwandb\u001b[0m: \tbatch_size: 64\n",
      "\u001b[34m\u001b[1mwandb\u001b[0m: \tepochs: 10\n",
      "\u001b[34m\u001b[1mwandb\u001b[0m: \thidden_layer_size: 64\n",
      "\u001b[34m\u001b[1mwandb\u001b[0m: \thidden_layers: 4\n",
      "\u001b[34m\u001b[1mwandb\u001b[0m: \tlr: 0.001\n",
      "\u001b[34m\u001b[1mwandb\u001b[0m: \toptimiser: nesterov\n",
      "\u001b[34m\u001b[1mwandb\u001b[0m: \tweight_decay: 0.0005\n",
      "\u001b[34m\u001b[1mwandb\u001b[0m: \tweight_init: xavier\n"
     ]
    },
    {
     "data": {
      "text/html": [
       "\n",
       "                Tracking run with wandb version 0.10.22<br/>\n",
       "                Syncing run <strong style=\"color:#cdcd00\">hello</strong> to <a href=\"https://wandb.ai\" target=\"_blank\">Weights & Biases</a> <a href=\"https://docs.wandb.com/integrations/jupyter.html\" target=\"_blank\">(Documentation)</a>.<br/>\n",
       "                Project page: <a href=\"https://wandb.ai/notarchana/CS6910-A1\" target=\"_blank\">https://wandb.ai/notarchana/CS6910-A1</a><br/>\n",
       "                Sweep page: <a href=\"https://wandb.ai/notarchana/CS6910-A1/sweeps/lzmcss02\" target=\"_blank\">https://wandb.ai/notarchana/CS6910-A1/sweeps/lzmcss02</a><br/>\n",
       "Run page: <a href=\"https://wandb.ai/notarchana/CS6910-A1/runs/hg86s9ie\" target=\"_blank\">https://wandb.ai/notarchana/CS6910-A1/runs/hg86s9ie</a><br/>\n",
       "                Run data is saved locally in <code>/home/krishna/iit/sem6/dl/wandb/run-20210311_151110-hg86s9ie</code><br/><br/>\n",
       "            "
      ],
      "text/plain": [
       "<IPython.core.display.HTML object>"
      ]
     },
     "metadata": {},
     "output_type": "display_data"
    },
    {
     "name": "stderr",
     "output_type": "stream",
     "text": [
      "\u001b[34m\u001b[1mwandb\u001b[0m: \u001b[33mWARNING\u001b[0m Calling run.save without any arguments is deprecated.Changes to attributes are automatically persisted.\n"
     ]
    },
    {
     "name": "stdout",
     "output_type": "stream",
     "text": [
      "model building done\n",
      "Epoch 0 done: Loss = 1.9597765365075814\n",
      "Epoch 1 done: Loss = 1.4403939032810091\n",
      "Epoch 2 done: Loss = 0.7583521628480436\n",
      "Epoch 3 done: Loss = 0.6950449864715009\n",
      "Epoch 4 done: Loss = 0.6434931036018536\n",
      "Epoch 5 done: Loss = 0.603977501192512\n",
      "Epoch 6 done: Loss = 0.5772194916466363\n",
      "Epoch 7 done: Loss = 0.55713006655995\n",
      "Epoch 8 done: Loss = 0.5417502706741634\n",
      "Epoch 9 done: Loss = 0.52948839108494\n",
      "model training done\n"
     ]
    },
    {
     "data": {
      "text/html": [
       "<br/>Waiting for W&B process to finish, PID 61352<br/>Program ended successfully."
      ],
      "text/plain": [
       "<IPython.core.display.HTML object>"
      ]
     },
     "metadata": {},
     "output_type": "display_data"
    },
    {
     "data": {
      "application/vnd.jupyter.widget-view+json": {
       "model_id": "",
       "version_major": 2,
       "version_minor": 0
      },
      "text/plain": [
       "VBox(children=(Label(value=' 0.00MB of 0.00MB uploaded (0.00MB deduped)\\r'), FloatProgress(value=1.0, max=1.0)…"
      ]
     },
     "metadata": {},
     "output_type": "display_data"
    },
    {
     "data": {
      "text/html": [
       "Find user logs for this run at: <code>/home/krishna/iit/sem6/dl/wandb/run-20210311_151110-hg86s9ie/logs/debug.log</code>"
      ],
      "text/plain": [
       "<IPython.core.display.HTML object>"
      ]
     },
     "metadata": {},
     "output_type": "display_data"
    },
    {
     "data": {
      "text/html": [
       "Find internal logs for this run at: <code>/home/krishna/iit/sem6/dl/wandb/run-20210311_151110-hg86s9ie/logs/debug-internal.log</code>"
      ],
      "text/plain": [
       "<IPython.core.display.HTML object>"
      ]
     },
     "metadata": {},
     "output_type": "display_data"
    },
    {
     "data": {
      "text/html": [
       "<h3>Run summary:</h3><br/><style>\n",
       "    table.wandb td:nth-child(1) { padding: 0 10px; text-align: right }\n",
       "    </style><table class=\"wandb\">\n",
       "<tr><td>train accuracy</td><td>0.83454</td></tr><tr><td>validation accuracy</td><td>0.834</td></tr><tr><td>train loss</td><td>0.52949</td></tr><tr><td>val loss</td><td>0.52123</td></tr><tr><td>_runtime</td><td>23</td></tr><tr><td>_timestamp</td><td>1615455693</td></tr><tr><td>_step</td><td>9</td></tr></table>"
      ],
      "text/plain": [
       "<IPython.core.display.HTML object>"
      ]
     },
     "metadata": {},
     "output_type": "display_data"
    },
    {
     "data": {
      "text/html": [
       "<h3>Run history:</h3><br/><style>\n",
       "    table.wandb td:nth-child(1) { padding: 0 10px; text-align: right }\n",
       "    </style><table class=\"wandb\">\n",
       "<tr><td>train accuracy</td><td>▁▄▅▆▇▇████</td></tr><tr><td>validation accuracy</td><td>▁▄▅▆▇▇████</td></tr><tr><td>train loss</td><td>█▅▂▂▂▁▁▁▁▁</td></tr><tr><td>val loss</td><td>█▅▂▂▂▁▁▁▁▁</td></tr><tr><td>_runtime</td><td>▁▂▂▃▄▅▆▇▇█</td></tr><tr><td>_timestamp</td><td>▁▂▂▃▄▅▆▇▇█</td></tr><tr><td>_step</td><td>▁▂▃▃▄▅▆▆▇█</td></tr></table><br/>"
      ],
      "text/plain": [
       "<IPython.core.display.HTML object>"
      ]
     },
     "metadata": {},
     "output_type": "display_data"
    },
    {
     "data": {
      "text/html": [
       "Synced 5 W&B file(s), 0 media file(s), 0 artifact file(s) and 0 other file(s)"
      ],
      "text/plain": [
       "<IPython.core.display.HTML object>"
      ]
     },
     "metadata": {},
     "output_type": "display_data"
    },
    {
     "data": {
      "text/html": [
       "\n",
       "                    <br/>Synced <strong style=\"color:#cdcd00\">hello</strong>: <a href=\"https://wandb.ai/notarchana/CS6910-A1/runs/hg86s9ie\" target=\"_blank\">https://wandb.ai/notarchana/CS6910-A1/runs/hg86s9ie</a><br/>\n",
       "                "
      ],
      "text/plain": [
       "<IPython.core.display.HTML object>"
      ]
     },
     "metadata": {},
     "output_type": "display_data"
    },
    {
     "name": "stderr",
     "output_type": "stream",
     "text": [
      "\u001b[34m\u001b[1mwandb\u001b[0m: Agent Starting Run: puk3l49b with config:\n",
      "\u001b[34m\u001b[1mwandb\u001b[0m: \tactivation: sigmoid\n",
      "\u001b[34m\u001b[1mwandb\u001b[0m: \tbatch_size: 16\n",
      "\u001b[34m\u001b[1mwandb\u001b[0m: \tepochs: 10\n",
      "\u001b[34m\u001b[1mwandb\u001b[0m: \thidden_layer_size: 64\n",
      "\u001b[34m\u001b[1mwandb\u001b[0m: \thidden_layers: 4\n",
      "\u001b[34m\u001b[1mwandb\u001b[0m: \tlr: 0.001\n",
      "\u001b[34m\u001b[1mwandb\u001b[0m: \toptimiser: nadam\n",
      "\u001b[34m\u001b[1mwandb\u001b[0m: \tweight_decay: 0.5\n",
      "\u001b[34m\u001b[1mwandb\u001b[0m: \tweight_init: xavier\n"
     ]
    },
    {
     "data": {
      "text/html": [
       "\n",
       "                Tracking run with wandb version 0.10.22<br/>\n",
       "                Syncing run <strong style=\"color:#cdcd00\">hello</strong> to <a href=\"https://wandb.ai\" target=\"_blank\">Weights & Biases</a> <a href=\"https://docs.wandb.com/integrations/jupyter.html\" target=\"_blank\">(Documentation)</a>.<br/>\n",
       "                Project page: <a href=\"https://wandb.ai/notarchana/CS6910-A1\" target=\"_blank\">https://wandb.ai/notarchana/CS6910-A1</a><br/>\n",
       "                Sweep page: <a href=\"https://wandb.ai/notarchana/CS6910-A1/sweeps/lzmcss02\" target=\"_blank\">https://wandb.ai/notarchana/CS6910-A1/sweeps/lzmcss02</a><br/>\n",
       "Run page: <a href=\"https://wandb.ai/notarchana/CS6910-A1/runs/puk3l49b\" target=\"_blank\">https://wandb.ai/notarchana/CS6910-A1/runs/puk3l49b</a><br/>\n",
       "                Run data is saved locally in <code>/home/krishna/iit/sem6/dl/wandb/run-20210311_151140-puk3l49b</code><br/><br/>\n",
       "            "
      ],
      "text/plain": [
       "<IPython.core.display.HTML object>"
      ]
     },
     "metadata": {},
     "output_type": "display_data"
    },
    {
     "name": "stderr",
     "output_type": "stream",
     "text": [
      "\u001b[34m\u001b[1mwandb\u001b[0m: \u001b[33mWARNING\u001b[0m Calling run.save without any arguments is deprecated.Changes to attributes are automatically persisted.\n"
     ]
    },
    {
     "name": "stdout",
     "output_type": "stream",
     "text": [
      "model building done\n",
      "Epoch 0 done: Loss = 0.8449482921528426\n",
      "Epoch 1 done: Loss = 0.6568720543171621\n",
      "Epoch 2 done: Loss = 0.5695935792939295\n",
      "Epoch 3 done: Loss = 0.5201776971876154\n",
      "Epoch 4 done: Loss = 0.4965642623924279\n",
      "Epoch 5 done: Loss = 0.48064745038169826\n",
      "Epoch 6 done: Loss = 0.46785065905740686\n",
      "Epoch 7 done: Loss = 0.4569497558055227\n",
      "Epoch 8 done: Loss = 0.4469150390611613\n",
      "Epoch 9 done: Loss = 0.4371806646493911\n",
      "model training done\n"
     ]
    },
    {
     "data": {
      "text/html": [
       "<br/>Waiting for W&B process to finish, PID 61383<br/>Program ended successfully."
      ],
      "text/plain": [
       "<IPython.core.display.HTML object>"
      ]
     },
     "metadata": {},
     "output_type": "display_data"
    },
    {
     "data": {
      "application/vnd.jupyter.widget-view+json": {
       "model_id": "",
       "version_major": 2,
       "version_minor": 0
      },
      "text/plain": [
       "VBox(children=(Label(value=' 0.00MB of 0.00MB uploaded (0.00MB deduped)\\r'), FloatProgress(value=1.0, max=1.0)…"
      ]
     },
     "metadata": {},
     "output_type": "display_data"
    },
    {
     "data": {
      "text/html": [
       "Find user logs for this run at: <code>/home/krishna/iit/sem6/dl/wandb/run-20210311_151140-puk3l49b/logs/debug.log</code>"
      ],
      "text/plain": [
       "<IPython.core.display.HTML object>"
      ]
     },
     "metadata": {},
     "output_type": "display_data"
    },
    {
     "data": {
      "text/html": [
       "Find internal logs for this run at: <code>/home/krishna/iit/sem6/dl/wandb/run-20210311_151140-puk3l49b/logs/debug-internal.log</code>"
      ],
      "text/plain": [
       "<IPython.core.display.HTML object>"
      ]
     },
     "metadata": {},
     "output_type": "display_data"
    },
    {
     "data": {
      "text/html": [
       "<h3>Run summary:</h3><br/><style>\n",
       "    table.wandb td:nth-child(1) { padding: 0 10px; text-align: right }\n",
       "    </style><table class=\"wandb\">\n",
       "<tr><td>train accuracy</td><td>0.87058</td></tr><tr><td>validation accuracy</td><td>0.86</td></tr><tr><td>train loss</td><td>0.43718</td></tr><tr><td>val loss</td><td>0.46605</td></tr><tr><td>_runtime</td><td>68</td></tr><tr><td>_timestamp</td><td>1615455768</td></tr><tr><td>_step</td><td>9</td></tr></table>"
      ],
      "text/plain": [
       "<IPython.core.display.HTML object>"
      ]
     },
     "metadata": {},
     "output_type": "display_data"
    },
    {
     "data": {
      "text/html": [
       "<h3>Run history:</h3><br/><style>\n",
       "    table.wandb td:nth-child(1) { padding: 0 10px; text-align: right }\n",
       "    </style><table class=\"wandb\">\n",
       "<tr><td>train accuracy</td><td>▁▃▅▆▇▇▇███</td></tr><tr><td>validation accuracy</td><td>▁▃▅▇▇▇████</td></tr><tr><td>train loss</td><td>█▅▃▂▂▂▂▁▁▁</td></tr><tr><td>val loss</td><td>█▅▃▂▂▂▁▁▁▁</td></tr><tr><td>_runtime</td><td>▁▂▃▃▄▅▆▆▇█</td></tr><tr><td>_timestamp</td><td>▁▂▃▃▄▅▆▆▇█</td></tr><tr><td>_step</td><td>▁▂▃▃▄▅▆▆▇█</td></tr></table><br/>"
      ],
      "text/plain": [
       "<IPython.core.display.HTML object>"
      ]
     },
     "metadata": {},
     "output_type": "display_data"
    },
    {
     "data": {
      "text/html": [
       "Synced 5 W&B file(s), 0 media file(s), 0 artifact file(s) and 0 other file(s)"
      ],
      "text/plain": [
       "<IPython.core.display.HTML object>"
      ]
     },
     "metadata": {},
     "output_type": "display_data"
    },
    {
     "data": {
      "text/html": [
       "\n",
       "                    <br/>Synced <strong style=\"color:#cdcd00\">hello</strong>: <a href=\"https://wandb.ai/notarchana/CS6910-A1/runs/puk3l49b\" target=\"_blank\">https://wandb.ai/notarchana/CS6910-A1/runs/puk3l49b</a><br/>\n",
       "                "
      ],
      "text/plain": [
       "<IPython.core.display.HTML object>"
      ]
     },
     "metadata": {},
     "output_type": "display_data"
    },
    {
     "name": "stderr",
     "output_type": "stream",
     "text": [
      "\u001b[34m\u001b[1mwandb\u001b[0m: Agent Starting Run: yvymjmuk with config:\n",
      "\u001b[34m\u001b[1mwandb\u001b[0m: \tactivation: relu\n",
      "\u001b[34m\u001b[1mwandb\u001b[0m: \tbatch_size: 64\n",
      "\u001b[34m\u001b[1mwandb\u001b[0m: \tepochs: 10\n",
      "\u001b[34m\u001b[1mwandb\u001b[0m: \thidden_layer_size: 128\n",
      "\u001b[34m\u001b[1mwandb\u001b[0m: \thidden_layers: 5\n",
      "\u001b[34m\u001b[1mwandb\u001b[0m: \tlr: 0.001\n",
      "\u001b[34m\u001b[1mwandb\u001b[0m: \toptimiser: nadam\n",
      "\u001b[34m\u001b[1mwandb\u001b[0m: \tweight_decay: 0\n",
      "\u001b[34m\u001b[1mwandb\u001b[0m: \tweight_init: xavier\n"
     ]
    },
    {
     "data": {
      "text/html": [
       "\n",
       "                Tracking run with wandb version 0.10.22<br/>\n",
       "                Syncing run <strong style=\"color:#cdcd00\">hello</strong> to <a href=\"https://wandb.ai\" target=\"_blank\">Weights & Biases</a> <a href=\"https://docs.wandb.com/integrations/jupyter.html\" target=\"_blank\">(Documentation)</a>.<br/>\n",
       "                Project page: <a href=\"https://wandb.ai/notarchana/CS6910-A1\" target=\"_blank\">https://wandb.ai/notarchana/CS6910-A1</a><br/>\n",
       "                Sweep page: <a href=\"https://wandb.ai/notarchana/CS6910-A1/sweeps/lzmcss02\" target=\"_blank\">https://wandb.ai/notarchana/CS6910-A1/sweeps/lzmcss02</a><br/>\n",
       "Run page: <a href=\"https://wandb.ai/notarchana/CS6910-A1/runs/yvymjmuk\" target=\"_blank\">https://wandb.ai/notarchana/CS6910-A1/runs/yvymjmuk</a><br/>\n",
       "                Run data is saved locally in <code>/home/krishna/iit/sem6/dl/wandb/run-20210311_151255-yvymjmuk</code><br/><br/>\n",
       "            "
      ],
      "text/plain": [
       "<IPython.core.display.HTML object>"
      ]
     },
     "metadata": {},
     "output_type": "display_data"
    },
    {
     "name": "stderr",
     "output_type": "stream",
     "text": [
      "\u001b[34m\u001b[1mwandb\u001b[0m: \u001b[33mWARNING\u001b[0m Calling run.save without any arguments is deprecated.Changes to attributes are automatically persisted.\n"
     ]
    },
    {
     "name": "stdout",
     "output_type": "stream",
     "text": [
      "model building done\n",
      "Epoch 0 done: Loss = 2.1416142167471883\n",
      "Epoch 1 done: Loss = 2.0779761766530944\n",
      "Epoch 2 done: Loss = 2.061303733963755\n",
      "Epoch 3 done: Loss = 2.0590732249354713\n",
      "Epoch 4 done: Loss = 2.0417336605662286\n",
      "Epoch 5 done: Loss = 2.0085086331060182\n",
      "Epoch 6 done: Loss = 1.9771368604979869\n",
      "Epoch 7 done: Loss = 1.9694093100732541\n",
      "Epoch 8 done: Loss = 1.9528855615078888\n",
      "Epoch 9 done: Loss = 1.9119022829543502\n",
      "model training done\n"
     ]
    },
    {
     "data": {
      "text/html": [
       "<br/>Waiting for W&B process to finish, PID 61421<br/>Program ended successfully."
      ],
      "text/plain": [
       "<IPython.core.display.HTML object>"
      ]
     },
     "metadata": {},
     "output_type": "display_data"
    },
    {
     "data": {
      "application/vnd.jupyter.widget-view+json": {
       "model_id": "",
       "version_major": 2,
       "version_minor": 0
      },
      "text/plain": [
       "VBox(children=(Label(value=' 0.00MB of 0.00MB uploaded (0.00MB deduped)\\r'), FloatProgress(value=1.0, max=1.0)…"
      ]
     },
     "metadata": {},
     "output_type": "display_data"
    },
    {
     "data": {
      "text/html": [
       "Find user logs for this run at: <code>/home/krishna/iit/sem6/dl/wandb/run-20210311_151255-yvymjmuk/logs/debug.log</code>"
      ],
      "text/plain": [
       "<IPython.core.display.HTML object>"
      ]
     },
     "metadata": {},
     "output_type": "display_data"
    },
    {
     "data": {
      "text/html": [
       "Find internal logs for this run at: <code>/home/krishna/iit/sem6/dl/wandb/run-20210311_151255-yvymjmuk/logs/debug-internal.log</code>"
      ],
      "text/plain": [
       "<IPython.core.display.HTML object>"
      ]
     },
     "metadata": {},
     "output_type": "display_data"
    },
    {
     "data": {
      "text/html": [
       "<h3>Run summary:</h3><br/><style>\n",
       "    table.wandb td:nth-child(1) { padding: 0 10px; text-align: right }\n",
       "    </style><table class=\"wandb\">\n",
       "<tr><td>train accuracy</td><td>0.804</td></tr><tr><td>validation accuracy</td><td>0.7905</td></tr><tr><td>train loss</td><td>1.9119</td></tr><tr><td>val loss</td><td>1.9252</td></tr><tr><td>_runtime</td><td>59</td></tr><tr><td>_timestamp</td><td>1615455834</td></tr><tr><td>_step</td><td>9</td></tr></table>"
      ],
      "text/plain": [
       "<IPython.core.display.HTML object>"
      ]
     },
     "metadata": {},
     "output_type": "display_data"
    },
    {
     "data": {
      "text/html": [
       "<h3>Run history:</h3><br/><style>\n",
       "    table.wandb td:nth-child(1) { padding: 0 10px; text-align: right }\n",
       "    </style><table class=\"wandb\">\n",
       "<tr><td>train accuracy</td><td>▁▄▅▆▆▇▇▇██</td></tr><tr><td>validation accuracy</td><td>▁▄▅▆▆▇▇▇██</td></tr><tr><td>train loss</td><td>█▆▆▅▅▄▃▃▂▁</td></tr><tr><td>val loss</td><td>█▆▅▅▅▄▃▃▂▁</td></tr><tr><td>_runtime</td><td>▁▂▂▃▄▅▅▆▇█</td></tr><tr><td>_timestamp</td><td>▁▂▂▃▄▅▅▆▇█</td></tr><tr><td>_step</td><td>▁▂▃▃▄▅▆▆▇█</td></tr></table><br/>"
      ],
      "text/plain": [
       "<IPython.core.display.HTML object>"
      ]
     },
     "metadata": {},
     "output_type": "display_data"
    },
    {
     "data": {
      "text/html": [
       "Synced 5 W&B file(s), 0 media file(s), 0 artifact file(s) and 0 other file(s)"
      ],
      "text/plain": [
       "<IPython.core.display.HTML object>"
      ]
     },
     "metadata": {},
     "output_type": "display_data"
    },
    {
     "data": {
      "text/html": [
       "\n",
       "                    <br/>Synced <strong style=\"color:#cdcd00\">hello</strong>: <a href=\"https://wandb.ai/notarchana/CS6910-A1/runs/yvymjmuk\" target=\"_blank\">https://wandb.ai/notarchana/CS6910-A1/runs/yvymjmuk</a><br/>\n",
       "                "
      ],
      "text/plain": [
       "<IPython.core.display.HTML object>"
      ]
     },
     "metadata": {},
     "output_type": "display_data"
    },
    {
     "name": "stderr",
     "output_type": "stream",
     "text": [
      "\u001b[34m\u001b[1mwandb\u001b[0m: Sweep Agent: Waiting for job.\n",
      "\u001b[34m\u001b[1mwandb\u001b[0m: Job received.\n",
      "\u001b[34m\u001b[1mwandb\u001b[0m: Agent Starting Run: quil0thl with config:\n",
      "\u001b[34m\u001b[1mwandb\u001b[0m: \tactivation: relu\n",
      "\u001b[34m\u001b[1mwandb\u001b[0m: \tbatch_size: 16\n",
      "\u001b[34m\u001b[1mwandb\u001b[0m: \tepochs: 10\n",
      "\u001b[34m\u001b[1mwandb\u001b[0m: \thidden_layer_size: 128\n",
      "\u001b[34m\u001b[1mwandb\u001b[0m: \thidden_layers: 3\n",
      "\u001b[34m\u001b[1mwandb\u001b[0m: \tlr: 0.001\n",
      "\u001b[34m\u001b[1mwandb\u001b[0m: \toptimiser: rmsprop\n",
      "\u001b[34m\u001b[1mwandb\u001b[0m: \tweight_decay: 0\n",
      "\u001b[34m\u001b[1mwandb\u001b[0m: \tweight_init: xavier\n"
     ]
    },
    {
     "data": {
      "text/html": [
       "\n",
       "                Tracking run with wandb version 0.10.22<br/>\n",
       "                Syncing run <strong style=\"color:#cdcd00\">hello</strong> to <a href=\"https://wandb.ai\" target=\"_blank\">Weights & Biases</a> <a href=\"https://docs.wandb.com/integrations/jupyter.html\" target=\"_blank\">(Documentation)</a>.<br/>\n",
       "                Project page: <a href=\"https://wandb.ai/notarchana/CS6910-A1\" target=\"_blank\">https://wandb.ai/notarchana/CS6910-A1</a><br/>\n",
       "                Sweep page: <a href=\"https://wandb.ai/notarchana/CS6910-A1/sweeps/lzmcss02\" target=\"_blank\">https://wandb.ai/notarchana/CS6910-A1/sweeps/lzmcss02</a><br/>\n",
       "Run page: <a href=\"https://wandb.ai/notarchana/CS6910-A1/runs/quil0thl\" target=\"_blank\">https://wandb.ai/notarchana/CS6910-A1/runs/quil0thl</a><br/>\n",
       "                Run data is saved locally in <code>/home/krishna/iit/sem6/dl/wandb/run-20210311_151420-quil0thl</code><br/><br/>\n",
       "            "
      ],
      "text/plain": [
       "<IPython.core.display.HTML object>"
      ]
     },
     "metadata": {},
     "output_type": "display_data"
    },
    {
     "name": "stderr",
     "output_type": "stream",
     "text": [
      "\u001b[34m\u001b[1mwandb\u001b[0m: \u001b[33mWARNING\u001b[0m Calling run.save without any arguments is deprecated.Changes to attributes are automatically persisted.\n"
     ]
    },
    {
     "name": "stdout",
     "output_type": "stream",
     "text": [
      "model building done\n",
      "Epoch 0 done: Loss = 0.5113077720545209\n",
      "Epoch 1 done: Loss = 0.4682556059653499\n",
      "Epoch 2 done: Loss = 0.47165707257572337\n",
      "Epoch 3 done: Loss = 0.5788990121236801\n",
      "Epoch 4 done: Loss = 0.557699333456731\n",
      "Epoch 5 done: Loss = 0.5501050306702269\n",
      "Epoch 6 done: Loss = 0.469836130364584\n",
      "Epoch 7 done: Loss = 0.6040205298238178\n",
      "Epoch 8 done: Loss = 0.6067083699656528\n",
      "Epoch 9 done: Loss = 0.5727233226478631\n",
      "model training done\n"
     ]
    },
    {
     "data": {
      "text/html": [
       "<br/>Waiting for W&B process to finish, PID 61457<br/>Program ended successfully."
      ],
      "text/plain": [
       "<IPython.core.display.HTML object>"
      ]
     },
     "metadata": {},
     "output_type": "display_data"
    },
    {
     "data": {
      "application/vnd.jupyter.widget-view+json": {
       "model_id": "",
       "version_major": 2,
       "version_minor": 0
      },
      "text/plain": [
       "VBox(children=(Label(value=' 0.00MB of 0.00MB uploaded (0.00MB deduped)\\r'), FloatProgress(value=1.0, max=1.0)…"
      ]
     },
     "metadata": {},
     "output_type": "display_data"
    },
    {
     "data": {
      "text/html": [
       "Find user logs for this run at: <code>/home/krishna/iit/sem6/dl/wandb/run-20210311_151420-quil0thl/logs/debug.log</code>"
      ],
      "text/plain": [
       "<IPython.core.display.HTML object>"
      ]
     },
     "metadata": {},
     "output_type": "display_data"
    },
    {
     "data": {
      "text/html": [
       "Find internal logs for this run at: <code>/home/krishna/iit/sem6/dl/wandb/run-20210311_151420-quil0thl/logs/debug-internal.log</code>"
      ],
      "text/plain": [
       "<IPython.core.display.HTML object>"
      ]
     },
     "metadata": {},
     "output_type": "display_data"
    },
    {
     "data": {
      "text/html": [
       "<h3>Run summary:</h3><br/><style>\n",
       "    table.wandb td:nth-child(1) { padding: 0 10px; text-align: right }\n",
       "    </style><table class=\"wandb\">\n",
       "<tr><td>train accuracy</td><td>0.89744</td></tr><tr><td>validation accuracy</td><td>0.88133</td></tr><tr><td>train loss</td><td>0.57272</td></tr><tr><td>val loss</td><td>0.67352</td></tr><tr><td>_runtime</td><td>75</td></tr><tr><td>_timestamp</td><td>1615455936</td></tr><tr><td>_step</td><td>9</td></tr></table>"
      ],
      "text/plain": [
       "<IPython.core.display.HTML object>"
      ]
     },
     "metadata": {},
     "output_type": "display_data"
    },
    {
     "data": {
      "text/html": [
       "<h3>Run history:</h3><br/><style>\n",
       "    table.wandb td:nth-child(1) { padding: 0 10px; text-align: right }\n",
       "    </style><table class=\"wandb\">\n",
       "<tr><td>train accuracy</td><td>▁▄▅▄▆▆█▅██</td></tr><tr><td>validation accuracy</td><td>▁▄▅▄▇▆█▄▇█</td></tr><tr><td>train loss</td><td>▃▁▁▇▆▅▁██▆</td></tr><tr><td>val loss</td><td>▂▁▁▆▅▅▂▇█▇</td></tr><tr><td>_runtime</td><td>▁▂▂▃▄▅▆▆▇█</td></tr><tr><td>_timestamp</td><td>▁▂▂▃▄▅▆▆▇█</td></tr><tr><td>_step</td><td>▁▂▃▃▄▅▆▆▇█</td></tr></table><br/>"
      ],
      "text/plain": [
       "<IPython.core.display.HTML object>"
      ]
     },
     "metadata": {},
     "output_type": "display_data"
    },
    {
     "data": {
      "text/html": [
       "Synced 5 W&B file(s), 0 media file(s), 0 artifact file(s) and 0 other file(s)"
      ],
      "text/plain": [
       "<IPython.core.display.HTML object>"
      ]
     },
     "metadata": {},
     "output_type": "display_data"
    },
    {
     "data": {
      "text/html": [
       "\n",
       "                    <br/>Synced <strong style=\"color:#cdcd00\">hello</strong>: <a href=\"https://wandb.ai/notarchana/CS6910-A1/runs/quil0thl\" target=\"_blank\">https://wandb.ai/notarchana/CS6910-A1/runs/quil0thl</a><br/>\n",
       "                "
      ],
      "text/plain": [
       "<IPython.core.display.HTML object>"
      ]
     },
     "metadata": {},
     "output_type": "display_data"
    },
    {
     "name": "stderr",
     "output_type": "stream",
     "text": [
      "\u001b[34m\u001b[1mwandb\u001b[0m: Agent Starting Run: jx0alnas with config:\n",
      "\u001b[34m\u001b[1mwandb\u001b[0m: \tactivation: tanh\n",
      "\u001b[34m\u001b[1mwandb\u001b[0m: \tbatch_size: 32\n",
      "\u001b[34m\u001b[1mwandb\u001b[0m: \tepochs: 10\n",
      "\u001b[34m\u001b[1mwandb\u001b[0m: \thidden_layer_size: 128\n",
      "\u001b[34m\u001b[1mwandb\u001b[0m: \thidden_layers: 3\n",
      "\u001b[34m\u001b[1mwandb\u001b[0m: \tlr: 0.001\n",
      "\u001b[34m\u001b[1mwandb\u001b[0m: \toptimiser: nesterov\n",
      "\u001b[34m\u001b[1mwandb\u001b[0m: \tweight_decay: 0\n",
      "\u001b[34m\u001b[1mwandb\u001b[0m: \tweight_init: xavier\n"
     ]
    },
    {
     "data": {
      "text/html": [
       "\n",
       "                Tracking run with wandb version 0.10.22<br/>\n",
       "                Syncing run <strong style=\"color:#cdcd00\">hello</strong> to <a href=\"https://wandb.ai\" target=\"_blank\">Weights & Biases</a> <a href=\"https://docs.wandb.com/integrations/jupyter.html\" target=\"_blank\">(Documentation)</a>.<br/>\n",
       "                Project page: <a href=\"https://wandb.ai/notarchana/CS6910-A1\" target=\"_blank\">https://wandb.ai/notarchana/CS6910-A1</a><br/>\n",
       "                Sweep page: <a href=\"https://wandb.ai/notarchana/CS6910-A1/sweeps/lzmcss02\" target=\"_blank\">https://wandb.ai/notarchana/CS6910-A1/sweeps/lzmcss02</a><br/>\n",
       "Run page: <a href=\"https://wandb.ai/notarchana/CS6910-A1/runs/jx0alnas\" target=\"_blank\">https://wandb.ai/notarchana/CS6910-A1/runs/jx0alnas</a><br/>\n",
       "                Run data is saved locally in <code>/home/krishna/iit/sem6/dl/wandb/run-20210311_151543-jx0alnas</code><br/><br/>\n",
       "            "
      ],
      "text/plain": [
       "<IPython.core.display.HTML object>"
      ]
     },
     "metadata": {},
     "output_type": "display_data"
    },
    {
     "name": "stderr",
     "output_type": "stream",
     "text": [
      "\u001b[34m\u001b[1mwandb\u001b[0m: \u001b[33mWARNING\u001b[0m Calling run.save without any arguments is deprecated.Changes to attributes are automatically persisted.\n"
     ]
    },
    {
     "name": "stdout",
     "output_type": "stream",
     "text": [
      "model building done\n",
      "Epoch 0 done: Loss = 0.7125481458340994\n",
      "Epoch 1 done: Loss = 0.5802575016370141\n",
      "Epoch 2 done: Loss = 0.5292487474097186\n",
      "Epoch 3 done: Loss = 0.5007220245943136\n",
      "Epoch 4 done: Loss = 0.48012529818586464\n",
      "Epoch 5 done: Loss = 0.4640268493165766\n",
      "Epoch 6 done: Loss = 0.4509789622436651\n",
      "Epoch 7 done: Loss = 0.44007897287276054\n",
      "Epoch 8 done: Loss = 0.43075872377012153\n",
      "Epoch 9 done: Loss = 0.42266048539939066\n",
      "model training done\n"
     ]
    },
    {
     "data": {
      "text/html": [
       "<br/>Waiting for W&B process to finish, PID 61528<br/>Program ended successfully."
      ],
      "text/plain": [
       "<IPython.core.display.HTML object>"
      ]
     },
     "metadata": {},
     "output_type": "display_data"
    },
    {
     "data": {
      "application/vnd.jupyter.widget-view+json": {
       "model_id": "",
       "version_major": 2,
       "version_minor": 0
      },
      "text/plain": [
       "VBox(children=(Label(value=' 0.00MB of 0.00MB uploaded (0.00MB deduped)\\r'), FloatProgress(value=1.0, max=1.0)…"
      ]
     },
     "metadata": {},
     "output_type": "display_data"
    },
    {
     "data": {
      "text/html": [
       "Find user logs for this run at: <code>/home/krishna/iit/sem6/dl/wandb/run-20210311_151543-jx0alnas/logs/debug.log</code>"
      ],
      "text/plain": [
       "<IPython.core.display.HTML object>"
      ]
     },
     "metadata": {},
     "output_type": "display_data"
    },
    {
     "data": {
      "text/html": [
       "Find internal logs for this run at: <code>/home/krishna/iit/sem6/dl/wandb/run-20210311_151543-jx0alnas/logs/debug-internal.log</code>"
      ],
      "text/plain": [
       "<IPython.core.display.HTML object>"
      ]
     },
     "metadata": {},
     "output_type": "display_data"
    },
    {
     "data": {
      "text/html": [
       "<h3>Run summary:</h3><br/><style>\n",
       "    table.wandb td:nth-child(1) { padding: 0 10px; text-align: right }\n",
       "    </style><table class=\"wandb\">\n",
       "<tr><td>train accuracy</td><td>0.86106</td></tr><tr><td>validation accuracy</td><td>0.85367</td></tr><tr><td>train loss</td><td>0.42266</td></tr><tr><td>val loss</td><td>0.4378</td></tr><tr><td>_runtime</td><td>64</td></tr><tr><td>_timestamp</td><td>1615456007</td></tr><tr><td>_step</td><td>9</td></tr></table>"
      ],
      "text/plain": [
       "<IPython.core.display.HTML object>"
      ]
     },
     "metadata": {},
     "output_type": "display_data"
    },
    {
     "data": {
      "text/html": [
       "<h3>Run history:</h3><br/><style>\n",
       "    table.wandb td:nth-child(1) { padding: 0 10px; text-align: right }\n",
       "    </style><table class=\"wandb\">\n",
       "<tr><td>train accuracy</td><td>▁▄▅▆▆▇▇▇██</td></tr><tr><td>validation accuracy</td><td>▁▄▅▆▆▇▇███</td></tr><tr><td>train loss</td><td>█▅▄▃▂▂▂▁▁▁</td></tr><tr><td>val loss</td><td>█▅▄▃▂▂▂▁▁▁</td></tr><tr><td>_runtime</td><td>▁▂▃▃▄▅▅▆▇█</td></tr><tr><td>_timestamp</td><td>▁▂▃▃▄▅▅▆▇█</td></tr><tr><td>_step</td><td>▁▂▃▃▄▅▆▆▇█</td></tr></table><br/>"
      ],
      "text/plain": [
       "<IPython.core.display.HTML object>"
      ]
     },
     "metadata": {},
     "output_type": "display_data"
    },
    {
     "data": {
      "text/html": [
       "Synced 5 W&B file(s), 0 media file(s), 0 artifact file(s) and 0 other file(s)"
      ],
      "text/plain": [
       "<IPython.core.display.HTML object>"
      ]
     },
     "metadata": {},
     "output_type": "display_data"
    },
    {
     "data": {
      "text/html": [
       "\n",
       "                    <br/>Synced <strong style=\"color:#cdcd00\">hello</strong>: <a href=\"https://wandb.ai/notarchana/CS6910-A1/runs/jx0alnas\" target=\"_blank\">https://wandb.ai/notarchana/CS6910-A1/runs/jx0alnas</a><br/>\n",
       "                "
      ],
      "text/plain": [
       "<IPython.core.display.HTML object>"
      ]
     },
     "metadata": {},
     "output_type": "display_data"
    },
    {
     "name": "stderr",
     "output_type": "stream",
     "text": [
      "\u001b[34m\u001b[1mwandb\u001b[0m: Sweep Agent: Waiting for job.\n",
      "\u001b[34m\u001b[1mwandb\u001b[0m: Job received.\n",
      "\u001b[34m\u001b[1mwandb\u001b[0m: Agent Starting Run: zgek8jws with config:\n",
      "\u001b[34m\u001b[1mwandb\u001b[0m: \tactivation: relu\n",
      "\u001b[34m\u001b[1mwandb\u001b[0m: \tbatch_size: 32\n",
      "\u001b[34m\u001b[1mwandb\u001b[0m: \tepochs: 10\n",
      "\u001b[34m\u001b[1mwandb\u001b[0m: \thidden_layer_size: 128\n",
      "\u001b[34m\u001b[1mwandb\u001b[0m: \thidden_layers: 3\n",
      "\u001b[34m\u001b[1mwandb\u001b[0m: \tlr: 0.001\n",
      "\u001b[34m\u001b[1mwandb\u001b[0m: \toptimiser: nesterov\n",
      "\u001b[34m\u001b[1mwandb\u001b[0m: \tweight_decay: 0\n",
      "\u001b[34m\u001b[1mwandb\u001b[0m: \tweight_init: xavier\n",
      "\u001b[34m\u001b[1mwandb\u001b[0m: W&B API key is configured (use `wandb login --relogin` to force relogin)\n"
     ]
    },
    {
     "data": {
      "text/html": [
       "\n",
       "                Tracking run with wandb version 0.10.22<br/>\n",
       "                Syncing run <strong style=\"color:#cdcd00\">hello</strong> to <a href=\"https://wandb.ai\" target=\"_blank\">Weights & Biases</a> <a href=\"https://docs.wandb.com/integrations/jupyter.html\" target=\"_blank\">(Documentation)</a>.<br/>\n",
       "                Project page: <a href=\"https://wandb.ai/notarchana/CS6910-A1\" target=\"_blank\">https://wandb.ai/notarchana/CS6910-A1</a><br/>\n",
       "                Sweep page: <a href=\"https://wandb.ai/notarchana/CS6910-A1/sweeps/lzmcss02\" target=\"_blank\">https://wandb.ai/notarchana/CS6910-A1/sweeps/lzmcss02</a><br/>\n",
       "Run page: <a href=\"https://wandb.ai/notarchana/CS6910-A1/runs/zgek8jws\" target=\"_blank\">https://wandb.ai/notarchana/CS6910-A1/runs/zgek8jws</a><br/>\n",
       "                Run data is saved locally in <code>/home/krishna/iit/sem6/dl/wandb/run-20210311_151707-zgek8jws</code><br/><br/>\n",
       "            "
      ],
      "text/plain": [
       "<IPython.core.display.HTML object>"
      ]
     },
     "metadata": {},
     "output_type": "display_data"
    },
    {
     "name": "stderr",
     "output_type": "stream",
     "text": [
      "\u001b[34m\u001b[1mwandb\u001b[0m: \u001b[33mWARNING\u001b[0m Calling run.save without any arguments is deprecated.Changes to attributes are automatically persisted.\n"
     ]
    },
    {
     "name": "stdout",
     "output_type": "stream",
     "text": [
      "model building done\n",
      "Epoch 0 done: Loss = 0.7192274044716951\n",
      "Epoch 1 done: Loss = 0.554268398893147\n",
      "Epoch 2 done: Loss = 0.5017106608930154\n",
      "Epoch 3 done: Loss = 0.4736714836749581\n",
      "Epoch 4 done: Loss = 0.45684261653705727\n",
      "Epoch 5 done: Loss = 0.4419968719045343\n",
      "Epoch 6 done: Loss = 0.42810128568494654\n",
      "Epoch 7 done: Loss = 0.41831490765387086\n",
      "Epoch 8 done: Loss = 0.4095710060023955\n",
      "Epoch 9 done: Loss = 0.4018275045502513\n",
      "model training done\n"
     ]
    },
    {
     "data": {
      "text/html": [
       "<br/>Waiting for W&B process to finish, PID 61568<br/>Program ended successfully."
      ],
      "text/plain": [
       "<IPython.core.display.HTML object>"
      ]
     },
     "metadata": {},
     "output_type": "display_data"
    },
    {
     "data": {
      "application/vnd.jupyter.widget-view+json": {
       "model_id": "",
       "version_major": 2,
       "version_minor": 0
      },
      "text/plain": [
       "VBox(children=(Label(value=' 0.00MB of 0.00MB uploaded (0.00MB deduped)\\r'), FloatProgress(value=1.0, max=1.0)…"
      ]
     },
     "metadata": {},
     "output_type": "display_data"
    },
    {
     "data": {
      "text/html": [
       "Find user logs for this run at: <code>/home/krishna/iit/sem6/dl/wandb/run-20210311_151707-zgek8jws/logs/debug.log</code>"
      ],
      "text/plain": [
       "<IPython.core.display.HTML object>"
      ]
     },
     "metadata": {},
     "output_type": "display_data"
    },
    {
     "data": {
      "text/html": [
       "Find internal logs for this run at: <code>/home/krishna/iit/sem6/dl/wandb/run-20210311_151707-zgek8jws/logs/debug-internal.log</code>"
      ],
      "text/plain": [
       "<IPython.core.display.HTML object>"
      ]
     },
     "metadata": {},
     "output_type": "display_data"
    },
    {
     "data": {
      "text/html": [
       "<h3>Run summary:</h3><br/><style>\n",
       "    table.wandb td:nth-child(1) { padding: 0 10px; text-align: right }\n",
       "    </style><table class=\"wandb\">\n",
       "<tr><td>train accuracy</td><td>0.86525</td></tr><tr><td>validation accuracy</td><td>0.85992</td></tr><tr><td>train loss</td><td>0.40183</td></tr><tr><td>val loss</td><td>0.40997</td></tr><tr><td>_runtime</td><td>40</td></tr><tr><td>_timestamp</td><td>1615456067</td></tr><tr><td>_step</td><td>9</td></tr></table>"
      ],
      "text/plain": [
       "<IPython.core.display.HTML object>"
      ]
     },
     "metadata": {},
     "output_type": "display_data"
    },
    {
     "data": {
      "text/html": [
       "<h3>Run history:</h3><br/><style>\n",
       "    table.wandb td:nth-child(1) { padding: 0 10px; text-align: right }\n",
       "    </style><table class=\"wandb\">\n",
       "<tr><td>train accuracy</td><td>▁▄▆▆▇▇▇███</td></tr><tr><td>validation accuracy</td><td>▁▄▆▆▇▇████</td></tr><tr><td>train loss</td><td>█▄▃▃▂▂▂▁▁▁</td></tr><tr><td>val loss</td><td>█▄▃▃▂▂▂▁▁▁</td></tr><tr><td>_runtime</td><td>▁▂▂▃▄▅▆▆▇█</td></tr><tr><td>_timestamp</td><td>▁▂▂▃▄▅▆▆▇█</td></tr><tr><td>_step</td><td>▁▂▃▃▄▅▆▆▇█</td></tr></table><br/>"
      ],
      "text/plain": [
       "<IPython.core.display.HTML object>"
      ]
     },
     "metadata": {},
     "output_type": "display_data"
    },
    {
     "data": {
      "text/html": [
       "Synced 5 W&B file(s), 0 media file(s), 0 artifact file(s) and 0 other file(s)"
      ],
      "text/plain": [
       "<IPython.core.display.HTML object>"
      ]
     },
     "metadata": {},
     "output_type": "display_data"
    },
    {
     "data": {
      "text/html": [
       "\n",
       "                    <br/>Synced <strong style=\"color:#cdcd00\">hello</strong>: <a href=\"https://wandb.ai/notarchana/CS6910-A1/runs/zgek8jws\" target=\"_blank\">https://wandb.ai/notarchana/CS6910-A1/runs/zgek8jws</a><br/>\n",
       "                "
      ],
      "text/plain": [
       "<IPython.core.display.HTML object>"
      ]
     },
     "metadata": {},
     "output_type": "display_data"
    },
    {
     "name": "stderr",
     "output_type": "stream",
     "text": [
      "\u001b[34m\u001b[1mwandb\u001b[0m: Agent Starting Run: che8tr5m with config:\n",
      "\u001b[34m\u001b[1mwandb\u001b[0m: \tactivation: relu\n",
      "\u001b[34m\u001b[1mwandb\u001b[0m: \tbatch_size: 32\n",
      "\u001b[34m\u001b[1mwandb\u001b[0m: \tepochs: 10\n",
      "\u001b[34m\u001b[1mwandb\u001b[0m: \thidden_layer_size: 64\n",
      "\u001b[34m\u001b[1mwandb\u001b[0m: \thidden_layers: 5\n",
      "\u001b[34m\u001b[1mwandb\u001b[0m: \tlr: 0.001\n",
      "\u001b[34m\u001b[1mwandb\u001b[0m: \toptimiser: rmsprop\n",
      "\u001b[34m\u001b[1mwandb\u001b[0m: \tweight_decay: 0.0005\n",
      "\u001b[34m\u001b[1mwandb\u001b[0m: \tweight_init: xavier\n"
     ]
    },
    {
     "data": {
      "text/html": [
       "\n",
       "                Tracking run with wandb version 0.10.22<br/>\n",
       "                Syncing run <strong style=\"color:#cdcd00\">hello</strong> to <a href=\"https://wandb.ai\" target=\"_blank\">Weights & Biases</a> <a href=\"https://docs.wandb.com/integrations/jupyter.html\" target=\"_blank\">(Documentation)</a>.<br/>\n",
       "                Project page: <a href=\"https://wandb.ai/notarchana/CS6910-A1\" target=\"_blank\">https://wandb.ai/notarchana/CS6910-A1</a><br/>\n",
       "                Sweep page: <a href=\"https://wandb.ai/notarchana/CS6910-A1/sweeps/lzmcss02\" target=\"_blank\">https://wandb.ai/notarchana/CS6910-A1/sweeps/lzmcss02</a><br/>\n",
       "Run page: <a href=\"https://wandb.ai/notarchana/CS6910-A1/runs/che8tr5m\" target=\"_blank\">https://wandb.ai/notarchana/CS6910-A1/runs/che8tr5m</a><br/>\n",
       "                Run data is saved locally in <code>/home/krishna/iit/sem6/dl/wandb/run-20210311_151754-che8tr5m</code><br/><br/>\n",
       "            "
      ],
      "text/plain": [
       "<IPython.core.display.HTML object>"
      ]
     },
     "metadata": {},
     "output_type": "display_data"
    },
    {
     "name": "stderr",
     "output_type": "stream",
     "text": [
      "\u001b[34m\u001b[1mwandb\u001b[0m: \u001b[33mWARNING\u001b[0m Calling run.save without any arguments is deprecated.Changes to attributes are automatically persisted.\n"
     ]
    },
    {
     "name": "stdout",
     "output_type": "stream",
     "text": [
      "model building done\n",
      "Epoch 0 done: Loss = 2.2316398529017984\n",
      "Epoch 1 done: Loss = 2.084977373849516\n",
      "Epoch 2 done: Loss = 2.201293630804351\n",
      "Epoch 3 done: Loss = 2.031374800764979\n",
      "Epoch 4 done: Loss = 1.8761372999639059\n",
      "Epoch 5 done: Loss = 0.4659538295263118\n",
      "Epoch 6 done: Loss = 0.42846610969758725\n",
      "Epoch 7 done: Loss = 0.4983847553907596\n",
      "Epoch 8 done: Loss = 0.43240996463592757\n",
      "Epoch 9 done: Loss = 0.435885141068553\n",
      "model training done\n"
     ]
    },
    {
     "data": {
      "text/html": [
       "<br/>Waiting for W&B process to finish, PID 61598<br/>Program ended successfully."
      ],
      "text/plain": [
       "<IPython.core.display.HTML object>"
      ]
     },
     "metadata": {},
     "output_type": "display_data"
    },
    {
     "data": {
      "application/vnd.jupyter.widget-view+json": {
       "model_id": "",
       "version_major": 2,
       "version_minor": 0
      },
      "text/plain": [
       "VBox(children=(Label(value=' 0.00MB of 0.00MB uploaded (0.00MB deduped)\\r'), FloatProgress(value=1.0, max=1.0)…"
      ]
     },
     "metadata": {},
     "output_type": "display_data"
    },
    {
     "data": {
      "text/html": [
       "Find user logs for this run at: <code>/home/krishna/iit/sem6/dl/wandb/run-20210311_151754-che8tr5m/logs/debug.log</code>"
      ],
      "text/plain": [
       "<IPython.core.display.HTML object>"
      ]
     },
     "metadata": {},
     "output_type": "display_data"
    },
    {
     "data": {
      "text/html": [
       "Find internal logs for this run at: <code>/home/krishna/iit/sem6/dl/wandb/run-20210311_151754-che8tr5m/logs/debug-internal.log</code>"
      ],
      "text/plain": [
       "<IPython.core.display.HTML object>"
      ]
     },
     "metadata": {},
     "output_type": "display_data"
    },
    {
     "data": {
      "text/html": [
       "<h3>Run summary:</h3><br/><style>\n",
       "    table.wandb td:nth-child(1) { padding: 0 10px; text-align: right }\n",
       "    </style><table class=\"wandb\">\n",
       "<tr><td>train accuracy</td><td>0.88048</td></tr><tr><td>validation accuracy</td><td>0.86375</td></tr><tr><td>train loss</td><td>0.43589</td></tr><tr><td>val loss</td><td>0.53438</td></tr><tr><td>_runtime</td><td>34</td></tr><tr><td>_timestamp</td><td>1615456108</td></tr><tr><td>_step</td><td>9</td></tr></table>"
      ],
      "text/plain": [
       "<IPython.core.display.HTML object>"
      ]
     },
     "metadata": {},
     "output_type": "display_data"
    },
    {
     "data": {
      "text/html": [
       "<h3>Run history:</h3><br/><style>\n",
       "    table.wandb td:nth-child(1) { padding: 0 10px; text-align: right }\n",
       "    </style><table class=\"wandb\">\n",
       "<tr><td>train accuracy</td><td>▁▂▂▂▃▇▇▇██</td></tr><tr><td>validation accuracy</td><td>▁▂▂▃▃▇████</td></tr><tr><td>train loss</td><td>█▇█▇▇▁▁▁▁▁</td></tr><tr><td>val loss</td><td>█▇█▇▇▁▁▁▁▁</td></tr><tr><td>_runtime</td><td>▁▂▂▃▄▅▅▆▇█</td></tr><tr><td>_timestamp</td><td>▁▂▂▃▄▅▅▆▇█</td></tr><tr><td>_step</td><td>▁▂▃▃▄▅▆▆▇█</td></tr></table><br/>"
      ],
      "text/plain": [
       "<IPython.core.display.HTML object>"
      ]
     },
     "metadata": {},
     "output_type": "display_data"
    },
    {
     "data": {
      "text/html": [
       "Synced 5 W&B file(s), 0 media file(s), 0 artifact file(s) and 0 other file(s)"
      ],
      "text/plain": [
       "<IPython.core.display.HTML object>"
      ]
     },
     "metadata": {},
     "output_type": "display_data"
    },
    {
     "data": {
      "text/html": [
       "\n",
       "                    <br/>Synced <strong style=\"color:#cdcd00\">hello</strong>: <a href=\"https://wandb.ai/notarchana/CS6910-A1/runs/che8tr5m\" target=\"_blank\">https://wandb.ai/notarchana/CS6910-A1/runs/che8tr5m</a><br/>\n",
       "                "
      ],
      "text/plain": [
       "<IPython.core.display.HTML object>"
      ]
     },
     "metadata": {},
     "output_type": "display_data"
    },
    {
     "name": "stderr",
     "output_type": "stream",
     "text": [
      "\u001b[34m\u001b[1mwandb\u001b[0m: Agent Starting Run: jqvjx1jj with config:\n",
      "\u001b[34m\u001b[1mwandb\u001b[0m: \tactivation: relu\n",
      "\u001b[34m\u001b[1mwandb\u001b[0m: \tbatch_size: 32\n",
      "\u001b[34m\u001b[1mwandb\u001b[0m: \tepochs: 10\n",
      "\u001b[34m\u001b[1mwandb\u001b[0m: \thidden_layer_size: 32\n",
      "\u001b[34m\u001b[1mwandb\u001b[0m: \thidden_layers: 4\n",
      "\u001b[34m\u001b[1mwandb\u001b[0m: \tlr: 0.001\n",
      "\u001b[34m\u001b[1mwandb\u001b[0m: \toptimiser: momentum\n",
      "\u001b[34m\u001b[1mwandb\u001b[0m: \tweight_decay: 0.5\n",
      "\u001b[34m\u001b[1mwandb\u001b[0m: \tweight_init: xavier\n"
     ]
    },
    {
     "data": {
      "text/html": [
       "\n",
       "                Tracking run with wandb version 0.10.22<br/>\n",
       "                Syncing run <strong style=\"color:#cdcd00\">hello</strong> to <a href=\"https://wandb.ai\" target=\"_blank\">Weights & Biases</a> <a href=\"https://docs.wandb.com/integrations/jupyter.html\" target=\"_blank\">(Documentation)</a>.<br/>\n",
       "                Project page: <a href=\"https://wandb.ai/notarchana/CS6910-A1\" target=\"_blank\">https://wandb.ai/notarchana/CS6910-A1</a><br/>\n",
       "                Sweep page: <a href=\"https://wandb.ai/notarchana/CS6910-A1/sweeps/lzmcss02\" target=\"_blank\">https://wandb.ai/notarchana/CS6910-A1/sweeps/lzmcss02</a><br/>\n",
       "Run page: <a href=\"https://wandb.ai/notarchana/CS6910-A1/runs/jqvjx1jj\" target=\"_blank\">https://wandb.ai/notarchana/CS6910-A1/runs/jqvjx1jj</a><br/>\n",
       "                Run data is saved locally in <code>/home/krishna/iit/sem6/dl/wandb/run-20210311_151834-jqvjx1jj</code><br/><br/>\n",
       "            "
      ],
      "text/plain": [
       "<IPython.core.display.HTML object>"
      ]
     },
     "metadata": {},
     "output_type": "display_data"
    },
    {
     "name": "stderr",
     "output_type": "stream",
     "text": [
      "\u001b[34m\u001b[1mwandb\u001b[0m: \u001b[33mWARNING\u001b[0m Calling run.save without any arguments is deprecated.Changes to attributes are automatically persisted.\n"
     ]
    },
    {
     "name": "stdout",
     "output_type": "stream",
     "text": [
      "model building done\n",
      "Epoch 0 done: Loss = 6.084422315938027\n",
      "Epoch 1 done: Loss = 1.5273241052579403\n",
      "Epoch 2 done: Loss = 0.9526757419760403\n",
      "Epoch 3 done: Loss = 0.42887009815964394\n",
      "Epoch 4 done: Loss = 0.4062228423762359\n",
      "Epoch 5 done: Loss = 0.3993277614519953\n",
      "Epoch 6 done: Loss = 0.40155134619268673\n",
      "Epoch 7 done: Loss = 0.3985085358591614\n",
      "Epoch 8 done: Loss = 0.3862718051856237\n",
      "Epoch 9 done: Loss = 0.3705656621696803\n",
      "model training done\n"
     ]
    },
    {
     "data": {
      "text/html": [
       "<br/>Waiting for W&B process to finish, PID 61628<br/>Program ended successfully."
      ],
      "text/plain": [
       "<IPython.core.display.HTML object>"
      ]
     },
     "metadata": {},
     "output_type": "display_data"
    },
    {
     "data": {
      "application/vnd.jupyter.widget-view+json": {
       "model_id": "",
       "version_major": 2,
       "version_minor": 0
      },
      "text/plain": [
       "VBox(children=(Label(value=' 0.00MB of 0.00MB uploaded (0.00MB deduped)\\r'), FloatProgress(value=1.0, max=1.0)…"
      ]
     },
     "metadata": {},
     "output_type": "display_data"
    },
    {
     "data": {
      "text/html": [
       "Find user logs for this run at: <code>/home/krishna/iit/sem6/dl/wandb/run-20210311_151834-jqvjx1jj/logs/debug.log</code>"
      ],
      "text/plain": [
       "<IPython.core.display.HTML object>"
      ]
     },
     "metadata": {},
     "output_type": "display_data"
    },
    {
     "data": {
      "text/html": [
       "Find internal logs for this run at: <code>/home/krishna/iit/sem6/dl/wandb/run-20210311_151834-jqvjx1jj/logs/debug-internal.log</code>"
      ],
      "text/plain": [
       "<IPython.core.display.HTML object>"
      ]
     },
     "metadata": {},
     "output_type": "display_data"
    },
    {
     "data": {
      "text/html": [
       "<h3>Run summary:</h3><br/><style>\n",
       "    table.wandb td:nth-child(1) { padding: 0 10px; text-align: right }\n",
       "    </style><table class=\"wandb\">\n",
       "<tr><td>train accuracy</td><td>0.88402</td></tr><tr><td>validation accuracy</td><td>0.87117</td></tr><tr><td>train loss</td><td>0.37057</td></tr><tr><td>val loss</td><td>0.40688</td></tr><tr><td>_runtime</td><td>16</td></tr><tr><td>_timestamp</td><td>1615456130</td></tr><tr><td>_step</td><td>9</td></tr></table>"
      ],
      "text/plain": [
       "<IPython.core.display.HTML object>"
      ]
     },
     "metadata": {},
     "output_type": "display_data"
    },
    {
     "data": {
      "text/html": [
       "<h3>Run history:</h3><br/><style>\n",
       "    table.wandb td:nth-child(1) { padding: 0 10px; text-align: right }\n",
       "    </style><table class=\"wandb\">\n",
       "<tr><td>train accuracy</td><td>▁▆▇███████</td></tr><tr><td>validation accuracy</td><td>▁▆▇███████</td></tr><tr><td>train loss</td><td>█▂▂▁▁▁▁▁▁▁</td></tr><tr><td>val loss</td><td>█▂▂▁▁▁▁▁▁▁</td></tr><tr><td>_runtime</td><td>▁▂▂▃▄▅▅▆▇█</td></tr><tr><td>_timestamp</td><td>▁▂▂▃▄▅▅▆▇█</td></tr><tr><td>_step</td><td>▁▂▃▃▄▅▆▆▇█</td></tr></table><br/>"
      ],
      "text/plain": [
       "<IPython.core.display.HTML object>"
      ]
     },
     "metadata": {},
     "output_type": "display_data"
    },
    {
     "data": {
      "text/html": [
       "Synced 5 W&B file(s), 0 media file(s), 0 artifact file(s) and 0 other file(s)"
      ],
      "text/plain": [
       "<IPython.core.display.HTML object>"
      ]
     },
     "metadata": {},
     "output_type": "display_data"
    },
    {
     "data": {
      "text/html": [
       "\n",
       "                    <br/>Synced <strong style=\"color:#cdcd00\">hello</strong>: <a href=\"https://wandb.ai/notarchana/CS6910-A1/runs/jqvjx1jj\" target=\"_blank\">https://wandb.ai/notarchana/CS6910-A1/runs/jqvjx1jj</a><br/>\n",
       "                "
      ],
      "text/plain": [
       "<IPython.core.display.HTML object>"
      ]
     },
     "metadata": {},
     "output_type": "display_data"
    },
    {
     "name": "stderr",
     "output_type": "stream",
     "text": [
      "\u001b[34m\u001b[1mwandb\u001b[0m: Agent Starting Run: vs8nf4ei with config:\n",
      "\u001b[34m\u001b[1mwandb\u001b[0m: \tactivation: relu\n",
      "\u001b[34m\u001b[1mwandb\u001b[0m: \tbatch_size: 64\n",
      "\u001b[34m\u001b[1mwandb\u001b[0m: \tepochs: 10\n",
      "\u001b[34m\u001b[1mwandb\u001b[0m: \thidden_layer_size: 64\n",
      "\u001b[34m\u001b[1mwandb\u001b[0m: \thidden_layers: 4\n",
      "\u001b[34m\u001b[1mwandb\u001b[0m: \tlr: 0.001\n",
      "\u001b[34m\u001b[1mwandb\u001b[0m: \toptimiser: nadam\n",
      "\u001b[34m\u001b[1mwandb\u001b[0m: \tweight_decay: 0.5\n",
      "\u001b[34m\u001b[1mwandb\u001b[0m: \tweight_init: xavier\n"
     ]
    },
    {
     "data": {
      "text/html": [
       "\n",
       "                Tracking run with wandb version 0.10.22<br/>\n",
       "                Syncing run <strong style=\"color:#cdcd00\">hello</strong> to <a href=\"https://wandb.ai\" target=\"_blank\">Weights & Biases</a> <a href=\"https://docs.wandb.com/integrations/jupyter.html\" target=\"_blank\">(Documentation)</a>.<br/>\n",
       "                Project page: <a href=\"https://wandb.ai/notarchana/CS6910-A1\" target=\"_blank\">https://wandb.ai/notarchana/CS6910-A1</a><br/>\n",
       "                Sweep page: <a href=\"https://wandb.ai/notarchana/CS6910-A1/sweeps/lzmcss02\" target=\"_blank\">https://wandb.ai/notarchana/CS6910-A1/sweeps/lzmcss02</a><br/>\n",
       "Run page: <a href=\"https://wandb.ai/notarchana/CS6910-A1/runs/vs8nf4ei\" target=\"_blank\">https://wandb.ai/notarchana/CS6910-A1/runs/vs8nf4ei</a><br/>\n",
       "                Run data is saved locally in <code>/home/krishna/iit/sem6/dl/wandb/run-20210311_151856-vs8nf4ei</code><br/><br/>\n",
       "            "
      ],
      "text/plain": [
       "<IPython.core.display.HTML object>"
      ]
     },
     "metadata": {},
     "output_type": "display_data"
    },
    {
     "name": "stderr",
     "output_type": "stream",
     "text": [
      "\u001b[34m\u001b[1mwandb\u001b[0m: \u001b[33mWARNING\u001b[0m Calling run.save without any arguments is deprecated.Changes to attributes are automatically persisted.\n"
     ]
    },
    {
     "name": "stdout",
     "output_type": "stream",
     "text": [
      "model building done\n",
      "Epoch 0 done: Loss = 3.382959588192538\n",
      "Epoch 1 done: Loss = 3.486681262914517\n",
      "Epoch 2 done: Loss = 3.529824630018082\n",
      "Epoch 3 done: Loss = 3.5563057686601853\n",
      "Epoch 4 done: Loss = 3.5729555457139783\n",
      "Epoch 5 done: Loss = 3.567553486304274\n",
      "Epoch 6 done: Loss = 3.5393083861874364\n",
      "Epoch 7 done: Loss = 3.4639107739997255\n",
      "Epoch 8 done: Loss = 2.2040544315195376\n",
      "Epoch 9 done: Loss = 2.1511620457386535\n",
      "model training done\n"
     ]
    },
    {
     "data": {
      "text/html": [
       "<br/>Waiting for W&B process to finish, PID 61660<br/>Program ended successfully."
      ],
      "text/plain": [
       "<IPython.core.display.HTML object>"
      ]
     },
     "metadata": {},
     "output_type": "display_data"
    },
    {
     "data": {
      "application/vnd.jupyter.widget-view+json": {
       "model_id": "",
       "version_major": 2,
       "version_minor": 0
      },
      "text/plain": [
       "VBox(children=(Label(value=' 0.00MB of 0.00MB uploaded (0.00MB deduped)\\r'), FloatProgress(value=1.0, max=1.0)…"
      ]
     },
     "metadata": {},
     "output_type": "display_data"
    },
    {
     "data": {
      "text/html": [
       "Find user logs for this run at: <code>/home/krishna/iit/sem6/dl/wandb/run-20210311_151856-vs8nf4ei/logs/debug.log</code>"
      ],
      "text/plain": [
       "<IPython.core.display.HTML object>"
      ]
     },
     "metadata": {},
     "output_type": "display_data"
    },
    {
     "data": {
      "text/html": [
       "Find internal logs for this run at: <code>/home/krishna/iit/sem6/dl/wandb/run-20210311_151856-vs8nf4ei/logs/debug-internal.log</code>"
      ],
      "text/plain": [
       "<IPython.core.display.HTML object>"
      ]
     },
     "metadata": {},
     "output_type": "display_data"
    },
    {
     "data": {
      "text/html": [
       "<h3>Run summary:</h3><br/><style>\n",
       "    table.wandb td:nth-child(1) { padding: 0 10px; text-align: right }\n",
       "    </style><table class=\"wandb\">\n",
       "<tr><td>train accuracy</td><td>0.78987</td></tr><tr><td>validation accuracy</td><td>0.7785</td></tr><tr><td>train loss</td><td>2.15116</td></tr><tr><td>val loss</td><td>2.16403</td></tr><tr><td>_runtime</td><td>26</td></tr><tr><td>_timestamp</td><td>1615456162</td></tr><tr><td>_step</td><td>9</td></tr></table>"
      ],
      "text/plain": [
       "<IPython.core.display.HTML object>"
      ]
     },
     "metadata": {},
     "output_type": "display_data"
    },
    {
     "data": {
      "text/html": [
       "<h3>Run history:</h3><br/><style>\n",
       "    table.wandb td:nth-child(1) { padding: 0 10px; text-align: right }\n",
       "    </style><table class=\"wandb\">\n",
       "<tr><td>train accuracy</td><td>▁▂▂▂▂▃▃▃██</td></tr><tr><td>validation accuracy</td><td>▁▂▂▂▂▂▃▃██</td></tr><tr><td>train loss</td><td>▇██████▇▁▁</td></tr><tr><td>val loss</td><td>▇██████▇▁▁</td></tr><tr><td>_runtime</td><td>▁▂▂▃▄▄▅▆▆█</td></tr><tr><td>_timestamp</td><td>▁▂▂▃▄▄▅▆▆█</td></tr><tr><td>_step</td><td>▁▂▃▃▄▅▆▆▇█</td></tr></table><br/>"
      ],
      "text/plain": [
       "<IPython.core.display.HTML object>"
      ]
     },
     "metadata": {},
     "output_type": "display_data"
    },
    {
     "data": {
      "text/html": [
       "Synced 5 W&B file(s), 0 media file(s), 0 artifact file(s) and 0 other file(s)"
      ],
      "text/plain": [
       "<IPython.core.display.HTML object>"
      ]
     },
     "metadata": {},
     "output_type": "display_data"
    },
    {
     "data": {
      "text/html": [
       "\n",
       "                    <br/>Synced <strong style=\"color:#cdcd00\">hello</strong>: <a href=\"https://wandb.ai/notarchana/CS6910-A1/runs/vs8nf4ei\" target=\"_blank\">https://wandb.ai/notarchana/CS6910-A1/runs/vs8nf4ei</a><br/>\n",
       "                "
      ],
      "text/plain": [
       "<IPython.core.display.HTML object>"
      ]
     },
     "metadata": {},
     "output_type": "display_data"
    },
    {
     "name": "stderr",
     "output_type": "stream",
     "text": [
      "\u001b[34m\u001b[1mwandb\u001b[0m: Agent Starting Run: kn4gfnmo with config:\n",
      "\u001b[34m\u001b[1mwandb\u001b[0m: \tactivation: tanh\n",
      "\u001b[34m\u001b[1mwandb\u001b[0m: \tbatch_size: 16\n",
      "\u001b[34m\u001b[1mwandb\u001b[0m: \tepochs: 10\n",
      "\u001b[34m\u001b[1mwandb\u001b[0m: \thidden_layer_size: 32\n",
      "\u001b[34m\u001b[1mwandb\u001b[0m: \thidden_layers: 4\n",
      "\u001b[34m\u001b[1mwandb\u001b[0m: \tlr: 0.001\n",
      "\u001b[34m\u001b[1mwandb\u001b[0m: \toptimiser: rmsprop\n",
      "\u001b[34m\u001b[1mwandb\u001b[0m: \tweight_decay: 0\n",
      "\u001b[34m\u001b[1mwandb\u001b[0m: \tweight_init: xavier\n"
     ]
    },
    {
     "data": {
      "text/html": [
       "\n",
       "                Tracking run with wandb version 0.10.22<br/>\n",
       "                Syncing run <strong style=\"color:#cdcd00\">hello</strong> to <a href=\"https://wandb.ai\" target=\"_blank\">Weights & Biases</a> <a href=\"https://docs.wandb.com/integrations/jupyter.html\" target=\"_blank\">(Documentation)</a>.<br/>\n",
       "                Project page: <a href=\"https://wandb.ai/notarchana/CS6910-A1\" target=\"_blank\">https://wandb.ai/notarchana/CS6910-A1</a><br/>\n",
       "                Sweep page: <a href=\"https://wandb.ai/notarchana/CS6910-A1/sweeps/lzmcss02\" target=\"_blank\">https://wandb.ai/notarchana/CS6910-A1/sweeps/lzmcss02</a><br/>\n",
       "Run page: <a href=\"https://wandb.ai/notarchana/CS6910-A1/runs/kn4gfnmo\" target=\"_blank\">https://wandb.ai/notarchana/CS6910-A1/runs/kn4gfnmo</a><br/>\n",
       "                Run data is saved locally in <code>/home/krishna/iit/sem6/dl/wandb/run-20210311_151928-kn4gfnmo</code><br/><br/>\n",
       "            "
      ],
      "text/plain": [
       "<IPython.core.display.HTML object>"
      ]
     },
     "metadata": {},
     "output_type": "display_data"
    },
    {
     "name": "stderr",
     "output_type": "stream",
     "text": [
      "\u001b[34m\u001b[1mwandb\u001b[0m: \u001b[33mWARNING\u001b[0m Calling run.save without any arguments is deprecated.Changes to attributes are automatically persisted.\n"
     ]
    },
    {
     "name": "stdout",
     "output_type": "stream",
     "text": [
      "model building done\n",
      "Epoch 0 done: Loss = 0.43585799205610326\n",
      "Epoch 1 done: Loss = 0.40177597976079005\n",
      "Epoch 2 done: Loss = 0.37955900272593285\n",
      "Epoch 3 done: Loss = 0.3807210007188328\n",
      "Epoch 4 done: Loss = 0.36994815963784383\n",
      "Epoch 5 done: Loss = 0.37367896656766564\n",
      "Epoch 6 done: Loss = 0.3609003652219923\n",
      "Epoch 7 done: Loss = 0.36513090026181755\n",
      "Epoch 8 done: Loss = 0.3411372191478413\n",
      "Epoch 9 done: Loss = 0.3342028041710298\n",
      "model training done\n"
     ]
    },
    {
     "data": {
      "text/html": [
       "<br/>Waiting for W&B process to finish, PID 61688<br/>Program ended successfully."
      ],
      "text/plain": [
       "<IPython.core.display.HTML object>"
      ]
     },
     "metadata": {},
     "output_type": "display_data"
    },
    {
     "data": {
      "application/vnd.jupyter.widget-view+json": {
       "model_id": "",
       "version_major": 2,
       "version_minor": 0
      },
      "text/plain": [
       "VBox(children=(Label(value=' 0.00MB of 0.00MB uploaded (0.00MB deduped)\\r'), FloatProgress(value=1.0, max=1.0)…"
      ]
     },
     "metadata": {},
     "output_type": "display_data"
    },
    {
     "data": {
      "text/html": [
       "Find user logs for this run at: <code>/home/krishna/iit/sem6/dl/wandb/run-20210311_151928-kn4gfnmo/logs/debug.log</code>"
      ],
      "text/plain": [
       "<IPython.core.display.HTML object>"
      ]
     },
     "metadata": {},
     "output_type": "display_data"
    },
    {
     "data": {
      "text/html": [
       "Find internal logs for this run at: <code>/home/krishna/iit/sem6/dl/wandb/run-20210311_151928-kn4gfnmo/logs/debug-internal.log</code>"
      ],
      "text/plain": [
       "<IPython.core.display.HTML object>"
      ]
     },
     "metadata": {},
     "output_type": "display_data"
    },
    {
     "data": {
      "text/html": [
       "<h3>Run summary:</h3><br/><style>\n",
       "    table.wandb td:nth-child(1) { padding: 0 10px; text-align: right }\n",
       "    </style><table class=\"wandb\">\n",
       "<tr><td>train accuracy</td><td>0.89454</td></tr><tr><td>validation accuracy</td><td>0.87267</td></tr><tr><td>train loss</td><td>0.3342</td></tr><tr><td>val loss</td><td>0.39008</td></tr><tr><td>_runtime</td><td>37</td></tr><tr><td>_timestamp</td><td>1615456205</td></tr><tr><td>_step</td><td>9</td></tr></table>"
      ],
      "text/plain": [
       "<IPython.core.display.HTML object>"
      ]
     },
     "metadata": {},
     "output_type": "display_data"
    },
    {
     "data": {
      "text/html": [
       "<h3>Run history:</h3><br/><style>\n",
       "    table.wandb td:nth-child(1) { padding: 0 10px; text-align: right }\n",
       "    </style><table class=\"wandb\">\n",
       "<tr><td>train accuracy</td><td>▁▄▅▅▆▆▇▆██</td></tr><tr><td>validation accuracy</td><td>▁▅▆▆▇▆▇▆██</td></tr><tr><td>train loss</td><td>█▆▄▄▃▄▃▃▁▁</td></tr><tr><td>val loss</td><td>█▅▃▃▃▄▃▃▁▁</td></tr><tr><td>_runtime</td><td>▁▂▃▃▄▅▆▆▇█</td></tr><tr><td>_timestamp</td><td>▁▂▃▃▄▅▆▆▇█</td></tr><tr><td>_step</td><td>▁▂▃▃▄▅▆▆▇█</td></tr></table><br/>"
      ],
      "text/plain": [
       "<IPython.core.display.HTML object>"
      ]
     },
     "metadata": {},
     "output_type": "display_data"
    },
    {
     "data": {
      "text/html": [
       "Synced 5 W&B file(s), 0 media file(s), 0 artifact file(s) and 0 other file(s)"
      ],
      "text/plain": [
       "<IPython.core.display.HTML object>"
      ]
     },
     "metadata": {},
     "output_type": "display_data"
    },
    {
     "data": {
      "text/html": [
       "\n",
       "                    <br/>Synced <strong style=\"color:#cdcd00\">hello</strong>: <a href=\"https://wandb.ai/notarchana/CS6910-A1/runs/kn4gfnmo\" target=\"_blank\">https://wandb.ai/notarchana/CS6910-A1/runs/kn4gfnmo</a><br/>\n",
       "                "
      ],
      "text/plain": [
       "<IPython.core.display.HTML object>"
      ]
     },
     "metadata": {},
     "output_type": "display_data"
    },
    {
     "name": "stderr",
     "output_type": "stream",
     "text": [
      "\u001b[34m\u001b[1mwandb\u001b[0m: Agent Starting Run: uamdlxry with config:\n",
      "\u001b[34m\u001b[1mwandb\u001b[0m: \tactivation: relu\n",
      "\u001b[34m\u001b[1mwandb\u001b[0m: \tbatch_size: 16\n",
      "\u001b[34m\u001b[1mwandb\u001b[0m: \tepochs: 10\n",
      "\u001b[34m\u001b[1mwandb\u001b[0m: \thidden_layer_size: 32\n",
      "\u001b[34m\u001b[1mwandb\u001b[0m: \thidden_layers: 4\n",
      "\u001b[34m\u001b[1mwandb\u001b[0m: \tlr: 0.001\n",
      "\u001b[34m\u001b[1mwandb\u001b[0m: \toptimiser: momentum\n",
      "\u001b[34m\u001b[1mwandb\u001b[0m: \tweight_decay: 0.0005\n",
      "\u001b[34m\u001b[1mwandb\u001b[0m: \tweight_init: xavier\n"
     ]
    },
    {
     "data": {
      "text/html": [
       "\n",
       "                Tracking run with wandb version 0.10.22<br/>\n",
       "                Syncing run <strong style=\"color:#cdcd00\">hello</strong> to <a href=\"https://wandb.ai\" target=\"_blank\">Weights & Biases</a> <a href=\"https://docs.wandb.com/integrations/jupyter.html\" target=\"_blank\">(Documentation)</a>.<br/>\n",
       "                Project page: <a href=\"https://wandb.ai/notarchana/CS6910-A1\" target=\"_blank\">https://wandb.ai/notarchana/CS6910-A1</a><br/>\n",
       "                Sweep page: <a href=\"https://wandb.ai/notarchana/CS6910-A1/sweeps/lzmcss02\" target=\"_blank\">https://wandb.ai/notarchana/CS6910-A1/sweeps/lzmcss02</a><br/>\n",
       "Run page: <a href=\"https://wandb.ai/notarchana/CS6910-A1/runs/uamdlxry\" target=\"_blank\">https://wandb.ai/notarchana/CS6910-A1/runs/uamdlxry</a><br/>\n",
       "                Run data is saved locally in <code>/home/krishna/iit/sem6/dl/wandb/run-20210311_152012-uamdlxry</code><br/><br/>\n",
       "            "
      ],
      "text/plain": [
       "<IPython.core.display.HTML object>"
      ]
     },
     "metadata": {},
     "output_type": "display_data"
    },
    {
     "name": "stderr",
     "output_type": "stream",
     "text": [
      "\u001b[34m\u001b[1mwandb\u001b[0m: \u001b[33mWARNING\u001b[0m Calling run.save without any arguments is deprecated.Changes to attributes are automatically persisted.\n"
     ]
    },
    {
     "name": "stdout",
     "output_type": "stream",
     "text": [
      "model building done\n",
      "Epoch 0 done: Loss = 0.5169584359574835\n",
      "Epoch 1 done: Loss = 0.4668033688794083\n",
      "Epoch 2 done: Loss = 0.44417715320798756\n",
      "Epoch 3 done: Loss = 0.4823962532814875\n",
      "Epoch 4 done: Loss = 0.42975183842426057\n",
      "Epoch 5 done: Loss = 0.4214710389638014\n",
      "Epoch 6 done: Loss = 0.39106981196434676\n",
      "Epoch 7 done: Loss = 0.38898089221323984\n",
      "Epoch 8 done: Loss = 0.40913573168602013\n",
      "Epoch 9 done: Loss = 0.3860768033438751\n",
      "model training done\n"
     ]
    },
    {
     "data": {
      "text/html": [
       "<br/>Waiting for W&B process to finish, PID 61730<br/>Program ended successfully."
      ],
      "text/plain": [
       "<IPython.core.display.HTML object>"
      ]
     },
     "metadata": {},
     "output_type": "display_data"
    },
    {
     "data": {
      "application/vnd.jupyter.widget-view+json": {
       "model_id": "",
       "version_major": 2,
       "version_minor": 0
      },
      "text/plain": [
       "VBox(children=(Label(value=' 0.00MB of 0.00MB uploaded (0.00MB deduped)\\r'), FloatProgress(value=1.0, max=1.0)…"
      ]
     },
     "metadata": {},
     "output_type": "display_data"
    },
    {
     "data": {
      "text/html": [
       "Find user logs for this run at: <code>/home/krishna/iit/sem6/dl/wandb/run-20210311_152012-uamdlxry/logs/debug.log</code>"
      ],
      "text/plain": [
       "<IPython.core.display.HTML object>"
      ]
     },
     "metadata": {},
     "output_type": "display_data"
    },
    {
     "data": {
      "text/html": [
       "Find internal logs for this run at: <code>/home/krishna/iit/sem6/dl/wandb/run-20210311_152012-uamdlxry/logs/debug-internal.log</code>"
      ],
      "text/plain": [
       "<IPython.core.display.HTML object>"
      ]
     },
     "metadata": {},
     "output_type": "display_data"
    },
    {
     "data": {
      "text/html": [
       "<h3>Run summary:</h3><br/><style>\n",
       "    table.wandb td:nth-child(1) { padding: 0 10px; text-align: right }\n",
       "    </style><table class=\"wandb\">\n",
       "<tr><td>train accuracy</td><td>0.87769</td></tr><tr><td>validation accuracy</td><td>0.85958</td></tr><tr><td>train loss</td><td>0.38608</td></tr><tr><td>val loss</td><td>0.44355</td></tr><tr><td>_runtime</td><td>23</td></tr><tr><td>_timestamp</td><td>1615456235</td></tr><tr><td>_step</td><td>9</td></tr></table>"
      ],
      "text/plain": [
       "<IPython.core.display.HTML object>"
      ]
     },
     "metadata": {},
     "output_type": "display_data"
    },
    {
     "data": {
      "text/html": [
       "<h3>Run history:</h3><br/><style>\n",
       "    table.wandb td:nth-child(1) { padding: 0 10px; text-align: right }\n",
       "    </style><table class=\"wandb\">\n",
       "<tr><td>train accuracy</td><td>▁▃▄▄▆▇▇▇▇█</td></tr><tr><td>validation accuracy</td><td>▁▃▄▄▆▇▇███</td></tr><tr><td>train loss</td><td>█▅▄▆▃▃▁▁▂▁</td></tr><tr><td>val loss</td><td>█▅▄▆▄▃▁▁▃▂</td></tr><tr><td>_runtime</td><td>▁▂▂▃▄▅▆▇▇█</td></tr><tr><td>_timestamp</td><td>▁▂▂▃▄▅▆▇▇█</td></tr><tr><td>_step</td><td>▁▂▃▃▄▅▆▆▇█</td></tr></table><br/>"
      ],
      "text/plain": [
       "<IPython.core.display.HTML object>"
      ]
     },
     "metadata": {},
     "output_type": "display_data"
    },
    {
     "data": {
      "text/html": [
       "Synced 5 W&B file(s), 0 media file(s), 0 artifact file(s) and 0 other file(s)"
      ],
      "text/plain": [
       "<IPython.core.display.HTML object>"
      ]
     },
     "metadata": {},
     "output_type": "display_data"
    },
    {
     "data": {
      "text/html": [
       "\n",
       "                    <br/>Synced <strong style=\"color:#cdcd00\">hello</strong>: <a href=\"https://wandb.ai/notarchana/CS6910-A1/runs/uamdlxry\" target=\"_blank\">https://wandb.ai/notarchana/CS6910-A1/runs/uamdlxry</a><br/>\n",
       "                "
      ],
      "text/plain": [
       "<IPython.core.display.HTML object>"
      ]
     },
     "metadata": {},
     "output_type": "display_data"
    },
    {
     "name": "stderr",
     "output_type": "stream",
     "text": [
      "\u001b[34m\u001b[1mwandb\u001b[0m: Agent Starting Run: yw78rdu6 with config:\n",
      "\u001b[34m\u001b[1mwandb\u001b[0m: \tactivation: relu\n",
      "\u001b[34m\u001b[1mwandb\u001b[0m: \tbatch_size: 16\n",
      "\u001b[34m\u001b[1mwandb\u001b[0m: \tepochs: 10\n",
      "\u001b[34m\u001b[1mwandb\u001b[0m: \thidden_layer_size: 32\n",
      "\u001b[34m\u001b[1mwandb\u001b[0m: \thidden_layers: 5\n",
      "\u001b[34m\u001b[1mwandb\u001b[0m: \tlr: 0.001\n",
      "\u001b[34m\u001b[1mwandb\u001b[0m: \toptimiser: adam\n",
      "\u001b[34m\u001b[1mwandb\u001b[0m: \tweight_decay: 0.5\n",
      "\u001b[34m\u001b[1mwandb\u001b[0m: \tweight_init: xavier\n"
     ]
    },
    {
     "data": {
      "text/html": [
       "\n",
       "                Tracking run with wandb version 0.10.22<br/>\n",
       "                Syncing run <strong style=\"color:#cdcd00\">hello</strong> to <a href=\"https://wandb.ai\" target=\"_blank\">Weights & Biases</a> <a href=\"https://docs.wandb.com/integrations/jupyter.html\" target=\"_blank\">(Documentation)</a>.<br/>\n",
       "                Project page: <a href=\"https://wandb.ai/notarchana/CS6910-A1\" target=\"_blank\">https://wandb.ai/notarchana/CS6910-A1</a><br/>\n",
       "                Sweep page: <a href=\"https://wandb.ai/notarchana/CS6910-A1/sweeps/lzmcss02\" target=\"_blank\">https://wandb.ai/notarchana/CS6910-A1/sweeps/lzmcss02</a><br/>\n",
       "Run page: <a href=\"https://wandb.ai/notarchana/CS6910-A1/runs/yw78rdu6\" target=\"_blank\">https://wandb.ai/notarchana/CS6910-A1/runs/yw78rdu6</a><br/>\n",
       "                Run data is saved locally in <code>/home/krishna/iit/sem6/dl/wandb/run-20210311_152042-yw78rdu6</code><br/><br/>\n",
       "            "
      ],
      "text/plain": [
       "<IPython.core.display.HTML object>"
      ]
     },
     "metadata": {},
     "output_type": "display_data"
    },
    {
     "name": "stderr",
     "output_type": "stream",
     "text": [
      "\u001b[34m\u001b[1mwandb\u001b[0m: \u001b[33mWARNING\u001b[0m Calling run.save without any arguments is deprecated.Changes to attributes are automatically persisted.\n"
     ]
    },
    {
     "name": "stdout",
     "output_type": "stream",
     "text": [
      "model building done\n",
      "Epoch 0 done: Loss = 4.047392764678088\n",
      "Epoch 1 done: Loss = 4.057164581873701\n",
      "Epoch 2 done: Loss = 4.041273025704662\n",
      "Epoch 3 done: Loss = 4.034514899150487\n",
      "Epoch 4 done: Loss = 4.024681847724164\n",
      "Epoch 5 done: Loss = 4.017288893602158\n",
      "Epoch 6 done: Loss = 3.993565721763932\n",
      "Epoch 7 done: Loss = 3.9506963453863535\n",
      "Epoch 8 done: Loss = 3.8786745153302804\n",
      "Epoch 9 done: Loss = 3.724372093394065\n",
      "model training done\n"
     ]
    },
    {
     "data": {
      "text/html": [
       "<br/>Waiting for W&B process to finish, PID 61761<br/>Program ended successfully."
      ],
      "text/plain": [
       "<IPython.core.display.HTML object>"
      ]
     },
     "metadata": {},
     "output_type": "display_data"
    },
    {
     "data": {
      "application/vnd.jupyter.widget-view+json": {
       "model_id": "",
       "version_major": 2,
       "version_minor": 0
      },
      "text/plain": [
       "VBox(children=(Label(value=' 0.00MB of 0.00MB uploaded (0.00MB deduped)\\r'), FloatProgress(value=1.0, max=1.0)…"
      ]
     },
     "metadata": {},
     "output_type": "display_data"
    },
    {
     "data": {
      "text/html": [
       "Find user logs for this run at: <code>/home/krishna/iit/sem6/dl/wandb/run-20210311_152042-yw78rdu6/logs/debug.log</code>"
      ],
      "text/plain": [
       "<IPython.core.display.HTML object>"
      ]
     },
     "metadata": {},
     "output_type": "display_data"
    },
    {
     "data": {
      "text/html": [
       "Find internal logs for this run at: <code>/home/krishna/iit/sem6/dl/wandb/run-20210311_152042-yw78rdu6/logs/debug-internal.log</code>"
      ],
      "text/plain": [
       "<IPython.core.display.HTML object>"
      ]
     },
     "metadata": {},
     "output_type": "display_data"
    },
    {
     "data": {
      "text/html": [
       "<h3>Run summary:</h3><br/><style>\n",
       "    table.wandb td:nth-child(1) { padding: 0 10px; text-align: right }\n",
       "    </style><table class=\"wandb\">\n",
       "<tr><td>train accuracy</td><td>0.68952</td></tr><tr><td>validation accuracy</td><td>0.67483</td></tr><tr><td>train loss</td><td>3.72437</td></tr><tr><td>val loss</td><td>3.79469</td></tr><tr><td>_runtime</td><td>61</td></tr><tr><td>_timestamp</td><td>1615456303</td></tr><tr><td>_step</td><td>9</td></tr></table>"
      ],
      "text/plain": [
       "<IPython.core.display.HTML object>"
      ]
     },
     "metadata": {},
     "output_type": "display_data"
    },
    {
     "data": {
      "text/html": [
       "<h3>Run history:</h3><br/><style>\n",
       "    table.wandb td:nth-child(1) { padding: 0 10px; text-align: right }\n",
       "    </style><table class=\"wandb\">\n",
       "<tr><td>train accuracy</td><td>▁▂▄▅▆▇▇▇██</td></tr><tr><td>validation accuracy</td><td>▁▃▄▅▆▇████</td></tr><tr><td>train loss</td><td>████▇▇▇▆▄▁</td></tr><tr><td>val loss</td><td>████▇▇▇▆▄▁</td></tr><tr><td>_runtime</td><td>▁▁▂▃▄▅▅▆▇█</td></tr><tr><td>_timestamp</td><td>▁▁▂▃▄▅▅▆▇█</td></tr><tr><td>_step</td><td>▁▂▃▃▄▅▆▆▇█</td></tr></table><br/>"
      ],
      "text/plain": [
       "<IPython.core.display.HTML object>"
      ]
     },
     "metadata": {},
     "output_type": "display_data"
    },
    {
     "data": {
      "text/html": [
       "Synced 5 W&B file(s), 0 media file(s), 0 artifact file(s) and 0 other file(s)"
      ],
      "text/plain": [
       "<IPython.core.display.HTML object>"
      ]
     },
     "metadata": {},
     "output_type": "display_data"
    },
    {
     "data": {
      "text/html": [
       "\n",
       "                    <br/>Synced <strong style=\"color:#cdcd00\">hello</strong>: <a href=\"https://wandb.ai/notarchana/CS6910-A1/runs/yw78rdu6\" target=\"_blank\">https://wandb.ai/notarchana/CS6910-A1/runs/yw78rdu6</a><br/>\n",
       "                "
      ],
      "text/plain": [
       "<IPython.core.display.HTML object>"
      ]
     },
     "metadata": {},
     "output_type": "display_data"
    },
    {
     "name": "stderr",
     "output_type": "stream",
     "text": [
      "\u001b[34m\u001b[1mwandb\u001b[0m: Agent Starting Run: qayis7zl with config:\n",
      "\u001b[34m\u001b[1mwandb\u001b[0m: \tactivation: relu\n",
      "\u001b[34m\u001b[1mwandb\u001b[0m: \tbatch_size: 16\n",
      "\u001b[34m\u001b[1mwandb\u001b[0m: \tepochs: 10\n",
      "\u001b[34m\u001b[1mwandb\u001b[0m: \thidden_layer_size: 64\n",
      "\u001b[34m\u001b[1mwandb\u001b[0m: \thidden_layers: 4\n",
      "\u001b[34m\u001b[1mwandb\u001b[0m: \tlr: 0.001\n",
      "\u001b[34m\u001b[1mwandb\u001b[0m: \toptimiser: momentum\n",
      "\u001b[34m\u001b[1mwandb\u001b[0m: \tweight_decay: 0.5\n",
      "\u001b[34m\u001b[1mwandb\u001b[0m: \tweight_init: xavier\n"
     ]
    },
    {
     "data": {
      "text/html": [
       "\n",
       "                Tracking run with wandb version 0.10.22<br/>\n",
       "                Syncing run <strong style=\"color:#cdcd00\">hello</strong> to <a href=\"https://wandb.ai\" target=\"_blank\">Weights & Biases</a> <a href=\"https://docs.wandb.com/integrations/jupyter.html\" target=\"_blank\">(Documentation)</a>.<br/>\n",
       "                Project page: <a href=\"https://wandb.ai/notarchana/CS6910-A1\" target=\"_blank\">https://wandb.ai/notarchana/CS6910-A1</a><br/>\n",
       "                Sweep page: <a href=\"https://wandb.ai/notarchana/CS6910-A1/sweeps/lzmcss02\" target=\"_blank\">https://wandb.ai/notarchana/CS6910-A1/sweeps/lzmcss02</a><br/>\n",
       "Run page: <a href=\"https://wandb.ai/notarchana/CS6910-A1/runs/qayis7zl\" target=\"_blank\">https://wandb.ai/notarchana/CS6910-A1/runs/qayis7zl</a><br/>\n",
       "                Run data is saved locally in <code>/home/krishna/iit/sem6/dl/wandb/run-20210311_152150-qayis7zl</code><br/><br/>\n",
       "            "
      ],
      "text/plain": [
       "<IPython.core.display.HTML object>"
      ]
     },
     "metadata": {},
     "output_type": "display_data"
    },
    {
     "name": "stderr",
     "output_type": "stream",
     "text": [
      "\u001b[34m\u001b[1mwandb\u001b[0m: \u001b[33mWARNING\u001b[0m Calling run.save without any arguments is deprecated.Changes to attributes are automatically persisted.\n"
     ]
    },
    {
     "name": "stdout",
     "output_type": "stream",
     "text": [
      "model building done\n",
      "Epoch 0 done: Loss = 0.47974521452473723\n",
      "Epoch 1 done: Loss = 0.41292984914446124\n",
      "Epoch 2 done: Loss = 0.4028350442638948\n",
      "Epoch 3 done: Loss = 0.3938100110527791\n",
      "Epoch 4 done: Loss = 0.40625150377024155\n",
      "Epoch 5 done: Loss = 0.3424800342697628\n",
      "Epoch 6 done: Loss = 0.3429894146274634\n",
      "Epoch 7 done: Loss = 0.3290887679614053\n",
      "Epoch 8 done: Loss = 0.31531066404814495\n",
      "Epoch 9 done: Loss = 0.32946315259972214\n",
      "model training done\n"
     ]
    },
    {
     "data": {
      "text/html": [
       "<br/>Waiting for W&B process to finish, PID 61808<br/>Program ended successfully."
      ],
      "text/plain": [
       "<IPython.core.display.HTML object>"
      ]
     },
     "metadata": {},
     "output_type": "display_data"
    },
    {
     "data": {
      "application/vnd.jupyter.widget-view+json": {
       "model_id": "",
       "version_major": 2,
       "version_minor": 0
      },
      "text/plain": [
       "VBox(children=(Label(value=' 0.00MB of 0.00MB uploaded (0.00MB deduped)\\r'), FloatProgress(value=1.0, max=1.0)…"
      ]
     },
     "metadata": {},
     "output_type": "display_data"
    },
    {
     "data": {
      "text/html": [
       "Find user logs for this run at: <code>/home/krishna/iit/sem6/dl/wandb/run-20210311_152150-qayis7zl/logs/debug.log</code>"
      ],
      "text/plain": [
       "<IPython.core.display.HTML object>"
      ]
     },
     "metadata": {},
     "output_type": "display_data"
    },
    {
     "data": {
      "text/html": [
       "Find internal logs for this run at: <code>/home/krishna/iit/sem6/dl/wandb/run-20210311_152150-qayis7zl/logs/debug-internal.log</code>"
      ],
      "text/plain": [
       "<IPython.core.display.HTML object>"
      ]
     },
     "metadata": {},
     "output_type": "display_data"
    },
    {
     "data": {
      "text/html": [
       "<h3>Run summary:</h3><br/><style>\n",
       "    table.wandb td:nth-child(1) { padding: 0 10px; text-align: right }\n",
       "    </style><table class=\"wandb\">\n",
       "<tr><td>train accuracy</td><td>0.89254</td></tr><tr><td>validation accuracy</td><td>0.871</td></tr><tr><td>train loss</td><td>0.32946</td></tr><tr><td>val loss</td><td>0.37997</td></tr><tr><td>_runtime</td><td>35</td></tr><tr><td>_timestamp</td><td>1615456345</td></tr><tr><td>_step</td><td>9</td></tr></table>"
      ],
      "text/plain": [
       "<IPython.core.display.HTML object>"
      ]
     },
     "metadata": {},
     "output_type": "display_data"
    },
    {
     "data": {
      "text/html": [
       "<h3>Run history:</h3><br/><style>\n",
       "    table.wandb td:nth-child(1) { padding: 0 10px; text-align: right }\n",
       "    </style><table class=\"wandb\">\n",
       "<tr><td>train accuracy</td><td>▁▃▃▃▄▇▇██▇</td></tr><tr><td>validation accuracy</td><td>▁▃▃▃▄▇▇██▆</td></tr><tr><td>train loss</td><td>█▅▅▄▅▂▂▂▁▂</td></tr><tr><td>val loss</td><td>█▅▄▄▅▂▂▂▁▂</td></tr><tr><td>_runtime</td><td>▁▂▂▃▄▅▆▆▇█</td></tr><tr><td>_timestamp</td><td>▁▂▂▃▄▅▆▆▇█</td></tr><tr><td>_step</td><td>▁▂▃▃▄▅▆▆▇█</td></tr></table><br/>"
      ],
      "text/plain": [
       "<IPython.core.display.HTML object>"
      ]
     },
     "metadata": {},
     "output_type": "display_data"
    },
    {
     "data": {
      "text/html": [
       "Synced 5 W&B file(s), 0 media file(s), 0 artifact file(s) and 0 other file(s)"
      ],
      "text/plain": [
       "<IPython.core.display.HTML object>"
      ]
     },
     "metadata": {},
     "output_type": "display_data"
    },
    {
     "data": {
      "text/html": [
       "\n",
       "                    <br/>Synced <strong style=\"color:#cdcd00\">hello</strong>: <a href=\"https://wandb.ai/notarchana/CS6910-A1/runs/qayis7zl\" target=\"_blank\">https://wandb.ai/notarchana/CS6910-A1/runs/qayis7zl</a><br/>\n",
       "                "
      ],
      "text/plain": [
       "<IPython.core.display.HTML object>"
      ]
     },
     "metadata": {},
     "output_type": "display_data"
    },
    {
     "name": "stderr",
     "output_type": "stream",
     "text": [
      "\u001b[34m\u001b[1mwandb\u001b[0m: Agent Starting Run: lvq3ujcr with config:\n",
      "\u001b[34m\u001b[1mwandb\u001b[0m: \tactivation: sigmoid\n",
      "\u001b[34m\u001b[1mwandb\u001b[0m: \tbatch_size: 16\n",
      "\u001b[34m\u001b[1mwandb\u001b[0m: \tepochs: 10\n",
      "\u001b[34m\u001b[1mwandb\u001b[0m: \thidden_layer_size: 64\n",
      "\u001b[34m\u001b[1mwandb\u001b[0m: \thidden_layers: 3\n",
      "\u001b[34m\u001b[1mwandb\u001b[0m: \tlr: 0.001\n",
      "\u001b[34m\u001b[1mwandb\u001b[0m: \toptimiser: rmsprop\n",
      "\u001b[34m\u001b[1mwandb\u001b[0m: \tweight_decay: 0.5\n",
      "\u001b[34m\u001b[1mwandb\u001b[0m: \tweight_init: xavier\n"
     ]
    },
    {
     "data": {
      "text/html": [
       "\n",
       "                Tracking run with wandb version 0.10.22<br/>\n",
       "                Syncing run <strong style=\"color:#cdcd00\">hello</strong> to <a href=\"https://wandb.ai\" target=\"_blank\">Weights & Biases</a> <a href=\"https://docs.wandb.com/integrations/jupyter.html\" target=\"_blank\">(Documentation)</a>.<br/>\n",
       "                Project page: <a href=\"https://wandb.ai/notarchana/CS6910-A1\" target=\"_blank\">https://wandb.ai/notarchana/CS6910-A1</a><br/>\n",
       "                Sweep page: <a href=\"https://wandb.ai/notarchana/CS6910-A1/sweeps/lzmcss02\" target=\"_blank\">https://wandb.ai/notarchana/CS6910-A1/sweeps/lzmcss02</a><br/>\n",
       "Run page: <a href=\"https://wandb.ai/notarchana/CS6910-A1/runs/lvq3ujcr\" target=\"_blank\">https://wandb.ai/notarchana/CS6910-A1/runs/lvq3ujcr</a><br/>\n",
       "                Run data is saved locally in <code>/home/krishna/iit/sem6/dl/wandb/run-20210311_152235-lvq3ujcr</code><br/><br/>\n",
       "            "
      ],
      "text/plain": [
       "<IPython.core.display.HTML object>"
      ]
     },
     "metadata": {},
     "output_type": "display_data"
    },
    {
     "name": "stderr",
     "output_type": "stream",
     "text": [
      "\u001b[34m\u001b[1mwandb\u001b[0m: \u001b[33mWARNING\u001b[0m Calling run.save without any arguments is deprecated.Changes to attributes are automatically persisted.\n"
     ]
    },
    {
     "name": "stdout",
     "output_type": "stream",
     "text": [
      "model building done\n",
      "Epoch 0 done: Loss = 0.5381985569088308\n",
      "Epoch 1 done: Loss = 0.48086080230513123\n",
      "Epoch 2 done: Loss = 0.4500042558118889\n",
      "Epoch 3 done: Loss = 0.42334273722773974\n",
      "Epoch 4 done: Loss = 0.40374550620792765\n",
      "Epoch 5 done: Loss = 0.39474013071249375\n",
      "Epoch 6 done: Loss = 0.3882519871626332\n",
      "Epoch 7 done: Loss = 0.38110967470807394\n",
      "Epoch 8 done: Loss = 0.37635192684119156\n",
      "Epoch 9 done: Loss = 0.37196867048229154\n",
      "model training done\n"
     ]
    },
    {
     "data": {
      "text/html": [
       "<br/>Waiting for W&B process to finish, PID 61848<br/>Program ended successfully."
      ],
      "text/plain": [
       "<IPython.core.display.HTML object>"
      ]
     },
     "metadata": {},
     "output_type": "display_data"
    },
    {
     "data": {
      "application/vnd.jupyter.widget-view+json": {
       "model_id": "",
       "version_major": 2,
       "version_minor": 0
      },
      "text/plain": [
       "VBox(children=(Label(value=' 0.00MB of 0.00MB uploaded (0.00MB deduped)\\r'), FloatProgress(value=1.0, max=1.0)…"
      ]
     },
     "metadata": {},
     "output_type": "display_data"
    },
    {
     "data": {
      "text/html": [
       "Find user logs for this run at: <code>/home/krishna/iit/sem6/dl/wandb/run-20210311_152235-lvq3ujcr/logs/debug.log</code>"
      ],
      "text/plain": [
       "<IPython.core.display.HTML object>"
      ]
     },
     "metadata": {},
     "output_type": "display_data"
    },
    {
     "data": {
      "text/html": [
       "Find internal logs for this run at: <code>/home/krishna/iit/sem6/dl/wandb/run-20210311_152235-lvq3ujcr/logs/debug-internal.log</code>"
      ],
      "text/plain": [
       "<IPython.core.display.HTML object>"
      ]
     },
     "metadata": {},
     "output_type": "display_data"
    },
    {
     "data": {
      "text/html": [
       "<h3>Run summary:</h3><br/><style>\n",
       "    table.wandb td:nth-child(1) { padding: 0 10px; text-align: right }\n",
       "    </style><table class=\"wandb\">\n",
       "<tr><td>train accuracy</td><td>0.88162</td></tr><tr><td>validation accuracy</td><td>0.86783</td></tr><tr><td>train loss</td><td>0.37197</td></tr><tr><td>val loss</td><td>0.41169</td></tr><tr><td>_runtime</td><td>47</td></tr><tr><td>_timestamp</td><td>1615456403</td></tr><tr><td>_step</td><td>9</td></tr></table>"
      ],
      "text/plain": [
       "<IPython.core.display.HTML object>"
      ]
     },
     "metadata": {},
     "output_type": "display_data"
    },
    {
     "data": {
      "text/html": [
       "<h3>Run history:</h3><br/><style>\n",
       "    table.wandb td:nth-child(1) { padding: 0 10px; text-align: right }\n",
       "    </style><table class=\"wandb\">\n",
       "<tr><td>train accuracy</td><td>▁▅▆▇▇█████</td></tr><tr><td>validation accuracy</td><td>▁▅▆▇██████</td></tr><tr><td>train loss</td><td>█▆▄▃▂▂▂▁▁▁</td></tr><tr><td>val loss</td><td>█▅▄▃▂▂▁▁▁▁</td></tr><tr><td>_runtime</td><td>▁▂▃▃▄▅▆▆▇█</td></tr><tr><td>_timestamp</td><td>▁▂▃▃▄▅▆▆▇█</td></tr><tr><td>_step</td><td>▁▂▃▃▄▅▆▆▇█</td></tr></table><br/>"
      ],
      "text/plain": [
       "<IPython.core.display.HTML object>"
      ]
     },
     "metadata": {},
     "output_type": "display_data"
    },
    {
     "data": {
      "text/html": [
       "Synced 5 W&B file(s), 0 media file(s), 0 artifact file(s) and 0 other file(s)"
      ],
      "text/plain": [
       "<IPython.core.display.HTML object>"
      ]
     },
     "metadata": {},
     "output_type": "display_data"
    },
    {
     "data": {
      "text/html": [
       "\n",
       "                    <br/>Synced <strong style=\"color:#cdcd00\">hello</strong>: <a href=\"https://wandb.ai/notarchana/CS6910-A1/runs/lvq3ujcr\" target=\"_blank\">https://wandb.ai/notarchana/CS6910-A1/runs/lvq3ujcr</a><br/>\n",
       "                "
      ],
      "text/plain": [
       "<IPython.core.display.HTML object>"
      ]
     },
     "metadata": {},
     "output_type": "display_data"
    },
    {
     "name": "stderr",
     "output_type": "stream",
     "text": [
      "\u001b[34m\u001b[1mwandb\u001b[0m: Agent Starting Run: knps10y3 with config:\n",
      "\u001b[34m\u001b[1mwandb\u001b[0m: \tactivation: tanh\n",
      "\u001b[34m\u001b[1mwandb\u001b[0m: \tbatch_size: 32\n",
      "\u001b[34m\u001b[1mwandb\u001b[0m: \tepochs: 10\n",
      "\u001b[34m\u001b[1mwandb\u001b[0m: \thidden_layer_size: 32\n",
      "\u001b[34m\u001b[1mwandb\u001b[0m: \thidden_layers: 3\n",
      "\u001b[34m\u001b[1mwandb\u001b[0m: \tlr: 0.001\n",
      "\u001b[34m\u001b[1mwandb\u001b[0m: \toptimiser: momentum\n",
      "\u001b[34m\u001b[1mwandb\u001b[0m: \tweight_decay: 0\n",
      "\u001b[34m\u001b[1mwandb\u001b[0m: \tweight_init: xavier\n"
     ]
    },
    {
     "data": {
      "text/html": [
       "\n",
       "                Tracking run with wandb version 0.10.22<br/>\n",
       "                Syncing run <strong style=\"color:#cdcd00\">hello</strong> to <a href=\"https://wandb.ai\" target=\"_blank\">Weights & Biases</a> <a href=\"https://docs.wandb.com/integrations/jupyter.html\" target=\"_blank\">(Documentation)</a>.<br/>\n",
       "                Project page: <a href=\"https://wandb.ai/notarchana/CS6910-A1\" target=\"_blank\">https://wandb.ai/notarchana/CS6910-A1</a><br/>\n",
       "                Sweep page: <a href=\"https://wandb.ai/notarchana/CS6910-A1/sweeps/lzmcss02\" target=\"_blank\">https://wandb.ai/notarchana/CS6910-A1/sweeps/lzmcss02</a><br/>\n",
       "Run page: <a href=\"https://wandb.ai/notarchana/CS6910-A1/runs/knps10y3\" target=\"_blank\">https://wandb.ai/notarchana/CS6910-A1/runs/knps10y3</a><br/>\n",
       "                Run data is saved locally in <code>/home/krishna/iit/sem6/dl/wandb/run-20210311_152330-knps10y3</code><br/><br/>\n",
       "            "
      ],
      "text/plain": [
       "<IPython.core.display.HTML object>"
      ]
     },
     "metadata": {},
     "output_type": "display_data"
    },
    {
     "name": "stderr",
     "output_type": "stream",
     "text": [
      "\u001b[34m\u001b[1mwandb\u001b[0m: \u001b[33mWARNING\u001b[0m Calling run.save without any arguments is deprecated.Changes to attributes are automatically persisted.\n"
     ]
    },
    {
     "name": "stdout",
     "output_type": "stream",
     "text": [
      "model building done\n",
      "Epoch 0 done: Loss = 0.46501159475424786\n",
      "Epoch 1 done: Loss = 0.4146053597471487\n",
      "Epoch 2 done: Loss = 0.3955740771747399\n",
      "Epoch 3 done: Loss = 0.38503107430166283\n",
      "Epoch 4 done: Loss = 0.387694892244716\n",
      "Epoch 5 done: Loss = 0.3895820661214001\n",
      "Epoch 6 done: Loss = 0.3691431931103033\n",
      "Epoch 7 done: Loss = 0.3713165977309559\n",
      "Epoch 8 done: Loss = 0.3702262209981401\n",
      "Epoch 9 done: Loss = 0.3462696681562766\n",
      "model training done\n"
     ]
    },
    {
     "data": {
      "text/html": [
       "<br/>Waiting for W&B process to finish, PID 61880<br/>Program ended successfully."
      ],
      "text/plain": [
       "<IPython.core.display.HTML object>"
      ]
     },
     "metadata": {},
     "output_type": "display_data"
    },
    {
     "data": {
      "application/vnd.jupyter.widget-view+json": {
       "model_id": "",
       "version_major": 2,
       "version_minor": 0
      },
      "text/plain": [
       "VBox(children=(Label(value=' 0.00MB of 0.00MB uploaded (0.00MB deduped)\\r'), FloatProgress(value=1.0, max=1.0)…"
      ]
     },
     "metadata": {},
     "output_type": "display_data"
    },
    {
     "data": {
      "text/html": [
       "Find user logs for this run at: <code>/home/krishna/iit/sem6/dl/wandb/run-20210311_152330-knps10y3/logs/debug.log</code>"
      ],
      "text/plain": [
       "<IPython.core.display.HTML object>"
      ]
     },
     "metadata": {},
     "output_type": "display_data"
    },
    {
     "data": {
      "text/html": [
       "Find internal logs for this run at: <code>/home/krishna/iit/sem6/dl/wandb/run-20210311_152330-knps10y3/logs/debug-internal.log</code>"
      ],
      "text/plain": [
       "<IPython.core.display.HTML object>"
      ]
     },
     "metadata": {},
     "output_type": "display_data"
    },
    {
     "data": {
      "text/html": [
       "<h3>Run summary:</h3><br/><style>\n",
       "    table.wandb td:nth-child(1) { padding: 0 10px; text-align: right }\n",
       "    </style><table class=\"wandb\">\n",
       "<tr><td>train accuracy</td><td>0.89238</td></tr><tr><td>validation accuracy</td><td>0.87075</td></tr><tr><td>train loss</td><td>0.34627</td></tr><tr><td>val loss</td><td>0.38927</td></tr><tr><td>_runtime</td><td>20</td></tr><tr><td>_timestamp</td><td>1615456430</td></tr><tr><td>_step</td><td>9</td></tr></table>"
      ],
      "text/plain": [
       "<IPython.core.display.HTML object>"
      ]
     },
     "metadata": {},
     "output_type": "display_data"
    },
    {
     "data": {
      "text/html": [
       "<h3>Run history:</h3><br/><style>\n",
       "    table.wandb td:nth-child(1) { padding: 0 10px; text-align: right }\n",
       "    </style><table class=\"wandb\">\n",
       "<tr><td>train accuracy</td><td>▁▃▄▅▅▅▇▇▇█</td></tr><tr><td>validation accuracy</td><td>▁▃▄▅▄▅▆▇▇█</td></tr><tr><td>train loss</td><td>█▅▄▃▃▄▂▂▂▁</td></tr><tr><td>val loss</td><td>█▄▃▃▃▄▂▃▃▁</td></tr><tr><td>_runtime</td><td>▁▁▂▃▄▅▅▆▇█</td></tr><tr><td>_timestamp</td><td>▁▁▂▃▄▅▅▆▇█</td></tr><tr><td>_step</td><td>▁▂▃▃▄▅▆▆▇█</td></tr></table><br/>"
      ],
      "text/plain": [
       "<IPython.core.display.HTML object>"
      ]
     },
     "metadata": {},
     "output_type": "display_data"
    },
    {
     "data": {
      "text/html": [
       "Synced 5 W&B file(s), 0 media file(s), 0 artifact file(s) and 0 other file(s)"
      ],
      "text/plain": [
       "<IPython.core.display.HTML object>"
      ]
     },
     "metadata": {},
     "output_type": "display_data"
    },
    {
     "data": {
      "text/html": [
       "\n",
       "                    <br/>Synced <strong style=\"color:#cdcd00\">hello</strong>: <a href=\"https://wandb.ai/notarchana/CS6910-A1/runs/knps10y3\" target=\"_blank\">https://wandb.ai/notarchana/CS6910-A1/runs/knps10y3</a><br/>\n",
       "                "
      ],
      "text/plain": [
       "<IPython.core.display.HTML object>"
      ]
     },
     "metadata": {},
     "output_type": "display_data"
    },
    {
     "name": "stderr",
     "output_type": "stream",
     "text": [
      "\u001b[34m\u001b[1mwandb\u001b[0m: Agent Starting Run: u90q7xbc with config:\n",
      "\u001b[34m\u001b[1mwandb\u001b[0m: \tactivation: tanh\n",
      "\u001b[34m\u001b[1mwandb\u001b[0m: \tbatch_size: 64\n",
      "\u001b[34m\u001b[1mwandb\u001b[0m: \tepochs: 10\n",
      "\u001b[34m\u001b[1mwandb\u001b[0m: \thidden_layer_size: 128\n",
      "\u001b[34m\u001b[1mwandb\u001b[0m: \thidden_layers: 3\n",
      "\u001b[34m\u001b[1mwandb\u001b[0m: \tlr: 0.001\n",
      "\u001b[34m\u001b[1mwandb\u001b[0m: \toptimiser: rmsprop\n",
      "\u001b[34m\u001b[1mwandb\u001b[0m: \tweight_decay: 0.0005\n",
      "\u001b[34m\u001b[1mwandb\u001b[0m: \tweight_init: xavier\n"
     ]
    },
    {
     "data": {
      "text/html": [
       "\n",
       "                Tracking run with wandb version 0.10.22<br/>\n",
       "                Syncing run <strong style=\"color:#cdcd00\">hello</strong> to <a href=\"https://wandb.ai\" target=\"_blank\">Weights & Biases</a> <a href=\"https://docs.wandb.com/integrations/jupyter.html\" target=\"_blank\">(Documentation)</a>.<br/>\n",
       "                Project page: <a href=\"https://wandb.ai/notarchana/CS6910-A1\" target=\"_blank\">https://wandb.ai/notarchana/CS6910-A1</a><br/>\n",
       "                Sweep page: <a href=\"https://wandb.ai/notarchana/CS6910-A1/sweeps/lzmcss02\" target=\"_blank\">https://wandb.ai/notarchana/CS6910-A1/sweeps/lzmcss02</a><br/>\n",
       "Run page: <a href=\"https://wandb.ai/notarchana/CS6910-A1/runs/u90q7xbc\" target=\"_blank\">https://wandb.ai/notarchana/CS6910-A1/runs/u90q7xbc</a><br/>\n",
       "                Run data is saved locally in <code>/home/krishna/iit/sem6/dl/wandb/run-20210311_152357-u90q7xbc</code><br/><br/>\n",
       "            "
      ],
      "text/plain": [
       "<IPython.core.display.HTML object>"
      ]
     },
     "metadata": {},
     "output_type": "display_data"
    },
    {
     "name": "stderr",
     "output_type": "stream",
     "text": [
      "\u001b[34m\u001b[1mwandb\u001b[0m: \u001b[33mWARNING\u001b[0m Calling run.save without any arguments is deprecated.Changes to attributes are automatically persisted.\n"
     ]
    },
    {
     "name": "stdout",
     "output_type": "stream",
     "text": [
      "model building done\n",
      "Epoch 0 done: Loss = 0.4679956037972585\n",
      "Epoch 1 done: Loss = 0.40797945630847743\n",
      "Epoch 2 done: Loss = 0.4074399385016997\n",
      "Epoch 3 done: Loss = 0.34433722173092135\n",
      "Epoch 4 done: Loss = 0.32799663931819506\n",
      "Epoch 5 done: Loss = 0.32354795997435143\n",
      "Epoch 6 done: Loss = 0.32677338675850925\n",
      "Epoch 7 done: Loss = 0.32247431367857005\n",
      "Epoch 8 done: Loss = 0.3311736907985913\n",
      "Epoch 9 done: Loss = 0.32586324397462546\n",
      "model training done\n"
     ]
    },
    {
     "data": {
      "text/html": [
       "<br/>Waiting for W&B process to finish, PID 61909<br/>Program ended successfully."
      ],
      "text/plain": [
       "<IPython.core.display.HTML object>"
      ]
     },
     "metadata": {},
     "output_type": "display_data"
    },
    {
     "data": {
      "application/vnd.jupyter.widget-view+json": {
       "model_id": "",
       "version_major": 2,
       "version_minor": 0
      },
      "text/plain": [
       "VBox(children=(Label(value=' 0.00MB of 0.00MB uploaded (0.00MB deduped)\\r'), FloatProgress(value=1.0, max=1.0)…"
      ]
     },
     "metadata": {},
     "output_type": "display_data"
    },
    {
     "data": {
      "text/html": [
       "Find user logs for this run at: <code>/home/krishna/iit/sem6/dl/wandb/run-20210311_152357-u90q7xbc/logs/debug.log</code>"
      ],
      "text/plain": [
       "<IPython.core.display.HTML object>"
      ]
     },
     "metadata": {},
     "output_type": "display_data"
    },
    {
     "data": {
      "text/html": [
       "Find internal logs for this run at: <code>/home/krishna/iit/sem6/dl/wandb/run-20210311_152357-u90q7xbc/logs/debug-internal.log</code>"
      ],
      "text/plain": [
       "<IPython.core.display.HTML object>"
      ]
     },
     "metadata": {},
     "output_type": "display_data"
    },
    {
     "data": {
      "text/html": [
       "<h3>Run summary:</h3><br/><style>\n",
       "    table.wandb td:nth-child(1) { padding: 0 10px; text-align: right }\n",
       "    </style><table class=\"wandb\">\n",
       "<tr><td>train accuracy</td><td>0.90333</td></tr><tr><td>validation accuracy</td><td>0.87725</td></tr><tr><td>train loss</td><td>0.32586</td></tr><tr><td>val loss</td><td>0.3869</td></tr><tr><td>_runtime</td><td>59</td></tr><tr><td>_timestamp</td><td>1615456496</td></tr><tr><td>_step</td><td>9</td></tr></table>"
      ],
      "text/plain": [
       "<IPython.core.display.HTML object>"
      ]
     },
     "metadata": {},
     "output_type": "display_data"
    },
    {
     "data": {
      "text/html": [
       "<h3>Run history:</h3><br/><style>\n",
       "    table.wandb td:nth-child(1) { padding: 0 10px; text-align: right }\n",
       "    </style><table class=\"wandb\">\n",
       "<tr><td>train accuracy</td><td>▁▄▄▆▇█████</td></tr><tr><td>validation accuracy</td><td>▁▄▄▇██████</td></tr><tr><td>train loss</td><td>█▅▅▂▁▁▁▁▁▁</td></tr><tr><td>val loss</td><td>█▅▅▂▁▁▂▂▃▃</td></tr><tr><td>_runtime</td><td>▁▂▂▃▄▅▆▆▇█</td></tr><tr><td>_timestamp</td><td>▁▂▂▃▄▅▆▆▇█</td></tr><tr><td>_step</td><td>▁▂▃▃▄▅▆▆▇█</td></tr></table><br/>"
      ],
      "text/plain": [
       "<IPython.core.display.HTML object>"
      ]
     },
     "metadata": {},
     "output_type": "display_data"
    },
    {
     "data": {
      "text/html": [
       "Synced 5 W&B file(s), 0 media file(s), 0 artifact file(s) and 0 other file(s)"
      ],
      "text/plain": [
       "<IPython.core.display.HTML object>"
      ]
     },
     "metadata": {},
     "output_type": "display_data"
    },
    {
     "data": {
      "text/html": [
       "\n",
       "                    <br/>Synced <strong style=\"color:#cdcd00\">hello</strong>: <a href=\"https://wandb.ai/notarchana/CS6910-A1/runs/u90q7xbc\" target=\"_blank\">https://wandb.ai/notarchana/CS6910-A1/runs/u90q7xbc</a><br/>\n",
       "                "
      ],
      "text/plain": [
       "<IPython.core.display.HTML object>"
      ]
     },
     "metadata": {},
     "output_type": "display_data"
    },
    {
     "name": "stderr",
     "output_type": "stream",
     "text": [
      "\u001b[34m\u001b[1mwandb\u001b[0m: Agent Starting Run: kdl0r7dv with config:\n",
      "\u001b[34m\u001b[1mwandb\u001b[0m: \tactivation: relu\n",
      "\u001b[34m\u001b[1mwandb\u001b[0m: \tbatch_size: 32\n",
      "\u001b[34m\u001b[1mwandb\u001b[0m: \tepochs: 10\n",
      "\u001b[34m\u001b[1mwandb\u001b[0m: \thidden_layer_size: 64\n",
      "\u001b[34m\u001b[1mwandb\u001b[0m: \thidden_layers: 3\n",
      "\u001b[34m\u001b[1mwandb\u001b[0m: \tlr: 0.001\n",
      "\u001b[34m\u001b[1mwandb\u001b[0m: \toptimiser: nesterov\n",
      "\u001b[34m\u001b[1mwandb\u001b[0m: \tweight_decay: 0.0005\n",
      "\u001b[34m\u001b[1mwandb\u001b[0m: \tweight_init: xavier\n"
     ]
    },
    {
     "data": {
      "text/html": [
       "\n",
       "                Tracking run with wandb version 0.10.22<br/>\n",
       "                Syncing run <strong style=\"color:#cdcd00\">hello</strong> to <a href=\"https://wandb.ai\" target=\"_blank\">Weights & Biases</a> <a href=\"https://docs.wandb.com/integrations/jupyter.html\" target=\"_blank\">(Documentation)</a>.<br/>\n",
       "                Project page: <a href=\"https://wandb.ai/notarchana/CS6910-A1\" target=\"_blank\">https://wandb.ai/notarchana/CS6910-A1</a><br/>\n",
       "                Sweep page: <a href=\"https://wandb.ai/notarchana/CS6910-A1/sweeps/lzmcss02\" target=\"_blank\">https://wandb.ai/notarchana/CS6910-A1/sweeps/lzmcss02</a><br/>\n",
       "Run page: <a href=\"https://wandb.ai/notarchana/CS6910-A1/runs/kdl0r7dv\" target=\"_blank\">https://wandb.ai/notarchana/CS6910-A1/runs/kdl0r7dv</a><br/>\n",
       "                Run data is saved locally in <code>/home/krishna/iit/sem6/dl/wandb/run-20210311_152501-kdl0r7dv</code><br/><br/>\n",
       "            "
      ],
      "text/plain": [
       "<IPython.core.display.HTML object>"
      ]
     },
     "metadata": {},
     "output_type": "display_data"
    },
    {
     "name": "stderr",
     "output_type": "stream",
     "text": [
      "\u001b[34m\u001b[1mwandb\u001b[0m: \u001b[33mWARNING\u001b[0m Calling run.save without any arguments is deprecated.Changes to attributes are automatically persisted.\n"
     ]
    },
    {
     "name": "stdout",
     "output_type": "stream",
     "text": [
      "model building done\n",
      "Epoch 0 done: Loss = 0.8240894281331866\n",
      "Epoch 1 done: Loss = 0.638154631010919\n",
      "Epoch 2 done: Loss = 0.578110390267856\n",
      "Epoch 3 done: Loss = 0.5523863937857043\n",
      "Epoch 4 done: Loss = 0.539299730586894\n",
      "Epoch 5 done: Loss = 0.5224896064839448\n",
      "Epoch 6 done: Loss = 0.5090741889387093\n",
      "Epoch 7 done: Loss = 0.49757482972203587\n",
      "Epoch 8 done: Loss = 0.487084505289341\n",
      "Epoch 9 done: Loss = 0.47567032351126787\n",
      "model training done\n"
     ]
    },
    {
     "data": {
      "text/html": [
       "<br/>Waiting for W&B process to finish, PID 61948<br/>Program ended successfully."
      ],
      "text/plain": [
       "<IPython.core.display.HTML object>"
      ]
     },
     "metadata": {},
     "output_type": "display_data"
    },
    {
     "data": {
      "application/vnd.jupyter.widget-view+json": {
       "model_id": "",
       "version_major": 2,
       "version_minor": 0
      },
      "text/plain": [
       "VBox(children=(Label(value=' 0.00MB of 0.00MB uploaded (0.00MB deduped)\\r'), FloatProgress(value=1.0, max=1.0)…"
      ]
     },
     "metadata": {},
     "output_type": "display_data"
    },
    {
     "data": {
      "text/html": [
       "Find user logs for this run at: <code>/home/krishna/iit/sem6/dl/wandb/run-20210311_152501-kdl0r7dv/logs/debug.log</code>"
      ],
      "text/plain": [
       "<IPython.core.display.HTML object>"
      ]
     },
     "metadata": {},
     "output_type": "display_data"
    },
    {
     "data": {
      "text/html": [
       "Find internal logs for this run at: <code>/home/krishna/iit/sem6/dl/wandb/run-20210311_152501-kdl0r7dv/logs/debug-internal.log</code>"
      ],
      "text/plain": [
       "<IPython.core.display.HTML object>"
      ]
     },
     "metadata": {},
     "output_type": "display_data"
    },
    {
     "data": {
      "text/html": [
       "<h3>Run summary:</h3><br/><style>\n",
       "    table.wandb td:nth-child(1) { padding: 0 10px; text-align: right }\n",
       "    </style><table class=\"wandb\">\n",
       "<tr><td>train accuracy</td><td>0.85542</td></tr><tr><td>validation accuracy</td><td>0.852</td></tr><tr><td>train loss</td><td>0.47567</td></tr><tr><td>val loss</td><td>0.48524</td></tr><tr><td>_runtime</td><td>21</td></tr><tr><td>_timestamp</td><td>1615456522</td></tr><tr><td>_step</td><td>9</td></tr></table>"
      ],
      "text/plain": [
       "<IPython.core.display.HTML object>"
      ]
     },
     "metadata": {},
     "output_type": "display_data"
    },
    {
     "data": {
      "text/html": [
       "<h3>Run history:</h3><br/><style>\n",
       "    table.wandb td:nth-child(1) { padding: 0 10px; text-align: right }\n",
       "    </style><table class=\"wandb\">\n",
       "<tr><td>train accuracy</td><td>▁▅▆▆▇▇▇███</td></tr><tr><td>validation accuracy</td><td>▁▅▆▇▇▇▇███</td></tr><tr><td>train loss</td><td>█▄▃▃▂▂▂▁▁▁</td></tr><tr><td>val loss</td><td>█▄▃▂▂▂▂▁▁▁</td></tr><tr><td>_runtime</td><td>▁▂▂▃▄▅▆▆▇█</td></tr><tr><td>_timestamp</td><td>▁▂▂▃▄▅▆▆▇█</td></tr><tr><td>_step</td><td>▁▂▃▃▄▅▆▆▇█</td></tr></table><br/>"
      ],
      "text/plain": [
       "<IPython.core.display.HTML object>"
      ]
     },
     "metadata": {},
     "output_type": "display_data"
    },
    {
     "data": {
      "text/html": [
       "Synced 5 W&B file(s), 0 media file(s), 0 artifact file(s) and 0 other file(s)"
      ],
      "text/plain": [
       "<IPython.core.display.HTML object>"
      ]
     },
     "metadata": {},
     "output_type": "display_data"
    },
    {
     "data": {
      "text/html": [
       "\n",
       "                    <br/>Synced <strong style=\"color:#cdcd00\">hello</strong>: <a href=\"https://wandb.ai/notarchana/CS6910-A1/runs/kdl0r7dv\" target=\"_blank\">https://wandb.ai/notarchana/CS6910-A1/runs/kdl0r7dv</a><br/>\n",
       "                "
      ],
      "text/plain": [
       "<IPython.core.display.HTML object>"
      ]
     },
     "metadata": {},
     "output_type": "display_data"
    },
    {
     "name": "stderr",
     "output_type": "stream",
     "text": [
      "\u001b[34m\u001b[1mwandb\u001b[0m: Agent Starting Run: 3d07c76z with config:\n",
      "\u001b[34m\u001b[1mwandb\u001b[0m: \tactivation: relu\n",
      "\u001b[34m\u001b[1mwandb\u001b[0m: \tbatch_size: 64\n",
      "\u001b[34m\u001b[1mwandb\u001b[0m: \tepochs: 10\n",
      "\u001b[34m\u001b[1mwandb\u001b[0m: \thidden_layer_size: 64\n",
      "\u001b[34m\u001b[1mwandb\u001b[0m: \thidden_layers: 3\n",
      "\u001b[34m\u001b[1mwandb\u001b[0m: \tlr: 0.001\n",
      "\u001b[34m\u001b[1mwandb\u001b[0m: \toptimiser: rmsprop\n",
      "\u001b[34m\u001b[1mwandb\u001b[0m: \tweight_decay: 0.0005\n",
      "\u001b[34m\u001b[1mwandb\u001b[0m: \tweight_init: xavier\n"
     ]
    },
    {
     "data": {
      "text/html": [
       "\n",
       "                Tracking run with wandb version 0.10.22<br/>\n",
       "                Syncing run <strong style=\"color:#cdcd00\">hello</strong> to <a href=\"https://wandb.ai\" target=\"_blank\">Weights & Biases</a> <a href=\"https://docs.wandb.com/integrations/jupyter.html\" target=\"_blank\">(Documentation)</a>.<br/>\n",
       "                Project page: <a href=\"https://wandb.ai/notarchana/CS6910-A1\" target=\"_blank\">https://wandb.ai/notarchana/CS6910-A1</a><br/>\n",
       "                Sweep page: <a href=\"https://wandb.ai/notarchana/CS6910-A1/sweeps/lzmcss02\" target=\"_blank\">https://wandb.ai/notarchana/CS6910-A1/sweeps/lzmcss02</a><br/>\n",
       "Run page: <a href=\"https://wandb.ai/notarchana/CS6910-A1/runs/3d07c76z\" target=\"_blank\">https://wandb.ai/notarchana/CS6910-A1/runs/3d07c76z</a><br/>\n",
       "                Run data is saved locally in <code>/home/krishna/iit/sem6/dl/wandb/run-20210311_152531-3d07c76z</code><br/><br/>\n",
       "            "
      ],
      "text/plain": [
       "<IPython.core.display.HTML object>"
      ]
     },
     "metadata": {},
     "output_type": "display_data"
    },
    {
     "name": "stderr",
     "output_type": "stream",
     "text": [
      "\u001b[34m\u001b[1mwandb\u001b[0m: \u001b[33mWARNING\u001b[0m Calling run.save without any arguments is deprecated.Changes to attributes are automatically persisted.\n"
     ]
    },
    {
     "name": "stdout",
     "output_type": "stream",
     "text": [
      "model building done\n",
      "Epoch 0 done: Loss = 0.47982802640177\n",
      "Epoch 1 done: Loss = 0.4230392873777614\n",
      "Epoch 2 done: Loss = 0.40667173189564787\n",
      "Epoch 3 done: Loss = 0.3933218381126438\n",
      "Epoch 4 done: Loss = 0.3889759615726965\n",
      "Epoch 5 done: Loss = 0.3750196143028267\n",
      "Epoch 6 done: Loss = 0.35425208444384665\n",
      "Epoch 7 done: Loss = 0.367542551679918\n",
      "Epoch 8 done: Loss = 0.35228596448023025\n",
      "Epoch 9 done: Loss = 0.3615724729401075\n",
      "model training done\n"
     ]
    },
    {
     "data": {
      "text/html": [
       "<br/>Waiting for W&B process to finish, PID 61977<br/>Program ended successfully."
      ],
      "text/plain": [
       "<IPython.core.display.HTML object>"
      ]
     },
     "metadata": {},
     "output_type": "display_data"
    },
    {
     "data": {
      "application/vnd.jupyter.widget-view+json": {
       "model_id": "",
       "version_major": 2,
       "version_minor": 0
      },
      "text/plain": [
       "VBox(children=(Label(value=' 0.00MB of 0.00MB uploaded (0.00MB deduped)\\r'), FloatProgress(value=1.0, max=1.0)…"
      ]
     },
     "metadata": {},
     "output_type": "display_data"
    },
    {
     "data": {
      "text/html": [
       "Find user logs for this run at: <code>/home/krishna/iit/sem6/dl/wandb/run-20210311_152531-3d07c76z/logs/debug.log</code>"
      ],
      "text/plain": [
       "<IPython.core.display.HTML object>"
      ]
     },
     "metadata": {},
     "output_type": "display_data"
    },
    {
     "data": {
      "text/html": [
       "Find internal logs for this run at: <code>/home/krishna/iit/sem6/dl/wandb/run-20210311_152531-3d07c76z/logs/debug-internal.log</code>"
      ],
      "text/plain": [
       "<IPython.core.display.HTML object>"
      ]
     },
     "metadata": {},
     "output_type": "display_data"
    },
    {
     "data": {
      "text/html": [
       "<h3>Run summary:</h3><br/><style>\n",
       "    table.wandb td:nth-child(1) { padding: 0 10px; text-align: right }\n",
       "    </style><table class=\"wandb\">\n",
       "<tr><td>train accuracy</td><td>0.89444</td></tr><tr><td>validation accuracy</td><td>0.87567</td></tr><tr><td>train loss</td><td>0.36157</td></tr><tr><td>val loss</td><td>0.43278</td></tr><tr><td>_runtime</td><td>19</td></tr><tr><td>_timestamp</td><td>1615456550</td></tr><tr><td>_step</td><td>9</td></tr></table>"
      ],
      "text/plain": [
       "<IPython.core.display.HTML object>"
      ]
     },
     "metadata": {},
     "output_type": "display_data"
    },
    {
     "data": {
      "text/html": [
       "<h3>Run history:</h3><br/><style>\n",
       "    table.wandb td:nth-child(1) { padding: 0 10px; text-align: right }\n",
       "    </style><table class=\"wandb\">\n",
       "<tr><td>train accuracy</td><td>▁▃▅▆▆▆▇▇▇█</td></tr><tr><td>validation accuracy</td><td>▁▄▅▆▆▇▇▇▇█</td></tr><tr><td>train loss</td><td>█▅▄▃▃▂▁▂▁▂</td></tr><tr><td>val loss</td><td>█▄▃▃▃▂▁▃▂▃</td></tr><tr><td>_runtime</td><td>▁▂▂▃▄▅▆▆▇█</td></tr><tr><td>_timestamp</td><td>▁▂▂▃▄▅▆▆▇█</td></tr><tr><td>_step</td><td>▁▂▃▃▄▅▆▆▇█</td></tr></table><br/>"
      ],
      "text/plain": [
       "<IPython.core.display.HTML object>"
      ]
     },
     "metadata": {},
     "output_type": "display_data"
    },
    {
     "data": {
      "text/html": [
       "Synced 5 W&B file(s), 0 media file(s), 0 artifact file(s) and 0 other file(s)"
      ],
      "text/plain": [
       "<IPython.core.display.HTML object>"
      ]
     },
     "metadata": {},
     "output_type": "display_data"
    },
    {
     "data": {
      "text/html": [
       "\n",
       "                    <br/>Synced <strong style=\"color:#cdcd00\">hello</strong>: <a href=\"https://wandb.ai/notarchana/CS6910-A1/runs/3d07c76z\" target=\"_blank\">https://wandb.ai/notarchana/CS6910-A1/runs/3d07c76z</a><br/>\n",
       "                "
      ],
      "text/plain": [
       "<IPython.core.display.HTML object>"
      ]
     },
     "metadata": {},
     "output_type": "display_data"
    },
    {
     "name": "stderr",
     "output_type": "stream",
     "text": [
      "\u001b[34m\u001b[1mwandb\u001b[0m: Agent Starting Run: 7pb4a302 with config:\n",
      "\u001b[34m\u001b[1mwandb\u001b[0m: \tactivation: sigmoid\n",
      "\u001b[34m\u001b[1mwandb\u001b[0m: \tbatch_size: 64\n",
      "\u001b[34m\u001b[1mwandb\u001b[0m: \tepochs: 10\n",
      "\u001b[34m\u001b[1mwandb\u001b[0m: \thidden_layer_size: 32\n",
      "\u001b[34m\u001b[1mwandb\u001b[0m: \thidden_layers: 4\n",
      "\u001b[34m\u001b[1mwandb\u001b[0m: \tlr: 0.001\n",
      "\u001b[34m\u001b[1mwandb\u001b[0m: \toptimiser: rmsprop\n",
      "\u001b[34m\u001b[1mwandb\u001b[0m: \tweight_decay: 0\n",
      "\u001b[34m\u001b[1mwandb\u001b[0m: \tweight_init: xavier\n"
     ]
    },
    {
     "data": {
      "text/html": [
       "\n",
       "                Tracking run with wandb version 0.10.22<br/>\n",
       "                Syncing run <strong style=\"color:#cdcd00\">hello</strong> to <a href=\"https://wandb.ai\" target=\"_blank\">Weights & Biases</a> <a href=\"https://docs.wandb.com/integrations/jupyter.html\" target=\"_blank\">(Documentation)</a>.<br/>\n",
       "                Project page: <a href=\"https://wandb.ai/notarchana/CS6910-A1\" target=\"_blank\">https://wandb.ai/notarchana/CS6910-A1</a><br/>\n",
       "                Sweep page: <a href=\"https://wandb.ai/notarchana/CS6910-A1/sweeps/lzmcss02\" target=\"_blank\">https://wandb.ai/notarchana/CS6910-A1/sweeps/lzmcss02</a><br/>\n",
       "Run page: <a href=\"https://wandb.ai/notarchana/CS6910-A1/runs/7pb4a302\" target=\"_blank\">https://wandb.ai/notarchana/CS6910-A1/runs/7pb4a302</a><br/>\n",
       "                Run data is saved locally in <code>/home/krishna/iit/sem6/dl/wandb/run-20210311_152557-7pb4a302</code><br/><br/>\n",
       "            "
      ],
      "text/plain": [
       "<IPython.core.display.HTML object>"
      ]
     },
     "metadata": {},
     "output_type": "display_data"
    },
    {
     "name": "stderr",
     "output_type": "stream",
     "text": [
      "\u001b[34m\u001b[1mwandb\u001b[0m: \u001b[33mWARNING\u001b[0m Calling run.save without any arguments is deprecated.Changes to attributes are automatically persisted.\n"
     ]
    },
    {
     "name": "stdout",
     "output_type": "stream",
     "text": [
      "model building done\n",
      "Epoch 0 done: Loss = 2.2670942440881547\n",
      "Epoch 1 done: Loss = 1.4858450390499305\n",
      "Epoch 2 done: Loss = 0.9179408452360241\n",
      "Epoch 3 done: Loss = 0.7534542048782071\n",
      "Epoch 4 done: Loss = 0.7312718456939752\n",
      "Epoch 5 done: Loss = 0.7055087365382221\n",
      "Epoch 6 done: Loss = 0.6684780236161405\n",
      "Epoch 7 done: Loss = 0.6321129795763457\n",
      "Epoch 8 done: Loss = 0.6113472028090094\n",
      "Epoch 9 done: Loss = 0.5858077508525503\n",
      "model training done\n"
     ]
    },
    {
     "data": {
      "text/html": [
       "<br/>Waiting for W&B process to finish, PID 62008<br/>Program ended successfully."
      ],
      "text/plain": [
       "<IPython.core.display.HTML object>"
      ]
     },
     "metadata": {},
     "output_type": "display_data"
    },
    {
     "data": {
      "application/vnd.jupyter.widget-view+json": {
       "model_id": "",
       "version_major": 2,
       "version_minor": 0
      },
      "text/plain": [
       "VBox(children=(Label(value=' 0.00MB of 0.00MB uploaded (0.00MB deduped)\\r'), FloatProgress(value=1.0, max=1.0)…"
      ]
     },
     "metadata": {},
     "output_type": "display_data"
    },
    {
     "data": {
      "text/html": [
       "Find user logs for this run at: <code>/home/krishna/iit/sem6/dl/wandb/run-20210311_152557-7pb4a302/logs/debug.log</code>"
      ],
      "text/plain": [
       "<IPython.core.display.HTML object>"
      ]
     },
     "metadata": {},
     "output_type": "display_data"
    },
    {
     "data": {
      "text/html": [
       "Find internal logs for this run at: <code>/home/krishna/iit/sem6/dl/wandb/run-20210311_152557-7pb4a302/logs/debug-internal.log</code>"
      ],
      "text/plain": [
       "<IPython.core.display.HTML object>"
      ]
     },
     "metadata": {},
     "output_type": "display_data"
    },
    {
     "data": {
      "text/html": [
       "<h3>Run summary:</h3><br/><style>\n",
       "    table.wandb td:nth-child(1) { padding: 0 10px; text-align: right }\n",
       "    </style><table class=\"wandb\">\n",
       "<tr><td>train accuracy</td><td>0.83656</td></tr><tr><td>validation accuracy</td><td>0.83008</td></tr><tr><td>train loss</td><td>0.58581</td></tr><tr><td>val loss</td><td>0.59316</td></tr><tr><td>_runtime</td><td>16</td></tr><tr><td>_timestamp</td><td>1615456573</td></tr><tr><td>_step</td><td>9</td></tr></table>"
      ],
      "text/plain": [
       "<IPython.core.display.HTML object>"
      ]
     },
     "metadata": {},
     "output_type": "display_data"
    },
    {
     "data": {
      "text/html": [
       "<h3>Run history:</h3><br/><style>\n",
       "    table.wandb td:nth-child(1) { padding: 0 10px; text-align: right }\n",
       "    </style><table class=\"wandb\">\n",
       "<tr><td>train accuracy</td><td>▁▃▆▇▇█████</td></tr><tr><td>validation accuracy</td><td>▁▃▆▇▇█████</td></tr><tr><td>train loss</td><td>█▅▂▂▂▁▁▁▁▁</td></tr><tr><td>val loss</td><td>█▅▂▂▂▁▁▁▁▁</td></tr><tr><td>_runtime</td><td>▁▂▃▃▄▅▆▆▇█</td></tr><tr><td>_timestamp</td><td>▁▂▃▃▄▅▆▆▇█</td></tr><tr><td>_step</td><td>▁▂▃▃▄▅▆▆▇█</td></tr></table><br/>"
      ],
      "text/plain": [
       "<IPython.core.display.HTML object>"
      ]
     },
     "metadata": {},
     "output_type": "display_data"
    },
    {
     "data": {
      "text/html": [
       "Synced 5 W&B file(s), 0 media file(s), 0 artifact file(s) and 0 other file(s)"
      ],
      "text/plain": [
       "<IPython.core.display.HTML object>"
      ]
     },
     "metadata": {},
     "output_type": "display_data"
    },
    {
     "data": {
      "text/html": [
       "\n",
       "                    <br/>Synced <strong style=\"color:#cdcd00\">hello</strong>: <a href=\"https://wandb.ai/notarchana/CS6910-A1/runs/7pb4a302\" target=\"_blank\">https://wandb.ai/notarchana/CS6910-A1/runs/7pb4a302</a><br/>\n",
       "                "
      ],
      "text/plain": [
       "<IPython.core.display.HTML object>"
      ]
     },
     "metadata": {},
     "output_type": "display_data"
    },
    {
     "name": "stderr",
     "output_type": "stream",
     "text": [
      "\u001b[34m\u001b[1mwandb\u001b[0m: Agent Starting Run: xx7ht4la with config:\n",
      "\u001b[34m\u001b[1mwandb\u001b[0m: \tactivation: sigmoid\n",
      "\u001b[34m\u001b[1mwandb\u001b[0m: \tbatch_size: 32\n",
      "\u001b[34m\u001b[1mwandb\u001b[0m: \tepochs: 10\n",
      "\u001b[34m\u001b[1mwandb\u001b[0m: \thidden_layer_size: 128\n",
      "\u001b[34m\u001b[1mwandb\u001b[0m: \thidden_layers: 3\n",
      "\u001b[34m\u001b[1mwandb\u001b[0m: \tlr: 0.001\n",
      "\u001b[34m\u001b[1mwandb\u001b[0m: \toptimiser: nadam\n",
      "\u001b[34m\u001b[1mwandb\u001b[0m: \tweight_decay: 0.5\n",
      "\u001b[34m\u001b[1mwandb\u001b[0m: \tweight_init: xavier\n"
     ]
    },
    {
     "data": {
      "text/html": [
       "\n",
       "                Tracking run with wandb version 0.10.22<br/>\n",
       "                Syncing run <strong style=\"color:#cdcd00\">hello</strong> to <a href=\"https://wandb.ai\" target=\"_blank\">Weights & Biases</a> <a href=\"https://docs.wandb.com/integrations/jupyter.html\" target=\"_blank\">(Documentation)</a>.<br/>\n",
       "                Project page: <a href=\"https://wandb.ai/notarchana/CS6910-A1\" target=\"_blank\">https://wandb.ai/notarchana/CS6910-A1</a><br/>\n",
       "                Sweep page: <a href=\"https://wandb.ai/notarchana/CS6910-A1/sweeps/lzmcss02\" target=\"_blank\">https://wandb.ai/notarchana/CS6910-A1/sweeps/lzmcss02</a><br/>\n",
       "Run page: <a href=\"https://wandb.ai/notarchana/CS6910-A1/runs/xx7ht4la\" target=\"_blank\">https://wandb.ai/notarchana/CS6910-A1/runs/xx7ht4la</a><br/>\n",
       "                Run data is saved locally in <code>/home/krishna/iit/sem6/dl/wandb/run-20210311_152618-xx7ht4la</code><br/><br/>\n",
       "            "
      ],
      "text/plain": [
       "<IPython.core.display.HTML object>"
      ]
     },
     "metadata": {},
     "output_type": "display_data"
    },
    {
     "name": "stderr",
     "output_type": "stream",
     "text": [
      "\u001b[34m\u001b[1mwandb\u001b[0m: \u001b[33mWARNING\u001b[0m Calling run.save without any arguments is deprecated.Changes to attributes are automatically persisted.\n"
     ]
    },
    {
     "name": "stdout",
     "output_type": "stream",
     "text": [
      "model building done\n",
      "Epoch 0 done: Loss = 0.575089466885627\n",
      "Epoch 1 done: Loss = 0.4716811457472835\n",
      "Epoch 2 done: Loss = 0.43767493862636003\n",
      "Epoch 3 done: Loss = 0.4187824505561712\n",
      "Epoch 4 done: Loss = 0.40627406311776654\n",
      "Epoch 5 done: Loss = 0.3967985554348132\n",
      "Epoch 6 done: Loss = 0.3889253690788239\n",
      "Epoch 7 done: Loss = 0.38201226841843633\n",
      "Epoch 8 done: Loss = 0.3757516988602772\n",
      "Epoch 9 done: Loss = 0.369974741049953\n",
      "model training done\n"
     ]
    },
    {
     "data": {
      "text/html": [
       "<br/>Waiting for W&B process to finish, PID 62044<br/>Program ended successfully."
      ],
      "text/plain": [
       "<IPython.core.display.HTML object>"
      ]
     },
     "metadata": {},
     "output_type": "display_data"
    },
    {
     "data": {
      "application/vnd.jupyter.widget-view+json": {
       "model_id": "",
       "version_major": 2,
       "version_minor": 0
      },
      "text/plain": [
       "VBox(children=(Label(value=' 0.00MB of 0.00MB uploaded (0.00MB deduped)\\r'), FloatProgress(value=1.0, max=1.0)…"
      ]
     },
     "metadata": {},
     "output_type": "display_data"
    },
    {
     "data": {
      "text/html": [
       "Find user logs for this run at: <code>/home/krishna/iit/sem6/dl/wandb/run-20210311_152618-xx7ht4la/logs/debug.log</code>"
      ],
      "text/plain": [
       "<IPython.core.display.HTML object>"
      ]
     },
     "metadata": {},
     "output_type": "display_data"
    },
    {
     "data": {
      "text/html": [
       "Find internal logs for this run at: <code>/home/krishna/iit/sem6/dl/wandb/run-20210311_152618-xx7ht4la/logs/debug-internal.log</code>"
      ],
      "text/plain": [
       "<IPython.core.display.HTML object>"
      ]
     },
     "metadata": {},
     "output_type": "display_data"
    },
    {
     "data": {
      "text/html": [
       "<h3>Run summary:</h3><br/><style>\n",
       "    table.wandb td:nth-child(1) { padding: 0 10px; text-align: right }\n",
       "    </style><table class=\"wandb\">\n",
       "<tr><td>train accuracy</td><td>0.87981</td></tr><tr><td>validation accuracy</td><td>0.87367</td></tr><tr><td>train loss</td><td>0.36997</td></tr><tr><td>val loss</td><td>0.37465</td></tr><tr><td>_runtime</td><td>70</td></tr><tr><td>_timestamp</td><td>1615456648</td></tr><tr><td>_step</td><td>9</td></tr></table>"
      ],
      "text/plain": [
       "<IPython.core.display.HTML object>"
      ]
     },
     "metadata": {},
     "output_type": "display_data"
    },
    {
     "data": {
      "text/html": [
       "<h3>Run history:</h3><br/><style>\n",
       "    table.wandb td:nth-child(1) { padding: 0 10px; text-align: right }\n",
       "    </style><table class=\"wandb\">\n",
       "<tr><td>train accuracy</td><td>▁▅▆▆▇▇▇███</td></tr><tr><td>validation accuracy</td><td>▁▅▆▇▇▇▇███</td></tr><tr><td>train loss</td><td>█▄▃▃▂▂▂▁▁▁</td></tr><tr><td>val loss</td><td>█▄▃▃▂▂▂▁▁▁</td></tr><tr><td>_runtime</td><td>▁▂▂▃▄▅▆▆▇█</td></tr><tr><td>_timestamp</td><td>▁▂▂▃▄▅▆▆▇█</td></tr><tr><td>_step</td><td>▁▂▃▃▄▅▆▆▇█</td></tr></table><br/>"
      ],
      "text/plain": [
       "<IPython.core.display.HTML object>"
      ]
     },
     "metadata": {},
     "output_type": "display_data"
    },
    {
     "data": {
      "text/html": [
       "Synced 5 W&B file(s), 0 media file(s), 0 artifact file(s) and 0 other file(s)"
      ],
      "text/plain": [
       "<IPython.core.display.HTML object>"
      ]
     },
     "metadata": {},
     "output_type": "display_data"
    },
    {
     "data": {
      "text/html": [
       "\n",
       "                    <br/>Synced <strong style=\"color:#cdcd00\">hello</strong>: <a href=\"https://wandb.ai/notarchana/CS6910-A1/runs/xx7ht4la\" target=\"_blank\">https://wandb.ai/notarchana/CS6910-A1/runs/xx7ht4la</a><br/>\n",
       "                "
      ],
      "text/plain": [
       "<IPython.core.display.HTML object>"
      ]
     },
     "metadata": {},
     "output_type": "display_data"
    },
    {
     "name": "stderr",
     "output_type": "stream",
     "text": [
      "\u001b[34m\u001b[1mwandb\u001b[0m: Agent Starting Run: 5dqk18w1 with config:\n",
      "\u001b[34m\u001b[1mwandb\u001b[0m: \tactivation: relu\n",
      "\u001b[34m\u001b[1mwandb\u001b[0m: \tbatch_size: 16\n",
      "\u001b[34m\u001b[1mwandb\u001b[0m: \tepochs: 10\n",
      "\u001b[34m\u001b[1mwandb\u001b[0m: \thidden_layer_size: 64\n",
      "\u001b[34m\u001b[1mwandb\u001b[0m: \thidden_layers: 4\n",
      "\u001b[34m\u001b[1mwandb\u001b[0m: \tlr: 0.001\n",
      "\u001b[34m\u001b[1mwandb\u001b[0m: \toptimiser: adam\n",
      "\u001b[34m\u001b[1mwandb\u001b[0m: \tweight_decay: 0\n",
      "\u001b[34m\u001b[1mwandb\u001b[0m: \tweight_init: xavier\n"
     ]
    },
    {
     "data": {
      "text/html": [
       "\n",
       "                Tracking run with wandb version 0.10.22<br/>\n",
       "                Syncing run <strong style=\"color:#cdcd00\">hello</strong> to <a href=\"https://wandb.ai\" target=\"_blank\">Weights & Biases</a> <a href=\"https://docs.wandb.com/integrations/jupyter.html\" target=\"_blank\">(Documentation)</a>.<br/>\n",
       "                Project page: <a href=\"https://wandb.ai/notarchana/CS6910-A1\" target=\"_blank\">https://wandb.ai/notarchana/CS6910-A1</a><br/>\n",
       "                Sweep page: <a href=\"https://wandb.ai/notarchana/CS6910-A1/sweeps/lzmcss02\" target=\"_blank\">https://wandb.ai/notarchana/CS6910-A1/sweeps/lzmcss02</a><br/>\n",
       "Run page: <a href=\"https://wandb.ai/notarchana/CS6910-A1/runs/5dqk18w1\" target=\"_blank\">https://wandb.ai/notarchana/CS6910-A1/runs/5dqk18w1</a><br/>\n",
       "                Run data is saved locally in <code>/home/krishna/iit/sem6/dl/wandb/run-20210311_152735-5dqk18w1</code><br/><br/>\n",
       "            "
      ],
      "text/plain": [
       "<IPython.core.display.HTML object>"
      ]
     },
     "metadata": {},
     "output_type": "display_data"
    },
    {
     "name": "stderr",
     "output_type": "stream",
     "text": [
      "\u001b[34m\u001b[1mwandb\u001b[0m: \u001b[33mWARNING\u001b[0m Calling run.save without any arguments is deprecated.Changes to attributes are automatically persisted.\n"
     ]
    },
    {
     "name": "stdout",
     "output_type": "stream",
     "text": [
      "model building done\n",
      "Epoch 0 done: Loss = 2.1084051914651174\n",
      "Epoch 1 done: Loss = 2.103002249637388\n",
      "Epoch 2 done: Loss = 2.1356920428578268\n",
      "Epoch 3 done: Loss = 2.1644723361276106\n",
      "Epoch 4 done: Loss = 2.1622664397753653\n",
      "Epoch 5 done: Loss = 2.153591413507284\n",
      "Epoch 6 done: Loss = 2.1284724322702187\n",
      "Epoch 7 done: Loss = 2.0774574533430634\n",
      "Epoch 8 done: Loss = 1.9289955157836267\n",
      "Epoch 9 done: Loss = 0.36496170925756627\n",
      "model training done\n"
     ]
    },
    {
     "data": {
      "text/html": [
       "<br/>Waiting for W&B process to finish, PID 62085<br/>Program ended successfully."
      ],
      "text/plain": [
       "<IPython.core.display.HTML object>"
      ]
     },
     "metadata": {},
     "output_type": "display_data"
    },
    {
     "data": {
      "application/vnd.jupyter.widget-view+json": {
       "model_id": "",
       "version_major": 2,
       "version_minor": 0
      },
      "text/plain": [
       "VBox(children=(Label(value=' 0.00MB of 0.00MB uploaded (0.00MB deduped)\\r'), FloatProgress(value=1.0, max=1.0)…"
      ]
     },
     "metadata": {},
     "output_type": "display_data"
    },
    {
     "data": {
      "text/html": [
       "Find user logs for this run at: <code>/home/krishna/iit/sem6/dl/wandb/run-20210311_152735-5dqk18w1/logs/debug.log</code>"
      ],
      "text/plain": [
       "<IPython.core.display.HTML object>"
      ]
     },
     "metadata": {},
     "output_type": "display_data"
    },
    {
     "data": {
      "text/html": [
       "Find internal logs for this run at: <code>/home/krishna/iit/sem6/dl/wandb/run-20210311_152735-5dqk18w1/logs/debug-internal.log</code>"
      ],
      "text/plain": [
       "<IPython.core.display.HTML object>"
      ]
     },
     "metadata": {},
     "output_type": "display_data"
    },
    {
     "data": {
      "text/html": [
       "<h3>Run summary:</h3><br/><style>\n",
       "    table.wandb td:nth-child(1) { padding: 0 10px; text-align: right }\n",
       "    </style><table class=\"wandb\">\n",
       "<tr><td>train accuracy</td><td>0.88808</td></tr><tr><td>validation accuracy</td><td>0.86958</td></tr><tr><td>train loss</td><td>0.36496</td></tr><tr><td>val loss</td><td>0.40755</td></tr><tr><td>_runtime</td><td>93</td></tr><tr><td>_timestamp</td><td>1615456748</td></tr><tr><td>_step</td><td>9</td></tr></table>"
      ],
      "text/plain": [
       "<IPython.core.display.HTML object>"
      ]
     },
     "metadata": {},
     "output_type": "display_data"
    },
    {
     "data": {
      "text/html": [
       "<h3>Run history:</h3><br/><style>\n",
       "    table.wandb td:nth-child(1) { padding: 0 10px; text-align: right }\n",
       "    </style><table class=\"wandb\">\n",
       "<tr><td>train accuracy</td><td>▁▂▂▃▃▃▃▃▃█</td></tr><tr><td>validation accuracy</td><td>▁▂▂▂▃▃▃▃▃█</td></tr><tr><td>train loss</td><td>████████▇▁</td></tr><tr><td>val loss</td><td>████████▇▁</td></tr><tr><td>_runtime</td><td>▁▁▂▃▄▅▆▆▇█</td></tr><tr><td>_timestamp</td><td>▁▁▂▃▄▅▆▆▇█</td></tr><tr><td>_step</td><td>▁▂▃▃▄▅▆▆▇█</td></tr></table><br/>"
      ],
      "text/plain": [
       "<IPython.core.display.HTML object>"
      ]
     },
     "metadata": {},
     "output_type": "display_data"
    },
    {
     "data": {
      "text/html": [
       "Synced 5 W&B file(s), 0 media file(s), 0 artifact file(s) and 0 other file(s)"
      ],
      "text/plain": [
       "<IPython.core.display.HTML object>"
      ]
     },
     "metadata": {},
     "output_type": "display_data"
    },
    {
     "data": {
      "text/html": [
       "\n",
       "                    <br/>Synced <strong style=\"color:#cdcd00\">hello</strong>: <a href=\"https://wandb.ai/notarchana/CS6910-A1/runs/5dqk18w1\" target=\"_blank\">https://wandb.ai/notarchana/CS6910-A1/runs/5dqk18w1</a><br/>\n",
       "                "
      ],
      "text/plain": [
       "<IPython.core.display.HTML object>"
      ]
     },
     "metadata": {},
     "output_type": "display_data"
    },
    {
     "name": "stderr",
     "output_type": "stream",
     "text": [
      "\u001b[34m\u001b[1mwandb\u001b[0m: Agent Starting Run: evpu9yzi with config:\n",
      "\u001b[34m\u001b[1mwandb\u001b[0m: \tactivation: sigmoid\n",
      "\u001b[34m\u001b[1mwandb\u001b[0m: \tbatch_size: 16\n",
      "\u001b[34m\u001b[1mwandb\u001b[0m: \tepochs: 10\n",
      "\u001b[34m\u001b[1mwandb\u001b[0m: \thidden_layer_size: 128\n",
      "\u001b[34m\u001b[1mwandb\u001b[0m: \thidden_layers: 3\n",
      "\u001b[34m\u001b[1mwandb\u001b[0m: \tlr: 0.001\n",
      "\u001b[34m\u001b[1mwandb\u001b[0m: \toptimiser: adam\n",
      "\u001b[34m\u001b[1mwandb\u001b[0m: \tweight_decay: 0\n",
      "\u001b[34m\u001b[1mwandb\u001b[0m: \tweight_init: xavier\n"
     ]
    },
    {
     "data": {
      "text/html": [
       "\n",
       "                Tracking run with wandb version 0.10.22<br/>\n",
       "                Syncing run <strong style=\"color:#cdcd00\">hello</strong> to <a href=\"https://wandb.ai\" target=\"_blank\">Weights & Biases</a> <a href=\"https://docs.wandb.com/integrations/jupyter.html\" target=\"_blank\">(Documentation)</a>.<br/>\n",
       "                Project page: <a href=\"https://wandb.ai/notarchana/CS6910-A1\" target=\"_blank\">https://wandb.ai/notarchana/CS6910-A1</a><br/>\n",
       "                Sweep page: <a href=\"https://wandb.ai/notarchana/CS6910-A1/sweeps/lzmcss02\" target=\"_blank\">https://wandb.ai/notarchana/CS6910-A1/sweeps/lzmcss02</a><br/>\n",
       "Run page: <a href=\"https://wandb.ai/notarchana/CS6910-A1/runs/evpu9yzi\" target=\"_blank\">https://wandb.ai/notarchana/CS6910-A1/runs/evpu9yzi</a><br/>\n",
       "                Run data is saved locally in <code>/home/krishna/iit/sem6/dl/wandb/run-20210311_152914-evpu9yzi</code><br/><br/>\n",
       "            "
      ],
      "text/plain": [
       "<IPython.core.display.HTML object>"
      ]
     },
     "metadata": {},
     "output_type": "display_data"
    },
    {
     "name": "stderr",
     "output_type": "stream",
     "text": [
      "\u001b[34m\u001b[1mwandb\u001b[0m: \u001b[33mWARNING\u001b[0m Calling run.save without any arguments is deprecated.Changes to attributes are automatically persisted.\n"
     ]
    },
    {
     "name": "stdout",
     "output_type": "stream",
     "text": [
      "model building done\n",
      "Epoch 0 done: Loss = 0.5288805969398274\n",
      "Epoch 1 done: Loss = 0.4593350730763528\n",
      "Epoch 2 done: Loss = 0.4273643606409945\n",
      "Epoch 3 done: Loss = 0.40373912296517483\n",
      "Epoch 4 done: Loss = 0.38583302267494834\n",
      "Epoch 5 done: Loss = 0.3711063818633308\n",
      "Epoch 6 done: Loss = 0.3583540431039854\n",
      "Epoch 7 done: Loss = 0.3487729736393216\n",
      "Epoch 8 done: Loss = 0.3409535825391306\n",
      "Epoch 9 done: Loss = 0.33445145047269287\n",
      "model training done\n"
     ]
    },
    {
     "data": {
      "text/html": [
       "<br/>Waiting for W&B process to finish, PID 62122<br/>Program ended successfully."
      ],
      "text/plain": [
       "<IPython.core.display.HTML object>"
      ]
     },
     "metadata": {},
     "output_type": "display_data"
    },
    {
     "data": {
      "application/vnd.jupyter.widget-view+json": {
       "model_id": "",
       "version_major": 2,
       "version_minor": 0
      },
      "text/plain": [
       "VBox(children=(Label(value=' 0.00MB of 0.00MB uploaded (0.00MB deduped)\\r'), FloatProgress(value=1.0, max=1.0)…"
      ]
     },
     "metadata": {},
     "output_type": "display_data"
    },
    {
     "data": {
      "text/html": [
       "Find user logs for this run at: <code>/home/krishna/iit/sem6/dl/wandb/run-20210311_152914-evpu9yzi/logs/debug.log</code>"
      ],
      "text/plain": [
       "<IPython.core.display.HTML object>"
      ]
     },
     "metadata": {},
     "output_type": "display_data"
    },
    {
     "data": {
      "text/html": [
       "Find internal logs for this run at: <code>/home/krishna/iit/sem6/dl/wandb/run-20210311_152914-evpu9yzi/logs/debug-internal.log</code>"
      ],
      "text/plain": [
       "<IPython.core.display.HTML object>"
      ]
     },
     "metadata": {},
     "output_type": "display_data"
    },
    {
     "data": {
      "text/html": [
       "<h3>Run summary:</h3><br/><style>\n",
       "    table.wandb td:nth-child(1) { padding: 0 10px; text-align: right }\n",
       "    </style><table class=\"wandb\">\n",
       "<tr><td>train accuracy</td><td>0.88796</td></tr><tr><td>validation accuracy</td><td>0.87533</td></tr><tr><td>train loss</td><td>0.33445</td></tr><tr><td>val loss</td><td>0.3579</td></tr><tr><td>_runtime</td><td>96</td></tr><tr><td>_timestamp</td><td>1615456851</td></tr><tr><td>_step</td><td>9</td></tr></table>"
      ],
      "text/plain": [
       "<IPython.core.display.HTML object>"
      ]
     },
     "metadata": {},
     "output_type": "display_data"
    },
    {
     "data": {
      "text/html": [
       "<h3>Run history:</h3><br/><style>\n",
       "    table.wandb td:nth-child(1) { padding: 0 10px; text-align: right }\n",
       "    </style><table class=\"wandb\">\n",
       "<tr><td>train accuracy</td><td>▁▄▅▆▆▇▇▇██</td></tr><tr><td>validation accuracy</td><td>▁▄▅▆▆▇▇▇██</td></tr><tr><td>train loss</td><td>█▅▄▃▃▂▂▂▁▁</td></tr><tr><td>val loss</td><td>█▅▄▃▂▂▂▁▁▁</td></tr><tr><td>_runtime</td><td>▁▂▂▃▄▅▆▆▇█</td></tr><tr><td>_timestamp</td><td>▁▂▂▃▄▅▆▆▇█</td></tr><tr><td>_step</td><td>▁▂▃▃▄▅▆▆▇█</td></tr></table><br/>"
      ],
      "text/plain": [
       "<IPython.core.display.HTML object>"
      ]
     },
     "metadata": {},
     "output_type": "display_data"
    },
    {
     "data": {
      "text/html": [
       "Synced 5 W&B file(s), 0 media file(s), 0 artifact file(s) and 0 other file(s)"
      ],
      "text/plain": [
       "<IPython.core.display.HTML object>"
      ]
     },
     "metadata": {},
     "output_type": "display_data"
    },
    {
     "data": {
      "text/html": [
       "\n",
       "                    <br/>Synced <strong style=\"color:#cdcd00\">hello</strong>: <a href=\"https://wandb.ai/notarchana/CS6910-A1/runs/evpu9yzi\" target=\"_blank\">https://wandb.ai/notarchana/CS6910-A1/runs/evpu9yzi</a><br/>\n",
       "                "
      ],
      "text/plain": [
       "<IPython.core.display.HTML object>"
      ]
     },
     "metadata": {},
     "output_type": "display_data"
    },
    {
     "name": "stderr",
     "output_type": "stream",
     "text": [
      "\u001b[34m\u001b[1mwandb\u001b[0m: Agent Starting Run: fypx6wrk with config:\n",
      "\u001b[34m\u001b[1mwandb\u001b[0m: \tactivation: relu\n",
      "\u001b[34m\u001b[1mwandb\u001b[0m: \tbatch_size: 64\n",
      "\u001b[34m\u001b[1mwandb\u001b[0m: \tepochs: 10\n",
      "\u001b[34m\u001b[1mwandb\u001b[0m: \thidden_layer_size: 64\n",
      "\u001b[34m\u001b[1mwandb\u001b[0m: \thidden_layers: 4\n",
      "\u001b[34m\u001b[1mwandb\u001b[0m: \tlr: 0.001\n",
      "\u001b[34m\u001b[1mwandb\u001b[0m: \toptimiser: momentum\n",
      "\u001b[34m\u001b[1mwandb\u001b[0m: \tweight_decay: 0.0005\n",
      "\u001b[34m\u001b[1mwandb\u001b[0m: \tweight_init: xavier\n"
     ]
    },
    {
     "data": {
      "text/html": [
       "\n",
       "                Tracking run with wandb version 0.10.22<br/>\n",
       "                Syncing run <strong style=\"color:#cdcd00\">hello</strong> to <a href=\"https://wandb.ai\" target=\"_blank\">Weights & Biases</a> <a href=\"https://docs.wandb.com/integrations/jupyter.html\" target=\"_blank\">(Documentation)</a>.<br/>\n",
       "                Project page: <a href=\"https://wandb.ai/notarchana/CS6910-A1\" target=\"_blank\">https://wandb.ai/notarchana/CS6910-A1</a><br/>\n",
       "                Sweep page: <a href=\"https://wandb.ai/notarchana/CS6910-A1/sweeps/lzmcss02\" target=\"_blank\">https://wandb.ai/notarchana/CS6910-A1/sweeps/lzmcss02</a><br/>\n",
       "Run page: <a href=\"https://wandb.ai/notarchana/CS6910-A1/runs/fypx6wrk\" target=\"_blank\">https://wandb.ai/notarchana/CS6910-A1/runs/fypx6wrk</a><br/>\n",
       "                Run data is saved locally in <code>/home/krishna/iit/sem6/dl/wandb/run-20210311_153058-fypx6wrk</code><br/><br/>\n",
       "            "
      ],
      "text/plain": [
       "<IPython.core.display.HTML object>"
      ]
     },
     "metadata": {},
     "output_type": "display_data"
    },
    {
     "name": "stderr",
     "output_type": "stream",
     "text": [
      "\u001b[34m\u001b[1mwandb\u001b[0m: \u001b[33mWARNING\u001b[0m Calling run.save without any arguments is deprecated.Changes to attributes are automatically persisted.\n"
     ]
    },
    {
     "name": "stdout",
     "output_type": "stream",
     "text": [
      "model building done\n",
      "Epoch 0 done: Loss = 17.91822811480123\n",
      "Epoch 1 done: Loss = 17.866778846908435\n",
      "Epoch 2 done: Loss = 17.795164528257217\n",
      "Epoch 3 done: Loss = 17.684573377360373\n",
      "Epoch 4 done: Loss = 17.473165970347218\n",
      "Epoch 5 done: Loss = 16.58770462137712\n",
      "Epoch 6 done: Loss = 13.70070784397548\n",
      "Epoch 7 done: Loss = 12.397988494609415\n",
      "Epoch 8 done: Loss = 12.697632961382403\n",
      "Epoch 9 done: Loss = 12.743471722091524\n",
      "model training done\n"
     ]
    },
    {
     "data": {
      "text/html": [
       "<br/>Waiting for W&B process to finish, PID 62169<br/>Program ended successfully."
      ],
      "text/plain": [
       "<IPython.core.display.HTML object>"
      ]
     },
     "metadata": {},
     "output_type": "display_data"
    },
    {
     "data": {
      "application/vnd.jupyter.widget-view+json": {
       "model_id": "",
       "version_major": 2,
       "version_minor": 0
      },
      "text/plain": [
       "VBox(children=(Label(value=' 0.00MB of 0.00MB uploaded (0.00MB deduped)\\r'), FloatProgress(value=1.0, max=1.0)…"
      ]
     },
     "metadata": {},
     "output_type": "display_data"
    },
    {
     "data": {
      "text/html": [
       "Find user logs for this run at: <code>/home/krishna/iit/sem6/dl/wandb/run-20210311_153058-fypx6wrk/logs/debug.log</code>"
      ],
      "text/plain": [
       "<IPython.core.display.HTML object>"
      ]
     },
     "metadata": {},
     "output_type": "display_data"
    },
    {
     "data": {
      "text/html": [
       "Find internal logs for this run at: <code>/home/krishna/iit/sem6/dl/wandb/run-20210311_153058-fypx6wrk/logs/debug-internal.log</code>"
      ],
      "text/plain": [
       "<IPython.core.display.HTML object>"
      ]
     },
     "metadata": {},
     "output_type": "display_data"
    },
    {
     "data": {
      "text/html": [
       "<h3>Run summary:</h3><br/><style>\n",
       "    table.wandb td:nth-child(1) { padding: 0 10px; text-align: right }\n",
       "    </style><table class=\"wandb\">\n",
       "<tr><td>train accuracy</td><td>0.27954</td></tr><tr><td>validation accuracy</td><td>0.28383</td></tr><tr><td>train loss</td><td>12.74347</td></tr><tr><td>val loss</td><td>12.59337</td></tr><tr><td>_runtime</td><td>18</td></tr><tr><td>_timestamp</td><td>1615456876</td></tr><tr><td>_step</td><td>9</td></tr></table>"
      ],
      "text/plain": [
       "<IPython.core.display.HTML object>"
      ]
     },
     "metadata": {},
     "output_type": "display_data"
    },
    {
     "data": {
      "text/html": [
       "<h3>Run history:</h3><br/><style>\n",
       "    table.wandb td:nth-child(1) { padding: 0 10px; text-align: right }\n",
       "    </style><table class=\"wandb\">\n",
       "<tr><td>train accuracy</td><td>▁▁▁▁▁▁▄███</td></tr><tr><td>validation accuracy</td><td>▁▁▁▁▁▁▄███</td></tr><tr><td>train loss</td><td>████▇▆▃▁▁▁</td></tr><tr><td>val loss</td><td>████▇▆▃▁▁▁</td></tr><tr><td>_runtime</td><td>▁▂▂▃▅▅▆▇▇█</td></tr><tr><td>_timestamp</td><td>▁▂▂▃▅▅▆▇▇█</td></tr><tr><td>_step</td><td>▁▂▃▃▄▅▆▆▇█</td></tr></table><br/>"
      ],
      "text/plain": [
       "<IPython.core.display.HTML object>"
      ]
     },
     "metadata": {},
     "output_type": "display_data"
    },
    {
     "data": {
      "text/html": [
       "Synced 5 W&B file(s), 0 media file(s), 0 artifact file(s) and 0 other file(s)"
      ],
      "text/plain": [
       "<IPython.core.display.HTML object>"
      ]
     },
     "metadata": {},
     "output_type": "display_data"
    },
    {
     "data": {
      "text/html": [
       "\n",
       "                    <br/>Synced <strong style=\"color:#cdcd00\">hello</strong>: <a href=\"https://wandb.ai/notarchana/CS6910-A1/runs/fypx6wrk\" target=\"_blank\">https://wandb.ai/notarchana/CS6910-A1/runs/fypx6wrk</a><br/>\n",
       "                "
      ],
      "text/plain": [
       "<IPython.core.display.HTML object>"
      ]
     },
     "metadata": {},
     "output_type": "display_data"
    },
    {
     "name": "stderr",
     "output_type": "stream",
     "text": [
      "\u001b[34m\u001b[1mwandb\u001b[0m: Agent Starting Run: vuakxmtq with config:\n",
      "\u001b[34m\u001b[1mwandb\u001b[0m: \tactivation: relu\n",
      "\u001b[34m\u001b[1mwandb\u001b[0m: \tbatch_size: 32\n",
      "\u001b[34m\u001b[1mwandb\u001b[0m: \tepochs: 10\n",
      "\u001b[34m\u001b[1mwandb\u001b[0m: \thidden_layer_size: 32\n",
      "\u001b[34m\u001b[1mwandb\u001b[0m: \thidden_layers: 3\n",
      "\u001b[34m\u001b[1mwandb\u001b[0m: \tlr: 0.001\n",
      "\u001b[34m\u001b[1mwandb\u001b[0m: \toptimiser: rmsprop\n",
      "\u001b[34m\u001b[1mwandb\u001b[0m: \tweight_decay: 0.5\n",
      "\u001b[34m\u001b[1mwandb\u001b[0m: \tweight_init: xavier\n"
     ]
    },
    {
     "data": {
      "text/html": [
       "\n",
       "                Tracking run with wandb version 0.10.22<br/>\n",
       "                Syncing run <strong style=\"color:#cdcd00\">hello</strong> to <a href=\"https://wandb.ai\" target=\"_blank\">Weights & Biases</a> <a href=\"https://docs.wandb.com/integrations/jupyter.html\" target=\"_blank\">(Documentation)</a>.<br/>\n",
       "                Project page: <a href=\"https://wandb.ai/notarchana/CS6910-A1\" target=\"_blank\">https://wandb.ai/notarchana/CS6910-A1</a><br/>\n",
       "                Sweep page: <a href=\"https://wandb.ai/notarchana/CS6910-A1/sweeps/lzmcss02\" target=\"_blank\">https://wandb.ai/notarchana/CS6910-A1/sweeps/lzmcss02</a><br/>\n",
       "Run page: <a href=\"https://wandb.ai/notarchana/CS6910-A1/runs/vuakxmtq\" target=\"_blank\">https://wandb.ai/notarchana/CS6910-A1/runs/vuakxmtq</a><br/>\n",
       "                Run data is saved locally in <code>/home/krishna/iit/sem6/dl/wandb/run-20210311_153123-vuakxmtq</code><br/><br/>\n",
       "            "
      ],
      "text/plain": [
       "<IPython.core.display.HTML object>"
      ]
     },
     "metadata": {},
     "output_type": "display_data"
    },
    {
     "name": "stderr",
     "output_type": "stream",
     "text": [
      "\u001b[34m\u001b[1mwandb\u001b[0m: \u001b[33mWARNING\u001b[0m Calling run.save without any arguments is deprecated.Changes to attributes are automatically persisted.\n"
     ]
    },
    {
     "name": "stdout",
     "output_type": "stream",
     "text": [
      "model building done\n",
      "Epoch 0 done: Loss = 0.48555380390367714\n",
      "Epoch 1 done: Loss = 0.4437155708459923\n",
      "Epoch 2 done: Loss = 0.42521849510078913\n",
      "Epoch 3 done: Loss = 0.4024783424918207\n",
      "Epoch 4 done: Loss = 0.43973551363462593\n",
      "Epoch 5 done: Loss = 0.41820651003445\n",
      "Epoch 6 done: Loss = 0.4137921073529589\n",
      "Epoch 7 done: Loss = 0.4240693371024078\n",
      "Epoch 8 done: Loss = 0.3944704722812132\n",
      "Epoch 9 done: Loss = 0.41380307485670603\n",
      "model training done\n"
     ]
    },
    {
     "data": {
      "text/html": [
       "<br/>Waiting for W&B process to finish, PID 62199<br/>Program ended successfully."
      ],
      "text/plain": [
       "<IPython.core.display.HTML object>"
      ]
     },
     "metadata": {},
     "output_type": "display_data"
    },
    {
     "data": {
      "application/vnd.jupyter.widget-view+json": {
       "model_id": "",
       "version_major": 2,
       "version_minor": 0
      },
      "text/plain": [
       "VBox(children=(Label(value=' 0.00MB of 0.00MB uploaded (0.00MB deduped)\\r'), FloatProgress(value=1.0, max=1.0)…"
      ]
     },
     "metadata": {},
     "output_type": "display_data"
    },
    {
     "data": {
      "text/html": [
       "Find user logs for this run at: <code>/home/krishna/iit/sem6/dl/wandb/run-20210311_153123-vuakxmtq/logs/debug.log</code>"
      ],
      "text/plain": [
       "<IPython.core.display.HTML object>"
      ]
     },
     "metadata": {},
     "output_type": "display_data"
    },
    {
     "data": {
      "text/html": [
       "Find internal logs for this run at: <code>/home/krishna/iit/sem6/dl/wandb/run-20210311_153123-vuakxmtq/logs/debug-internal.log</code>"
      ],
      "text/plain": [
       "<IPython.core.display.HTML object>"
      ]
     },
     "metadata": {},
     "output_type": "display_data"
    },
    {
     "data": {
      "text/html": [
       "<h3>Run summary:</h3><br/><style>\n",
       "    table.wandb td:nth-child(1) { padding: 0 10px; text-align: right }\n",
       "    </style><table class=\"wandb\">\n",
       "<tr><td>train accuracy</td><td>0.882</td></tr><tr><td>validation accuracy</td><td>0.86475</td></tr><tr><td>train loss</td><td>0.4138</td></tr><tr><td>val loss</td><td>0.47962</td></tr><tr><td>_runtime</td><td>17</td></tr><tr><td>_timestamp</td><td>1615456900</td></tr><tr><td>_step</td><td>9</td></tr></table>"
      ],
      "text/plain": [
       "<IPython.core.display.HTML object>"
      ]
     },
     "metadata": {},
     "output_type": "display_data"
    },
    {
     "data": {
      "text/html": [
       "<h3>Run history:</h3><br/><style>\n",
       "    table.wandb td:nth-child(1) { padding: 0 10px; text-align: right }\n",
       "    </style><table class=\"wandb\">\n",
       "<tr><td>train accuracy</td><td>▁▃▄▅▄▆▆▆██</td></tr><tr><td>validation accuracy</td><td>▁▄▅▆▄▅▆▆█▇</td></tr><tr><td>train loss</td><td>█▅▃▂▄▃▂▃▁▂</td></tr><tr><td>val loss</td><td>█▄▃▁▆▄▄▆▃▆</td></tr><tr><td>_runtime</td><td>▁▂▂▃▄▅▅▆▇█</td></tr><tr><td>_timestamp</td><td>▁▂▂▃▄▅▅▆▇█</td></tr><tr><td>_step</td><td>▁▂▃▃▄▅▆▆▇█</td></tr></table><br/>"
      ],
      "text/plain": [
       "<IPython.core.display.HTML object>"
      ]
     },
     "metadata": {},
     "output_type": "display_data"
    },
    {
     "data": {
      "text/html": [
       "Synced 5 W&B file(s), 0 media file(s), 0 artifact file(s) and 0 other file(s)"
      ],
      "text/plain": [
       "<IPython.core.display.HTML object>"
      ]
     },
     "metadata": {},
     "output_type": "display_data"
    },
    {
     "data": {
      "text/html": [
       "\n",
       "                    <br/>Synced <strong style=\"color:#cdcd00\">hello</strong>: <a href=\"https://wandb.ai/notarchana/CS6910-A1/runs/vuakxmtq\" target=\"_blank\">https://wandb.ai/notarchana/CS6910-A1/runs/vuakxmtq</a><br/>\n",
       "                "
      ],
      "text/plain": [
       "<IPython.core.display.HTML object>"
      ]
     },
     "metadata": {},
     "output_type": "display_data"
    },
    {
     "name": "stderr",
     "output_type": "stream",
     "text": [
      "\u001b[34m\u001b[1mwandb\u001b[0m: Agent Starting Run: rd0e67nc with config:\n",
      "\u001b[34m\u001b[1mwandb\u001b[0m: \tactivation: tanh\n",
      "\u001b[34m\u001b[1mwandb\u001b[0m: \tbatch_size: 64\n",
      "\u001b[34m\u001b[1mwandb\u001b[0m: \tepochs: 10\n",
      "\u001b[34m\u001b[1mwandb\u001b[0m: \thidden_layer_size: 128\n",
      "\u001b[34m\u001b[1mwandb\u001b[0m: \thidden_layers: 4\n",
      "\u001b[34m\u001b[1mwandb\u001b[0m: \tlr: 0.001\n",
      "\u001b[34m\u001b[1mwandb\u001b[0m: \toptimiser: adam\n",
      "\u001b[34m\u001b[1mwandb\u001b[0m: \tweight_decay: 0\n",
      "\u001b[34m\u001b[1mwandb\u001b[0m: \tweight_init: xavier\n"
     ]
    },
    {
     "data": {
      "text/html": [
       "\n",
       "                Tracking run with wandb version 0.10.22<br/>\n",
       "                Syncing run <strong style=\"color:#cdcd00\">hello</strong> to <a href=\"https://wandb.ai\" target=\"_blank\">Weights & Biases</a> <a href=\"https://docs.wandb.com/integrations/jupyter.html\" target=\"_blank\">(Documentation)</a>.<br/>\n",
       "                Project page: <a href=\"https://wandb.ai/notarchana/CS6910-A1\" target=\"_blank\">https://wandb.ai/notarchana/CS6910-A1</a><br/>\n",
       "                Sweep page: <a href=\"https://wandb.ai/notarchana/CS6910-A1/sweeps/lzmcss02\" target=\"_blank\">https://wandb.ai/notarchana/CS6910-A1/sweeps/lzmcss02</a><br/>\n",
       "Run page: <a href=\"https://wandb.ai/notarchana/CS6910-A1/runs/rd0e67nc\" target=\"_blank\">https://wandb.ai/notarchana/CS6910-A1/runs/rd0e67nc</a><br/>\n",
       "                Run data is saved locally in <code>/home/krishna/iit/sem6/dl/wandb/run-20210311_153146-rd0e67nc</code><br/><br/>\n",
       "            "
      ],
      "text/plain": [
       "<IPython.core.display.HTML object>"
      ]
     },
     "metadata": {},
     "output_type": "display_data"
    },
    {
     "name": "stderr",
     "output_type": "stream",
     "text": [
      "\u001b[34m\u001b[1mwandb\u001b[0m: \u001b[33mWARNING\u001b[0m Calling run.save without any arguments is deprecated.Changes to attributes are automatically persisted.\n"
     ]
    },
    {
     "name": "stdout",
     "output_type": "stream",
     "text": [
      "model building done\n",
      "Epoch 0 done: Loss = 0.448223451915315\n",
      "Epoch 1 done: Loss = 0.4029470721947664\n",
      "Epoch 2 done: Loss = 0.3793450845159116\n",
      "Epoch 3 done: Loss = 0.359499899830403\n",
      "Epoch 4 done: Loss = 0.34317733950955015\n",
      "Epoch 5 done: Loss = 0.3317954696213395\n",
      "Epoch 6 done: Loss = 0.3237672331642225\n",
      "Epoch 7 done: Loss = 0.31785825731459627\n",
      "Epoch 8 done: Loss = 0.3134448730660245\n",
      "Epoch 9 done: Loss = 0.30974372199861316\n",
      "model training done\n"
     ]
    },
    {
     "data": {
      "text/html": [
       "<br/>Waiting for W&B process to finish, PID 62228<br/>Program ended successfully."
      ],
      "text/plain": [
       "<IPython.core.display.HTML object>"
      ]
     },
     "metadata": {},
     "output_type": "display_data"
    },
    {
     "data": {
      "application/vnd.jupyter.widget-view+json": {
       "model_id": "",
       "version_major": 2,
       "version_minor": 0
      },
      "text/plain": [
       "VBox(children=(Label(value=' 0.00MB of 0.00MB uploaded (0.00MB deduped)\\r'), FloatProgress(value=1.0, max=1.0)…"
      ]
     },
     "metadata": {},
     "output_type": "display_data"
    },
    {
     "data": {
      "text/html": [
       "Find user logs for this run at: <code>/home/krishna/iit/sem6/dl/wandb/run-20210311_153146-rd0e67nc/logs/debug.log</code>"
      ],
      "text/plain": [
       "<IPython.core.display.HTML object>"
      ]
     },
     "metadata": {},
     "output_type": "display_data"
    },
    {
     "data": {
      "text/html": [
       "Find internal logs for this run at: <code>/home/krishna/iit/sem6/dl/wandb/run-20210311_153146-rd0e67nc/logs/debug-internal.log</code>"
      ],
      "text/plain": [
       "<IPython.core.display.HTML object>"
      ]
     },
     "metadata": {},
     "output_type": "display_data"
    },
    {
     "data": {
      "text/html": [
       "<h3>Run summary:</h3><br/><style>\n",
       "    table.wandb td:nth-child(1) { padding: 0 10px; text-align: right }\n",
       "    </style><table class=\"wandb\">\n",
       "<tr><td>train accuracy</td><td>0.89852</td></tr><tr><td>validation accuracy</td><td>0.8745</td></tr><tr><td>train loss</td><td>0.30974</td></tr><tr><td>val loss</td><td>0.35767</td></tr><tr><td>_runtime</td><td>77</td></tr><tr><td>_timestamp</td><td>1615456984</td></tr><tr><td>_step</td><td>9</td></tr></table>"
      ],
      "text/plain": [
       "<IPython.core.display.HTML object>"
      ]
     },
     "metadata": {},
     "output_type": "display_data"
    },
    {
     "data": {
      "text/html": [
       "<h3>Run history:</h3><br/><style>\n",
       "    table.wandb td:nth-child(1) { padding: 0 10px; text-align: right }\n",
       "    </style><table class=\"wandb\">\n",
       "<tr><td>train accuracy</td><td>▁▃▄▆▆▇▇███</td></tr><tr><td>validation accuracy</td><td>▁▄▅▆▇▇████</td></tr><tr><td>train loss</td><td>█▆▅▄▃▂▂▁▁▁</td></tr><tr><td>val loss</td><td>█▅▄▃▂▂▁▁▁▁</td></tr><tr><td>_runtime</td><td>▁▂▃▃▄▅▆▆▇█</td></tr><tr><td>_timestamp</td><td>▁▂▃▃▄▅▆▆▇█</td></tr><tr><td>_step</td><td>▁▂▃▃▄▅▆▆▇█</td></tr></table><br/>"
      ],
      "text/plain": [
       "<IPython.core.display.HTML object>"
      ]
     },
     "metadata": {},
     "output_type": "display_data"
    },
    {
     "data": {
      "text/html": [
       "Synced 5 W&B file(s), 0 media file(s), 0 artifact file(s) and 0 other file(s)"
      ],
      "text/plain": [
       "<IPython.core.display.HTML object>"
      ]
     },
     "metadata": {},
     "output_type": "display_data"
    },
    {
     "data": {
      "text/html": [
       "\n",
       "                    <br/>Synced <strong style=\"color:#cdcd00\">hello</strong>: <a href=\"https://wandb.ai/notarchana/CS6910-A1/runs/rd0e67nc\" target=\"_blank\">https://wandb.ai/notarchana/CS6910-A1/runs/rd0e67nc</a><br/>\n",
       "                "
      ],
      "text/plain": [
       "<IPython.core.display.HTML object>"
      ]
     },
     "metadata": {},
     "output_type": "display_data"
    },
    {
     "name": "stderr",
     "output_type": "stream",
     "text": [
      "\u001b[34m\u001b[1mwandb\u001b[0m: Agent Starting Run: id3l7t3d with config:\n",
      "\u001b[34m\u001b[1mwandb\u001b[0m: \tactivation: relu\n",
      "\u001b[34m\u001b[1mwandb\u001b[0m: \tbatch_size: 32\n",
      "\u001b[34m\u001b[1mwandb\u001b[0m: \tepochs: 10\n",
      "\u001b[34m\u001b[1mwandb\u001b[0m: \thidden_layer_size: 64\n",
      "\u001b[34m\u001b[1mwandb\u001b[0m: \thidden_layers: 4\n",
      "\u001b[34m\u001b[1mwandb\u001b[0m: \tlr: 0.001\n",
      "\u001b[34m\u001b[1mwandb\u001b[0m: \toptimiser: nesterov\n",
      "\u001b[34m\u001b[1mwandb\u001b[0m: \tweight_decay: 0.0005\n",
      "\u001b[34m\u001b[1mwandb\u001b[0m: \tweight_init: xavier\n"
     ]
    },
    {
     "data": {
      "text/html": [
       "\n",
       "                Tracking run with wandb version 0.10.22<br/>\n",
       "                Syncing run <strong style=\"color:#cdcd00\">hello</strong> to <a href=\"https://wandb.ai\" target=\"_blank\">Weights & Biases</a> <a href=\"https://docs.wandb.com/integrations/jupyter.html\" target=\"_blank\">(Documentation)</a>.<br/>\n",
       "                Project page: <a href=\"https://wandb.ai/notarchana/CS6910-A1\" target=\"_blank\">https://wandb.ai/notarchana/CS6910-A1</a><br/>\n",
       "                Sweep page: <a href=\"https://wandb.ai/notarchana/CS6910-A1/sweeps/lzmcss02\" target=\"_blank\">https://wandb.ai/notarchana/CS6910-A1/sweeps/lzmcss02</a><br/>\n",
       "Run page: <a href=\"https://wandb.ai/notarchana/CS6910-A1/runs/id3l7t3d\" target=\"_blank\">https://wandb.ai/notarchana/CS6910-A1/runs/id3l7t3d</a><br/>\n",
       "                Run data is saved locally in <code>/home/krishna/iit/sem6/dl/wandb/run-20210311_153312-id3l7t3d</code><br/><br/>\n",
       "            "
      ],
      "text/plain": [
       "<IPython.core.display.HTML object>"
      ]
     },
     "metadata": {},
     "output_type": "display_data"
    },
    {
     "name": "stderr",
     "output_type": "stream",
     "text": [
      "\u001b[34m\u001b[1mwandb\u001b[0m: \u001b[33mWARNING\u001b[0m Calling run.save without any arguments is deprecated.Changes to attributes are automatically persisted.\n"
     ]
    },
    {
     "name": "stdout",
     "output_type": "stream",
     "text": [
      "model building done\n",
      "Epoch 0 done: Loss = 0.916959666871193\n",
      "Epoch 1 done: Loss = 0.7007143140338041\n",
      "Epoch 2 done: Loss = 0.6359477919591655\n",
      "Epoch 3 done: Loss = 0.5857325290301708\n",
      "Epoch 4 done: Loss = 0.5559228153931528\n",
      "Epoch 5 done: Loss = 0.534125051842658\n",
      "Epoch 6 done: Loss = 0.5132688203580712\n",
      "Epoch 7 done: Loss = 0.49853054625630566\n",
      "Epoch 8 done: Loss = 0.486993290669665\n",
      "Epoch 9 done: Loss = 0.4767530716158622\n",
      "model training done\n"
     ]
    },
    {
     "data": {
      "text/html": [
       "<br/>Waiting for W&B process to finish, PID 62282<br/>Program ended successfully."
      ],
      "text/plain": [
       "<IPython.core.display.HTML object>"
      ]
     },
     "metadata": {},
     "output_type": "display_data"
    },
    {
     "data": {
      "application/vnd.jupyter.widget-view+json": {
       "model_id": "",
       "version_major": 2,
       "version_minor": 0
      },
      "text/plain": [
       "VBox(children=(Label(value=' 0.00MB of 0.00MB uploaded (0.00MB deduped)\\r'), FloatProgress(value=1.0, max=1.0)…"
      ]
     },
     "metadata": {},
     "output_type": "display_data"
    },
    {
     "data": {
      "text/html": [
       "Find user logs for this run at: <code>/home/krishna/iit/sem6/dl/wandb/run-20210311_153312-id3l7t3d/logs/debug.log</code>"
      ],
      "text/plain": [
       "<IPython.core.display.HTML object>"
      ]
     },
     "metadata": {},
     "output_type": "display_data"
    },
    {
     "data": {
      "text/html": [
       "Find internal logs for this run at: <code>/home/krishna/iit/sem6/dl/wandb/run-20210311_153312-id3l7t3d/logs/debug-internal.log</code>"
      ],
      "text/plain": [
       "<IPython.core.display.HTML object>"
      ]
     },
     "metadata": {},
     "output_type": "display_data"
    },
    {
     "data": {
      "text/html": [
       "<h3>Run summary:</h3><br/><style>\n",
       "    table.wandb td:nth-child(1) { padding: 0 10px; text-align: right }\n",
       "    </style><table class=\"wandb\">\n",
       "<tr><td>train accuracy</td><td>0.85585</td></tr><tr><td>validation accuracy</td><td>0.85208</td></tr><tr><td>train loss</td><td>0.47675</td></tr><tr><td>val loss</td><td>0.48609</td></tr><tr><td>_runtime</td><td>25</td></tr><tr><td>_timestamp</td><td>1615457017</td></tr><tr><td>_step</td><td>9</td></tr></table>"
      ],
      "text/plain": [
       "<IPython.core.display.HTML object>"
      ]
     },
     "metadata": {},
     "output_type": "display_data"
    },
    {
     "data": {
      "text/html": [
       "<h3>Run history:</h3><br/><style>\n",
       "    table.wandb td:nth-child(1) { padding: 0 10px; text-align: right }\n",
       "    </style><table class=\"wandb\">\n",
       "<tr><td>train accuracy</td><td>▁▅▆▇▇▇▇███</td></tr><tr><td>validation accuracy</td><td>▁▅▆▇▇▇████</td></tr><tr><td>train loss</td><td>█▅▄▃▂▂▂▁▁▁</td></tr><tr><td>val loss</td><td>█▅▃▃▂▂▂▁▁▁</td></tr><tr><td>_runtime</td><td>▁▂▂▃▄▅▆▆▇█</td></tr><tr><td>_timestamp</td><td>▁▂▂▃▄▅▆▆▇█</td></tr><tr><td>_step</td><td>▁▂▃▃▄▅▆▆▇█</td></tr></table><br/>"
      ],
      "text/plain": [
       "<IPython.core.display.HTML object>"
      ]
     },
     "metadata": {},
     "output_type": "display_data"
    },
    {
     "data": {
      "text/html": [
       "Synced 5 W&B file(s), 0 media file(s), 0 artifact file(s) and 0 other file(s)"
      ],
      "text/plain": [
       "<IPython.core.display.HTML object>"
      ]
     },
     "metadata": {},
     "output_type": "display_data"
    },
    {
     "data": {
      "text/html": [
       "\n",
       "                    <br/>Synced <strong style=\"color:#cdcd00\">hello</strong>: <a href=\"https://wandb.ai/notarchana/CS6910-A1/runs/id3l7t3d\" target=\"_blank\">https://wandb.ai/notarchana/CS6910-A1/runs/id3l7t3d</a><br/>\n",
       "                "
      ],
      "text/plain": [
       "<IPython.core.display.HTML object>"
      ]
     },
     "metadata": {},
     "output_type": "display_data"
    },
    {
     "name": "stderr",
     "output_type": "stream",
     "text": [
      "\u001b[34m\u001b[1mwandb\u001b[0m: Agent Starting Run: 2ai1f6yc with config:\n",
      "\u001b[34m\u001b[1mwandb\u001b[0m: \tactivation: relu\n",
      "\u001b[34m\u001b[1mwandb\u001b[0m: \tbatch_size: 64\n",
      "\u001b[34m\u001b[1mwandb\u001b[0m: \tepochs: 10\n",
      "\u001b[34m\u001b[1mwandb\u001b[0m: \thidden_layer_size: 32\n",
      "\u001b[34m\u001b[1mwandb\u001b[0m: \thidden_layers: 4\n",
      "\u001b[34m\u001b[1mwandb\u001b[0m: \tlr: 0.001\n",
      "\u001b[34m\u001b[1mwandb\u001b[0m: \toptimiser: momentum\n",
      "\u001b[34m\u001b[1mwandb\u001b[0m: \tweight_decay: 0.5\n",
      "\u001b[34m\u001b[1mwandb\u001b[0m: \tweight_init: xavier\n"
     ]
    },
    {
     "data": {
      "text/html": [
       "\n",
       "                Tracking run with wandb version 0.10.22<br/>\n",
       "                Syncing run <strong style=\"color:#cdcd00\">hello</strong> to <a href=\"https://wandb.ai\" target=\"_blank\">Weights & Biases</a> <a href=\"https://docs.wandb.com/integrations/jupyter.html\" target=\"_blank\">(Documentation)</a>.<br/>\n",
       "                Project page: <a href=\"https://wandb.ai/notarchana/CS6910-A1\" target=\"_blank\">https://wandb.ai/notarchana/CS6910-A1</a><br/>\n",
       "                Sweep page: <a href=\"https://wandb.ai/notarchana/CS6910-A1/sweeps/lzmcss02\" target=\"_blank\">https://wandb.ai/notarchana/CS6910-A1/sweeps/lzmcss02</a><br/>\n",
       "Run page: <a href=\"https://wandb.ai/notarchana/CS6910-A1/runs/2ai1f6yc\" target=\"_blank\">https://wandb.ai/notarchana/CS6910-A1/runs/2ai1f6yc</a><br/>\n",
       "                Run data is saved locally in <code>/home/krishna/iit/sem6/dl/wandb/run-20210311_153344-2ai1f6yc</code><br/><br/>\n",
       "            "
      ],
      "text/plain": [
       "<IPython.core.display.HTML object>"
      ]
     },
     "metadata": {},
     "output_type": "display_data"
    },
    {
     "name": "stderr",
     "output_type": "stream",
     "text": [
      "\u001b[34m\u001b[1mwandb\u001b[0m: \u001b[33mWARNING\u001b[0m Calling run.save without any arguments is deprecated.Changes to attributes are automatically persisted.\n"
     ]
    },
    {
     "name": "stdout",
     "output_type": "stream",
     "text": [
      "model building done\n",
      "Epoch 0 done: Loss = 4.4333776164562195\n",
      "Epoch 1 done: Loss = 0.5902902626425665\n",
      "Epoch 2 done: Loss = 0.4592922966954082\n",
      "Epoch 3 done: Loss = 0.4379467311386067\n",
      "Epoch 4 done: Loss = 0.42954661646994136\n",
      "Epoch 5 done: Loss = 0.4240702482034257\n",
      "Epoch 6 done: Loss = 0.4127351358969395\n",
      "Epoch 7 done: Loss = 0.38112001132314605\n",
      "Epoch 8 done: Loss = 0.38909274759545504\n",
      "Epoch 9 done: Loss = 0.39114378824104057\n",
      "model training done\n"
     ]
    },
    {
     "data": {
      "text/html": [
       "<br/>Waiting for W&B process to finish, PID 62323<br/>Program ended successfully."
      ],
      "text/plain": [
       "<IPython.core.display.HTML object>"
      ]
     },
     "metadata": {},
     "output_type": "display_data"
    },
    {
     "data": {
      "application/vnd.jupyter.widget-view+json": {
       "model_id": "",
       "version_major": 2,
       "version_minor": 0
      },
      "text/plain": [
       "VBox(children=(Label(value=' 0.00MB of 0.00MB uploaded (0.00MB deduped)\\r'), FloatProgress(value=1.0, max=1.0)…"
      ]
     },
     "metadata": {},
     "output_type": "display_data"
    },
    {
     "data": {
      "text/html": [
       "Find user logs for this run at: <code>/home/krishna/iit/sem6/dl/wandb/run-20210311_153344-2ai1f6yc/logs/debug.log</code>"
      ],
      "text/plain": [
       "<IPython.core.display.HTML object>"
      ]
     },
     "metadata": {},
     "output_type": "display_data"
    },
    {
     "data": {
      "text/html": [
       "Find internal logs for this run at: <code>/home/krishna/iit/sem6/dl/wandb/run-20210311_153344-2ai1f6yc/logs/debug-internal.log</code>"
      ],
      "text/plain": [
       "<IPython.core.display.HTML object>"
      ]
     },
     "metadata": {},
     "output_type": "display_data"
    },
    {
     "data": {
      "text/html": [
       "<h3>Run summary:</h3><br/><style>\n",
       "    table.wandb td:nth-child(1) { padding: 0 10px; text-align: right }\n",
       "    </style><table class=\"wandb\">\n",
       "<tr><td>train accuracy</td><td>0.87802</td></tr><tr><td>validation accuracy</td><td>0.867</td></tr><tr><td>train loss</td><td>0.39114</td></tr><tr><td>val loss</td><td>0.42373</td></tr><tr><td>_runtime</td><td>11</td></tr><tr><td>_timestamp</td><td>1615457035</td></tr><tr><td>_step</td><td>9</td></tr></table>"
      ],
      "text/plain": [
       "<IPython.core.display.HTML object>"
      ]
     },
     "metadata": {},
     "output_type": "display_data"
    },
    {
     "data": {
      "text/html": [
       "<h3>Run history:</h3><br/><style>\n",
       "    table.wandb td:nth-child(1) { padding: 0 10px; text-align: right }\n",
       "    </style><table class=\"wandb\">\n",
       "<tr><td>train accuracy</td><td>▁▇▇███████</td></tr><tr><td>validation accuracy</td><td>▁▇████████</td></tr><tr><td>train loss</td><td>█▁▁▁▁▁▁▁▁▁</td></tr><tr><td>val loss</td><td>█▁▁▁▁▁▁▁▁▁</td></tr><tr><td>_runtime</td><td>▁▂▃▄▅▅▅▆▇█</td></tr><tr><td>_timestamp</td><td>▁▂▃▄▅▅▅▆▇█</td></tr><tr><td>_step</td><td>▁▂▃▃▄▅▆▆▇█</td></tr></table><br/>"
      ],
      "text/plain": [
       "<IPython.core.display.HTML object>"
      ]
     },
     "metadata": {},
     "output_type": "display_data"
    },
    {
     "data": {
      "text/html": [
       "Synced 5 W&B file(s), 0 media file(s), 0 artifact file(s) and 0 other file(s)"
      ],
      "text/plain": [
       "<IPython.core.display.HTML object>"
      ]
     },
     "metadata": {},
     "output_type": "display_data"
    },
    {
     "data": {
      "text/html": [
       "\n",
       "                    <br/>Synced <strong style=\"color:#cdcd00\">hello</strong>: <a href=\"https://wandb.ai/notarchana/CS6910-A1/runs/2ai1f6yc\" target=\"_blank\">https://wandb.ai/notarchana/CS6910-A1/runs/2ai1f6yc</a><br/>\n",
       "                "
      ],
      "text/plain": [
       "<IPython.core.display.HTML object>"
      ]
     },
     "metadata": {},
     "output_type": "display_data"
    },
    {
     "name": "stderr",
     "output_type": "stream",
     "text": [
      "\u001b[34m\u001b[1mwandb\u001b[0m: Agent Starting Run: 7f2sqkhc with config:\n",
      "\u001b[34m\u001b[1mwandb\u001b[0m: \tactivation: tanh\n",
      "\u001b[34m\u001b[1mwandb\u001b[0m: \tbatch_size: 32\n",
      "\u001b[34m\u001b[1mwandb\u001b[0m: \tepochs: 10\n",
      "\u001b[34m\u001b[1mwandb\u001b[0m: \thidden_layer_size: 128\n",
      "\u001b[34m\u001b[1mwandb\u001b[0m: \thidden_layers: 5\n",
      "\u001b[34m\u001b[1mwandb\u001b[0m: \tlr: 0.001\n",
      "\u001b[34m\u001b[1mwandb\u001b[0m: \toptimiser: rmsprop\n",
      "\u001b[34m\u001b[1mwandb\u001b[0m: \tweight_decay: 0.0005\n",
      "\u001b[34m\u001b[1mwandb\u001b[0m: \tweight_init: xavier\n"
     ]
    },
    {
     "data": {
      "text/html": [
       "\n",
       "                Tracking run with wandb version 0.10.22<br/>\n",
       "                Syncing run <strong style=\"color:#cdcd00\">hello</strong> to <a href=\"https://wandb.ai\" target=\"_blank\">Weights & Biases</a> <a href=\"https://docs.wandb.com/integrations/jupyter.html\" target=\"_blank\">(Documentation)</a>.<br/>\n",
       "                Project page: <a href=\"https://wandb.ai/notarchana/CS6910-A1\" target=\"_blank\">https://wandb.ai/notarchana/CS6910-A1</a><br/>\n",
       "                Sweep page: <a href=\"https://wandb.ai/notarchana/CS6910-A1/sweeps/lzmcss02\" target=\"_blank\">https://wandb.ai/notarchana/CS6910-A1/sweeps/lzmcss02</a><br/>\n",
       "Run page: <a href=\"https://wandb.ai/notarchana/CS6910-A1/runs/7f2sqkhc\" target=\"_blank\">https://wandb.ai/notarchana/CS6910-A1/runs/7f2sqkhc</a><br/>\n",
       "                Run data is saved locally in <code>/home/krishna/iit/sem6/dl/wandb/run-20210311_153406-7f2sqkhc</code><br/><br/>\n",
       "            "
      ],
      "text/plain": [
       "<IPython.core.display.HTML object>"
      ]
     },
     "metadata": {},
     "output_type": "display_data"
    },
    {
     "name": "stderr",
     "output_type": "stream",
     "text": [
      "\u001b[34m\u001b[1mwandb\u001b[0m: \u001b[33mWARNING\u001b[0m Calling run.save without any arguments is deprecated.Changes to attributes are automatically persisted.\n"
     ]
    },
    {
     "name": "stdout",
     "output_type": "stream",
     "text": [
      "model building done\n",
      "Epoch 0 done: Loss = 0.46080718732117854\n",
      "Epoch 1 done: Loss = 0.425909928842075\n",
      "Epoch 2 done: Loss = 0.3855921918608586\n",
      "Epoch 3 done: Loss = 0.3670404568761475\n",
      "Epoch 4 done: Loss = 0.3801834566916782\n",
      "Epoch 5 done: Loss = 0.35087759912122657\n",
      "Epoch 6 done: Loss = 0.356177557453815\n",
      "Epoch 7 done: Loss = 0.33798334286852216\n",
      "Epoch 8 done: Loss = 0.340953396092976\n",
      "Epoch 9 done: Loss = 0.32019243110538737\n",
      "model training done\n"
     ]
    },
    {
     "data": {
      "text/html": [
       "<br/>Waiting for W&B process to finish, PID 62351<br/>Program ended successfully."
      ],
      "text/plain": [
       "<IPython.core.display.HTML object>"
      ]
     },
     "metadata": {},
     "output_type": "display_data"
    },
    {
     "data": {
      "application/vnd.jupyter.widget-view+json": {
       "model_id": "",
       "version_major": 2,
       "version_minor": 0
      },
      "text/plain": [
       "VBox(children=(Label(value=' 0.00MB of 0.00MB uploaded (0.00MB deduped)\\r'), FloatProgress(value=1.0, max=1.0)…"
      ]
     },
     "metadata": {},
     "output_type": "display_data"
    },
    {
     "data": {
      "text/html": [
       "Find user logs for this run at: <code>/home/krishna/iit/sem6/dl/wandb/run-20210311_153406-7f2sqkhc/logs/debug.log</code>"
      ],
      "text/plain": [
       "<IPython.core.display.HTML object>"
      ]
     },
     "metadata": {},
     "output_type": "display_data"
    },
    {
     "data": {
      "text/html": [
       "Find internal logs for this run at: <code>/home/krishna/iit/sem6/dl/wandb/run-20210311_153406-7f2sqkhc/logs/debug-internal.log</code>"
      ],
      "text/plain": [
       "<IPython.core.display.HTML object>"
      ]
     },
     "metadata": {},
     "output_type": "display_data"
    },
    {
     "data": {
      "text/html": [
       "<h3>Run summary:</h3><br/><style>\n",
       "    table.wandb td:nth-child(1) { padding: 0 10px; text-align: right }\n",
       "    </style><table class=\"wandb\">\n",
       "<tr><td>train accuracy</td><td>0.90369</td></tr><tr><td>validation accuracy</td><td>0.878</td></tr><tr><td>train loss</td><td>0.32019</td></tr><tr><td>val loss</td><td>0.40063</td></tr><tr><td>_runtime</td><td>96</td></tr><tr><td>_timestamp</td><td>1615457142</td></tr><tr><td>_step</td><td>9</td></tr></table>"
      ],
      "text/plain": [
       "<IPython.core.display.HTML object>"
      ]
     },
     "metadata": {},
     "output_type": "display_data"
    },
    {
     "data": {
      "text/html": [
       "<h3>Run history:</h3><br/><style>\n",
       "    table.wandb td:nth-child(1) { padding: 0 10px; text-align: right }\n",
       "    </style><table class=\"wandb\">\n",
       "<tr><td>train accuracy</td><td>▁▂▅▆▅▆▆█▇█</td></tr><tr><td>validation accuracy</td><td>▁▃▅▆▆▇▇█▇█</td></tr><tr><td>train loss</td><td>█▆▄▃▄▃▃▂▂▁</td></tr><tr><td>val loss</td><td>█▅▃▂▄▂▂▂▂▁</td></tr><tr><td>_runtime</td><td>▁▂▂▃▄▅▆▆▇█</td></tr><tr><td>_timestamp</td><td>▁▂▂▃▄▅▆▆▇█</td></tr><tr><td>_step</td><td>▁▂▃▃▄▅▆▆▇█</td></tr></table><br/>"
      ],
      "text/plain": [
       "<IPython.core.display.HTML object>"
      ]
     },
     "metadata": {},
     "output_type": "display_data"
    },
    {
     "data": {
      "text/html": [
       "Synced 5 W&B file(s), 0 media file(s), 0 artifact file(s) and 0 other file(s)"
      ],
      "text/plain": [
       "<IPython.core.display.HTML object>"
      ]
     },
     "metadata": {},
     "output_type": "display_data"
    },
    {
     "data": {
      "text/html": [
       "\n",
       "                    <br/>Synced <strong style=\"color:#cdcd00\">hello</strong>: <a href=\"https://wandb.ai/notarchana/CS6910-A1/runs/7f2sqkhc\" target=\"_blank\">https://wandb.ai/notarchana/CS6910-A1/runs/7f2sqkhc</a><br/>\n",
       "                "
      ],
      "text/plain": [
       "<IPython.core.display.HTML object>"
      ]
     },
     "metadata": {},
     "output_type": "display_data"
    },
    {
     "name": "stderr",
     "output_type": "stream",
     "text": [
      "\u001b[34m\u001b[1mwandb\u001b[0m: Agent Starting Run: 67cuedrm with config:\n",
      "\u001b[34m\u001b[1mwandb\u001b[0m: \tactivation: tanh\n",
      "\u001b[34m\u001b[1mwandb\u001b[0m: \tbatch_size: 16\n",
      "\u001b[34m\u001b[1mwandb\u001b[0m: \tepochs: 10\n",
      "\u001b[34m\u001b[1mwandb\u001b[0m: \thidden_layer_size: 64\n",
      "\u001b[34m\u001b[1mwandb\u001b[0m: \thidden_layers: 5\n",
      "\u001b[34m\u001b[1mwandb\u001b[0m: \tlr: 0.001\n",
      "\u001b[34m\u001b[1mwandb\u001b[0m: \toptimiser: nesterov\n",
      "\u001b[34m\u001b[1mwandb\u001b[0m: \tweight_decay: 0\n",
      "\u001b[34m\u001b[1mwandb\u001b[0m: \tweight_init: xavier\n"
     ]
    },
    {
     "data": {
      "text/html": [
       "\n",
       "                Tracking run with wandb version 0.10.22<br/>\n",
       "                Syncing run <strong style=\"color:#cdcd00\">hello</strong> to <a href=\"https://wandb.ai\" target=\"_blank\">Weights & Biases</a> <a href=\"https://docs.wandb.com/integrations/jupyter.html\" target=\"_blank\">(Documentation)</a>.<br/>\n",
       "                Project page: <a href=\"https://wandb.ai/notarchana/CS6910-A1\" target=\"_blank\">https://wandb.ai/notarchana/CS6910-A1</a><br/>\n",
       "                Sweep page: <a href=\"https://wandb.ai/notarchana/CS6910-A1/sweeps/lzmcss02\" target=\"_blank\">https://wandb.ai/notarchana/CS6910-A1/sweeps/lzmcss02</a><br/>\n",
       "Run page: <a href=\"https://wandb.ai/notarchana/CS6910-A1/runs/67cuedrm\" target=\"_blank\">https://wandb.ai/notarchana/CS6910-A1/runs/67cuedrm</a><br/>\n",
       "                Run data is saved locally in <code>/home/krishna/iit/sem6/dl/wandb/run-20210311_153550-67cuedrm</code><br/><br/>\n",
       "            "
      ],
      "text/plain": [
       "<IPython.core.display.HTML object>"
      ]
     },
     "metadata": {},
     "output_type": "display_data"
    },
    {
     "name": "stderr",
     "output_type": "stream",
     "text": [
      "\u001b[34m\u001b[1mwandb\u001b[0m: \u001b[33mWARNING\u001b[0m Calling run.save without any arguments is deprecated.Changes to attributes are automatically persisted.\n"
     ]
    },
    {
     "name": "stdout",
     "output_type": "stream",
     "text": [
      "model building done\n",
      "Epoch 0 done: Loss = 0.641897220302125\n",
      "Epoch 1 done: Loss = 0.5078332375340857\n",
      "Epoch 2 done: Loss = 0.4592321030171723\n",
      "Epoch 3 done: Loss = 0.4328502484769683\n",
      "Epoch 4 done: Loss = 0.41406558820022565\n",
      "Epoch 5 done: Loss = 0.40026515552066727\n",
      "Epoch 6 done: Loss = 0.389446729625763\n",
      "Epoch 7 done: Loss = 0.38048708481657756\n",
      "Epoch 8 done: Loss = 0.37278379753222013\n",
      "Epoch 9 done: Loss = 0.36608503092115424\n",
      "model training done\n"
     ]
    },
    {
     "data": {
      "text/html": [
       "<br/>Waiting for W&B process to finish, PID 62414<br/>Program ended successfully."
      ],
      "text/plain": [
       "<IPython.core.display.HTML object>"
      ]
     },
     "metadata": {},
     "output_type": "display_data"
    },
    {
     "data": {
      "application/vnd.jupyter.widget-view+json": {
       "model_id": "",
       "version_major": 2,
       "version_minor": 0
      },
      "text/plain": [
       "VBox(children=(Label(value=' 0.00MB of 0.00MB uploaded (0.00MB deduped)\\r'), FloatProgress(value=1.0, max=1.0)…"
      ]
     },
     "metadata": {},
     "output_type": "display_data"
    },
    {
     "data": {
      "text/html": [
       "Find user logs for this run at: <code>/home/krishna/iit/sem6/dl/wandb/run-20210311_153550-67cuedrm/logs/debug.log</code>"
      ],
      "text/plain": [
       "<IPython.core.display.HTML object>"
      ]
     },
     "metadata": {},
     "output_type": "display_data"
    },
    {
     "data": {
      "text/html": [
       "Find internal logs for this run at: <code>/home/krishna/iit/sem6/dl/wandb/run-20210311_153550-67cuedrm/logs/debug-internal.log</code>"
      ],
      "text/plain": [
       "<IPython.core.display.HTML object>"
      ]
     },
     "metadata": {},
     "output_type": "display_data"
    },
    {
     "data": {
      "text/html": [
       "<h3>Run summary:</h3><br/><style>\n",
       "    table.wandb td:nth-child(1) { padding: 0 10px; text-align: right }\n",
       "    </style><table class=\"wandb\">\n",
       "<tr><td>train accuracy</td><td>0.88244</td></tr><tr><td>validation accuracy</td><td>0.86692</td></tr><tr><td>train loss</td><td>0.36609</td></tr><tr><td>val loss</td><td>0.39982</td></tr><tr><td>_runtime</td><td>65</td></tr><tr><td>_timestamp</td><td>1615457215</td></tr><tr><td>_step</td><td>9</td></tr></table>"
      ],
      "text/plain": [
       "<IPython.core.display.HTML object>"
      ]
     },
     "metadata": {},
     "output_type": "display_data"
    },
    {
     "data": {
      "text/html": [
       "<h3>Run history:</h3><br/><style>\n",
       "    table.wandb td:nth-child(1) { padding: 0 10px; text-align: right }\n",
       "    </style><table class=\"wandb\">\n",
       "<tr><td>train accuracy</td><td>▁▄▆▆▇▇▇███</td></tr><tr><td>validation accuracy</td><td>▁▅▆▇▇▇████</td></tr><tr><td>train loss</td><td>█▅▃▃▂▂▂▁▁▁</td></tr><tr><td>val loss</td><td>█▄▃▂▂▂▁▁▁▁</td></tr><tr><td>_runtime</td><td>▁▂▂▃▄▅▆▆▇█</td></tr><tr><td>_timestamp</td><td>▁▂▂▃▄▅▆▆▇█</td></tr><tr><td>_step</td><td>▁▂▃▃▄▅▆▆▇█</td></tr></table><br/>"
      ],
      "text/plain": [
       "<IPython.core.display.HTML object>"
      ]
     },
     "metadata": {},
     "output_type": "display_data"
    },
    {
     "data": {
      "text/html": [
       "Synced 5 W&B file(s), 0 media file(s), 0 artifact file(s) and 0 other file(s)"
      ],
      "text/plain": [
       "<IPython.core.display.HTML object>"
      ]
     },
     "metadata": {},
     "output_type": "display_data"
    },
    {
     "data": {
      "text/html": [
       "\n",
       "                    <br/>Synced <strong style=\"color:#cdcd00\">hello</strong>: <a href=\"https://wandb.ai/notarchana/CS6910-A1/runs/67cuedrm\" target=\"_blank\">https://wandb.ai/notarchana/CS6910-A1/runs/67cuedrm</a><br/>\n",
       "                "
      ],
      "text/plain": [
       "<IPython.core.display.HTML object>"
      ]
     },
     "metadata": {},
     "output_type": "display_data"
    },
    {
     "name": "stderr",
     "output_type": "stream",
     "text": [
      "\u001b[34m\u001b[1mwandb\u001b[0m: Agent Starting Run: 8x8i9k6i with config:\n",
      "\u001b[34m\u001b[1mwandb\u001b[0m: \tactivation: relu\n",
      "\u001b[34m\u001b[1mwandb\u001b[0m: \tbatch_size: 32\n",
      "\u001b[34m\u001b[1mwandb\u001b[0m: \tepochs: 10\n",
      "\u001b[34m\u001b[1mwandb\u001b[0m: \thidden_layer_size: 32\n",
      "\u001b[34m\u001b[1mwandb\u001b[0m: \thidden_layers: 3\n",
      "\u001b[34m\u001b[1mwandb\u001b[0m: \tlr: 0.001\n",
      "\u001b[34m\u001b[1mwandb\u001b[0m: \toptimiser: momentum\n",
      "\u001b[34m\u001b[1mwandb\u001b[0m: \tweight_decay: 0.0005\n",
      "\u001b[34m\u001b[1mwandb\u001b[0m: \tweight_init: xavier\n"
     ]
    },
    {
     "data": {
      "text/html": [
       "\n",
       "                Tracking run with wandb version 0.10.22<br/>\n",
       "                Syncing run <strong style=\"color:#cdcd00\">hello</strong> to <a href=\"https://wandb.ai\" target=\"_blank\">Weights & Biases</a> <a href=\"https://docs.wandb.com/integrations/jupyter.html\" target=\"_blank\">(Documentation)</a>.<br/>\n",
       "                Project page: <a href=\"https://wandb.ai/notarchana/CS6910-A1\" target=\"_blank\">https://wandb.ai/notarchana/CS6910-A1</a><br/>\n",
       "                Sweep page: <a href=\"https://wandb.ai/notarchana/CS6910-A1/sweeps/lzmcss02\" target=\"_blank\">https://wandb.ai/notarchana/CS6910-A1/sweeps/lzmcss02</a><br/>\n",
       "Run page: <a href=\"https://wandb.ai/notarchana/CS6910-A1/runs/8x8i9k6i\" target=\"_blank\">https://wandb.ai/notarchana/CS6910-A1/runs/8x8i9k6i</a><br/>\n",
       "                Run data is saved locally in <code>/home/krishna/iit/sem6/dl/wandb/run-20210311_153705-8x8i9k6i</code><br/><br/>\n",
       "            "
      ],
      "text/plain": [
       "<IPython.core.display.HTML object>"
      ]
     },
     "metadata": {},
     "output_type": "display_data"
    },
    {
     "name": "stderr",
     "output_type": "stream",
     "text": [
      "\u001b[34m\u001b[1mwandb\u001b[0m: \u001b[33mWARNING\u001b[0m Calling run.save without any arguments is deprecated.Changes to attributes are automatically persisted.\n"
     ]
    },
    {
     "name": "stdout",
     "output_type": "stream",
     "text": [
      "model building done\n",
      "Epoch 0 done: Loss = 0.5404979093984784\n",
      "Epoch 1 done: Loss = 0.5104395250975192\n",
      "Epoch 2 done: Loss = 0.5619789255666404\n",
      "Epoch 3 done: Loss = 0.5598011607692877\n",
      "Epoch 4 done: Loss = 0.5090700019602789\n",
      "Epoch 5 done: Loss = 0.5147473612510012\n",
      "Epoch 6 done: Loss = 0.4595388530921679\n",
      "Epoch 7 done: Loss = 0.41998042189808477\n",
      "Epoch 8 done: Loss = 0.43589944423585103\n",
      "Epoch 9 done: Loss = 0.3937082670024531\n",
      "model training done\n"
     ]
    },
    {
     "data": {
      "text/html": [
       "<br/>Waiting for W&B process to finish, PID 62455<br/>Program ended successfully."
      ],
      "text/plain": [
       "<IPython.core.display.HTML object>"
      ]
     },
     "metadata": {},
     "output_type": "display_data"
    },
    {
     "data": {
      "application/vnd.jupyter.widget-view+json": {
       "model_id": "",
       "version_major": 2,
       "version_minor": 0
      },
      "text/plain": [
       "VBox(children=(Label(value=' 0.00MB of 0.00MB uploaded (0.00MB deduped)\\r'), FloatProgress(value=1.0, max=1.0)…"
      ]
     },
     "metadata": {},
     "output_type": "display_data"
    },
    {
     "data": {
      "text/html": [
       "Find user logs for this run at: <code>/home/krishna/iit/sem6/dl/wandb/run-20210311_153705-8x8i9k6i/logs/debug.log</code>"
      ],
      "text/plain": [
       "<IPython.core.display.HTML object>"
      ]
     },
     "metadata": {},
     "output_type": "display_data"
    },
    {
     "data": {
      "text/html": [
       "Find internal logs for this run at: <code>/home/krishna/iit/sem6/dl/wandb/run-20210311_153705-8x8i9k6i/logs/debug-internal.log</code>"
      ],
      "text/plain": [
       "<IPython.core.display.HTML object>"
      ]
     },
     "metadata": {},
     "output_type": "display_data"
    },
    {
     "data": {
      "text/html": [
       "<h3>Run summary:</h3><br/><style>\n",
       "    table.wandb td:nth-child(1) { padding: 0 10px; text-align: right }\n",
       "    </style><table class=\"wandb\">\n",
       "<tr><td>train accuracy</td><td>0.86981</td></tr><tr><td>validation accuracy</td><td>0.85933</td></tr><tr><td>train loss</td><td>0.39371</td></tr><tr><td>val loss</td><td>0.43458</td></tr><tr><td>_runtime</td><td>13</td></tr><tr><td>_timestamp</td><td>1615457238</td></tr><tr><td>_step</td><td>9</td></tr></table>"
      ],
      "text/plain": [
       "<IPython.core.display.HTML object>"
      ]
     },
     "metadata": {},
     "output_type": "display_data"
    },
    {
     "data": {
      "text/html": [
       "<h3>Run history:</h3><br/><style>\n",
       "    table.wandb td:nth-child(1) { padding: 0 10px; text-align: right }\n",
       "    </style><table class=\"wandb\">\n",
       "<tr><td>train accuracy</td><td>▁▂▂▃▄▄▆▇▇█</td></tr><tr><td>validation accuracy</td><td>▁▂▁▃▄▄▆▇▇█</td></tr><tr><td>train loss</td><td>▇▆██▆▆▄▂▃▁</td></tr><tr><td>val loss</td><td>▆▅██▆▇▄▂▃▁</td></tr><tr><td>_runtime</td><td>▁▂▂▃▄▅▆▇▇█</td></tr><tr><td>_timestamp</td><td>▁▂▂▃▄▅▆▇▇█</td></tr><tr><td>_step</td><td>▁▂▃▃▄▅▆▆▇█</td></tr></table><br/>"
      ],
      "text/plain": [
       "<IPython.core.display.HTML object>"
      ]
     },
     "metadata": {},
     "output_type": "display_data"
    },
    {
     "data": {
      "text/html": [
       "Synced 5 W&B file(s), 0 media file(s), 0 artifact file(s) and 0 other file(s)"
      ],
      "text/plain": [
       "<IPython.core.display.HTML object>"
      ]
     },
     "metadata": {},
     "output_type": "display_data"
    },
    {
     "data": {
      "text/html": [
       "\n",
       "                    <br/>Synced <strong style=\"color:#cdcd00\">hello</strong>: <a href=\"https://wandb.ai/notarchana/CS6910-A1/runs/8x8i9k6i\" target=\"_blank\">https://wandb.ai/notarchana/CS6910-A1/runs/8x8i9k6i</a><br/>\n",
       "                "
      ],
      "text/plain": [
       "<IPython.core.display.HTML object>"
      ]
     },
     "metadata": {},
     "output_type": "display_data"
    },
    {
     "name": "stderr",
     "output_type": "stream",
     "text": [
      "\u001b[34m\u001b[1mwandb\u001b[0m: Agent Starting Run: mf71ypfa with config:\n",
      "\u001b[34m\u001b[1mwandb\u001b[0m: \tactivation: sigmoid\n",
      "\u001b[34m\u001b[1mwandb\u001b[0m: \tbatch_size: 64\n",
      "\u001b[34m\u001b[1mwandb\u001b[0m: \tepochs: 10\n",
      "\u001b[34m\u001b[1mwandb\u001b[0m: \thidden_layer_size: 32\n",
      "\u001b[34m\u001b[1mwandb\u001b[0m: \thidden_layers: 3\n",
      "\u001b[34m\u001b[1mwandb\u001b[0m: \tlr: 0.001\n",
      "\u001b[34m\u001b[1mwandb\u001b[0m: \toptimiser: rmsprop\n",
      "\u001b[34m\u001b[1mwandb\u001b[0m: \tweight_decay: 0.5\n",
      "\u001b[34m\u001b[1mwandb\u001b[0m: \tweight_init: xavier\n"
     ]
    },
    {
     "data": {
      "text/html": [
       "\n",
       "                Tracking run with wandb version 0.10.22<br/>\n",
       "                Syncing run <strong style=\"color:#cdcd00\">hello</strong> to <a href=\"https://wandb.ai\" target=\"_blank\">Weights & Biases</a> <a href=\"https://docs.wandb.com/integrations/jupyter.html\" target=\"_blank\">(Documentation)</a>.<br/>\n",
       "                Project page: <a href=\"https://wandb.ai/notarchana/CS6910-A1\" target=\"_blank\">https://wandb.ai/notarchana/CS6910-A1</a><br/>\n",
       "                Sweep page: <a href=\"https://wandb.ai/notarchana/CS6910-A1/sweeps/lzmcss02\" target=\"_blank\">https://wandb.ai/notarchana/CS6910-A1/sweeps/lzmcss02</a><br/>\n",
       "Run page: <a href=\"https://wandb.ai/notarchana/CS6910-A1/runs/mf71ypfa\" target=\"_blank\">https://wandb.ai/notarchana/CS6910-A1/runs/mf71ypfa</a><br/>\n",
       "                Run data is saved locally in <code>/home/krishna/iit/sem6/dl/wandb/run-20210311_153725-mf71ypfa</code><br/><br/>\n",
       "            "
      ],
      "text/plain": [
       "<IPython.core.display.HTML object>"
      ]
     },
     "metadata": {},
     "output_type": "display_data"
    },
    {
     "name": "stderr",
     "output_type": "stream",
     "text": [
      "\u001b[34m\u001b[1mwandb\u001b[0m: \u001b[33mWARNING\u001b[0m Calling run.save without any arguments is deprecated.Changes to attributes are automatically persisted.\n"
     ]
    },
    {
     "name": "stdout",
     "output_type": "stream",
     "text": [
      "model building done\n",
      "Epoch 0 done: Loss = 1.393637250911214\n",
      "Epoch 1 done: Loss = 0.7244112851892072\n",
      "Epoch 2 done: Loss = 0.5758017618341499\n",
      "Epoch 3 done: Loss = 0.49762024333070154\n",
      "Epoch 4 done: Loss = 0.46251002106926004\n",
      "Epoch 5 done: Loss = 0.442853850567541\n",
      "Epoch 6 done: Loss = 0.43022849055844314\n",
      "Epoch 7 done: Loss = 0.4210466121673949\n",
      "Epoch 8 done: Loss = 0.4131671994019593\n",
      "Epoch 9 done: Loss = 0.40594373348382123\n",
      "model training done\n"
     ]
    },
    {
     "data": {
      "text/html": [
       "<br/>Waiting for W&B process to finish, PID 62482<br/>Program ended successfully."
      ],
      "text/plain": [
       "<IPython.core.display.HTML object>"
      ]
     },
     "metadata": {},
     "output_type": "display_data"
    },
    {
     "data": {
      "application/vnd.jupyter.widget-view+json": {
       "model_id": "",
       "version_major": 2,
       "version_minor": 0
      },
      "text/plain": [
       "VBox(children=(Label(value=' 0.00MB of 0.00MB uploaded (0.00MB deduped)\\r'), FloatProgress(value=1.0, max=1.0)…"
      ]
     },
     "metadata": {},
     "output_type": "display_data"
    },
    {
     "data": {
      "text/html": [
       "Find user logs for this run at: <code>/home/krishna/iit/sem6/dl/wandb/run-20210311_153725-mf71ypfa/logs/debug.log</code>"
      ],
      "text/plain": [
       "<IPython.core.display.HTML object>"
      ]
     },
     "metadata": {},
     "output_type": "display_data"
    },
    {
     "data": {
      "text/html": [
       "Find internal logs for this run at: <code>/home/krishna/iit/sem6/dl/wandb/run-20210311_153725-mf71ypfa/logs/debug-internal.log</code>"
      ],
      "text/plain": [
       "<IPython.core.display.HTML object>"
      ]
     },
     "metadata": {},
     "output_type": "display_data"
    },
    {
     "data": {
      "text/html": [
       "<h3>Run summary:</h3><br/><style>\n",
       "    table.wandb td:nth-child(1) { padding: 0 10px; text-align: right }\n",
       "    </style><table class=\"wandb\">\n",
       "<tr><td>train accuracy</td><td>0.87587</td></tr><tr><td>validation accuracy</td><td>0.85983</td></tr><tr><td>train loss</td><td>0.40594</td></tr><tr><td>val loss</td><td>0.4506</td></tr><tr><td>_runtime</td><td>14</td></tr><tr><td>_timestamp</td><td>1615457259</td></tr><tr><td>_step</td><td>9</td></tr></table>"
      ],
      "text/plain": [
       "<IPython.core.display.HTML object>"
      ]
     },
     "metadata": {},
     "output_type": "display_data"
    },
    {
     "data": {
      "text/html": [
       "<h3>Run history:</h3><br/><style>\n",
       "    table.wandb td:nth-child(1) { padding: 0 10px; text-align: right }\n",
       "    </style><table class=\"wandb\">\n",
       "<tr><td>train accuracy</td><td>▁▆▇▇██████</td></tr><tr><td>validation accuracy</td><td>▁▆▇▇██████</td></tr><tr><td>train loss</td><td>█▃▂▂▁▁▁▁▁▁</td></tr><tr><td>val loss</td><td>█▃▂▂▁▁▁▁▁▁</td></tr><tr><td>_runtime</td><td>▁▂▂▄▄▅▅▆▇█</td></tr><tr><td>_timestamp</td><td>▁▂▂▄▄▅▅▆▇█</td></tr><tr><td>_step</td><td>▁▂▃▃▄▅▆▆▇█</td></tr></table><br/>"
      ],
      "text/plain": [
       "<IPython.core.display.HTML object>"
      ]
     },
     "metadata": {},
     "output_type": "display_data"
    },
    {
     "data": {
      "text/html": [
       "Synced 5 W&B file(s), 0 media file(s), 0 artifact file(s) and 0 other file(s)"
      ],
      "text/plain": [
       "<IPython.core.display.HTML object>"
      ]
     },
     "metadata": {},
     "output_type": "display_data"
    },
    {
     "data": {
      "text/html": [
       "\n",
       "                    <br/>Synced <strong style=\"color:#cdcd00\">hello</strong>: <a href=\"https://wandb.ai/notarchana/CS6910-A1/runs/mf71ypfa\" target=\"_blank\">https://wandb.ai/notarchana/CS6910-A1/runs/mf71ypfa</a><br/>\n",
       "                "
      ],
      "text/plain": [
       "<IPython.core.display.HTML object>"
      ]
     },
     "metadata": {},
     "output_type": "display_data"
    },
    {
     "name": "stderr",
     "output_type": "stream",
     "text": [
      "\u001b[34m\u001b[1mwandb\u001b[0m: Agent Starting Run: fitwn9cg with config:\n",
      "\u001b[34m\u001b[1mwandb\u001b[0m: \tactivation: relu\n",
      "\u001b[34m\u001b[1mwandb\u001b[0m: \tbatch_size: 32\n",
      "\u001b[34m\u001b[1mwandb\u001b[0m: \tepochs: 10\n",
      "\u001b[34m\u001b[1mwandb\u001b[0m: \thidden_layer_size: 32\n",
      "\u001b[34m\u001b[1mwandb\u001b[0m: \thidden_layers: 5\n",
      "\u001b[34m\u001b[1mwandb\u001b[0m: \tlr: 0.001\n",
      "\u001b[34m\u001b[1mwandb\u001b[0m: \toptimiser: nesterov\n",
      "\u001b[34m\u001b[1mwandb\u001b[0m: \tweight_decay: 0.5\n",
      "\u001b[34m\u001b[1mwandb\u001b[0m: \tweight_init: xavier\n"
     ]
    },
    {
     "data": {
      "text/html": [
       "\n",
       "                Tracking run with wandb version 0.10.22<br/>\n",
       "                Syncing run <strong style=\"color:#cdcd00\">hello</strong> to <a href=\"https://wandb.ai\" target=\"_blank\">Weights & Biases</a> <a href=\"https://docs.wandb.com/integrations/jupyter.html\" target=\"_blank\">(Documentation)</a>.<br/>\n",
       "                Project page: <a href=\"https://wandb.ai/notarchana/CS6910-A1\" target=\"_blank\">https://wandb.ai/notarchana/CS6910-A1</a><br/>\n",
       "                Sweep page: <a href=\"https://wandb.ai/notarchana/CS6910-A1/sweeps/lzmcss02\" target=\"_blank\">https://wandb.ai/notarchana/CS6910-A1/sweeps/lzmcss02</a><br/>\n",
       "Run page: <a href=\"https://wandb.ai/notarchana/CS6910-A1/runs/fitwn9cg\" target=\"_blank\">https://wandb.ai/notarchana/CS6910-A1/runs/fitwn9cg</a><br/>\n",
       "                Run data is saved locally in <code>/home/krishna/iit/sem6/dl/wandb/run-20210311_153747-fitwn9cg</code><br/><br/>\n",
       "            "
      ],
      "text/plain": [
       "<IPython.core.display.HTML object>"
      ]
     },
     "metadata": {},
     "output_type": "display_data"
    },
    {
     "name": "stderr",
     "output_type": "stream",
     "text": [
      "\u001b[34m\u001b[1mwandb\u001b[0m: \u001b[33mWARNING\u001b[0m Calling run.save without any arguments is deprecated.Changes to attributes are automatically persisted.\n"
     ]
    },
    {
     "name": "stdout",
     "output_type": "stream",
     "text": [
      "model building done\n",
      "Epoch 0 done: Loss = 1.3481469283607048\n",
      "Epoch 1 done: Loss = 0.8814927721847543\n",
      "Epoch 2 done: Loss = 0.6985759574065518\n",
      "Epoch 3 done: Loss = 0.606349346118419\n",
      "Epoch 4 done: Loss = 0.5679100841288456\n",
      "Epoch 5 done: Loss = 0.5464265195715746\n",
      "Epoch 6 done: Loss = 0.5301028505674057\n",
      "Epoch 7 done: Loss = 0.5150260904140525\n",
      "Epoch 8 done: Loss = 0.5037151185832215\n",
      "Epoch 9 done: Loss = 0.4940034578378656\n",
      "model training done\n"
     ]
    },
    {
     "data": {
      "text/html": [
       "<br/>Waiting for W&B process to finish, PID 62513<br/>Program ended successfully."
      ],
      "text/plain": [
       "<IPython.core.display.HTML object>"
      ]
     },
     "metadata": {},
     "output_type": "display_data"
    },
    {
     "data": {
      "application/vnd.jupyter.widget-view+json": {
       "model_id": "",
       "version_major": 2,
       "version_minor": 0
      },
      "text/plain": [
       "VBox(children=(Label(value=' 0.00MB of 0.00MB uploaded (0.00MB deduped)\\r'), FloatProgress(value=1.0, max=1.0)…"
      ]
     },
     "metadata": {},
     "output_type": "display_data"
    },
    {
     "data": {
      "text/html": [
       "Find user logs for this run at: <code>/home/krishna/iit/sem6/dl/wandb/run-20210311_153747-fitwn9cg/logs/debug.log</code>"
      ],
      "text/plain": [
       "<IPython.core.display.HTML object>"
      ]
     },
     "metadata": {},
     "output_type": "display_data"
    },
    {
     "data": {
      "text/html": [
       "Find internal logs for this run at: <code>/home/krishna/iit/sem6/dl/wandb/run-20210311_153747-fitwn9cg/logs/debug-internal.log</code>"
      ],
      "text/plain": [
       "<IPython.core.display.HTML object>"
      ]
     },
     "metadata": {},
     "output_type": "display_data"
    },
    {
     "data": {
      "text/html": [
       "<h3>Run summary:</h3><br/><style>\n",
       "    table.wandb td:nth-child(1) { padding: 0 10px; text-align: right }\n",
       "    </style><table class=\"wandb\">\n",
       "<tr><td>train accuracy</td><td>0.84123</td></tr><tr><td>validation accuracy</td><td>0.83333</td></tr><tr><td>train loss</td><td>0.494</td></tr><tr><td>val loss</td><td>0.52106</td></tr><tr><td>_runtime</td><td>20</td></tr><tr><td>_timestamp</td><td>1615457288</td></tr><tr><td>_step</td><td>9</td></tr></table>"
      ],
      "text/plain": [
       "<IPython.core.display.HTML object>"
      ]
     },
     "metadata": {},
     "output_type": "display_data"
    },
    {
     "data": {
      "text/html": [
       "<h3>Run history:</h3><br/><style>\n",
       "    table.wandb td:nth-child(1) { padding: 0 10px; text-align: right }\n",
       "    </style><table class=\"wandb\">\n",
       "<tr><td>train accuracy</td><td>▁▅▆▇▇█████</td></tr><tr><td>validation accuracy</td><td>▁▅▆▇▇█████</td></tr><tr><td>train loss</td><td>█▄▃▂▂▁▁▁▁▁</td></tr><tr><td>val loss</td><td>█▄▃▂▂▁▁▁▁▁</td></tr><tr><td>_runtime</td><td>▁▂▂▃▄▄▅▇▇█</td></tr><tr><td>_timestamp</td><td>▁▂▂▃▄▄▅▇▇█</td></tr><tr><td>_step</td><td>▁▂▃▃▄▅▆▆▇█</td></tr></table><br/>"
      ],
      "text/plain": [
       "<IPython.core.display.HTML object>"
      ]
     },
     "metadata": {},
     "output_type": "display_data"
    },
    {
     "data": {
      "text/html": [
       "Synced 5 W&B file(s), 0 media file(s), 0 artifact file(s) and 0 other file(s)"
      ],
      "text/plain": [
       "<IPython.core.display.HTML object>"
      ]
     },
     "metadata": {},
     "output_type": "display_data"
    },
    {
     "data": {
      "text/html": [
       "\n",
       "                    <br/>Synced <strong style=\"color:#cdcd00\">hello</strong>: <a href=\"https://wandb.ai/notarchana/CS6910-A1/runs/fitwn9cg\" target=\"_blank\">https://wandb.ai/notarchana/CS6910-A1/runs/fitwn9cg</a><br/>\n",
       "                "
      ],
      "text/plain": [
       "<IPython.core.display.HTML object>"
      ]
     },
     "metadata": {},
     "output_type": "display_data"
    },
    {
     "name": "stderr",
     "output_type": "stream",
     "text": [
      "\u001b[34m\u001b[1mwandb\u001b[0m: Agent Starting Run: gecrdhqm with config:\n",
      "\u001b[34m\u001b[1mwandb\u001b[0m: \tactivation: sigmoid\n",
      "\u001b[34m\u001b[1mwandb\u001b[0m: \tbatch_size: 64\n",
      "\u001b[34m\u001b[1mwandb\u001b[0m: \tepochs: 10\n",
      "\u001b[34m\u001b[1mwandb\u001b[0m: \thidden_layer_size: 64\n",
      "\u001b[34m\u001b[1mwandb\u001b[0m: \thidden_layers: 3\n",
      "\u001b[34m\u001b[1mwandb\u001b[0m: \tlr: 0.001\n",
      "\u001b[34m\u001b[1mwandb\u001b[0m: \toptimiser: momentum\n",
      "\u001b[34m\u001b[1mwandb\u001b[0m: \tweight_decay: 0.0005\n",
      "\u001b[34m\u001b[1mwandb\u001b[0m: \tweight_init: xavier\n"
     ]
    },
    {
     "data": {
      "text/html": [
       "\n",
       "                Tracking run with wandb version 0.10.22<br/>\n",
       "                Syncing run <strong style=\"color:#cdcd00\">hello</strong> to <a href=\"https://wandb.ai\" target=\"_blank\">Weights & Biases</a> <a href=\"https://docs.wandb.com/integrations/jupyter.html\" target=\"_blank\">(Documentation)</a>.<br/>\n",
       "                Project page: <a href=\"https://wandb.ai/notarchana/CS6910-A1\" target=\"_blank\">https://wandb.ai/notarchana/CS6910-A1</a><br/>\n",
       "                Sweep page: <a href=\"https://wandb.ai/notarchana/CS6910-A1/sweeps/lzmcss02\" target=\"_blank\">https://wandb.ai/notarchana/CS6910-A1/sweeps/lzmcss02</a><br/>\n",
       "Run page: <a href=\"https://wandb.ai/notarchana/CS6910-A1/runs/gecrdhqm\" target=\"_blank\">https://wandb.ai/notarchana/CS6910-A1/runs/gecrdhqm</a><br/>\n",
       "                Run data is saved locally in <code>/home/krishna/iit/sem6/dl/wandb/run-20210311_153815-gecrdhqm</code><br/><br/>\n",
       "            "
      ],
      "text/plain": [
       "<IPython.core.display.HTML object>"
      ]
     },
     "metadata": {},
     "output_type": "display_data"
    },
    {
     "name": "stderr",
     "output_type": "stream",
     "text": [
      "\u001b[34m\u001b[1mwandb\u001b[0m: \u001b[33mWARNING\u001b[0m Calling run.save without any arguments is deprecated.Changes to attributes are automatically persisted.\n"
     ]
    },
    {
     "name": "stdout",
     "output_type": "stream",
     "text": [
      "model building done\n",
      "Epoch 0 done: Loss = 2.231746326167958\n",
      "Epoch 1 done: Loss = 1.3589629657165734\n",
      "Epoch 2 done: Loss = 1.0050798874650015\n",
      "Epoch 3 done: Loss = 0.7270413713162914\n",
      "Epoch 4 done: Loss = 0.6534800162632218\n",
      "Epoch 5 done: Loss = 0.6216475682885197\n",
      "Epoch 6 done: Loss = 0.5953883206681617\n",
      "Epoch 7 done: Loss = 0.5672242895112856\n",
      "Epoch 8 done: Loss = 0.5409884473384475\n",
      "Epoch 9 done: Loss = 0.5190974645420191\n",
      "model training done\n"
     ]
    },
    {
     "data": {
      "text/html": [
       "<br/>Waiting for W&B process to finish, PID 62541<br/>Program ended successfully."
      ],
      "text/plain": [
       "<IPython.core.display.HTML object>"
      ]
     },
     "metadata": {},
     "output_type": "display_data"
    },
    {
     "data": {
      "application/vnd.jupyter.widget-view+json": {
       "model_id": "",
       "version_major": 2,
       "version_minor": 0
      },
      "text/plain": [
       "VBox(children=(Label(value=' 0.00MB of 0.00MB uploaded (0.00MB deduped)\\r'), FloatProgress(value=1.0, max=1.0)…"
      ]
     },
     "metadata": {},
     "output_type": "display_data"
    },
    {
     "data": {
      "text/html": [
       "Find user logs for this run at: <code>/home/krishna/iit/sem6/dl/wandb/run-20210311_153815-gecrdhqm/logs/debug.log</code>"
      ],
      "text/plain": [
       "<IPython.core.display.HTML object>"
      ]
     },
     "metadata": {},
     "output_type": "display_data"
    },
    {
     "data": {
      "text/html": [
       "Find internal logs for this run at: <code>/home/krishna/iit/sem6/dl/wandb/run-20210311_153815-gecrdhqm/logs/debug-internal.log</code>"
      ],
      "text/plain": [
       "<IPython.core.display.HTML object>"
      ]
     },
     "metadata": {},
     "output_type": "display_data"
    },
    {
     "data": {
      "text/html": [
       "<h3>Run summary:</h3><br/><style>\n",
       "    table.wandb td:nth-child(1) { padding: 0 10px; text-align: right }\n",
       "    </style><table class=\"wandb\">\n",
       "<tr><td>train accuracy</td><td>0.84235</td></tr><tr><td>validation accuracy</td><td>0.84358</td></tr><tr><td>train loss</td><td>0.5191</td></tr><tr><td>val loss</td><td>0.52235</td></tr><tr><td>_runtime</td><td>19</td></tr><tr><td>_timestamp</td><td>1615457314</td></tr><tr><td>_step</td><td>9</td></tr></table>"
      ],
      "text/plain": [
       "<IPython.core.display.HTML object>"
      ]
     },
     "metadata": {},
     "output_type": "display_data"
    },
    {
     "data": {
      "text/html": [
       "<h3>Run history:</h3><br/><style>\n",
       "    table.wandb td:nth-child(1) { padding: 0 10px; text-align: right }\n",
       "    </style><table class=\"wandb\">\n",
       "<tr><td>train accuracy</td><td>▁▃▆▇▇▇████</td></tr><tr><td>validation accuracy</td><td>▁▃▆▇▇▇████</td></tr><tr><td>train loss</td><td>█▄▃▂▂▁▁▁▁▁</td></tr><tr><td>val loss</td><td>█▄▃▂▂▁▁▁▁▁</td></tr><tr><td>_runtime</td><td>▁▁▂▃▄▅▆▇▇█</td></tr><tr><td>_timestamp</td><td>▁▁▂▃▄▅▆▇▇█</td></tr><tr><td>_step</td><td>▁▂▃▃▄▅▆▆▇█</td></tr></table><br/>"
      ],
      "text/plain": [
       "<IPython.core.display.HTML object>"
      ]
     },
     "metadata": {},
     "output_type": "display_data"
    },
    {
     "data": {
      "text/html": [
       "Synced 5 W&B file(s), 0 media file(s), 0 artifact file(s) and 0 other file(s)"
      ],
      "text/plain": [
       "<IPython.core.display.HTML object>"
      ]
     },
     "metadata": {},
     "output_type": "display_data"
    },
    {
     "data": {
      "text/html": [
       "\n",
       "                    <br/>Synced <strong style=\"color:#cdcd00\">hello</strong>: <a href=\"https://wandb.ai/notarchana/CS6910-A1/runs/gecrdhqm\" target=\"_blank\">https://wandb.ai/notarchana/CS6910-A1/runs/gecrdhqm</a><br/>\n",
       "                "
      ],
      "text/plain": [
       "<IPython.core.display.HTML object>"
      ]
     },
     "metadata": {},
     "output_type": "display_data"
    },
    {
     "name": "stderr",
     "output_type": "stream",
     "text": [
      "\u001b[34m\u001b[1mwandb\u001b[0m: Agent Starting Run: exu6ee4v with config:\n",
      "\u001b[34m\u001b[1mwandb\u001b[0m: \tactivation: tanh\n",
      "\u001b[34m\u001b[1mwandb\u001b[0m: \tbatch_size: 16\n",
      "\u001b[34m\u001b[1mwandb\u001b[0m: \tepochs: 10\n",
      "\u001b[34m\u001b[1mwandb\u001b[0m: \thidden_layer_size: 128\n",
      "\u001b[34m\u001b[1mwandb\u001b[0m: \thidden_layers: 4\n",
      "\u001b[34m\u001b[1mwandb\u001b[0m: \tlr: 0.001\n",
      "\u001b[34m\u001b[1mwandb\u001b[0m: \toptimiser: adam\n",
      "\u001b[34m\u001b[1mwandb\u001b[0m: \tweight_decay: 0.0005\n",
      "\u001b[34m\u001b[1mwandb\u001b[0m: \tweight_init: xavier\n"
     ]
    },
    {
     "data": {
      "text/html": [
       "\n",
       "                Tracking run with wandb version 0.10.22<br/>\n",
       "                Syncing run <strong style=\"color:#cdcd00\">hello</strong> to <a href=\"https://wandb.ai\" target=\"_blank\">Weights & Biases</a> <a href=\"https://docs.wandb.com/integrations/jupyter.html\" target=\"_blank\">(Documentation)</a>.<br/>\n",
       "                Project page: <a href=\"https://wandb.ai/notarchana/CS6910-A1\" target=\"_blank\">https://wandb.ai/notarchana/CS6910-A1</a><br/>\n",
       "                Sweep page: <a href=\"https://wandb.ai/notarchana/CS6910-A1/sweeps/lzmcss02\" target=\"_blank\">https://wandb.ai/notarchana/CS6910-A1/sweeps/lzmcss02</a><br/>\n",
       "Run page: <a href=\"https://wandb.ai/notarchana/CS6910-A1/runs/exu6ee4v\" target=\"_blank\">https://wandb.ai/notarchana/CS6910-A1/runs/exu6ee4v</a><br/>\n",
       "                Run data is saved locally in <code>/home/krishna/iit/sem6/dl/wandb/run-20210311_153841-exu6ee4v</code><br/><br/>\n",
       "            "
      ],
      "text/plain": [
       "<IPython.core.display.HTML object>"
      ]
     },
     "metadata": {},
     "output_type": "display_data"
    },
    {
     "name": "stderr",
     "output_type": "stream",
     "text": [
      "\u001b[34m\u001b[1mwandb\u001b[0m: \u001b[33mWARNING\u001b[0m Calling run.save without any arguments is deprecated.Changes to attributes are automatically persisted.\n"
     ]
    },
    {
     "name": "stdout",
     "output_type": "stream",
     "text": [
      "model building done\n",
      "Epoch 0 done: Loss = 0.4052576831982645\n",
      "Epoch 1 done: Loss = 0.37189116542294504\n",
      "Epoch 2 done: Loss = 0.354998636518713\n",
      "Epoch 3 done: Loss = 0.3360370511049368\n",
      "Epoch 4 done: Loss = 0.32730249776466896\n",
      "Epoch 5 done: Loss = 0.3151119400655388\n",
      "Epoch 6 done: Loss = 0.307411263424661\n",
      "Epoch 7 done: Loss = 0.30060760999352865\n",
      "Epoch 8 done: Loss = 0.294457390782351\n",
      "Epoch 9 done: Loss = 0.2885753319439273\n",
      "model training done\n"
     ]
    },
    {
     "data": {
      "text/html": [
       "<br/>Waiting for W&B process to finish, PID 62569<br/>Program ended successfully."
      ],
      "text/plain": [
       "<IPython.core.display.HTML object>"
      ]
     },
     "metadata": {},
     "output_type": "display_data"
    },
    {
     "data": {
      "application/vnd.jupyter.widget-view+json": {
       "model_id": "",
       "version_major": 2,
       "version_minor": 0
      },
      "text/plain": [
       "VBox(children=(Label(value=' 0.00MB of 0.00MB uploaded (0.00MB deduped)\\r'), FloatProgress(value=1.0, max=1.0)…"
      ]
     },
     "metadata": {},
     "output_type": "display_data"
    },
    {
     "data": {
      "text/html": [
       "Find user logs for this run at: <code>/home/krishna/iit/sem6/dl/wandb/run-20210311_153841-exu6ee4v/logs/debug.log</code>"
      ],
      "text/plain": [
       "<IPython.core.display.HTML object>"
      ]
     },
     "metadata": {},
     "output_type": "display_data"
    },
    {
     "data": {
      "text/html": [
       "Find internal logs for this run at: <code>/home/krishna/iit/sem6/dl/wandb/run-20210311_153841-exu6ee4v/logs/debug-internal.log</code>"
      ],
      "text/plain": [
       "<IPython.core.display.HTML object>"
      ]
     },
     "metadata": {},
     "output_type": "display_data"
    },
    {
     "data": {
      "text/html": [
       "<h3>Run summary:</h3><br/><style>\n",
       "    table.wandb td:nth-child(1) { padding: 0 10px; text-align: right }\n",
       "    </style><table class=\"wandb\">\n",
       "<tr><td>train accuracy</td><td>0.9069</td></tr><tr><td>validation accuracy</td><td>0.88783</td></tr><tr><td>train loss</td><td>0.28858</td></tr><tr><td>val loss</td><td>0.33372</td></tr><tr><td>_runtime</td><td>133</td></tr><tr><td>_timestamp</td><td>1615457454</td></tr><tr><td>_step</td><td>9</td></tr></table>"
      ],
      "text/plain": [
       "<IPython.core.display.HTML object>"
      ]
     },
     "metadata": {},
     "output_type": "display_data"
    },
    {
     "data": {
      "text/html": [
       "<h3>Run history:</h3><br/><style>\n",
       "    table.wandb td:nth-child(1) { padding: 0 10px; text-align: right }\n",
       "    </style><table class=\"wandb\">\n",
       "<tr><td>train accuracy</td><td>▁▃▄▅▆▆▇▇██</td></tr><tr><td>validation accuracy</td><td>▁▄▅▆▆▇▇███</td></tr><tr><td>train loss</td><td>█▆▅▄▃▃▂▂▁▁</td></tr><tr><td>val loss</td><td>█▆▄▃▃▂▂▁▁▁</td></tr><tr><td>_runtime</td><td>▁▂▂▃▄▅▆▆▇█</td></tr><tr><td>_timestamp</td><td>▁▂▂▃▄▅▆▆▇█</td></tr><tr><td>_step</td><td>▁▂▃▃▄▅▆▆▇█</td></tr></table><br/>"
      ],
      "text/plain": [
       "<IPython.core.display.HTML object>"
      ]
     },
     "metadata": {},
     "output_type": "display_data"
    },
    {
     "data": {
      "text/html": [
       "Synced 5 W&B file(s), 0 media file(s), 0 artifact file(s) and 0 other file(s)"
      ],
      "text/plain": [
       "<IPython.core.display.HTML object>"
      ]
     },
     "metadata": {},
     "output_type": "display_data"
    },
    {
     "data": {
      "text/html": [
       "\n",
       "                    <br/>Synced <strong style=\"color:#cdcd00\">hello</strong>: <a href=\"https://wandb.ai/notarchana/CS6910-A1/runs/exu6ee4v\" target=\"_blank\">https://wandb.ai/notarchana/CS6910-A1/runs/exu6ee4v</a><br/>\n",
       "                "
      ],
      "text/plain": [
       "<IPython.core.display.HTML object>"
      ]
     },
     "metadata": {},
     "output_type": "display_data"
    },
    {
     "name": "stderr",
     "output_type": "stream",
     "text": [
      "\u001b[34m\u001b[1mwandb\u001b[0m: Agent Starting Run: ycpif8jq with config:\n",
      "\u001b[34m\u001b[1mwandb\u001b[0m: \tactivation: sigmoid\n",
      "\u001b[34m\u001b[1mwandb\u001b[0m: \tbatch_size: 32\n",
      "\u001b[34m\u001b[1mwandb\u001b[0m: \tepochs: 10\n",
      "\u001b[34m\u001b[1mwandb\u001b[0m: \thidden_layer_size: 32\n",
      "\u001b[34m\u001b[1mwandb\u001b[0m: \thidden_layers: 3\n",
      "\u001b[34m\u001b[1mwandb\u001b[0m: \tlr: 0.001\n",
      "\u001b[34m\u001b[1mwandb\u001b[0m: \toptimiser: rmsprop\n",
      "\u001b[34m\u001b[1mwandb\u001b[0m: \tweight_decay: 0\n",
      "\u001b[34m\u001b[1mwandb\u001b[0m: \tweight_init: xavier\n"
     ]
    },
    {
     "data": {
      "text/html": [
       "\n",
       "                Tracking run with wandb version 0.10.22<br/>\n",
       "                Syncing run <strong style=\"color:#cdcd00\">hello</strong> to <a href=\"https://wandb.ai\" target=\"_blank\">Weights & Biases</a> <a href=\"https://docs.wandb.com/integrations/jupyter.html\" target=\"_blank\">(Documentation)</a>.<br/>\n",
       "                Project page: <a href=\"https://wandb.ai/notarchana/CS6910-A1\" target=\"_blank\">https://wandb.ai/notarchana/CS6910-A1</a><br/>\n",
       "                Sweep page: <a href=\"https://wandb.ai/notarchana/CS6910-A1/sweeps/lzmcss02\" target=\"_blank\">https://wandb.ai/notarchana/CS6910-A1/sweeps/lzmcss02</a><br/>\n",
       "Run page: <a href=\"https://wandb.ai/notarchana/CS6910-A1/runs/ycpif8jq\" target=\"_blank\">https://wandb.ai/notarchana/CS6910-A1/runs/ycpif8jq</a><br/>\n",
       "                Run data is saved locally in <code>/home/krishna/iit/sem6/dl/wandb/run-20210311_154101-ycpif8jq</code><br/><br/>\n",
       "            "
      ],
      "text/plain": [
       "<IPython.core.display.HTML object>"
      ]
     },
     "metadata": {},
     "output_type": "display_data"
    },
    {
     "name": "stderr",
     "output_type": "stream",
     "text": [
      "\u001b[34m\u001b[1mwandb\u001b[0m: \u001b[33mWARNING\u001b[0m Calling run.save without any arguments is deprecated.Changes to attributes are automatically persisted.\n"
     ]
    },
    {
     "name": "stdout",
     "output_type": "stream",
     "text": [
      "model building done\n",
      "Epoch 0 done: Loss = 0.8049256794023786\n",
      "Epoch 1 done: Loss = 0.579570078951341\n",
      "Epoch 2 done: Loss = 0.495603512403724\n",
      "Epoch 3 done: Loss = 0.454551752235342\n",
      "Epoch 4 done: Loss = 0.4359180139411684\n",
      "Epoch 5 done: Loss = 0.41969403247057296\n",
      "Epoch 6 done: Loss = 0.40752664790125664\n",
      "Epoch 7 done: Loss = 0.3984198513604606\n",
      "Epoch 8 done: Loss = 0.3907772144926817\n",
      "Epoch 9 done: Loss = 0.38467370654391003\n",
      "model training done\n"
     ]
    },
    {
     "data": {
      "text/html": [
       "<br/>Waiting for W&B process to finish, PID 62626<br/>Program ended successfully."
      ],
      "text/plain": [
       "<IPython.core.display.HTML object>"
      ]
     },
     "metadata": {},
     "output_type": "display_data"
    },
    {
     "data": {
      "application/vnd.jupyter.widget-view+json": {
       "model_id": "",
       "version_major": 2,
       "version_minor": 0
      },
      "text/plain": [
       "VBox(children=(Label(value=' 0.00MB of 0.00MB uploaded (0.00MB deduped)\\r'), FloatProgress(value=1.0, max=1.0)…"
      ]
     },
     "metadata": {},
     "output_type": "display_data"
    },
    {
     "data": {
      "text/html": [
       "Find user logs for this run at: <code>/home/krishna/iit/sem6/dl/wandb/run-20210311_154101-ycpif8jq/logs/debug.log</code>"
      ],
      "text/plain": [
       "<IPython.core.display.HTML object>"
      ]
     },
     "metadata": {},
     "output_type": "display_data"
    },
    {
     "data": {
      "text/html": [
       "Find internal logs for this run at: <code>/home/krishna/iit/sem6/dl/wandb/run-20210311_154101-ycpif8jq/logs/debug-internal.log</code>"
      ],
      "text/plain": [
       "<IPython.core.display.HTML object>"
      ]
     },
     "metadata": {},
     "output_type": "display_data"
    },
    {
     "data": {
      "text/html": [
       "<h3>Run summary:</h3><br/><style>\n",
       "    table.wandb td:nth-child(1) { padding: 0 10px; text-align: right }\n",
       "    </style><table class=\"wandb\">\n",
       "<tr><td>train accuracy</td><td>0.88529</td></tr><tr><td>validation accuracy</td><td>0.87042</td></tr><tr><td>train loss</td><td>0.38467</td></tr><tr><td>val loss</td><td>0.40878</td></tr><tr><td>_runtime</td><td>20</td></tr><tr><td>_timestamp</td><td>1615457481</td></tr><tr><td>_step</td><td>9</td></tr></table>"
      ],
      "text/plain": [
       "<IPython.core.display.HTML object>"
      ]
     },
     "metadata": {},
     "output_type": "display_data"
    },
    {
     "data": {
      "text/html": [
       "<h3>Run history:</h3><br/><style>\n",
       "    table.wandb td:nth-child(1) { padding: 0 10px; text-align: right }\n",
       "    </style><table class=\"wandb\">\n",
       "<tr><td>train accuracy</td><td>▁▅▆▇▇▇████</td></tr><tr><td>validation accuracy</td><td>▁▅▆▇▇▇████</td></tr><tr><td>train loss</td><td>█▄▃▂▂▂▁▁▁▁</td></tr><tr><td>val loss</td><td>█▄▃▂▂▁▁▁▁▁</td></tr><tr><td>_runtime</td><td>▁▂▂▃▄▅▅▆▇█</td></tr><tr><td>_timestamp</td><td>▁▂▂▃▄▅▅▆▇█</td></tr><tr><td>_step</td><td>▁▂▃▃▄▅▆▆▇█</td></tr></table><br/>"
      ],
      "text/plain": [
       "<IPython.core.display.HTML object>"
      ]
     },
     "metadata": {},
     "output_type": "display_data"
    },
    {
     "data": {
      "text/html": [
       "Synced 5 W&B file(s), 0 media file(s), 0 artifact file(s) and 0 other file(s)"
      ],
      "text/plain": [
       "<IPython.core.display.HTML object>"
      ]
     },
     "metadata": {},
     "output_type": "display_data"
    },
    {
     "data": {
      "text/html": [
       "\n",
       "                    <br/>Synced <strong style=\"color:#cdcd00\">hello</strong>: <a href=\"https://wandb.ai/notarchana/CS6910-A1/runs/ycpif8jq\" target=\"_blank\">https://wandb.ai/notarchana/CS6910-A1/runs/ycpif8jq</a><br/>\n",
       "                "
      ],
      "text/plain": [
       "<IPython.core.display.HTML object>"
      ]
     },
     "metadata": {},
     "output_type": "display_data"
    },
    {
     "name": "stderr",
     "output_type": "stream",
     "text": [
      "\u001b[34m\u001b[1mwandb\u001b[0m: Agent Starting Run: 5nkja2po with config:\n",
      "\u001b[34m\u001b[1mwandb\u001b[0m: \tactivation: relu\n",
      "\u001b[34m\u001b[1mwandb\u001b[0m: \tbatch_size: 32\n",
      "\u001b[34m\u001b[1mwandb\u001b[0m: \tepochs: 10\n",
      "\u001b[34m\u001b[1mwandb\u001b[0m: \thidden_layer_size: 32\n",
      "\u001b[34m\u001b[1mwandb\u001b[0m: \thidden_layers: 4\n",
      "\u001b[34m\u001b[1mwandb\u001b[0m: \tlr: 0.001\n",
      "\u001b[34m\u001b[1mwandb\u001b[0m: \toptimiser: momentum\n",
      "\u001b[34m\u001b[1mwandb\u001b[0m: \tweight_decay: 0\n",
      "\u001b[34m\u001b[1mwandb\u001b[0m: \tweight_init: xavier\n"
     ]
    },
    {
     "data": {
      "text/html": [
       "\n",
       "                Tracking run with wandb version 0.10.22<br/>\n",
       "                Syncing run <strong style=\"color:#cdcd00\">hello</strong> to <a href=\"https://wandb.ai\" target=\"_blank\">Weights & Biases</a> <a href=\"https://docs.wandb.com/integrations/jupyter.html\" target=\"_blank\">(Documentation)</a>.<br/>\n",
       "                Project page: <a href=\"https://wandb.ai/notarchana/CS6910-A1\" target=\"_blank\">https://wandb.ai/notarchana/CS6910-A1</a><br/>\n",
       "                Sweep page: <a href=\"https://wandb.ai/notarchana/CS6910-A1/sweeps/lzmcss02\" target=\"_blank\">https://wandb.ai/notarchana/CS6910-A1/sweeps/lzmcss02</a><br/>\n",
       "Run page: <a href=\"https://wandb.ai/notarchana/CS6910-A1/runs/5nkja2po\" target=\"_blank\">https://wandb.ai/notarchana/CS6910-A1/runs/5nkja2po</a><br/>\n",
       "                Run data is saved locally in <code>/home/krishna/iit/sem6/dl/wandb/run-20210311_154128-5nkja2po</code><br/><br/>\n",
       "            "
      ],
      "text/plain": [
       "<IPython.core.display.HTML object>"
      ]
     },
     "metadata": {},
     "output_type": "display_data"
    },
    {
     "name": "stderr",
     "output_type": "stream",
     "text": [
      "\u001b[34m\u001b[1mwandb\u001b[0m: \u001b[33mWARNING\u001b[0m Calling run.save without any arguments is deprecated.Changes to attributes are automatically persisted.\n"
     ]
    },
    {
     "name": "stdout",
     "output_type": "stream",
     "text": [
      "model building done\n",
      "Epoch 0 done: Loss = 0.5115311402796647\n",
      "Epoch 1 done: Loss = 0.4557680883880909\n",
      "Epoch 2 done: Loss = 0.4086242469989798\n",
      "Epoch 3 done: Loss = 0.3890119491284099\n",
      "Epoch 4 done: Loss = 0.4090032338383144\n",
      "Epoch 5 done: Loss = 0.40987836701108593\n",
      "Epoch 6 done: Loss = 0.4015994099113024\n",
      "Epoch 7 done: Loss = 0.37759397464209554\n",
      "Epoch 8 done: Loss = 0.3785661209708685\n",
      "Epoch 9 done: Loss = 0.3794516602788174\n",
      "model training done\n"
     ]
    },
    {
     "data": {
      "text/html": [
       "<br/>Waiting for W&B process to finish, PID 62654<br/>Program ended successfully."
      ],
      "text/plain": [
       "<IPython.core.display.HTML object>"
      ]
     },
     "metadata": {},
     "output_type": "display_data"
    },
    {
     "data": {
      "application/vnd.jupyter.widget-view+json": {
       "model_id": "",
       "version_major": 2,
       "version_minor": 0
      },
      "text/plain": [
       "VBox(children=(Label(value=' 0.00MB of 0.00MB uploaded (0.00MB deduped)\\r'), FloatProgress(value=1.0, max=1.0)…"
      ]
     },
     "metadata": {},
     "output_type": "display_data"
    },
    {
     "data": {
      "text/html": [
       "Find user logs for this run at: <code>/home/krishna/iit/sem6/dl/wandb/run-20210311_154128-5nkja2po/logs/debug.log</code>"
      ],
      "text/plain": [
       "<IPython.core.display.HTML object>"
      ]
     },
     "metadata": {},
     "output_type": "display_data"
    },
    {
     "data": {
      "text/html": [
       "Find internal logs for this run at: <code>/home/krishna/iit/sem6/dl/wandb/run-20210311_154128-5nkja2po/logs/debug-internal.log</code>"
      ],
      "text/plain": [
       "<IPython.core.display.HTML object>"
      ]
     },
     "metadata": {},
     "output_type": "display_data"
    },
    {
     "data": {
      "text/html": [
       "<h3>Run summary:</h3><br/><style>\n",
       "    table.wandb td:nth-child(1) { padding: 0 10px; text-align: right }\n",
       "    </style><table class=\"wandb\">\n",
       "<tr><td>train accuracy</td><td>0.87717</td></tr><tr><td>validation accuracy</td><td>0.85792</td></tr><tr><td>train loss</td><td>0.37945</td></tr><tr><td>val loss</td><td>0.43261</td></tr><tr><td>_runtime</td><td>16</td></tr><tr><td>_timestamp</td><td>1615457504</td></tr><tr><td>_step</td><td>9</td></tr></table>"
      ],
      "text/plain": [
       "<IPython.core.display.HTML object>"
      ]
     },
     "metadata": {},
     "output_type": "display_data"
    },
    {
     "data": {
      "text/html": [
       "<h3>Run history:</h3><br/><style>\n",
       "    table.wandb td:nth-child(1) { padding: 0 10px; text-align: right }\n",
       "    </style><table class=\"wandb\">\n",
       "<tr><td>train accuracy</td><td>▁▃▄▅▆▆▆███</td></tr><tr><td>validation accuracy</td><td>▁▃▄▆▆▅▇▇█▇</td></tr><tr><td>train loss</td><td>█▅▃▂▃▃▂▁▁▁</td></tr><tr><td>val loss</td><td>█▄▂▁▂▃▃▂▂▂</td></tr><tr><td>_runtime</td><td>▁▂▂▃▄▅▅▆▇█</td></tr><tr><td>_timestamp</td><td>▁▂▂▃▄▅▅▆▇█</td></tr><tr><td>_step</td><td>▁▂▃▃▄▅▆▆▇█</td></tr></table><br/>"
      ],
      "text/plain": [
       "<IPython.core.display.HTML object>"
      ]
     },
     "metadata": {},
     "output_type": "display_data"
    },
    {
     "data": {
      "text/html": [
       "Synced 5 W&B file(s), 0 media file(s), 0 artifact file(s) and 0 other file(s)"
      ],
      "text/plain": [
       "<IPython.core.display.HTML object>"
      ]
     },
     "metadata": {},
     "output_type": "display_data"
    },
    {
     "data": {
      "text/html": [
       "\n",
       "                    <br/>Synced <strong style=\"color:#cdcd00\">hello</strong>: <a href=\"https://wandb.ai/notarchana/CS6910-A1/runs/5nkja2po\" target=\"_blank\">https://wandb.ai/notarchana/CS6910-A1/runs/5nkja2po</a><br/>\n",
       "                "
      ],
      "text/plain": [
       "<IPython.core.display.HTML object>"
      ]
     },
     "metadata": {},
     "output_type": "display_data"
    },
    {
     "name": "stderr",
     "output_type": "stream",
     "text": [
      "\u001b[34m\u001b[1mwandb\u001b[0m: Agent Starting Run: 230v77dr with config:\n",
      "\u001b[34m\u001b[1mwandb\u001b[0m: \tactivation: tanh\n",
      "\u001b[34m\u001b[1mwandb\u001b[0m: \tbatch_size: 32\n",
      "\u001b[34m\u001b[1mwandb\u001b[0m: \tepochs: 10\n",
      "\u001b[34m\u001b[1mwandb\u001b[0m: \thidden_layer_size: 128\n",
      "\u001b[34m\u001b[1mwandb\u001b[0m: \thidden_layers: 4\n",
      "\u001b[34m\u001b[1mwandb\u001b[0m: \tlr: 0.001\n",
      "\u001b[34m\u001b[1mwandb\u001b[0m: \toptimiser: adam\n",
      "\u001b[34m\u001b[1mwandb\u001b[0m: \tweight_decay: 0.5\n",
      "\u001b[34m\u001b[1mwandb\u001b[0m: \tweight_init: xavier\n"
     ]
    },
    {
     "data": {
      "text/html": [
       "\n",
       "                Tracking run with wandb version 0.10.22<br/>\n",
       "                Syncing run <strong style=\"color:#cdcd00\">hello</strong> to <a href=\"https://wandb.ai\" target=\"_blank\">Weights & Biases</a> <a href=\"https://docs.wandb.com/integrations/jupyter.html\" target=\"_blank\">(Documentation)</a>.<br/>\n",
       "                Project page: <a href=\"https://wandb.ai/notarchana/CS6910-A1\" target=\"_blank\">https://wandb.ai/notarchana/CS6910-A1</a><br/>\n",
       "                Sweep page: <a href=\"https://wandb.ai/notarchana/CS6910-A1/sweeps/lzmcss02\" target=\"_blank\">https://wandb.ai/notarchana/CS6910-A1/sweeps/lzmcss02</a><br/>\n",
       "Run page: <a href=\"https://wandb.ai/notarchana/CS6910-A1/runs/230v77dr\" target=\"_blank\">https://wandb.ai/notarchana/CS6910-A1/runs/230v77dr</a><br/>\n",
       "                Run data is saved locally in <code>/home/krishna/iit/sem6/dl/wandb/run-20210311_154150-230v77dr</code><br/><br/>\n",
       "            "
      ],
      "text/plain": [
       "<IPython.core.display.HTML object>"
      ]
     },
     "metadata": {},
     "output_type": "display_data"
    },
    {
     "name": "stderr",
     "output_type": "stream",
     "text": [
      "\u001b[34m\u001b[1mwandb\u001b[0m: \u001b[33mWARNING\u001b[0m Calling run.save without any arguments is deprecated.Changes to attributes are automatically persisted.\n"
     ]
    },
    {
     "name": "stdout",
     "output_type": "stream",
     "text": [
      "model building done\n",
      "Epoch 0 done: Loss = 0.4089237390134916\n",
      "Epoch 1 done: Loss = 0.37967468719866393\n",
      "Epoch 2 done: Loss = 0.3633637863775926\n",
      "Epoch 3 done: Loss = 0.34901379651743447\n",
      "Epoch 4 done: Loss = 0.3367579007966977\n",
      "Epoch 5 done: Loss = 0.3280206287244173\n",
      "Epoch 6 done: Loss = 0.3219126631550825\n",
      "Epoch 7 done: Loss = 0.3168360061985075\n",
      "Epoch 8 done: Loss = 0.3128243568051464\n",
      "Epoch 9 done: Loss = 0.30929943128421206\n",
      "model training done\n"
     ]
    },
    {
     "data": {
      "text/html": [
       "<br/>Waiting for W&B process to finish, PID 62685<br/>Program ended successfully."
      ],
      "text/plain": [
       "<IPython.core.display.HTML object>"
      ]
     },
     "metadata": {},
     "output_type": "display_data"
    },
    {
     "data": {
      "application/vnd.jupyter.widget-view+json": {
       "model_id": "",
       "version_major": 2,
       "version_minor": 0
      },
      "text/plain": [
       "VBox(children=(Label(value=' 0.00MB of 0.00MB uploaded (0.00MB deduped)\\r'), FloatProgress(value=1.0, max=1.0)…"
      ]
     },
     "metadata": {},
     "output_type": "display_data"
    },
    {
     "data": {
      "text/html": [
       "Find user logs for this run at: <code>/home/krishna/iit/sem6/dl/wandb/run-20210311_154150-230v77dr/logs/debug.log</code>"
      ],
      "text/plain": [
       "<IPython.core.display.HTML object>"
      ]
     },
     "metadata": {},
     "output_type": "display_data"
    },
    {
     "data": {
      "text/html": [
       "Find internal logs for this run at: <code>/home/krishna/iit/sem6/dl/wandb/run-20210311_154150-230v77dr/logs/debug-internal.log</code>"
      ],
      "text/plain": [
       "<IPython.core.display.HTML object>"
      ]
     },
     "metadata": {},
     "output_type": "display_data"
    },
    {
     "data": {
      "text/html": [
       "<h3>Run summary:</h3><br/><style>\n",
       "    table.wandb td:nth-child(1) { padding: 0 10px; text-align: right }\n",
       "    </style><table class=\"wandb\">\n",
       "<tr><td>train accuracy</td><td>0.90577</td></tr><tr><td>validation accuracy</td><td>0.88458</td></tr><tr><td>train loss</td><td>0.3093</td></tr><tr><td>val loss</td><td>0.3524</td></tr><tr><td>_runtime</td><td>95</td></tr><tr><td>_timestamp</td><td>1615457605</td></tr><tr><td>_step</td><td>9</td></tr></table>"
      ],
      "text/plain": [
       "<IPython.core.display.HTML object>"
      ]
     },
     "metadata": {},
     "output_type": "display_data"
    },
    {
     "data": {
      "text/html": [
       "<h3>Run history:</h3><br/><style>\n",
       "    table.wandb td:nth-child(1) { padding: 0 10px; text-align: right }\n",
       "    </style><table class=\"wandb\">\n",
       "<tr><td>train accuracy</td><td>▁▃▄▅▆▇▇▇██</td></tr><tr><td>validation accuracy</td><td>▁▃▄▅▆▇▇███</td></tr><tr><td>train loss</td><td>█▆▅▄▃▂▂▂▁▁</td></tr><tr><td>val loss</td><td>█▆▄▃▂▂▁▁▁▁</td></tr><tr><td>_runtime</td><td>▁▂▃▃▄▅▆▇▇█</td></tr><tr><td>_timestamp</td><td>▁▂▃▃▄▅▆▇▇█</td></tr><tr><td>_step</td><td>▁▂▃▃▄▅▆▆▇█</td></tr></table><br/>"
      ],
      "text/plain": [
       "<IPython.core.display.HTML object>"
      ]
     },
     "metadata": {},
     "output_type": "display_data"
    },
    {
     "data": {
      "text/html": [
       "Synced 5 W&B file(s), 0 media file(s), 0 artifact file(s) and 0 other file(s)"
      ],
      "text/plain": [
       "<IPython.core.display.HTML object>"
      ]
     },
     "metadata": {},
     "output_type": "display_data"
    },
    {
     "data": {
      "text/html": [
       "\n",
       "                    <br/>Synced <strong style=\"color:#cdcd00\">hello</strong>: <a href=\"https://wandb.ai/notarchana/CS6910-A1/runs/230v77dr\" target=\"_blank\">https://wandb.ai/notarchana/CS6910-A1/runs/230v77dr</a><br/>\n",
       "                "
      ],
      "text/plain": [
       "<IPython.core.display.HTML object>"
      ]
     },
     "metadata": {},
     "output_type": "display_data"
    },
    {
     "name": "stderr",
     "output_type": "stream",
     "text": [
      "\u001b[34m\u001b[1mwandb\u001b[0m: Agent Starting Run: g6rer5qg with config:\n",
      "\u001b[34m\u001b[1mwandb\u001b[0m: \tactivation: relu\n",
      "\u001b[34m\u001b[1mwandb\u001b[0m: \tbatch_size: 64\n",
      "\u001b[34m\u001b[1mwandb\u001b[0m: \tepochs: 10\n",
      "\u001b[34m\u001b[1mwandb\u001b[0m: \thidden_layer_size: 128\n",
      "\u001b[34m\u001b[1mwandb\u001b[0m: \thidden_layers: 4\n",
      "\u001b[34m\u001b[1mwandb\u001b[0m: \tlr: 0.001\n",
      "\u001b[34m\u001b[1mwandb\u001b[0m: \toptimiser: nesterov\n",
      "\u001b[34m\u001b[1mwandb\u001b[0m: \tweight_decay: 0.0005\n",
      "\u001b[34m\u001b[1mwandb\u001b[0m: \tweight_init: xavier\n"
     ]
    },
    {
     "data": {
      "text/html": [
       "\n",
       "                Tracking run with wandb version 0.10.22<br/>\n",
       "                Syncing run <strong style=\"color:#cdcd00\">hello</strong> to <a href=\"https://wandb.ai\" target=\"_blank\">Weights & Biases</a> <a href=\"https://docs.wandb.com/integrations/jupyter.html\" target=\"_blank\">(Documentation)</a>.<br/>\n",
       "                Project page: <a href=\"https://wandb.ai/notarchana/CS6910-A1\" target=\"_blank\">https://wandb.ai/notarchana/CS6910-A1</a><br/>\n",
       "                Sweep page: <a href=\"https://wandb.ai/notarchana/CS6910-A1/sweeps/lzmcss02\" target=\"_blank\">https://wandb.ai/notarchana/CS6910-A1/sweeps/lzmcss02</a><br/>\n",
       "Run page: <a href=\"https://wandb.ai/notarchana/CS6910-A1/runs/g6rer5qg\" target=\"_blank\">https://wandb.ai/notarchana/CS6910-A1/runs/g6rer5qg</a><br/>\n",
       "                Run data is saved locally in <code>/home/krishna/iit/sem6/dl/wandb/run-20210311_154332-g6rer5qg</code><br/><br/>\n",
       "            "
      ],
      "text/plain": [
       "<IPython.core.display.HTML object>"
      ]
     },
     "metadata": {},
     "output_type": "display_data"
    },
    {
     "name": "stderr",
     "output_type": "stream",
     "text": [
      "\u001b[34m\u001b[1mwandb\u001b[0m: \u001b[33mWARNING\u001b[0m Calling run.save without any arguments is deprecated.Changes to attributes are automatically persisted.\n"
     ]
    },
    {
     "name": "stdout",
     "output_type": "stream",
     "text": [
      "model building done\n",
      "Epoch 0 done: Loss = 1.604027242374674\n",
      "Epoch 1 done: Loss = 0.7984404172174778\n",
      "Epoch 2 done: Loss = 0.6758899647461182\n",
      "Epoch 3 done: Loss = 0.622493228699285\n",
      "Epoch 4 done: Loss = 0.5888339749497249\n",
      "Epoch 5 done: Loss = 0.5638380787927568\n",
      "Epoch 6 done: Loss = 0.5417908023425921\n",
      "Epoch 7 done: Loss = 0.5269260192153423\n",
      "Epoch 8 done: Loss = 0.5138318792911826\n",
      "Epoch 9 done: Loss = 0.502387904684291\n",
      "model training done\n"
     ]
    },
    {
     "data": {
      "text/html": [
       "<br/>Waiting for W&B process to finish, PID 62735<br/>Program ended successfully."
      ],
      "text/plain": [
       "<IPython.core.display.HTML object>"
      ]
     },
     "metadata": {},
     "output_type": "display_data"
    },
    {
     "data": {
      "application/vnd.jupyter.widget-view+json": {
       "model_id": "",
       "version_major": 2,
       "version_minor": 0
      },
      "text/plain": [
       "VBox(children=(Label(value=' 0.00MB of 0.00MB uploaded (0.00MB deduped)\\r'), FloatProgress(value=1.0, max=1.0)…"
      ]
     },
     "metadata": {},
     "output_type": "display_data"
    },
    {
     "data": {
      "text/html": [
       "Find user logs for this run at: <code>/home/krishna/iit/sem6/dl/wandb/run-20210311_154332-g6rer5qg/logs/debug.log</code>"
      ],
      "text/plain": [
       "<IPython.core.display.HTML object>"
      ]
     },
     "metadata": {},
     "output_type": "display_data"
    },
    {
     "data": {
      "text/html": [
       "Find internal logs for this run at: <code>/home/krishna/iit/sem6/dl/wandb/run-20210311_154332-g6rer5qg/logs/debug-internal.log</code>"
      ],
      "text/plain": [
       "<IPython.core.display.HTML object>"
      ]
     },
     "metadata": {},
     "output_type": "display_data"
    },
    {
     "data": {
      "text/html": [
       "<h3>Run summary:</h3><br/><style>\n",
       "    table.wandb td:nth-child(1) { padding: 0 10px; text-align: right }\n",
       "    </style><table class=\"wandb\">\n",
       "<tr><td>train accuracy</td><td>0.83937</td></tr><tr><td>validation accuracy</td><td>0.834</td></tr><tr><td>train loss</td><td>0.50239</td></tr><tr><td>val loss</td><td>0.51407</td></tr><tr><td>_runtime</td><td>33</td></tr><tr><td>_timestamp</td><td>1615457645</td></tr><tr><td>_step</td><td>9</td></tr></table>"
      ],
      "text/plain": [
       "<IPython.core.display.HTML object>"
      ]
     },
     "metadata": {},
     "output_type": "display_data"
    },
    {
     "data": {
      "text/html": [
       "<h3>Run history:</h3><br/><style>\n",
       "    table.wandb td:nth-child(1) { padding: 0 10px; text-align: right }\n",
       "    </style><table class=\"wandb\">\n",
       "<tr><td>train accuracy</td><td>▁▅▆▇▇█████</td></tr><tr><td>validation accuracy</td><td>▁▅▆▇▇█████</td></tr><tr><td>train loss</td><td>█▃▂▂▂▁▁▁▁▁</td></tr><tr><td>val loss</td><td>█▃▂▂▂▁▁▁▁▁</td></tr><tr><td>_runtime</td><td>▁▂▃▃▄▅▆▇▇█</td></tr><tr><td>_timestamp</td><td>▁▂▃▃▄▅▆▇▇█</td></tr><tr><td>_step</td><td>▁▂▃▃▄▅▆▆▇█</td></tr></table><br/>"
      ],
      "text/plain": [
       "<IPython.core.display.HTML object>"
      ]
     },
     "metadata": {},
     "output_type": "display_data"
    },
    {
     "data": {
      "text/html": [
       "Synced 5 W&B file(s), 0 media file(s), 0 artifact file(s) and 0 other file(s)"
      ],
      "text/plain": [
       "<IPython.core.display.HTML object>"
      ]
     },
     "metadata": {},
     "output_type": "display_data"
    },
    {
     "data": {
      "text/html": [
       "\n",
       "                    <br/>Synced <strong style=\"color:#cdcd00\">hello</strong>: <a href=\"https://wandb.ai/notarchana/CS6910-A1/runs/g6rer5qg\" target=\"_blank\">https://wandb.ai/notarchana/CS6910-A1/runs/g6rer5qg</a><br/>\n",
       "                "
      ],
      "text/plain": [
       "<IPython.core.display.HTML object>"
      ]
     },
     "metadata": {},
     "output_type": "display_data"
    },
    {
     "name": "stderr",
     "output_type": "stream",
     "text": [
      "\u001b[34m\u001b[1mwandb\u001b[0m: Agent Starting Run: zk6t62q2 with config:\n",
      "\u001b[34m\u001b[1mwandb\u001b[0m: \tactivation: relu\n",
      "\u001b[34m\u001b[1mwandb\u001b[0m: \tbatch_size: 16\n",
      "\u001b[34m\u001b[1mwandb\u001b[0m: \tepochs: 10\n",
      "\u001b[34m\u001b[1mwandb\u001b[0m: \thidden_layer_size: 32\n",
      "\u001b[34m\u001b[1mwandb\u001b[0m: \thidden_layers: 3\n",
      "\u001b[34m\u001b[1mwandb\u001b[0m: \tlr: 0.001\n",
      "\u001b[34m\u001b[1mwandb\u001b[0m: \toptimiser: rmsprop\n",
      "\u001b[34m\u001b[1mwandb\u001b[0m: \tweight_decay: 0.5\n",
      "\u001b[34m\u001b[1mwandb\u001b[0m: \tweight_init: xavier\n"
     ]
    },
    {
     "data": {
      "text/html": [
       "\n",
       "                Tracking run with wandb version 0.10.22<br/>\n",
       "                Syncing run <strong style=\"color:#cdcd00\">hello</strong> to <a href=\"https://wandb.ai\" target=\"_blank\">Weights & Biases</a> <a href=\"https://docs.wandb.com/integrations/jupyter.html\" target=\"_blank\">(Documentation)</a>.<br/>\n",
       "                Project page: <a href=\"https://wandb.ai/notarchana/CS6910-A1\" target=\"_blank\">https://wandb.ai/notarchana/CS6910-A1</a><br/>\n",
       "                Sweep page: <a href=\"https://wandb.ai/notarchana/CS6910-A1/sweeps/lzmcss02\" target=\"_blank\">https://wandb.ai/notarchana/CS6910-A1/sweeps/lzmcss02</a><br/>\n",
       "Run page: <a href=\"https://wandb.ai/notarchana/CS6910-A1/runs/zk6t62q2\" target=\"_blank\">https://wandb.ai/notarchana/CS6910-A1/runs/zk6t62q2</a><br/>\n",
       "                Run data is saved locally in <code>/home/krishna/iit/sem6/dl/wandb/run-20210311_154413-zk6t62q2</code><br/><br/>\n",
       "            "
      ],
      "text/plain": [
       "<IPython.core.display.HTML object>"
      ]
     },
     "metadata": {},
     "output_type": "display_data"
    },
    {
     "name": "stderr",
     "output_type": "stream",
     "text": [
      "\u001b[34m\u001b[1mwandb\u001b[0m: \u001b[33mWARNING\u001b[0m Calling run.save without any arguments is deprecated.Changes to attributes are automatically persisted.\n"
     ]
    },
    {
     "name": "stdout",
     "output_type": "stream",
     "text": [
      "model building done\n",
      "Epoch 0 done: Loss = 0.5173720556824293\n",
      "Epoch 1 done: Loss = 0.5284766692215304\n",
      "Epoch 2 done: Loss = 0.5336185466638023\n",
      "Epoch 3 done: Loss = 0.5030657668680881\n",
      "Epoch 4 done: Loss = 0.5112231604482876\n",
      "Epoch 5 done: Loss = 0.5168187537851607\n",
      "Epoch 6 done: Loss = 0.4500111127742182\n",
      "Epoch 7 done: Loss = 0.4991110090148345\n",
      "Epoch 8 done: Loss = 0.5349799016657121\n",
      "Epoch 9 done: Loss = 0.4972625456293973\n",
      "model training done\n"
     ]
    },
    {
     "data": {
      "text/html": [
       "<br/>Waiting for W&B process to finish, PID 62782<br/>Program ended successfully."
      ],
      "text/plain": [
       "<IPython.core.display.HTML object>"
      ]
     },
     "metadata": {},
     "output_type": "display_data"
    },
    {
     "data": {
      "application/vnd.jupyter.widget-view+json": {
       "model_id": "",
       "version_major": 2,
       "version_minor": 0
      },
      "text/plain": [
       "VBox(children=(Label(value=' 0.00MB of 0.00MB uploaded (0.00MB deduped)\\r'), FloatProgress(value=1.0, max=1.0)…"
      ]
     },
     "metadata": {},
     "output_type": "display_data"
    },
    {
     "data": {
      "text/html": [
       "Find user logs for this run at: <code>/home/krishna/iit/sem6/dl/wandb/run-20210311_154413-zk6t62q2/logs/debug.log</code>"
      ],
      "text/plain": [
       "<IPython.core.display.HTML object>"
      ]
     },
     "metadata": {},
     "output_type": "display_data"
    },
    {
     "data": {
      "text/html": [
       "Find internal logs for this run at: <code>/home/krishna/iit/sem6/dl/wandb/run-20210311_154413-zk6t62q2/logs/debug-internal.log</code>"
      ],
      "text/plain": [
       "<IPython.core.display.HTML object>"
      ]
     },
     "metadata": {},
     "output_type": "display_data"
    },
    {
     "data": {
      "text/html": [
       "<h3>Run summary:</h3><br/><style>\n",
       "    table.wandb td:nth-child(1) { padding: 0 10px; text-align: right }\n",
       "    </style><table class=\"wandb\">\n",
       "<tr><td>train accuracy</td><td>0.88779</td></tr><tr><td>validation accuracy</td><td>0.8685</td></tr><tr><td>train loss</td><td>0.49726</td></tr><tr><td>val loss</td><td>0.57519</td></tr><tr><td>_runtime</td><td>25</td></tr><tr><td>_timestamp</td><td>1615457678</td></tr><tr><td>_step</td><td>9</td></tr></table>"
      ],
      "text/plain": [
       "<IPython.core.display.HTML object>"
      ]
     },
     "metadata": {},
     "output_type": "display_data"
    },
    {
     "data": {
      "text/html": [
       "<h3>Run history:</h3><br/><style>\n",
       "    table.wandb td:nth-child(1) { padding: 0 10px; text-align: right }\n",
       "    </style><table class=\"wandb\">\n",
       "<tr><td>train accuracy</td><td>▁▃▃▅▅▅█▇▇█</td></tr><tr><td>validation accuracy</td><td>▁▃▃▅▅▅█▇▆█</td></tr><tr><td>train loss</td><td>▇▇█▅▆▇▁▅█▅</td></tr><tr><td>val loss</td><td>▃▄▅▃▄▅▁▅█▆</td></tr><tr><td>_runtime</td><td>▁▂▃▃▄▅▆▆▇█</td></tr><tr><td>_timestamp</td><td>▁▂▃▃▄▅▆▆▇█</td></tr><tr><td>_step</td><td>▁▂▃▃▄▅▆▆▇█</td></tr></table><br/>"
      ],
      "text/plain": [
       "<IPython.core.display.HTML object>"
      ]
     },
     "metadata": {},
     "output_type": "display_data"
    },
    {
     "data": {
      "text/html": [
       "Synced 5 W&B file(s), 0 media file(s), 0 artifact file(s) and 0 other file(s)"
      ],
      "text/plain": [
       "<IPython.core.display.HTML object>"
      ]
     },
     "metadata": {},
     "output_type": "display_data"
    },
    {
     "data": {
      "text/html": [
       "\n",
       "                    <br/>Synced <strong style=\"color:#cdcd00\">hello</strong>: <a href=\"https://wandb.ai/notarchana/CS6910-A1/runs/zk6t62q2\" target=\"_blank\">https://wandb.ai/notarchana/CS6910-A1/runs/zk6t62q2</a><br/>\n",
       "                "
      ],
      "text/plain": [
       "<IPython.core.display.HTML object>"
      ]
     },
     "metadata": {},
     "output_type": "display_data"
    },
    {
     "name": "stderr",
     "output_type": "stream",
     "text": [
      "\u001b[34m\u001b[1mwandb\u001b[0m: Agent Starting Run: 1r8df8v4 with config:\n",
      "\u001b[34m\u001b[1mwandb\u001b[0m: \tactivation: tanh\n",
      "\u001b[34m\u001b[1mwandb\u001b[0m: \tbatch_size: 32\n",
      "\u001b[34m\u001b[1mwandb\u001b[0m: \tepochs: 10\n",
      "\u001b[34m\u001b[1mwandb\u001b[0m: \thidden_layer_size: 32\n",
      "\u001b[34m\u001b[1mwandb\u001b[0m: \thidden_layers: 5\n",
      "\u001b[34m\u001b[1mwandb\u001b[0m: \tlr: 0.001\n",
      "\u001b[34m\u001b[1mwandb\u001b[0m: \toptimiser: adam\n",
      "\u001b[34m\u001b[1mwandb\u001b[0m: \tweight_decay: 0.5\n",
      "\u001b[34m\u001b[1mwandb\u001b[0m: \tweight_init: xavier\n"
     ]
    },
    {
     "data": {
      "text/html": [
       "\n",
       "                Tracking run with wandb version 0.10.22<br/>\n",
       "                Syncing run <strong style=\"color:#cdcd00\">hello</strong> to <a href=\"https://wandb.ai\" target=\"_blank\">Weights & Biases</a> <a href=\"https://docs.wandb.com/integrations/jupyter.html\" target=\"_blank\">(Documentation)</a>.<br/>\n",
       "                Project page: <a href=\"https://wandb.ai/notarchana/CS6910-A1\" target=\"_blank\">https://wandb.ai/notarchana/CS6910-A1</a><br/>\n",
       "                Sweep page: <a href=\"https://wandb.ai/notarchana/CS6910-A1/sweeps/lzmcss02\" target=\"_blank\">https://wandb.ai/notarchana/CS6910-A1/sweeps/lzmcss02</a><br/>\n",
       "Run page: <a href=\"https://wandb.ai/notarchana/CS6910-A1/runs/1r8df8v4\" target=\"_blank\">https://wandb.ai/notarchana/CS6910-A1/runs/1r8df8v4</a><br/>\n",
       "                Run data is saved locally in <code>/home/krishna/iit/sem6/dl/wandb/run-20210311_154445-1r8df8v4</code><br/><br/>\n",
       "            "
      ],
      "text/plain": [
       "<IPython.core.display.HTML object>"
      ]
     },
     "metadata": {},
     "output_type": "display_data"
    },
    {
     "name": "stderr",
     "output_type": "stream",
     "text": [
      "\u001b[34m\u001b[1mwandb\u001b[0m: \u001b[33mWARNING\u001b[0m Calling run.save without any arguments is deprecated.Changes to attributes are automatically persisted.\n"
     ]
    },
    {
     "name": "stdout",
     "output_type": "stream",
     "text": [
      "model building done\n",
      "Epoch 0 done: Loss = 0.4905755621194035\n",
      "Epoch 1 done: Loss = 0.44473842773107747\n",
      "Epoch 2 done: Loss = 0.42130461899612687\n",
      "Epoch 3 done: Loss = 0.4040211993641525\n",
      "Epoch 4 done: Loss = 0.3906398944326168\n",
      "Epoch 5 done: Loss = 0.3794142743573569\n",
      "Epoch 6 done: Loss = 0.36949606728159795\n",
      "Epoch 7 done: Loss = 0.3603226442149532\n",
      "Epoch 8 done: Loss = 0.35254342111788484\n",
      "Epoch 9 done: Loss = 0.3466590183512554\n",
      "model training done\n"
     ]
    },
    {
     "data": {
      "text/html": [
       "<br/>Waiting for W&B process to finish, PID 62820<br/>Program ended successfully."
      ],
      "text/plain": [
       "<IPython.core.display.HTML object>"
      ]
     },
     "metadata": {},
     "output_type": "display_data"
    },
    {
     "data": {
      "application/vnd.jupyter.widget-view+json": {
       "model_id": "",
       "version_major": 2,
       "version_minor": 0
      },
      "text/plain": [
       "VBox(children=(Label(value=' 0.00MB of 0.00MB uploaded (0.00MB deduped)\\r'), FloatProgress(value=1.0, max=1.0)…"
      ]
     },
     "metadata": {},
     "output_type": "display_data"
    },
    {
     "data": {
      "text/html": [
       "Find user logs for this run at: <code>/home/krishna/iit/sem6/dl/wandb/run-20210311_154445-1r8df8v4/logs/debug.log</code>"
      ],
      "text/plain": [
       "<IPython.core.display.HTML object>"
      ]
     },
     "metadata": {},
     "output_type": "display_data"
    },
    {
     "data": {
      "text/html": [
       "Find internal logs for this run at: <code>/home/krishna/iit/sem6/dl/wandb/run-20210311_154445-1r8df8v4/logs/debug-internal.log</code>"
      ],
      "text/plain": [
       "<IPython.core.display.HTML object>"
      ]
     },
     "metadata": {},
     "output_type": "display_data"
    },
    {
     "data": {
      "text/html": [
       "<h3>Run summary:</h3><br/><style>\n",
       "    table.wandb td:nth-child(1) { padding: 0 10px; text-align: right }\n",
       "    </style><table class=\"wandb\">\n",
       "<tr><td>train accuracy</td><td>0.89263</td></tr><tr><td>validation accuracy</td><td>0.87533</td></tr><tr><td>train loss</td><td>0.34666</td></tr><tr><td>val loss</td><td>0.39082</td></tr><tr><td>_runtime</td><td>33</td></tr><tr><td>_timestamp</td><td>1615457718</td></tr><tr><td>_step</td><td>9</td></tr></table>"
      ],
      "text/plain": [
       "<IPython.core.display.HTML object>"
      ]
     },
     "metadata": {},
     "output_type": "display_data"
    },
    {
     "data": {
      "text/html": [
       "<h3>Run history:</h3><br/><style>\n",
       "    table.wandb td:nth-child(1) { padding: 0 10px; text-align: right }\n",
       "    </style><table class=\"wandb\">\n",
       "<tr><td>train accuracy</td><td>▁▃▄▅▆▇▇▇██</td></tr><tr><td>validation accuracy</td><td>▁▃▅▅▆▇▇███</td></tr><tr><td>train loss</td><td>█▆▅▄▃▃▂▂▁▁</td></tr><tr><td>val loss</td><td>█▅▄▃▃▂▂▁▁▁</td></tr><tr><td>_runtime</td><td>▁▂▃▃▄▅▅▇▇█</td></tr><tr><td>_timestamp</td><td>▁▂▃▃▄▅▅▇▇█</td></tr><tr><td>_step</td><td>▁▂▃▃▄▅▆▆▇█</td></tr></table><br/>"
      ],
      "text/plain": [
       "<IPython.core.display.HTML object>"
      ]
     },
     "metadata": {},
     "output_type": "display_data"
    },
    {
     "data": {
      "text/html": [
       "Synced 5 W&B file(s), 0 media file(s), 0 artifact file(s) and 0 other file(s)"
      ],
      "text/plain": [
       "<IPython.core.display.HTML object>"
      ]
     },
     "metadata": {},
     "output_type": "display_data"
    },
    {
     "data": {
      "text/html": [
       "\n",
       "                    <br/>Synced <strong style=\"color:#cdcd00\">hello</strong>: <a href=\"https://wandb.ai/notarchana/CS6910-A1/runs/1r8df8v4\" target=\"_blank\">https://wandb.ai/notarchana/CS6910-A1/runs/1r8df8v4</a><br/>\n",
       "                "
      ],
      "text/plain": [
       "<IPython.core.display.HTML object>"
      ]
     },
     "metadata": {},
     "output_type": "display_data"
    },
    {
     "name": "stderr",
     "output_type": "stream",
     "text": [
      "\u001b[34m\u001b[1mwandb\u001b[0m: Agent Starting Run: gidorido with config:\n",
      "\u001b[34m\u001b[1mwandb\u001b[0m: \tactivation: sigmoid\n",
      "\u001b[34m\u001b[1mwandb\u001b[0m: \tbatch_size: 32\n",
      "\u001b[34m\u001b[1mwandb\u001b[0m: \tepochs: 10\n",
      "\u001b[34m\u001b[1mwandb\u001b[0m: \thidden_layer_size: 128\n",
      "\u001b[34m\u001b[1mwandb\u001b[0m: \thidden_layers: 4\n",
      "\u001b[34m\u001b[1mwandb\u001b[0m: \tlr: 0.001\n",
      "\u001b[34m\u001b[1mwandb\u001b[0m: \toptimiser: nadam\n",
      "\u001b[34m\u001b[1mwandb\u001b[0m: \tweight_decay: 0.5\n",
      "\u001b[34m\u001b[1mwandb\u001b[0m: \tweight_init: xavier\n"
     ]
    },
    {
     "data": {
      "text/html": [
       "\n",
       "                Tracking run with wandb version 0.10.22<br/>\n",
       "                Syncing run <strong style=\"color:#cdcd00\">hello</strong> to <a href=\"https://wandb.ai\" target=\"_blank\">Weights & Biases</a> <a href=\"https://docs.wandb.com/integrations/jupyter.html\" target=\"_blank\">(Documentation)</a>.<br/>\n",
       "                Project page: <a href=\"https://wandb.ai/notarchana/CS6910-A1\" target=\"_blank\">https://wandb.ai/notarchana/CS6910-A1</a><br/>\n",
       "                Sweep page: <a href=\"https://wandb.ai/notarchana/CS6910-A1/sweeps/lzmcss02\" target=\"_blank\">https://wandb.ai/notarchana/CS6910-A1/sweeps/lzmcss02</a><br/>\n",
       "Run page: <a href=\"https://wandb.ai/notarchana/CS6910-A1/runs/gidorido\" target=\"_blank\">https://wandb.ai/notarchana/CS6910-A1/runs/gidorido</a><br/>\n",
       "                Run data is saved locally in <code>/home/krishna/iit/sem6/dl/wandb/run-20210311_154525-gidorido</code><br/><br/>\n",
       "            "
      ],
      "text/plain": [
       "<IPython.core.display.HTML object>"
      ]
     },
     "metadata": {},
     "output_type": "display_data"
    },
    {
     "name": "stderr",
     "output_type": "stream",
     "text": [
      "\u001b[34m\u001b[1mwandb\u001b[0m: \u001b[33mWARNING\u001b[0m Calling run.save without any arguments is deprecated.Changes to attributes are automatically persisted.\n"
     ]
    },
    {
     "name": "stdout",
     "output_type": "stream",
     "text": [
      "model building done\n",
      "Epoch 0 done: Loss = 0.7363561853163628\n",
      "Epoch 1 done: Loss = 0.5872555233116394\n",
      "Epoch 2 done: Loss = 0.5290722435779865\n",
      "Epoch 3 done: Loss = 0.48805592065809483\n",
      "Epoch 4 done: Loss = 0.45959146315168015\n",
      "Epoch 5 done: Loss = 0.4465274072437417\n",
      "Epoch 6 done: Loss = 0.43713906315736084\n",
      "Epoch 7 done: Loss = 0.4289365572227407\n",
      "Epoch 8 done: Loss = 0.4214432115752738\n",
      "Epoch 9 done: Loss = 0.4145561651753196\n",
      "model training done\n"
     ]
    },
    {
     "data": {
      "text/html": [
       "<br/>Waiting for W&B process to finish, PID 62851<br/>Program ended successfully."
      ],
      "text/plain": [
       "<IPython.core.display.HTML object>"
      ]
     },
     "metadata": {},
     "output_type": "display_data"
    },
    {
     "data": {
      "application/vnd.jupyter.widget-view+json": {
       "model_id": "",
       "version_major": 2,
       "version_minor": 0
      },
      "text/plain": [
       "VBox(children=(Label(value=' 0.00MB of 0.00MB uploaded (0.00MB deduped)\\r'), FloatProgress(value=1.0, max=1.0)…"
      ]
     },
     "metadata": {},
     "output_type": "display_data"
    },
    {
     "data": {
      "text/html": [
       "Find user logs for this run at: <code>/home/krishna/iit/sem6/dl/wandb/run-20210311_154525-gidorido/logs/debug.log</code>"
      ],
      "text/plain": [
       "<IPython.core.display.HTML object>"
      ]
     },
     "metadata": {},
     "output_type": "display_data"
    },
    {
     "data": {
      "text/html": [
       "Find internal logs for this run at: <code>/home/krishna/iit/sem6/dl/wandb/run-20210311_154525-gidorido/logs/debug-internal.log</code>"
      ],
      "text/plain": [
       "<IPython.core.display.HTML object>"
      ]
     },
     "metadata": {},
     "output_type": "display_data"
    },
    {
     "data": {
      "text/html": [
       "<h3>Run summary:</h3><br/><style>\n",
       "    table.wandb td:nth-child(1) { padding: 0 10px; text-align: right }\n",
       "    </style><table class=\"wandb\">\n",
       "<tr><td>train accuracy</td><td>0.87225</td></tr><tr><td>validation accuracy</td><td>0.86058</td></tr><tr><td>train loss</td><td>0.41456</td></tr><tr><td>val loss</td><td>0.43491</td></tr><tr><td>_runtime</td><td>78</td></tr><tr><td>_timestamp</td><td>1615457803</td></tr><tr><td>_step</td><td>9</td></tr></table>"
      ],
      "text/plain": [
       "<IPython.core.display.HTML object>"
      ]
     },
     "metadata": {},
     "output_type": "display_data"
    },
    {
     "data": {
      "text/html": [
       "<h3>Run history:</h3><br/><style>\n",
       "    table.wandb td:nth-child(1) { padding: 0 10px; text-align: right }\n",
       "    </style><table class=\"wandb\">\n",
       "<tr><td>train accuracy</td><td>▁▄▅▆▇▇▇███</td></tr><tr><td>validation accuracy</td><td>▁▅▅▆▇▇████</td></tr><tr><td>train loss</td><td>█▅▃▃▂▂▁▁▁▁</td></tr><tr><td>val loss</td><td>█▅▃▂▂▂▁▁▁▁</td></tr><tr><td>_runtime</td><td>▁▂▃▃▄▅▆▆▇█</td></tr><tr><td>_timestamp</td><td>▁▂▃▃▄▅▆▆▇█</td></tr><tr><td>_step</td><td>▁▂▃▃▄▅▆▆▇█</td></tr></table><br/>"
      ],
      "text/plain": [
       "<IPython.core.display.HTML object>"
      ]
     },
     "metadata": {},
     "output_type": "display_data"
    },
    {
     "data": {
      "text/html": [
       "Synced 5 W&B file(s), 0 media file(s), 0 artifact file(s) and 0 other file(s)"
      ],
      "text/plain": [
       "<IPython.core.display.HTML object>"
      ]
     },
     "metadata": {},
     "output_type": "display_data"
    },
    {
     "data": {
      "text/html": [
       "\n",
       "                    <br/>Synced <strong style=\"color:#cdcd00\">hello</strong>: <a href=\"https://wandb.ai/notarchana/CS6910-A1/runs/gidorido\" target=\"_blank\">https://wandb.ai/notarchana/CS6910-A1/runs/gidorido</a><br/>\n",
       "                "
      ],
      "text/plain": [
       "<IPython.core.display.HTML object>"
      ]
     },
     "metadata": {},
     "output_type": "display_data"
    },
    {
     "name": "stderr",
     "output_type": "stream",
     "text": [
      "\u001b[34m\u001b[1mwandb\u001b[0m: Agent Starting Run: bz48ojbm with config:\n",
      "\u001b[34m\u001b[1mwandb\u001b[0m: \tactivation: tanh\n",
      "\u001b[34m\u001b[1mwandb\u001b[0m: \tbatch_size: 32\n",
      "\u001b[34m\u001b[1mwandb\u001b[0m: \tepochs: 10\n",
      "\u001b[34m\u001b[1mwandb\u001b[0m: \thidden_layer_size: 32\n",
      "\u001b[34m\u001b[1mwandb\u001b[0m: \thidden_layers: 3\n",
      "\u001b[34m\u001b[1mwandb\u001b[0m: \tlr: 0.001\n",
      "\u001b[34m\u001b[1mwandb\u001b[0m: \toptimiser: adam\n",
      "\u001b[34m\u001b[1mwandb\u001b[0m: \tweight_decay: 0.0005\n",
      "\u001b[34m\u001b[1mwandb\u001b[0m: \tweight_init: xavier\n"
     ]
    },
    {
     "data": {
      "text/html": [
       "\n",
       "                Tracking run with wandb version 0.10.22<br/>\n",
       "                Syncing run <strong style=\"color:#cdcd00\">hello</strong> to <a href=\"https://wandb.ai\" target=\"_blank\">Weights & Biases</a> <a href=\"https://docs.wandb.com/integrations/jupyter.html\" target=\"_blank\">(Documentation)</a>.<br/>\n",
       "                Project page: <a href=\"https://wandb.ai/notarchana/CS6910-A1\" target=\"_blank\">https://wandb.ai/notarchana/CS6910-A1</a><br/>\n",
       "                Sweep page: <a href=\"https://wandb.ai/notarchana/CS6910-A1/sweeps/lzmcss02\" target=\"_blank\">https://wandb.ai/notarchana/CS6910-A1/sweeps/lzmcss02</a><br/>\n",
       "Run page: <a href=\"https://wandb.ai/notarchana/CS6910-A1/runs/bz48ojbm\" target=\"_blank\">https://wandb.ai/notarchana/CS6910-A1/runs/bz48ojbm</a><br/>\n",
       "                Run data is saved locally in <code>/home/krishna/iit/sem6/dl/wandb/run-20210311_154650-bz48ojbm</code><br/><br/>\n",
       "            "
      ],
      "text/plain": [
       "<IPython.core.display.HTML object>"
      ]
     },
     "metadata": {},
     "output_type": "display_data"
    },
    {
     "name": "stderr",
     "output_type": "stream",
     "text": [
      "\u001b[34m\u001b[1mwandb\u001b[0m: \u001b[33mWARNING\u001b[0m Calling run.save without any arguments is deprecated.Changes to attributes are automatically persisted.\n"
     ]
    },
    {
     "name": "stdout",
     "output_type": "stream",
     "text": [
      "model building done\n",
      "Epoch 0 done: Loss = 0.473952820092221\n",
      "Epoch 1 done: Loss = 0.4189584423149217\n",
      "Epoch 2 done: Loss = 0.39621995769347307\n",
      "Epoch 3 done: Loss = 0.38191177804163196\n",
      "Epoch 4 done: Loss = 0.3717553998690708\n",
      "Epoch 5 done: Loss = 0.3636883526035421\n",
      "Epoch 6 done: Loss = 0.35652244192380855\n",
      "Epoch 7 done: Loss = 0.35005930921495004\n",
      "Epoch 8 done: Loss = 0.34442521417494487\n",
      "Epoch 9 done: Loss = 0.3396037682994014\n",
      "model training done\n"
     ]
    },
    {
     "data": {
      "text/html": [
       "<br/>Waiting for W&B process to finish, PID 62907<br/>Program ended successfully."
      ],
      "text/plain": [
       "<IPython.core.display.HTML object>"
      ]
     },
     "metadata": {},
     "output_type": "display_data"
    },
    {
     "data": {
      "application/vnd.jupyter.widget-view+json": {
       "model_id": "",
       "version_major": 2,
       "version_minor": 0
      },
      "text/plain": [
       "VBox(children=(Label(value=' 0.00MB of 0.00MB uploaded (0.00MB deduped)\\r'), FloatProgress(value=1.0, max=1.0)…"
      ]
     },
     "metadata": {},
     "output_type": "display_data"
    },
    {
     "data": {
      "text/html": [
       "Find user logs for this run at: <code>/home/krishna/iit/sem6/dl/wandb/run-20210311_154650-bz48ojbm/logs/debug.log</code>"
      ],
      "text/plain": [
       "<IPython.core.display.HTML object>"
      ]
     },
     "metadata": {},
     "output_type": "display_data"
    },
    {
     "data": {
      "text/html": [
       "Find internal logs for this run at: <code>/home/krishna/iit/sem6/dl/wandb/run-20210311_154650-bz48ojbm/logs/debug-internal.log</code>"
      ],
      "text/plain": [
       "<IPython.core.display.HTML object>"
      ]
     },
     "metadata": {},
     "output_type": "display_data"
    },
    {
     "data": {
      "text/html": [
       "<h3>Run summary:</h3><br/><style>\n",
       "    table.wandb td:nth-child(1) { padding: 0 10px; text-align: right }\n",
       "    </style><table class=\"wandb\">\n",
       "<tr><td>train accuracy</td><td>0.8879</td></tr><tr><td>validation accuracy</td><td>0.87333</td></tr><tr><td>train loss</td><td>0.3396</td></tr><tr><td>val loss</td><td>0.37349</td></tr><tr><td>_runtime</td><td>26</td></tr><tr><td>_timestamp</td><td>1615457836</td></tr><tr><td>_step</td><td>9</td></tr></table>"
      ],
      "text/plain": [
       "<IPython.core.display.HTML object>"
      ]
     },
     "metadata": {},
     "output_type": "display_data"
    },
    {
     "data": {
      "text/html": [
       "<h3>Run history:</h3><br/><style>\n",
       "    table.wandb td:nth-child(1) { padding: 0 10px; text-align: right }\n",
       "    </style><table class=\"wandb\">\n",
       "<tr><td>train accuracy</td><td>▁▄▅▆▆▇▇▇██</td></tr><tr><td>validation accuracy</td><td>▁▄▅▆▇▇▇███</td></tr><tr><td>train loss</td><td>█▅▄▃▃▂▂▂▁▁</td></tr><tr><td>val loss</td><td>█▅▄▃▂▂▂▁▁▁</td></tr><tr><td>_runtime</td><td>▁▂▂▃▄▅▆▆▇█</td></tr><tr><td>_timestamp</td><td>▁▂▂▃▄▅▆▆▇█</td></tr><tr><td>_step</td><td>▁▂▃▃▄▅▆▆▇█</td></tr></table><br/>"
      ],
      "text/plain": [
       "<IPython.core.display.HTML object>"
      ]
     },
     "metadata": {},
     "output_type": "display_data"
    },
    {
     "data": {
      "text/html": [
       "Synced 5 W&B file(s), 0 media file(s), 0 artifact file(s) and 0 other file(s)"
      ],
      "text/plain": [
       "<IPython.core.display.HTML object>"
      ]
     },
     "metadata": {},
     "output_type": "display_data"
    },
    {
     "data": {
      "text/html": [
       "\n",
       "                    <br/>Synced <strong style=\"color:#cdcd00\">hello</strong>: <a href=\"https://wandb.ai/notarchana/CS6910-A1/runs/bz48ojbm\" target=\"_blank\">https://wandb.ai/notarchana/CS6910-A1/runs/bz48ojbm</a><br/>\n",
       "                "
      ],
      "text/plain": [
       "<IPython.core.display.HTML object>"
      ]
     },
     "metadata": {},
     "output_type": "display_data"
    },
    {
     "name": "stderr",
     "output_type": "stream",
     "text": [
      "\u001b[34m\u001b[1mwandb\u001b[0m: Agent Starting Run: k3iqwmx5 with config:\n",
      "\u001b[34m\u001b[1mwandb\u001b[0m: \tactivation: sigmoid\n",
      "\u001b[34m\u001b[1mwandb\u001b[0m: \tbatch_size: 64\n",
      "\u001b[34m\u001b[1mwandb\u001b[0m: \tepochs: 10\n",
      "\u001b[34m\u001b[1mwandb\u001b[0m: \thidden_layer_size: 32\n",
      "\u001b[34m\u001b[1mwandb\u001b[0m: \thidden_layers: 4\n",
      "\u001b[34m\u001b[1mwandb\u001b[0m: \tlr: 0.001\n",
      "\u001b[34m\u001b[1mwandb\u001b[0m: \toptimiser: nadam\n",
      "\u001b[34m\u001b[1mwandb\u001b[0m: \tweight_decay: 0.0005\n",
      "\u001b[34m\u001b[1mwandb\u001b[0m: \tweight_init: xavier\n"
     ]
    },
    {
     "data": {
      "text/html": [
       "\n",
       "                Tracking run with wandb version 0.10.22<br/>\n",
       "                Syncing run <strong style=\"color:#cdcd00\">hello</strong> to <a href=\"https://wandb.ai\" target=\"_blank\">Weights & Biases</a> <a href=\"https://docs.wandb.com/integrations/jupyter.html\" target=\"_blank\">(Documentation)</a>.<br/>\n",
       "                Project page: <a href=\"https://wandb.ai/notarchana/CS6910-A1\" target=\"_blank\">https://wandb.ai/notarchana/CS6910-A1</a><br/>\n",
       "                Sweep page: <a href=\"https://wandb.ai/notarchana/CS6910-A1/sweeps/lzmcss02\" target=\"_blank\">https://wandb.ai/notarchana/CS6910-A1/sweeps/lzmcss02</a><br/>\n",
       "Run page: <a href=\"https://wandb.ai/notarchana/CS6910-A1/runs/k3iqwmx5\" target=\"_blank\">https://wandb.ai/notarchana/CS6910-A1/runs/k3iqwmx5</a><br/>\n",
       "                Run data is saved locally in <code>/home/krishna/iit/sem6/dl/wandb/run-20210311_154723-k3iqwmx5</code><br/><br/>\n",
       "            "
      ],
      "text/plain": [
       "<IPython.core.display.HTML object>"
      ]
     },
     "metadata": {},
     "output_type": "display_data"
    },
    {
     "name": "stderr",
     "output_type": "stream",
     "text": [
      "\u001b[34m\u001b[1mwandb\u001b[0m: \u001b[33mWARNING\u001b[0m Calling run.save without any arguments is deprecated.Changes to attributes are automatically persisted.\n"
     ]
    },
    {
     "name": "stdout",
     "output_type": "stream",
     "text": [
      "model building done\n",
      "Epoch 0 done: Loss = 2.0253887953898064\n",
      "Epoch 1 done: Loss = 1.7033256766020501\n",
      "Epoch 2 done: Loss = 1.6663424537060163\n",
      "Epoch 3 done: Loss = 1.5573589488560453\n",
      "Epoch 4 done: Loss = 1.3274997696289184\n",
      "Epoch 5 done: Loss = 1.174529254749029\n",
      "Epoch 6 done: Loss = 1.0561405288545123\n",
      "Epoch 7 done: Loss = 0.9722887918622103\n",
      "Epoch 8 done: Loss = 0.9023638081330699\n",
      "Epoch 9 done: Loss = 0.8399817036205435\n",
      "model training done\n"
     ]
    },
    {
     "data": {
      "text/html": [
       "<br/>Waiting for W&B process to finish, PID 62938<br/>Program ended successfully."
      ],
      "text/plain": [
       "<IPython.core.display.HTML object>"
      ]
     },
     "metadata": {},
     "output_type": "display_data"
    },
    {
     "data": {
      "application/vnd.jupyter.widget-view+json": {
       "model_id": "",
       "version_major": 2,
       "version_minor": 0
      },
      "text/plain": [
       "VBox(children=(Label(value=' 0.00MB of 0.00MB uploaded (0.00MB deduped)\\r'), FloatProgress(value=1.0, max=1.0)…"
      ]
     },
     "metadata": {},
     "output_type": "display_data"
    },
    {
     "data": {
      "text/html": [
       "Find user logs for this run at: <code>/home/krishna/iit/sem6/dl/wandb/run-20210311_154723-k3iqwmx5/logs/debug.log</code>"
      ],
      "text/plain": [
       "<IPython.core.display.HTML object>"
      ]
     },
     "metadata": {},
     "output_type": "display_data"
    },
    {
     "data": {
      "text/html": [
       "Find internal logs for this run at: <code>/home/krishna/iit/sem6/dl/wandb/run-20210311_154723-k3iqwmx5/logs/debug-internal.log</code>"
      ],
      "text/plain": [
       "<IPython.core.display.HTML object>"
      ]
     },
     "metadata": {},
     "output_type": "display_data"
    },
    {
     "data": {
      "text/html": [
       "<h3>Run summary:</h3><br/><style>\n",
       "    table.wandb td:nth-child(1) { padding: 0 10px; text-align: right }\n",
       "    </style><table class=\"wandb\">\n",
       "<tr><td>train accuracy</td><td>0.7189</td></tr><tr><td>validation accuracy</td><td>0.71108</td></tr><tr><td>train loss</td><td>0.83998</td></tr><tr><td>val loss</td><td>0.84622</td></tr><tr><td>_runtime</td><td>18</td></tr><tr><td>_timestamp</td><td>1615457861</td></tr><tr><td>_step</td><td>9</td></tr></table>"
      ],
      "text/plain": [
       "<IPython.core.display.HTML object>"
      ]
     },
     "metadata": {},
     "output_type": "display_data"
    },
    {
     "data": {
      "text/html": [
       "<h3>Run history:</h3><br/><style>\n",
       "    table.wandb td:nth-child(1) { padding: 0 10px; text-align: right }\n",
       "    </style><table class=\"wandb\">\n",
       "<tr><td>train accuracy</td><td>▁▁▂▃▅▆▆▇██</td></tr><tr><td>validation accuracy</td><td>▁▁▂▃▄▆▆▇██</td></tr><tr><td>train loss</td><td>█▆▆▅▄▃▂▂▁▁</td></tr><tr><td>val loss</td><td>█▆▆▅▄▃▂▂▁▁</td></tr><tr><td>_runtime</td><td>▁▁▃▃▄▅▅▇▇█</td></tr><tr><td>_timestamp</td><td>▁▁▃▃▄▅▅▇▇█</td></tr><tr><td>_step</td><td>▁▂▃▃▄▅▆▆▇█</td></tr></table><br/>"
      ],
      "text/plain": [
       "<IPython.core.display.HTML object>"
      ]
     },
     "metadata": {},
     "output_type": "display_data"
    },
    {
     "data": {
      "text/html": [
       "Synced 5 W&B file(s), 0 media file(s), 0 artifact file(s) and 0 other file(s)"
      ],
      "text/plain": [
       "<IPython.core.display.HTML object>"
      ]
     },
     "metadata": {},
     "output_type": "display_data"
    },
    {
     "data": {
      "text/html": [
       "\n",
       "                    <br/>Synced <strong style=\"color:#cdcd00\">hello</strong>: <a href=\"https://wandb.ai/notarchana/CS6910-A1/runs/k3iqwmx5\" target=\"_blank\">https://wandb.ai/notarchana/CS6910-A1/runs/k3iqwmx5</a><br/>\n",
       "                "
      ],
      "text/plain": [
       "<IPython.core.display.HTML object>"
      ]
     },
     "metadata": {},
     "output_type": "display_data"
    },
    {
     "name": "stderr",
     "output_type": "stream",
     "text": [
      "\u001b[34m\u001b[1mwandb\u001b[0m: Agent Starting Run: j6r03pmo with config:\n",
      "\u001b[34m\u001b[1mwandb\u001b[0m: \tactivation: tanh\n",
      "\u001b[34m\u001b[1mwandb\u001b[0m: \tbatch_size: 32\n",
      "\u001b[34m\u001b[1mwandb\u001b[0m: \tepochs: 10\n",
      "\u001b[34m\u001b[1mwandb\u001b[0m: \thidden_layer_size: 32\n",
      "\u001b[34m\u001b[1mwandb\u001b[0m: \thidden_layers: 4\n",
      "\u001b[34m\u001b[1mwandb\u001b[0m: \tlr: 0.001\n",
      "\u001b[34m\u001b[1mwandb\u001b[0m: \toptimiser: nesterov\n",
      "\u001b[34m\u001b[1mwandb\u001b[0m: \tweight_decay: 0\n",
      "\u001b[34m\u001b[1mwandb\u001b[0m: \tweight_init: xavier\n"
     ]
    },
    {
     "data": {
      "text/html": [
       "\n",
       "                Tracking run with wandb version 0.10.22<br/>\n",
       "                Syncing run <strong style=\"color:#cdcd00\">hello</strong> to <a href=\"https://wandb.ai\" target=\"_blank\">Weights & Biases</a> <a href=\"https://docs.wandb.com/integrations/jupyter.html\" target=\"_blank\">(Documentation)</a>.<br/>\n",
       "                Project page: <a href=\"https://wandb.ai/notarchana/CS6910-A1\" target=\"_blank\">https://wandb.ai/notarchana/CS6910-A1</a><br/>\n",
       "                Sweep page: <a href=\"https://wandb.ai/notarchana/CS6910-A1/sweeps/lzmcss02\" target=\"_blank\">https://wandb.ai/notarchana/CS6910-A1/sweeps/lzmcss02</a><br/>\n",
       "Run page: <a href=\"https://wandb.ai/notarchana/CS6910-A1/runs/j6r03pmo\" target=\"_blank\">https://wandb.ai/notarchana/CS6910-A1/runs/j6r03pmo</a><br/>\n",
       "                Run data is saved locally in <code>/home/krishna/iit/sem6/dl/wandb/run-20210311_154748-j6r03pmo</code><br/><br/>\n",
       "            "
      ],
      "text/plain": [
       "<IPython.core.display.HTML object>"
      ]
     },
     "metadata": {},
     "output_type": "display_data"
    },
    {
     "name": "stderr",
     "output_type": "stream",
     "text": [
      "\u001b[34m\u001b[1mwandb\u001b[0m: \u001b[33mWARNING\u001b[0m Calling run.save without any arguments is deprecated.Changes to attributes are automatically persisted.\n"
     ]
    },
    {
     "name": "stdout",
     "output_type": "stream",
     "text": [
      "model building done\n",
      "Epoch 0 done: Loss = 1.155626419847055\n",
      "Epoch 1 done: Loss = 0.7742641979177152\n",
      "Epoch 2 done: Loss = 0.6612347795335791\n",
      "Epoch 3 done: Loss = 0.5983342445989177\n",
      "Epoch 4 done: Loss = 0.5599903812233827\n",
      "Epoch 5 done: Loss = 0.536246399069062\n",
      "Epoch 6 done: Loss = 0.5190003379175737\n",
      "Epoch 7 done: Loss = 0.5047106246152503\n",
      "Epoch 8 done: Loss = 0.4919563100117018\n",
      "Epoch 9 done: Loss = 0.48030044724738974\n",
      "model training done\n"
     ]
    },
    {
     "data": {
      "text/html": [
       "<br/>Waiting for W&B process to finish, PID 62966<br/>Program ended successfully."
      ],
      "text/plain": [
       "<IPython.core.display.HTML object>"
      ]
     },
     "metadata": {},
     "output_type": "display_data"
    },
    {
     "data": {
      "application/vnd.jupyter.widget-view+json": {
       "model_id": "",
       "version_major": 2,
       "version_minor": 0
      },
      "text/plain": [
       "VBox(children=(Label(value=' 0.00MB of 0.00MB uploaded (0.00MB deduped)\\r'), FloatProgress(value=1.0, max=1.0)…"
      ]
     },
     "metadata": {},
     "output_type": "display_data"
    },
    {
     "data": {
      "text/html": [
       "Find user logs for this run at: <code>/home/krishna/iit/sem6/dl/wandb/run-20210311_154748-j6r03pmo/logs/debug.log</code>"
      ],
      "text/plain": [
       "<IPython.core.display.HTML object>"
      ]
     },
     "metadata": {},
     "output_type": "display_data"
    },
    {
     "data": {
      "text/html": [
       "Find internal logs for this run at: <code>/home/krishna/iit/sem6/dl/wandb/run-20210311_154748-j6r03pmo/logs/debug-internal.log</code>"
      ],
      "text/plain": [
       "<IPython.core.display.HTML object>"
      ]
     },
     "metadata": {},
     "output_type": "display_data"
    },
    {
     "data": {
      "text/html": [
       "<h3>Run summary:</h3><br/><style>\n",
       "    table.wandb td:nth-child(1) { padding: 0 10px; text-align: right }\n",
       "    </style><table class=\"wandb\">\n",
       "<tr><td>train accuracy</td><td>0.84642</td></tr><tr><td>validation accuracy</td><td>0.83783</td></tr><tr><td>train loss</td><td>0.4803</td></tr><tr><td>val loss</td><td>0.49388</td></tr><tr><td>_runtime</td><td>24</td></tr><tr><td>_timestamp</td><td>1615457892</td></tr><tr><td>_step</td><td>9</td></tr></table>"
      ],
      "text/plain": [
       "<IPython.core.display.HTML object>"
      ]
     },
     "metadata": {},
     "output_type": "display_data"
    },
    {
     "data": {
      "text/html": [
       "<h3>Run history:</h3><br/><style>\n",
       "    table.wandb td:nth-child(1) { padding: 0 10px; text-align: right }\n",
       "    </style><table class=\"wandb\">\n",
       "<tr><td>train accuracy</td><td>▁▅▆▇▇▇████</td></tr><tr><td>validation accuracy</td><td>▁▅▆▇▇▇████</td></tr><tr><td>train loss</td><td>█▄▃▂▂▂▁▁▁▁</td></tr><tr><td>val loss</td><td>█▄▃▂▂▂▁▁▁▁</td></tr><tr><td>_runtime</td><td>▁▂▃▃▄▅▆▇▇█</td></tr><tr><td>_timestamp</td><td>▁▂▃▃▄▅▆▇▇█</td></tr><tr><td>_step</td><td>▁▂▃▃▄▅▆▆▇█</td></tr></table><br/>"
      ],
      "text/plain": [
       "<IPython.core.display.HTML object>"
      ]
     },
     "metadata": {},
     "output_type": "display_data"
    },
    {
     "data": {
      "text/html": [
       "Synced 5 W&B file(s), 0 media file(s), 0 artifact file(s) and 0 other file(s)"
      ],
      "text/plain": [
       "<IPython.core.display.HTML object>"
      ]
     },
     "metadata": {},
     "output_type": "display_data"
    },
    {
     "data": {
      "text/html": [
       "\n",
       "                    <br/>Synced <strong style=\"color:#cdcd00\">hello</strong>: <a href=\"https://wandb.ai/notarchana/CS6910-A1/runs/j6r03pmo\" target=\"_blank\">https://wandb.ai/notarchana/CS6910-A1/runs/j6r03pmo</a><br/>\n",
       "                "
      ],
      "text/plain": [
       "<IPython.core.display.HTML object>"
      ]
     },
     "metadata": {},
     "output_type": "display_data"
    },
    {
     "name": "stderr",
     "output_type": "stream",
     "text": [
      "\u001b[34m\u001b[1mwandb\u001b[0m: Agent Starting Run: g8myhsz5 with config:\n",
      "\u001b[34m\u001b[1mwandb\u001b[0m: \tactivation: relu\n",
      "\u001b[34m\u001b[1mwandb\u001b[0m: \tbatch_size: 32\n",
      "\u001b[34m\u001b[1mwandb\u001b[0m: \tepochs: 10\n",
      "\u001b[34m\u001b[1mwandb\u001b[0m: \thidden_layer_size: 32\n",
      "\u001b[34m\u001b[1mwandb\u001b[0m: \thidden_layers: 4\n",
      "\u001b[34m\u001b[1mwandb\u001b[0m: \tlr: 0.001\n",
      "\u001b[34m\u001b[1mwandb\u001b[0m: \toptimiser: momentum\n",
      "\u001b[34m\u001b[1mwandb\u001b[0m: \tweight_decay: 0.0005\n",
      "\u001b[34m\u001b[1mwandb\u001b[0m: \tweight_init: xavier\n"
     ]
    },
    {
     "data": {
      "text/html": [
       "\n",
       "                Tracking run with wandb version 0.10.22<br/>\n",
       "                Syncing run <strong style=\"color:#cdcd00\">hello</strong> to <a href=\"https://wandb.ai\" target=\"_blank\">Weights & Biases</a> <a href=\"https://docs.wandb.com/integrations/jupyter.html\" target=\"_blank\">(Documentation)</a>.<br/>\n",
       "                Project page: <a href=\"https://wandb.ai/notarchana/CS6910-A1\" target=\"_blank\">https://wandb.ai/notarchana/CS6910-A1</a><br/>\n",
       "                Sweep page: <a href=\"https://wandb.ai/notarchana/CS6910-A1/sweeps/lzmcss02\" target=\"_blank\">https://wandb.ai/notarchana/CS6910-A1/sweeps/lzmcss02</a><br/>\n",
       "Run page: <a href=\"https://wandb.ai/notarchana/CS6910-A1/runs/g8myhsz5\" target=\"_blank\">https://wandb.ai/notarchana/CS6910-A1/runs/g8myhsz5</a><br/>\n",
       "                Run data is saved locally in <code>/home/krishna/iit/sem6/dl/wandb/run-20210311_154819-g8myhsz5</code><br/><br/>\n",
       "            "
      ],
      "text/plain": [
       "<IPython.core.display.HTML object>"
      ]
     },
     "metadata": {},
     "output_type": "display_data"
    },
    {
     "name": "stderr",
     "output_type": "stream",
     "text": [
      "\u001b[34m\u001b[1mwandb\u001b[0m: \u001b[33mWARNING\u001b[0m Calling run.save without any arguments is deprecated.Changes to attributes are automatically persisted.\n"
     ]
    },
    {
     "name": "stdout",
     "output_type": "stream",
     "text": [
      "model building done\n",
      "Epoch 0 done: Loss = 0.6728521711908854\n",
      "Epoch 1 done: Loss = 0.47975285134057605\n",
      "Epoch 2 done: Loss = 0.43144645823541383\n",
      "Epoch 3 done: Loss = 0.40159351352712525\n",
      "Epoch 4 done: Loss = 0.391720929802949\n",
      "Epoch 5 done: Loss = 0.3621929152403192\n",
      "Epoch 6 done: Loss = 0.3555820792755312\n",
      "Epoch 7 done: Loss = 0.3618967778853533\n",
      "Epoch 8 done: Loss = 0.33463497062669983\n",
      "Epoch 9 done: Loss = 0.36783400847842523\n",
      "model training done\n"
     ]
    },
    {
     "data": {
      "text/html": [
       "<br/>Waiting for W&B process to finish, PID 62999<br/>Program ended successfully."
      ],
      "text/plain": [
       "<IPython.core.display.HTML object>"
      ]
     },
     "metadata": {},
     "output_type": "display_data"
    },
    {
     "data": {
      "application/vnd.jupyter.widget-view+json": {
       "model_id": "",
       "version_major": 2,
       "version_minor": 0
      },
      "text/plain": [
       "VBox(children=(Label(value=' 0.00MB of 0.00MB uploaded (0.00MB deduped)\\r'), FloatProgress(value=1.0, max=1.0)…"
      ]
     },
     "metadata": {},
     "output_type": "display_data"
    },
    {
     "data": {
      "text/html": [
       "Find user logs for this run at: <code>/home/krishna/iit/sem6/dl/wandb/run-20210311_154819-g8myhsz5/logs/debug.log</code>"
      ],
      "text/plain": [
       "<IPython.core.display.HTML object>"
      ]
     },
     "metadata": {},
     "output_type": "display_data"
    },
    {
     "data": {
      "text/html": [
       "Find internal logs for this run at: <code>/home/krishna/iit/sem6/dl/wandb/run-20210311_154819-g8myhsz5/logs/debug-internal.log</code>"
      ],
      "text/plain": [
       "<IPython.core.display.HTML object>"
      ]
     },
     "metadata": {},
     "output_type": "display_data"
    },
    {
     "data": {
      "text/html": [
       "<h3>Run summary:</h3><br/><style>\n",
       "    table.wandb td:nth-child(1) { padding: 0 10px; text-align: right }\n",
       "    </style><table class=\"wandb\">\n",
       "<tr><td>train accuracy</td><td>0.88394</td></tr><tr><td>validation accuracy</td><td>0.8695</td></tr><tr><td>train loss</td><td>0.36783</td></tr><tr><td>val loss</td><td>0.40957</td></tr><tr><td>_runtime</td><td>15</td></tr><tr><td>_timestamp</td><td>1615457914</td></tr><tr><td>_step</td><td>9</td></tr></table>"
      ],
      "text/plain": [
       "<IPython.core.display.HTML object>"
      ]
     },
     "metadata": {},
     "output_type": "display_data"
    },
    {
     "data": {
      "text/html": [
       "<h3>Run history:</h3><br/><style>\n",
       "    table.wandb td:nth-child(1) { padding: 0 10px; text-align: right }\n",
       "    </style><table class=\"wandb\">\n",
       "<tr><td>train accuracy</td><td>▁▅▆▇▇▇████</td></tr><tr><td>validation accuracy</td><td>▁▅▆▇▇█████</td></tr><tr><td>train loss</td><td>█▄▃▂▂▂▁▂▁▂</td></tr><tr><td>val loss</td><td>█▄▃▂▂▁▁▂▁▂</td></tr><tr><td>_runtime</td><td>▁▂▃▃▄▅▆▆▇█</td></tr><tr><td>_timestamp</td><td>▁▂▃▃▄▅▆▆▇█</td></tr><tr><td>_step</td><td>▁▂▃▃▄▅▆▆▇█</td></tr></table><br/>"
      ],
      "text/plain": [
       "<IPython.core.display.HTML object>"
      ]
     },
     "metadata": {},
     "output_type": "display_data"
    },
    {
     "data": {
      "text/html": [
       "Synced 5 W&B file(s), 0 media file(s), 0 artifact file(s) and 0 other file(s)"
      ],
      "text/plain": [
       "<IPython.core.display.HTML object>"
      ]
     },
     "metadata": {},
     "output_type": "display_data"
    },
    {
     "data": {
      "text/html": [
       "\n",
       "                    <br/>Synced <strong style=\"color:#cdcd00\">hello</strong>: <a href=\"https://wandb.ai/notarchana/CS6910-A1/runs/g8myhsz5\" target=\"_blank\">https://wandb.ai/notarchana/CS6910-A1/runs/g8myhsz5</a><br/>\n",
       "                "
      ],
      "text/plain": [
       "<IPython.core.display.HTML object>"
      ]
     },
     "metadata": {},
     "output_type": "display_data"
    },
    {
     "name": "stderr",
     "output_type": "stream",
     "text": [
      "\u001b[34m\u001b[1mwandb\u001b[0m: Agent Starting Run: ngstejr8 with config:\n",
      "\u001b[34m\u001b[1mwandb\u001b[0m: \tactivation: sigmoid\n",
      "\u001b[34m\u001b[1mwandb\u001b[0m: \tbatch_size: 32\n",
      "\u001b[34m\u001b[1mwandb\u001b[0m: \tepochs: 10\n",
      "\u001b[34m\u001b[1mwandb\u001b[0m: \thidden_layer_size: 128\n",
      "\u001b[34m\u001b[1mwandb\u001b[0m: \thidden_layers: 3\n",
      "\u001b[34m\u001b[1mwandb\u001b[0m: \tlr: 0.001\n",
      "\u001b[34m\u001b[1mwandb\u001b[0m: \toptimiser: nadam\n",
      "\u001b[34m\u001b[1mwandb\u001b[0m: \tweight_decay: 0\n",
      "\u001b[34m\u001b[1mwandb\u001b[0m: \tweight_init: xavier\n"
     ]
    },
    {
     "data": {
      "text/html": [
       "\n",
       "                Tracking run with wandb version 0.10.22<br/>\n",
       "                Syncing run <strong style=\"color:#cdcd00\">hello</strong> to <a href=\"https://wandb.ai\" target=\"_blank\">Weights & Biases</a> <a href=\"https://docs.wandb.com/integrations/jupyter.html\" target=\"_blank\">(Documentation)</a>.<br/>\n",
       "                Project page: <a href=\"https://wandb.ai/notarchana/CS6910-A1\" target=\"_blank\">https://wandb.ai/notarchana/CS6910-A1</a><br/>\n",
       "                Sweep page: <a href=\"https://wandb.ai/notarchana/CS6910-A1/sweeps/lzmcss02\" target=\"_blank\">https://wandb.ai/notarchana/CS6910-A1/sweeps/lzmcss02</a><br/>\n",
       "Run page: <a href=\"https://wandb.ai/notarchana/CS6910-A1/runs/ngstejr8\" target=\"_blank\">https://wandb.ai/notarchana/CS6910-A1/runs/ngstejr8</a><br/>\n",
       "                Run data is saved locally in <code>/home/krishna/iit/sem6/dl/wandb/run-20210311_154841-ngstejr8</code><br/><br/>\n",
       "            "
      ],
      "text/plain": [
       "<IPython.core.display.HTML object>"
      ]
     },
     "metadata": {},
     "output_type": "display_data"
    },
    {
     "name": "stderr",
     "output_type": "stream",
     "text": [
      "\u001b[34m\u001b[1mwandb\u001b[0m: \u001b[33mWARNING\u001b[0m Calling run.save without any arguments is deprecated.Changes to attributes are automatically persisted.\n"
     ]
    },
    {
     "name": "stdout",
     "output_type": "stream",
     "text": [
      "model building done\n",
      "Epoch 0 done: Loss = 0.5412882412028389\n",
      "Epoch 1 done: Loss = 0.4645337591228868\n",
      "Epoch 2 done: Loss = 0.44097033793335866\n",
      "Epoch 3 done: Loss = 0.4267189755102015\n",
      "Epoch 4 done: Loss = 0.4159754364992006\n",
      "Epoch 5 done: Loss = 0.4071753407755627\n",
      "Epoch 6 done: Loss = 0.39962475754137466\n",
      "Epoch 7 done: Loss = 0.39293453791041133\n",
      "Epoch 8 done: Loss = 0.3868527860242976\n",
      "Epoch 9 done: Loss = 0.3812110710351257\n",
      "model training done\n"
     ]
    },
    {
     "data": {
      "text/html": [
       "<br/>Waiting for W&B process to finish, PID 63027<br/>Program ended successfully."
      ],
      "text/plain": [
       "<IPython.core.display.HTML object>"
      ]
     },
     "metadata": {},
     "output_type": "display_data"
    },
    {
     "data": {
      "application/vnd.jupyter.widget-view+json": {
       "model_id": "",
       "version_major": 2,
       "version_minor": 0
      },
      "text/plain": [
       "VBox(children=(Label(value=' 0.00MB of 0.00MB uploaded (0.00MB deduped)\\r'), FloatProgress(value=1.0, max=1.0)…"
      ]
     },
     "metadata": {},
     "output_type": "display_data"
    },
    {
     "data": {
      "text/html": [
       "Find user logs for this run at: <code>/home/krishna/iit/sem6/dl/wandb/run-20210311_154841-ngstejr8/logs/debug.log</code>"
      ],
      "text/plain": [
       "<IPython.core.display.HTML object>"
      ]
     },
     "metadata": {},
     "output_type": "display_data"
    },
    {
     "data": {
      "text/html": [
       "Find internal logs for this run at: <code>/home/krishna/iit/sem6/dl/wandb/run-20210311_154841-ngstejr8/logs/debug-internal.log</code>"
      ],
      "text/plain": [
       "<IPython.core.display.HTML object>"
      ]
     },
     "metadata": {},
     "output_type": "display_data"
    },
    {
     "data": {
      "text/html": [
       "<h3>Run summary:</h3><br/><style>\n",
       "    table.wandb td:nth-child(1) { padding: 0 10px; text-align: right }\n",
       "    </style><table class=\"wandb\">\n",
       "<tr><td>train accuracy</td><td>0.87896</td></tr><tr><td>validation accuracy</td><td>0.86575</td></tr><tr><td>train loss</td><td>0.38121</td></tr><tr><td>val loss</td><td>0.40059</td></tr><tr><td>_runtime</td><td>68</td></tr><tr><td>_timestamp</td><td>1615457989</td></tr><tr><td>_step</td><td>9</td></tr></table>"
      ],
      "text/plain": [
       "<IPython.core.display.HTML object>"
      ]
     },
     "metadata": {},
     "output_type": "display_data"
    },
    {
     "data": {
      "text/html": [
       "<h3>Run history:</h3><br/><style>\n",
       "    table.wandb td:nth-child(1) { padding: 0 10px; text-align: right }\n",
       "    </style><table class=\"wandb\">\n",
       "<tr><td>train accuracy</td><td>▁▄▅▅▆▇▇▇██</td></tr><tr><td>validation accuracy</td><td>▁▄▅▆▇▇▇▇██</td></tr><tr><td>train loss</td><td>█▅▄▃▃▂▂▂▁▁</td></tr><tr><td>val loss</td><td>█▄▃▃▂▂▂▁▁▁</td></tr><tr><td>_runtime</td><td>▁▂▃▃▄▅▆▆▇█</td></tr><tr><td>_timestamp</td><td>▁▂▃▃▄▅▆▆▇█</td></tr><tr><td>_step</td><td>▁▂▃▃▄▅▆▆▇█</td></tr></table><br/>"
      ],
      "text/plain": [
       "<IPython.core.display.HTML object>"
      ]
     },
     "metadata": {},
     "output_type": "display_data"
    },
    {
     "data": {
      "text/html": [
       "Synced 5 W&B file(s), 0 media file(s), 0 artifact file(s) and 0 other file(s)"
      ],
      "text/plain": [
       "<IPython.core.display.HTML object>"
      ]
     },
     "metadata": {},
     "output_type": "display_data"
    },
    {
     "data": {
      "text/html": [
       "\n",
       "                    <br/>Synced <strong style=\"color:#cdcd00\">hello</strong>: <a href=\"https://wandb.ai/notarchana/CS6910-A1/runs/ngstejr8\" target=\"_blank\">https://wandb.ai/notarchana/CS6910-A1/runs/ngstejr8</a><br/>\n",
       "                "
      ],
      "text/plain": [
       "<IPython.core.display.HTML object>"
      ]
     },
     "metadata": {},
     "output_type": "display_data"
    }
   ],
   "source": [
    "wandb.agent(sweep_id, train,count=100)"
   ]
  },
  {
   "cell_type": "code",
   "execution_count": null,
   "metadata": {},
   "outputs": [],
   "source": []
  }
 ],
 "metadata": {
  "kernelspec": {
   "display_name": "Python 3",
   "language": "python",
   "name": "python3"
  },
  "language_info": {
   "codemirror_mode": {
    "name": "ipython",
    "version": 3
   },
   "file_extension": ".py",
   "mimetype": "text/x-python",
   "name": "python",
   "nbconvert_exporter": "python",
   "pygments_lexer": "ipython3",
   "version": "3.8.3"
  }
 },
 "nbformat": 4,
 "nbformat_minor": 4
}
