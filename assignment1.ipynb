{
 "cells": [
  {
   "cell_type": "code",
   "execution_count": 9,
   "metadata": {},
   "outputs": [],
   "source": [
    "import numpy as np\n",
    "import matplotlib.pyplot as plt"
   ]
  },
  {
   "cell_type": "code",
   "execution_count": 10,
   "metadata": {},
   "outputs": [],
   "source": [
    "def sigmoid(x):\n",
    "    return 1/(1+np.exp(-x)) \n",
    "\n",
    "def sigmoid_grad(x):\n",
    "    a = sigmoid(x)\n",
    "    return a*(1-a)\n",
    "\n",
    "def tanh(x):\n",
    "    return np.tanh(x)\n",
    "\n",
    "def tanh_grad(x):\n",
    "    a = tanh(x)\n",
    "    return 1 - a*a\n",
    "\n",
    "def relu(x):\n",
    "    x[x<0] = 0\n",
    "    return x\n",
    "\n",
    "def relu_grad(x):\n",
    "    x[x<=0] = 0\n",
    "    x[x>0] = 1\n",
    "    return x"
   ]
  },
  {
   "cell_type": "code",
   "execution_count": 11,
   "metadata": {},
   "outputs": [],
   "source": [
    "activations = {\n",
    "    \"sigmoid\": [sigmoid,sigmoid_grad],\n",
    "    \"tanh\": [tanh,tanh_grad],\n",
    "    \"relu\": [relu,relu_grad]\n",
    "}"
   ]
  },
  {
   "cell_type": "code",
   "execution_count": 12,
   "metadata": {},
   "outputs": [],
   "source": [
    "def cross_entropy_loss(real,pred):\n",
    "    ret = -np.sum(np.multiply(read,np.log(pred)) , axis = 1)\n",
    "    return ret\n",
    "\n",
    "def cross_entropy_loss_grad(real,pred):\n",
    "    return (pred-real)/((pred+1e-8)*(1-pred))\n",
    "\n",
    "def mse_loss(real,pred):\n",
    "    ret = np.mean((pred-real)**2)/2\n",
    "    return ret\n",
    "    \n",
    "def mse_loss_grad(real,pred):\n",
    "    return pred-real"
   ]
  },
  {
   "cell_type": "code",
   "execution_count": 13,
   "metadata": {},
   "outputs": [],
   "source": [
    "losses = {\n",
    "    \"cross_entropy\":(cross_entropy_loss,cross_entropy_loss_grad),\n",
    "    \"mse\": (mse_loss,mse_loss_grad)\n",
    "}"
   ]
  },
  {
   "cell_type": "code",
   "execution_count": 14,
   "metadata": {},
   "outputs": [],
   "source": [
    "class layer:\n",
    "    \n",
    "    def __init__(self,neurons,inputs,activation = None):\n",
    "        self.W = np.random.randn(neurons,inputs)\n",
    "        self.b = np.random.randn(neurons,)\n",
    "        self.neurons = neurons\n",
    "        self.inputs = inputs\n",
    "        if activation is None:\n",
    "            self.activation = activations[\"relu\"]\n",
    "        else:\n",
    "            self.activation = activations[activation]\n",
    "            \n",
    "    def run_layer(self,A):\n",
    "        a = self.W @ A +self.b      #a is not dot product\n",
    "        self.inp = A\n",
    "        return self.activation[0](a)\n",
    "    \n",
    "    def back_pass(self,dl_da,lr=0.01):\n",
    "        h = self.W @ A + self.b\n",
    "        a = self.activation[0](h)\n",
    "        dl_h = np.transpose(self.W) @ dl_da\n",
    "        dl_da_curr = np.multiply(dl_h, self.activation[1](a))\n",
    "        dl_w = dl_da_curr @ np.transpose(self.inp)\n",
    "        dl_b = dl_a\n",
    "        \n",
    "        self.W -= lr * dl_w\n",
    "        self.b -= lr* dl_b\n",
    "        \n",
    "        return dl_da_curr\n",
    "        "
   ]
  },
  {
   "cell_type": "code",
   "execution_count": 15,
   "metadata": {},
   "outputs": [],
   "source": [
    "class models:\n",
    "    \n",
    "    def __init__(self,inputs,loss=None,optimizer=None):\n",
    "        self.inputs = inputs\n",
    "        self.layers = []\n",
    "        if loss is None:\n",
    "            self.loss = losses[\"cross_entropy\"]\n",
    "        else:\n",
    "            self.loss = losses[loss]\n",
    "        self.optimizer = optimizer\n",
    "        \n",
    "        \n",
    "    def add_layer(self,neurons,activation=None):\n",
    "        if len(self.layers) == 0:\n",
    "            inps = self.inputs\n",
    "        else:\n",
    "            inps = self.layers[-1].neurons\n",
    "        new_layer = layer(neurons,inps,activation)\n",
    "        self.layers.append(new_layer)\n",
    "        \n",
    "        \n",
    "    def forward_pass(self,inputs):\n",
    "        res = inputs\n",
    "        for lay in self.layers:\n",
    "            res = lay.run_layer(res)\n",
    "            \n",
    "        return res\n",
    "    \n",
    "    def print(self):\n",
    "        for lay in self.layers:\n",
    "            print(\"Layer : \")\n",
    "            print(\"Input: {}\".format(lay.inputs))\n",
    "            print(\"Neurons: {}\".format(lay.neurons))\n",
    "            \n",
    "    def backward_pass(self,dl_a):\n",
    "        for lay in reverse(self.layers) :\n",
    "            dl_da = lay.back_pass(self,dl_da)\n",
    "    \n",
    "    def predict(self,inputs):\n",
    "        return self.forward_pass(inputs)\n",
    "    \n",
    "    \n",
    "    def train(self,inputs,outputs,epochs):\n",
    "        loss_tracker = []\n",
    "        for i in range(epochs):\n",
    "            pred = self.predict(inputs)\n",
    "            loss = self.loss[0](outputs,pred)\n",
    "            loss_tracker.append(loss)\n",
    "            da = self.loss[1](outputs,pred)\n",
    "            self.backward_pass(da)\n",
    "            "
   ]
  },
  {
   "cell_type": "code",
   "execution_count": 19,
   "metadata": {},
   "outputs": [
    {
     "ename": "ModuleNotFoundError",
     "evalue": "No module named 'tensorflow'",
     "output_type": "error",
     "traceback": [
      "\u001b[0;31m---------------------------------------------------------------------------\u001b[0m",
      "\u001b[0;31mModuleNotFoundError\u001b[0m                       Traceback (most recent call last)",
      "\u001b[0;32m<ipython-input-19-cec8a14642cf>\u001b[0m in \u001b[0;36m<module>\u001b[0;34m()\u001b[0m\n\u001b[0;32m----> 1\u001b[0;31m \u001b[0;32mfrom\u001b[0m \u001b[0mtensorflow\u001b[0m\u001b[0;34m.\u001b[0m\u001b[0mkeras\u001b[0m\u001b[0;34m.\u001b[0m\u001b[0mdatasets\u001b[0m \u001b[0;32mimport\u001b[0m \u001b[0mfashion_mnist\u001b[0m\u001b[0;34m\u001b[0m\u001b[0;34m\u001b[0m\u001b[0m\n\u001b[0m\u001b[1;32m      2\u001b[0m \u001b[0;34m(\u001b[0m\u001b[0;34m(\u001b[0m\u001b[0mx_train\u001b[0m\u001b[0;34m,\u001b[0m \u001b[0my_train\u001b[0m\u001b[0;34m)\u001b[0m\u001b[0;34m,\u001b[0m \u001b[0;34m(\u001b[0m\u001b[0mx_test\u001b[0m\u001b[0;34m,\u001b[0m \u001b[0my_test\u001b[0m\u001b[0;34m)\u001b[0m\u001b[0;34m)\u001b[0m \u001b[0;34m=\u001b[0m \u001b[0mfashion_mnist\u001b[0m\u001b[0;34m.\u001b[0m\u001b[0mload_data\u001b[0m\u001b[0;34m(\u001b[0m\u001b[0;34m)\u001b[0m\u001b[0;34m\u001b[0m\u001b[0;34m\u001b[0m\u001b[0m\n",
      "\u001b[0;31mModuleNotFoundError\u001b[0m: No module named 'tensorflow'"
     ]
    }
   ],
   "source": [
    "from tensorflow.keras.datasets import fashion_mnist\n",
    "((x_train, y_train), (x_test, y_test)) = fashion_mnist.load_data()"
   ]
  },
  {
   "cell_type": "code",
   "execution_count": 17,
   "metadata": {},
   "outputs": [
    {
     "ename": "NameError",
     "evalue": "name 'y_train' is not defined",
     "output_type": "error",
     "traceback": [
      "\u001b[0;31m---------------------------------------------------------------------------\u001b[0m",
      "\u001b[0;31mNameError\u001b[0m                                 Traceback (most recent call last)",
      "\u001b[0;32m<ipython-input-17-72e89aa9bd06>\u001b[0m in \u001b[0;36m<module>\u001b[0;34m()\u001b[0m\n\u001b[1;32m      2\u001b[0m                'Sandal', 'Shirt', 'Sneaker', 'Bag', 'Ankle boot']\n\u001b[1;32m      3\u001b[0m \u001b[0;34m\u001b[0m\u001b[0m\n\u001b[0;32m----> 4\u001b[0;31m \u001b[0m_\u001b[0m\u001b[0;34m,\u001b[0m \u001b[0mindicesList\u001b[0m \u001b[0;34m=\u001b[0m \u001b[0mnp\u001b[0m\u001b[0;34m.\u001b[0m\u001b[0munique\u001b[0m\u001b[0;34m(\u001b[0m\u001b[0my_train\u001b[0m\u001b[0;34m,\u001b[0m \u001b[0mreturn_index\u001b[0m\u001b[0;34m=\u001b[0m\u001b[0;32mTrue\u001b[0m\u001b[0;34m)\u001b[0m\u001b[0;34m\u001b[0m\u001b[0;34m\u001b[0m\u001b[0m\n\u001b[0m\u001b[1;32m      5\u001b[0m \u001b[0;34m\u001b[0m\u001b[0m\n\u001b[1;32m      6\u001b[0m \u001b[0mplt\u001b[0m\u001b[0;34m.\u001b[0m\u001b[0mfigure\u001b[0m\u001b[0;34m(\u001b[0m\u001b[0mfigsize\u001b[0m\u001b[0;34m=\u001b[0m\u001b[0;34m(\u001b[0m\u001b[0;36m10\u001b[0m\u001b[0;34m,\u001b[0m\u001b[0;36m10\u001b[0m\u001b[0;34m)\u001b[0m\u001b[0;34m)\u001b[0m\u001b[0;34m\u001b[0m\u001b[0;34m\u001b[0m\u001b[0m\n",
      "\u001b[0;31mNameError\u001b[0m: name 'y_train' is not defined"
     ]
    }
   ],
   "source": [
    "class_names = ['T-shirt/top', 'Trouser', 'Pullover', 'Dress', 'Coat',\n",
    "               'Sandal', 'Shirt', 'Sneaker', 'Bag', 'Ankle boot']\n",
    "\n",
    "_, indicesList = np.unique(y_train, return_index=True)\n",
    "\n",
    "plt.figure(figsize=(10,10))\n",
    "for i in range(10):\n",
    "    plt.xticks([])\n",
    "    plt.yticks([])\n",
    "    plt.subplot(5,5,i+1)\n",
    "#     plt.grid(False)\n",
    "    plt.imshow(x_train[indicesList[i]] , cmap=plt.cm.binary)\n",
    "    plt.xlabel(class_names[i])\n",
    "plt.show()"
   ]
  },
  {
   "cell_type": "code",
   "execution_count": 164,
   "metadata": {},
   "outputs": [],
   "source": [
    "def transx(x):\n",
    "    l,b,h = x.shape\n",
    "    xt = x.reshape((l,b*h))\n",
    "    return xt"
   ]
  },
  {
   "cell_type": "code",
   "execution_count": 165,
   "metadata": {},
   "outputs": [],
   "source": [
    "xt = transx(x_train)"
   ]
  },
  {
   "cell_type": "code",
   "execution_count": 158,
   "metadata": {},
   "outputs": [
    {
     "name": "stdout",
     "output_type": "stream",
     "text": [
      "(60000, 10)\n"
     ]
    }
   ],
   "source": [
    "def one_hot_encoding(a):\n",
    "    b = np.zeros((a.size, a.max()+1))\n",
    "    b[np.arange(a.size),a] = 1\n",
    "    return b\n",
    "\n",
    "yt = one_hot_encoding(y_train)\n",
    "print(yt.shape)"
   ]
  },
  {
   "cell_type": "code",
   "execution_count": 172,
   "metadata": {},
   "outputs": [
    {
     "name": "stdout",
     "output_type": "stream",
     "text": [
      "Layer : \n",
      "Input: 784\n",
      "Neurons: 64\n",
      "Layer : \n",
      "Input: 64\n",
      "Neurons: 32\n",
      "Layer : \n",
      "Input: 32\n",
      "Neurons: 10\n"
     ]
    }
   ],
   "source": [
    "model = models(784)\n",
    "model.add_layer(64)\n",
    "model.add_layer(32)\n",
    "model.add_layer(len(class_names),activation=\"sigmoid\")\n",
    "model.print()"
   ]
  },
  {
   "cell_type": "code",
   "execution_count": 173,
   "metadata": {
    "scrolled": true
   },
   "outputs": [
    {
     "name": "stderr",
     "output_type": "stream",
     "text": [
      "<ipython-input-41-5712a88165bc>:2: RuntimeWarning: overflow encountered in exp\n",
      "  return 1/(1+np.exp(-x))\n",
      "<ipython-input-119-833cb4f86a09>:2: RuntimeWarning: divide by zero encountered in log\n",
      "  ret = -(real*np.log(pred+1e-8) + (1-real)*np.log(1-pred))\n",
      "<ipython-input-119-833cb4f86a09>:2: RuntimeWarning: invalid value encountered in multiply\n",
      "  ret = -(real*np.log(pred+1e-8) + (1-real)*np.log(1-pred))\n",
      "<ipython-input-119-833cb4f86a09>:6: RuntimeWarning: divide by zero encountered in true_divide\n",
      "  return (pred-real)/((pred+1e-8)*(1-pred))\n",
      "<ipython-input-119-833cb4f86a09>:6: RuntimeWarning: invalid value encountered in true_divide\n",
      "  return (pred-real)/((pred+1e-8)*(1-pred))\n",
      "<ipython-input-121-2f1fb0f2c122>:21: RuntimeWarning: invalid value encountered in multiply\n",
      "  da = np.multiply(self.activation[1](a),dnext)\n",
      "<ipython-input-41-5712a88165bc>:16: RuntimeWarning: invalid value encountered in less\n",
      "  x[x<0] = 0\n",
      "<ipython-input-41-5712a88165bc>:20: RuntimeWarning: invalid value encountered in less_equal\n",
      "  x[x<=0] = 0\n",
      "<ipython-input-41-5712a88165bc>:21: RuntimeWarning: invalid value encountered in greater\n",
      "  x[x>0] = 1\n"
     ]
    }
   ],
   "source": [
    "model.train(xt,yt,100)"
   ]
  },
  {
   "cell_type": "code",
   "execution_count": 174,
   "metadata": {},
   "outputs": [
    {
     "name": "stderr",
     "output_type": "stream",
     "text": [
      "<ipython-input-41-5712a88165bc>:16: RuntimeWarning: invalid value encountered in less\n",
      "  x[x<0] = 0\n"
     ]
    }
   ],
   "source": [
    "xte = transx(x_test)\n",
    "pred = np.argmax(model.predict(xte))"
   ]
  },
  {
   "cell_type": "code",
   "execution_count": 175,
   "metadata": {},
   "outputs": [
    {
     "name": "stdout",
     "output_type": "stream",
     "text": [
      "0.1\n"
     ]
    }
   ],
   "source": [
    "print(np.sum(pred==y_test)/y_test.shape[0])"
   ]
  },
  {
   "cell_type": "code",
   "execution_count": null,
   "metadata": {},
   "outputs": [],
   "source": []
  }
 ],
 "metadata": {
  "kernelspec": {
   "display_name": "Python 3",
   "language": "python",
   "name": "python3"
  },
  "language_info": {
   "codemirror_mode": {
    "name": "ipython",
    "version": 3
   },
   "file_extension": ".py",
   "mimetype": "text/x-python",
   "name": "python",
   "nbconvert_exporter": "python",
   "pygments_lexer": "ipython3",
   "version": "3.6.9"
  }
 },
 "nbformat": 4,
 "nbformat_minor": 4
}
