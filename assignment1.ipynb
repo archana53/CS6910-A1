{
 "cells": [
  {
   "cell_type": "code",
   "execution_count": 1,
   "metadata": {},
   "outputs": [],
   "source": [
    "import numpy as np\n",
    "import matplotlib.pyplot as plt\n",
    "import math\n",
    "import copy"
   ]
  },
  {
   "cell_type": "code",
   "execution_count": 2,
   "metadata": {},
   "outputs": [],
   "source": [
    "from tensorflow.keras.datasets import fashion_mnist\n",
    "((x_train, y_train), (x_test, y_test)) = fashion_mnist.load_data()"
   ]
  },
  {
   "cell_type": "code",
   "execution_count": 3,
   "metadata": {},
   "outputs": [
    {
     "data": {
      "image/png": "[encoded data removed]",
      "text/plain": [
       "<Figure size 720x720 with 10 Axes>"
      ]
     },
     "metadata": {
      "needs_background": "light"
     },
     "output_type": "display_data"
    }
   ],
   "source": [
    "class_names = ['T-shirt/top', 'Trouser', 'Pullover', 'Dress', 'Coat',\n",
    "               'Sandal', 'Shirt', 'Sneaker', 'Bag', 'Ankle boot']\n",
    "\n",
    "_, indicesList = np.unique(y_train, return_index=True)\n",
    "\n",
    "plt.figure(figsize=(10,10))\n",
    "for i in range(10):\n",
    "    plt.xticks([])\n",
    "    plt.yticks([])\n",
    "    plt.subplot(5,5,i+1)\n",
    "#     plt.grid(False)\n",
    "    plt.imshow(x_train[indicesList[i]] , cmap=plt.cm.binary)\n",
    "    plt.xlabel(class_names[i])\n",
    "plt.show()"
   ]
  },
  {
   "cell_type": "markdown",
   "metadata": {},
   "source": [
    "### Activation functions"
   ]
  },
  {
   "cell_type": "code",
   "execution_count": 4,
   "metadata": {},
   "outputs": [],
   "source": [
    "def sigmoid(x):\n",
    "    x = np.clip(x, a_min = -700, a_max = 700)\n",
    "    return (1/(1+ np.exp(-x)))\n",
    "\n",
    "def sigmoid_grad(x,grad):\n",
    "    a = sigmoid(x)\n",
    "    return np.multiply(a*(1-a),grad)\n",
    "\n",
    "def tanh(x):\n",
    "    return np.tanh(x)\n",
    "\n",
    "def tanh_grad(x,grad):\n",
    "    a = tanh(x)\n",
    "    return np.multiply(1 - a*a,grad)\n",
    "\n",
    "def relu(x):\n",
    "    x[x<0] = 0\n",
    "    return x\n",
    "\n",
    "def relu_grad(x,grad):\n",
    "    x[x<=0] = 0\n",
    "    x[x>0] = 1\n",
    "    return np.multiply(x,grad)\n",
    "\n",
    "def linear(x):\n",
    "    return x\n",
    "\n",
    "def linear_grad(x,grad):\n",
    "    return np.multiply(np.ones(x.shape),grad)\n"
   ]
  },
  {
   "cell_type": "code",
   "execution_count": 5,
   "metadata": {},
   "outputs": [],
   "source": [
    "activations = {\n",
    "    \"sigmoid\": [sigmoid,sigmoid_grad],\n",
    "    \"tanh\": [tanh,tanh_grad],\n",
    "    \"relu\": [relu,relu_grad],\n",
    "    \"linear\": [linear,linear_grad],\n",
    "}"
   ]
  },
  {
   "cell_type": "markdown",
   "metadata": {},
   "source": [
    "### Loss functions"
   ]
  },
  {
   "cell_type": "code",
   "execution_count": 6,
   "metadata": {},
   "outputs": [],
   "source": [
    "def cross_entropy_loss(real,pred):\n",
    "    ret = np.multiply(real,pred)\n",
    "    loss = -np.mean(np.log(np.sum(ret,axis=1)+1e-8))\n",
    "    return loss\n",
    "\n",
    "def cross_entropy_loss_grad(real,pred):\n",
    "    ret = pred-real\n",
    "    return ret\n",
    "\n",
    "def mse_loss(real,pred):\n",
    "    ret = np.mean((pred-real)**2)/2\n",
    "    return ret\n",
    "    \n",
    "def mse_loss_grad(real,pred):\n",
    "    temp = pred-real\n",
    "    return (temp - (temp * pred).sum(axis=1,keepdims=True)) * pred"
   ]
  },
  {
   "cell_type": "code",
   "execution_count": 7,
   "metadata": {},
   "outputs": [],
   "source": [
    "losses = {\n",
    "    \"cross_entropy\":(cross_entropy_loss,cross_entropy_loss_grad),\n",
    "    \"mse\": (mse_loss,mse_loss_grad)\n",
    "}"
   ]
  },
  {
   "cell_type": "markdown",
   "metadata": {},
   "source": [
    "### Weight Initializers"
   ]
  },
  {
   "cell_type": "code",
   "execution_count": 8,
   "metadata": {},
   "outputs": [],
   "source": [
    "class initializer:\n",
    "    \n",
    "    def normal(inputs,outputs):\n",
    "        weights = np.random.randn(inputs,outputs)\n",
    "        bias = np.random.randn(outputs,)\n",
    "        return weights,bias\n",
    "    \n",
    "    def xavier(inputs,outputs):\n",
    "        scale = 1/max(1.,(inputs+outputs)/2.)\n",
    "        limit = math.sqrt(3.0*scale)\n",
    "        weights = np.random.uniform(-limit,limit,size=(inputs,outputs))\n",
    "        bias = np.random.uniform(-limit,limit,size=(outputs,))\n",
    "        return weights,bias\n",
    "    "
   ]
  },
  {
   "cell_type": "code",
   "execution_count": 9,
   "metadata": {},
   "outputs": [],
   "source": [
    "weight_inits = {\n",
    "    \"random\": initializer.normal,\n",
    "    \"xavier\": initializer.xavier\n",
    "}"
   ]
  },
  {
   "cell_type": "markdown",
   "metadata": {},
   "source": [
    "### Layers in the model"
   ]
  },
  {
   "cell_type": "code",
   "execution_count": 10,
   "metadata": {},
   "outputs": [],
   "source": [
    "class layer:\n",
    "    \n",
    "    def __init__(self,neurons,inputs,activation = \"sigmoid\",weight_init=\"random\"):\n",
    "        self.W,self.b = weight_inits[weight_init](inputs,neurons)\n",
    "        self.neurons = neurons\n",
    "        self.inputs = inputs\n",
    "        self.activation = activations[activation]\n",
    "        \n",
    "            \n",
    "    def run_layer(self,A):\n",
    "        a = A @ self.W +self.b \n",
    "        self.inp = A\n",
    "        return self.activation[0](a)\n",
    "    \n",
    "    def back_pass(self,dl_da,lr=0.1,lamda=0.0):\n",
    "        h = self.inp @ self.W + self.b\n",
    "        dl_dh = self.activation[1](h,dl_da)\n",
    "        dl_dw = self.inp.T @ dl_dh + lamda * self.W\n",
    "        dl_db = np.sum(dl_dh,axis=0) + lamda * self.b\n",
    "        dl_dx = dl_dh @ self.W.T\n",
    "        \n",
    "        return dl_dx, dl_dw, dl_db\n",
    "    "
   ]
  },
  {
   "cell_type": "code",
   "execution_count": 11,
   "metadata": {},
   "outputs": [],
   "source": [
    "def find_accuracy(pred,real):\n",
    "    a = np.argmax(pred,axis=1)\n",
    "    b = np.argmax(real,axis=1)\n",
    "    return np.mean(a==b)"
   ]
  },
  {
   "cell_type": "markdown",
   "metadata": {},
   "source": [
    "### Logging for wandb"
   ]
  },
  {
   "cell_type": "code",
   "execution_count": 12,
   "metadata": {},
   "outputs": [],
   "source": [
    "def logging(model,inputs,outputs,xval,yval):\n",
    "\n",
    "    train_accuracy = find_accuracy(model.predict(inputs),outputs)\n",
    "    val_accuracy = find_accuracy(model.predict(xval),yval)\n",
    "\n",
    "    train_loss = model.loss[0](model.predict(inputs),outputs)\n",
    "    val_loss = model.loss[0](model.predict(xval),yval)\n",
    "    wandb.log({\"train accuracy\": train_accuracy,\"validation accuracy\": val_accuracy,\"train loss\": train_loss,\"val loss\": val_loss})"
   ]
  },
  {
   "cell_type": "markdown",
   "metadata": {},
   "source": [
    "## Optimizers"
   ]
  },
  {
   "cell_type": "code",
   "execution_count": 13,
   "metadata": {},
   "outputs": [],
   "source": [
    "class optimizers:\n",
    "    \n",
    "    def sgd(model, inputs, outputs,val=None,epochs = 1, lr = 0.01, batch_size = 1):\n",
    "        best_acc = 0.0\n",
    "        for i in range(epochs):\n",
    "            for j in range(0,inputs.shape[0],batch_size):\n",
    "                inps = inputs[j:min(inputs.shape[0],j+batch_size)]\n",
    "                outs = outputs[j:min(inputs.shape[0],j+batch_size)]\n",
    "                grads = model.find_gradient(inps,outs)\n",
    "                for k,lay in enumerate(model.layers):\n",
    "                    dw,db = grads[k]\n",
    "                    lay.W -= lr * dw / batch_size\n",
    "                    lay.b -= lr * db / batch_size\n",
    "                    \n",
    "            pred = model.predict(inputs)\n",
    "            regularization = sum([np.sum(lay.W**2)+np.sum(lay.b**2) for lay in model.layers])\n",
    "            loss = model.loss[0](outputs,pred) + regularization * model.lamda / 2\n",
    "            \n",
    "            if val is not None:\n",
    "                xval,yval = val\n",
    "                acc = find_accuracy(model.predict(xval),yval)\n",
    "                if acc >= best_acc:\n",
    "                    best_acc = acc\n",
    "                    best_model = model\n",
    "                logging(model,inputs,outputs,xval,yval)\n",
    "                         \n",
    "            print(\"Epoch {} done: Loss = {}\".format(i,loss))\n",
    "            \n",
    "        if val is not None:\n",
    "            model = best_model\n",
    "            \n",
    "            \n",
    "        return model\n",
    "    \n",
    "    def momentum(model, inputs, outputs,val=None,epochs = 1, lr = 0.1, batch_size = 1,gamma = 0.9):\n",
    "        eps = 1e-8\n",
    "        best_acc = 0.0\n",
    "        v_w = [np.zeros(la.W.shape) for la in model.layers]\n",
    "        v_b = [np.zeros(la.b.shape) for la in model.layers]\n",
    "        for i in range(epochs):\n",
    "            for j in range(0,inputs.shape[0],batch_size):\n",
    "                inps = inputs[j:min(inputs.shape[0],j+batch_size)]\n",
    "                outs = outputs[j:min(inputs.shape[0],j+batch_size)]\n",
    "                grads = model.find_gradient(inps,outs)\n",
    "                for k,lay in enumerate(model.layers):\n",
    "                    dw,db = grads[k]\n",
    "                    v_w[k] = gamma * v_w[k] + lr * dw\n",
    "                    v_b[k] = gamma * v_b[k] + lr * db\n",
    "                    \n",
    "                    lay.W -= v_w[k]\n",
    "                    lay.b -= v_b[k]\n",
    "                    \n",
    "            pred = model.predict(inputs)\n",
    "            regularization = sum([np.sum(lay.W**2)+np.sum(lay.b**2) for lay in model.layers])\n",
    "            loss = model.loss[0](outputs,pred) + regularization * model.lamda / 2\n",
    "            \n",
    "            if val is not None:\n",
    "                xval,yval = val\n",
    "                acc = find_accuracy(model.predict(xval),yval)\n",
    "                if acc >= best_acc:\n",
    "                    best_acc = acc\n",
    "                    best_model = model\n",
    "                    \n",
    "                logging(model,inputs,outputs,xval,yval)\n",
    "                    \n",
    "            print(\"Epoch {} done: Loss = {}\".format(i,loss))\n",
    "            \n",
    "        if val is not None:\n",
    "            model = best_model\n",
    "            \n",
    "            \n",
    "        return model\n",
    "    \n",
    "    def nesterov(model, inputs, outputs,val=None,epochs = 1, lr = 0.1, batch_size = 1,gamma = 0.9):\n",
    "        eps = 1e-8\n",
    "        best_acc = 0.0\n",
    "        v_w = [np.zeros(la.W.shape) for la in model.layers]\n",
    "        v_b = [np.zeros(la.b.shape) for la in model.layers]\n",
    "        for i in range(epochs):\n",
    "            for j in range(0,inputs.shape[0],batch_size):\n",
    "                inps = inputs[j:min(inputs.shape[0],j+batch_size)]\n",
    "                outs = outputs[j:min(inputs.shape[0],j+batch_size)]\n",
    "                \n",
    "                model1 = copy.copy(model)\n",
    "                \n",
    "                for k,lay in enumerate(model1.layers):\n",
    "                    lay.W -= gamma * v_w[k]\n",
    "                    lay.b -= gamma * v_b[k]\n",
    "                \n",
    "                grads = model1.find_gradient(inps,outs)\n",
    "                        \n",
    "                for k,lay in enumerate(model.layers):\n",
    "                    dw,db = grads[k]\n",
    "                    dw /= batch_size\n",
    "                    db /= batch_size\n",
    "                    \n",
    "                    v_w[k] = gamma * v_w[k] + lr * dw\n",
    "                    v_b[k] = gamma * v_b[k] + lr * db\n",
    "                    \n",
    "                    lay.W -= v_w[k]\n",
    "                    lay.b -= v_b[k]\n",
    "                    \n",
    "            pred = model.predict(inputs)\n",
    "            regularization = sum([np.sum(lay.W**2)+np.sum(lay.b**2) for lay in model.layers])\n",
    "            loss = model.loss[0](outputs,pred) + regularization * model.lamda / 2\n",
    "            \n",
    "            if val is not None:\n",
    "                xval,yval = val\n",
    "                acc = find_accuracy(model.predict(xval),yval)\n",
    "                if acc >= best_acc:\n",
    "                    best_acc = acc\n",
    "                    best_model = model\n",
    "                    \n",
    "                logging(model,inputs,outputs,xval,yval)\n",
    "                \n",
    "            print(\"Epoch {} done: Loss = {}\".format(i,loss))\n",
    "            \n",
    "        if val is not None:\n",
    "            model = best_model\n",
    "            \n",
    "            \n",
    "        return model\n",
    "    \n",
    "    def rmsprop(model, inputs, outputs,val=None,epochs = 1, lr = 0.01, batch_size = 1,beta1 = 0.9):\n",
    "        eps = 1e-8\n",
    "        best_acc = 0.0\n",
    "        v_w = [np.zeros(la.W.shape) for la in model.layers]\n",
    "        v_b = [np.zeros(la.b.shape) for la in model.layers]\n",
    "        for i in range(epochs):\n",
    "            for j in range(0,inputs.shape[0],batch_size):\n",
    "                inps = inputs[j:min(inputs.shape[0],j+batch_size)]\n",
    "                outs = outputs[j:min(inputs.shape[0],j+batch_size)]\n",
    "                grads = model.find_gradient(inps,outs)\n",
    "                \n",
    "                for k,lay in enumerate(model.layers):\n",
    "                    dw,db = grads[k]\n",
    "                    dw /= batch_size\n",
    "                    db /= batch_size\n",
    "                    \n",
    "                    v_w[k] = beta1 * v_w[k] + (1-beta1) * dw**2\n",
    "                    v_b[k] = beta1 * v_b[k] + (1-beta1) * db**2\n",
    "                    \n",
    "                    lay.W -= (lr / np.sqrt(v_w[k] + eps)) * dw\n",
    "                    lay.b -= (lr / np.sqrt(v_b[k] + eps)) * db\n",
    "                    \n",
    "            pred = model.predict(inputs)\n",
    "            regularization = sum([np.sum(lay.W**2)+np.sum(lay.b**2) for lay in model.layers])\n",
    "            loss = model.loss[0](outputs,pred) + regularization * model.lamda / 2\n",
    "            \n",
    "            if val is not None:\n",
    "                xval,yval = val\n",
    "                acc = find_accuracy(model.predict(xval),yval)\n",
    "                if acc >= best_acc:\n",
    "                    best_acc = acc\n",
    "                    best_model = model\n",
    "                logging(model,inputs,outputs,xval,yval)\n",
    "                    \n",
    "            print(\"Epoch {} done: Loss = {}\".format(i,loss))\n",
    "            \n",
    "        if val is not None:\n",
    "            model = best_model\n",
    "            \n",
    "            \n",
    "        return model\n",
    "    \n",
    "    def adam(model, inputs, outputs,val=None,epochs = 1, lr = 0.01, batch_size = 1,beta1 = 0.9,beta2 = 0.999,lamda=0.0):\n",
    "        eps = 1e-8\n",
    "        best_acc = 0.0\n",
    "        m_w = [np.zeros(la.W.shape) for la in model.layers]\n",
    "        m_b = [np.zeros(la.b.shape) for la in model.layers]\n",
    "        v_w = [np.zeros(la.W.shape) for la in model.layers]\n",
    "        v_b = [np.zeros(la.b.shape) for la in model.layers]\n",
    "        for i in range(epochs):\n",
    "            for j in range(0,inputs.shape[0],batch_size):\n",
    "                inps = inputs[j:min(inputs.shape[0],j+batch_size)]\n",
    "                outs = outputs[j:min(inputs.shape[0],j+batch_size)]\n",
    "                \n",
    "                grads = model.find_gradient(inps,outs)\n",
    "                \n",
    "                for k,lay in enumerate(model.layers):\n",
    "                    dw,db = grads[k]\n",
    "                    dw /= batch_size\n",
    "                    db /= batch_size\n",
    "                    \n",
    "                    m_w[k] = beta1 * m_w[k] + (1-beta1) * dw\n",
    "                    m_b[k] = beta1 * m_b[k] + (1-beta1) * db\n",
    "                    \n",
    "                    v_w[k] = beta2 * v_w[k] + (1-beta2) * dw**2\n",
    "                    v_b[k] = beta2 * v_b[k] + (1-beta2) * db**2\n",
    "                    \n",
    "                    m_w_hat = m_w[k]/(1-math.pow(beta1,i+1))\n",
    "                    m_b_hat = m_b[k]/(1-math.pow(beta1,i+1))\n",
    "                    \n",
    "                    v_w_hat = v_w[k]/(1-math.pow(beta2,i+1))\n",
    "                    v_b_hat = v_b[k]/(1-math.pow(beta2,i+1))\n",
    "                    \n",
    "                    lay.W -= (lr / np.sqrt(v_w_hat + eps)) * m_w_hat\n",
    "                    lay.b -= (lr / np.sqrt(v_b_hat + eps)) * m_b_hat\n",
    "                    \n",
    "            pred = model.predict(inputs)\n",
    "            regularization = sum([np.sum(lay.W**2)+np.sum(lay.b**2) for lay in model.layers])\n",
    "            loss = model.loss[0](outputs,pred) + regularization * model.lamda / 2\n",
    "            \n",
    "            if val is not None:\n",
    "                xval,yval = val\n",
    "                acc = find_accuracy(model.predict(xval),yval)\n",
    "                if acc >= best_acc:\n",
    "                    best_acc = acc\n",
    "                    best_model = model\n",
    "                    \n",
    "                logging(model,inputs,outputs,xval,yval)\n",
    "                    \n",
    "            print(\"Epoch {} done: Loss = {}\".format(i,loss))\n",
    "            \n",
    "        if val is not None:\n",
    "            model = best_model\n",
    "            \n",
    "            \n",
    "        return model\n",
    "    \n",
    "    \n",
    "    def nadam(model, inputs, outputs,val=None,epochs = 1, lr = 0.01, batch_size = 1,beta1 = 0.9,beta2 = 0.999):\n",
    "        eps = 1e-8\n",
    "        best_acc = 0.0\n",
    "        m_w = [np.zeros(la.W.shape) for la in model.layers]\n",
    "        m_b = [np.zeros(la.b.shape) for la in model.layers]\n",
    "        v_w = [np.zeros(la.W.shape) for la in model.layers]\n",
    "        v_b = [np.zeros(la.b.shape) for la in model.layers]\n",
    "        for i in range(epochs):\n",
    "            for j in range(0,inputs.shape[0],batch_size):\n",
    "                inps = inputs[j:min(inputs.shape[0],j+batch_size)]\n",
    "                outs = outputs[j:min(inputs.shape[0],j+batch_size)]\n",
    "                \n",
    "                grads = model.find_gradient(inps,outs)\n",
    "                \n",
    "                for k,lay in enumerate(model.layers):\n",
    "                    dw,db = grads[k]\n",
    "                    dw /= batch_size\n",
    "                    db /= batch_size\n",
    "                    \n",
    "                    m_w[k] = beta1 * m_w[k] + (1-beta1) * dw\n",
    "                    m_b[k] = beta1 * m_b[k] + (1-beta1) * db\n",
    "                    \n",
    "                    v_w[k] = beta2 * v_w[k] + (1-beta2) * dw**2\n",
    "                    v_b[k] = beta2 * v_b[k] + (1-beta2) * db**2\n",
    "                    \n",
    "                    m_w_hat = m_w[k]/(1-math.pow(beta1,i+1))\n",
    "                    m_b_hat = m_b[k]/(1-math.pow(beta1,i+1))\n",
    "                    \n",
    "                    v_w_hat = v_w[k]/(1-math.pow(beta2,i+1))\n",
    "                    v_b_hat = v_b[k]/(1-math.pow(beta2,i+1))\n",
    "                    \n",
    "                    bcalc = (1-beta1)/(1-math.pow(beta1,i+1))\n",
    "                    \n",
    "                    lay.W -= (lr / np.sqrt(v_w_hat + eps)) * ( beta1 * m_w_hat + bcalc * dw)\n",
    "                    lay.b -= (lr / np.sqrt(v_b_hat + eps)) * ( beta1 * m_b_hat + bcalc * db)\n",
    "                    \n",
    "            pred = model.predict(inputs)\n",
    "            regularization = sum([np.sum(lay.W**2)+np.sum(lay.b**2) for lay in model.layers])\n",
    "            loss = model.loss[0](outputs,pred) + regularization * model.lamda / 2\n",
    "            \n",
    "            if val is not None:\n",
    "                xval,yval = val\n",
    "                acc = find_accuracy(model.predict(xval),yval)\n",
    "                if acc >= best_acc:\n",
    "                    best_acc = acc\n",
    "                    best_model = model\n",
    "                    \n",
    "                logging(model,inputs,outputs,xval,yval)\n",
    "                    \n",
    "            print(\"Epoch {} done: Loss = {}\".format(i,loss))\n",
    "            \n",
    "        if val is not None:\n",
    "            model = best_model\n",
    "        return model"
   ]
  },
  {
   "cell_type": "code",
   "execution_count": 14,
   "metadata": {},
   "outputs": [],
   "source": [
    "opts = {\n",
    "    \"sgd\": optimizers.sgd,\n",
    "    \"rmsprop\": optimizers.rmsprop,\n",
    "    \"adam\": optimizers.adam,\n",
    "    \"nadam\": optimizers.nadam,\n",
    "    \"momentum\": optimizers.momentum,\n",
    "    \"nesterov\": optimizers.nesterov\n",
    "}"
   ]
  },
  {
   "cell_type": "code",
   "execution_count": 15,
   "metadata": {},
   "outputs": [],
   "source": [
    "def softmax(A):\n",
    "    am = np.max(A,axis=1,keepdims=True)\n",
    "    exps = np.exp(A-am)\n",
    "    exps_sum = np.sum(exps,axis=1,keepdims=True)\n",
    "    soft = exps / exps_sum\n",
    "    return soft\n",
    "    "
   ]
  },
  {
   "cell_type": "markdown",
   "metadata": {},
   "source": [
    "## Models"
   ]
  },
  {
   "cell_type": "code",
   "execution_count": 16,
   "metadata": {},
   "outputs": [],
   "source": [
    "class models:\n",
    "    \n",
    "    def __init__(self,inputs,loss=\"cross_entropy\",optimizer=\"sgd\",lamda=0.0):\n",
    "        self.inputs = inputs\n",
    "        self.layers = []\n",
    "        self.loss = losses[loss]\n",
    "        self.optimizer = opts[optimizer]\n",
    "        self.opt_name = optimizer\n",
    "        self.lamda = lamda\n",
    "        \n",
    "        \n",
    "    def add_layer(self,neurons,weight_init=\"random\",activation=\"sigmoid\"):\n",
    "        if len(self.layers) == 0:\n",
    "            inps = self.inputs\n",
    "        else:\n",
    "            inps = self.layers[-1].neurons\n",
    "        new_layer = layer(neurons,inps,activation=activation,weight_init=weight_init)\n",
    "        self.layers.append(new_layer)\n",
    "            \n",
    "        \n",
    "        \n",
    "    def forward_pass(self,inputs):\n",
    "        res = inputs\n",
    "        for lay in self.layers:\n",
    "            res = lay.run_layer(res)\n",
    "            \n",
    "        return softmax(res)\n",
    "    \n",
    "    def print(self):\n",
    "        for lay in self.layers:\n",
    "            print(\"Layer : \")\n",
    "            print(\"Input: {}\".format(lay.inputs))\n",
    "            print(\"Neurons: {}\".format(lay.neurons))\n",
    "            \n",
    "    def backward_pass(self,dl_da):\n",
    "        dd = dl_da\n",
    "        grads = []\n",
    "        for lay in reversed(self.layers) :\n",
    "            dd,dw,db = lay.back_pass(dd,lamda=self.lamda)\n",
    "            grads.append((dw,db))\n",
    "            \n",
    "        return grads[::-1]\n",
    "    \n",
    "    def find_gradient(self,inputs,outputs):\n",
    "        pred = self.forward_pass(inputs)\n",
    "        dl_dout = self.loss[1](outputs,pred)\n",
    "        grads = self.backward_pass(dl_dout)\n",
    "        return grads\n",
    "    \n",
    "    def predict(self,inputs):\n",
    "        pred = self.forward_pass(inputs)\n",
    "        return np.array(pred)\n",
    "    \n",
    "        \n",
    "    def train(self,inputs,outputs,val=None,lr=0.01,batch_size=1,epochs=1,beta1=0.9,beta2=0.999,gamma=0.9):\n",
    "        if self.opt_name == \"sgd\":\n",
    "            model = self.optimizer(self,inputs,outputs,val=val,epochs=epochs,lr=lr,\n",
    "                                   batch_size=batch_size)\n",
    "            \n",
    "        elif self.opt_name == \"momentum\":\n",
    "            model = self.optimizer(self,inputs,outputs,val=val,epochs=epochs,lr=lr,batch_size=batch_size,\n",
    "                                   gamma=gamma)\n",
    "            \n",
    "        \n",
    "        elif self.opt_name == \"nesterov\":\n",
    "            model = self.optimizer(self,inputs,outputs,val=val,epochs=epochs,lr=lr,batch_size=batch_size,\n",
    "                                   gamma=gamma)\n",
    "            \n",
    "        elif self.opt_name == \"rmsprop\":\n",
    "            model = self.optimizer(self,inputs,outputs,val=val,epochs=epochs,lr=lr,batch_size=batch_size,\n",
    "                                   beta1=beta1)\n",
    "            \n",
    "        elif self.opt_name == \"adam\":\n",
    "            model = self.optimizer(self,inputs,outputs,val=val,epochs=epochs,lr=lr,batch_size=batch_size,\n",
    "                                   beta1=beta1,beta2=beta2)\n",
    "            \n",
    "        elif self.opt_name == \"nadam\":\n",
    "            model = self.optimizer(self,inputs,outputs,val=val,epochs=epochs,lr=lr,batch_size=batch_size,\n",
    "                                   beta1=beta1,beta2=beta2)\n",
    "            \n",
    "        return model\n",
    "            "
   ]
  },
  {
   "cell_type": "markdown",
   "metadata": {},
   "source": [
    "### Helper functions and data transformation"
   ]
  },
  {
   "cell_type": "code",
   "execution_count": 17,
   "metadata": {},
   "outputs": [],
   "source": [
    "def transx(x):\n",
    "    l,b,h = x.shape\n",
    "    xt = x.reshape((l,b*h))\n",
    "    xt = xt/np.max(xt)\n",
    "    return xt"
   ]
  },
  {
   "cell_type": "code",
   "execution_count": 18,
   "metadata": {},
   "outputs": [],
   "source": [
    "xt = transx(x_train)"
   ]
  },
  {
   "cell_type": "code",
   "execution_count": 19,
   "metadata": {},
   "outputs": [
    {
     "name": "stdout",
     "output_type": "stream",
     "text": [
      "(60000, 10)\n"
     ]
    }
   ],
   "source": [
    "def one_hot_encoding(a):\n",
    "    b = np.zeros((a.size, a.max()+1))\n",
    "    b[np.arange(a.size),a] = 1\n",
    "    return b\n",
    "\n",
    "yt = one_hot_encoding(y_train)\n",
    "print(yt.shape)"
   ]
  },
  {
   "cell_type": "code",
   "execution_count": 20,
   "metadata": {},
   "outputs": [],
   "source": [
    "xte = transx(x_test)"
   ]
  },
  {
   "cell_type": "markdown",
   "metadata": {},
   "source": [
    "## Can put training blocks here"
   ]
  },
  {
   "cell_type": "code",
   "execution_count": 23,
   "metadata": {},
   "outputs": [],
   "source": [
    "### insert your model training and testing code here"
   ]
  },
  {
   "cell_type": "markdown",
   "metadata": {},
   "source": [
    "## WandB Sweep"
   ]
  },
  {
   "cell_type": "code",
   "execution_count": 24,
   "metadata": {},
   "outputs": [],
   "source": [
    "import wandb"
   ]
  },
  {
   "cell_type": "code",
   "execution_count": 32,
   "metadata": {},
   "outputs": [],
   "source": [
    "sweep_config = {\n",
    "    'method': 'random', #grid, random\n",
    "    'metric': {\n",
    "      'name': 'validation accuracy',\n",
    "      'goal': 'maximize'   \n",
    "    },\n",
    "    'parameters': {\n",
    "        'epochs': {\n",
    "            'values': [5,10]\n",
    "        },\n",
    "        'hidden_layers': {\n",
    "            'values': [3,4,5]\n",
    "        },\n",
    "        'hidden_layer_size' : {\n",
    "            'values' : [32,64,128]\n",
    "        },\n",
    "        'lr': {\n",
    "            'values': [1e-3,1e-4]\n",
    "        },\n",
    "        'optimiser': {\n",
    "            'values': [\"momentum\",\"nesterov\",\"rmsprop\",\"adam\",\"nadam\"]\n",
    "        },\n",
    "        'batch_size': {\n",
    "            'values': [16,32,64]\n",
    "        },\n",
    "        'weight_init': {\n",
    "            'values': [\"xavier\"]\n",
    "        },\n",
    "        'activation': {\n",
    "            'values': [\"sigmoid\",\"tanh\",\"relu\"]\n",
    "        },\n",
    "        'weight_decay': {\n",
    "            'values': [0,0.0005,0.5]\n",
    "        }\n",
    "    }\n",
    "}\n"
   ]
  },
  {
   "cell_type": "code",
   "execution_count": 33,
   "metadata": {},
   "outputs": [
    {
     "data": {
      "text/plain": [
       "True"
      ]
     },
     "execution_count": 33,
     "metadata": {},
     "output_type": "execute_result"
    }
   ],
   "source": [
    "wandb.login()"
   ]
  },
  {
   "cell_type": "code",
   "execution_count": 34,
   "metadata": {},
   "outputs": [
    {
     "name": "stdout",
     "output_type": "stream",
     "text": [
      "Create sweep with ID: wnukyq05\n",
      "Sweep URL: https://wandb.ai/notarchana/CS6910-A1/sweeps/wnukyq05\n"
     ]
    }
   ],
   "source": [
    "sweep_id = wandb.sweep(sweep_config,entity = \"notarchana\" , project = \"cs6910-A1\")"
   ]
  },
  {
   "cell_type": "code",
   "execution_count": 35,
   "metadata": {},
   "outputs": [],
   "source": [
    "from sklearn.model_selection import train_test_split"
   ]
  },
  {
   "cell_type": "code",
   "execution_count": 36,
   "metadata": {},
   "outputs": [],
   "source": [
    "# The sweep calls this function with each set of hyperparameters\n",
    "def train():\n",
    "    # Default values for hyper-parameters we're going to sweep over\n",
    "    config_defaults = {\n",
    "        'epochs': 5,\n",
    "        'hidden_layers': 3,\n",
    "        'lr': 1e-3,\n",
    "        'activation': \"sigmoid\",\n",
    "        'optimiser': \"sgd\",\n",
    "        'batch_size': 32,\n",
    "        'weight_init' : \"random\"\n",
    "    }\n",
    "\n",
    "    # Initialize a new wandb run\n",
    "    wandb.init(config=config_defaults,name=\"hello\")\n",
    "    \n",
    "    config = wandb.config\n",
    "    \n",
    "    name = f'hl_{config.hidden_layers}_bs_{config.batch_size}_ac_{config.activation}_lr_{config.lr}_opt_{config.optimiser}_winit_{config.weight_init}_wd_{config.weight_decay}'\n",
    "    wandb.run.name = name\n",
    "    wandb.run.save()\n",
    "    \n",
    "    # Config is a variable that holds and saves hyperparameters and inputs\n",
    "    \n",
    "    # Splitting test data for cv\n",
    "    xtrain, xval,ytrain,yval = train_test_split(xt,yt,test_size = 0.1)\n",
    "    \n",
    "    model = models(784,optimizer = config.optimiser,loss=\"mse\")\n",
    "    for i in range(config.hidden_layers) :\n",
    "      model.add_layer(config.hidden_layer_size,weight_init=config.weight_init,activation=config.activation)\n",
    "\n",
    "    model.add_layer(len(class_names),activation=\"linear\",weight_init=config.weight_init)\n",
    "    print(\"model building done\")\n",
    "    yte = one_hot_encoding(y_test)\n",
    "    trained = model.train(xtrain,ytrain,val=(xval,yval),lr=config.lr,batch_size=config.batch_size,epochs=config.epochs)\n",
    "\n",
    "    print(\"model training done\")\n"
   ]
  },
  {
   "cell_type": "code",
   "execution_count": 37,
   "metadata": {},
   "outputs": [],
   "source": [
    "np.random.seed(42)"
   ]
  },
  {
   "cell_type": "code",
   "execution_count": 38,
   "metadata": {
    "scrolled": true
   },
   "outputs": [
    {
     "name": "stderr",
     "output_type": "stream",
     "text": [
      "\u001b[34m\u001b[1mwandb\u001b[0m: Agent Starting Run: 07f82ikp with config:\n",
      "\u001b[34m\u001b[1mwandb\u001b[0m: \tactivation: tanh\n",
      "\u001b[34m\u001b[1mwandb\u001b[0m: \tbatch_size: 64\n",
      "\u001b[34m\u001b[1mwandb\u001b[0m: \tepochs: 5\n",
      "\u001b[34m\u001b[1mwandb\u001b[0m: \thidden_layer_size: 128\n",
      "\u001b[34m\u001b[1mwandb\u001b[0m: \thidden_layers: 4\n",
      "\u001b[34m\u001b[1mwandb\u001b[0m: \tlr: 0.001\n",
      "\u001b[34m\u001b[1mwandb\u001b[0m: \toptimiser: adam\n",
      "\u001b[34m\u001b[1mwandb\u001b[0m: \tweight_decay: 0.5\n",
      "\u001b[34m\u001b[1mwandb\u001b[0m: \tweight_init: xavier\n"
     ]
    },
    {
     "data": {
      "text/html": [
       "\n",
       "                Tracking run with wandb version 0.10.22<br/>\n",
       "                Syncing run <strong style=\"color:#cdcd00\">hello</strong> to <a href=\"https://wandb.ai\" target=\"_blank\">Weights & Biases</a> <a href=\"https://docs.wandb.com/integrations/jupyter.html\" target=\"_blank\">(Documentation)</a>.<br/>\n",
       "                Project page: <a href=\"https://wandb.ai/notarchana/CS6910-A1\" target=\"_blank\">https://wandb.ai/notarchana/CS6910-A1</a><br/>\n",
       "                Sweep page: <a href=\"https://wandb.ai/notarchana/CS6910-A1/sweeps/wnukyq05\" target=\"_blank\">https://wandb.ai/notarchana/CS6910-A1/sweeps/wnukyq05</a><br/>\n",
       "Run page: <a href=\"https://wandb.ai/notarchana/CS6910-A1/runs/07f82ikp\" target=\"_blank\">https://wandb.ai/notarchana/CS6910-A1/runs/07f82ikp</a><br/>\n",
       "                Run data is saved locally in <code>/home/krishna/iit/sem6/dl/wandb/run-20210312_124901-07f82ikp</code><br/><br/>\n",
       "            "
      ],
      "text/plain": [
       "<IPython.core.display.HTML object>"
      ]
     },
     "metadata": {},
     "output_type": "display_data"
    },
    {
     "name": "stderr",
     "output_type": "stream",
     "text": [
      "\u001b[34m\u001b[1mwandb\u001b[0m: \u001b[33mWARNING\u001b[0m Calling run.save without any arguments is deprecated.Changes to attributes are automatically persisted.\n"
     ]
    },
    {
     "name": "stdout",
     "output_type": "stream",
     "text": [
      "model building done\n",
      "Epoch 0 done: Loss = 0.00991889074439238\n",
      "Epoch 1 done: Loss = 0.00874021608257425\n",
      "Epoch 2 done: Loss = 0.008339168825622632\n",
      "Epoch 3 done: Loss = 0.008100824517400582\n",
      "Epoch 4 done: Loss = 0.007873708304546275\n",
      "model training done\n"
     ]
    },
    {
     "data": {
      "text/html": [
       "<br/>Waiting for W&B process to finish, PID 104643<br/>Program ended successfully."
      ],
      "text/plain": [
       "<IPython.core.display.HTML object>"
      ]
     },
     "metadata": {},
     "output_type": "display_data"
    },
    {
     "data": {
      "application/vnd.jupyter.widget-view+json": {
       "model_id": "",
       "version_major": 2,
       "version_minor": 0
      },
      "text/plain": [
       "VBox(children=(Label(value=' 0.00MB of 0.00MB uploaded (0.00MB deduped)\\r'), FloatProgress(value=1.0, max=1.0)…"
      ]
     },
     "metadata": {},
     "output_type": "display_data"
    },
    {
     "data": {
      "text/html": [
       "Find user logs for this run at: <code>/home/krishna/iit/sem6/dl/wandb/run-20210312_124901-07f82ikp/logs/debug.log</code>"
      ],
      "text/plain": [
       "<IPython.core.display.HTML object>"
      ]
     },
     "metadata": {},
     "output_type": "display_data"
    },
    {
     "data": {
      "text/html": [
       "Find internal logs for this run at: <code>/home/krishna/iit/sem6/dl/wandb/run-20210312_124901-07f82ikp/logs/debug-internal.log</code>"
      ],
      "text/plain": [
       "<IPython.core.display.HTML object>"
      ]
     },
     "metadata": {},
     "output_type": "display_data"
    },
    {
     "data": {
      "text/html": [
       "<h3>Run summary:</h3><br/><style>\n",
       "    table.wandb td:nth-child(1) { padding: 0 10px; text-align: right }\n",
       "    </style><table class=\"wandb\">\n",
       "<tr><td>train accuracy</td><td>0.89169</td></tr><tr><td>validation accuracy</td><td>0.87683</td></tr><tr><td>train loss</td><td>0.00787</td></tr><tr><td>val loss</td><td>0.00881</td></tr><tr><td>_runtime</td><td>40</td></tr><tr><td>_timestamp</td><td>1615533581</td></tr><tr><td>_step</td><td>4</td></tr></table>"
      ],
      "text/plain": [
       "<IPython.core.display.HTML object>"
      ]
     },
     "metadata": {},
     "output_type": "display_data"
    },
    {
     "data": {
      "text/html": [
       "<h3>Run history:</h3><br/><style>\n",
       "    table.wandb td:nth-child(1) { padding: 0 10px; text-align: right }\n",
       "    </style><table class=\"wandb\">\n",
       "<tr><td>train accuracy</td><td>▁▅▇▇█</td></tr><tr><td>validation accuracy</td><td>▁▆▇▇█</td></tr><tr><td>train loss</td><td>█▄▃▂▁</td></tr><tr><td>val loss</td><td>█▃▂▁▁</td></tr><tr><td>_runtime</td><td>▁▃▄▆█</td></tr><tr><td>_timestamp</td><td>▁▃▄▆█</td></tr><tr><td>_step</td><td>▁▃▅▆█</td></tr></table><br/>"
      ],
      "text/plain": [
       "<IPython.core.display.HTML object>"
      ]
     },
     "metadata": {},
     "output_type": "display_data"
    },
    {
     "data": {
      "text/html": [
       "Synced 5 W&B file(s), 0 media file(s), 0 artifact file(s) and 0 other file(s)"
      ],
      "text/plain": [
       "<IPython.core.display.HTML object>"
      ]
     },
     "metadata": {},
     "output_type": "display_data"
    },
    {
     "data": {
      "text/html": [
       "\n",
       "                    <br/>Synced <strong style=\"color:#cdcd00\">hello</strong>: <a href=\"https://wandb.ai/notarchana/CS6910-A1/runs/07f82ikp\" target=\"_blank\">https://wandb.ai/notarchana/CS6910-A1/runs/07f82ikp</a><br/>\n",
       "                "
      ],
      "text/plain": [
       "<IPython.core.display.HTML object>"
      ]
     },
     "metadata": {},
     "output_type": "display_data"
    },
    {
     "name": "stderr",
     "output_type": "stream",
     "text": [
      "\u001b[34m\u001b[1mwandb\u001b[0m: Agent Starting Run: nem6qgjw with config:\n",
      "\u001b[34m\u001b[1mwandb\u001b[0m: \tactivation: relu\n",
      "\u001b[34m\u001b[1mwandb\u001b[0m: \tbatch_size: 64\n",
      "\u001b[34m\u001b[1mwandb\u001b[0m: \tepochs: 10\n",
      "\u001b[34m\u001b[1mwandb\u001b[0m: \thidden_layer_size: 64\n",
      "\u001b[34m\u001b[1mwandb\u001b[0m: \thidden_layers: 4\n",
      "\u001b[34m\u001b[1mwandb\u001b[0m: \tlr: 0.0001\n",
      "\u001b[34m\u001b[1mwandb\u001b[0m: \toptimiser: nesterov\n",
      "\u001b[34m\u001b[1mwandb\u001b[0m: \tweight_decay: 0\n",
      "\u001b[34m\u001b[1mwandb\u001b[0m: \tweight_init: xavier\n"
     ]
    },
    {
     "data": {
      "text/html": [
       "\n",
       "                Tracking run with wandb version 0.10.22<br/>\n",
       "                Syncing run <strong style=\"color:#cdcd00\">hello</strong> to <a href=\"https://wandb.ai\" target=\"_blank\">Weights & Biases</a> <a href=\"https://docs.wandb.com/integrations/jupyter.html\" target=\"_blank\">(Documentation)</a>.<br/>\n",
       "                Project page: <a href=\"https://wandb.ai/notarchana/CS6910-A1\" target=\"_blank\">https://wandb.ai/notarchana/CS6910-A1</a><br/>\n",
       "                Sweep page: <a href=\"https://wandb.ai/notarchana/CS6910-A1/sweeps/wnukyq05\" target=\"_blank\">https://wandb.ai/notarchana/CS6910-A1/sweeps/wnukyq05</a><br/>\n",
       "Run page: <a href=\"https://wandb.ai/notarchana/CS6910-A1/runs/nem6qgjw\" target=\"_blank\">https://wandb.ai/notarchana/CS6910-A1/runs/nem6qgjw</a><br/>\n",
       "                Run data is saved locally in <code>/home/krishna/iit/sem6/dl/wandb/run-20210312_124948-nem6qgjw</code><br/><br/>\n",
       "            "
      ],
      "text/plain": [
       "<IPython.core.display.HTML object>"
      ]
     },
     "metadata": {},
     "output_type": "display_data"
    },
    {
     "name": "stderr",
     "output_type": "stream",
     "text": [
      "\u001b[34m\u001b[1mwandb\u001b[0m: \u001b[33mWARNING\u001b[0m Calling run.save without any arguments is deprecated.Changes to attributes are automatically persisted.\n"
     ]
    },
    {
     "name": "stdout",
     "output_type": "stream",
     "text": [
      "model building done\n",
      "Epoch 0 done: Loss = 0.044365411508593425\n",
      "Epoch 1 done: Loss = 0.04333856925888008\n",
      "Epoch 2 done: Loss = 0.042057492821150955\n",
      "Epoch 3 done: Loss = 0.04066006138611096\n",
      "Epoch 4 done: Loss = 0.03921619036684764\n",
      "Epoch 5 done: Loss = 0.0375004298402144\n",
      "Epoch 6 done: Loss = 0.0354038995775126\n",
      "Epoch 7 done: Loss = 0.033164225222659056\n",
      "Epoch 8 done: Loss = 0.031035568776139364\n",
      "Epoch 9 done: Loss = 0.028970501633856807\n",
      "model training done\n"
     ]
    },
    {
     "data": {
      "text/html": [
       "<br/>Waiting for W&B process to finish, PID 104692<br/>Program ended successfully."
      ],
      "text/plain": [
       "<IPython.core.display.HTML object>"
      ]
     },
     "metadata": {},
     "output_type": "display_data"
    },
    {
     "data": {
      "application/vnd.jupyter.widget-view+json": {
       "model_id": "",
       "version_major": 2,
       "version_minor": 0
      },
      "text/plain": [
       "VBox(children=(Label(value=' 0.00MB of 0.00MB uploaded (0.00MB deduped)\\r'), FloatProgress(value=1.0, max=1.0)…"
      ]
     },
     "metadata": {},
     "output_type": "display_data"
    },
    {
     "data": {
      "text/html": [
       "Find user logs for this run at: <code>/home/krishna/iit/sem6/dl/wandb/run-20210312_124948-nem6qgjw/logs/debug.log</code>"
      ],
      "text/plain": [
       "<IPython.core.display.HTML object>"
      ]
     },
     "metadata": {},
     "output_type": "display_data"
    },
    {
     "data": {
      "text/html": [
       "Find internal logs for this run at: <code>/home/krishna/iit/sem6/dl/wandb/run-20210312_124948-nem6qgjw/logs/debug-internal.log</code>"
      ],
      "text/plain": [
       "<IPython.core.display.HTML object>"
      ]
     },
     "metadata": {},
     "output_type": "display_data"
    },
    {
     "data": {
      "text/html": [
       "<h3>Run summary:</h3><br/><style>\n",
       "    table.wandb td:nth-child(1) { padding: 0 10px; text-align: right }\n",
       "    </style><table class=\"wandb\">\n",
       "<tr><td>train accuracy</td><td>0.5857</td></tr><tr><td>validation accuracy</td><td>0.5695</td></tr><tr><td>train loss</td><td>0.02897</td></tr><tr><td>val loss</td><td>0.02921</td></tr><tr><td>_runtime</td><td>23</td></tr><tr><td>_timestamp</td><td>1615533611</td></tr><tr><td>_step</td><td>9</td></tr></table>"
      ],
      "text/plain": [
       "<IPython.core.display.HTML object>"
      ]
     },
     "metadata": {},
     "output_type": "display_data"
    },
    {
     "data": {
      "text/html": [
       "<h3>Run history:</h3><br/><style>\n",
       "    table.wandb td:nth-child(1) { padding: 0 10px; text-align: right }\n",
       "    </style><table class=\"wandb\">\n",
       "<tr><td>train accuracy</td><td>▁▁▂▃▅▆▇▇██</td></tr><tr><td>validation accuracy</td><td>▁▁▂▃▅▆▇▇██</td></tr><tr><td>train loss</td><td>██▇▆▆▅▄▃▂▁</td></tr><tr><td>val loss</td><td>██▇▆▆▅▄▃▂▁</td></tr><tr><td>_runtime</td><td>▁▂▂▃▄▅▆▇██</td></tr><tr><td>_timestamp</td><td>▁▂▂▃▄▅▆▇██</td></tr><tr><td>_step</td><td>▁▂▃▃▄▅▆▆▇█</td></tr></table><br/>"
      ],
      "text/plain": [
       "<IPython.core.display.HTML object>"
      ]
     },
     "metadata": {},
     "output_type": "display_data"
    },
    {
     "data": {
      "text/html": [
       "Synced 5 W&B file(s), 0 media file(s), 0 artifact file(s) and 0 other file(s)"
      ],
      "text/plain": [
       "<IPython.core.display.HTML object>"
      ]
     },
     "metadata": {},
     "output_type": "display_data"
    },
    {
     "data": {
      "text/html": [
       "\n",
       "                    <br/>Synced <strong style=\"color:#cdcd00\">hello</strong>: <a href=\"https://wandb.ai/notarchana/CS6910-A1/runs/nem6qgjw\" target=\"_blank\">https://wandb.ai/notarchana/CS6910-A1/runs/nem6qgjw</a><br/>\n",
       "                "
      ],
      "text/plain": [
       "<IPython.core.display.HTML object>"
      ]
     },
     "metadata": {},
     "output_type": "display_data"
    },
    {
     "name": "stderr",
     "output_type": "stream",
     "text": [
      "\u001b[34m\u001b[1mwandb\u001b[0m: Agent Starting Run: 4j6b79lq with config:\n",
      "\u001b[34m\u001b[1mwandb\u001b[0m: \tactivation: tanh\n",
      "\u001b[34m\u001b[1mwandb\u001b[0m: \tbatch_size: 64\n",
      "\u001b[34m\u001b[1mwandb\u001b[0m: \tepochs: 10\n",
      "\u001b[34m\u001b[1mwandb\u001b[0m: \thidden_layer_size: 32\n",
      "\u001b[34m\u001b[1mwandb\u001b[0m: \thidden_layers: 3\n",
      "\u001b[34m\u001b[1mwandb\u001b[0m: \tlr: 0.0001\n",
      "\u001b[34m\u001b[1mwandb\u001b[0m: \toptimiser: nesterov\n",
      "\u001b[34m\u001b[1mwandb\u001b[0m: \tweight_decay: 0.5\n",
      "\u001b[34m\u001b[1mwandb\u001b[0m: \tweight_init: xavier\n"
     ]
    },
    {
     "data": {
      "text/html": [
       "\n",
       "                Tracking run with wandb version 0.10.22<br/>\n",
       "                Syncing run <strong style=\"color:#cdcd00\">hello</strong> to <a href=\"https://wandb.ai\" target=\"_blank\">Weights & Biases</a> <a href=\"https://docs.wandb.com/integrations/jupyter.html\" target=\"_blank\">(Documentation)</a>.<br/>\n",
       "                Project page: <a href=\"https://wandb.ai/notarchana/CS6910-A1\" target=\"_blank\">https://wandb.ai/notarchana/CS6910-A1</a><br/>\n",
       "                Sweep page: <a href=\"https://wandb.ai/notarchana/CS6910-A1/sweeps/wnukyq05\" target=\"_blank\">https://wandb.ai/notarchana/CS6910-A1/sweeps/wnukyq05</a><br/>\n",
       "Run page: <a href=\"https://wandb.ai/notarchana/CS6910-A1/runs/4j6b79lq\" target=\"_blank\">https://wandb.ai/notarchana/CS6910-A1/runs/4j6b79lq</a><br/>\n",
       "                Run data is saved locally in <code>/home/krishna/iit/sem6/dl/wandb/run-20210312_125020-4j6b79lq</code><br/><br/>\n",
       "            "
      ],
      "text/plain": [
       "<IPython.core.display.HTML object>"
      ]
     },
     "metadata": {},
     "output_type": "display_data"
    },
    {
     "name": "stderr",
     "output_type": "stream",
     "text": [
      "\u001b[34m\u001b[1mwandb\u001b[0m: \u001b[33mWARNING\u001b[0m Calling run.save without any arguments is deprecated.Changes to attributes are automatically persisted.\n"
     ]
    },
    {
     "name": "stdout",
     "output_type": "stream",
     "text": [
      "model building done\n",
      "Epoch 0 done: Loss = 0.0435067925677328\n",
      "Epoch 1 done: Loss = 0.04103011107802676\n",
      "Epoch 2 done: Loss = 0.038629479338767654\n",
      "Epoch 3 done: Loss = 0.036475391948782264\n",
      "Epoch 4 done: Loss = 0.03465862964281119\n",
      "Epoch 5 done: Loss = 0.03309298232153686\n",
      "Epoch 6 done: Loss = 0.03165815211645578\n",
      "Epoch 7 done: Loss = 0.03029375647173812\n",
      "Epoch 8 done: Loss = 0.028995333600691443\n",
      "Epoch 9 done: Loss = 0.027779678216120395\n",
      "model training done\n"
     ]
    },
    {
     "data": {
      "text/html": [
       "<br/>Waiting for W&B process to finish, PID 104729<br/>Program ended successfully."
      ],
      "text/plain": [
       "<IPython.core.display.HTML object>"
      ]
     },
     "metadata": {},
     "output_type": "display_data"
    },
    {
     "data": {
      "application/vnd.jupyter.widget-view+json": {
       "model_id": "",
       "version_major": 2,
       "version_minor": 0
      },
      "text/plain": [
       "VBox(children=(Label(value=' 0.00MB of 0.00MB uploaded (0.00MB deduped)\\r'), FloatProgress(value=1.0, max=1.0)…"
      ]
     },
     "metadata": {},
     "output_type": "display_data"
    },
    {
     "data": {
      "text/html": [
       "Find user logs for this run at: <code>/home/krishna/iit/sem6/dl/wandb/run-20210312_125020-4j6b79lq/logs/debug.log</code>"
      ],
      "text/plain": [
       "<IPython.core.display.HTML object>"
      ]
     },
     "metadata": {},
     "output_type": "display_data"
    },
    {
     "data": {
      "text/html": [
       "Find internal logs for this run at: <code>/home/krishna/iit/sem6/dl/wandb/run-20210312_125020-4j6b79lq/logs/debug-internal.log</code>"
      ],
      "text/plain": [
       "<IPython.core.display.HTML object>"
      ]
     },
     "metadata": {},
     "output_type": "display_data"
    },
    {
     "data": {
      "text/html": [
       "<h3>Run summary:</h3><br/><style>\n",
       "    table.wandb td:nth-child(1) { padding: 0 10px; text-align: right }\n",
       "    </style><table class=\"wandb\">\n",
       "<tr><td>train accuracy</td><td>0.63228</td></tr><tr><td>validation accuracy</td><td>0.62867</td></tr><tr><td>train loss</td><td>0.02778</td></tr><tr><td>val loss</td><td>0.02781</td></tr><tr><td>_runtime</td><td>19</td></tr><tr><td>_timestamp</td><td>1615533639</td></tr><tr><td>_step</td><td>9</td></tr></table>"
      ],
      "text/plain": [
       "<IPython.core.display.HTML object>"
      ]
     },
     "metadata": {},
     "output_type": "display_data"
    },
    {
     "data": {
      "text/html": [
       "<h3>Run history:</h3><br/><style>\n",
       "    table.wandb td:nth-child(1) { padding: 0 10px; text-align: right }\n",
       "    </style><table class=\"wandb\">\n",
       "<tr><td>train accuracy</td><td>▁▃▄▅▅▆▇▇██</td></tr><tr><td>validation accuracy</td><td>▁▃▄▅▅▆▇▇██</td></tr><tr><td>train loss</td><td>█▇▆▅▄▃▃▂▂▁</td></tr><tr><td>val loss</td><td>█▇▆▅▄▃▃▂▂▁</td></tr><tr><td>_runtime</td><td>▁▁▃▃▄▅▅▇▇█</td></tr><tr><td>_timestamp</td><td>▁▁▃▃▄▅▅▇▇█</td></tr><tr><td>_step</td><td>▁▂▃▃▄▅▆▆▇█</td></tr></table><br/>"
      ],
      "text/plain": [
       "<IPython.core.display.HTML object>"
      ]
     },
     "metadata": {},
     "output_type": "display_data"
    },
    {
     "data": {
      "text/html": [
       "Synced 5 W&B file(s), 0 media file(s), 0 artifact file(s) and 0 other file(s)"
      ],
      "text/plain": [
       "<IPython.core.display.HTML object>"
      ]
     },
     "metadata": {},
     "output_type": "display_data"
    },
    {
     "data": {
      "text/html": [
       "\n",
       "                    <br/>Synced <strong style=\"color:#cdcd00\">hello</strong>: <a href=\"https://wandb.ai/notarchana/CS6910-A1/runs/4j6b79lq\" target=\"_blank\">https://wandb.ai/notarchana/CS6910-A1/runs/4j6b79lq</a><br/>\n",
       "                "
      ],
      "text/plain": [
       "<IPython.core.display.HTML object>"
      ]
     },
     "metadata": {},
     "output_type": "display_data"
    },
    {
     "name": "stderr",
     "output_type": "stream",
     "text": [
      "\u001b[34m\u001b[1mwandb\u001b[0m: Agent Starting Run: 8xeejt05 with config:\n",
      "\u001b[34m\u001b[1mwandb\u001b[0m: \tactivation: relu\n",
      "\u001b[34m\u001b[1mwandb\u001b[0m: \tbatch_size: 32\n",
      "\u001b[34m\u001b[1mwandb\u001b[0m: \tepochs: 5\n",
      "\u001b[34m\u001b[1mwandb\u001b[0m: \thidden_layer_size: 32\n",
      "\u001b[34m\u001b[1mwandb\u001b[0m: \thidden_layers: 5\n",
      "\u001b[34m\u001b[1mwandb\u001b[0m: \tlr: 0.0001\n",
      "\u001b[34m\u001b[1mwandb\u001b[0m: \toptimiser: rmsprop\n",
      "\u001b[34m\u001b[1mwandb\u001b[0m: \tweight_decay: 0\n",
      "\u001b[34m\u001b[1mwandb\u001b[0m: \tweight_init: xavier\n"
     ]
    },
    {
     "data": {
      "text/html": [
       "\n",
       "                Tracking run with wandb version 0.10.22<br/>\n",
       "                Syncing run <strong style=\"color:#cdcd00\">hello</strong> to <a href=\"https://wandb.ai\" target=\"_blank\">Weights & Biases</a> <a href=\"https://docs.wandb.com/integrations/jupyter.html\" target=\"_blank\">(Documentation)</a>.<br/>\n",
       "                Project page: <a href=\"https://wandb.ai/notarchana/CS6910-A1\" target=\"_blank\">https://wandb.ai/notarchana/CS6910-A1</a><br/>\n",
       "                Sweep page: <a href=\"https://wandb.ai/notarchana/CS6910-A1/sweeps/wnukyq05\" target=\"_blank\">https://wandb.ai/notarchana/CS6910-A1/sweeps/wnukyq05</a><br/>\n",
       "Run page: <a href=\"https://wandb.ai/notarchana/CS6910-A1/runs/8xeejt05\" target=\"_blank\">https://wandb.ai/notarchana/CS6910-A1/runs/8xeejt05</a><br/>\n",
       "                Run data is saved locally in <code>/home/krishna/iit/sem6/dl/wandb/run-20210312_125049-8xeejt05</code><br/><br/>\n",
       "            "
      ],
      "text/plain": [
       "<IPython.core.display.HTML object>"
      ]
     },
     "metadata": {},
     "output_type": "display_data"
    },
    {
     "name": "stderr",
     "output_type": "stream",
     "text": [
      "\u001b[34m\u001b[1mwandb\u001b[0m: \u001b[33mWARNING\u001b[0m Calling run.save without any arguments is deprecated.Changes to attributes are automatically persisted.\n"
     ]
    },
    {
     "name": "stdout",
     "output_type": "stream",
     "text": [
      "model building done\n",
      "Epoch 0 done: Loss = 0.015718910349101018\n",
      "Epoch 1 done: Loss = 0.013122713433678072\n",
      "Epoch 2 done: Loss = 0.012074720040693834\n",
      "Epoch 3 done: Loss = 0.011474003358512645\n",
      "Epoch 4 done: Loss = 0.011074371708460217\n",
      "model training done\n"
     ]
    },
    {
     "data": {
      "text/html": [
       "<br/>Waiting for W&B process to finish, PID 104761<br/>Program ended successfully."
      ],
      "text/plain": [
       "<IPython.core.display.HTML object>"
      ]
     },
     "metadata": {},
     "output_type": "display_data"
    },
    {
     "data": {
      "application/vnd.jupyter.widget-view+json": {
       "model_id": "",
       "version_major": 2,
       "version_minor": 0
      },
      "text/plain": [
       "VBox(children=(Label(value=' 0.00MB of 0.00MB uploaded (0.00MB deduped)\\r'), FloatProgress(value=1.0, max=1.0)…"
      ]
     },
     "metadata": {},
     "output_type": "display_data"
    },
    {
     "data": {
      "text/html": [
       "Find user logs for this run at: <code>/home/krishna/iit/sem6/dl/wandb/run-20210312_125049-8xeejt05/logs/debug.log</code>"
      ],
      "text/plain": [
       "<IPython.core.display.HTML object>"
      ]
     },
     "metadata": {},
     "output_type": "display_data"
    },
    {
     "data": {
      "text/html": [
       "Find internal logs for this run at: <code>/home/krishna/iit/sem6/dl/wandb/run-20210312_125049-8xeejt05/logs/debug-internal.log</code>"
      ],
      "text/plain": [
       "<IPython.core.display.HTML object>"
      ]
     },
     "metadata": {},
     "output_type": "display_data"
    },
    {
     "data": {
      "text/html": [
       "<h3>Run summary:</h3><br/><style>\n",
       "    table.wandb td:nth-child(1) { padding: 0 10px; text-align: right }\n",
       "    </style><table class=\"wandb\">\n",
       "<tr><td>train accuracy</td><td>0.8503</td></tr><tr><td>validation accuracy</td><td>0.84267</td></tr><tr><td>train loss</td><td>0.01107</td></tr><tr><td>val loss</td><td>0.01159</td></tr><tr><td>_runtime</td><td>13</td></tr><tr><td>_timestamp</td><td>1615533662</td></tr><tr><td>_step</td><td>4</td></tr></table>"
      ],
      "text/plain": [
       "<IPython.core.display.HTML object>"
      ]
     },
     "metadata": {},
     "output_type": "display_data"
    },
    {
     "data": {
      "text/html": [
       "<h3>Run history:</h3><br/><style>\n",
       "    table.wandb td:nth-child(1) { padding: 0 10px; text-align: right }\n",
       "    </style><table class=\"wandb\">\n",
       "<tr><td>train accuracy</td><td>▁▅▆▇█</td></tr><tr><td>validation accuracy</td><td>▁▅▇██</td></tr><tr><td>train loss</td><td>█▄▃▂▁</td></tr><tr><td>val loss</td><td>█▄▂▂▁</td></tr><tr><td>_runtime</td><td>▁▃▅▆█</td></tr><tr><td>_timestamp</td><td>▁▃▅▆█</td></tr><tr><td>_step</td><td>▁▃▅▆█</td></tr></table><br/>"
      ],
      "text/plain": [
       "<IPython.core.display.HTML object>"
      ]
     },
     "metadata": {},
     "output_type": "display_data"
    },
    {
     "data": {
      "text/html": [
       "Synced 5 W&B file(s), 0 media file(s), 0 artifact file(s) and 0 other file(s)"
      ],
      "text/plain": [
       "<IPython.core.display.HTML object>"
      ]
     },
     "metadata": {},
     "output_type": "display_data"
    },
    {
     "data": {
      "text/html": [
       "\n",
       "                    <br/>Synced <strong style=\"color:#cdcd00\">hello</strong>: <a href=\"https://wandb.ai/notarchana/CS6910-A1/runs/8xeejt05\" target=\"_blank\">https://wandb.ai/notarchana/CS6910-A1/runs/8xeejt05</a><br/>\n",
       "                "
      ],
      "text/plain": [
       "<IPython.core.display.HTML object>"
      ]
     },
     "metadata": {},
     "output_type": "display_data"
    },
    {
     "name": "stderr",
     "output_type": "stream",
     "text": [
      "\u001b[34m\u001b[1mwandb\u001b[0m: Agent Starting Run: eyf66h2g with config:\n",
      "\u001b[34m\u001b[1mwandb\u001b[0m: \tactivation: relu\n",
      "\u001b[34m\u001b[1mwandb\u001b[0m: \tbatch_size: 64\n",
      "\u001b[34m\u001b[1mwandb\u001b[0m: \tepochs: 5\n",
      "\u001b[34m\u001b[1mwandb\u001b[0m: \thidden_layer_size: 64\n",
      "\u001b[34m\u001b[1mwandb\u001b[0m: \thidden_layers: 3\n",
      "\u001b[34m\u001b[1mwandb\u001b[0m: \tlr: 0.0001\n",
      "\u001b[34m\u001b[1mwandb\u001b[0m: \toptimiser: rmsprop\n",
      "\u001b[34m\u001b[1mwandb\u001b[0m: \tweight_decay: 0.0005\n",
      "\u001b[34m\u001b[1mwandb\u001b[0m: \tweight_init: xavier\n"
     ]
    },
    {
     "data": {
      "text/html": [
       "\n",
       "                Tracking run with wandb version 0.10.22<br/>\n",
       "                Syncing run <strong style=\"color:#cdcd00\">hello</strong> to <a href=\"https://wandb.ai\" target=\"_blank\">Weights & Biases</a> <a href=\"https://docs.wandb.com/integrations/jupyter.html\" target=\"_blank\">(Documentation)</a>.<br/>\n",
       "                Project page: <a href=\"https://wandb.ai/notarchana/CS6910-A1\" target=\"_blank\">https://wandb.ai/notarchana/CS6910-A1</a><br/>\n",
       "                Sweep page: <a href=\"https://wandb.ai/notarchana/CS6910-A1/sweeps/wnukyq05\" target=\"_blank\">https://wandb.ai/notarchana/CS6910-A1/sweeps/wnukyq05</a><br/>\n",
       "Run page: <a href=\"https://wandb.ai/notarchana/CS6910-A1/runs/eyf66h2g\" target=\"_blank\">https://wandb.ai/notarchana/CS6910-A1/runs/eyf66h2g</a><br/>\n",
       "                Run data is saved locally in <code>/home/krishna/iit/sem6/dl/wandb/run-20210312_125109-eyf66h2g</code><br/><br/>\n",
       "            "
      ],
      "text/plain": [
       "<IPython.core.display.HTML object>"
      ]
     },
     "metadata": {},
     "output_type": "display_data"
    },
    {
     "name": "stderr",
     "output_type": "stream",
     "text": [
      "\u001b[34m\u001b[1mwandb\u001b[0m: \u001b[33mWARNING\u001b[0m Calling run.save without any arguments is deprecated.Changes to attributes are automatically persisted.\n"
     ]
    },
    {
     "name": "stdout",
     "output_type": "stream",
     "text": [
      "model building done\n",
      "Epoch 0 done: Loss = 0.01479265228536837\n",
      "Epoch 1 done: Loss = 0.012250673562194277\n",
      "Epoch 2 done: Loss = 0.011277231808840986\n",
      "Epoch 3 done: Loss = 0.010726755195768857\n",
      "Epoch 4 done: Loss = 0.01034305877190233\n",
      "model training done\n"
     ]
    },
    {
     "data": {
      "text/html": [
       "<br/>Waiting for W&B process to finish, PID 104790<br/>Program ended successfully."
      ],
      "text/plain": [
       "<IPython.core.display.HTML object>"
      ]
     },
     "metadata": {},
     "output_type": "display_data"
    },
    {
     "data": {
      "application/vnd.jupyter.widget-view+json": {
       "model_id": "",
       "version_major": 2,
       "version_minor": 0
      },
      "text/plain": [
       "VBox(children=(Label(value=' 0.00MB of 0.00MB uploaded (0.00MB deduped)\\r'), FloatProgress(value=1.0, max=1.0)…"
      ]
     },
     "metadata": {},
     "output_type": "display_data"
    },
    {
     "data": {
      "text/html": [
       "Find user logs for this run at: <code>/home/krishna/iit/sem6/dl/wandb/run-20210312_125109-eyf66h2g/logs/debug.log</code>"
      ],
      "text/plain": [
       "<IPython.core.display.HTML object>"
      ]
     },
     "metadata": {},
     "output_type": "display_data"
    },
    {
     "data": {
      "text/html": [
       "Find internal logs for this run at: <code>/home/krishna/iit/sem6/dl/wandb/run-20210312_125109-eyf66h2g/logs/debug-internal.log</code>"
      ],
      "text/plain": [
       "<IPython.core.display.HTML object>"
      ]
     },
     "metadata": {},
     "output_type": "display_data"
    },
    {
     "data": {
      "text/html": [
       "<h3>Run summary:</h3><br/><style>\n",
       "    table.wandb td:nth-child(1) { padding: 0 10px; text-align: right }\n",
       "    </style><table class=\"wandb\">\n",
       "<tr><td>train accuracy</td><td>0.85854</td></tr><tr><td>validation accuracy</td><td>0.85133</td></tr><tr><td>train loss</td><td>0.01034</td></tr><tr><td>val loss</td><td>0.01083</td></tr><tr><td>_runtime</td><td>10</td></tr><tr><td>_timestamp</td><td>1615533679</td></tr><tr><td>_step</td><td>4</td></tr></table>"
      ],
      "text/plain": [
       "<IPython.core.display.HTML object>"
      ]
     },
     "metadata": {},
     "output_type": "display_data"
    },
    {
     "data": {
      "text/html": [
       "<h3>Run history:</h3><br/><style>\n",
       "    table.wandb td:nth-child(1) { padding: 0 10px; text-align: right }\n",
       "    </style><table class=\"wandb\">\n",
       "<tr><td>train accuracy</td><td>▁▅▆▇█</td></tr><tr><td>validation accuracy</td><td>▁▅▇▇█</td></tr><tr><td>train loss</td><td>█▄▂▂▁</td></tr><tr><td>val loss</td><td>█▄▂▂▁</td></tr><tr><td>_runtime</td><td>▁▃▅▇█</td></tr><tr><td>_timestamp</td><td>▁▃▅▇█</td></tr><tr><td>_step</td><td>▁▃▅▆█</td></tr></table><br/>"
      ],
      "text/plain": [
       "<IPython.core.display.HTML object>"
      ]
     },
     "metadata": {},
     "output_type": "display_data"
    },
    {
     "data": {
      "text/html": [
       "Synced 5 W&B file(s), 0 media file(s), 0 artifact file(s) and 0 other file(s)"
      ],
      "text/plain": [
       "<IPython.core.display.HTML object>"
      ]
     },
     "metadata": {},
     "output_type": "display_data"
    },
    {
     "data": {
      "text/html": [
       "\n",
       "                    <br/>Synced <strong style=\"color:#cdcd00\">hello</strong>: <a href=\"https://wandb.ai/notarchana/CS6910-A1/runs/eyf66h2g\" target=\"_blank\">https://wandb.ai/notarchana/CS6910-A1/runs/eyf66h2g</a><br/>\n",
       "                "
      ],
      "text/plain": [
       "<IPython.core.display.HTML object>"
      ]
     },
     "metadata": {},
     "output_type": "display_data"
    },
    {
     "name": "stderr",
     "output_type": "stream",
     "text": [
      "\u001b[34m\u001b[1mwandb\u001b[0m: Agent Starting Run: dh1xm9x8 with config:\n",
      "\u001b[34m\u001b[1mwandb\u001b[0m: \tactivation: sigmoid\n",
      "\u001b[34m\u001b[1mwandb\u001b[0m: \tbatch_size: 16\n",
      "\u001b[34m\u001b[1mwandb\u001b[0m: \tepochs: 5\n",
      "\u001b[34m\u001b[1mwandb\u001b[0m: \thidden_layer_size: 64\n",
      "\u001b[34m\u001b[1mwandb\u001b[0m: \thidden_layers: 3\n",
      "\u001b[34m\u001b[1mwandb\u001b[0m: \tlr: 0.001\n",
      "\u001b[34m\u001b[1mwandb\u001b[0m: \toptimiser: adam\n",
      "\u001b[34m\u001b[1mwandb\u001b[0m: \tweight_decay: 0.5\n",
      "\u001b[34m\u001b[1mwandb\u001b[0m: \tweight_init: xavier\n"
     ]
    },
    {
     "data": {
      "text/html": [
       "\n",
       "                Tracking run with wandb version 0.10.22<br/>\n",
       "                Syncing run <strong style=\"color:#cdcd00\">hello</strong> to <a href=\"https://wandb.ai\" target=\"_blank\">Weights & Biases</a> <a href=\"https://docs.wandb.com/integrations/jupyter.html\" target=\"_blank\">(Documentation)</a>.<br/>\n",
       "                Project page: <a href=\"https://wandb.ai/notarchana/CS6910-A1\" target=\"_blank\">https://wandb.ai/notarchana/CS6910-A1</a><br/>\n",
       "                Sweep page: <a href=\"https://wandb.ai/notarchana/CS6910-A1/sweeps/wnukyq05\" target=\"_blank\">https://wandb.ai/notarchana/CS6910-A1/sweeps/wnukyq05</a><br/>\n",
       "Run page: <a href=\"https://wandb.ai/notarchana/CS6910-A1/runs/dh1xm9x8\" target=\"_blank\">https://wandb.ai/notarchana/CS6910-A1/runs/dh1xm9x8</a><br/>\n",
       "                Run data is saved locally in <code>/home/krishna/iit/sem6/dl/wandb/run-20210312_125130-dh1xm9x8</code><br/><br/>\n",
       "            "
      ],
      "text/plain": [
       "<IPython.core.display.HTML object>"
      ]
     },
     "metadata": {},
     "output_type": "display_data"
    },
    {
     "name": "stderr",
     "output_type": "stream",
     "text": [
      "\u001b[34m\u001b[1mwandb\u001b[0m: \u001b[33mWARNING\u001b[0m Calling run.save without any arguments is deprecated.Changes to attributes are automatically persisted.\n"
     ]
    },
    {
     "name": "stdout",
     "output_type": "stream",
     "text": [
      "model building done\n",
      "Epoch 0 done: Loss = 0.012565830898914566\n",
      "Epoch 1 done: Loss = 0.011034947661899979\n",
      "Epoch 2 done: Loss = 0.010349887676078102\n",
      "Epoch 3 done: Loss = 0.009905886581554432\n",
      "Epoch 4 done: Loss = 0.009579206884168467\n",
      "model training done\n"
     ]
    },
    {
     "data": {
      "text/html": [
       "<br/>Waiting for W&B process to finish, PID 104845<br/>Program ended successfully."
      ],
      "text/plain": [
       "<IPython.core.display.HTML object>"
      ]
     },
     "metadata": {},
     "output_type": "display_data"
    },
    {
     "data": {
      "application/vnd.jupyter.widget-view+json": {
       "model_id": "",
       "version_major": 2,
       "version_minor": 0
      },
      "text/plain": [
       "VBox(children=(Label(value=' 0.00MB of 0.00MB uploaded (0.00MB deduped)\\r'), FloatProgress(value=1.0, max=1.0)…"
      ]
     },
     "metadata": {},
     "output_type": "display_data"
    },
    {
     "data": {
      "text/html": [
       "Find user logs for this run at: <code>/home/krishna/iit/sem6/dl/wandb/run-20210312_125130-dh1xm9x8/logs/debug.log</code>"
      ],
      "text/plain": [
       "<IPython.core.display.HTML object>"
      ]
     },
     "metadata": {},
     "output_type": "display_data"
    },
    {
     "data": {
      "text/html": [
       "Find internal logs for this run at: <code>/home/krishna/iit/sem6/dl/wandb/run-20210312_125130-dh1xm9x8/logs/debug-internal.log</code>"
      ],
      "text/plain": [
       "<IPython.core.display.HTML object>"
      ]
     },
     "metadata": {},
     "output_type": "display_data"
    },
    {
     "data": {
      "text/html": [
       "<h3>Run summary:</h3><br/><style>\n",
       "    table.wandb td:nth-child(1) { padding: 0 10px; text-align: right }\n",
       "    </style><table class=\"wandb\">\n",
       "<tr><td>train accuracy</td><td>0.8693</td></tr><tr><td>validation accuracy</td><td>0.867</td></tr><tr><td>train loss</td><td>0.00958</td></tr><tr><td>val loss</td><td>0.00954</td></tr><tr><td>_runtime</td><td>34</td></tr><tr><td>_timestamp</td><td>1615533724</td></tr><tr><td>_step</td><td>4</td></tr></table>"
      ],
      "text/plain": [
       "<IPython.core.display.HTML object>"
      ]
     },
     "metadata": {},
     "output_type": "display_data"
    },
    {
     "data": {
      "text/html": [
       "<h3>Run history:</h3><br/><style>\n",
       "    table.wandb td:nth-child(1) { padding: 0 10px; text-align: right }\n",
       "    </style><table class=\"wandb\">\n",
       "<tr><td>train accuracy</td><td>▁▄▆▇█</td></tr><tr><td>validation accuracy</td><td>▁▅▆▇█</td></tr><tr><td>train loss</td><td>█▄▃▂▁</td></tr><tr><td>val loss</td><td>█▄▃▂▁</td></tr><tr><td>_runtime</td><td>▁▃▅▆█</td></tr><tr><td>_timestamp</td><td>▁▃▅▆█</td></tr><tr><td>_step</td><td>▁▃▅▆█</td></tr></table><br/>"
      ],
      "text/plain": [
       "<IPython.core.display.HTML object>"
      ]
     },
     "metadata": {},
     "output_type": "display_data"
    },
    {
     "data": {
      "text/html": [
       "Synced 5 W&B file(s), 0 media file(s), 0 artifact file(s) and 0 other file(s)"
      ],
      "text/plain": [
       "<IPython.core.display.HTML object>"
      ]
     },
     "metadata": {},
     "output_type": "display_data"
    },
    {
     "data": {
      "text/html": [
       "\n",
       "                    <br/>Synced <strong style=\"color:#cdcd00\">hello</strong>: <a href=\"https://wandb.ai/notarchana/CS6910-A1/runs/dh1xm9x8\" target=\"_blank\">https://wandb.ai/notarchana/CS6910-A1/runs/dh1xm9x8</a><br/>\n",
       "                "
      ],
      "text/plain": [
       "<IPython.core.display.HTML object>"
      ]
     },
     "metadata": {},
     "output_type": "display_data"
    },
    {
     "name": "stderr",
     "output_type": "stream",
     "text": [
      "\u001b[34m\u001b[1mwandb\u001b[0m: Agent Starting Run: uo7twmqh with config:\n",
      "\u001b[34m\u001b[1mwandb\u001b[0m: \tactivation: relu\n",
      "\u001b[34m\u001b[1mwandb\u001b[0m: \tbatch_size: 16\n",
      "\u001b[34m\u001b[1mwandb\u001b[0m: \tepochs: 5\n",
      "\u001b[34m\u001b[1mwandb\u001b[0m: \thidden_layer_size: 32\n",
      "\u001b[34m\u001b[1mwandb\u001b[0m: \thidden_layers: 5\n",
      "\u001b[34m\u001b[1mwandb\u001b[0m: \tlr: 0.0001\n",
      "\u001b[34m\u001b[1mwandb\u001b[0m: \toptimiser: momentum\n",
      "\u001b[34m\u001b[1mwandb\u001b[0m: \tweight_decay: 0.5\n",
      "\u001b[34m\u001b[1mwandb\u001b[0m: \tweight_init: xavier\n"
     ]
    },
    {
     "data": {
      "text/html": [
       "\n",
       "                Tracking run with wandb version 0.10.22<br/>\n",
       "                Syncing run <strong style=\"color:#cdcd00\">hello</strong> to <a href=\"https://wandb.ai\" target=\"_blank\">Weights & Biases</a> <a href=\"https://docs.wandb.com/integrations/jupyter.html\" target=\"_blank\">(Documentation)</a>.<br/>\n",
       "                Project page: <a href=\"https://wandb.ai/notarchana/CS6910-A1\" target=\"_blank\">https://wandb.ai/notarchana/CS6910-A1</a><br/>\n",
       "                Sweep page: <a href=\"https://wandb.ai/notarchana/CS6910-A1/sweeps/wnukyq05\" target=\"_blank\">https://wandb.ai/notarchana/CS6910-A1/sweeps/wnukyq05</a><br/>\n",
       "Run page: <a href=\"https://wandb.ai/notarchana/CS6910-A1/runs/uo7twmqh\" target=\"_blank\">https://wandb.ai/notarchana/CS6910-A1/runs/uo7twmqh</a><br/>\n",
       "                Run data is saved locally in <code>/home/krishna/iit/sem6/dl/wandb/run-20210312_125211-uo7twmqh</code><br/><br/>\n",
       "            "
      ],
      "text/plain": [
       "<IPython.core.display.HTML object>"
      ]
     },
     "metadata": {},
     "output_type": "display_data"
    },
    {
     "name": "stderr",
     "output_type": "stream",
     "text": [
      "\u001b[34m\u001b[1mwandb\u001b[0m: \u001b[33mWARNING\u001b[0m Calling run.save without any arguments is deprecated.Changes to attributes are automatically persisted.\n"
     ]
    },
    {
     "name": "stdout",
     "output_type": "stream",
     "text": [
      "model building done\n",
      "Epoch 0 done: Loss = 0.017518781585487957\n",
      "Epoch 1 done: Loss = 0.013584769332307817\n",
      "Epoch 2 done: Loss = 0.012196499519496765\n",
      "Epoch 3 done: Loss = 0.011535638044267703\n",
      "Epoch 4 done: Loss = 0.011100037640081368\n",
      "model training done\n"
     ]
    },
    {
     "data": {
      "text/html": [
       "<br/>Waiting for W&B process to finish, PID 104893<br/>Program ended successfully."
      ],
      "text/plain": [
       "<IPython.core.display.HTML object>"
      ]
     },
     "metadata": {},
     "output_type": "display_data"
    },
    {
     "data": {
      "application/vnd.jupyter.widget-view+json": {
       "model_id": "",
       "version_major": 2,
       "version_minor": 0
      },
      "text/plain": [
       "VBox(children=(Label(value=' 0.00MB of 0.00MB uploaded (0.00MB deduped)\\r'), FloatProgress(value=1.0, max=1.0)…"
      ]
     },
     "metadata": {},
     "output_type": "display_data"
    },
    {
     "data": {
      "text/html": [
       "Find user logs for this run at: <code>/home/krishna/iit/sem6/dl/wandb/run-20210312_125211-uo7twmqh/logs/debug.log</code>"
      ],
      "text/plain": [
       "<IPython.core.display.HTML object>"
      ]
     },
     "metadata": {},
     "output_type": "display_data"
    },
    {
     "data": {
      "text/html": [
       "Find internal logs for this run at: <code>/home/krishna/iit/sem6/dl/wandb/run-20210312_125211-uo7twmqh/logs/debug-internal.log</code>"
      ],
      "text/plain": [
       "<IPython.core.display.HTML object>"
      ]
     },
     "metadata": {},
     "output_type": "display_data"
    },
    {
     "data": {
      "text/html": [
       "<h3>Run summary:</h3><br/><style>\n",
       "    table.wandb td:nth-child(1) { padding: 0 10px; text-align: right }\n",
       "    </style><table class=\"wandb\">\n",
       "<tr><td>train accuracy</td><td>0.8488</td></tr><tr><td>validation accuracy</td><td>0.84567</td></tr><tr><td>train loss</td><td>0.0111</td></tr><tr><td>val loss</td><td>0.01127</td></tr><tr><td>_runtime</td><td>15</td></tr><tr><td>_timestamp</td><td>1615533746</td></tr><tr><td>_step</td><td>4</td></tr></table>"
      ],
      "text/plain": [
       "<IPython.core.display.HTML object>"
      ]
     },
     "metadata": {},
     "output_type": "display_data"
    },
    {
     "data": {
      "text/html": [
       "<h3>Run history:</h3><br/><style>\n",
       "    table.wandb td:nth-child(1) { padding: 0 10px; text-align: right }\n",
       "    </style><table class=\"wandb\">\n",
       "<tr><td>train accuracy</td><td>▁▆▇██</td></tr><tr><td>validation accuracy</td><td>▁▅▇██</td></tr><tr><td>train loss</td><td>█▄▂▁▁</td></tr><tr><td>val loss</td><td>█▄▂▁▁</td></tr><tr><td>_runtime</td><td>▁▃▅▇█</td></tr><tr><td>_timestamp</td><td>▁▃▅▇█</td></tr><tr><td>_step</td><td>▁▃▅▆█</td></tr></table><br/>"
      ],
      "text/plain": [
       "<IPython.core.display.HTML object>"
      ]
     },
     "metadata": {},
     "output_type": "display_data"
    },
    {
     "data": {
      "text/html": [
       "Synced 5 W&B file(s), 0 media file(s), 0 artifact file(s) and 0 other file(s)"
      ],
      "text/plain": [
       "<IPython.core.display.HTML object>"
      ]
     },
     "metadata": {},
     "output_type": "display_data"
    },
    {
     "data": {
      "text/html": [
       "\n",
       "                    <br/>Synced <strong style=\"color:#cdcd00\">hello</strong>: <a href=\"https://wandb.ai/notarchana/CS6910-A1/runs/uo7twmqh\" target=\"_blank\">https://wandb.ai/notarchana/CS6910-A1/runs/uo7twmqh</a><br/>\n",
       "                "
      ],
      "text/plain": [
       "<IPython.core.display.HTML object>"
      ]
     },
     "metadata": {},
     "output_type": "display_data"
    },
    {
     "name": "stderr",
     "output_type": "stream",
     "text": [
      "\u001b[34m\u001b[1mwandb\u001b[0m: Agent Starting Run: fr10vnqw with config:\n",
      "\u001b[34m\u001b[1mwandb\u001b[0m: \tactivation: relu\n",
      "\u001b[34m\u001b[1mwandb\u001b[0m: \tbatch_size: 64\n",
      "\u001b[34m\u001b[1mwandb\u001b[0m: \tepochs: 10\n",
      "\u001b[34m\u001b[1mwandb\u001b[0m: \thidden_layer_size: 64\n",
      "\u001b[34m\u001b[1mwandb\u001b[0m: \thidden_layers: 4\n",
      "\u001b[34m\u001b[1mwandb\u001b[0m: \tlr: 0.001\n",
      "\u001b[34m\u001b[1mwandb\u001b[0m: \toptimiser: momentum\n",
      "\u001b[34m\u001b[1mwandb\u001b[0m: \tweight_decay: 0.5\n",
      "\u001b[34m\u001b[1mwandb\u001b[0m: \tweight_init: xavier\n"
     ]
    },
    {
     "data": {
      "text/html": [
       "\n",
       "                Tracking run with wandb version 0.10.22<br/>\n",
       "                Syncing run <strong style=\"color:#cdcd00\">hello</strong> to <a href=\"https://wandb.ai\" target=\"_blank\">Weights & Biases</a> <a href=\"https://docs.wandb.com/integrations/jupyter.html\" target=\"_blank\">(Documentation)</a>.<br/>\n",
       "                Project page: <a href=\"https://wandb.ai/notarchana/CS6910-A1\" target=\"_blank\">https://wandb.ai/notarchana/CS6910-A1</a><br/>\n",
       "                Sweep page: <a href=\"https://wandb.ai/notarchana/CS6910-A1/sweeps/wnukyq05\" target=\"_blank\">https://wandb.ai/notarchana/CS6910-A1/sweeps/wnukyq05</a><br/>\n",
       "Run page: <a href=\"https://wandb.ai/notarchana/CS6910-A1/runs/fr10vnqw\" target=\"_blank\">https://wandb.ai/notarchana/CS6910-A1/runs/fr10vnqw</a><br/>\n",
       "                Run data is saved locally in <code>/home/krishna/iit/sem6/dl/wandb/run-20210312_125233-fr10vnqw</code><br/><br/>\n",
       "            "
      ],
      "text/plain": [
       "<IPython.core.display.HTML object>"
      ]
     },
     "metadata": {},
     "output_type": "display_data"
    },
    {
     "name": "stderr",
     "output_type": "stream",
     "text": [
      "\u001b[34m\u001b[1mwandb\u001b[0m: \u001b[33mWARNING\u001b[0m Calling run.save without any arguments is deprecated.Changes to attributes are automatically persisted.\n"
     ]
    },
    {
     "name": "stdout",
     "output_type": "stream",
     "text": [
      "model building done\n",
      "Epoch 0 done: Loss = 0.01128507078634088\n",
      "Epoch 1 done: Loss = 0.010612831817665428\n",
      "Epoch 2 done: Loss = 0.010132359181096347\n",
      "Epoch 3 done: Loss = 0.009410381965764433\n",
      "Epoch 4 done: Loss = 0.009255041060612064\n",
      "Epoch 5 done: Loss = 0.008513720508034783\n",
      "Epoch 6 done: Loss = 0.008565829395076335\n",
      "Epoch 7 done: Loss = 0.00837125127387021\n",
      "Epoch 8 done: Loss = 0.007462272409848961\n",
      "Epoch 9 done: Loss = 0.007645194090331916\n",
      "model training done\n"
     ]
    },
    {
     "data": {
      "text/html": [
       "<br/>Waiting for W&B process to finish, PID 104925<br/>Program ended successfully."
      ],
      "text/plain": [
       "<IPython.core.display.HTML object>"
      ]
     },
     "metadata": {},
     "output_type": "display_data"
    },
    {
     "data": {
      "application/vnd.jupyter.widget-view+json": {
       "model_id": "",
       "version_major": 2,
       "version_minor": 0
      },
      "text/plain": [
       "VBox(children=(Label(value=' 0.00MB of 0.00MB uploaded (0.00MB deduped)\\r'), FloatProgress(value=1.0, max=1.0)…"
      ]
     },
     "metadata": {},
     "output_type": "display_data"
    },
    {
     "data": {
      "text/html": [
       "Find user logs for this run at: <code>/home/krishna/iit/sem6/dl/wandb/run-20210312_125233-fr10vnqw/logs/debug.log</code>"
      ],
      "text/plain": [
       "<IPython.core.display.HTML object>"
      ]
     },
     "metadata": {},
     "output_type": "display_data"
    },
    {
     "data": {
      "text/html": [
       "Find internal logs for this run at: <code>/home/krishna/iit/sem6/dl/wandb/run-20210312_125233-fr10vnqw/logs/debug-internal.log</code>"
      ],
      "text/plain": [
       "<IPython.core.display.HTML object>"
      ]
     },
     "metadata": {},
     "output_type": "display_data"
    },
    {
     "data": {
      "text/html": [
       "<h3>Run summary:</h3><br/><style>\n",
       "    table.wandb td:nth-child(1) { padding: 0 10px; text-align: right }\n",
       "    </style><table class=\"wandb\">\n",
       "<tr><td>train accuracy</td><td>0.89585</td></tr><tr><td>validation accuracy</td><td>0.87733</td></tr><tr><td>train loss</td><td>0.00765</td></tr><tr><td>val loss</td><td>0.00884</td></tr><tr><td>_runtime</td><td>20</td></tr><tr><td>_timestamp</td><td>1615533773</td></tr><tr><td>_step</td><td>9</td></tr></table>"
      ],
      "text/plain": [
       "<IPython.core.display.HTML object>"
      ]
     },
     "metadata": {},
     "output_type": "display_data"
    },
    {
     "data": {
      "text/html": [
       "<h3>Run history:</h3><br/><style>\n",
       "    table.wandb td:nth-child(1) { padding: 0 10px; text-align: right }\n",
       "    </style><table class=\"wandb\">\n",
       "<tr><td>train accuracy</td><td>▁▂▃▅▅▆▆▆██</td></tr><tr><td>validation accuracy</td><td>▁▂▂▅▄▆▆▆█▇</td></tr><tr><td>train loss</td><td>█▇▆▅▄▃▃▃▁▁</td></tr><tr><td>val loss</td><td>█▇▆▄▄▂▃▃▁▁</td></tr><tr><td>_runtime</td><td>▁▂▃▃▄▅▆▇██</td></tr><tr><td>_timestamp</td><td>▁▂▃▃▄▅▆▇██</td></tr><tr><td>_step</td><td>▁▂▃▃▄▅▆▆▇█</td></tr></table><br/>"
      ],
      "text/plain": [
       "<IPython.core.display.HTML object>"
      ]
     },
     "metadata": {},
     "output_type": "display_data"
    },
    {
     "data": {
      "text/html": [
       "Synced 5 W&B file(s), 0 media file(s), 0 artifact file(s) and 0 other file(s)"
      ],
      "text/plain": [
       "<IPython.core.display.HTML object>"
      ]
     },
     "metadata": {},
     "output_type": "display_data"
    },
    {
     "data": {
      "text/html": [
       "\n",
       "                    <br/>Synced <strong style=\"color:#cdcd00\">hello</strong>: <a href=\"https://wandb.ai/notarchana/CS6910-A1/runs/fr10vnqw\" target=\"_blank\">https://wandb.ai/notarchana/CS6910-A1/runs/fr10vnqw</a><br/>\n",
       "                "
      ],
      "text/plain": [
       "<IPython.core.display.HTML object>"
      ]
     },
     "metadata": {},
     "output_type": "display_data"
    },
    {
     "name": "stderr",
     "output_type": "stream",
     "text": [
      "\u001b[34m\u001b[1mwandb\u001b[0m: Agent Starting Run: 61rvm0my with config:\n",
      "\u001b[34m\u001b[1mwandb\u001b[0m: \tactivation: relu\n",
      "\u001b[34m\u001b[1mwandb\u001b[0m: \tbatch_size: 16\n",
      "\u001b[34m\u001b[1mwandb\u001b[0m: \tepochs: 10\n",
      "\u001b[34m\u001b[1mwandb\u001b[0m: \thidden_layer_size: 32\n",
      "\u001b[34m\u001b[1mwandb\u001b[0m: \thidden_layers: 4\n",
      "\u001b[34m\u001b[1mwandb\u001b[0m: \tlr: 0.0001\n",
      "\u001b[34m\u001b[1mwandb\u001b[0m: \toptimiser: nadam\n",
      "\u001b[34m\u001b[1mwandb\u001b[0m: \tweight_decay: 0.0005\n",
      "\u001b[34m\u001b[1mwandb\u001b[0m: \tweight_init: xavier\n"
     ]
    },
    {
     "data": {
      "text/html": [
       "\n",
       "                Tracking run with wandb version 0.10.22<br/>\n",
       "                Syncing run <strong style=\"color:#cdcd00\">hello</strong> to <a href=\"https://wandb.ai\" target=\"_blank\">Weights & Biases</a> <a href=\"https://docs.wandb.com/integrations/jupyter.html\" target=\"_blank\">(Documentation)</a>.<br/>\n",
       "                Project page: <a href=\"https://wandb.ai/notarchana/CS6910-A1\" target=\"_blank\">https://wandb.ai/notarchana/CS6910-A1</a><br/>\n",
       "                Sweep page: <a href=\"https://wandb.ai/notarchana/CS6910-A1/sweeps/wnukyq05\" target=\"_blank\">https://wandb.ai/notarchana/CS6910-A1/sweeps/wnukyq05</a><br/>\n",
       "Run page: <a href=\"https://wandb.ai/notarchana/CS6910-A1/runs/61rvm0my\" target=\"_blank\">https://wandb.ai/notarchana/CS6910-A1/runs/61rvm0my</a><br/>\n",
       "                Run data is saved locally in <code>/home/krishna/iit/sem6/dl/wandb/run-20210312_125305-61rvm0my</code><br/><br/>\n",
       "            "
      ],
      "text/plain": [
       "<IPython.core.display.HTML object>"
      ]
     },
     "metadata": {},
     "output_type": "display_data"
    },
    {
     "name": "stderr",
     "output_type": "stream",
     "text": [
      "\u001b[34m\u001b[1mwandb\u001b[0m: \u001b[33mWARNING\u001b[0m Calling run.save without any arguments is deprecated.Changes to attributes are automatically persisted.\n"
     ]
    },
    {
     "name": "stdout",
     "output_type": "stream",
     "text": [
      "model building done\n",
      "Epoch 0 done: Loss = 0.01649755588863637\n",
      "Epoch 1 done: Loss = 0.01466232693452379\n",
      "Epoch 2 done: Loss = 0.01377502338121725\n",
      "Epoch 3 done: Loss = 0.0132179382908968\n",
      "Epoch 4 done: Loss = 0.0128119996723201\n",
      "Epoch 5 done: Loss = 0.012494186234916518\n",
      "Epoch 6 done: Loss = 0.012238387907400401\n",
      "Epoch 7 done: Loss = 0.012017618151379986\n",
      "Epoch 8 done: Loss = 0.011822055634504633\n",
      "Epoch 9 done: Loss = 0.011646008230579178\n",
      "model training done\n"
     ]
    },
    {
     "data": {
      "text/html": [
       "<br/>Waiting for W&B process to finish, PID 104971<br/>Program ended successfully."
      ],
      "text/plain": [
       "<IPython.core.display.HTML object>"
      ]
     },
     "metadata": {},
     "output_type": "display_data"
    },
    {
     "data": {
      "application/vnd.jupyter.widget-view+json": {
       "model_id": "",
       "version_major": 2,
       "version_minor": 0
      },
      "text/plain": [
       "VBox(children=(Label(value=' 0.00MB of 0.00MB uploaded (0.00MB deduped)\\r'), FloatProgress(value=1.0, max=1.0)…"
      ]
     },
     "metadata": {},
     "output_type": "display_data"
    },
    {
     "data": {
      "text/html": [
       "Find user logs for this run at: <code>/home/krishna/iit/sem6/dl/wandb/run-20210312_125305-61rvm0my/logs/debug.log</code>"
      ],
      "text/plain": [
       "<IPython.core.display.HTML object>"
      ]
     },
     "metadata": {},
     "output_type": "display_data"
    },
    {
     "data": {
      "text/html": [
       "Find internal logs for this run at: <code>/home/krishna/iit/sem6/dl/wandb/run-20210312_125305-61rvm0my/logs/debug-internal.log</code>"
      ],
      "text/plain": [
       "<IPython.core.display.HTML object>"
      ]
     },
     "metadata": {},
     "output_type": "display_data"
    },
    {
     "data": {
      "text/html": [
       "<h3>Run summary:</h3><br/><style>\n",
       "    table.wandb td:nth-child(1) { padding: 0 10px; text-align: right }\n",
       "    </style><table class=\"wandb\">\n",
       "<tr><td>train accuracy</td><td>0.84078</td></tr><tr><td>validation accuracy</td><td>0.83683</td></tr><tr><td>train loss</td><td>0.01165</td></tr><tr><td>val loss</td><td>0.01177</td></tr><tr><td>_runtime</td><td>48</td></tr><tr><td>_timestamp</td><td>1615533833</td></tr><tr><td>_step</td><td>9</td></tr></table>"
      ],
      "text/plain": [
       "<IPython.core.display.HTML object>"
      ]
     },
     "metadata": {},
     "output_type": "display_data"
    },
    {
     "data": {
      "text/html": [
       "<h3>Run history:</h3><br/><style>\n",
       "    table.wandb td:nth-child(1) { padding: 0 10px; text-align: right }\n",
       "    </style><table class=\"wandb\">\n",
       "<tr><td>train accuracy</td><td>▁▄▅▆▆▇▇▇██</td></tr><tr><td>validation accuracy</td><td>▁▅▆▇▇▇████</td></tr><tr><td>train loss</td><td>█▅▄▃▃▂▂▂▁▁</td></tr><tr><td>val loss</td><td>█▅▄▃▃▂▂▁▁▁</td></tr><tr><td>_runtime</td><td>▁▂▃▃▄▅▅▆▇█</td></tr><tr><td>_timestamp</td><td>▁▂▃▃▄▅▅▆▇█</td></tr><tr><td>_step</td><td>▁▂▃▃▄▅▆▆▇█</td></tr></table><br/>"
      ],
      "text/plain": [
       "<IPython.core.display.HTML object>"
      ]
     },
     "metadata": {},
     "output_type": "display_data"
    },
    {
     "data": {
      "text/html": [
       "Synced 5 W&B file(s), 0 media file(s), 0 artifact file(s) and 0 other file(s)"
      ],
      "text/plain": [
       "<IPython.core.display.HTML object>"
      ]
     },
     "metadata": {},
     "output_type": "display_data"
    },
    {
     "data": {
      "text/html": [
       "\n",
       "                    <br/>Synced <strong style=\"color:#cdcd00\">hello</strong>: <a href=\"https://wandb.ai/notarchana/CS6910-A1/runs/61rvm0my\" target=\"_blank\">https://wandb.ai/notarchana/CS6910-A1/runs/61rvm0my</a><br/>\n",
       "                "
      ],
      "text/plain": [
       "<IPython.core.display.HTML object>"
      ]
     },
     "metadata": {},
     "output_type": "display_data"
    },
    {
     "name": "stderr",
     "output_type": "stream",
     "text": [
      "\u001b[34m\u001b[1mwandb\u001b[0m: Agent Starting Run: yt5n9oz2 with config:\n",
      "\u001b[34m\u001b[1mwandb\u001b[0m: \tactivation: relu\n",
      "\u001b[34m\u001b[1mwandb\u001b[0m: \tbatch_size: 64\n",
      "\u001b[34m\u001b[1mwandb\u001b[0m: \tepochs: 5\n",
      "\u001b[34m\u001b[1mwandb\u001b[0m: \thidden_layer_size: 128\n",
      "\u001b[34m\u001b[1mwandb\u001b[0m: \thidden_layers: 5\n",
      "\u001b[34m\u001b[1mwandb\u001b[0m: \tlr: 0.001\n",
      "\u001b[34m\u001b[1mwandb\u001b[0m: \toptimiser: nadam\n",
      "\u001b[34m\u001b[1mwandb\u001b[0m: \tweight_decay: 0.5\n",
      "\u001b[34m\u001b[1mwandb\u001b[0m: \tweight_init: xavier\n"
     ]
    },
    {
     "data": {
      "text/html": [
       "\n",
       "                Tracking run with wandb version 0.10.22<br/>\n",
       "                Syncing run <strong style=\"color:#cdcd00\">hello</strong> to <a href=\"https://wandb.ai\" target=\"_blank\">Weights & Biases</a> <a href=\"https://docs.wandb.com/integrations/jupyter.html\" target=\"_blank\">(Documentation)</a>.<br/>\n",
       "                Project page: <a href=\"https://wandb.ai/notarchana/CS6910-A1\" target=\"_blank\">https://wandb.ai/notarchana/CS6910-A1</a><br/>\n",
       "                Sweep page: <a href=\"https://wandb.ai/notarchana/CS6910-A1/sweeps/wnukyq05\" target=\"_blank\">https://wandb.ai/notarchana/CS6910-A1/sweeps/wnukyq05</a><br/>\n",
       "Run page: <a href=\"https://wandb.ai/notarchana/CS6910-A1/runs/yt5n9oz2\" target=\"_blank\">https://wandb.ai/notarchana/CS6910-A1/runs/yt5n9oz2</a><br/>\n",
       "                Run data is saved locally in <code>/home/krishna/iit/sem6/dl/wandb/run-20210312_125400-yt5n9oz2</code><br/><br/>\n",
       "            "
      ],
      "text/plain": [
       "<IPython.core.display.HTML object>"
      ]
     },
     "metadata": {},
     "output_type": "display_data"
    },
    {
     "name": "stderr",
     "output_type": "stream",
     "text": [
      "\u001b[34m\u001b[1mwandb\u001b[0m: \u001b[33mWARNING\u001b[0m Calling run.save without any arguments is deprecated.Changes to attributes are automatically persisted.\n"
     ]
    },
    {
     "name": "stdout",
     "output_type": "stream",
     "text": [
      "model building done\n",
      "Epoch 0 done: Loss = 0.009869403841695941\n",
      "Epoch 1 done: Loss = 0.008766539174626909\n",
      "Epoch 2 done: Loss = 0.008146532641606913\n",
      "Epoch 3 done: Loss = 0.007708197044837757\n",
      "Epoch 4 done: Loss = 0.007476990370687776\n",
      "model training done\n"
     ]
    },
    {
     "data": {
      "text/html": [
       "<br/>Waiting for W&B process to finish, PID 105016<br/>Program ended successfully."
      ],
      "text/plain": [
       "<IPython.core.display.HTML object>"
      ]
     },
     "metadata": {},
     "output_type": "display_data"
    },
    {
     "data": {
      "application/vnd.jupyter.widget-view+json": {
       "model_id": "",
       "version_major": 2,
       "version_minor": 0
      },
      "text/plain": [
       "VBox(children=(Label(value=' 0.00MB of 0.00MB uploaded (0.00MB deduped)\\r'), FloatProgress(value=1.0, max=1.0)…"
      ]
     },
     "metadata": {},
     "output_type": "display_data"
    },
    {
     "data": {
      "text/html": [
       "Find user logs for this run at: <code>/home/krishna/iit/sem6/dl/wandb/run-20210312_125400-yt5n9oz2/logs/debug.log</code>"
      ],
      "text/plain": [
       "<IPython.core.display.HTML object>"
      ]
     },
     "metadata": {},
     "output_type": "display_data"
    },
    {
     "data": {
      "text/html": [
       "Find internal logs for this run at: <code>/home/krishna/iit/sem6/dl/wandb/run-20210312_125400-yt5n9oz2/logs/debug-internal.log</code>"
      ],
      "text/plain": [
       "<IPython.core.display.HTML object>"
      ]
     },
     "metadata": {},
     "output_type": "display_data"
    },
    {
     "data": {
      "text/html": [
       "<h3>Run summary:</h3><br/><style>\n",
       "    table.wandb td:nth-child(1) { padding: 0 10px; text-align: right }\n",
       "    </style><table class=\"wandb\">\n",
       "<tr><td>train accuracy</td><td>0.89881</td></tr><tr><td>validation accuracy</td><td>0.87833</td></tr><tr><td>train loss</td><td>0.00748</td></tr><tr><td>val loss</td><td>0.0088</td></tr><tr><td>_runtime</td><td>35</td></tr><tr><td>_timestamp</td><td>1615533875</td></tr><tr><td>_step</td><td>4</td></tr></table>"
      ],
      "text/plain": [
       "<IPython.core.display.HTML object>"
      ]
     },
     "metadata": {},
     "output_type": "display_data"
    },
    {
     "data": {
      "text/html": [
       "<h3>Run history:</h3><br/><style>\n",
       "    table.wandb td:nth-child(1) { padding: 0 10px; text-align: right }\n",
       "    </style><table class=\"wandb\">\n",
       "<tr><td>train accuracy</td><td>▁▄▆▇█</td></tr><tr><td>validation accuracy</td><td>▁▄▆▇█</td></tr><tr><td>train loss</td><td>█▅▃▂▁</td></tr><tr><td>val loss</td><td>█▅▃▂▁</td></tr><tr><td>_runtime</td><td>▁▃▄▆█</td></tr><tr><td>_timestamp</td><td>▁▃▄▆█</td></tr><tr><td>_step</td><td>▁▃▅▆█</td></tr></table><br/>"
      ],
      "text/plain": [
       "<IPython.core.display.HTML object>"
      ]
     },
     "metadata": {},
     "output_type": "display_data"
    },
    {
     "data": {
      "text/html": [
       "Synced 5 W&B file(s), 0 media file(s), 0 artifact file(s) and 0 other file(s)"
      ],
      "text/plain": [
       "<IPython.core.display.HTML object>"
      ]
     },
     "metadata": {},
     "output_type": "display_data"
    },
    {
     "data": {
      "text/html": [
       "\n",
       "                    <br/>Synced <strong style=\"color:#cdcd00\">hello</strong>: <a href=\"https://wandb.ai/notarchana/CS6910-A1/runs/yt5n9oz2\" target=\"_blank\">https://wandb.ai/notarchana/CS6910-A1/runs/yt5n9oz2</a><br/>\n",
       "                "
      ],
      "text/plain": [
       "<IPython.core.display.HTML object>"
      ]
     },
     "metadata": {},
     "output_type": "display_data"
    },
    {
     "name": "stderr",
     "output_type": "stream",
     "text": [
      "\u001b[34m\u001b[1mwandb\u001b[0m: Agent Starting Run: vpk85fjf with config:\n",
      "\u001b[34m\u001b[1mwandb\u001b[0m: \tactivation: relu\n",
      "\u001b[34m\u001b[1mwandb\u001b[0m: \tbatch_size: 64\n",
      "\u001b[34m\u001b[1mwandb\u001b[0m: \tepochs: 5\n",
      "\u001b[34m\u001b[1mwandb\u001b[0m: \thidden_layer_size: 128\n",
      "\u001b[34m\u001b[1mwandb\u001b[0m: \thidden_layers: 3\n",
      "\u001b[34m\u001b[1mwandb\u001b[0m: \tlr: 0.0001\n",
      "\u001b[34m\u001b[1mwandb\u001b[0m: \toptimiser: adam\n",
      "\u001b[34m\u001b[1mwandb\u001b[0m: \tweight_decay: 0.0005\n",
      "\u001b[34m\u001b[1mwandb\u001b[0m: \tweight_init: xavier\n"
     ]
    },
    {
     "data": {
      "text/html": [
       "\n",
       "                Tracking run with wandb version 0.10.22<br/>\n",
       "                Syncing run <strong style=\"color:#cdcd00\">hello</strong> to <a href=\"https://wandb.ai\" target=\"_blank\">Weights & Biases</a> <a href=\"https://docs.wandb.com/integrations/jupyter.html\" target=\"_blank\">(Documentation)</a>.<br/>\n",
       "                Project page: <a href=\"https://wandb.ai/notarchana/CS6910-A1\" target=\"_blank\">https://wandb.ai/notarchana/CS6910-A1</a><br/>\n",
       "                Sweep page: <a href=\"https://wandb.ai/notarchana/CS6910-A1/sweeps/wnukyq05\" target=\"_blank\">https://wandb.ai/notarchana/CS6910-A1/sweeps/wnukyq05</a><br/>\n",
       "Run page: <a href=\"https://wandb.ai/notarchana/CS6910-A1/runs/vpk85fjf\" target=\"_blank\">https://wandb.ai/notarchana/CS6910-A1/runs/vpk85fjf</a><br/>\n",
       "                Run data is saved locally in <code>/home/krishna/iit/sem6/dl/wandb/run-20210312_125451-vpk85fjf</code><br/><br/>\n",
       "            "
      ],
      "text/plain": [
       "<IPython.core.display.HTML object>"
      ]
     },
     "metadata": {},
     "output_type": "display_data"
    },
    {
     "name": "stderr",
     "output_type": "stream",
     "text": [
      "\u001b[34m\u001b[1mwandb\u001b[0m: \u001b[33mWARNING\u001b[0m Calling run.save without any arguments is deprecated.Changes to attributes are automatically persisted.\n"
     ]
    },
    {
     "name": "stdout",
     "output_type": "stream",
     "text": [
      "model building done\n",
      "Epoch 0 done: Loss = 0.013620201103801358\n",
      "Epoch 1 done: Loss = 0.012449893648736238\n",
      "Epoch 2 done: Loss = 0.01186447011030908\n",
      "Epoch 3 done: Loss = 0.011479689028720512\n",
      "Epoch 4 done: Loss = 0.011192071972290276\n",
      "model training done\n"
     ]
    },
    {
     "data": {
      "text/html": [
       "<br/>Waiting for W&B process to finish, PID 105074<br/>Program ended successfully."
      ],
      "text/plain": [
       "<IPython.core.display.HTML object>"
      ]
     },
     "metadata": {},
     "output_type": "display_data"
    },
    {
     "data": {
      "application/vnd.jupyter.widget-view+json": {
       "model_id": "",
       "version_major": 2,
       "version_minor": 0
      },
      "text/plain": [
       "VBox(children=(Label(value=' 0.00MB of 0.00MB uploaded (0.00MB deduped)\\r'), FloatProgress(value=1.0, max=1.0)…"
      ]
     },
     "metadata": {},
     "output_type": "display_data"
    },
    {
     "data": {
      "text/html": [
       "Find user logs for this run at: <code>/home/krishna/iit/sem6/dl/wandb/run-20210312_125451-vpk85fjf/logs/debug.log</code>"
      ],
      "text/plain": [
       "<IPython.core.display.HTML object>"
      ]
     },
     "metadata": {},
     "output_type": "display_data"
    },
    {
     "data": {
      "text/html": [
       "Find internal logs for this run at: <code>/home/krishna/iit/sem6/dl/wandb/run-20210312_125451-vpk85fjf/logs/debug-internal.log</code>"
      ],
      "text/plain": [
       "<IPython.core.display.HTML object>"
      ]
     },
     "metadata": {},
     "output_type": "display_data"
    },
    {
     "data": {
      "text/html": [
       "<h3>Run summary:</h3><br/><style>\n",
       "    table.wandb td:nth-child(1) { padding: 0 10px; text-align: right }\n",
       "    </style><table class=\"wandb\">\n",
       "<tr><td>train accuracy</td><td>0.85052</td></tr><tr><td>validation accuracy</td><td>0.846</td></tr><tr><td>train loss</td><td>0.01119</td></tr><tr><td>val loss</td><td>0.01131</td></tr><tr><td>_runtime</td><td>22</td></tr><tr><td>_timestamp</td><td>1615533913</td></tr><tr><td>_step</td><td>4</td></tr></table>"
      ],
      "text/plain": [
       "<IPython.core.display.HTML object>"
      ]
     },
     "metadata": {},
     "output_type": "display_data"
    },
    {
     "data": {
      "text/html": [
       "<h3>Run history:</h3><br/><style>\n",
       "    table.wandb td:nth-child(1) { padding: 0 10px; text-align: right }\n",
       "    </style><table class=\"wandb\">\n",
       "<tr><td>train accuracy</td><td>▁▄▆▇█</td></tr><tr><td>validation accuracy</td><td>▁▅▇▇█</td></tr><tr><td>train loss</td><td>█▅▃▂▁</td></tr><tr><td>val loss</td><td>█▅▃▂▁</td></tr><tr><td>_runtime</td><td>▁▃▅▆█</td></tr><tr><td>_timestamp</td><td>▁▃▅▆█</td></tr><tr><td>_step</td><td>▁▃▅▆█</td></tr></table><br/>"
      ],
      "text/plain": [
       "<IPython.core.display.HTML object>"
      ]
     },
     "metadata": {},
     "output_type": "display_data"
    },
    {
     "data": {
      "text/html": [
       "Synced 5 W&B file(s), 0 media file(s), 0 artifact file(s) and 0 other file(s)"
      ],
      "text/plain": [
       "<IPython.core.display.HTML object>"
      ]
     },
     "metadata": {},
     "output_type": "display_data"
    },
    {
     "data": {
      "text/html": [
       "\n",
       "                    <br/>Synced <strong style=\"color:#cdcd00\">hello</strong>: <a href=\"https://wandb.ai/notarchana/CS6910-A1/runs/vpk85fjf\" target=\"_blank\">https://wandb.ai/notarchana/CS6910-A1/runs/vpk85fjf</a><br/>\n",
       "                "
      ],
      "text/plain": [
       "<IPython.core.display.HTML object>"
      ]
     },
     "metadata": {},
     "output_type": "display_data"
    },
    {
     "name": "stderr",
     "output_type": "stream",
     "text": [
      "\u001b[34m\u001b[1mwandb\u001b[0m: Agent Starting Run: b8fptyrv with config:\n",
      "\u001b[34m\u001b[1mwandb\u001b[0m: \tactivation: sigmoid\n",
      "\u001b[34m\u001b[1mwandb\u001b[0m: \tbatch_size: 16\n",
      "\u001b[34m\u001b[1mwandb\u001b[0m: \tepochs: 10\n",
      "\u001b[34m\u001b[1mwandb\u001b[0m: \thidden_layer_size: 32\n",
      "\u001b[34m\u001b[1mwandb\u001b[0m: \thidden_layers: 5\n",
      "\u001b[34m\u001b[1mwandb\u001b[0m: \tlr: 0.0001\n",
      "\u001b[34m\u001b[1mwandb\u001b[0m: \toptimiser: adam\n",
      "\u001b[34m\u001b[1mwandb\u001b[0m: \tweight_decay: 0.5\n",
      "\u001b[34m\u001b[1mwandb\u001b[0m: \tweight_init: xavier\n"
     ]
    },
    {
     "data": {
      "text/html": [
       "\n",
       "                Tracking run with wandb version 0.10.22<br/>\n",
       "                Syncing run <strong style=\"color:#cdcd00\">hello</strong> to <a href=\"https://wandb.ai\" target=\"_blank\">Weights & Biases</a> <a href=\"https://docs.wandb.com/integrations/jupyter.html\" target=\"_blank\">(Documentation)</a>.<br/>\n",
       "                Project page: <a href=\"https://wandb.ai/notarchana/CS6910-A1\" target=\"_blank\">https://wandb.ai/notarchana/CS6910-A1</a><br/>\n",
       "                Sweep page: <a href=\"https://wandb.ai/notarchana/CS6910-A1/sweeps/wnukyq05\" target=\"_blank\">https://wandb.ai/notarchana/CS6910-A1/sweeps/wnukyq05</a><br/>\n",
       "Run page: <a href=\"https://wandb.ai/notarchana/CS6910-A1/runs/b8fptyrv\" target=\"_blank\">https://wandb.ai/notarchana/CS6910-A1/runs/b8fptyrv</a><br/>\n",
       "                Run data is saved locally in <code>/home/krishna/iit/sem6/dl/wandb/run-20210312_125520-b8fptyrv</code><br/><br/>\n",
       "            "
      ],
      "text/plain": [
       "<IPython.core.display.HTML object>"
      ]
     },
     "metadata": {},
     "output_type": "display_data"
    },
    {
     "name": "stderr",
     "output_type": "stream",
     "text": [
      "\u001b[34m\u001b[1mwandb\u001b[0m: \u001b[33mWARNING\u001b[0m Calling run.save without any arguments is deprecated.Changes to attributes are automatically persisted.\n"
     ]
    },
    {
     "name": "stdout",
     "output_type": "stream",
     "text": [
      "model building done\n",
      "Epoch 0 done: Loss = 0.044751846956954965\n",
      "Epoch 1 done: Loss = 0.04358722277874914\n",
      "Epoch 2 done: Loss = 0.0420835866939525\n",
      "Epoch 3 done: Loss = 0.04110221181132705\n",
      "Epoch 4 done: Loss = 0.0403678067288597\n",
      "Epoch 5 done: Loss = 0.03966250003814574\n",
      "Epoch 6 done: Loss = 0.03897310855341127\n",
      "Epoch 7 done: Loss = 0.03831311921291387\n",
      "Epoch 8 done: Loss = 0.03768910506377499\n",
      "Epoch 9 done: Loss = 0.03708647746740079\n",
      "model training done\n"
     ]
    },
    {
     "data": {
      "text/html": [
       "<br/>Waiting for W&B process to finish, PID 105106<br/>Program ended successfully."
      ],
      "text/plain": [
       "<IPython.core.display.HTML object>"
      ]
     },
     "metadata": {},
     "output_type": "display_data"
    },
    {
     "data": {
      "application/vnd.jupyter.widget-view+json": {
       "model_id": "",
       "version_major": 2,
       "version_minor": 0
      },
      "text/plain": [
       "VBox(children=(Label(value=' 0.00MB of 0.00MB uploaded (0.00MB deduped)\\r'), FloatProgress(value=1.0, max=1.0)…"
      ]
     },
     "metadata": {},
     "output_type": "display_data"
    },
    {
     "data": {
      "text/html": [
       "Find user logs for this run at: <code>/home/krishna/iit/sem6/dl/wandb/run-20210312_125520-b8fptyrv/logs/debug.log</code>"
      ],
      "text/plain": [
       "<IPython.core.display.HTML object>"
      ]
     },
     "metadata": {},
     "output_type": "display_data"
    },
    {
     "data": {
      "text/html": [
       "Find internal logs for this run at: <code>/home/krishna/iit/sem6/dl/wandb/run-20210312_125520-b8fptyrv/logs/debug-internal.log</code>"
      ],
      "text/plain": [
       "<IPython.core.display.HTML object>"
      ]
     },
     "metadata": {},
     "output_type": "display_data"
    },
    {
     "data": {
      "text/html": [
       "<h3>Run summary:</h3><br/><style>\n",
       "    table.wandb td:nth-child(1) { padding: 0 10px; text-align: right }\n",
       "    </style><table class=\"wandb\">\n",
       "<tr><td>train accuracy</td><td>0.36409</td></tr><tr><td>validation accuracy</td><td>0.36117</td></tr><tr><td>train loss</td><td>0.03709</td></tr><tr><td>val loss</td><td>0.03701</td></tr><tr><td>_runtime</td><td>61</td></tr><tr><td>_timestamp</td><td>1615533981</td></tr><tr><td>_step</td><td>9</td></tr></table>"
      ],
      "text/plain": [
       "<IPython.core.display.HTML object>"
      ]
     },
     "metadata": {},
     "output_type": "display_data"
    },
    {
     "data": {
      "text/html": [
       "<h3>Run history:</h3><br/><style>\n",
       "    table.wandb td:nth-child(1) { padding: 0 10px; text-align: right }\n",
       "    </style><table class=\"wandb\">\n",
       "<tr><td>train accuracy</td><td>▁▁▁▁▄▅████</td></tr><tr><td>validation accuracy</td><td>▁▂▂▂▄▆███▇</td></tr><tr><td>train loss</td><td>█▇▆▅▄▃▃▂▂▁</td></tr><tr><td>val loss</td><td>█▇▆▅▄▃▃▂▂▁</td></tr><tr><td>_runtime</td><td>▁▂▃▃▄▅▆▆▇█</td></tr><tr><td>_timestamp</td><td>▁▂▃▃▄▅▆▆▇█</td></tr><tr><td>_step</td><td>▁▂▃▃▄▅▆▆▇█</td></tr></table><br/>"
      ],
      "text/plain": [
       "<IPython.core.display.HTML object>"
      ]
     },
     "metadata": {},
     "output_type": "display_data"
    },
    {
     "data": {
      "text/html": [
       "Synced 5 W&B file(s), 0 media file(s), 0 artifact file(s) and 0 other file(s)"
      ],
      "text/plain": [
       "<IPython.core.display.HTML object>"
      ]
     },
     "metadata": {},
     "output_type": "display_data"
    },
    {
     "data": {
      "text/html": [
       "\n",
       "                    <br/>Synced <strong style=\"color:#cdcd00\">hello</strong>: <a href=\"https://wandb.ai/notarchana/CS6910-A1/runs/b8fptyrv\" target=\"_blank\">https://wandb.ai/notarchana/CS6910-A1/runs/b8fptyrv</a><br/>\n",
       "                "
      ],
      "text/plain": [
       "<IPython.core.display.HTML object>"
      ]
     },
     "metadata": {},
     "output_type": "display_data"
    },
    {
     "name": "stderr",
     "output_type": "stream",
     "text": [
      "\u001b[34m\u001b[1mwandb\u001b[0m: Agent Starting Run: j61167u1 with config:\n",
      "\u001b[34m\u001b[1mwandb\u001b[0m: \tactivation: tanh\n",
      "\u001b[34m\u001b[1mwandb\u001b[0m: \tbatch_size: 64\n",
      "\u001b[34m\u001b[1mwandb\u001b[0m: \tepochs: 10\n",
      "\u001b[34m\u001b[1mwandb\u001b[0m: \thidden_layer_size: 64\n",
      "\u001b[34m\u001b[1mwandb\u001b[0m: \thidden_layers: 5\n",
      "\u001b[34m\u001b[1mwandb\u001b[0m: \tlr: 0.001\n",
      "\u001b[34m\u001b[1mwandb\u001b[0m: \toptimiser: nesterov\n",
      "\u001b[34m\u001b[1mwandb\u001b[0m: \tweight_decay: 0.5\n",
      "\u001b[34m\u001b[1mwandb\u001b[0m: \tweight_init: xavier\n"
     ]
    },
    {
     "data": {
      "text/html": [
       "\n",
       "                Tracking run with wandb version 0.10.22<br/>\n",
       "                Syncing run <strong style=\"color:#cdcd00\">hello</strong> to <a href=\"https://wandb.ai\" target=\"_blank\">Weights & Biases</a> <a href=\"https://docs.wandb.com/integrations/jupyter.html\" target=\"_blank\">(Documentation)</a>.<br/>\n",
       "                Project page: <a href=\"https://wandb.ai/notarchana/CS6910-A1\" target=\"_blank\">https://wandb.ai/notarchana/CS6910-A1</a><br/>\n",
       "                Sweep page: <a href=\"https://wandb.ai/notarchana/CS6910-A1/sweeps/wnukyq05\" target=\"_blank\">https://wandb.ai/notarchana/CS6910-A1/sweeps/wnukyq05</a><br/>\n",
       "Run page: <a href=\"https://wandb.ai/notarchana/CS6910-A1/runs/j61167u1\" target=\"_blank\">https://wandb.ai/notarchana/CS6910-A1/runs/j61167u1</a><br/>\n",
       "                Run data is saved locally in <code>/home/krishna/iit/sem6/dl/wandb/run-20210312_125629-j61167u1</code><br/><br/>\n",
       "            "
      ],
      "text/plain": [
       "<IPython.core.display.HTML object>"
      ]
     },
     "metadata": {},
     "output_type": "display_data"
    },
    {
     "name": "stderr",
     "output_type": "stream",
     "text": [
      "\u001b[34m\u001b[1mwandb\u001b[0m: \u001b[33mWARNING\u001b[0m Calling run.save without any arguments is deprecated.Changes to attributes are automatically persisted.\n"
     ]
    },
    {
     "name": "stdout",
     "output_type": "stream",
     "text": [
      "model building done\n",
      "Epoch 0 done: Loss = 0.02234679042145136\n",
      "Epoch 1 done: Loss = 0.01600328034442094\n",
      "Epoch 2 done: Loss = 0.013609599823301776\n",
      "Epoch 3 done: Loss = 0.012436016190664595\n",
      "Epoch 4 done: Loss = 0.011766423439880618\n",
      "Epoch 5 done: Loss = 0.011304739755208081\n",
      "Epoch 6 done: Loss = 0.01095050296321614\n",
      "Epoch 7 done: Loss = 0.01066268548076872\n",
      "Epoch 8 done: Loss = 0.010420768458328764\n",
      "Epoch 9 done: Loss = 0.010212290113631376\n",
      "model training done\n"
     ]
    },
    {
     "data": {
      "text/html": [
       "<br/>Waiting for W&B process to finish, PID 105145<br/>Program ended successfully."
      ],
      "text/plain": [
       "<IPython.core.display.HTML object>"
      ]
     },
     "metadata": {},
     "output_type": "display_data"
    },
    {
     "data": {
      "application/vnd.jupyter.widget-view+json": {
       "model_id": "",
       "version_major": 2,
       "version_minor": 0
      },
      "text/plain": [
       "VBox(children=(Label(value=' 0.00MB of 0.00MB uploaded (0.00MB deduped)\\r'), FloatProgress(value=1.0, max=1.0)…"
      ]
     },
     "metadata": {},
     "output_type": "display_data"
    },
    {
     "data": {
      "text/html": [
       "Find user logs for this run at: <code>/home/krishna/iit/sem6/dl/wandb/run-20210312_125629-j61167u1/logs/debug.log</code>"
      ],
      "text/plain": [
       "<IPython.core.display.HTML object>"
      ]
     },
     "metadata": {},
     "output_type": "display_data"
    },
    {
     "data": {
      "text/html": [
       "Find internal logs for this run at: <code>/home/krishna/iit/sem6/dl/wandb/run-20210312_125629-j61167u1/logs/debug-internal.log</code>"
      ],
      "text/plain": [
       "<IPython.core.display.HTML object>"
      ]
     },
     "metadata": {},
     "output_type": "display_data"
    },
    {
     "data": {
      "text/html": [
       "<h3>Run summary:</h3><br/><style>\n",
       "    table.wandb td:nth-child(1) { padding: 0 10px; text-align: right }\n",
       "    </style><table class=\"wandb\">\n",
       "<tr><td>train accuracy</td><td>0.85898</td></tr><tr><td>validation accuracy</td><td>0.853</td></tr><tr><td>train loss</td><td>0.01021</td></tr><tr><td>val loss</td><td>0.01054</td></tr><tr><td>_runtime</td><td>50</td></tr><tr><td>_timestamp</td><td>1615534039</td></tr><tr><td>_step</td><td>9</td></tr></table>"
      ],
      "text/plain": [
       "<IPython.core.display.HTML object>"
      ]
     },
     "metadata": {},
     "output_type": "display_data"
    },
    {
     "data": {
      "text/html": [
       "<h3>Run history:</h3><br/><style>\n",
       "    table.wandb td:nth-child(1) { padding: 0 10px; text-align: right }\n",
       "    </style><table class=\"wandb\">\n",
       "<tr><td>train accuracy</td><td>▁▄▆▇▇▇▇███</td></tr><tr><td>validation accuracy</td><td>▁▄▆▇▇▇████</td></tr><tr><td>train loss</td><td>█▄▃▂▂▂▁▁▁▁</td></tr><tr><td>val loss</td><td>█▄▃▂▂▂▁▁▁▁</td></tr><tr><td>_runtime</td><td>▁▂▂▃▄▅▆▆▇█</td></tr><tr><td>_timestamp</td><td>▁▂▂▃▄▅▆▆▇█</td></tr><tr><td>_step</td><td>▁▂▃▃▄▅▆▆▇█</td></tr></table><br/>"
      ],
      "text/plain": [
       "<IPython.core.display.HTML object>"
      ]
     },
     "metadata": {},
     "output_type": "display_data"
    },
    {
     "data": {
      "text/html": [
       "Synced 5 W&B file(s), 0 media file(s), 0 artifact file(s) and 0 other file(s)"
      ],
      "text/plain": [
       "<IPython.core.display.HTML object>"
      ]
     },
     "metadata": {},
     "output_type": "display_data"
    },
    {
     "data": {
      "text/html": [
       "\n",
       "                    <br/>Synced <strong style=\"color:#cdcd00\">hello</strong>: <a href=\"https://wandb.ai/notarchana/CS6910-A1/runs/j61167u1\" target=\"_blank\">https://wandb.ai/notarchana/CS6910-A1/runs/j61167u1</a><br/>\n",
       "                "
      ],
      "text/plain": [
       "<IPython.core.display.HTML object>"
      ]
     },
     "metadata": {},
     "output_type": "display_data"
    },
    {
     "name": "stderr",
     "output_type": "stream",
     "text": [
      "\u001b[34m\u001b[1mwandb\u001b[0m: Agent Starting Run: h0rwzfin with config:\n",
      "\u001b[34m\u001b[1mwandb\u001b[0m: \tactivation: sigmoid\n",
      "\u001b[34m\u001b[1mwandb\u001b[0m: \tbatch_size: 16\n",
      "\u001b[34m\u001b[1mwandb\u001b[0m: \tepochs: 5\n",
      "\u001b[34m\u001b[1mwandb\u001b[0m: \thidden_layer_size: 32\n",
      "\u001b[34m\u001b[1mwandb\u001b[0m: \thidden_layers: 4\n",
      "\u001b[34m\u001b[1mwandb\u001b[0m: \tlr: 0.0001\n",
      "\u001b[34m\u001b[1mwandb\u001b[0m: \toptimiser: nesterov\n",
      "\u001b[34m\u001b[1mwandb\u001b[0m: \tweight_decay: 0.0005\n",
      "\u001b[34m\u001b[1mwandb\u001b[0m: \tweight_init: xavier\n"
     ]
    },
    {
     "data": {
      "text/html": [
       "\n",
       "                Tracking run with wandb version 0.10.22<br/>\n",
       "                Syncing run <strong style=\"color:#cdcd00\">hello</strong> to <a href=\"https://wandb.ai\" target=\"_blank\">Weights & Biases</a> <a href=\"https://docs.wandb.com/integrations/jupyter.html\" target=\"_blank\">(Documentation)</a>.<br/>\n",
       "                Project page: <a href=\"https://wandb.ai/notarchana/CS6910-A1\" target=\"_blank\">https://wandb.ai/notarchana/CS6910-A1</a><br/>\n",
       "                Sweep page: <a href=\"https://wandb.ai/notarchana/CS6910-A1/sweeps/wnukyq05\" target=\"_blank\">https://wandb.ai/notarchana/CS6910-A1/sweeps/wnukyq05</a><br/>\n",
       "Run page: <a href=\"https://wandb.ai/notarchana/CS6910-A1/runs/h0rwzfin\" target=\"_blank\">https://wandb.ai/notarchana/CS6910-A1/runs/h0rwzfin</a><br/>\n",
       "                Run data is saved locally in <code>/home/krishna/iit/sem6/dl/wandb/run-20210312_125727-h0rwzfin</code><br/><br/>\n",
       "            "
      ],
      "text/plain": [
       "<IPython.core.display.HTML object>"
      ]
     },
     "metadata": {},
     "output_type": "display_data"
    },
    {
     "name": "stderr",
     "output_type": "stream",
     "text": [
      "\u001b[34m\u001b[1mwandb\u001b[0m: \u001b[33mWARNING\u001b[0m Calling run.save without any arguments is deprecated.Changes to attributes are automatically persisted.\n"
     ]
    },
    {
     "name": "stdout",
     "output_type": "stream",
     "text": [
      "model building done\n",
      "Epoch 0 done: Loss = 0.04548020433232452\n",
      "Epoch 1 done: Loss = 0.04521482777318096\n",
      "Epoch 2 done: Loss = 0.0450926105613887\n",
      "Epoch 3 done: Loss = 0.0450373095280049\n",
      "Epoch 4 done: Loss = 0.04501436154281658\n",
      "model training done\n"
     ]
    },
    {
     "data": {
      "text/html": [
       "<br/>Waiting for W&B process to finish, PID 105203<br/>Program ended successfully."
      ],
      "text/plain": [
       "<IPython.core.display.HTML object>"
      ]
     },
     "metadata": {},
     "output_type": "display_data"
    },
    {
     "data": {
      "application/vnd.jupyter.widget-view+json": {
       "model_id": "",
       "version_major": 2,
       "version_minor": 0
      },
      "text/plain": [
       "VBox(children=(Label(value=' 0.00MB of 0.00MB uploaded (0.00MB deduped)\\r'), FloatProgress(value=1.0, max=1.0)…"
      ]
     },
     "metadata": {},
     "output_type": "display_data"
    },
    {
     "data": {
      "text/html": [
       "Find user logs for this run at: <code>/home/krishna/iit/sem6/dl/wandb/run-20210312_125727-h0rwzfin/logs/debug.log</code>"
      ],
      "text/plain": [
       "<IPython.core.display.HTML object>"
      ]
     },
     "metadata": {},
     "output_type": "display_data"
    },
    {
     "data": {
      "text/html": [
       "Find internal logs for this run at: <code>/home/krishna/iit/sem6/dl/wandb/run-20210312_125727-h0rwzfin/logs/debug-internal.log</code>"
      ],
      "text/plain": [
       "<IPython.core.display.HTML object>"
      ]
     },
     "metadata": {},
     "output_type": "display_data"
    },
    {
     "data": {
      "text/html": [
       "<h3>Run summary:</h3><br/><style>\n",
       "    table.wandb td:nth-child(1) { padding: 0 10px; text-align: right }\n",
       "    </style><table class=\"wandb\">\n",
       "<tr><td>train accuracy</td><td>0.10096</td></tr><tr><td>validation accuracy</td><td>0.095</td></tr><tr><td>train loss</td><td>0.04501</td></tr><tr><td>val loss</td><td>0.04502</td></tr><tr><td>_runtime</td><td>24</td></tr><tr><td>_timestamp</td><td>1615534071</td></tr><tr><td>_step</td><td>4</td></tr></table>"
      ],
      "text/plain": [
       "<IPython.core.display.HTML object>"
      ]
     },
     "metadata": {},
     "output_type": "display_data"
    },
    {
     "data": {
      "text/html": [
       "<h3>Run history:</h3><br/><style>\n",
       "    table.wandb td:nth-child(1) { padding: 0 10px; text-align: right }\n",
       "    </style><table class=\"wandb\">\n",
       "<tr><td>train accuracy</td><td>▃▃▁█▅</td></tr><tr><td>validation accuracy</td><td>██▇▄▁</td></tr><tr><td>train loss</td><td>█▄▂▁▁</td></tr><tr><td>val loss</td><td>█▄▂▁▁</td></tr><tr><td>_runtime</td><td>▁▃▅▆█</td></tr><tr><td>_timestamp</td><td>▁▃▅▆█</td></tr><tr><td>_step</td><td>▁▃▅▆█</td></tr></table><br/>"
      ],
      "text/plain": [
       "<IPython.core.display.HTML object>"
      ]
     },
     "metadata": {},
     "output_type": "display_data"
    },
    {
     "data": {
      "text/html": [
       "Synced 5 W&B file(s), 0 media file(s), 0 artifact file(s) and 0 other file(s)"
      ],
      "text/plain": [
       "<IPython.core.display.HTML object>"
      ]
     },
     "metadata": {},
     "output_type": "display_data"
    },
    {
     "data": {
      "text/html": [
       "\n",
       "                    <br/>Synced <strong style=\"color:#cdcd00\">hello</strong>: <a href=\"https://wandb.ai/notarchana/CS6910-A1/runs/h0rwzfin\" target=\"_blank\">https://wandb.ai/notarchana/CS6910-A1/runs/h0rwzfin</a><br/>\n",
       "                "
      ],
      "text/plain": [
       "<IPython.core.display.HTML object>"
      ]
     },
     "metadata": {},
     "output_type": "display_data"
    },
    {
     "name": "stderr",
     "output_type": "stream",
     "text": [
      "\u001b[34m\u001b[1mwandb\u001b[0m: Agent Starting Run: 6hsggj7j with config:\n",
      "\u001b[34m\u001b[1mwandb\u001b[0m: \tactivation: relu\n",
      "\u001b[34m\u001b[1mwandb\u001b[0m: \tbatch_size: 16\n",
      "\u001b[34m\u001b[1mwandb\u001b[0m: \tepochs: 5\n",
      "\u001b[34m\u001b[1mwandb\u001b[0m: \thidden_layer_size: 32\n",
      "\u001b[34m\u001b[1mwandb\u001b[0m: \thidden_layers: 5\n",
      "\u001b[34m\u001b[1mwandb\u001b[0m: \tlr: 0.0001\n",
      "\u001b[34m\u001b[1mwandb\u001b[0m: \toptimiser: nesterov\n",
      "\u001b[34m\u001b[1mwandb\u001b[0m: \tweight_decay: 0\n",
      "\u001b[34m\u001b[1mwandb\u001b[0m: \tweight_init: xavier\n"
     ]
    },
    {
     "data": {
      "text/html": [
       "\n",
       "                Tracking run with wandb version 0.10.22<br/>\n",
       "                Syncing run <strong style=\"color:#cdcd00\">hello</strong> to <a href=\"https://wandb.ai\" target=\"_blank\">Weights & Biases</a> <a href=\"https://docs.wandb.com/integrations/jupyter.html\" target=\"_blank\">(Documentation)</a>.<br/>\n",
       "                Project page: <a href=\"https://wandb.ai/notarchana/CS6910-A1\" target=\"_blank\">https://wandb.ai/notarchana/CS6910-A1</a><br/>\n",
       "                Sweep page: <a href=\"https://wandb.ai/notarchana/CS6910-A1/sweeps/wnukyq05\" target=\"_blank\">https://wandb.ai/notarchana/CS6910-A1/sweeps/wnukyq05</a><br/>\n",
       "Run page: <a href=\"https://wandb.ai/notarchana/CS6910-A1/runs/6hsggj7j\" target=\"_blank\">https://wandb.ai/notarchana/CS6910-A1/runs/6hsggj7j</a><br/>\n",
       "                Run data is saved locally in <code>/home/krishna/iit/sem6/dl/wandb/run-20210312_125758-6hsggj7j</code><br/><br/>\n",
       "            "
      ],
      "text/plain": [
       "<IPython.core.display.HTML object>"
      ]
     },
     "metadata": {},
     "output_type": "display_data"
    },
    {
     "name": "stderr",
     "output_type": "stream",
     "text": [
      "\u001b[34m\u001b[1mwandb\u001b[0m: \u001b[33mWARNING\u001b[0m Calling run.save without any arguments is deprecated.Changes to attributes are automatically persisted.\n"
     ]
    },
    {
     "name": "stdout",
     "output_type": "stream",
     "text": [
      "model building done\n",
      "Epoch 0 done: Loss = 0.044581747013901885\n",
      "Epoch 1 done: Loss = 0.04327850948194293\n",
      "Epoch 2 done: Loss = 0.040503088466687584\n",
      "Epoch 3 done: Loss = 0.03539801358657527\n",
      "Epoch 4 done: Loss = 0.026496029719200516\n",
      "model training done\n"
     ]
    },
    {
     "data": {
      "text/html": [
       "<br/>Waiting for W&B process to finish, PID 105232<br/>Program ended successfully."
      ],
      "text/plain": [
       "<IPython.core.display.HTML object>"
      ]
     },
     "metadata": {},
     "output_type": "display_data"
    },
    {
     "data": {
      "application/vnd.jupyter.widget-view+json": {
       "model_id": "",
       "version_major": 2,
       "version_minor": 0
      },
      "text/plain": [
       "VBox(children=(Label(value=' 0.00MB of 0.00MB uploaded (0.00MB deduped)\\r'), FloatProgress(value=1.0, max=1.0)…"
      ]
     },
     "metadata": {},
     "output_type": "display_data"
    },
    {
     "data": {
      "text/html": [
       "Find user logs for this run at: <code>/home/krishna/iit/sem6/dl/wandb/run-20210312_125758-6hsggj7j/logs/debug.log</code>"
      ],
      "text/plain": [
       "<IPython.core.display.HTML object>"
      ]
     },
     "metadata": {},
     "output_type": "display_data"
    },
    {
     "data": {
      "text/html": [
       "Find internal logs for this run at: <code>/home/krishna/iit/sem6/dl/wandb/run-20210312_125758-6hsggj7j/logs/debug-internal.log</code>"
      ],
      "text/plain": [
       "<IPython.core.display.HTML object>"
      ]
     },
     "metadata": {},
     "output_type": "display_data"
    },
    {
     "data": {
      "text/html": [
       "<h3>Run summary:</h3><br/><style>\n",
       "    table.wandb td:nth-child(1) { padding: 0 10px; text-align: right }\n",
       "    </style><table class=\"wandb\">\n",
       "<tr><td>train accuracy</td><td>0.62504</td></tr><tr><td>validation accuracy</td><td>0.6315</td></tr><tr><td>train loss</td><td>0.0265</td></tr><tr><td>val loss</td><td>0.02652</td></tr><tr><td>_runtime</td><td>18</td></tr><tr><td>_timestamp</td><td>1615534096</td></tr><tr><td>_step</td><td>4</td></tr></table>"
      ],
      "text/plain": [
       "<IPython.core.display.HTML object>"
      ]
     },
     "metadata": {},
     "output_type": "display_data"
    },
    {
     "data": {
      "text/html": [
       "<h3>Run history:</h3><br/><style>\n",
       "    table.wandb td:nth-child(1) { padding: 0 10px; text-align: right }\n",
       "    </style><table class=\"wandb\">\n",
       "<tr><td>train accuracy</td><td>▁▂▂▅█</td></tr><tr><td>validation accuracy</td><td>▁▂▂▅█</td></tr><tr><td>train loss</td><td>█▇▆▄▁</td></tr><tr><td>val loss</td><td>█▇▆▄▁</td></tr><tr><td>_runtime</td><td>▁▃▅▆█</td></tr><tr><td>_timestamp</td><td>▁▃▅▆█</td></tr><tr><td>_step</td><td>▁▃▅▆█</td></tr></table><br/>"
      ],
      "text/plain": [
       "<IPython.core.display.HTML object>"
      ]
     },
     "metadata": {},
     "output_type": "display_data"
    },
    {
     "data": {
      "text/html": [
       "Synced 5 W&B file(s), 0 media file(s), 0 artifact file(s) and 0 other file(s)"
      ],
      "text/plain": [
       "<IPython.core.display.HTML object>"
      ]
     },
     "metadata": {},
     "output_type": "display_data"
    },
    {
     "data": {
      "text/html": [
       "\n",
       "                    <br/>Synced <strong style=\"color:#cdcd00\">hello</strong>: <a href=\"https://wandb.ai/notarchana/CS6910-A1/runs/6hsggj7j\" target=\"_blank\">https://wandb.ai/notarchana/CS6910-A1/runs/6hsggj7j</a><br/>\n",
       "                "
      ],
      "text/plain": [
       "<IPython.core.display.HTML object>"
      ]
     },
     "metadata": {},
     "output_type": "display_data"
    },
    {
     "name": "stderr",
     "output_type": "stream",
     "text": [
      "\u001b[34m\u001b[1mwandb\u001b[0m: Agent Starting Run: ujfwmv51 with config:\n",
      "\u001b[34m\u001b[1mwandb\u001b[0m: \tactivation: tanh\n",
      "\u001b[34m\u001b[1mwandb\u001b[0m: \tbatch_size: 32\n",
      "\u001b[34m\u001b[1mwandb\u001b[0m: \tepochs: 10\n",
      "\u001b[34m\u001b[1mwandb\u001b[0m: \thidden_layer_size: 32\n",
      "\u001b[34m\u001b[1mwandb\u001b[0m: \thidden_layers: 3\n",
      "\u001b[34m\u001b[1mwandb\u001b[0m: \tlr: 0.001\n",
      "\u001b[34m\u001b[1mwandb\u001b[0m: \toptimiser: adam\n",
      "\u001b[34m\u001b[1mwandb\u001b[0m: \tweight_decay: 0.0005\n",
      "\u001b[34m\u001b[1mwandb\u001b[0m: \tweight_init: xavier\n"
     ]
    },
    {
     "data": {
      "text/html": [
       "\n",
       "                Tracking run with wandb version 0.10.22<br/>\n",
       "                Syncing run <strong style=\"color:#cdcd00\">hello</strong> to <a href=\"https://wandb.ai\" target=\"_blank\">Weights & Biases</a> <a href=\"https://docs.wandb.com/integrations/jupyter.html\" target=\"_blank\">(Documentation)</a>.<br/>\n",
       "                Project page: <a href=\"https://wandb.ai/notarchana/CS6910-A1\" target=\"_blank\">https://wandb.ai/notarchana/CS6910-A1</a><br/>\n",
       "                Sweep page: <a href=\"https://wandb.ai/notarchana/CS6910-A1/sweeps/wnukyq05\" target=\"_blank\">https://wandb.ai/notarchana/CS6910-A1/sweeps/wnukyq05</a><br/>\n",
       "Run page: <a href=\"https://wandb.ai/notarchana/CS6910-A1/runs/ujfwmv51\" target=\"_blank\">https://wandb.ai/notarchana/CS6910-A1/runs/ujfwmv51</a><br/>\n",
       "                Run data is saved locally in <code>/home/krishna/iit/sem6/dl/wandb/run-20210312_125825-ujfwmv51</code><br/><br/>\n",
       "            "
      ],
      "text/plain": [
       "<IPython.core.display.HTML object>"
      ]
     },
     "metadata": {},
     "output_type": "display_data"
    },
    {
     "name": "stderr",
     "output_type": "stream",
     "text": [
      "\u001b[34m\u001b[1mwandb\u001b[0m: \u001b[33mWARNING\u001b[0m Calling run.save without any arguments is deprecated.Changes to attributes are automatically persisted.\n"
     ]
    },
    {
     "name": "stdout",
     "output_type": "stream",
     "text": [
      "model building done\n",
      "Epoch 0 done: Loss = 0.010764694058745965\n",
      "Epoch 1 done: Loss = 0.009775654676748926\n",
      "Epoch 2 done: Loss = 0.009295719531042882\n",
      "Epoch 3 done: Loss = 0.008973924760984327\n",
      "Epoch 4 done: Loss = 0.008736607750294561\n",
      "Epoch 5 done: Loss = 0.008545297394571853\n",
      "Epoch 6 done: Loss = 0.008382028069750382\n",
      "Epoch 7 done: Loss = 0.00823978424384039\n",
      "Epoch 8 done: Loss = 0.008102565648469832\n",
      "Epoch 9 done: Loss = 0.007966805760808524\n",
      "model training done\n"
     ]
    },
    {
     "data": {
      "text/html": [
       "<br/>Waiting for W&B process to finish, PID 105275<br/>Program ended successfully."
      ],
      "text/plain": [
       "<IPython.core.display.HTML object>"
      ]
     },
     "metadata": {},
     "output_type": "display_data"
    },
    {
     "data": {
      "application/vnd.jupyter.widget-view+json": {
       "model_id": "",
       "version_major": 2,
       "version_minor": 0
      },
      "text/plain": [
       "VBox(children=(Label(value=' 0.00MB of 0.00MB uploaded (0.00MB deduped)\\r'), FloatProgress(value=1.0, max=1.0)…"
      ]
     },
     "metadata": {},
     "output_type": "display_data"
    },
    {
     "data": {
      "text/html": [
       "Find user logs for this run at: <code>/home/krishna/iit/sem6/dl/wandb/run-20210312_125825-ujfwmv51/logs/debug.log</code>"
      ],
      "text/plain": [
       "<IPython.core.display.HTML object>"
      ]
     },
     "metadata": {},
     "output_type": "display_data"
    },
    {
     "data": {
      "text/html": [
       "Find internal logs for this run at: <code>/home/krishna/iit/sem6/dl/wandb/run-20210312_125825-ujfwmv51/logs/debug-internal.log</code>"
      ],
      "text/plain": [
       "<IPython.core.display.HTML object>"
      ]
     },
     "metadata": {},
     "output_type": "display_data"
    },
    {
     "data": {
      "text/html": [
       "<h3>Run summary:</h3><br/><style>\n",
       "    table.wandb td:nth-child(1) { padding: 0 10px; text-align: right }\n",
       "    </style><table class=\"wandb\">\n",
       "<tr><td>train accuracy</td><td>0.89183</td></tr><tr><td>validation accuracy</td><td>0.87967</td></tr><tr><td>train loss</td><td>0.00797</td></tr><tr><td>val loss</td><td>0.00877</td></tr><tr><td>_runtime</td><td>31</td></tr><tr><td>_timestamp</td><td>1615534136</td></tr><tr><td>_step</td><td>9</td></tr></table>"
      ],
      "text/plain": [
       "<IPython.core.display.HTML object>"
      ]
     },
     "metadata": {},
     "output_type": "display_data"
    },
    {
     "data": {
      "text/html": [
       "<h3>Run history:</h3><br/><style>\n",
       "    table.wandb td:nth-child(1) { padding: 0 10px; text-align: right }\n",
       "    </style><table class=\"wandb\">\n",
       "<tr><td>train accuracy</td><td>▁▃▅▆▆▇▇▇██</td></tr><tr><td>validation accuracy</td><td>▁▄▅▅▇▇▇▇██</td></tr><tr><td>train loss</td><td>█▆▄▄▃▂▂▂▁▁</td></tr><tr><td>val loss</td><td>█▅▄▃▃▂▂▂▁▁</td></tr><tr><td>_runtime</td><td>▁▂▂▃▄▅▅▆▇█</td></tr><tr><td>_timestamp</td><td>▁▂▂▃▄▅▅▆▇█</td></tr><tr><td>_step</td><td>▁▂▃▃▄▅▆▆▇█</td></tr></table><br/>"
      ],
      "text/plain": [
       "<IPython.core.display.HTML object>"
      ]
     },
     "metadata": {},
     "output_type": "display_data"
    },
    {
     "data": {
      "text/html": [
       "Synced 5 W&B file(s), 0 media file(s), 0 artifact file(s) and 0 other file(s)"
      ],
      "text/plain": [
       "<IPython.core.display.HTML object>"
      ]
     },
     "metadata": {},
     "output_type": "display_data"
    },
    {
     "data": {
      "text/html": [
       "\n",
       "                    <br/>Synced <strong style=\"color:#cdcd00\">hello</strong>: <a href=\"https://wandb.ai/notarchana/CS6910-A1/runs/ujfwmv51\" target=\"_blank\">https://wandb.ai/notarchana/CS6910-A1/runs/ujfwmv51</a><br/>\n",
       "                "
      ],
      "text/plain": [
       "<IPython.core.display.HTML object>"
      ]
     },
     "metadata": {},
     "output_type": "display_data"
    },
    {
     "name": "stderr",
     "output_type": "stream",
     "text": [
      "\u001b[34m\u001b[1mwandb\u001b[0m: Agent Starting Run: twf2n6ju with config:\n",
      "\u001b[34m\u001b[1mwandb\u001b[0m: \tactivation: sigmoid\n",
      "\u001b[34m\u001b[1mwandb\u001b[0m: \tbatch_size: 32\n",
      "\u001b[34m\u001b[1mwandb\u001b[0m: \tepochs: 10\n",
      "\u001b[34m\u001b[1mwandb\u001b[0m: \thidden_layer_size: 128\n",
      "\u001b[34m\u001b[1mwandb\u001b[0m: \thidden_layers: 3\n",
      "\u001b[34m\u001b[1mwandb\u001b[0m: \tlr: 0.001\n",
      "\u001b[34m\u001b[1mwandb\u001b[0m: \toptimiser: momentum\n",
      "\u001b[34m\u001b[1mwandb\u001b[0m: \tweight_decay: 0.0005\n",
      "\u001b[34m\u001b[1mwandb\u001b[0m: \tweight_init: xavier\n"
     ]
    },
    {
     "data": {
      "text/html": [
       "\n",
       "                Tracking run with wandb version 0.10.22<br/>\n",
       "                Syncing run <strong style=\"color:#cdcd00\">hello</strong> to <a href=\"https://wandb.ai\" target=\"_blank\">Weights & Biases</a> <a href=\"https://docs.wandb.com/integrations/jupyter.html\" target=\"_blank\">(Documentation)</a>.<br/>\n",
       "                Project page: <a href=\"https://wandb.ai/notarchana/CS6910-A1\" target=\"_blank\">https://wandb.ai/notarchana/CS6910-A1</a><br/>\n",
       "                Sweep page: <a href=\"https://wandb.ai/notarchana/CS6910-A1/sweeps/wnukyq05\" target=\"_blank\">https://wandb.ai/notarchana/CS6910-A1/sweeps/wnukyq05</a><br/>\n",
       "Run page: <a href=\"https://wandb.ai/notarchana/CS6910-A1/runs/twf2n6ju\" target=\"_blank\">https://wandb.ai/notarchana/CS6910-A1/runs/twf2n6ju</a><br/>\n",
       "                Run data is saved locally in <code>/home/krishna/iit/sem6/dl/wandb/run-20210312_125903-twf2n6ju</code><br/><br/>\n",
       "            "
      ],
      "text/plain": [
       "<IPython.core.display.HTML object>"
      ]
     },
     "metadata": {},
     "output_type": "display_data"
    },
    {
     "name": "stderr",
     "output_type": "stream",
     "text": [
      "\u001b[34m\u001b[1mwandb\u001b[0m: \u001b[33mWARNING\u001b[0m Calling run.save without any arguments is deprecated.Changes to attributes are automatically persisted.\n"
     ]
    },
    {
     "name": "stdout",
     "output_type": "stream",
     "text": [
      "model building done\n",
      "Epoch 0 done: Loss = 0.036619135373864846\n",
      "Epoch 1 done: Loss = 0.01851035532422688\n",
      "Epoch 2 done: Loss = 0.014962948068972115\n",
      "Epoch 3 done: Loss = 0.012931160241262691\n",
      "Epoch 4 done: Loss = 0.011973911846467346\n",
      "Epoch 5 done: Loss = 0.011345016206117522\n",
      "Epoch 6 done: Loss = 0.010859516107675132\n",
      "Epoch 7 done: Loss = 0.01042396818976361\n",
      "Epoch 8 done: Loss = 0.010056406923644404\n",
      "Epoch 9 done: Loss = 0.009758448183022305\n",
      "model training done\n"
     ]
    },
    {
     "data": {
      "text/html": [
       "<br/>Waiting for W&B process to finish, PID 105318<br/>Program ended successfully."
      ],
      "text/plain": [
       "<IPython.core.display.HTML object>"
      ]
     },
     "metadata": {},
     "output_type": "display_data"
    },
    {
     "data": {
      "application/vnd.jupyter.widget-view+json": {
       "model_id": "",
       "version_major": 2,
       "version_minor": 0
      },
      "text/plain": [
       "VBox(children=(Label(value=' 0.00MB of 0.00MB uploaded (0.00MB deduped)\\r'), FloatProgress(value=1.0, max=1.0)…"
      ]
     },
     "metadata": {},
     "output_type": "display_data"
    },
    {
     "data": {
      "text/html": [
       "Find user logs for this run at: <code>/home/krishna/iit/sem6/dl/wandb/run-20210312_125903-twf2n6ju/logs/debug.log</code>"
      ],
      "text/plain": [
       "<IPython.core.display.HTML object>"
      ]
     },
     "metadata": {},
     "output_type": "display_data"
    },
    {
     "data": {
      "text/html": [
       "Find internal logs for this run at: <code>/home/krishna/iit/sem6/dl/wandb/run-20210312_125903-twf2n6ju/logs/debug-internal.log</code>"
      ],
      "text/plain": [
       "<IPython.core.display.HTML object>"
      ]
     },
     "metadata": {},
     "output_type": "display_data"
    },
    {
     "data": {
      "text/html": [
       "<h3>Run summary:</h3><br/><style>\n",
       "    table.wandb td:nth-child(1) { padding: 0 10px; text-align: right }\n",
       "    </style><table class=\"wandb\">\n",
       "<tr><td>train accuracy</td><td>0.86439</td></tr><tr><td>validation accuracy</td><td>0.8645</td></tr><tr><td>train loss</td><td>0.00976</td></tr><tr><td>val loss</td><td>0.00988</td></tr><tr><td>_runtime</td><td>57</td></tr><tr><td>_timestamp</td><td>1615534200</td></tr><tr><td>_step</td><td>9</td></tr></table>"
      ],
      "text/plain": [
       "<IPython.core.display.HTML object>"
      ]
     },
     "metadata": {},
     "output_type": "display_data"
    },
    {
     "data": {
      "text/html": [
       "<h3>Run history:</h3><br/><style>\n",
       "    table.wandb td:nth-child(1) { padding: 0 10px; text-align: right }\n",
       "    </style><table class=\"wandb\">\n",
       "<tr><td>train accuracy</td><td>▁▆▇▇██████</td></tr><tr><td>validation accuracy</td><td>▁▆▇▇██████</td></tr><tr><td>train loss</td><td>█▃▂▂▂▁▁▁▁▁</td></tr><tr><td>val loss</td><td>█▃▂▂▂▁▁▁▁▁</td></tr><tr><td>_runtime</td><td>▁▂▂▃▄▅▆▆▇█</td></tr><tr><td>_timestamp</td><td>▁▂▂▃▄▅▆▆▇█</td></tr><tr><td>_step</td><td>▁▂▃▃▄▅▆▆▇█</td></tr></table><br/>"
      ],
      "text/plain": [
       "<IPython.core.display.HTML object>"
      ]
     },
     "metadata": {},
     "output_type": "display_data"
    },
    {
     "data": {
      "text/html": [
       "Synced 5 W&B file(s), 0 media file(s), 0 artifact file(s) and 0 other file(s)"
      ],
      "text/plain": [
       "<IPython.core.display.HTML object>"
      ]
     },
     "metadata": {},
     "output_type": "display_data"
    },
    {
     "data": {
      "text/html": [
       "\n",
       "                    <br/>Synced <strong style=\"color:#cdcd00\">hello</strong>: <a href=\"https://wandb.ai/notarchana/CS6910-A1/runs/twf2n6ju\" target=\"_blank\">https://wandb.ai/notarchana/CS6910-A1/runs/twf2n6ju</a><br/>\n",
       "                "
      ],
      "text/plain": [
       "<IPython.core.display.HTML object>"
      ]
     },
     "metadata": {},
     "output_type": "display_data"
    },
    {
     "name": "stderr",
     "output_type": "stream",
     "text": [
      "\u001b[34m\u001b[1mwandb\u001b[0m: Agent Starting Run: nxp37qjq with config:\n",
      "\u001b[34m\u001b[1mwandb\u001b[0m: \tactivation: sigmoid\n",
      "\u001b[34m\u001b[1mwandb\u001b[0m: \tbatch_size: 64\n",
      "\u001b[34m\u001b[1mwandb\u001b[0m: \tepochs: 10\n",
      "\u001b[34m\u001b[1mwandb\u001b[0m: \thidden_layer_size: 32\n",
      "\u001b[34m\u001b[1mwandb\u001b[0m: \thidden_layers: 3\n",
      "\u001b[34m\u001b[1mwandb\u001b[0m: \tlr: 0.0001\n",
      "\u001b[34m\u001b[1mwandb\u001b[0m: \toptimiser: adam\n",
      "\u001b[34m\u001b[1mwandb\u001b[0m: \tweight_decay: 0.5\n",
      "\u001b[34m\u001b[1mwandb\u001b[0m: \tweight_init: xavier\n"
     ]
    },
    {
     "data": {
      "text/html": [
       "\n",
       "                Tracking run with wandb version 0.10.22<br/>\n",
       "                Syncing run <strong style=\"color:#cdcd00\">hello</strong> to <a href=\"https://wandb.ai\" target=\"_blank\">Weights & Biases</a> <a href=\"https://docs.wandb.com/integrations/jupyter.html\" target=\"_blank\">(Documentation)</a>.<br/>\n",
       "                Project page: <a href=\"https://wandb.ai/notarchana/CS6910-A1\" target=\"_blank\">https://wandb.ai/notarchana/CS6910-A1</a><br/>\n",
       "                Sweep page: <a href=\"https://wandb.ai/notarchana/CS6910-A1/sweeps/wnukyq05\" target=\"_blank\">https://wandb.ai/notarchana/CS6910-A1/sweeps/wnukyq05</a><br/>\n",
       "Run page: <a href=\"https://wandb.ai/notarchana/CS6910-A1/runs/nxp37qjq\" target=\"_blank\">https://wandb.ai/notarchana/CS6910-A1/runs/nxp37qjq</a><br/>\n",
       "                Run data is saved locally in <code>/home/krishna/iit/sem6/dl/wandb/run-20210312_130007-nxp37qjq</code><br/><br/>\n",
       "            "
      ],
      "text/plain": [
       "<IPython.core.display.HTML object>"
      ]
     },
     "metadata": {},
     "output_type": "display_data"
    },
    {
     "name": "stderr",
     "output_type": "stream",
     "text": [
      "\u001b[34m\u001b[1mwandb\u001b[0m: \u001b[33mWARNING\u001b[0m Calling run.save without any arguments is deprecated.Changes to attributes are automatically persisted.\n"
     ]
    },
    {
     "name": "stdout",
     "output_type": "stream",
     "text": [
      "model building done\n",
      "Epoch 0 done: Loss = 0.043741838319201205\n",
      "Epoch 1 done: Loss = 0.04276464468776493\n",
      "Epoch 2 done: Loss = 0.041907502176217915\n",
      "Epoch 3 done: Loss = 0.04110698371771562\n",
      "Epoch 4 done: Loss = 0.0403332916275042\n",
      "Epoch 5 done: Loss = 0.039575791590955055\n",
      "Epoch 6 done: Loss = 0.038834660152400474\n",
      "Epoch 7 done: Loss = 0.03811417602778566\n",
      "Epoch 8 done: Loss = 0.03741889958321297\n",
      "Epoch 9 done: Loss = 0.036748542281506744\n",
      "model training done\n"
     ]
    },
    {
     "data": {
      "text/html": [
       "<br/>Waiting for W&B process to finish, PID 105360<br/>Program ended successfully."
      ],
      "text/plain": [
       "<IPython.core.display.HTML object>"
      ]
     },
     "metadata": {},
     "output_type": "display_data"
    },
    {
     "data": {
      "application/vnd.jupyter.widget-view+json": {
       "model_id": "",
       "version_major": 2,
       "version_minor": 0
      },
      "text/plain": [
       "VBox(children=(Label(value=' 0.00MB of 0.00MB uploaded (0.00MB deduped)\\r'), FloatProgress(value=1.0, max=1.0)…"
      ]
     },
     "metadata": {},
     "output_type": "display_data"
    },
    {
     "data": {
      "text/html": [
       "Find user logs for this run at: <code>/home/krishna/iit/sem6/dl/wandb/run-20210312_130007-nxp37qjq/logs/debug.log</code>"
      ],
      "text/plain": [
       "<IPython.core.display.HTML object>"
      ]
     },
     "metadata": {},
     "output_type": "display_data"
    },
    {
     "data": {
      "text/html": [
       "Find internal logs for this run at: <code>/home/krishna/iit/sem6/dl/wandb/run-20210312_130007-nxp37qjq/logs/debug-internal.log</code>"
      ],
      "text/plain": [
       "<IPython.core.display.HTML object>"
      ]
     },
     "metadata": {},
     "output_type": "display_data"
    },
    {
     "data": {
      "text/html": [
       "<h3>Run summary:</h3><br/><style>\n",
       "    table.wandb td:nth-child(1) { padding: 0 10px; text-align: right }\n",
       "    </style><table class=\"wandb\">\n",
       "<tr><td>train accuracy</td><td>0.46698</td></tr><tr><td>validation accuracy</td><td>0.458</td></tr><tr><td>train loss</td><td>0.03675</td></tr><tr><td>val loss</td><td>0.03691</td></tr><tr><td>_runtime</td><td>19</td></tr><tr><td>_timestamp</td><td>1615534226</td></tr><tr><td>_step</td><td>9</td></tr></table>"
      ],
      "text/plain": [
       "<IPython.core.display.HTML object>"
      ]
     },
     "metadata": {},
     "output_type": "display_data"
    },
    {
     "data": {
      "text/html": [
       "<h3>Run history:</h3><br/><style>\n",
       "    table.wandb td:nth-child(1) { padding: 0 10px; text-align: right }\n",
       "    </style><table class=\"wandb\">\n",
       "<tr><td>train accuracy</td><td>▁▁▄▃▃▄▄▇██</td></tr><tr><td>validation accuracy</td><td>▁▁▄▂▃▄▄▇██</td></tr><tr><td>train loss</td><td>█▇▆▅▅▄▃▂▂▁</td></tr><tr><td>val loss</td><td>█▇▆▅▅▄▃▂▂▁</td></tr><tr><td>_runtime</td><td>▁▁▂▃▄▅▆▆██</td></tr><tr><td>_timestamp</td><td>▁▁▂▃▄▅▆▆██</td></tr><tr><td>_step</td><td>▁▂▃▃▄▅▆▆▇█</td></tr></table><br/>"
      ],
      "text/plain": [
       "<IPython.core.display.HTML object>"
      ]
     },
     "metadata": {},
     "output_type": "display_data"
    },
    {
     "data": {
      "text/html": [
       "Synced 5 W&B file(s), 0 media file(s), 0 artifact file(s) and 0 other file(s)"
      ],
      "text/plain": [
       "<IPython.core.display.HTML object>"
      ]
     },
     "metadata": {},
     "output_type": "display_data"
    },
    {
     "data": {
      "text/html": [
       "\n",
       "                    <br/>Synced <strong style=\"color:#cdcd00\">hello</strong>: <a href=\"https://wandb.ai/notarchana/CS6910-A1/runs/nxp37qjq\" target=\"_blank\">https://wandb.ai/notarchana/CS6910-A1/runs/nxp37qjq</a><br/>\n",
       "                "
      ],
      "text/plain": [
       "<IPython.core.display.HTML object>"
      ]
     },
     "metadata": {},
     "output_type": "display_data"
    },
    {
     "name": "stderr",
     "output_type": "stream",
     "text": [
      "\u001b[34m\u001b[1mwandb\u001b[0m: Agent Starting Run: o19m8f8c with config:\n",
      "\u001b[34m\u001b[1mwandb\u001b[0m: \tactivation: sigmoid\n",
      "\u001b[34m\u001b[1mwandb\u001b[0m: \tbatch_size: 16\n",
      "\u001b[34m\u001b[1mwandb\u001b[0m: \tepochs: 5\n",
      "\u001b[34m\u001b[1mwandb\u001b[0m: \thidden_layer_size: 64\n",
      "\u001b[34m\u001b[1mwandb\u001b[0m: \thidden_layers: 5\n",
      "\u001b[34m\u001b[1mwandb\u001b[0m: \tlr: 0.0001\n",
      "\u001b[34m\u001b[1mwandb\u001b[0m: \toptimiser: rmsprop\n",
      "\u001b[34m\u001b[1mwandb\u001b[0m: \tweight_decay: 0.0005\n",
      "\u001b[34m\u001b[1mwandb\u001b[0m: \tweight_init: xavier\n"
     ]
    },
    {
     "data": {
      "text/html": [
       "\n",
       "                Tracking run with wandb version 0.10.22<br/>\n",
       "                Syncing run <strong style=\"color:#cdcd00\">hello</strong> to <a href=\"https://wandb.ai\" target=\"_blank\">Weights & Biases</a> <a href=\"https://docs.wandb.com/integrations/jupyter.html\" target=\"_blank\">(Documentation)</a>.<br/>\n",
       "                Project page: <a href=\"https://wandb.ai/notarchana/CS6910-A1\" target=\"_blank\">https://wandb.ai/notarchana/CS6910-A1</a><br/>\n",
       "                Sweep page: <a href=\"https://wandb.ai/notarchana/CS6910-A1/sweeps/wnukyq05\" target=\"_blank\">https://wandb.ai/notarchana/CS6910-A1/sweeps/wnukyq05</a><br/>\n",
       "Run page: <a href=\"https://wandb.ai/notarchana/CS6910-A1/runs/o19m8f8c\" target=\"_blank\">https://wandb.ai/notarchana/CS6910-A1/runs/o19m8f8c</a><br/>\n",
       "                Run data is saved locally in <code>/home/krishna/iit/sem6/dl/wandb/run-20210312_130049-o19m8f8c</code><br/><br/>\n",
       "            "
      ],
      "text/plain": [
       "<IPython.core.display.HTML object>"
      ]
     },
     "metadata": {},
     "output_type": "display_data"
    },
    {
     "name": "stderr",
     "output_type": "stream",
     "text": [
      "\u001b[34m\u001b[1mwandb\u001b[0m: \u001b[33mWARNING\u001b[0m Calling run.save without any arguments is deprecated.Changes to attributes are automatically persisted.\n"
     ]
    },
    {
     "name": "stdout",
     "output_type": "stream",
     "text": [
      "model building done\n",
      "Epoch 0 done: Loss = 0.04499984106074419\n",
      "Epoch 1 done: Loss = 0.04492985731276913\n",
      "Epoch 2 done: Loss = 0.03887151612533576\n",
      "Epoch 3 done: Loss = 0.027025284857662528\n",
      "Epoch 4 done: Loss = 0.021231920310849306\n",
      "model training done\n"
     ]
    },
    {
     "data": {
      "text/html": [
       "<br/>Waiting for W&B process to finish, PID 105404<br/>Program ended successfully."
      ],
      "text/plain": [
       "<IPython.core.display.HTML object>"
      ]
     },
     "metadata": {},
     "output_type": "display_data"
    },
    {
     "data": {
      "application/vnd.jupyter.widget-view+json": {
       "model_id": "",
       "version_major": 2,
       "version_minor": 0
      },
      "text/plain": [
       "VBox(children=(Label(value=' 0.00MB of 0.00MB uploaded (0.00MB deduped)\\r'), FloatProgress(value=1.0, max=1.0)…"
      ]
     },
     "metadata": {},
     "output_type": "display_data"
    },
    {
     "data": {
      "text/html": [
       "Find user logs for this run at: <code>/home/krishna/iit/sem6/dl/wandb/run-20210312_130049-o19m8f8c/logs/debug.log</code>"
      ],
      "text/plain": [
       "<IPython.core.display.HTML object>"
      ]
     },
     "metadata": {},
     "output_type": "display_data"
    },
    {
     "data": {
      "text/html": [
       "Find internal logs for this run at: <code>/home/krishna/iit/sem6/dl/wandb/run-20210312_130049-o19m8f8c/logs/debug-internal.log</code>"
      ],
      "text/plain": [
       "<IPython.core.display.HTML object>"
      ]
     },
     "metadata": {},
     "output_type": "display_data"
    },
    {
     "data": {
      "text/html": [
       "<h3>Run summary:</h3><br/><style>\n",
       "    table.wandb td:nth-child(1) { padding: 0 10px; text-align: right }\n",
       "    </style><table class=\"wandb\">\n",
       "<tr><td>train accuracy</td><td>0.70593</td></tr><tr><td>validation accuracy</td><td>0.70017</td></tr><tr><td>train loss</td><td>0.02123</td></tr><tr><td>val loss</td><td>0.02157</td></tr><tr><td>_runtime</td><td>40</td></tr><tr><td>_timestamp</td><td>1615534289</td></tr><tr><td>_step</td><td>4</td></tr></table>"
      ],
      "text/plain": [
       "<IPython.core.display.HTML object>"
      ]
     },
     "metadata": {},
     "output_type": "display_data"
    },
    {
     "data": {
      "text/html": [
       "<h3>Run history:</h3><br/><style>\n",
       "    table.wandb td:nth-child(1) { padding: 0 10px; text-align: right }\n",
       "    </style><table class=\"wandb\">\n",
       "<tr><td>train accuracy</td><td>▁▁▅▇█</td></tr><tr><td>validation accuracy</td><td>▁▁▅▇█</td></tr><tr><td>train loss</td><td>██▆▃▁</td></tr><tr><td>val loss</td><td>██▆▃▁</td></tr><tr><td>_runtime</td><td>▁▃▅▆█</td></tr><tr><td>_timestamp</td><td>▁▃▅▆█</td></tr><tr><td>_step</td><td>▁▃▅▆█</td></tr></table><br/>"
      ],
      "text/plain": [
       "<IPython.core.display.HTML object>"
      ]
     },
     "metadata": {},
     "output_type": "display_data"
    },
    {
     "data": {
      "text/html": [
       "Synced 5 W&B file(s), 0 media file(s), 0 artifact file(s) and 0 other file(s)"
      ],
      "text/plain": [
       "<IPython.core.display.HTML object>"
      ]
     },
     "metadata": {},
     "output_type": "display_data"
    },
    {
     "data": {
      "text/html": [
       "\n",
       "                    <br/>Synced <strong style=\"color:#cdcd00\">hello</strong>: <a href=\"https://wandb.ai/notarchana/CS6910-A1/runs/o19m8f8c\" target=\"_blank\">https://wandb.ai/notarchana/CS6910-A1/runs/o19m8f8c</a><br/>\n",
       "                "
      ],
      "text/plain": [
       "<IPython.core.display.HTML object>"
      ]
     },
     "metadata": {},
     "output_type": "display_data"
    },
    {
     "name": "stderr",
     "output_type": "stream",
     "text": [
      "\u001b[34m\u001b[1mwandb\u001b[0m: Agent Starting Run: lh5ihsw5 with config:\n",
      "\u001b[34m\u001b[1mwandb\u001b[0m: \tactivation: tanh\n",
      "\u001b[34m\u001b[1mwandb\u001b[0m: \tbatch_size: 64\n",
      "\u001b[34m\u001b[1mwandb\u001b[0m: \tepochs: 10\n",
      "\u001b[34m\u001b[1mwandb\u001b[0m: \thidden_layer_size: 64\n",
      "\u001b[34m\u001b[1mwandb\u001b[0m: \thidden_layers: 3\n",
      "\u001b[34m\u001b[1mwandb\u001b[0m: \tlr: 0.001\n",
      "\u001b[34m\u001b[1mwandb\u001b[0m: \toptimiser: adam\n",
      "\u001b[34m\u001b[1mwandb\u001b[0m: \tweight_decay: 0.5\n",
      "\u001b[34m\u001b[1mwandb\u001b[0m: \tweight_init: xavier\n"
     ]
    },
    {
     "data": {
      "text/html": [
       "\n",
       "                Tracking run with wandb version 0.10.22<br/>\n",
       "                Syncing run <strong style=\"color:#cdcd00\">hello</strong> to <a href=\"https://wandb.ai\" target=\"_blank\">Weights & Biases</a> <a href=\"https://docs.wandb.com/integrations/jupyter.html\" target=\"_blank\">(Documentation)</a>.<br/>\n",
       "                Project page: <a href=\"https://wandb.ai/notarchana/CS6910-A1\" target=\"_blank\">https://wandb.ai/notarchana/CS6910-A1</a><br/>\n",
       "                Sweep page: <a href=\"https://wandb.ai/notarchana/CS6910-A1/sweeps/wnukyq05\" target=\"_blank\">https://wandb.ai/notarchana/CS6910-A1/sweeps/wnukyq05</a><br/>\n",
       "Run page: <a href=\"https://wandb.ai/notarchana/CS6910-A1/runs/lh5ihsw5\" target=\"_blank\">https://wandb.ai/notarchana/CS6910-A1/runs/lh5ihsw5</a><br/>\n",
       "                Run data is saved locally in <code>/home/krishna/iit/sem6/dl/wandb/run-20210312_130137-lh5ihsw5</code><br/><br/>\n",
       "            "
      ],
      "text/plain": [
       "<IPython.core.display.HTML object>"
      ]
     },
     "metadata": {},
     "output_type": "display_data"
    },
    {
     "name": "stderr",
     "output_type": "stream",
     "text": [
      "\u001b[34m\u001b[1mwandb\u001b[0m: \u001b[33mWARNING\u001b[0m Calling run.save without any arguments is deprecated.Changes to attributes are automatically persisted.\n"
     ]
    },
    {
     "name": "stdout",
     "output_type": "stream",
     "text": [
      "model building done\n",
      "Epoch 0 done: Loss = 0.009943419872609684\n",
      "Epoch 1 done: Loss = 0.009082260419990088\n",
      "Epoch 2 done: Loss = 0.00865085295956104\n",
      "Epoch 3 done: Loss = 0.008335957694038125\n",
      "Epoch 4 done: Loss = 0.008089834744830049\n",
      "Epoch 5 done: Loss = 0.007889243817938166\n",
      "Epoch 6 done: Loss = 0.007720409270680001\n",
      "Epoch 7 done: Loss = 0.0075747742132733975\n",
      "Epoch 8 done: Loss = 0.007446827416664872\n",
      "Epoch 9 done: Loss = 0.007332541300809784\n",
      "model training done\n"
     ]
    },
    {
     "data": {
      "text/html": [
       "<br/>Waiting for W&B process to finish, PID 105437<br/>Program ended successfully."
      ],
      "text/plain": [
       "<IPython.core.display.HTML object>"
      ]
     },
     "metadata": {},
     "output_type": "display_data"
    },
    {
     "data": {
      "application/vnd.jupyter.widget-view+json": {
       "model_id": "",
       "version_major": 2,
       "version_minor": 0
      },
      "text/plain": [
       "VBox(children=(Label(value=' 0.00MB of 0.00MB uploaded (0.00MB deduped)\\r'), FloatProgress(value=1.0, max=1.0)…"
      ]
     },
     "metadata": {},
     "output_type": "display_data"
    },
    {
     "data": {
      "text/html": [
       "Find user logs for this run at: <code>/home/krishna/iit/sem6/dl/wandb/run-20210312_130137-lh5ihsw5/logs/debug.log</code>"
      ],
      "text/plain": [
       "<IPython.core.display.HTML object>"
      ]
     },
     "metadata": {},
     "output_type": "display_data"
    },
    {
     "data": {
      "text/html": [
       "Find internal logs for this run at: <code>/home/krishna/iit/sem6/dl/wandb/run-20210312_130137-lh5ihsw5/logs/debug-internal.log</code>"
      ],
      "text/plain": [
       "<IPython.core.display.HTML object>"
      ]
     },
     "metadata": {},
     "output_type": "display_data"
    },
    {
     "data": {
      "text/html": [
       "<h3>Run summary:</h3><br/><style>\n",
       "    table.wandb td:nth-child(1) { padding: 0 10px; text-align: right }\n",
       "    </style><table class=\"wandb\">\n",
       "<tr><td>train accuracy</td><td>0.90154</td></tr><tr><td>validation accuracy</td><td>0.87883</td></tr><tr><td>train loss</td><td>0.00733</td></tr><tr><td>val loss</td><td>0.00882</td></tr><tr><td>_runtime</td><td>39</td></tr><tr><td>_timestamp</td><td>1615534336</td></tr><tr><td>_step</td><td>9</td></tr></table>"
      ],
      "text/plain": [
       "<IPython.core.display.HTML object>"
      ]
     },
     "metadata": {},
     "output_type": "display_data"
    },
    {
     "data": {
      "text/html": [
       "<h3>Run history:</h3><br/><style>\n",
       "    table.wandb td:nth-child(1) { padding: 0 10px; text-align: right }\n",
       "    </style><table class=\"wandb\">\n",
       "<tr><td>train accuracy</td><td>▁▃▄▅▆▆▇▇██</td></tr><tr><td>validation accuracy</td><td>▁▄▅▆▆▇▇███</td></tr><tr><td>train loss</td><td>█▆▅▄▃▂▂▂▁▁</td></tr><tr><td>val loss</td><td>█▅▄▃▃▂▂▁▁▁</td></tr><tr><td>_runtime</td><td>▁▂▂▃▄▅▅▆▇█</td></tr><tr><td>_timestamp</td><td>▁▂▂▃▄▅▅▆▇█</td></tr><tr><td>_step</td><td>▁▂▃▃▄▅▆▆▇█</td></tr></table><br/>"
      ],
      "text/plain": [
       "<IPython.core.display.HTML object>"
      ]
     },
     "metadata": {},
     "output_type": "display_data"
    },
    {
     "data": {
      "text/html": [
       "Synced 5 W&B file(s), 0 media file(s), 0 artifact file(s) and 0 other file(s)"
      ],
      "text/plain": [
       "<IPython.core.display.HTML object>"
      ]
     },
     "metadata": {},
     "output_type": "display_data"
    },
    {
     "data": {
      "text/html": [
       "\n",
       "                    <br/>Synced <strong style=\"color:#cdcd00\">hello</strong>: <a href=\"https://wandb.ai/notarchana/CS6910-A1/runs/lh5ihsw5\" target=\"_blank\">https://wandb.ai/notarchana/CS6910-A1/runs/lh5ihsw5</a><br/>\n",
       "                "
      ],
      "text/plain": [
       "<IPython.core.display.HTML object>"
      ]
     },
     "metadata": {},
     "output_type": "display_data"
    },
    {
     "name": "stderr",
     "output_type": "stream",
     "text": [
      "\u001b[34m\u001b[1mwandb\u001b[0m: Agent Starting Run: o7nws3n9 with config:\n",
      "\u001b[34m\u001b[1mwandb\u001b[0m: \tactivation: relu\n",
      "\u001b[34m\u001b[1mwandb\u001b[0m: \tbatch_size: 64\n",
      "\u001b[34m\u001b[1mwandb\u001b[0m: \tepochs: 10\n",
      "\u001b[34m\u001b[1mwandb\u001b[0m: \thidden_layer_size: 32\n",
      "\u001b[34m\u001b[1mwandb\u001b[0m: \thidden_layers: 5\n",
      "\u001b[34m\u001b[1mwandb\u001b[0m: \tlr: 0.001\n",
      "\u001b[34m\u001b[1mwandb\u001b[0m: \toptimiser: nesterov\n",
      "\u001b[34m\u001b[1mwandb\u001b[0m: \tweight_decay: 0.0005\n",
      "\u001b[34m\u001b[1mwandb\u001b[0m: \tweight_init: xavier\n"
     ]
    },
    {
     "data": {
      "text/html": [
       "\n",
       "                Tracking run with wandb version 0.10.22<br/>\n",
       "                Syncing run <strong style=\"color:#cdcd00\">hello</strong> to <a href=\"https://wandb.ai\" target=\"_blank\">Weights & Biases</a> <a href=\"https://docs.wandb.com/integrations/jupyter.html\" target=\"_blank\">(Documentation)</a>.<br/>\n",
       "                Project page: <a href=\"https://wandb.ai/notarchana/CS6910-A1\" target=\"_blank\">https://wandb.ai/notarchana/CS6910-A1</a><br/>\n",
       "                Sweep page: <a href=\"https://wandb.ai/notarchana/CS6910-A1/sweeps/wnukyq05\" target=\"_blank\">https://wandb.ai/notarchana/CS6910-A1/sweeps/wnukyq05</a><br/>\n",
       "Run page: <a href=\"https://wandb.ai/notarchana/CS6910-A1/runs/o7nws3n9\" target=\"_blank\">https://wandb.ai/notarchana/CS6910-A1/runs/o7nws3n9</a><br/>\n",
       "                Run data is saved locally in <code>/home/krishna/iit/sem6/dl/wandb/run-20210312_130223-o7nws3n9</code><br/><br/>\n",
       "            "
      ],
      "text/plain": [
       "<IPython.core.display.HTML object>"
      ]
     },
     "metadata": {},
     "output_type": "display_data"
    },
    {
     "name": "stderr",
     "output_type": "stream",
     "text": [
      "\u001b[34m\u001b[1mwandb\u001b[0m: \u001b[33mWARNING\u001b[0m Calling run.save without any arguments is deprecated.Changes to attributes are automatically persisted.\n"
     ]
    },
    {
     "name": "stdout",
     "output_type": "stream",
     "text": [
      "model building done\n",
      "Epoch 0 done: Loss = 0.03861489549300725\n",
      "Epoch 1 done: Loss = 0.026965644828996937\n",
      "Epoch 2 done: Loss = 0.01943158905275862\n",
      "Epoch 3 done: Loss = 0.016571735438617296\n",
      "Epoch 4 done: Loss = 0.014912544215598218\n",
      "Epoch 5 done: Loss = 0.013791545783082294\n",
      "Epoch 6 done: Loss = 0.013098623188547194\n",
      "Epoch 7 done: Loss = 0.012607151613337109\n",
      "Epoch 8 done: Loss = 0.012203169394072124\n",
      "Epoch 9 done: Loss = 0.011874732637541323\n",
      "model training done\n"
     ]
    },
    {
     "data": {
      "text/html": [
       "<br/>Waiting for W&B process to finish, PID 105486<br/>Program ended successfully."
      ],
      "text/plain": [
       "<IPython.core.display.HTML object>"
      ]
     },
     "metadata": {},
     "output_type": "display_data"
    },
    {
     "data": {
      "application/vnd.jupyter.widget-view+json": {
       "model_id": "",
       "version_major": 2,
       "version_minor": 0
      },
      "text/plain": [
       "VBox(children=(Label(value=' 0.00MB of 0.00MB uploaded (0.00MB deduped)\\r'), FloatProgress(value=1.0, max=1.0)…"
      ]
     },
     "metadata": {},
     "output_type": "display_data"
    },
    {
     "data": {
      "text/html": [
       "Find user logs for this run at: <code>/home/krishna/iit/sem6/dl/wandb/run-20210312_130223-o7nws3n9/logs/debug.log</code>"
      ],
      "text/plain": [
       "<IPython.core.display.HTML object>"
      ]
     },
     "metadata": {},
     "output_type": "display_data"
    },
    {
     "data": {
      "text/html": [
       "Find internal logs for this run at: <code>/home/krishna/iit/sem6/dl/wandb/run-20210312_130223-o7nws3n9/logs/debug-internal.log</code>"
      ],
      "text/plain": [
       "<IPython.core.display.HTML object>"
      ]
     },
     "metadata": {},
     "output_type": "display_data"
    },
    {
     "data": {
      "text/html": [
       "<h3>Run summary:</h3><br/><style>\n",
       "    table.wandb td:nth-child(1) { padding: 0 10px; text-align: right }\n",
       "    </style><table class=\"wandb\">\n",
       "<tr><td>train accuracy</td><td>0.83702</td></tr><tr><td>validation accuracy</td><td>0.83017</td></tr><tr><td>train loss</td><td>0.01187</td></tr><tr><td>val loss</td><td>0.01242</td></tr><tr><td>_runtime</td><td>17</td></tr><tr><td>_timestamp</td><td>1615534360</td></tr><tr><td>_step</td><td>9</td></tr></table>"
      ],
      "text/plain": [
       "<IPython.core.display.HTML object>"
      ]
     },
     "metadata": {},
     "output_type": "display_data"
    },
    {
     "data": {
      "text/html": [
       "<h3>Run history:</h3><br/><style>\n",
       "    table.wandb td:nth-child(1) { padding: 0 10px; text-align: right }\n",
       "    </style><table class=\"wandb\">\n",
       "<tr><td>train accuracy</td><td>▁▅▆▇▇█████</td></tr><tr><td>validation accuracy</td><td>▁▅▇▇▇█████</td></tr><tr><td>train loss</td><td>█▅▃▂▂▂▁▁▁▁</td></tr><tr><td>val loss</td><td>█▅▃▂▂▁▁▁▁▁</td></tr><tr><td>_runtime</td><td>▁▂▃▃▄▅▆▆▇█</td></tr><tr><td>_timestamp</td><td>▁▂▃▃▄▅▆▆▇█</td></tr><tr><td>_step</td><td>▁▂▃▃▄▅▆▆▇█</td></tr></table><br/>"
      ],
      "text/plain": [
       "<IPython.core.display.HTML object>"
      ]
     },
     "metadata": {},
     "output_type": "display_data"
    },
    {
     "data": {
      "text/html": [
       "Synced 5 W&B file(s), 0 media file(s), 0 artifact file(s) and 0 other file(s)"
      ],
      "text/plain": [
       "<IPython.core.display.HTML object>"
      ]
     },
     "metadata": {},
     "output_type": "display_data"
    },
    {
     "data": {
      "text/html": [
       "\n",
       "                    <br/>Synced <strong style=\"color:#cdcd00\">hello</strong>: <a href=\"https://wandb.ai/notarchana/CS6910-A1/runs/o7nws3n9\" target=\"_blank\">https://wandb.ai/notarchana/CS6910-A1/runs/o7nws3n9</a><br/>\n",
       "                "
      ],
      "text/plain": [
       "<IPython.core.display.HTML object>"
      ]
     },
     "metadata": {},
     "output_type": "display_data"
    },
    {
     "name": "stderr",
     "output_type": "stream",
     "text": [
      "\u001b[34m\u001b[1mwandb\u001b[0m: Agent Starting Run: z4rfmuu9 with config:\n",
      "\u001b[34m\u001b[1mwandb\u001b[0m: \tactivation: relu\n",
      "\u001b[34m\u001b[1mwandb\u001b[0m: \tbatch_size: 64\n",
      "\u001b[34m\u001b[1mwandb\u001b[0m: \tepochs: 10\n",
      "\u001b[34m\u001b[1mwandb\u001b[0m: \thidden_layer_size: 64\n",
      "\u001b[34m\u001b[1mwandb\u001b[0m: \thidden_layers: 3\n",
      "\u001b[34m\u001b[1mwandb\u001b[0m: \tlr: 0.001\n",
      "\u001b[34m\u001b[1mwandb\u001b[0m: \toptimiser: adam\n",
      "\u001b[34m\u001b[1mwandb\u001b[0m: \tweight_decay: 0.5\n",
      "\u001b[34m\u001b[1mwandb\u001b[0m: \tweight_init: xavier\n"
     ]
    },
    {
     "data": {
      "text/html": [
       "\n",
       "                Tracking run with wandb version 0.10.22<br/>\n",
       "                Syncing run <strong style=\"color:#cdcd00\">hello</strong> to <a href=\"https://wandb.ai\" target=\"_blank\">Weights & Biases</a> <a href=\"https://docs.wandb.com/integrations/jupyter.html\" target=\"_blank\">(Documentation)</a>.<br/>\n",
       "                Project page: <a href=\"https://wandb.ai/notarchana/CS6910-A1\" target=\"_blank\">https://wandb.ai/notarchana/CS6910-A1</a><br/>\n",
       "                Sweep page: <a href=\"https://wandb.ai/notarchana/CS6910-A1/sweeps/wnukyq05\" target=\"_blank\">https://wandb.ai/notarchana/CS6910-A1/sweeps/wnukyq05</a><br/>\n",
       "Run page: <a href=\"https://wandb.ai/notarchana/CS6910-A1/runs/z4rfmuu9\" target=\"_blank\">https://wandb.ai/notarchana/CS6910-A1/runs/z4rfmuu9</a><br/>\n",
       "                Run data is saved locally in <code>/home/krishna/iit/sem6/dl/wandb/run-20210312_130248-z4rfmuu9</code><br/><br/>\n",
       "            "
      ],
      "text/plain": [
       "<IPython.core.display.HTML object>"
      ]
     },
     "metadata": {},
     "output_type": "display_data"
    },
    {
     "name": "stderr",
     "output_type": "stream",
     "text": [
      "\u001b[34m\u001b[1mwandb\u001b[0m: \u001b[33mWARNING\u001b[0m Calling run.save without any arguments is deprecated.Changes to attributes are automatically persisted.\n"
     ]
    },
    {
     "name": "stdout",
     "output_type": "stream",
     "text": [
      "model building done\n",
      "Epoch 0 done: Loss = 0.010916814255511179\n",
      "Epoch 1 done: Loss = 0.009875234631878681\n",
      "Epoch 2 done: Loss = 0.009250626955283019\n",
      "Epoch 3 done: Loss = 0.008877244833776594\n",
      "Epoch 4 done: Loss = 0.008595212242702568\n",
      "Epoch 5 done: Loss = 0.00837772684958465\n",
      "Epoch 6 done: Loss = 0.008191231837092871\n",
      "Epoch 7 done: Loss = 0.008033242689951968\n",
      "Epoch 8 done: Loss = 0.007896857044800835\n",
      "Epoch 9 done: Loss = 0.007779742461303861\n",
      "model training done\n"
     ]
    },
    {
     "data": {
      "text/html": [
       "<br/>Waiting for W&B process to finish, PID 105516<br/>Program ended successfully."
      ],
      "text/plain": [
       "<IPython.core.display.HTML object>"
      ]
     },
     "metadata": {},
     "output_type": "display_data"
    },
    {
     "data": {
      "application/vnd.jupyter.widget-view+json": {
       "model_id": "",
       "version_major": 2,
       "version_minor": 0
      },
      "text/plain": [
       "VBox(children=(Label(value=' 0.00MB of 0.00MB uploaded (0.00MB deduped)\\r'), FloatProgress(value=1.0, max=1.0)…"
      ]
     },
     "metadata": {},
     "output_type": "display_data"
    },
    {
     "data": {
      "text/html": [
       "Find user logs for this run at: <code>/home/krishna/iit/sem6/dl/wandb/run-20210312_130248-z4rfmuu9/logs/debug.log</code>"
      ],
      "text/plain": [
       "<IPython.core.display.HTML object>"
      ]
     },
     "metadata": {},
     "output_type": "display_data"
    },
    {
     "data": {
      "text/html": [
       "Find internal logs for this run at: <code>/home/krishna/iit/sem6/dl/wandb/run-20210312_130248-z4rfmuu9/logs/debug-internal.log</code>"
      ],
      "text/plain": [
       "<IPython.core.display.HTML object>"
      ]
     },
     "metadata": {},
     "output_type": "display_data"
    },
    {
     "data": {
      "text/html": [
       "<h3>Run summary:</h3><br/><style>\n",
       "    table.wandb td:nth-child(1) { padding: 0 10px; text-align: right }\n",
       "    </style><table class=\"wandb\">\n",
       "<tr><td>train accuracy</td><td>0.89637</td></tr><tr><td>validation accuracy</td><td>0.8705</td></tr><tr><td>train loss</td><td>0.00778</td></tr><tr><td>val loss</td><td>0.00918</td></tr><tr><td>_runtime</td><td>25</td></tr><tr><td>_timestamp</td><td>1615534393</td></tr><tr><td>_step</td><td>9</td></tr></table>"
      ],
      "text/plain": [
       "<IPython.core.display.HTML object>"
      ]
     },
     "metadata": {},
     "output_type": "display_data"
    },
    {
     "data": {
      "text/html": [
       "<h3>Run history:</h3><br/><style>\n",
       "    table.wandb td:nth-child(1) { padding: 0 10px; text-align: right }\n",
       "    </style><table class=\"wandb\">\n",
       "<tr><td>train accuracy</td><td>▁▃▅▆▆▇▇▇██</td></tr><tr><td>validation accuracy</td><td>▁▃▅▆▇▇████</td></tr><tr><td>train loss</td><td>█▆▄▃▃▂▂▂▁▁</td></tr><tr><td>val loss</td><td>█▅▄▃▃▂▂▁▁▁</td></tr><tr><td>_runtime</td><td>▁▂▂▃▄▅▅▆▇█</td></tr><tr><td>_timestamp</td><td>▁▂▂▃▄▅▅▆▇█</td></tr><tr><td>_step</td><td>▁▂▃▃▄▅▆▆▇█</td></tr></table><br/>"
      ],
      "text/plain": [
       "<IPython.core.display.HTML object>"
      ]
     },
     "metadata": {},
     "output_type": "display_data"
    },
    {
     "data": {
      "text/html": [
       "Synced 5 W&B file(s), 0 media file(s), 0 artifact file(s) and 0 other file(s)"
      ],
      "text/plain": [
       "<IPython.core.display.HTML object>"
      ]
     },
     "metadata": {},
     "output_type": "display_data"
    },
    {
     "data": {
      "text/html": [
       "\n",
       "                    <br/>Synced <strong style=\"color:#cdcd00\">hello</strong>: <a href=\"https://wandb.ai/notarchana/CS6910-A1/runs/z4rfmuu9\" target=\"_blank\">https://wandb.ai/notarchana/CS6910-A1/runs/z4rfmuu9</a><br/>\n",
       "                "
      ],
      "text/plain": [
       "<IPython.core.display.HTML object>"
      ]
     },
     "metadata": {},
     "output_type": "display_data"
    },
    {
     "name": "stderr",
     "output_type": "stream",
     "text": [
      "\u001b[34m\u001b[1mwandb\u001b[0m: Agent Starting Run: pm6xq084 with config:\n",
      "\u001b[34m\u001b[1mwandb\u001b[0m: \tactivation: relu\n",
      "\u001b[34m\u001b[1mwandb\u001b[0m: \tbatch_size: 32\n",
      "\u001b[34m\u001b[1mwandb\u001b[0m: \tepochs: 5\n",
      "\u001b[34m\u001b[1mwandb\u001b[0m: \thidden_layer_size: 128\n",
      "\u001b[34m\u001b[1mwandb\u001b[0m: \thidden_layers: 3\n",
      "\u001b[34m\u001b[1mwandb\u001b[0m: \tlr: 0.001\n",
      "\u001b[34m\u001b[1mwandb\u001b[0m: \toptimiser: rmsprop\n",
      "\u001b[34m\u001b[1mwandb\u001b[0m: \tweight_decay: 0.5\n",
      "\u001b[34m\u001b[1mwandb\u001b[0m: \tweight_init: xavier\n"
     ]
    },
    {
     "data": {
      "text/html": [
       "\n",
       "                Tracking run with wandb version 0.10.22<br/>\n",
       "                Syncing run <strong style=\"color:#cdcd00\">hello</strong> to <a href=\"https://wandb.ai\" target=\"_blank\">Weights & Biases</a> <a href=\"https://docs.wandb.com/integrations/jupyter.html\" target=\"_blank\">(Documentation)</a>.<br/>\n",
       "                Project page: <a href=\"https://wandb.ai/notarchana/CS6910-A1\" target=\"_blank\">https://wandb.ai/notarchana/CS6910-A1</a><br/>\n",
       "                Sweep page: <a href=\"https://wandb.ai/notarchana/CS6910-A1/sweeps/wnukyq05\" target=\"_blank\">https://wandb.ai/notarchana/CS6910-A1/sweeps/wnukyq05</a><br/>\n",
       "Run page: <a href=\"https://wandb.ai/notarchana/CS6910-A1/runs/pm6xq084\" target=\"_blank\">https://wandb.ai/notarchana/CS6910-A1/runs/pm6xq084</a><br/>\n",
       "                Run data is saved locally in <code>/home/krishna/iit/sem6/dl/wandb/run-20210312_130322-pm6xq084</code><br/><br/>\n",
       "            "
      ],
      "text/plain": [
       "<IPython.core.display.HTML object>"
      ]
     },
     "metadata": {},
     "output_type": "display_data"
    },
    {
     "name": "stderr",
     "output_type": "stream",
     "text": [
      "\u001b[34m\u001b[1mwandb\u001b[0m: \u001b[33mWARNING\u001b[0m Calling run.save without any arguments is deprecated.Changes to attributes are automatically persisted.\n"
     ]
    },
    {
     "name": "stdout",
     "output_type": "stream",
     "text": [
      "model building done\n",
      "Epoch 0 done: Loss = 0.010674424146238187\n",
      "Epoch 1 done: Loss = 0.009023076281917588\n",
      "Epoch 2 done: Loss = 0.009093420817826176\n",
      "Epoch 3 done: Loss = 0.007999460272520117\n",
      "Epoch 4 done: Loss = 0.008293852086772004\n",
      "model training done\n"
     ]
    },
    {
     "data": {
      "text/html": [
       "<br/>Waiting for W&B process to finish, PID 105552<br/>Program ended successfully."
      ],
      "text/plain": [
       "<IPython.core.display.HTML object>"
      ]
     },
     "metadata": {},
     "output_type": "display_data"
    },
    {
     "data": {
      "application/vnd.jupyter.widget-view+json": {
       "model_id": "",
       "version_major": 2,
       "version_minor": 0
      },
      "text/plain": [
       "VBox(children=(Label(value=' 0.00MB of 0.00MB uploaded (0.00MB deduped)\\r'), FloatProgress(value=1.0, max=1.0)…"
      ]
     },
     "metadata": {},
     "output_type": "display_data"
    },
    {
     "data": {
      "text/html": [
       "Find user logs for this run at: <code>/home/krishna/iit/sem6/dl/wandb/run-20210312_130322-pm6xq084/logs/debug.log</code>"
      ],
      "text/plain": [
       "<IPython.core.display.HTML object>"
      ]
     },
     "metadata": {},
     "output_type": "display_data"
    },
    {
     "data": {
      "text/html": [
       "Find internal logs for this run at: <code>/home/krishna/iit/sem6/dl/wandb/run-20210312_130322-pm6xq084/logs/debug-internal.log</code>"
      ],
      "text/plain": [
       "<IPython.core.display.HTML object>"
      ]
     },
     "metadata": {},
     "output_type": "display_data"
    },
    {
     "data": {
      "text/html": [
       "<h3>Run summary:</h3><br/><style>\n",
       "    table.wandb td:nth-child(1) { padding: 0 10px; text-align: right }\n",
       "    </style><table class=\"wandb\">\n",
       "<tr><td>train accuracy</td><td>0.88935</td></tr><tr><td>validation accuracy</td><td>0.87283</td></tr><tr><td>train loss</td><td>0.00829</td></tr><tr><td>val loss</td><td>0.00946</td></tr><tr><td>_runtime</td><td>29</td></tr><tr><td>_timestamp</td><td>1615534431</td></tr><tr><td>_step</td><td>4</td></tr></table>"
      ],
      "text/plain": [
       "<IPython.core.display.HTML object>"
      ]
     },
     "metadata": {},
     "output_type": "display_data"
    },
    {
     "data": {
      "text/html": [
       "<h3>Run history:</h3><br/><style>\n",
       "    table.wandb td:nth-child(1) { padding: 0 10px; text-align: right }\n",
       "    </style><table class=\"wandb\">\n",
       "<tr><td>train accuracy</td><td>▁▅▆██</td></tr><tr><td>validation accuracy</td><td>▁▅▅██</td></tr><tr><td>train loss</td><td>█▄▄▁▂</td></tr><tr><td>val loss</td><td>█▃▄▁▂</td></tr><tr><td>_runtime</td><td>▁▃▄▆█</td></tr><tr><td>_timestamp</td><td>▁▃▄▆█</td></tr><tr><td>_step</td><td>▁▃▅▆█</td></tr></table><br/>"
      ],
      "text/plain": [
       "<IPython.core.display.HTML object>"
      ]
     },
     "metadata": {},
     "output_type": "display_data"
    },
    {
     "data": {
      "text/html": [
       "Synced 5 W&B file(s), 0 media file(s), 0 artifact file(s) and 0 other file(s)"
      ],
      "text/plain": [
       "<IPython.core.display.HTML object>"
      ]
     },
     "metadata": {},
     "output_type": "display_data"
    },
    {
     "data": {
      "text/html": [
       "\n",
       "                    <br/>Synced <strong style=\"color:#cdcd00\">hello</strong>: <a href=\"https://wandb.ai/notarchana/CS6910-A1/runs/pm6xq084\" target=\"_blank\">https://wandb.ai/notarchana/CS6910-A1/runs/pm6xq084</a><br/>\n",
       "                "
      ],
      "text/plain": [
       "<IPython.core.display.HTML object>"
      ]
     },
     "metadata": {},
     "output_type": "display_data"
    },
    {
     "name": "stderr",
     "output_type": "stream",
     "text": [
      "\u001b[34m\u001b[1mwandb\u001b[0m: Agent Starting Run: 1vs0dqzf with config:\n",
      "\u001b[34m\u001b[1mwandb\u001b[0m: \tactivation: tanh\n",
      "\u001b[34m\u001b[1mwandb\u001b[0m: \tbatch_size: 64\n",
      "\u001b[34m\u001b[1mwandb\u001b[0m: \tepochs: 5\n",
      "\u001b[34m\u001b[1mwandb\u001b[0m: \thidden_layer_size: 32\n",
      "\u001b[34m\u001b[1mwandb\u001b[0m: \thidden_layers: 5\n",
      "\u001b[34m\u001b[1mwandb\u001b[0m: \tlr: 0.001\n",
      "\u001b[34m\u001b[1mwandb\u001b[0m: \toptimiser: rmsprop\n",
      "\u001b[34m\u001b[1mwandb\u001b[0m: \tweight_decay: 0\n",
      "\u001b[34m\u001b[1mwandb\u001b[0m: \tweight_init: xavier\n"
     ]
    },
    {
     "data": {
      "text/html": [
       "\n",
       "                Tracking run with wandb version 0.10.22<br/>\n",
       "                Syncing run <strong style=\"color:#cdcd00\">hello</strong> to <a href=\"https://wandb.ai\" target=\"_blank\">Weights & Biases</a> <a href=\"https://docs.wandb.com/integrations/jupyter.html\" target=\"_blank\">(Documentation)</a>.<br/>\n",
       "                Project page: <a href=\"https://wandb.ai/notarchana/CS6910-A1\" target=\"_blank\">https://wandb.ai/notarchana/CS6910-A1</a><br/>\n",
       "                Sweep page: <a href=\"https://wandb.ai/notarchana/CS6910-A1/sweeps/wnukyq05\" target=\"_blank\">https://wandb.ai/notarchana/CS6910-A1/sweeps/wnukyq05</a><br/>\n",
       "Run page: <a href=\"https://wandb.ai/notarchana/CS6910-A1/runs/1vs0dqzf\" target=\"_blank\">https://wandb.ai/notarchana/CS6910-A1/runs/1vs0dqzf</a><br/>\n",
       "                Run data is saved locally in <code>/home/krishna/iit/sem6/dl/wandb/run-20210312_130358-1vs0dqzf</code><br/><br/>\n",
       "            "
      ],
      "text/plain": [
       "<IPython.core.display.HTML object>"
      ]
     },
     "metadata": {},
     "output_type": "display_data"
    },
    {
     "name": "stderr",
     "output_type": "stream",
     "text": [
      "\u001b[34m\u001b[1mwandb\u001b[0m: \u001b[33mWARNING\u001b[0m Calling run.save without any arguments is deprecated.Changes to attributes are automatically persisted.\n"
     ]
    },
    {
     "name": "stdout",
     "output_type": "stream",
     "text": [
      "model building done\n",
      "Epoch 0 done: Loss = 0.01142275076920351\n",
      "Epoch 1 done: Loss = 0.009758366372072216\n",
      "Epoch 2 done: Loss = 0.009774895900242296\n",
      "Epoch 3 done: Loss = 0.009133078484057575\n",
      "Epoch 4 done: Loss = 0.008713155399120265\n",
      "model training done\n"
     ]
    },
    {
     "data": {
      "text/html": [
       "<br/>Waiting for W&B process to finish, PID 105586<br/>Program ended successfully."
      ],
      "text/plain": [
       "<IPython.core.display.HTML object>"
      ]
     },
     "metadata": {},
     "output_type": "display_data"
    },
    {
     "data": {
      "application/vnd.jupyter.widget-view+json": {
       "model_id": "",
       "version_major": 2,
       "version_minor": 0
      },
      "text/plain": [
       "VBox(children=(Label(value=' 0.00MB of 0.00MB uploaded (0.00MB deduped)\\r'), FloatProgress(value=1.0, max=1.0)…"
      ]
     },
     "metadata": {},
     "output_type": "display_data"
    },
    {
     "data": {
      "text/html": [
       "Find user logs for this run at: <code>/home/krishna/iit/sem6/dl/wandb/run-20210312_130358-1vs0dqzf/logs/debug.log</code>"
      ],
      "text/plain": [
       "<IPython.core.display.HTML object>"
      ]
     },
     "metadata": {},
     "output_type": "display_data"
    },
    {
     "data": {
      "text/html": [
       "Find internal logs for this run at: <code>/home/krishna/iit/sem6/dl/wandb/run-20210312_130358-1vs0dqzf/logs/debug-internal.log</code>"
      ],
      "text/plain": [
       "<IPython.core.display.HTML object>"
      ]
     },
     "metadata": {},
     "output_type": "display_data"
    },
    {
     "data": {
      "text/html": [
       "<h3>Run summary:</h3><br/><style>\n",
       "    table.wandb td:nth-child(1) { padding: 0 10px; text-align: right }\n",
       "    </style><table class=\"wandb\">\n",
       "<tr><td>train accuracy</td><td>0.88019</td></tr><tr><td>validation accuracy</td><td>0.87117</td></tr><tr><td>train loss</td><td>0.00871</td></tr><tr><td>val loss</td><td>0.00944</td></tr><tr><td>_runtime</td><td>15</td></tr><tr><td>_timestamp</td><td>1615534453</td></tr><tr><td>_step</td><td>4</td></tr></table>"
      ],
      "text/plain": [
       "<IPython.core.display.HTML object>"
      ]
     },
     "metadata": {},
     "output_type": "display_data"
    },
    {
     "data": {
      "text/html": [
       "<h3>Run history:</h3><br/><style>\n",
       "    table.wandb td:nth-child(1) { padding: 0 10px; text-align: right }\n",
       "    </style><table class=\"wandb\">\n",
       "<tr><td>train accuracy</td><td>▁▅▅▇█</td></tr><tr><td>validation accuracy</td><td>▁▆▅▇█</td></tr><tr><td>train loss</td><td>█▄▄▂▁</td></tr><tr><td>val loss</td><td>█▃▄▂▁</td></tr><tr><td>_runtime</td><td>▁▃▅▇█</td></tr><tr><td>_timestamp</td><td>▁▃▅▇█</td></tr><tr><td>_step</td><td>▁▃▅▆█</td></tr></table><br/>"
      ],
      "text/plain": [
       "<IPython.core.display.HTML object>"
      ]
     },
     "metadata": {},
     "output_type": "display_data"
    },
    {
     "data": {
      "text/html": [
       "Synced 5 W&B file(s), 0 media file(s), 0 artifact file(s) and 0 other file(s)"
      ],
      "text/plain": [
       "<IPython.core.display.HTML object>"
      ]
     },
     "metadata": {},
     "output_type": "display_data"
    },
    {
     "data": {
      "text/html": [
       "\n",
       "                    <br/>Synced <strong style=\"color:#cdcd00\">hello</strong>: <a href=\"https://wandb.ai/notarchana/CS6910-A1/runs/1vs0dqzf\" target=\"_blank\">https://wandb.ai/notarchana/CS6910-A1/runs/1vs0dqzf</a><br/>\n",
       "                "
      ],
      "text/plain": [
       "<IPython.core.display.HTML object>"
      ]
     },
     "metadata": {},
     "output_type": "display_data"
    },
    {
     "name": "stderr",
     "output_type": "stream",
     "text": [
      "\u001b[34m\u001b[1mwandb\u001b[0m: Agent Starting Run: gs10ubva with config:\n",
      "\u001b[34m\u001b[1mwandb\u001b[0m: \tactivation: relu\n",
      "\u001b[34m\u001b[1mwandb\u001b[0m: \tbatch_size: 64\n",
      "\u001b[34m\u001b[1mwandb\u001b[0m: \tepochs: 5\n",
      "\u001b[34m\u001b[1mwandb\u001b[0m: \thidden_layer_size: 32\n",
      "\u001b[34m\u001b[1mwandb\u001b[0m: \thidden_layers: 4\n",
      "\u001b[34m\u001b[1mwandb\u001b[0m: \tlr: 0.001\n",
      "\u001b[34m\u001b[1mwandb\u001b[0m: \toptimiser: momentum\n",
      "\u001b[34m\u001b[1mwandb\u001b[0m: \tweight_decay: 0.0005\n",
      "\u001b[34m\u001b[1mwandb\u001b[0m: \tweight_init: xavier\n"
     ]
    },
    {
     "data": {
      "text/html": [
       "\n",
       "                Tracking run with wandb version 0.10.22<br/>\n",
       "                Syncing run <strong style=\"color:#cdcd00\">hello</strong> to <a href=\"https://wandb.ai\" target=\"_blank\">Weights & Biases</a> <a href=\"https://docs.wandb.com/integrations/jupyter.html\" target=\"_blank\">(Documentation)</a>.<br/>\n",
       "                Project page: <a href=\"https://wandb.ai/notarchana/CS6910-A1\" target=\"_blank\">https://wandb.ai/notarchana/CS6910-A1</a><br/>\n",
       "                Sweep page: <a href=\"https://wandb.ai/notarchana/CS6910-A1/sweeps/wnukyq05\" target=\"_blank\">https://wandb.ai/notarchana/CS6910-A1/sweeps/wnukyq05</a><br/>\n",
       "Run page: <a href=\"https://wandb.ai/notarchana/CS6910-A1/runs/gs10ubva\" target=\"_blank\">https://wandb.ai/notarchana/CS6910-A1/runs/gs10ubva</a><br/>\n",
       "                Run data is saved locally in <code>/home/krishna/iit/sem6/dl/wandb/run-20210312_130426-gs10ubva</code><br/><br/>\n",
       "            "
      ],
      "text/plain": [
       "<IPython.core.display.HTML object>"
      ]
     },
     "metadata": {},
     "output_type": "display_data"
    },
    {
     "name": "stderr",
     "output_type": "stream",
     "text": [
      "\u001b[34m\u001b[1mwandb\u001b[0m: \u001b[33mWARNING\u001b[0m Calling run.save without any arguments is deprecated.Changes to attributes are automatically persisted.\n"
     ]
    },
    {
     "name": "stdout",
     "output_type": "stream",
     "text": [
      "model building done\n",
      "Epoch 0 done: Loss = 0.0121077305035003\n",
      "Epoch 1 done: Loss = 0.010769676872555815\n",
      "Epoch 2 done: Loss = 0.010001995197667393\n",
      "Epoch 3 done: Loss = 0.009423725776068795\n",
      "Epoch 4 done: Loss = 0.00961671577981129\n",
      "model training done\n"
     ]
    },
    {
     "data": {
      "text/html": [
       "<br/>Waiting for W&B process to finish, PID 105637<br/>Program ended successfully."
      ],
      "text/plain": [
       "<IPython.core.display.HTML object>"
      ]
     },
     "metadata": {},
     "output_type": "display_data"
    },
    {
     "data": {
      "application/vnd.jupyter.widget-view+json": {
       "model_id": "",
       "version_major": 2,
       "version_minor": 0
      },
      "text/plain": [
       "VBox(children=(Label(value=' 0.00MB of 0.00MB uploaded (0.00MB deduped)\\r'), FloatProgress(value=1.0, max=1.0)…"
      ]
     },
     "metadata": {},
     "output_type": "display_data"
    },
    {
     "data": {
      "text/html": [
       "Find user logs for this run at: <code>/home/krishna/iit/sem6/dl/wandb/run-20210312_130426-gs10ubva/logs/debug.log</code>"
      ],
      "text/plain": [
       "<IPython.core.display.HTML object>"
      ]
     },
     "metadata": {},
     "output_type": "display_data"
    },
    {
     "data": {
      "text/html": [
       "Find internal logs for this run at: <code>/home/krishna/iit/sem6/dl/wandb/run-20210312_130426-gs10ubva/logs/debug-internal.log</code>"
      ],
      "text/plain": [
       "<IPython.core.display.HTML object>"
      ]
     },
     "metadata": {},
     "output_type": "display_data"
    },
    {
     "data": {
      "text/html": [
       "<h3>Run summary:</h3><br/><style>\n",
       "    table.wandb td:nth-child(1) { padding: 0 10px; text-align: right }\n",
       "    </style><table class=\"wandb\">\n",
       "<tr><td>train accuracy</td><td>0.86696</td></tr><tr><td>validation accuracy</td><td>0.858</td></tr><tr><td>train loss</td><td>0.00962</td></tr><tr><td>val loss</td><td>0.01045</td></tr><tr><td>_runtime</td><td>29</td></tr><tr><td>_timestamp</td><td>1615534495</td></tr><tr><td>_step</td><td>4</td></tr></table>"
      ],
      "text/plain": [
       "<IPython.core.display.HTML object>"
      ]
     },
     "metadata": {},
     "output_type": "display_data"
    },
    {
     "data": {
      "text/html": [
       "<h3>Run history:</h3><br/><style>\n",
       "    table.wandb td:nth-child(1) { padding: 0 10px; text-align: right }\n",
       "    </style><table class=\"wandb\">\n",
       "<tr><td>train accuracy</td><td>▁▅▇██</td></tr><tr><td>validation accuracy</td><td>▁▅▇█▇</td></tr><tr><td>train loss</td><td>█▅▃▁▂</td></tr><tr><td>val loss</td><td>█▄▂▁▂</td></tr><tr><td>_runtime</td><td>▁▂▄▅█</td></tr><tr><td>_timestamp</td><td>▁▂▄▅█</td></tr><tr><td>_step</td><td>▁▃▅▆█</td></tr></table><br/>"
      ],
      "text/plain": [
       "<IPython.core.display.HTML object>"
      ]
     },
     "metadata": {},
     "output_type": "display_data"
    },
    {
     "data": {
      "text/html": [
       "Synced 5 W&B file(s), 0 media file(s), 0 artifact file(s) and 0 other file(s)"
      ],
      "text/plain": [
       "<IPython.core.display.HTML object>"
      ]
     },
     "metadata": {},
     "output_type": "display_data"
    },
    {
     "data": {
      "text/html": [
       "\n",
       "                    <br/>Synced <strong style=\"color:#cdcd00\">hello</strong>: <a href=\"https://wandb.ai/notarchana/CS6910-A1/runs/gs10ubva\" target=\"_blank\">https://wandb.ai/notarchana/CS6910-A1/runs/gs10ubva</a><br/>\n",
       "                "
      ],
      "text/plain": [
       "<IPython.core.display.HTML object>"
      ]
     },
     "metadata": {},
     "output_type": "display_data"
    },
    {
     "name": "stderr",
     "output_type": "stream",
     "text": [
      "\u001b[34m\u001b[1mwandb\u001b[0m: Agent Starting Run: r06lf9w4 with config:\n",
      "\u001b[34m\u001b[1mwandb\u001b[0m: \tactivation: tanh\n",
      "\u001b[34m\u001b[1mwandb\u001b[0m: \tbatch_size: 64\n",
      "\u001b[34m\u001b[1mwandb\u001b[0m: \tepochs: 10\n",
      "\u001b[34m\u001b[1mwandb\u001b[0m: \thidden_layer_size: 128\n",
      "\u001b[34m\u001b[1mwandb\u001b[0m: \thidden_layers: 5\n",
      "\u001b[34m\u001b[1mwandb\u001b[0m: \tlr: 0.0001\n",
      "\u001b[34m\u001b[1mwandb\u001b[0m: \toptimiser: nadam\n",
      "\u001b[34m\u001b[1mwandb\u001b[0m: \tweight_decay: 0.5\n",
      "\u001b[34m\u001b[1mwandb\u001b[0m: \tweight_init: xavier\n"
     ]
    },
    {
     "data": {
      "text/html": [
       "\n",
       "                Tracking run with wandb version 0.10.22<br/>\n",
       "                Syncing run <strong style=\"color:#cdcd00\">hello</strong> to <a href=\"https://wandb.ai\" target=\"_blank\">Weights & Biases</a> <a href=\"https://docs.wandb.com/integrations/jupyter.html\" target=\"_blank\">(Documentation)</a>.<br/>\n",
       "                Project page: <a href=\"https://wandb.ai/notarchana/CS6910-A1\" target=\"_blank\">https://wandb.ai/notarchana/CS6910-A1</a><br/>\n",
       "                Sweep page: <a href=\"https://wandb.ai/notarchana/CS6910-A1/sweeps/wnukyq05\" target=\"_blank\">https://wandb.ai/notarchana/CS6910-A1/sweeps/wnukyq05</a><br/>\n",
       "Run page: <a href=\"https://wandb.ai/notarchana/CS6910-A1/runs/r06lf9w4\" target=\"_blank\">https://wandb.ai/notarchana/CS6910-A1/runs/r06lf9w4</a><br/>\n",
       "                Run data is saved locally in <code>/home/krishna/iit/sem6/dl/wandb/run-20210312_130502-r06lf9w4</code><br/><br/>\n",
       "            "
      ],
      "text/plain": [
       "<IPython.core.display.HTML object>"
      ]
     },
     "metadata": {},
     "output_type": "display_data"
    },
    {
     "name": "stderr",
     "output_type": "stream",
     "text": [
      "\u001b[34m\u001b[1mwandb\u001b[0m: \u001b[33mWARNING\u001b[0m Calling run.save without any arguments is deprecated.Changes to attributes are automatically persisted.\n"
     ]
    },
    {
     "name": "stdout",
     "output_type": "stream",
     "text": [
      "model building done\n",
      "Epoch 0 done: Loss = 0.01214038885225941\n",
      "Epoch 1 done: Loss = 0.011392882582585232\n",
      "Epoch 2 done: Loss = 0.010969895676216921\n",
      "Epoch 3 done: Loss = 0.010672181328958806\n",
      "Epoch 4 done: Loss = 0.010440146499602178\n",
      "Epoch 5 done: Loss = 0.010248031335626963\n",
      "Epoch 6 done: Loss = 0.010082644292439217\n",
      "Epoch 7 done: Loss = 0.009936394846410004\n",
      "Epoch 8 done: Loss = 0.009804546654274595\n",
      "Epoch 9 done: Loss = 0.009683963052966994\n",
      "model training done\n"
     ]
    },
    {
     "data": {
      "text/html": [
       "<br/>Waiting for W&B process to finish, PID 105683<br/>Program ended successfully."
      ],
      "text/plain": [
       "<IPython.core.display.HTML object>"
      ]
     },
     "metadata": {},
     "output_type": "display_data"
    },
    {
     "data": {
      "application/vnd.jupyter.widget-view+json": {
       "model_id": "",
       "version_major": 2,
       "version_minor": 0
      },
      "text/plain": [
       "VBox(children=(Label(value=' 0.00MB of 0.00MB uploaded (0.00MB deduped)\\r'), FloatProgress(value=1.0, max=1.0)…"
      ]
     },
     "metadata": {},
     "output_type": "display_data"
    },
    {
     "data": {
      "text/html": [
       "Find user logs for this run at: <code>/home/krishna/iit/sem6/dl/wandb/run-20210312_130502-r06lf9w4/logs/debug.log</code>"
      ],
      "text/plain": [
       "<IPython.core.display.HTML object>"
      ]
     },
     "metadata": {},
     "output_type": "display_data"
    },
    {
     "data": {
      "text/html": [
       "Find internal logs for this run at: <code>/home/krishna/iit/sem6/dl/wandb/run-20210312_130502-r06lf9w4/logs/debug-internal.log</code>"
      ],
      "text/plain": [
       "<IPython.core.display.HTML object>"
      ]
     },
     "metadata": {},
     "output_type": "display_data"
    },
    {
     "data": {
      "text/html": [
       "<h3>Run summary:</h3><br/><style>\n",
       "    table.wandb td:nth-child(1) { padding: 0 10px; text-align: right }\n",
       "    </style><table class=\"wandb\">\n",
       "<tr><td>train accuracy</td><td>0.86798</td></tr><tr><td>validation accuracy</td><td>0.8595</td></tr><tr><td>train loss</td><td>0.00968</td></tr><tr><td>val loss</td><td>0.01</td></tr><tr><td>_runtime</td><td>108</td></tr><tr><td>_timestamp</td><td>1615534610</td></tr><tr><td>_step</td><td>9</td></tr></table>"
      ],
      "text/plain": [
       "<IPython.core.display.HTML object>"
      ]
     },
     "metadata": {},
     "output_type": "display_data"
    },
    {
     "data": {
      "text/html": [
       "<h3>Run history:</h3><br/><style>\n",
       "    table.wandb td:nth-child(1) { padding: 0 10px; text-align: right }\n",
       "    </style><table class=\"wandb\">\n",
       "<tr><td>train accuracy</td><td>▁▃▄▅▆▆▇▇██</td></tr><tr><td>validation accuracy</td><td>▁▃▄▅▆▆▇███</td></tr><tr><td>train loss</td><td>█▆▅▄▃▃▂▂▁▁</td></tr><tr><td>val loss</td><td>█▆▅▄▃▂▂▂▁▁</td></tr><tr><td>_runtime</td><td>▁▂▂▃▄▅▆▆▇█</td></tr><tr><td>_timestamp</td><td>▁▂▂▃▄▅▆▆▇█</td></tr><tr><td>_step</td><td>▁▂▃▃▄▅▆▆▇█</td></tr></table><br/>"
      ],
      "text/plain": [
       "<IPython.core.display.HTML object>"
      ]
     },
     "metadata": {},
     "output_type": "display_data"
    },
    {
     "data": {
      "text/html": [
       "Synced 5 W&B file(s), 0 media file(s), 0 artifact file(s) and 0 other file(s)"
      ],
      "text/plain": [
       "<IPython.core.display.HTML object>"
      ]
     },
     "metadata": {},
     "output_type": "display_data"
    },
    {
     "data": {
      "text/html": [
       "\n",
       "                    <br/>Synced <strong style=\"color:#cdcd00\">hello</strong>: <a href=\"https://wandb.ai/notarchana/CS6910-A1/runs/r06lf9w4\" target=\"_blank\">https://wandb.ai/notarchana/CS6910-A1/runs/r06lf9w4</a><br/>\n",
       "                "
      ],
      "text/plain": [
       "<IPython.core.display.HTML object>"
      ]
     },
     "metadata": {},
     "output_type": "display_data"
    },
    {
     "name": "stderr",
     "output_type": "stream",
     "text": [
      "\u001b[34m\u001b[1mwandb\u001b[0m: Agent Starting Run: 8hsod0n9 with config:\n",
      "\u001b[34m\u001b[1mwandb\u001b[0m: \tactivation: tanh\n",
      "\u001b[34m\u001b[1mwandb\u001b[0m: \tbatch_size: 32\n",
      "\u001b[34m\u001b[1mwandb\u001b[0m: \tepochs: 10\n",
      "\u001b[34m\u001b[1mwandb\u001b[0m: \thidden_layer_size: 128\n",
      "\u001b[34m\u001b[1mwandb\u001b[0m: \thidden_layers: 4\n",
      "\u001b[34m\u001b[1mwandb\u001b[0m: \tlr: 0.0001\n",
      "\u001b[34m\u001b[1mwandb\u001b[0m: \toptimiser: nadam\n",
      "\u001b[34m\u001b[1mwandb\u001b[0m: \tweight_decay: 0.0005\n",
      "\u001b[34m\u001b[1mwandb\u001b[0m: \tweight_init: xavier\n"
     ]
    },
    {
     "data": {
      "text/html": [
       "\n",
       "                Tracking run with wandb version 0.10.22<br/>\n",
       "                Syncing run <strong style=\"color:#cdcd00\">hello</strong> to <a href=\"https://wandb.ai\" target=\"_blank\">Weights & Biases</a> <a href=\"https://docs.wandb.com/integrations/jupyter.html\" target=\"_blank\">(Documentation)</a>.<br/>\n",
       "                Project page: <a href=\"https://wandb.ai/notarchana/CS6910-A1\" target=\"_blank\">https://wandb.ai/notarchana/CS6910-A1</a><br/>\n",
       "                Sweep page: <a href=\"https://wandb.ai/notarchana/CS6910-A1/sweeps/wnukyq05\" target=\"_blank\">https://wandb.ai/notarchana/CS6910-A1/sweeps/wnukyq05</a><br/>\n",
       "Run page: <a href=\"https://wandb.ai/notarchana/CS6910-A1/runs/8hsod0n9\" target=\"_blank\">https://wandb.ai/notarchana/CS6910-A1/runs/8hsod0n9</a><br/>\n",
       "                Run data is saved locally in <code>/home/krishna/iit/sem6/dl/wandb/run-20210312_130659-8hsod0n9</code><br/><br/>\n",
       "            "
      ],
      "text/plain": [
       "<IPython.core.display.HTML object>"
      ]
     },
     "metadata": {},
     "output_type": "display_data"
    },
    {
     "name": "stderr",
     "output_type": "stream",
     "text": [
      "\u001b[34m\u001b[1mwandb\u001b[0m: \u001b[33mWARNING\u001b[0m Calling run.save without any arguments is deprecated.Changes to attributes are automatically persisted.\n"
     ]
    },
    {
     "name": "stdout",
     "output_type": "stream",
     "text": [
      "model building done\n",
      "Epoch 0 done: Loss = 0.01205049272702906\n",
      "Epoch 1 done: Loss = 0.0111929986808941\n",
      "Epoch 2 done: Loss = 0.010744714032795479\n",
      "Epoch 3 done: Loss = 0.010437724955681123\n",
      "Epoch 4 done: Loss = 0.010201043028680752\n",
      "Epoch 5 done: Loss = 0.010005891985132678\n",
      "Epoch 6 done: Loss = 0.009838056225089296\n",
      "Epoch 7 done: Loss = 0.009689595891902188\n",
      "Epoch 8 done: Loss = 0.009555667701246238\n",
      "Epoch 9 done: Loss = 0.00943311352813324\n",
      "model training done\n"
     ]
    },
    {
     "data": {
      "text/html": [
       "<br/>Waiting for W&B process to finish, PID 105733<br/>Program ended successfully."
      ],
      "text/plain": [
       "<IPython.core.display.HTML object>"
      ]
     },
     "metadata": {},
     "output_type": "display_data"
    },
    {
     "data": {
      "application/vnd.jupyter.widget-view+json": {
       "model_id": "",
       "version_major": 2,
       "version_minor": 0
      },
      "text/plain": [
       "VBox(children=(Label(value=' 0.00MB of 0.00MB uploaded (0.00MB deduped)\\r'), FloatProgress(value=1.0, max=1.0)…"
      ]
     },
     "metadata": {},
     "output_type": "display_data"
    },
    {
     "data": {
      "text/html": [
       "Find user logs for this run at: <code>/home/krishna/iit/sem6/dl/wandb/run-20210312_130659-8hsod0n9/logs/debug.log</code>"
      ],
      "text/plain": [
       "<IPython.core.display.HTML object>"
      ]
     },
     "metadata": {},
     "output_type": "display_data"
    },
    {
     "data": {
      "text/html": [
       "Find internal logs for this run at: <code>/home/krishna/iit/sem6/dl/wandb/run-20210312_130659-8hsod0n9/logs/debug-internal.log</code>"
      ],
      "text/plain": [
       "<IPython.core.display.HTML object>"
      ]
     },
     "metadata": {},
     "output_type": "display_data"
    },
    {
     "data": {
      "text/html": [
       "<h3>Run summary:</h3><br/><style>\n",
       "    table.wandb td:nth-child(1) { padding: 0 10px; text-align: right }\n",
       "    </style><table class=\"wandb\">\n",
       "<tr><td>train accuracy</td><td>0.8707</td></tr><tr><td>validation accuracy</td><td>0.86233</td></tr><tr><td>train loss</td><td>0.00943</td></tr><tr><td>val loss</td><td>0.01006</td></tr><tr><td>_runtime</td><td>123</td></tr><tr><td>_timestamp</td><td>1615534742</td></tr><tr><td>_step</td><td>9</td></tr></table>"
      ],
      "text/plain": [
       "<IPython.core.display.HTML object>"
      ]
     },
     "metadata": {},
     "output_type": "display_data"
    },
    {
     "data": {
      "text/html": [
       "<h3>Run history:</h3><br/><style>\n",
       "    table.wandb td:nth-child(1) { padding: 0 10px; text-align: right }\n",
       "    </style><table class=\"wandb\">\n",
       "<tr><td>train accuracy</td><td>▁▃▅▅▆▇▇▇██</td></tr><tr><td>validation accuracy</td><td>▁▄▅▅▆▇▇▇██</td></tr><tr><td>train loss</td><td>█▆▅▄▃▃▂▂▁▁</td></tr><tr><td>val loss</td><td>█▆▄▄▃▂▂▂▁▁</td></tr><tr><td>_runtime</td><td>▁▂▂▃▄▅▆▆▇█</td></tr><tr><td>_timestamp</td><td>▁▂▂▃▄▅▆▆▇█</td></tr><tr><td>_step</td><td>▁▂▃▃▄▅▆▆▇█</td></tr></table><br/>"
      ],
      "text/plain": [
       "<IPython.core.display.HTML object>"
      ]
     },
     "metadata": {},
     "output_type": "display_data"
    },
    {
     "data": {
      "text/html": [
       "Synced 5 W&B file(s), 0 media file(s), 0 artifact file(s) and 0 other file(s)"
      ],
      "text/plain": [
       "<IPython.core.display.HTML object>"
      ]
     },
     "metadata": {},
     "output_type": "display_data"
    },
    {
     "data": {
      "text/html": [
       "\n",
       "                    <br/>Synced <strong style=\"color:#cdcd00\">hello</strong>: <a href=\"https://wandb.ai/notarchana/CS6910-A1/runs/8hsod0n9\" target=\"_blank\">https://wandb.ai/notarchana/CS6910-A1/runs/8hsod0n9</a><br/>\n",
       "                "
      ],
      "text/plain": [
       "<IPython.core.display.HTML object>"
      ]
     },
     "metadata": {},
     "output_type": "display_data"
    },
    {
     "name": "stderr",
     "output_type": "stream",
     "text": [
      "\u001b[34m\u001b[1mwandb\u001b[0m: Agent Starting Run: aih5xrom with config:\n",
      "\u001b[34m\u001b[1mwandb\u001b[0m: \tactivation: sigmoid\n",
      "\u001b[34m\u001b[1mwandb\u001b[0m: \tbatch_size: 16\n",
      "\u001b[34m\u001b[1mwandb\u001b[0m: \tepochs: 10\n",
      "\u001b[34m\u001b[1mwandb\u001b[0m: \thidden_layer_size: 32\n",
      "\u001b[34m\u001b[1mwandb\u001b[0m: \thidden_layers: 3\n",
      "\u001b[34m\u001b[1mwandb\u001b[0m: \tlr: 0.001\n",
      "\u001b[34m\u001b[1mwandb\u001b[0m: \toptimiser: nesterov\n",
      "\u001b[34m\u001b[1mwandb\u001b[0m: \tweight_decay: 0.0005\n",
      "\u001b[34m\u001b[1mwandb\u001b[0m: \tweight_init: xavier\n"
     ]
    },
    {
     "data": {
      "text/html": [
       "\n",
       "                Tracking run with wandb version 0.10.22<br/>\n",
       "                Syncing run <strong style=\"color:#cdcd00\">hello</strong> to <a href=\"https://wandb.ai\" target=\"_blank\">Weights & Biases</a> <a href=\"https://docs.wandb.com/integrations/jupyter.html\" target=\"_blank\">(Documentation)</a>.<br/>\n",
       "                Project page: <a href=\"https://wandb.ai/notarchana/CS6910-A1\" target=\"_blank\">https://wandb.ai/notarchana/CS6910-A1</a><br/>\n",
       "                Sweep page: <a href=\"https://wandb.ai/notarchana/CS6910-A1/sweeps/wnukyq05\" target=\"_blank\">https://wandb.ai/notarchana/CS6910-A1/sweeps/wnukyq05</a><br/>\n",
       "Run page: <a href=\"https://wandb.ai/notarchana/CS6910-A1/runs/aih5xrom\" target=\"_blank\">https://wandb.ai/notarchana/CS6910-A1/runs/aih5xrom</a><br/>\n",
       "                Run data is saved locally in <code>/home/krishna/iit/sem6/dl/wandb/run-20210312_130909-aih5xrom</code><br/><br/>\n",
       "            "
      ],
      "text/plain": [
       "<IPython.core.display.HTML object>"
      ]
     },
     "metadata": {},
     "output_type": "display_data"
    },
    {
     "name": "stderr",
     "output_type": "stream",
     "text": [
      "\u001b[34m\u001b[1mwandb\u001b[0m: \u001b[33mWARNING\u001b[0m Calling run.save without any arguments is deprecated.Changes to attributes are automatically persisted.\n"
     ]
    },
    {
     "name": "stdout",
     "output_type": "stream",
     "text": [
      "model building done\n",
      "Epoch 0 done: Loss = 0.04493941958155164\n",
      "Epoch 1 done: Loss = 0.04489704323508498\n",
      "Epoch 2 done: Loss = 0.04484259471024977\n",
      "Epoch 3 done: Loss = 0.04476696151852092\n",
      "Epoch 4 done: Loss = 0.044652564439195595\n",
      "Epoch 5 done: Loss = 0.044461726410140845\n",
      "Epoch 6 done: Loss = 0.04410473333887695\n",
      "Epoch 7 done: Loss = 0.04337055705356595\n",
      "Epoch 8 done: Loss = 0.0420261855219198\n",
      "Epoch 9 done: Loss = 0.040420870619330085\n",
      "model training done\n"
     ]
    },
    {
     "data": {
      "text/html": [
       "<br/>Waiting for W&B process to finish, PID 105803<br/>Program ended successfully."
      ],
      "text/plain": [
       "<IPython.core.display.HTML object>"
      ]
     },
     "metadata": {},
     "output_type": "display_data"
    },
    {
     "data": {
      "application/vnd.jupyter.widget-view+json": {
       "model_id": "",
       "version_major": 2,
       "version_minor": 0
      },
      "text/plain": [
       "VBox(children=(Label(value=' 0.00MB of 0.00MB uploaded (0.00MB deduped)\\r'), FloatProgress(value=1.0, max=1.0)…"
      ]
     },
     "metadata": {},
     "output_type": "display_data"
    },
    {
     "data": {
      "text/html": [
       "Find user logs for this run at: <code>/home/krishna/iit/sem6/dl/wandb/run-20210312_130909-aih5xrom/logs/debug.log</code>"
      ],
      "text/plain": [
       "<IPython.core.display.HTML object>"
      ]
     },
     "metadata": {},
     "output_type": "display_data"
    },
    {
     "data": {
      "text/html": [
       "Find internal logs for this run at: <code>/home/krishna/iit/sem6/dl/wandb/run-20210312_130909-aih5xrom/logs/debug-internal.log</code>"
      ],
      "text/plain": [
       "<IPython.core.display.HTML object>"
      ]
     },
     "metadata": {},
     "output_type": "display_data"
    },
    {
     "data": {
      "text/html": [
       "<h3>Run summary:</h3><br/><style>\n",
       "    table.wandb td:nth-child(1) { padding: 0 10px; text-align: right }\n",
       "    </style><table class=\"wandb\">\n",
       "<tr><td>train accuracy</td><td>0.32674</td></tr><tr><td>validation accuracy</td><td>0.33733</td></tr><tr><td>train loss</td><td>0.04042</td></tr><tr><td>val loss</td><td>0.04037</td></tr><tr><td>_runtime</td><td>41</td></tr><tr><td>_timestamp</td><td>1615534790</td></tr><tr><td>_step</td><td>9</td></tr></table>"
      ],
      "text/plain": [
       "<IPython.core.display.HTML object>"
      ]
     },
     "metadata": {},
     "output_type": "display_data"
    },
    {
     "data": {
      "text/html": [
       "<h3>Run history:</h3><br/><style>\n",
       "    table.wandb td:nth-child(1) { padding: 0 10px; text-align: right }\n",
       "    </style><table class=\"wandb\">\n",
       "<tr><td>train accuracy</td><td>▁▆▆▅▃▂▂▂▃█</td></tr><tr><td>validation accuracy</td><td>▁▆▆▅▃▂▂▂▃█</td></tr><tr><td>train loss</td><td>█████▇▇▆▃▁</td></tr><tr><td>val loss</td><td>█████▇▇▆▃▁</td></tr><tr><td>_runtime</td><td>▁▂▂▃▄▅▆▆▇█</td></tr><tr><td>_timestamp</td><td>▁▂▂▃▄▅▆▆▇█</td></tr><tr><td>_step</td><td>▁▂▃▃▄▅▆▆▇█</td></tr></table><br/>"
      ],
      "text/plain": [
       "<IPython.core.display.HTML object>"
      ]
     },
     "metadata": {},
     "output_type": "display_data"
    },
    {
     "data": {
      "text/html": [
       "Synced 5 W&B file(s), 0 media file(s), 0 artifact file(s) and 0 other file(s)"
      ],
      "text/plain": [
       "<IPython.core.display.HTML object>"
      ]
     },
     "metadata": {},
     "output_type": "display_data"
    },
    {
     "data": {
      "text/html": [
       "\n",
       "                    <br/>Synced <strong style=\"color:#cdcd00\">hello</strong>: <a href=\"https://wandb.ai/notarchana/CS6910-A1/runs/aih5xrom\" target=\"_blank\">https://wandb.ai/notarchana/CS6910-A1/runs/aih5xrom</a><br/>\n",
       "                "
      ],
      "text/plain": [
       "<IPython.core.display.HTML object>"
      ]
     },
     "metadata": {},
     "output_type": "display_data"
    },
    {
     "name": "stderr",
     "output_type": "stream",
     "text": [
      "\u001b[34m\u001b[1mwandb\u001b[0m: Agent Starting Run: l1c3tven with config:\n",
      "\u001b[34m\u001b[1mwandb\u001b[0m: \tactivation: relu\n",
      "\u001b[34m\u001b[1mwandb\u001b[0m: \tbatch_size: 16\n",
      "\u001b[34m\u001b[1mwandb\u001b[0m: \tepochs: 5\n",
      "\u001b[34m\u001b[1mwandb\u001b[0m: \thidden_layer_size: 128\n",
      "\u001b[34m\u001b[1mwandb\u001b[0m: \thidden_layers: 3\n",
      "\u001b[34m\u001b[1mwandb\u001b[0m: \tlr: 0.0001\n",
      "\u001b[34m\u001b[1mwandb\u001b[0m: \toptimiser: adam\n",
      "\u001b[34m\u001b[1mwandb\u001b[0m: \tweight_decay: 0\n",
      "\u001b[34m\u001b[1mwandb\u001b[0m: \tweight_init: xavier\n"
     ]
    },
    {
     "data": {
      "text/html": [
       "\n",
       "                Tracking run with wandb version 0.10.22<br/>\n",
       "                Syncing run <strong style=\"color:#cdcd00\">hello</strong> to <a href=\"https://wandb.ai\" target=\"_blank\">Weights & Biases</a> <a href=\"https://docs.wandb.com/integrations/jupyter.html\" target=\"_blank\">(Documentation)</a>.<br/>\n",
       "                Project page: <a href=\"https://wandb.ai/notarchana/CS6910-A1\" target=\"_blank\">https://wandb.ai/notarchana/CS6910-A1</a><br/>\n",
       "                Sweep page: <a href=\"https://wandb.ai/notarchana/CS6910-A1/sweeps/wnukyq05\" target=\"_blank\">https://wandb.ai/notarchana/CS6910-A1/sweeps/wnukyq05</a><br/>\n",
       "Run page: <a href=\"https://wandb.ai/notarchana/CS6910-A1/runs/l1c3tven\" target=\"_blank\">https://wandb.ai/notarchana/CS6910-A1/runs/l1c3tven</a><br/>\n",
       "                Run data is saved locally in <code>/home/krishna/iit/sem6/dl/wandb/run-20210312_130957-l1c3tven</code><br/><br/>\n",
       "            "
      ],
      "text/plain": [
       "<IPython.core.display.HTML object>"
      ]
     },
     "metadata": {},
     "output_type": "display_data"
    },
    {
     "name": "stderr",
     "output_type": "stream",
     "text": [
      "\u001b[34m\u001b[1mwandb\u001b[0m: \u001b[33mWARNING\u001b[0m Calling run.save without any arguments is deprecated.Changes to attributes are automatically persisted.\n"
     ]
    },
    {
     "name": "stdout",
     "output_type": "stream",
     "text": [
      "model building done\n",
      "Epoch 0 done: Loss = 0.012462103504580671\n",
      "Epoch 1 done: Loss = 0.011357994193938232\n",
      "Epoch 2 done: Loss = 0.010795255066728408\n",
      "Epoch 3 done: Loss = 0.01041499201301162\n",
      "Epoch 4 done: Loss = 0.010126518193652123\n",
      "model training done\n"
     ]
    },
    {
     "data": {
      "text/html": [
       "<br/>Waiting for W&B process to finish, PID 105846<br/>Program ended successfully."
      ],
      "text/plain": [
       "<IPython.core.display.HTML object>"
      ]
     },
     "metadata": {},
     "output_type": "display_data"
    },
    {
     "data": {
      "application/vnd.jupyter.widget-view+json": {
       "model_id": "",
       "version_major": 2,
       "version_minor": 0
      },
      "text/plain": [
       "VBox(children=(Label(value=' 0.00MB of 0.00MB uploaded (0.00MB deduped)\\r'), FloatProgress(value=1.0, max=1.0)…"
      ]
     },
     "metadata": {},
     "output_type": "display_data"
    },
    {
     "data": {
      "text/html": [
       "Find user logs for this run at: <code>/home/krishna/iit/sem6/dl/wandb/run-20210312_130957-l1c3tven/logs/debug.log</code>"
      ],
      "text/plain": [
       "<IPython.core.display.HTML object>"
      ]
     },
     "metadata": {},
     "output_type": "display_data"
    },
    {
     "data": {
      "text/html": [
       "Find internal logs for this run at: <code>/home/krishna/iit/sem6/dl/wandb/run-20210312_130957-l1c3tven/logs/debug-internal.log</code>"
      ],
      "text/plain": [
       "<IPython.core.display.HTML object>"
      ]
     },
     "metadata": {},
     "output_type": "display_data"
    },
    {
     "data": {
      "text/html": [
       "<h3>Run summary:</h3><br/><style>\n",
       "    table.wandb td:nth-child(1) { padding: 0 10px; text-align: right }\n",
       "    </style><table class=\"wandb\">\n",
       "<tr><td>train accuracy</td><td>0.86398</td></tr><tr><td>validation accuracy</td><td>0.86433</td></tr><tr><td>train loss</td><td>0.01013</td></tr><tr><td>val loss</td><td>0.01031</td></tr><tr><td>_runtime</td><td>63</td></tr><tr><td>_timestamp</td><td>1615534860</td></tr><tr><td>_step</td><td>4</td></tr></table>"
      ],
      "text/plain": [
       "<IPython.core.display.HTML object>"
      ]
     },
     "metadata": {},
     "output_type": "display_data"
    },
    {
     "data": {
      "text/html": [
       "<h3>Run history:</h3><br/><style>\n",
       "    table.wandb td:nth-child(1) { padding: 0 10px; text-align: right }\n",
       "    </style><table class=\"wandb\">\n",
       "<tr><td>train accuracy</td><td>▁▄▆▇█</td></tr><tr><td>validation accuracy</td><td>▁▅▆▇█</td></tr><tr><td>train loss</td><td>█▅▃▂▁</td></tr><tr><td>val loss</td><td>█▅▃▂▁</td></tr><tr><td>_runtime</td><td>▁▃▄▆█</td></tr><tr><td>_timestamp</td><td>▁▃▄▆█</td></tr><tr><td>_step</td><td>▁▃▅▆█</td></tr></table><br/>"
      ],
      "text/plain": [
       "<IPython.core.display.HTML object>"
      ]
     },
     "metadata": {},
     "output_type": "display_data"
    },
    {
     "data": {
      "text/html": [
       "Synced 5 W&B file(s), 0 media file(s), 0 artifact file(s) and 0 other file(s)"
      ],
      "text/plain": [
       "<IPython.core.display.HTML object>"
      ]
     },
     "metadata": {},
     "output_type": "display_data"
    },
    {
     "data": {
      "text/html": [
       "\n",
       "                    <br/>Synced <strong style=\"color:#cdcd00\">hello</strong>: <a href=\"https://wandb.ai/notarchana/CS6910-A1/runs/l1c3tven\" target=\"_blank\">https://wandb.ai/notarchana/CS6910-A1/runs/l1c3tven</a><br/>\n",
       "                "
      ],
      "text/plain": [
       "<IPython.core.display.HTML object>"
      ]
     },
     "metadata": {},
     "output_type": "display_data"
    },
    {
     "name": "stderr",
     "output_type": "stream",
     "text": [
      "\u001b[34m\u001b[1mwandb\u001b[0m: Agent Starting Run: h0kpkomh with config:\n",
      "\u001b[34m\u001b[1mwandb\u001b[0m: \tactivation: tanh\n",
      "\u001b[34m\u001b[1mwandb\u001b[0m: \tbatch_size: 16\n",
      "\u001b[34m\u001b[1mwandb\u001b[0m: \tepochs: 5\n",
      "\u001b[34m\u001b[1mwandb\u001b[0m: \thidden_layer_size: 64\n",
      "\u001b[34m\u001b[1mwandb\u001b[0m: \thidden_layers: 5\n",
      "\u001b[34m\u001b[1mwandb\u001b[0m: \tlr: 0.0001\n",
      "\u001b[34m\u001b[1mwandb\u001b[0m: \toptimiser: nesterov\n",
      "\u001b[34m\u001b[1mwandb\u001b[0m: \tweight_decay: 0.0005\n",
      "\u001b[34m\u001b[1mwandb\u001b[0m: \tweight_init: xavier\n"
     ]
    },
    {
     "data": {
      "text/html": [
       "\n",
       "                Tracking run with wandb version 0.10.22<br/>\n",
       "                Syncing run <strong style=\"color:#cdcd00\">hello</strong> to <a href=\"https://wandb.ai\" target=\"_blank\">Weights & Biases</a> <a href=\"https://docs.wandb.com/integrations/jupyter.html\" target=\"_blank\">(Documentation)</a>.<br/>\n",
       "                Project page: <a href=\"https://wandb.ai/notarchana/CS6910-A1\" target=\"_blank\">https://wandb.ai/notarchana/CS6910-A1</a><br/>\n",
       "                Sweep page: <a href=\"https://wandb.ai/notarchana/CS6910-A1/sweeps/wnukyq05\" target=\"_blank\">https://wandb.ai/notarchana/CS6910-A1/sweeps/wnukyq05</a><br/>\n",
       "Run page: <a href=\"https://wandb.ai/notarchana/CS6910-A1/runs/h0kpkomh\" target=\"_blank\">https://wandb.ai/notarchana/CS6910-A1/runs/h0kpkomh</a><br/>\n",
       "                Run data is saved locally in <code>/home/krishna/iit/sem6/dl/wandb/run-20210312_131107-h0kpkomh</code><br/><br/>\n",
       "            "
      ],
      "text/plain": [
       "<IPython.core.display.HTML object>"
      ]
     },
     "metadata": {},
     "output_type": "display_data"
    },
    {
     "name": "stderr",
     "output_type": "stream",
     "text": [
      "\u001b[34m\u001b[1mwandb\u001b[0m: \u001b[33mWARNING\u001b[0m Calling run.save without any arguments is deprecated.Changes to attributes are automatically persisted.\n"
     ]
    },
    {
     "name": "stdout",
     "output_type": "stream",
     "text": [
      "model building done\n",
      "Epoch 0 done: Loss = 0.03367649972233412\n",
      "Epoch 1 done: Loss = 0.024621332683394535\n",
      "Epoch 2 done: Loss = 0.02052416375062268\n",
      "Epoch 3 done: Loss = 0.01774918631183788\n",
      "Epoch 4 done: Loss = 0.015965402482198424\n",
      "model training done\n"
     ]
    },
    {
     "data": {
      "text/html": [
       "<br/>Waiting for W&B process to finish, PID 105887<br/>Program ended successfully."
      ],
      "text/plain": [
       "<IPython.core.display.HTML object>"
      ]
     },
     "metadata": {},
     "output_type": "display_data"
    },
    {
     "data": {
      "application/vnd.jupyter.widget-view+json": {
       "model_id": "",
       "version_major": 2,
       "version_minor": 0
      },
      "text/plain": [
       "VBox(children=(Label(value=' 0.00MB of 0.00MB uploaded (0.00MB deduped)\\r'), FloatProgress(value=1.0, max=1.0)…"
      ]
     },
     "metadata": {},
     "output_type": "display_data"
    },
    {
     "data": {
      "text/html": [
       "Find user logs for this run at: <code>/home/krishna/iit/sem6/dl/wandb/run-20210312_131107-h0kpkomh/logs/debug.log</code>"
      ],
      "text/plain": [
       "<IPython.core.display.HTML object>"
      ]
     },
     "metadata": {},
     "output_type": "display_data"
    },
    {
     "data": {
      "text/html": [
       "Find internal logs for this run at: <code>/home/krishna/iit/sem6/dl/wandb/run-20210312_131107-h0kpkomh/logs/debug-internal.log</code>"
      ],
      "text/plain": [
       "<IPython.core.display.HTML object>"
      ]
     },
     "metadata": {},
     "output_type": "display_data"
    },
    {
     "data": {
      "text/html": [
       "<h3>Run summary:</h3><br/><style>\n",
       "    table.wandb td:nth-child(1) { padding: 0 10px; text-align: right }\n",
       "    </style><table class=\"wandb\">\n",
       "<tr><td>train accuracy</td><td>0.7882</td></tr><tr><td>validation accuracy</td><td>0.7975</td></tr><tr><td>train loss</td><td>0.01597</td></tr><tr><td>val loss</td><td>0.01541</td></tr><tr><td>_runtime</td><td>38</td></tr><tr><td>_timestamp</td><td>1615534905</td></tr><tr><td>_step</td><td>4</td></tr></table>"
      ],
      "text/plain": [
       "<IPython.core.display.HTML object>"
      ]
     },
     "metadata": {},
     "output_type": "display_data"
    },
    {
     "data": {
      "text/html": [
       "<h3>Run history:</h3><br/><style>\n",
       "    table.wandb td:nth-child(1) { padding: 0 10px; text-align: right }\n",
       "    </style><table class=\"wandb\">\n",
       "<tr><td>train accuracy</td><td>▁▄▆▇█</td></tr><tr><td>validation accuracy</td><td>▁▃▆▇█</td></tr><tr><td>train loss</td><td>█▄▃▂▁</td></tr><tr><td>val loss</td><td>█▄▃▂▁</td></tr><tr><td>_runtime</td><td>▁▃▄▆█</td></tr><tr><td>_timestamp</td><td>▁▃▄▆█</td></tr><tr><td>_step</td><td>▁▃▅▆█</td></tr></table><br/>"
      ],
      "text/plain": [
       "<IPython.core.display.HTML object>"
      ]
     },
     "metadata": {},
     "output_type": "display_data"
    },
    {
     "data": {
      "text/html": [
       "Synced 5 W&B file(s), 0 media file(s), 0 artifact file(s) and 0 other file(s)"
      ],
      "text/plain": [
       "<IPython.core.display.HTML object>"
      ]
     },
     "metadata": {},
     "output_type": "display_data"
    },
    {
     "data": {
      "text/html": [
       "\n",
       "                    <br/>Synced <strong style=\"color:#cdcd00\">hello</strong>: <a href=\"https://wandb.ai/notarchana/CS6910-A1/runs/h0kpkomh\" target=\"_blank\">https://wandb.ai/notarchana/CS6910-A1/runs/h0kpkomh</a><br/>\n",
       "                "
      ],
      "text/plain": [
       "<IPython.core.display.HTML object>"
      ]
     },
     "metadata": {},
     "output_type": "display_data"
    },
    {
     "name": "stderr",
     "output_type": "stream",
     "text": [
      "\u001b[34m\u001b[1mwandb\u001b[0m: Agent Starting Run: d26ri5ni with config:\n",
      "\u001b[34m\u001b[1mwandb\u001b[0m: \tactivation: tanh\n",
      "\u001b[34m\u001b[1mwandb\u001b[0m: \tbatch_size: 64\n",
      "\u001b[34m\u001b[1mwandb\u001b[0m: \tepochs: 10\n",
      "\u001b[34m\u001b[1mwandb\u001b[0m: \thidden_layer_size: 32\n",
      "\u001b[34m\u001b[1mwandb\u001b[0m: \thidden_layers: 5\n",
      "\u001b[34m\u001b[1mwandb\u001b[0m: \tlr: 0.001\n",
      "\u001b[34m\u001b[1mwandb\u001b[0m: \toptimiser: nesterov\n",
      "\u001b[34m\u001b[1mwandb\u001b[0m: \tweight_decay: 0.5\n",
      "\u001b[34m\u001b[1mwandb\u001b[0m: \tweight_init: xavier\n"
     ]
    },
    {
     "data": {
      "text/html": [
       "\n",
       "                Tracking run with wandb version 0.10.22<br/>\n",
       "                Syncing run <strong style=\"color:#cdcd00\">hello</strong> to <a href=\"https://wandb.ai\" target=\"_blank\">Weights & Biases</a> <a href=\"https://docs.wandb.com/integrations/jupyter.html\" target=\"_blank\">(Documentation)</a>.<br/>\n",
       "                Project page: <a href=\"https://wandb.ai/notarchana/CS6910-A1\" target=\"_blank\">https://wandb.ai/notarchana/CS6910-A1</a><br/>\n",
       "                Sweep page: <a href=\"https://wandb.ai/notarchana/CS6910-A1/sweeps/wnukyq05\" target=\"_blank\">https://wandb.ai/notarchana/CS6910-A1/sweeps/wnukyq05</a><br/>\n",
       "Run page: <a href=\"https://wandb.ai/notarchana/CS6910-A1/runs/d26ri5ni\" target=\"_blank\">https://wandb.ai/notarchana/CS6910-A1/runs/d26ri5ni</a><br/>\n",
       "                Run data is saved locally in <code>/home/krishna/iit/sem6/dl/wandb/run-20210312_131151-d26ri5ni</code><br/><br/>\n",
       "            "
      ],
      "text/plain": [
       "<IPython.core.display.HTML object>"
      ]
     },
     "metadata": {},
     "output_type": "display_data"
    },
    {
     "name": "stderr",
     "output_type": "stream",
     "text": [
      "\u001b[34m\u001b[1mwandb\u001b[0m: \u001b[33mWARNING\u001b[0m Calling run.save without any arguments is deprecated.Changes to attributes are automatically persisted.\n"
     ]
    },
    {
     "name": "stdout",
     "output_type": "stream",
     "text": [
      "model building done\n",
      "Epoch 0 done: Loss = 0.028769570317680893\n",
      "Epoch 1 done: Loss = 0.018751163264529202\n",
      "Epoch 2 done: Loss = 0.01567190527125181\n",
      "Epoch 3 done: Loss = 0.013979238088299676\n",
      "Epoch 4 done: Loss = 0.012928025456346777\n",
      "Epoch 5 done: Loss = 0.012239556423121167\n",
      "Epoch 6 done: Loss = 0.011741880206320932\n",
      "Epoch 7 done: Loss = 0.011352427510942474\n",
      "Epoch 8 done: Loss = 0.01103472545223835\n",
      "Epoch 9 done: Loss = 0.01076751016369783\n",
      "model training done\n"
     ]
    },
    {
     "data": {
      "text/html": [
       "<br/>Waiting for W&B process to finish, PID 105922<br/>Program ended successfully."
      ],
      "text/plain": [
       "<IPython.core.display.HTML object>"
      ]
     },
     "metadata": {},
     "output_type": "display_data"
    },
    {
     "data": {
      "application/vnd.jupyter.widget-view+json": {
       "model_id": "",
       "version_major": 2,
       "version_minor": 0
      },
      "text/plain": [
       "VBox(children=(Label(value=' 0.00MB of 0.00MB uploaded (0.00MB deduped)\\r'), FloatProgress(value=1.0, max=1.0)…"
      ]
     },
     "metadata": {},
     "output_type": "display_data"
    },
    {
     "data": {
      "text/html": [
       "Find user logs for this run at: <code>/home/krishna/iit/sem6/dl/wandb/run-20210312_131151-d26ri5ni/logs/debug.log</code>"
      ],
      "text/plain": [
       "<IPython.core.display.HTML object>"
      ]
     },
     "metadata": {},
     "output_type": "display_data"
    },
    {
     "data": {
      "text/html": [
       "Find internal logs for this run at: <code>/home/krishna/iit/sem6/dl/wandb/run-20210312_131151-d26ri5ni/logs/debug-internal.log</code>"
      ],
      "text/plain": [
       "<IPython.core.display.HTML object>"
      ]
     },
     "metadata": {},
     "output_type": "display_data"
    },
    {
     "data": {
      "text/html": [
       "<h3>Run summary:</h3><br/><style>\n",
       "    table.wandb td:nth-child(1) { padding: 0 10px; text-align: right }\n",
       "    </style><table class=\"wandb\">\n",
       "<tr><td>train accuracy</td><td>0.85354</td></tr><tr><td>validation accuracy</td><td>0.8495</td></tr><tr><td>train loss</td><td>0.01077</td></tr><tr><td>val loss</td><td>0.01097</td></tr><tr><td>_runtime</td><td>33</td></tr><tr><td>_timestamp</td><td>1615534944</td></tr><tr><td>_step</td><td>9</td></tr></table>"
      ],
      "text/plain": [
       "<IPython.core.display.HTML object>"
      ]
     },
     "metadata": {},
     "output_type": "display_data"
    },
    {
     "data": {
      "text/html": [
       "<h3>Run history:</h3><br/><style>\n",
       "    table.wandb td:nth-child(1) { padding: 0 10px; text-align: right }\n",
       "    </style><table class=\"wandb\">\n",
       "<tr><td>train accuracy</td><td>▁▄▅▆▇▇▇███</td></tr><tr><td>validation accuracy</td><td>▁▄▅▇▇▇▇███</td></tr><tr><td>train loss</td><td>█▄▃▂▂▂▁▁▁▁</td></tr><tr><td>val loss</td><td>█▄▃▂▂▂▁▁▁▁</td></tr><tr><td>_runtime</td><td>▁▂▂▃▄▅▆▇▇█</td></tr><tr><td>_timestamp</td><td>▁▂▂▃▄▅▆▇▇█</td></tr><tr><td>_step</td><td>▁▂▃▃▄▅▆▆▇█</td></tr></table><br/>"
      ],
      "text/plain": [
       "<IPython.core.display.HTML object>"
      ]
     },
     "metadata": {},
     "output_type": "display_data"
    },
    {
     "data": {
      "text/html": [
       "Synced 5 W&B file(s), 0 media file(s), 0 artifact file(s) and 0 other file(s)"
      ],
      "text/plain": [
       "<IPython.core.display.HTML object>"
      ]
     },
     "metadata": {},
     "output_type": "display_data"
    },
    {
     "data": {
      "text/html": [
       "\n",
       "                    <br/>Synced <strong style=\"color:#cdcd00\">hello</strong>: <a href=\"https://wandb.ai/notarchana/CS6910-A1/runs/d26ri5ni\" target=\"_blank\">https://wandb.ai/notarchana/CS6910-A1/runs/d26ri5ni</a><br/>\n",
       "                "
      ],
      "text/plain": [
       "<IPython.core.display.HTML object>"
      ]
     },
     "metadata": {},
     "output_type": "display_data"
    },
    {
     "name": "stderr",
     "output_type": "stream",
     "text": [
      "\u001b[34m\u001b[1mwandb\u001b[0m: Agent Starting Run: qr43z34k with config:\n",
      "\u001b[34m\u001b[1mwandb\u001b[0m: \tactivation: relu\n",
      "\u001b[34m\u001b[1mwandb\u001b[0m: \tbatch_size: 32\n",
      "\u001b[34m\u001b[1mwandb\u001b[0m: \tepochs: 5\n",
      "\u001b[34m\u001b[1mwandb\u001b[0m: \thidden_layer_size: 32\n",
      "\u001b[34m\u001b[1mwandb\u001b[0m: \thidden_layers: 3\n",
      "\u001b[34m\u001b[1mwandb\u001b[0m: \tlr: 0.001\n",
      "\u001b[34m\u001b[1mwandb\u001b[0m: \toptimiser: nesterov\n",
      "\u001b[34m\u001b[1mwandb\u001b[0m: \tweight_decay: 0.0005\n",
      "\u001b[34m\u001b[1mwandb\u001b[0m: \tweight_init: xavier\n"
     ]
    },
    {
     "data": {
      "text/html": [
       "\n",
       "                Tracking run with wandb version 0.10.22<br/>\n",
       "                Syncing run <strong style=\"color:#cdcd00\">hello</strong> to <a href=\"https://wandb.ai\" target=\"_blank\">Weights & Biases</a> <a href=\"https://docs.wandb.com/integrations/jupyter.html\" target=\"_blank\">(Documentation)</a>.<br/>\n",
       "                Project page: <a href=\"https://wandb.ai/notarchana/CS6910-A1\" target=\"_blank\">https://wandb.ai/notarchana/CS6910-A1</a><br/>\n",
       "                Sweep page: <a href=\"https://wandb.ai/notarchana/CS6910-A1/sweeps/wnukyq05\" target=\"_blank\">https://wandb.ai/notarchana/CS6910-A1/sweeps/wnukyq05</a><br/>\n",
       "Run page: <a href=\"https://wandb.ai/notarchana/CS6910-A1/runs/qr43z34k\" target=\"_blank\">https://wandb.ai/notarchana/CS6910-A1/runs/qr43z34k</a><br/>\n",
       "                Run data is saved locally in <code>/home/krishna/iit/sem6/dl/wandb/run-20210312_131234-qr43z34k</code><br/><br/>\n",
       "            "
      ],
      "text/plain": [
       "<IPython.core.display.HTML object>"
      ]
     },
     "metadata": {},
     "output_type": "display_data"
    },
    {
     "name": "stderr",
     "output_type": "stream",
     "text": [
      "\u001b[34m\u001b[1mwandb\u001b[0m: \u001b[33mWARNING\u001b[0m Calling run.save without any arguments is deprecated.Changes to attributes are automatically persisted.\n"
     ]
    },
    {
     "name": "stdout",
     "output_type": "stream",
     "text": [
      "model building done\n",
      "Epoch 0 done: Loss = 0.022200387419860614\n",
      "Epoch 1 done: Loss = 0.01598102535636961\n",
      "Epoch 2 done: Loss = 0.013922967271073438\n",
      "Epoch 3 done: Loss = 0.012906751248833984\n",
      "Epoch 4 done: Loss = 0.0122381772802265\n",
      "model training done\n"
     ]
    },
    {
     "data": {
      "text/html": [
       "<br/>Waiting for W&B process to finish, PID 105968<br/>Program ended successfully."
      ],
      "text/plain": [
       "<IPython.core.display.HTML object>"
      ]
     },
     "metadata": {},
     "output_type": "display_data"
    },
    {
     "data": {
      "application/vnd.jupyter.widget-view+json": {
       "model_id": "",
       "version_major": 2,
       "version_minor": 0
      },
      "text/plain": [
       "VBox(children=(Label(value=' 0.00MB of 0.00MB uploaded (0.00MB deduped)\\r'), FloatProgress(value=1.0, max=1.0)…"
      ]
     },
     "metadata": {},
     "output_type": "display_data"
    },
    {
     "data": {
      "text/html": [
       "Find user logs for this run at: <code>/home/krishna/iit/sem6/dl/wandb/run-20210312_131234-qr43z34k/logs/debug.log</code>"
      ],
      "text/plain": [
       "<IPython.core.display.HTML object>"
      ]
     },
     "metadata": {},
     "output_type": "display_data"
    },
    {
     "data": {
      "text/html": [
       "Find internal logs for this run at: <code>/home/krishna/iit/sem6/dl/wandb/run-20210312_131234-qr43z34k/logs/debug-internal.log</code>"
      ],
      "text/plain": [
       "<IPython.core.display.HTML object>"
      ]
     },
     "metadata": {},
     "output_type": "display_data"
    },
    {
     "data": {
      "text/html": [
       "<h3>Run summary:</h3><br/><style>\n",
       "    table.wandb td:nth-child(1) { padding: 0 10px; text-align: right }\n",
       "    </style><table class=\"wandb\">\n",
       "<tr><td>train accuracy</td><td>0.83328</td></tr><tr><td>validation accuracy</td><td>0.82617</td></tr><tr><td>train loss</td><td>0.01224</td></tr><tr><td>val loss</td><td>0.01264</td></tr><tr><td>_runtime</td><td>10</td></tr><tr><td>_timestamp</td><td>1615534964</td></tr><tr><td>_step</td><td>4</td></tr></table>"
      ],
      "text/plain": [
       "<IPython.core.display.HTML object>"
      ]
     },
     "metadata": {},
     "output_type": "display_data"
    },
    {
     "data": {
      "text/html": [
       "<h3>Run history:</h3><br/><style>\n",
       "    table.wandb td:nth-child(1) { padding: 0 10px; text-align: right }\n",
       "    </style><table class=\"wandb\">\n",
       "<tr><td>train accuracy</td><td>▁▆▇██</td></tr><tr><td>validation accuracy</td><td>▁▆▇██</td></tr><tr><td>train loss</td><td>█▄▂▁▁</td></tr><tr><td>val loss</td><td>█▄▂▁▁</td></tr><tr><td>_runtime</td><td>▁▂▅▆█</td></tr><tr><td>_timestamp</td><td>▁▂▅▆█</td></tr><tr><td>_step</td><td>▁▃▅▆█</td></tr></table><br/>"
      ],
      "text/plain": [
       "<IPython.core.display.HTML object>"
      ]
     },
     "metadata": {},
     "output_type": "display_data"
    },
    {
     "data": {
      "text/html": [
       "Synced 5 W&B file(s), 0 media file(s), 0 artifact file(s) and 0 other file(s)"
      ],
      "text/plain": [
       "<IPython.core.display.HTML object>"
      ]
     },
     "metadata": {},
     "output_type": "display_data"
    },
    {
     "data": {
      "text/html": [
       "\n",
       "                    <br/>Synced <strong style=\"color:#cdcd00\">hello</strong>: <a href=\"https://wandb.ai/notarchana/CS6910-A1/runs/qr43z34k\" target=\"_blank\">https://wandb.ai/notarchana/CS6910-A1/runs/qr43z34k</a><br/>\n",
       "                "
      ],
      "text/plain": [
       "<IPython.core.display.HTML object>"
      ]
     },
     "metadata": {},
     "output_type": "display_data"
    },
    {
     "name": "stderr",
     "output_type": "stream",
     "text": [
      "\u001b[34m\u001b[1mwandb\u001b[0m: Agent Starting Run: 848a7qq1 with config:\n",
      "\u001b[34m\u001b[1mwandb\u001b[0m: \tactivation: sigmoid\n",
      "\u001b[34m\u001b[1mwandb\u001b[0m: \tbatch_size: 64\n",
      "\u001b[34m\u001b[1mwandb\u001b[0m: \tepochs: 10\n",
      "\u001b[34m\u001b[1mwandb\u001b[0m: \thidden_layer_size: 32\n",
      "\u001b[34m\u001b[1mwandb\u001b[0m: \thidden_layers: 3\n",
      "\u001b[34m\u001b[1mwandb\u001b[0m: \tlr: 0.001\n",
      "\u001b[34m\u001b[1mwandb\u001b[0m: \toptimiser: momentum\n",
      "\u001b[34m\u001b[1mwandb\u001b[0m: \tweight_decay: 0.5\n",
      "\u001b[34m\u001b[1mwandb\u001b[0m: \tweight_init: xavier\n"
     ]
    },
    {
     "data": {
      "text/html": [
       "\n",
       "                Tracking run with wandb version 0.10.22<br/>\n",
       "                Syncing run <strong style=\"color:#cdcd00\">hello</strong> to <a href=\"https://wandb.ai\" target=\"_blank\">Weights & Biases</a> <a href=\"https://docs.wandb.com/integrations/jupyter.html\" target=\"_blank\">(Documentation)</a>.<br/>\n",
       "                Project page: <a href=\"https://wandb.ai/notarchana/CS6910-A1\" target=\"_blank\">https://wandb.ai/notarchana/CS6910-A1</a><br/>\n",
       "                Sweep page: <a href=\"https://wandb.ai/notarchana/CS6910-A1/sweeps/wnukyq05\" target=\"_blank\">https://wandb.ai/notarchana/CS6910-A1/sweeps/wnukyq05</a><br/>\n",
       "Run page: <a href=\"https://wandb.ai/notarchana/CS6910-A1/runs/848a7qq1\" target=\"_blank\">https://wandb.ai/notarchana/CS6910-A1/runs/848a7qq1</a><br/>\n",
       "                Run data is saved locally in <code>/home/krishna/iit/sem6/dl/wandb/run-20210312_131251-848a7qq1</code><br/><br/>\n",
       "            "
      ],
      "text/plain": [
       "<IPython.core.display.HTML object>"
      ]
     },
     "metadata": {},
     "output_type": "display_data"
    },
    {
     "name": "stderr",
     "output_type": "stream",
     "text": [
      "\u001b[34m\u001b[1mwandb\u001b[0m: \u001b[33mWARNING\u001b[0m Calling run.save without any arguments is deprecated.Changes to attributes are automatically persisted.\n"
     ]
    },
    {
     "name": "stdout",
     "output_type": "stream",
     "text": [
      "model building done\n",
      "Epoch 0 done: Loss = 0.04196271687484955\n",
      "Epoch 1 done: Loss = 0.02666517627002606\n",
      "Epoch 2 done: Loss = 0.018995419678046185\n",
      "Epoch 3 done: Loss = 0.015772270999488195\n",
      "Epoch 4 done: Loss = 0.013493909299799841\n",
      "Epoch 5 done: Loss = 0.011974513141208705\n",
      "Epoch 6 done: Loss = 0.011201890521026835\n",
      "Epoch 7 done: Loss = 0.010665341797436815\n",
      "Epoch 8 done: Loss = 0.010260537500606152\n",
      "Epoch 9 done: Loss = 0.00993281908363549\n",
      "model training done\n"
     ]
    },
    {
     "data": {
      "text/html": [
       "<br/>Waiting for W&B process to finish, PID 105998<br/>Program ended successfully."
      ],
      "text/plain": [
       "<IPython.core.display.HTML object>"
      ]
     },
     "metadata": {},
     "output_type": "display_data"
    },
    {
     "data": {
      "application/vnd.jupyter.widget-view+json": {
       "model_id": "",
       "version_major": 2,
       "version_minor": 0
      },
      "text/plain": [
       "VBox(children=(Label(value=' 0.00MB of 0.00MB uploaded (0.00MB deduped)\\r'), FloatProgress(value=1.0, max=1.0)…"
      ]
     },
     "metadata": {},
     "output_type": "display_data"
    },
    {
     "data": {
      "text/html": [
       "Find user logs for this run at: <code>/home/krishna/iit/sem6/dl/wandb/run-20210312_131251-848a7qq1/logs/debug.log</code>"
      ],
      "text/plain": [
       "<IPython.core.display.HTML object>"
      ]
     },
     "metadata": {},
     "output_type": "display_data"
    },
    {
     "data": {
      "text/html": [
       "Find internal logs for this run at: <code>/home/krishna/iit/sem6/dl/wandb/run-20210312_131251-848a7qq1/logs/debug-internal.log</code>"
      ],
      "text/plain": [
       "<IPython.core.display.HTML object>"
      ]
     },
     "metadata": {},
     "output_type": "display_data"
    },
    {
     "data": {
      "text/html": [
       "<h3>Run summary:</h3><br/><style>\n",
       "    table.wandb td:nth-child(1) { padding: 0 10px; text-align: right }\n",
       "    </style><table class=\"wandb\">\n",
       "<tr><td>train accuracy</td><td>0.86407</td></tr><tr><td>validation accuracy</td><td>0.86167</td></tr><tr><td>train loss</td><td>0.00993</td></tr><tr><td>val loss</td><td>0.01006</td></tr><tr><td>_runtime</td><td>16</td></tr><tr><td>_timestamp</td><td>1615534987</td></tr><tr><td>_step</td><td>9</td></tr></table>"
      ],
      "text/plain": [
       "<IPython.core.display.HTML object>"
      ]
     },
     "metadata": {},
     "output_type": "display_data"
    },
    {
     "data": {
      "text/html": [
       "<h3>Run history:</h3><br/><style>\n",
       "    table.wandb td:nth-child(1) { padding: 0 10px; text-align: right }\n",
       "    </style><table class=\"wandb\">\n",
       "<tr><td>train accuracy</td><td>▁▅▆▇▇█████</td></tr><tr><td>validation accuracy</td><td>▁▅▆▇▇█████</td></tr><tr><td>train loss</td><td>█▅▃▂▂▁▁▁▁▁</td></tr><tr><td>val loss</td><td>█▅▃▂▂▁▁▁▁▁</td></tr><tr><td>_runtime</td><td>▁▂▃▃▄▅▆▆▇█</td></tr><tr><td>_timestamp</td><td>▁▂▃▃▄▅▆▆▇█</td></tr><tr><td>_step</td><td>▁▂▃▃▄▅▆▆▇█</td></tr></table><br/>"
      ],
      "text/plain": [
       "<IPython.core.display.HTML object>"
      ]
     },
     "metadata": {},
     "output_type": "display_data"
    },
    {
     "data": {
      "text/html": [
       "Synced 5 W&B file(s), 0 media file(s), 0 artifact file(s) and 0 other file(s)"
      ],
      "text/plain": [
       "<IPython.core.display.HTML object>"
      ]
     },
     "metadata": {},
     "output_type": "display_data"
    },
    {
     "data": {
      "text/html": [
       "\n",
       "                    <br/>Synced <strong style=\"color:#cdcd00\">hello</strong>: <a href=\"https://wandb.ai/notarchana/CS6910-A1/runs/848a7qq1\" target=\"_blank\">https://wandb.ai/notarchana/CS6910-A1/runs/848a7qq1</a><br/>\n",
       "                "
      ],
      "text/plain": [
       "<IPython.core.display.HTML object>"
      ]
     },
     "metadata": {},
     "output_type": "display_data"
    },
    {
     "name": "stderr",
     "output_type": "stream",
     "text": [
      "\u001b[34m\u001b[1mwandb\u001b[0m: Agent Starting Run: h7vlaiju with config:\n",
      "\u001b[34m\u001b[1mwandb\u001b[0m: \tactivation: relu\n",
      "\u001b[34m\u001b[1mwandb\u001b[0m: \tbatch_size: 16\n",
      "\u001b[34m\u001b[1mwandb\u001b[0m: \tepochs: 5\n",
      "\u001b[34m\u001b[1mwandb\u001b[0m: \thidden_layer_size: 64\n",
      "\u001b[34m\u001b[1mwandb\u001b[0m: \thidden_layers: 3\n",
      "\u001b[34m\u001b[1mwandb\u001b[0m: \tlr: 0.0001\n",
      "\u001b[34m\u001b[1mwandb\u001b[0m: \toptimiser: adam\n",
      "\u001b[34m\u001b[1mwandb\u001b[0m: \tweight_decay: 0.5\n",
      "\u001b[34m\u001b[1mwandb\u001b[0m: \tweight_init: xavier\n"
     ]
    },
    {
     "data": {
      "text/html": [
       "\n",
       "                Tracking run with wandb version 0.10.22<br/>\n",
       "                Syncing run <strong style=\"color:#cdcd00\">hello</strong> to <a href=\"https://wandb.ai\" target=\"_blank\">Weights & Biases</a> <a href=\"https://docs.wandb.com/integrations/jupyter.html\" target=\"_blank\">(Documentation)</a>.<br/>\n",
       "                Project page: <a href=\"https://wandb.ai/notarchana/CS6910-A1\" target=\"_blank\">https://wandb.ai/notarchana/CS6910-A1</a><br/>\n",
       "                Sweep page: <a href=\"https://wandb.ai/notarchana/CS6910-A1/sweeps/wnukyq05\" target=\"_blank\">https://wandb.ai/notarchana/CS6910-A1/sweeps/wnukyq05</a><br/>\n",
       "Run page: <a href=\"https://wandb.ai/notarchana/CS6910-A1/runs/h7vlaiju\" target=\"_blank\">https://wandb.ai/notarchana/CS6910-A1/runs/h7vlaiju</a><br/>\n",
       "                Run data is saved locally in <code>/home/krishna/iit/sem6/dl/wandb/run-20210312_131314-h7vlaiju</code><br/><br/>\n",
       "            "
      ],
      "text/plain": [
       "<IPython.core.display.HTML object>"
      ]
     },
     "metadata": {},
     "output_type": "display_data"
    },
    {
     "name": "stderr",
     "output_type": "stream",
     "text": [
      "\u001b[34m\u001b[1mwandb\u001b[0m: \u001b[33mWARNING\u001b[0m Calling run.save without any arguments is deprecated.Changes to attributes are automatically persisted.\n"
     ]
    },
    {
     "name": "stdout",
     "output_type": "stream",
     "text": [
      "model building done\n",
      "Epoch 0 done: Loss = 0.014369041539252914\n",
      "Epoch 1 done: Loss = 0.012956891039825147\n",
      "Epoch 2 done: Loss = 0.012240658683662264\n",
      "Epoch 3 done: Loss = 0.011759513783450299\n",
      "Epoch 4 done: Loss = 0.011396726787036553\n",
      "model training done\n"
     ]
    },
    {
     "data": {
      "text/html": [
       "<br/>Waiting for W&B process to finish, PID 106031<br/>Program ended successfully."
      ],
      "text/plain": [
       "<IPython.core.display.HTML object>"
      ]
     },
     "metadata": {},
     "output_type": "display_data"
    },
    {
     "data": {
      "application/vnd.jupyter.widget-view+json": {
       "model_id": "",
       "version_major": 2,
       "version_minor": 0
      },
      "text/plain": [
       "VBox(children=(Label(value=' 0.00MB of 0.00MB uploaded (0.00MB deduped)\\r'), FloatProgress(value=1.0, max=1.0)…"
      ]
     },
     "metadata": {},
     "output_type": "display_data"
    },
    {
     "data": {
      "text/html": [
       "Find user logs for this run at: <code>/home/krishna/iit/sem6/dl/wandb/run-20210312_131314-h7vlaiju/logs/debug.log</code>"
      ],
      "text/plain": [
       "<IPython.core.display.HTML object>"
      ]
     },
     "metadata": {},
     "output_type": "display_data"
    },
    {
     "data": {
      "text/html": [
       "Find internal logs for this run at: <code>/home/krishna/iit/sem6/dl/wandb/run-20210312_131314-h7vlaiju/logs/debug-internal.log</code>"
      ],
      "text/plain": [
       "<IPython.core.display.HTML object>"
      ]
     },
     "metadata": {},
     "output_type": "display_data"
    },
    {
     "data": {
      "text/html": [
       "<h3>Run summary:</h3><br/><style>\n",
       "    table.wandb td:nth-child(1) { padding: 0 10px; text-align: right }\n",
       "    </style><table class=\"wandb\">\n",
       "<tr><td>train accuracy</td><td>0.84731</td></tr><tr><td>validation accuracy</td><td>0.83933</td></tr><tr><td>train loss</td><td>0.0114</td></tr><tr><td>val loss</td><td>0.01179</td></tr><tr><td>_runtime</td><td>32</td></tr><tr><td>_timestamp</td><td>1615535026</td></tr><tr><td>_step</td><td>4</td></tr></table>"
      ],
      "text/plain": [
       "<IPython.core.display.HTML object>"
      ]
     },
     "metadata": {},
     "output_type": "display_data"
    },
    {
     "data": {
      "text/html": [
       "<h3>Run history:</h3><br/><style>\n",
       "    table.wandb td:nth-child(1) { padding: 0 10px; text-align: right }\n",
       "    </style><table class=\"wandb\">\n",
       "<tr><td>train accuracy</td><td>▁▄▆▇█</td></tr><tr><td>validation accuracy</td><td>▁▅▆▇█</td></tr><tr><td>train loss</td><td>█▅▃▂▁</td></tr><tr><td>val loss</td><td>█▅▃▂▁</td></tr><tr><td>_runtime</td><td>▁▂▄▆█</td></tr><tr><td>_timestamp</td><td>▁▂▄▆█</td></tr><tr><td>_step</td><td>▁▃▅▆█</td></tr></table><br/>"
      ],
      "text/plain": [
       "<IPython.core.display.HTML object>"
      ]
     },
     "metadata": {},
     "output_type": "display_data"
    },
    {
     "data": {
      "text/html": [
       "Synced 5 W&B file(s), 0 media file(s), 0 artifact file(s) and 0 other file(s)"
      ],
      "text/plain": [
       "<IPython.core.display.HTML object>"
      ]
     },
     "metadata": {},
     "output_type": "display_data"
    },
    {
     "data": {
      "text/html": [
       "\n",
       "                    <br/>Synced <strong style=\"color:#cdcd00\">hello</strong>: <a href=\"https://wandb.ai/notarchana/CS6910-A1/runs/h7vlaiju\" target=\"_blank\">https://wandb.ai/notarchana/CS6910-A1/runs/h7vlaiju</a><br/>\n",
       "                "
      ],
      "text/plain": [
       "<IPython.core.display.HTML object>"
      ]
     },
     "metadata": {},
     "output_type": "display_data"
    },
    {
     "name": "stderr",
     "output_type": "stream",
     "text": [
      "\u001b[34m\u001b[1mwandb\u001b[0m: Agent Starting Run: 1z54y668 with config:\n",
      "\u001b[34m\u001b[1mwandb\u001b[0m: \tactivation: tanh\n",
      "\u001b[34m\u001b[1mwandb\u001b[0m: \tbatch_size: 16\n",
      "\u001b[34m\u001b[1mwandb\u001b[0m: \tepochs: 5\n",
      "\u001b[34m\u001b[1mwandb\u001b[0m: \thidden_layer_size: 32\n",
      "\u001b[34m\u001b[1mwandb\u001b[0m: \thidden_layers: 3\n",
      "\u001b[34m\u001b[1mwandb\u001b[0m: \tlr: 0.0001\n",
      "\u001b[34m\u001b[1mwandb\u001b[0m: \toptimiser: nadam\n",
      "\u001b[34m\u001b[1mwandb\u001b[0m: \tweight_decay: 0.5\n",
      "\u001b[34m\u001b[1mwandb\u001b[0m: \tweight_init: xavier\n"
     ]
    },
    {
     "data": {
      "text/html": [
       "\n",
       "                Tracking run with wandb version 0.10.22<br/>\n",
       "                Syncing run <strong style=\"color:#cdcd00\">hello</strong> to <a href=\"https://wandb.ai\" target=\"_blank\">Weights & Biases</a> <a href=\"https://docs.wandb.com/integrations/jupyter.html\" target=\"_blank\">(Documentation)</a>.<br/>\n",
       "                Project page: <a href=\"https://wandb.ai/notarchana/CS6910-A1\" target=\"_blank\">https://wandb.ai/notarchana/CS6910-A1</a><br/>\n",
       "                Sweep page: <a href=\"https://wandb.ai/notarchana/CS6910-A1/sweeps/wnukyq05\" target=\"_blank\">https://wandb.ai/notarchana/CS6910-A1/sweeps/wnukyq05</a><br/>\n",
       "Run page: <a href=\"https://wandb.ai/notarchana/CS6910-A1/runs/1z54y668\" target=\"_blank\">https://wandb.ai/notarchana/CS6910-A1/runs/1z54y668</a><br/>\n",
       "                Run data is saved locally in <code>/home/krishna/iit/sem6/dl/wandb/run-20210312_131353-1z54y668</code><br/><br/>\n",
       "            "
      ],
      "text/plain": [
       "<IPython.core.display.HTML object>"
      ]
     },
     "metadata": {},
     "output_type": "display_data"
    },
    {
     "name": "stderr",
     "output_type": "stream",
     "text": [
      "\u001b[34m\u001b[1mwandb\u001b[0m: \u001b[33mWARNING\u001b[0m Calling run.save without any arguments is deprecated.Changes to attributes are automatically persisted.\n"
     ]
    },
    {
     "name": "stdout",
     "output_type": "stream",
     "text": [
      "model building done\n",
      "Epoch 0 done: Loss = 0.017700630014498262\n",
      "Epoch 1 done: Loss = 0.014857469936779152\n",
      "Epoch 2 done: Loss = 0.013481773408714665\n",
      "Epoch 3 done: Loss = 0.012675878939815428\n",
      "Epoch 4 done: Loss = 0.012138057000357336\n",
      "model training done\n"
     ]
    },
    {
     "data": {
      "text/html": [
       "<br/>Waiting for W&B process to finish, PID 106064<br/>Program ended successfully."
      ],
      "text/plain": [
       "<IPython.core.display.HTML object>"
      ]
     },
     "metadata": {},
     "output_type": "display_data"
    },
    {
     "data": {
      "application/vnd.jupyter.widget-view+json": {
       "model_id": "",
       "version_major": 2,
       "version_minor": 0
      },
      "text/plain": [
       "VBox(children=(Label(value=' 0.00MB of 0.00MB uploaded (0.00MB deduped)\\r'), FloatProgress(value=1.0, max=1.0)…"
      ]
     },
     "metadata": {},
     "output_type": "display_data"
    },
    {
     "data": {
      "text/html": [
       "Find user logs for this run at: <code>/home/krishna/iit/sem6/dl/wandb/run-20210312_131353-1z54y668/logs/debug.log</code>"
      ],
      "text/plain": [
       "<IPython.core.display.HTML object>"
      ]
     },
     "metadata": {},
     "output_type": "display_data"
    },
    {
     "data": {
      "text/html": [
       "Find internal logs for this run at: <code>/home/krishna/iit/sem6/dl/wandb/run-20210312_131353-1z54y668/logs/debug-internal.log</code>"
      ],
      "text/plain": [
       "<IPython.core.display.HTML object>"
      ]
     },
     "metadata": {},
     "output_type": "display_data"
    },
    {
     "data": {
      "text/html": [
       "<h3>Run summary:</h3><br/><style>\n",
       "    table.wandb td:nth-child(1) { padding: 0 10px; text-align: right }\n",
       "    </style><table class=\"wandb\">\n",
       "<tr><td>train accuracy</td><td>0.83828</td></tr><tr><td>validation accuracy</td><td>0.83133</td></tr><tr><td>train loss</td><td>0.01214</td></tr><tr><td>val loss</td><td>0.01252</td></tr><tr><td>_runtime</td><td>24</td></tr><tr><td>_timestamp</td><td>1615535057</td></tr><tr><td>_step</td><td>4</td></tr></table>"
      ],
      "text/plain": [
       "<IPython.core.display.HTML object>"
      ]
     },
     "metadata": {},
     "output_type": "display_data"
    },
    {
     "data": {
      "text/html": [
       "<h3>Run history:</h3><br/><style>\n",
       "    table.wandb td:nth-child(1) { padding: 0 10px; text-align: right }\n",
       "    </style><table class=\"wandb\">\n",
       "<tr><td>train accuracy</td><td>▁▅▆▇█</td></tr><tr><td>validation accuracy</td><td>▁▅▆▇█</td></tr><tr><td>train loss</td><td>█▄▃▂▁</td></tr><tr><td>val loss</td><td>█▄▃▂▁</td></tr><tr><td>_runtime</td><td>▁▃▄▆█</td></tr><tr><td>_timestamp</td><td>▁▃▄▆█</td></tr><tr><td>_step</td><td>▁▃▅▆█</td></tr></table><br/>"
      ],
      "text/plain": [
       "<IPython.core.display.HTML object>"
      ]
     },
     "metadata": {},
     "output_type": "display_data"
    },
    {
     "data": {
      "text/html": [
       "Synced 5 W&B file(s), 0 media file(s), 0 artifact file(s) and 0 other file(s)"
      ],
      "text/plain": [
       "<IPython.core.display.HTML object>"
      ]
     },
     "metadata": {},
     "output_type": "display_data"
    },
    {
     "data": {
      "text/html": [
       "\n",
       "                    <br/>Synced <strong style=\"color:#cdcd00\">hello</strong>: <a href=\"https://wandb.ai/notarchana/CS6910-A1/runs/1z54y668\" target=\"_blank\">https://wandb.ai/notarchana/CS6910-A1/runs/1z54y668</a><br/>\n",
       "                "
      ],
      "text/plain": [
       "<IPython.core.display.HTML object>"
      ]
     },
     "metadata": {},
     "output_type": "display_data"
    },
    {
     "name": "stderr",
     "output_type": "stream",
     "text": [
      "\u001b[34m\u001b[1mwandb\u001b[0m: Agent Starting Run: dgstp68l with config:\n",
      "\u001b[34m\u001b[1mwandb\u001b[0m: \tactivation: tanh\n",
      "\u001b[34m\u001b[1mwandb\u001b[0m: \tbatch_size: 16\n",
      "\u001b[34m\u001b[1mwandb\u001b[0m: \tepochs: 10\n",
      "\u001b[34m\u001b[1mwandb\u001b[0m: \thidden_layer_size: 32\n",
      "\u001b[34m\u001b[1mwandb\u001b[0m: \thidden_layers: 3\n",
      "\u001b[34m\u001b[1mwandb\u001b[0m: \tlr: 0.0001\n",
      "\u001b[34m\u001b[1mwandb\u001b[0m: \toptimiser: rmsprop\n",
      "\u001b[34m\u001b[1mwandb\u001b[0m: \tweight_decay: 0.5\n",
      "\u001b[34m\u001b[1mwandb\u001b[0m: \tweight_init: xavier\n"
     ]
    },
    {
     "data": {
      "text/html": [
       "\n",
       "                Tracking run with wandb version 0.10.22<br/>\n",
       "                Syncing run <strong style=\"color:#cdcd00\">hello</strong> to <a href=\"https://wandb.ai\" target=\"_blank\">Weights & Biases</a> <a href=\"https://docs.wandb.com/integrations/jupyter.html\" target=\"_blank\">(Documentation)</a>.<br/>\n",
       "                Project page: <a href=\"https://wandb.ai/notarchana/CS6910-A1\" target=\"_blank\">https://wandb.ai/notarchana/CS6910-A1</a><br/>\n",
       "                Sweep page: <a href=\"https://wandb.ai/notarchana/CS6910-A1/sweeps/wnukyq05\" target=\"_blank\">https://wandb.ai/notarchana/CS6910-A1/sweeps/wnukyq05</a><br/>\n",
       "Run page: <a href=\"https://wandb.ai/notarchana/CS6910-A1/runs/dgstp68l\" target=\"_blank\">https://wandb.ai/notarchana/CS6910-A1/runs/dgstp68l</a><br/>\n",
       "                Run data is saved locally in <code>/home/krishna/iit/sem6/dl/wandb/run-20210312_131424-dgstp68l</code><br/><br/>\n",
       "            "
      ],
      "text/plain": [
       "<IPython.core.display.HTML object>"
      ]
     },
     "metadata": {},
     "output_type": "display_data"
    },
    {
     "name": "stderr",
     "output_type": "stream",
     "text": [
      "\u001b[34m\u001b[1mwandb\u001b[0m: \u001b[33mWARNING\u001b[0m Calling run.save without any arguments is deprecated.Changes to attributes are automatically persisted.\n"
     ]
    },
    {
     "name": "stdout",
     "output_type": "stream",
     "text": [
      "model building done\n",
      "Epoch 0 done: Loss = 0.013424805402440811\n",
      "Epoch 1 done: Loss = 0.011445615522962738\n",
      "Epoch 2 done: Loss = 0.010612464762494264\n",
      "Epoch 3 done: Loss = 0.010116932137882043\n",
      "Epoch 4 done: Loss = 0.009761902977148688\n",
      "Epoch 5 done: Loss = 0.009480434005881905\n",
      "Epoch 6 done: Loss = 0.009247393254201796\n",
      "Epoch 7 done: Loss = 0.009049710938861078\n",
      "Epoch 8 done: Loss = 0.008879111745958273\n",
      "Epoch 9 done: Loss = 0.008729461433148039\n",
      "model training done\n"
     ]
    },
    {
     "data": {
      "text/html": [
       "<br/>Waiting for W&B process to finish, PID 106103<br/>Program ended successfully."
      ],
      "text/plain": [
       "<IPython.core.display.HTML object>"
      ]
     },
     "metadata": {},
     "output_type": "display_data"
    },
    {
     "data": {
      "application/vnd.jupyter.widget-view+json": {
       "model_id": "",
       "version_major": 2,
       "version_minor": 0
      },
      "text/plain": [
       "VBox(children=(Label(value=' 0.00MB of 0.00MB uploaded (0.00MB deduped)\\r'), FloatProgress(value=1.0, max=1.0)…"
      ]
     },
     "metadata": {},
     "output_type": "display_data"
    },
    {
     "data": {
      "text/html": [
       "Find user logs for this run at: <code>/home/krishna/iit/sem6/dl/wandb/run-20210312_131424-dgstp68l/logs/debug.log</code>"
      ],
      "text/plain": [
       "<IPython.core.display.HTML object>"
      ]
     },
     "metadata": {},
     "output_type": "display_data"
    },
    {
     "data": {
      "text/html": [
       "Find internal logs for this run at: <code>/home/krishna/iit/sem6/dl/wandb/run-20210312_131424-dgstp68l/logs/debug-internal.log</code>"
      ],
      "text/plain": [
       "<IPython.core.display.HTML object>"
      ]
     },
     "metadata": {},
     "output_type": "display_data"
    },
    {
     "data": {
      "text/html": [
       "<h3>Run summary:</h3><br/><style>\n",
       "    table.wandb td:nth-child(1) { padding: 0 10px; text-align: right }\n",
       "    </style><table class=\"wandb\">\n",
       "<tr><td>train accuracy</td><td>0.88131</td></tr><tr><td>validation accuracy</td><td>0.8685</td></tr><tr><td>train loss</td><td>0.00873</td></tr><tr><td>val loss</td><td>0.00954</td></tr><tr><td>_runtime</td><td>40</td></tr><tr><td>_timestamp</td><td>1615535104</td></tr><tr><td>_step</td><td>9</td></tr></table>"
      ],
      "text/plain": [
       "<IPython.core.display.HTML object>"
      ]
     },
     "metadata": {},
     "output_type": "display_data"
    },
    {
     "data": {
      "text/html": [
       "<h3>Run history:</h3><br/><style>\n",
       "    table.wandb td:nth-child(1) { padding: 0 10px; text-align: right }\n",
       "    </style><table class=\"wandb\">\n",
       "<tr><td>train accuracy</td><td>▁▄▅▆▆▇▇▇██</td></tr><tr><td>validation accuracy</td><td>▁▄▅▆▇▇▇▇██</td></tr><tr><td>train loss</td><td>█▅▄▃▃▂▂▁▁▁</td></tr><tr><td>val loss</td><td>█▅▃▃▂▂▂▁▁▁</td></tr><tr><td>_runtime</td><td>▁▂▂▃▄▅▆▆▇█</td></tr><tr><td>_timestamp</td><td>▁▂▂▃▄▅▆▆▇█</td></tr><tr><td>_step</td><td>▁▂▃▃▄▅▆▆▇█</td></tr></table><br/>"
      ],
      "text/plain": [
       "<IPython.core.display.HTML object>"
      ]
     },
     "metadata": {},
     "output_type": "display_data"
    },
    {
     "data": {
      "text/html": [
       "Synced 5 W&B file(s), 0 media file(s), 0 artifact file(s) and 0 other file(s)"
      ],
      "text/plain": [
       "<IPython.core.display.HTML object>"
      ]
     },
     "metadata": {},
     "output_type": "display_data"
    },
    {
     "data": {
      "text/html": [
       "\n",
       "                    <br/>Synced <strong style=\"color:#cdcd00\">hello</strong>: <a href=\"https://wandb.ai/notarchana/CS6910-A1/runs/dgstp68l\" target=\"_blank\">https://wandb.ai/notarchana/CS6910-A1/runs/dgstp68l</a><br/>\n",
       "                "
      ],
      "text/plain": [
       "<IPython.core.display.HTML object>"
      ]
     },
     "metadata": {},
     "output_type": "display_data"
    },
    {
     "name": "stderr",
     "output_type": "stream",
     "text": [
      "\u001b[34m\u001b[1mwandb\u001b[0m: Agent Starting Run: vuhxnsd8 with config:\n",
      "\u001b[34m\u001b[1mwandb\u001b[0m: \tactivation: relu\n",
      "\u001b[34m\u001b[1mwandb\u001b[0m: \tbatch_size: 32\n",
      "\u001b[34m\u001b[1mwandb\u001b[0m: \tepochs: 5\n",
      "\u001b[34m\u001b[1mwandb\u001b[0m: \thidden_layer_size: 64\n",
      "\u001b[34m\u001b[1mwandb\u001b[0m: \thidden_layers: 4\n",
      "\u001b[34m\u001b[1mwandb\u001b[0m: \tlr: 0.001\n",
      "\u001b[34m\u001b[1mwandb\u001b[0m: \toptimiser: nadam\n",
      "\u001b[34m\u001b[1mwandb\u001b[0m: \tweight_decay: 0.0005\n",
      "\u001b[34m\u001b[1mwandb\u001b[0m: \tweight_init: xavier\n"
     ]
    },
    {
     "data": {
      "text/html": [
       "\n",
       "                Tracking run with wandb version 0.10.22<br/>\n",
       "                Syncing run <strong style=\"color:#cdcd00\">hello</strong> to <a href=\"https://wandb.ai\" target=\"_blank\">Weights & Biases</a> <a href=\"https://docs.wandb.com/integrations/jupyter.html\" target=\"_blank\">(Documentation)</a>.<br/>\n",
       "                Project page: <a href=\"https://wandb.ai/notarchana/CS6910-A1\" target=\"_blank\">https://wandb.ai/notarchana/CS6910-A1</a><br/>\n",
       "                Sweep page: <a href=\"https://wandb.ai/notarchana/CS6910-A1/sweeps/wnukyq05\" target=\"_blank\">https://wandb.ai/notarchana/CS6910-A1/sweeps/wnukyq05</a><br/>\n",
       "Run page: <a href=\"https://wandb.ai/notarchana/CS6910-A1/runs/vuhxnsd8\" target=\"_blank\">https://wandb.ai/notarchana/CS6910-A1/runs/vuhxnsd8</a><br/>\n",
       "                Run data is saved locally in <code>/home/krishna/iit/sem6/dl/wandb/run-20210312_131511-vuhxnsd8</code><br/><br/>\n",
       "            "
      ],
      "text/plain": [
       "<IPython.core.display.HTML object>"
      ]
     },
     "metadata": {},
     "output_type": "display_data"
    },
    {
     "name": "stderr",
     "output_type": "stream",
     "text": [
      "\u001b[34m\u001b[1mwandb\u001b[0m: \u001b[33mWARNING\u001b[0m Calling run.save without any arguments is deprecated.Changes to attributes are automatically persisted.\n"
     ]
    },
    {
     "name": "stdout",
     "output_type": "stream",
     "text": [
      "model building done\n",
      "Epoch 0 done: Loss = 0.010652973697729388\n",
      "Epoch 1 done: Loss = 0.009687008776488298\n",
      "Epoch 2 done: Loss = 0.009036243423751169\n",
      "Epoch 3 done: Loss = 0.00865821162563617\n",
      "Epoch 4 done: Loss = 0.00832264448114287\n",
      "model training done\n"
     ]
    },
    {
     "data": {
      "text/html": [
       "<br/>Waiting for W&B process to finish, PID 106142<br/>Program ended successfully."
      ],
      "text/plain": [
       "<IPython.core.display.HTML object>"
      ]
     },
     "metadata": {},
     "output_type": "display_data"
    },
    {
     "data": {
      "application/vnd.jupyter.widget-view+json": {
       "model_id": "",
       "version_major": 2,
       "version_minor": 0
      },
      "text/plain": [
       "VBox(children=(Label(value=' 0.00MB of 0.00MB uploaded (0.00MB deduped)\\r'), FloatProgress(value=1.0, max=1.0)…"
      ]
     },
     "metadata": {},
     "output_type": "display_data"
    },
    {
     "data": {
      "text/html": [
       "Find user logs for this run at: <code>/home/krishna/iit/sem6/dl/wandb/run-20210312_131511-vuhxnsd8/logs/debug.log</code>"
      ],
      "text/plain": [
       "<IPython.core.display.HTML object>"
      ]
     },
     "metadata": {},
     "output_type": "display_data"
    },
    {
     "data": {
      "text/html": [
       "Find internal logs for this run at: <code>/home/krishna/iit/sem6/dl/wandb/run-20210312_131511-vuhxnsd8/logs/debug-internal.log</code>"
      ],
      "text/plain": [
       "<IPython.core.display.HTML object>"
      ]
     },
     "metadata": {},
     "output_type": "display_data"
    },
    {
     "data": {
      "text/html": [
       "<h3>Run summary:</h3><br/><style>\n",
       "    table.wandb td:nth-child(1) { padding: 0 10px; text-align: right }\n",
       "    </style><table class=\"wandb\">\n",
       "<tr><td>train accuracy</td><td>0.88548</td></tr><tr><td>validation accuracy</td><td>0.87317</td></tr><tr><td>train loss</td><td>0.00832</td></tr><tr><td>val loss</td><td>0.00922</td></tr><tr><td>_runtime</td><td>25</td></tr><tr><td>_timestamp</td><td>1615535136</td></tr><tr><td>_step</td><td>4</td></tr></table>"
      ],
      "text/plain": [
       "<IPython.core.display.HTML object>"
      ]
     },
     "metadata": {},
     "output_type": "display_data"
    },
    {
     "data": {
      "text/html": [
       "<h3>Run history:</h3><br/><style>\n",
       "    table.wandb td:nth-child(1) { padding: 0 10px; text-align: right }\n",
       "    </style><table class=\"wandb\">\n",
       "<tr><td>train accuracy</td><td>▁▄▆▇█</td></tr><tr><td>validation accuracy</td><td>▁▄▅▇█</td></tr><tr><td>train loss</td><td>█▅▃▂▁</td></tr><tr><td>val loss</td><td>█▅▃▂▁</td></tr><tr><td>_runtime</td><td>▁▂▄▅█</td></tr><tr><td>_timestamp</td><td>▁▂▄▅█</td></tr><tr><td>_step</td><td>▁▃▅▆█</td></tr></table><br/>"
      ],
      "text/plain": [
       "<IPython.core.display.HTML object>"
      ]
     },
     "metadata": {},
     "output_type": "display_data"
    },
    {
     "data": {
      "text/html": [
       "Synced 5 W&B file(s), 0 media file(s), 0 artifact file(s) and 0 other file(s)"
      ],
      "text/plain": [
       "<IPython.core.display.HTML object>"
      ]
     },
     "metadata": {},
     "output_type": "display_data"
    },
    {
     "data": {
      "text/html": [
       "\n",
       "                    <br/>Synced <strong style=\"color:#cdcd00\">hello</strong>: <a href=\"https://wandb.ai/notarchana/CS6910-A1/runs/vuhxnsd8\" target=\"_blank\">https://wandb.ai/notarchana/CS6910-A1/runs/vuhxnsd8</a><br/>\n",
       "                "
      ],
      "text/plain": [
       "<IPython.core.display.HTML object>"
      ]
     },
     "metadata": {},
     "output_type": "display_data"
    },
    {
     "name": "stderr",
     "output_type": "stream",
     "text": [
      "\u001b[34m\u001b[1mwandb\u001b[0m: Agent Starting Run: f8md6u54 with config:\n",
      "\u001b[34m\u001b[1mwandb\u001b[0m: \tactivation: tanh\n",
      "\u001b[34m\u001b[1mwandb\u001b[0m: \tbatch_size: 32\n",
      "\u001b[34m\u001b[1mwandb\u001b[0m: \tepochs: 5\n",
      "\u001b[34m\u001b[1mwandb\u001b[0m: \thidden_layer_size: 32\n",
      "\u001b[34m\u001b[1mwandb\u001b[0m: \thidden_layers: 4\n",
      "\u001b[34m\u001b[1mwandb\u001b[0m: \tlr: 0.0001\n",
      "\u001b[34m\u001b[1mwandb\u001b[0m: \toptimiser: nadam\n",
      "\u001b[34m\u001b[1mwandb\u001b[0m: \tweight_decay: 0.0005\n",
      "\u001b[34m\u001b[1mwandb\u001b[0m: \tweight_init: xavier\n"
     ]
    },
    {
     "data": {
      "text/html": [
       "\n",
       "                Tracking run with wandb version 0.10.22<br/>\n",
       "                Syncing run <strong style=\"color:#cdcd00\">hello</strong> to <a href=\"https://wandb.ai\" target=\"_blank\">Weights & Biases</a> <a href=\"https://docs.wandb.com/integrations/jupyter.html\" target=\"_blank\">(Documentation)</a>.<br/>\n",
       "                Project page: <a href=\"https://wandb.ai/notarchana/CS6910-A1\" target=\"_blank\">https://wandb.ai/notarchana/CS6910-A1</a><br/>\n",
       "                Sweep page: <a href=\"https://wandb.ai/notarchana/CS6910-A1/sweeps/wnukyq05\" target=\"_blank\">https://wandb.ai/notarchana/CS6910-A1/sweeps/wnukyq05</a><br/>\n",
       "Run page: <a href=\"https://wandb.ai/notarchana/CS6910-A1/runs/f8md6u54\" target=\"_blank\">https://wandb.ai/notarchana/CS6910-A1/runs/f8md6u54</a><br/>\n",
       "                Run data is saved locally in <code>/home/krishna/iit/sem6/dl/wandb/run-20210312_131543-f8md6u54</code><br/><br/>\n",
       "            "
      ],
      "text/plain": [
       "<IPython.core.display.HTML object>"
      ]
     },
     "metadata": {},
     "output_type": "display_data"
    },
    {
     "name": "stderr",
     "output_type": "stream",
     "text": [
      "\u001b[34m\u001b[1mwandb\u001b[0m: \u001b[33mWARNING\u001b[0m Calling run.save without any arguments is deprecated.Changes to attributes are automatically persisted.\n"
     ]
    },
    {
     "name": "stdout",
     "output_type": "stream",
     "text": [
      "model building done\n",
      "Epoch 0 done: Loss = 0.018003063130205627\n",
      "Epoch 1 done: Loss = 0.015416847334117571\n",
      "Epoch 2 done: Loss = 0.01416371889340145\n",
      "Epoch 3 done: Loss = 0.013386472298401727\n",
      "Epoch 4 done: Loss = 0.012848784108710265\n",
      "model training done\n"
     ]
    },
    {
     "data": {
      "text/html": [
       "<br/>Waiting for W&B process to finish, PID 106178<br/>Program ended successfully."
      ],
      "text/plain": [
       "<IPython.core.display.HTML object>"
      ]
     },
     "metadata": {},
     "output_type": "display_data"
    },
    {
     "data": {
      "application/vnd.jupyter.widget-view+json": {
       "model_id": "",
       "version_major": 2,
       "version_minor": 0
      },
      "text/plain": [
       "VBox(children=(Label(value=' 0.00MB of 0.00MB uploaded (0.00MB deduped)\\r'), FloatProgress(value=1.0, max=1.0)…"
      ]
     },
     "metadata": {},
     "output_type": "display_data"
    },
    {
     "data": {
      "text/html": [
       "Find user logs for this run at: <code>/home/krishna/iit/sem6/dl/wandb/run-20210312_131543-f8md6u54/logs/debug.log</code>"
      ],
      "text/plain": [
       "<IPython.core.display.HTML object>"
      ]
     },
     "metadata": {},
     "output_type": "display_data"
    },
    {
     "data": {
      "text/html": [
       "Find internal logs for this run at: <code>/home/krishna/iit/sem6/dl/wandb/run-20210312_131543-f8md6u54/logs/debug-internal.log</code>"
      ],
      "text/plain": [
       "<IPython.core.display.HTML object>"
      ]
     },
     "metadata": {},
     "output_type": "display_data"
    },
    {
     "data": {
      "text/html": [
       "<h3>Run summary:</h3><br/><style>\n",
       "    table.wandb td:nth-child(1) { padding: 0 10px; text-align: right }\n",
       "    </style><table class=\"wandb\">\n",
       "<tr><td>train accuracy</td><td>0.8287</td></tr><tr><td>validation accuracy</td><td>0.83917</td></tr><tr><td>train loss</td><td>0.01285</td></tr><tr><td>val loss</td><td>0.0123</td></tr><tr><td>_runtime</td><td>22</td></tr><tr><td>_timestamp</td><td>1615535165</td></tr><tr><td>_step</td><td>4</td></tr></table>"
      ],
      "text/plain": [
       "<IPython.core.display.HTML object>"
      ]
     },
     "metadata": {},
     "output_type": "display_data"
    },
    {
     "data": {
      "text/html": [
       "<h3>Run history:</h3><br/><style>\n",
       "    table.wandb td:nth-child(1) { padding: 0 10px; text-align: right }\n",
       "    </style><table class=\"wandb\">\n",
       "<tr><td>train accuracy</td><td>▁▅▇▇█</td></tr><tr><td>validation accuracy</td><td>▁▅▇██</td></tr><tr><td>train loss</td><td>█▄▃▂▁</td></tr><tr><td>val loss</td><td>█▄▃▂▁</td></tr><tr><td>_runtime</td><td>▁▃▅▆█</td></tr><tr><td>_timestamp</td><td>▁▃▅▆█</td></tr><tr><td>_step</td><td>▁▃▅▆█</td></tr></table><br/>"
      ],
      "text/plain": [
       "<IPython.core.display.HTML object>"
      ]
     },
     "metadata": {},
     "output_type": "display_data"
    },
    {
     "data": {
      "text/html": [
       "Synced 5 W&B file(s), 0 media file(s), 0 artifact file(s) and 0 other file(s)"
      ],
      "text/plain": [
       "<IPython.core.display.HTML object>"
      ]
     },
     "metadata": {},
     "output_type": "display_data"
    },
    {
     "data": {
      "text/html": [
       "\n",
       "                    <br/>Synced <strong style=\"color:#cdcd00\">hello</strong>: <a href=\"https://wandb.ai/notarchana/CS6910-A1/runs/f8md6u54\" target=\"_blank\">https://wandb.ai/notarchana/CS6910-A1/runs/f8md6u54</a><br/>\n",
       "                "
      ],
      "text/plain": [
       "<IPython.core.display.HTML object>"
      ]
     },
     "metadata": {},
     "output_type": "display_data"
    },
    {
     "name": "stderr",
     "output_type": "stream",
     "text": [
      "\u001b[34m\u001b[1mwandb\u001b[0m: Agent Starting Run: roxxx10w with config:\n",
      "\u001b[34m\u001b[1mwandb\u001b[0m: \tactivation: tanh\n",
      "\u001b[34m\u001b[1mwandb\u001b[0m: \tbatch_size: 64\n",
      "\u001b[34m\u001b[1mwandb\u001b[0m: \tepochs: 10\n",
      "\u001b[34m\u001b[1mwandb\u001b[0m: \thidden_layer_size: 32\n",
      "\u001b[34m\u001b[1mwandb\u001b[0m: \thidden_layers: 3\n",
      "\u001b[34m\u001b[1mwandb\u001b[0m: \tlr: 0.0001\n",
      "\u001b[34m\u001b[1mwandb\u001b[0m: \toptimiser: rmsprop\n",
      "\u001b[34m\u001b[1mwandb\u001b[0m: \tweight_decay: 0\n",
      "\u001b[34m\u001b[1mwandb\u001b[0m: \tweight_init: xavier\n"
     ]
    },
    {
     "data": {
      "text/html": [
       "\n",
       "                Tracking run with wandb version 0.10.22<br/>\n",
       "                Syncing run <strong style=\"color:#cdcd00\">hello</strong> to <a href=\"https://wandb.ai\" target=\"_blank\">Weights & Biases</a> <a href=\"https://docs.wandb.com/integrations/jupyter.html\" target=\"_blank\">(Documentation)</a>.<br/>\n",
       "                Project page: <a href=\"https://wandb.ai/notarchana/CS6910-A1\" target=\"_blank\">https://wandb.ai/notarchana/CS6910-A1</a><br/>\n",
       "                Sweep page: <a href=\"https://wandb.ai/notarchana/CS6910-A1/sweeps/wnukyq05\" target=\"_blank\">https://wandb.ai/notarchana/CS6910-A1/sweeps/wnukyq05</a><br/>\n",
       "Run page: <a href=\"https://wandb.ai/notarchana/CS6910-A1/runs/roxxx10w\" target=\"_blank\">https://wandb.ai/notarchana/CS6910-A1/runs/roxxx10w</a><br/>\n",
       "                Run data is saved locally in <code>/home/krishna/iit/sem6/dl/wandb/run-20210312_131612-roxxx10w</code><br/><br/>\n",
       "            "
      ],
      "text/plain": [
       "<IPython.core.display.HTML object>"
      ]
     },
     "metadata": {},
     "output_type": "display_data"
    },
    {
     "name": "stderr",
     "output_type": "stream",
     "text": [
      "\u001b[34m\u001b[1mwandb\u001b[0m: \u001b[33mWARNING\u001b[0m Calling run.save without any arguments is deprecated.Changes to attributes are automatically persisted.\n"
     ]
    },
    {
     "name": "stdout",
     "output_type": "stream",
     "text": [
      "model building done\n",
      "Epoch 0 done: Loss = 0.01791709112132697\n",
      "Epoch 1 done: Loss = 0.013513339792220762\n",
      "Epoch 2 done: Loss = 0.01202610725069297\n",
      "Epoch 3 done: Loss = 0.011230081110239681\n",
      "Epoch 4 done: Loss = 0.01069989956735864\n",
      "Epoch 5 done: Loss = 0.010307938922289359\n",
      "Epoch 6 done: Loss = 0.009999847160436283\n",
      "Epoch 7 done: Loss = 0.009747836418474728\n",
      "Epoch 8 done: Loss = 0.00953560610492152\n",
      "Epoch 9 done: Loss = 0.009352834530589464\n",
      "model training done\n"
     ]
    },
    {
     "data": {
      "text/html": [
       "<br/>Waiting for W&B process to finish, PID 106273<br/>Program ended successfully."
      ],
      "text/plain": [
       "<IPython.core.display.HTML object>"
      ]
     },
     "metadata": {},
     "output_type": "display_data"
    },
    {
     "data": {
      "application/vnd.jupyter.widget-view+json": {
       "model_id": "",
       "version_major": 2,
       "version_minor": 0
      },
      "text/plain": [
       "VBox(children=(Label(value=' 0.00MB of 0.00MB uploaded (0.00MB deduped)\\r'), FloatProgress(value=1.0, max=1.0)…"
      ]
     },
     "metadata": {},
     "output_type": "display_data"
    },
    {
     "data": {
      "text/html": [
       "Find user logs for this run at: <code>/home/krishna/iit/sem6/dl/wandb/run-20210312_131612-roxxx10w/logs/debug.log</code>"
      ],
      "text/plain": [
       "<IPython.core.display.HTML object>"
      ]
     },
     "metadata": {},
     "output_type": "display_data"
    },
    {
     "data": {
      "text/html": [
       "Find internal logs for this run at: <code>/home/krishna/iit/sem6/dl/wandb/run-20210312_131612-roxxx10w/logs/debug-internal.log</code>"
      ],
      "text/plain": [
       "<IPython.core.display.HTML object>"
      ]
     },
     "metadata": {},
     "output_type": "display_data"
    },
    {
     "data": {
      "text/html": [
       "<h3>Run summary:</h3><br/><style>\n",
       "    table.wandb td:nth-child(1) { padding: 0 10px; text-align: right }\n",
       "    </style><table class=\"wandb\">\n",
       "<tr><td>train accuracy</td><td>0.87293</td></tr><tr><td>validation accuracy</td><td>0.8625</td></tr><tr><td>train loss</td><td>0.00935</td></tr><tr><td>val loss</td><td>0.00989</td></tr><tr><td>_runtime</td><td>21</td></tr><tr><td>_timestamp</td><td>1615535193</td></tr><tr><td>_step</td><td>9</td></tr></table>"
      ],
      "text/plain": [
       "<IPython.core.display.HTML object>"
      ]
     },
     "metadata": {},
     "output_type": "display_data"
    },
    {
     "data": {
      "text/html": [
       "<h3>Run history:</h3><br/><style>\n",
       "    table.wandb td:nth-child(1) { padding: 0 10px; text-align: right }\n",
       "    </style><table class=\"wandb\">\n",
       "<tr><td>train accuracy</td><td>▁▄▅▆▇▇▇███</td></tr><tr><td>validation accuracy</td><td>▁▅▆▆▇▇▇███</td></tr><tr><td>train loss</td><td>█▄▃▃▂▂▂▁▁▁</td></tr><tr><td>val loss</td><td>█▄▃▂▂▂▁▁▁▁</td></tr><tr><td>_runtime</td><td>▁▂▂▃▄▅▆▆▇█</td></tr><tr><td>_timestamp</td><td>▁▂▂▃▄▅▆▆▇█</td></tr><tr><td>_step</td><td>▁▂▃▃▄▅▆▆▇█</td></tr></table><br/>"
      ],
      "text/plain": [
       "<IPython.core.display.HTML object>"
      ]
     },
     "metadata": {},
     "output_type": "display_data"
    },
    {
     "data": {
      "text/html": [
       "Synced 5 W&B file(s), 0 media file(s), 0 artifact file(s) and 0 other file(s)"
      ],
      "text/plain": [
       "<IPython.core.display.HTML object>"
      ]
     },
     "metadata": {},
     "output_type": "display_data"
    },
    {
     "data": {
      "text/html": [
       "\n",
       "                    <br/>Synced <strong style=\"color:#cdcd00\">hello</strong>: <a href=\"https://wandb.ai/notarchana/CS6910-A1/runs/roxxx10w\" target=\"_blank\">https://wandb.ai/notarchana/CS6910-A1/runs/roxxx10w</a><br/>\n",
       "                "
      ],
      "text/plain": [
       "<IPython.core.display.HTML object>"
      ]
     },
     "metadata": {},
     "output_type": "display_data"
    },
    {
     "name": "stderr",
     "output_type": "stream",
     "text": [
      "\u001b[34m\u001b[1mwandb\u001b[0m: Agent Starting Run: p3r9q1mh with config:\n",
      "\u001b[34m\u001b[1mwandb\u001b[0m: \tactivation: tanh\n",
      "\u001b[34m\u001b[1mwandb\u001b[0m: \tbatch_size: 64\n",
      "\u001b[34m\u001b[1mwandb\u001b[0m: \tepochs: 5\n",
      "\u001b[34m\u001b[1mwandb\u001b[0m: \thidden_layer_size: 64\n",
      "\u001b[34m\u001b[1mwandb\u001b[0m: \thidden_layers: 5\n",
      "\u001b[34m\u001b[1mwandb\u001b[0m: \tlr: 0.001\n",
      "\u001b[34m\u001b[1mwandb\u001b[0m: \toptimiser: rmsprop\n",
      "\u001b[34m\u001b[1mwandb\u001b[0m: \tweight_decay: 0.5\n",
      "\u001b[34m\u001b[1mwandb\u001b[0m: \tweight_init: xavier\n"
     ]
    },
    {
     "data": {
      "text/html": [
       "\n",
       "                Tracking run with wandb version 0.10.22<br/>\n",
       "                Syncing run <strong style=\"color:#cdcd00\">hello</strong> to <a href=\"https://wandb.ai\" target=\"_blank\">Weights & Biases</a> <a href=\"https://docs.wandb.com/integrations/jupyter.html\" target=\"_blank\">(Documentation)</a>.<br/>\n",
       "                Project page: <a href=\"https://wandb.ai/notarchana/CS6910-A1\" target=\"_blank\">https://wandb.ai/notarchana/CS6910-A1</a><br/>\n",
       "                Sweep page: <a href=\"https://wandb.ai/notarchana/CS6910-A1/sweeps/wnukyq05\" target=\"_blank\">https://wandb.ai/notarchana/CS6910-A1/sweeps/wnukyq05</a><br/>\n",
       "Run page: <a href=\"https://wandb.ai/notarchana/CS6910-A1/runs/p3r9q1mh\" target=\"_blank\">https://wandb.ai/notarchana/CS6910-A1/runs/p3r9q1mh</a><br/>\n",
       "                Run data is saved locally in <code>/home/krishna/iit/sem6/dl/wandb/run-20210312_131640-p3r9q1mh</code><br/><br/>\n",
       "            "
      ],
      "text/plain": [
       "<IPython.core.display.HTML object>"
      ]
     },
     "metadata": {},
     "output_type": "display_data"
    },
    {
     "name": "stderr",
     "output_type": "stream",
     "text": [
      "\u001b[34m\u001b[1mwandb\u001b[0m: \u001b[33mWARNING\u001b[0m Calling run.save without any arguments is deprecated.Changes to attributes are automatically persisted.\n"
     ]
    },
    {
     "name": "stdout",
     "output_type": "stream",
     "text": [
      "model building done\n",
      "Epoch 0 done: Loss = 0.011586833271829597\n",
      "Epoch 1 done: Loss = 0.00970699847354976\n",
      "Epoch 2 done: Loss = 0.008943947302551178\n",
      "Epoch 3 done: Loss = 0.008282520747270462\n",
      "Epoch 4 done: Loss = 0.008027898035650573\n",
      "model training done\n"
     ]
    },
    {
     "data": {
      "text/html": [
       "<br/>Waiting for W&B process to finish, PID 106308<br/>Program ended successfully."
      ],
      "text/plain": [
       "<IPython.core.display.HTML object>"
      ]
     },
     "metadata": {},
     "output_type": "display_data"
    },
    {
     "data": {
      "application/vnd.jupyter.widget-view+json": {
       "model_id": "",
       "version_major": 2,
       "version_minor": 0
      },
      "text/plain": [
       "VBox(children=(Label(value=' 0.00MB of 0.00MB uploaded (0.00MB deduped)\\r'), FloatProgress(value=1.0, max=1.0)…"
      ]
     },
     "metadata": {},
     "output_type": "display_data"
    },
    {
     "data": {
      "text/html": [
       "Find user logs for this run at: <code>/home/krishna/iit/sem6/dl/wandb/run-20210312_131640-p3r9q1mh/logs/debug.log</code>"
      ],
      "text/plain": [
       "<IPython.core.display.HTML object>"
      ]
     },
     "metadata": {},
     "output_type": "display_data"
    },
    {
     "data": {
      "text/html": [
       "Find internal logs for this run at: <code>/home/krishna/iit/sem6/dl/wandb/run-20210312_131640-p3r9q1mh/logs/debug-internal.log</code>"
      ],
      "text/plain": [
       "<IPython.core.display.HTML object>"
      ]
     },
     "metadata": {},
     "output_type": "display_data"
    },
    {
     "data": {
      "text/html": [
       "<h3>Run summary:</h3><br/><style>\n",
       "    table.wandb td:nth-child(1) { padding: 0 10px; text-align: right }\n",
       "    </style><table class=\"wandb\">\n",
       "<tr><td>train accuracy</td><td>0.88994</td></tr><tr><td>validation accuracy</td><td>0.87917</td></tr><tr><td>train loss</td><td>0.00803</td></tr><tr><td>val loss</td><td>0.00875</td></tr><tr><td>_runtime</td><td>29</td></tr><tr><td>_timestamp</td><td>1615535229</td></tr><tr><td>_step</td><td>4</td></tr></table>"
      ],
      "text/plain": [
       "<IPython.core.display.HTML object>"
      ]
     },
     "metadata": {},
     "output_type": "display_data"
    },
    {
     "data": {
      "text/html": [
       "<h3>Run history:</h3><br/><style>\n",
       "    table.wandb td:nth-child(1) { padding: 0 10px; text-align: right }\n",
       "    </style><table class=\"wandb\">\n",
       "<tr><td>train accuracy</td><td>▁▅▆▇█</td></tr><tr><td>validation accuracy</td><td>▁▅▆▇█</td></tr><tr><td>train loss</td><td>█▄▃▂▁</td></tr><tr><td>val loss</td><td>█▄▂▁▁</td></tr><tr><td>_runtime</td><td>▁▃▅▆█</td></tr><tr><td>_timestamp</td><td>▁▃▅▆█</td></tr><tr><td>_step</td><td>▁▃▅▆█</td></tr></table><br/>"
      ],
      "text/plain": [
       "<IPython.core.display.HTML object>"
      ]
     },
     "metadata": {},
     "output_type": "display_data"
    },
    {
     "data": {
      "text/html": [
       "Synced 5 W&B file(s), 0 media file(s), 0 artifact file(s) and 0 other file(s)"
      ],
      "text/plain": [
       "<IPython.core.display.HTML object>"
      ]
     },
     "metadata": {},
     "output_type": "display_data"
    },
    {
     "data": {
      "text/html": [
       "\n",
       "                    <br/>Synced <strong style=\"color:#cdcd00\">hello</strong>: <a href=\"https://wandb.ai/notarchana/CS6910-A1/runs/p3r9q1mh\" target=\"_blank\">https://wandb.ai/notarchana/CS6910-A1/runs/p3r9q1mh</a><br/>\n",
       "                "
      ],
      "text/plain": [
       "<IPython.core.display.HTML object>"
      ]
     },
     "metadata": {},
     "output_type": "display_data"
    },
    {
     "name": "stderr",
     "output_type": "stream",
     "text": [
      "\u001b[34m\u001b[1mwandb\u001b[0m: Agent Starting Run: 09jjbdeh with config:\n",
      "\u001b[34m\u001b[1mwandb\u001b[0m: \tactivation: sigmoid\n",
      "\u001b[34m\u001b[1mwandb\u001b[0m: \tbatch_size: 64\n",
      "\u001b[34m\u001b[1mwandb\u001b[0m: \tepochs: 10\n",
      "\u001b[34m\u001b[1mwandb\u001b[0m: \thidden_layer_size: 64\n",
      "\u001b[34m\u001b[1mwandb\u001b[0m: \thidden_layers: 4\n",
      "\u001b[34m\u001b[1mwandb\u001b[0m: \tlr: 0.0001\n",
      "\u001b[34m\u001b[1mwandb\u001b[0m: \toptimiser: nadam\n",
      "\u001b[34m\u001b[1mwandb\u001b[0m: \tweight_decay: 0.0005\n",
      "\u001b[34m\u001b[1mwandb\u001b[0m: \tweight_init: xavier\n"
     ]
    },
    {
     "data": {
      "text/html": [
       "\n",
       "                Tracking run with wandb version 0.10.22<br/>\n",
       "                Syncing run <strong style=\"color:#cdcd00\">hello</strong> to <a href=\"https://wandb.ai\" target=\"_blank\">Weights & Biases</a> <a href=\"https://docs.wandb.com/integrations/jupyter.html\" target=\"_blank\">(Documentation)</a>.<br/>\n",
       "                Project page: <a href=\"https://wandb.ai/notarchana/CS6910-A1\" target=\"_blank\">https://wandb.ai/notarchana/CS6910-A1</a><br/>\n",
       "                Sweep page: <a href=\"https://wandb.ai/notarchana/CS6910-A1/sweeps/wnukyq05\" target=\"_blank\">https://wandb.ai/notarchana/CS6910-A1/sweeps/wnukyq05</a><br/>\n",
       "Run page: <a href=\"https://wandb.ai/notarchana/CS6910-A1/runs/09jjbdeh\" target=\"_blank\">https://wandb.ai/notarchana/CS6910-A1/runs/09jjbdeh</a><br/>\n",
       "                Run data is saved locally in <code>/home/krishna/iit/sem6/dl/wandb/run-20210312_131716-09jjbdeh</code><br/><br/>\n",
       "            "
      ],
      "text/plain": [
       "<IPython.core.display.HTML object>"
      ]
     },
     "metadata": {},
     "output_type": "display_data"
    },
    {
     "name": "stderr",
     "output_type": "stream",
     "text": [
      "\u001b[34m\u001b[1mwandb\u001b[0m: \u001b[33mWARNING\u001b[0m Calling run.save without any arguments is deprecated.Changes to attributes are automatically persisted.\n"
     ]
    },
    {
     "name": "stdout",
     "output_type": "stream",
     "text": [
      "model building done\n",
      "Epoch 0 done: Loss = 0.04430143438143474\n",
      "Epoch 1 done: Loss = 0.04273830288280204\n",
      "Epoch 2 done: Loss = 0.04130425762138609\n",
      "Epoch 3 done: Loss = 0.04022291100517645\n",
      "Epoch 4 done: Loss = 0.03924785301984058\n",
      "Epoch 5 done: Loss = 0.038259200414465185\n",
      "Epoch 6 done: Loss = 0.037246605274053886\n",
      "Epoch 7 done: Loss = 0.036193198992255454\n",
      "Epoch 8 done: Loss = 0.03507012063542473\n",
      "Epoch 9 done: Loss = 0.03388466408426649\n",
      "model training done\n"
     ]
    },
    {
     "data": {
      "text/html": [
       "<br/>Waiting for W&B process to finish, PID 106354<br/>Program ended successfully."
      ],
      "text/plain": [
       "<IPython.core.display.HTML object>"
      ]
     },
     "metadata": {},
     "output_type": "display_data"
    },
    {
     "data": {
      "application/vnd.jupyter.widget-view+json": {
       "model_id": "",
       "version_major": 2,
       "version_minor": 0
      },
      "text/plain": [
       "VBox(children=(Label(value=' 0.00MB of 0.00MB uploaded (0.00MB deduped)\\r'), FloatProgress(value=1.0, max=1.0)…"
      ]
     },
     "metadata": {},
     "output_type": "display_data"
    },
    {
     "data": {
      "text/html": [
       "Find user logs for this run at: <code>/home/krishna/iit/sem6/dl/wandb/run-20210312_131716-09jjbdeh/logs/debug.log</code>"
      ],
      "text/plain": [
       "<IPython.core.display.HTML object>"
      ]
     },
     "metadata": {},
     "output_type": "display_data"
    },
    {
     "data": {
      "text/html": [
       "Find internal logs for this run at: <code>/home/krishna/iit/sem6/dl/wandb/run-20210312_131716-09jjbdeh/logs/debug-internal.log</code>"
      ],
      "text/plain": [
       "<IPython.core.display.HTML object>"
      ]
     },
     "metadata": {},
     "output_type": "display_data"
    },
    {
     "data": {
      "text/html": [
       "<h3>Run summary:</h3><br/><style>\n",
       "    table.wandb td:nth-child(1) { padding: 0 10px; text-align: right }\n",
       "    </style><table class=\"wandb\">\n",
       "<tr><td>train accuracy</td><td>0.5548</td></tr><tr><td>validation accuracy</td><td>0.55583</td></tr><tr><td>train loss</td><td>0.03388</td></tr><tr><td>val loss</td><td>0.03381</td></tr><tr><td>_runtime</td><td>39</td></tr><tr><td>_timestamp</td><td>1615535275</td></tr><tr><td>_step</td><td>9</td></tr></table>"
      ],
      "text/plain": [
       "<IPython.core.display.HTML object>"
      ]
     },
     "metadata": {},
     "output_type": "display_data"
    },
    {
     "data": {
      "text/html": [
       "<h3>Run history:</h3><br/><style>\n",
       "    table.wandb td:nth-child(1) { padding: 0 10px; text-align: right }\n",
       "    </style><table class=\"wandb\">\n",
       "<tr><td>train accuracy</td><td>▂▁▂▂▄▄▅▆▇█</td></tr><tr><td>validation accuracy</td><td>▂▁▂▂▄▄▅▆▇█</td></tr><tr><td>train loss</td><td>█▇▆▅▅▄▃▃▂▁</td></tr><tr><td>val loss</td><td>█▇▆▅▅▄▃▃▂▁</td></tr><tr><td>_runtime</td><td>▁▂▂▃▄▅▅▆▇█</td></tr><tr><td>_timestamp</td><td>▁▂▂▃▄▅▅▆▇█</td></tr><tr><td>_step</td><td>▁▂▃▃▄▅▆▆▇█</td></tr></table><br/>"
      ],
      "text/plain": [
       "<IPython.core.display.HTML object>"
      ]
     },
     "metadata": {},
     "output_type": "display_data"
    },
    {
     "data": {
      "text/html": [
       "Synced 5 W&B file(s), 0 media file(s), 0 artifact file(s) and 0 other file(s)"
      ],
      "text/plain": [
       "<IPython.core.display.HTML object>"
      ]
     },
     "metadata": {},
     "output_type": "display_data"
    },
    {
     "data": {
      "text/html": [
       "\n",
       "                    <br/>Synced <strong style=\"color:#cdcd00\">hello</strong>: <a href=\"https://wandb.ai/notarchana/CS6910-A1/runs/09jjbdeh\" target=\"_blank\">https://wandb.ai/notarchana/CS6910-A1/runs/09jjbdeh</a><br/>\n",
       "                "
      ],
      "text/plain": [
       "<IPython.core.display.HTML object>"
      ]
     },
     "metadata": {},
     "output_type": "display_data"
    },
    {
     "name": "stderr",
     "output_type": "stream",
     "text": [
      "\u001b[34m\u001b[1mwandb\u001b[0m: Agent Starting Run: zvo4btnv with config:\n",
      "\u001b[34m\u001b[1mwandb\u001b[0m: \tactivation: tanh\n",
      "\u001b[34m\u001b[1mwandb\u001b[0m: \tbatch_size: 16\n",
      "\u001b[34m\u001b[1mwandb\u001b[0m: \tepochs: 5\n",
      "\u001b[34m\u001b[1mwandb\u001b[0m: \thidden_layer_size: 128\n",
      "\u001b[34m\u001b[1mwandb\u001b[0m: \thidden_layers: 3\n",
      "\u001b[34m\u001b[1mwandb\u001b[0m: \tlr: 0.0001\n",
      "\u001b[34m\u001b[1mwandb\u001b[0m: \toptimiser: nadam\n",
      "\u001b[34m\u001b[1mwandb\u001b[0m: \tweight_decay: 0\n",
      "\u001b[34m\u001b[1mwandb\u001b[0m: \tweight_init: xavier\n"
     ]
    },
    {
     "data": {
      "text/html": [
       "\n",
       "                Tracking run with wandb version 0.10.22<br/>\n",
       "                Syncing run <strong style=\"color:#cdcd00\">hello</strong> to <a href=\"https://wandb.ai\" target=\"_blank\">Weights & Biases</a> <a href=\"https://docs.wandb.com/integrations/jupyter.html\" target=\"_blank\">(Documentation)</a>.<br/>\n",
       "                Project page: <a href=\"https://wandb.ai/notarchana/CS6910-A1\" target=\"_blank\">https://wandb.ai/notarchana/CS6910-A1</a><br/>\n",
       "                Sweep page: <a href=\"https://wandb.ai/notarchana/CS6910-A1/sweeps/wnukyq05\" target=\"_blank\">https://wandb.ai/notarchana/CS6910-A1/sweeps/wnukyq05</a><br/>\n",
       "Run page: <a href=\"https://wandb.ai/notarchana/CS6910-A1/runs/zvo4btnv\" target=\"_blank\">https://wandb.ai/notarchana/CS6910-A1/runs/zvo4btnv</a><br/>\n",
       "                Run data is saved locally in <code>/home/krishna/iit/sem6/dl/wandb/run-20210312_131804-zvo4btnv</code><br/><br/>\n",
       "            "
      ],
      "text/plain": [
       "<IPython.core.display.HTML object>"
      ]
     },
     "metadata": {},
     "output_type": "display_data"
    },
    {
     "name": "stderr",
     "output_type": "stream",
     "text": [
      "\u001b[34m\u001b[1mwandb\u001b[0m: \u001b[33mWARNING\u001b[0m Calling run.save without any arguments is deprecated.Changes to attributes are automatically persisted.\n"
     ]
    },
    {
     "name": "stdout",
     "output_type": "stream",
     "text": [
      "model building done\n",
      "Epoch 0 done: Loss = 0.012013713908264901\n",
      "Epoch 1 done: Loss = 0.01106417056673783\n",
      "Epoch 2 done: Loss = 0.010556726505277675\n",
      "Epoch 3 done: Loss = 0.010206009082659742\n",
      "Epoch 4 done: Loss = 0.009936830541539479\n",
      "model training done\n"
     ]
    },
    {
     "data": {
      "text/html": [
       "<br/>Waiting for W&B process to finish, PID 106408<br/>Program ended successfully."
      ],
      "text/plain": [
       "<IPython.core.display.HTML object>"
      ]
     },
     "metadata": {},
     "output_type": "display_data"
    },
    {
     "data": {
      "application/vnd.jupyter.widget-view+json": {
       "model_id": "",
       "version_major": 2,
       "version_minor": 0
      },
      "text/plain": [
       "VBox(children=(Label(value=' 0.00MB of 0.00MB uploaded (0.00MB deduped)\\r'), FloatProgress(value=1.0, max=1.0)…"
      ]
     },
     "metadata": {},
     "output_type": "display_data"
    },
    {
     "data": {
      "text/html": [
       "Find user logs for this run at: <code>/home/krishna/iit/sem6/dl/wandb/run-20210312_131804-zvo4btnv/logs/debug.log</code>"
      ],
      "text/plain": [
       "<IPython.core.display.HTML object>"
      ]
     },
     "metadata": {},
     "output_type": "display_data"
    },
    {
     "data": {
      "text/html": [
       "Find internal logs for this run at: <code>/home/krishna/iit/sem6/dl/wandb/run-20210312_131804-zvo4btnv/logs/debug-internal.log</code>"
      ],
      "text/plain": [
       "<IPython.core.display.HTML object>"
      ]
     },
     "metadata": {},
     "output_type": "display_data"
    },
    {
     "data": {
      "text/html": [
       "<h3>Run summary:</h3><br/><style>\n",
       "    table.wandb td:nth-child(1) { padding: 0 10px; text-align: right }\n",
       "    </style><table class=\"wandb\">\n",
       "<tr><td>train accuracy</td><td>0.8653</td></tr><tr><td>validation accuracy</td><td>0.85467</td></tr><tr><td>train loss</td><td>0.00994</td></tr><tr><td>val loss</td><td>0.01074</td></tr><tr><td>_runtime</td><td>82</td></tr><tr><td>_timestamp</td><td>1615535366</td></tr><tr><td>_step</td><td>4</td></tr></table>"
      ],
      "text/plain": [
       "<IPython.core.display.HTML object>"
      ]
     },
     "metadata": {},
     "output_type": "display_data"
    },
    {
     "data": {
      "text/html": [
       "<h3>Run history:</h3><br/><style>\n",
       "    table.wandb td:nth-child(1) { padding: 0 10px; text-align: right }\n",
       "    </style><table class=\"wandb\">\n",
       "<tr><td>train accuracy</td><td>▁▄▆▇█</td></tr><tr><td>validation accuracy</td><td>▁▄▆▇█</td></tr><tr><td>train loss</td><td>█▅▃▂▁</td></tr><tr><td>val loss</td><td>█▅▃▂▁</td></tr><tr><td>_runtime</td><td>▁▃▄▆█</td></tr><tr><td>_timestamp</td><td>▁▃▄▆█</td></tr><tr><td>_step</td><td>▁▃▅▆█</td></tr></table><br/>"
      ],
      "text/plain": [
       "<IPython.core.display.HTML object>"
      ]
     },
     "metadata": {},
     "output_type": "display_data"
    },
    {
     "data": {
      "text/html": [
       "Synced 5 W&B file(s), 0 media file(s), 0 artifact file(s) and 0 other file(s)"
      ],
      "text/plain": [
       "<IPython.core.display.HTML object>"
      ]
     },
     "metadata": {},
     "output_type": "display_data"
    },
    {
     "data": {
      "text/html": [
       "\n",
       "                    <br/>Synced <strong style=\"color:#cdcd00\">hello</strong>: <a href=\"https://wandb.ai/notarchana/CS6910-A1/runs/zvo4btnv\" target=\"_blank\">https://wandb.ai/notarchana/CS6910-A1/runs/zvo4btnv</a><br/>\n",
       "                "
      ],
      "text/plain": [
       "<IPython.core.display.HTML object>"
      ]
     },
     "metadata": {},
     "output_type": "display_data"
    },
    {
     "name": "stderr",
     "output_type": "stream",
     "text": [
      "\u001b[34m\u001b[1mwandb\u001b[0m: Agent Starting Run: d58t1s7z with config:\n",
      "\u001b[34m\u001b[1mwandb\u001b[0m: \tactivation: relu\n",
      "\u001b[34m\u001b[1mwandb\u001b[0m: \tbatch_size: 16\n",
      "\u001b[34m\u001b[1mwandb\u001b[0m: \tepochs: 10\n",
      "\u001b[34m\u001b[1mwandb\u001b[0m: \thidden_layer_size: 128\n",
      "\u001b[34m\u001b[1mwandb\u001b[0m: \thidden_layers: 5\n",
      "\u001b[34m\u001b[1mwandb\u001b[0m: \tlr: 0.001\n",
      "\u001b[34m\u001b[1mwandb\u001b[0m: \toptimiser: momentum\n",
      "\u001b[34m\u001b[1mwandb\u001b[0m: \tweight_decay: 0.5\n",
      "\u001b[34m\u001b[1mwandb\u001b[0m: \tweight_init: xavier\n"
     ]
    },
    {
     "data": {
      "text/html": [
       "\n",
       "                Tracking run with wandb version 0.10.22<br/>\n",
       "                Syncing run <strong style=\"color:#cdcd00\">hello</strong> to <a href=\"https://wandb.ai\" target=\"_blank\">Weights & Biases</a> <a href=\"https://docs.wandb.com/integrations/jupyter.html\" target=\"_blank\">(Documentation)</a>.<br/>\n",
       "                Project page: <a href=\"https://wandb.ai/notarchana/CS6910-A1\" target=\"_blank\">https://wandb.ai/notarchana/CS6910-A1</a><br/>\n",
       "                Sweep page: <a href=\"https://wandb.ai/notarchana/CS6910-A1/sweeps/wnukyq05\" target=\"_blank\">https://wandb.ai/notarchana/CS6910-A1/sweeps/wnukyq05</a><br/>\n",
       "Run page: <a href=\"https://wandb.ai/notarchana/CS6910-A1/runs/d58t1s7z\" target=\"_blank\">https://wandb.ai/notarchana/CS6910-A1/runs/d58t1s7z</a><br/>\n",
       "                Run data is saved locally in <code>/home/krishna/iit/sem6/dl/wandb/run-20210312_131933-d58t1s7z</code><br/><br/>\n",
       "            "
      ],
      "text/plain": [
       "<IPython.core.display.HTML object>"
      ]
     },
     "metadata": {},
     "output_type": "display_data"
    },
    {
     "name": "stderr",
     "output_type": "stream",
     "text": [
      "\u001b[34m\u001b[1mwandb\u001b[0m: \u001b[33mWARNING\u001b[0m Calling run.save without any arguments is deprecated.Changes to attributes are automatically persisted.\n"
     ]
    },
    {
     "name": "stdout",
     "output_type": "stream",
     "text": [
      "model building done\n",
      "Epoch 0 done: Loss = 0.011562519532220396\n",
      "Epoch 1 done: Loss = 0.01007205916483944\n",
      "Epoch 2 done: Loss = 0.009067897701903792\n",
      "Epoch 3 done: Loss = 0.008872658061457182\n",
      "Epoch 4 done: Loss = 0.008489676252654503\n",
      "Epoch 5 done: Loss = 0.008136322335556914\n",
      "Epoch 6 done: Loss = 0.0078018993447271055\n",
      "Epoch 7 done: Loss = 0.007972153872136581\n",
      "Epoch 8 done: Loss = 0.007628532364665957\n",
      "Epoch 9 done: Loss = 0.007967199744756754\n",
      "model training done\n"
     ]
    },
    {
     "data": {
      "text/html": [
       "<br/>Waiting for W&B process to finish, PID 106480<br/>Program ended successfully."
      ],
      "text/plain": [
       "<IPython.core.display.HTML object>"
      ]
     },
     "metadata": {},
     "output_type": "display_data"
    },
    {
     "data": {
      "application/vnd.jupyter.widget-view+json": {
       "model_id": "",
       "version_major": 2,
       "version_minor": 0
      },
      "text/plain": [
       "VBox(children=(Label(value=' 0.00MB of 0.00MB uploaded (0.00MB deduped)\\r'), FloatProgress(value=1.0, max=1.0)…"
      ]
     },
     "metadata": {},
     "output_type": "display_data"
    },
    {
     "data": {
      "text/html": [
       "Find user logs for this run at: <code>/home/krishna/iit/sem6/dl/wandb/run-20210312_131933-d58t1s7z/logs/debug.log</code>"
      ],
      "text/plain": [
       "<IPython.core.display.HTML object>"
      ]
     },
     "metadata": {},
     "output_type": "display_data"
    },
    {
     "data": {
      "text/html": [
       "Find internal logs for this run at: <code>/home/krishna/iit/sem6/dl/wandb/run-20210312_131933-d58t1s7z/logs/debug-internal.log</code>"
      ],
      "text/plain": [
       "<IPython.core.display.HTML object>"
      ]
     },
     "metadata": {},
     "output_type": "display_data"
    },
    {
     "data": {
      "text/html": [
       "<h3>Run summary:</h3><br/><style>\n",
       "    table.wandb td:nth-child(1) { padding: 0 10px; text-align: right }\n",
       "    </style><table class=\"wandb\">\n",
       "<tr><td>train accuracy</td><td>0.89063</td></tr><tr><td>validation accuracy</td><td>0.8715</td></tr><tr><td>train loss</td><td>0.00797</td></tr><tr><td>val loss</td><td>0.00931</td></tr><tr><td>_runtime</td><td>81</td></tr><tr><td>_timestamp</td><td>1615535454</td></tr><tr><td>_step</td><td>9</td></tr></table>"
      ],
      "text/plain": [
       "<IPython.core.display.HTML object>"
      ]
     },
     "metadata": {},
     "output_type": "display_data"
    },
    {
     "data": {
      "text/html": [
       "<h3>Run history:</h3><br/><style>\n",
       "    table.wandb td:nth-child(1) { padding: 0 10px; text-align: right }\n",
       "    </style><table class=\"wandb\">\n",
       "<tr><td>train accuracy</td><td>▁▄▅▆▆▇█▇█▇</td></tr><tr><td>validation accuracy</td><td>▁▄▅▆▇▇█▇█▇</td></tr><tr><td>train loss</td><td>█▅▄▃▃▂▁▂▁▂</td></tr><tr><td>val loss</td><td>█▅▃▃▂▂▁▂▁▂</td></tr><tr><td>_runtime</td><td>▁▂▃▃▄▅▆▆▇█</td></tr><tr><td>_timestamp</td><td>▁▂▃▃▄▅▆▆▇█</td></tr><tr><td>_step</td><td>▁▂▃▃▄▅▆▆▇█</td></tr></table><br/>"
      ],
      "text/plain": [
       "<IPython.core.display.HTML object>"
      ]
     },
     "metadata": {},
     "output_type": "display_data"
    },
    {
     "data": {
      "text/html": [
       "Synced 5 W&B file(s), 0 media file(s), 0 artifact file(s) and 0 other file(s)"
      ],
      "text/plain": [
       "<IPython.core.display.HTML object>"
      ]
     },
     "metadata": {},
     "output_type": "display_data"
    },
    {
     "data": {
      "text/html": [
       "\n",
       "                    <br/>Synced <strong style=\"color:#cdcd00\">hello</strong>: <a href=\"https://wandb.ai/notarchana/CS6910-A1/runs/d58t1s7z\" target=\"_blank\">https://wandb.ai/notarchana/CS6910-A1/runs/d58t1s7z</a><br/>\n",
       "                "
      ],
      "text/plain": [
       "<IPython.core.display.HTML object>"
      ]
     },
     "metadata": {},
     "output_type": "display_data"
    },
    {
     "name": "stderr",
     "output_type": "stream",
     "text": [
      "\u001b[34m\u001b[1mwandb\u001b[0m: Agent Starting Run: emz9djth with config:\n",
      "\u001b[34m\u001b[1mwandb\u001b[0m: \tactivation: relu\n",
      "\u001b[34m\u001b[1mwandb\u001b[0m: \tbatch_size: 64\n",
      "\u001b[34m\u001b[1mwandb\u001b[0m: \tepochs: 5\n",
      "\u001b[34m\u001b[1mwandb\u001b[0m: \thidden_layer_size: 64\n",
      "\u001b[34m\u001b[1mwandb\u001b[0m: \thidden_layers: 5\n",
      "\u001b[34m\u001b[1mwandb\u001b[0m: \tlr: 0.0001\n",
      "\u001b[34m\u001b[1mwandb\u001b[0m: \toptimiser: nesterov\n",
      "\u001b[34m\u001b[1mwandb\u001b[0m: \tweight_decay: 0.5\n",
      "\u001b[34m\u001b[1mwandb\u001b[0m: \tweight_init: xavier\n"
     ]
    },
    {
     "data": {
      "text/html": [
       "\n",
       "                Tracking run with wandb version 0.10.22<br/>\n",
       "                Syncing run <strong style=\"color:#cdcd00\">hello</strong> to <a href=\"https://wandb.ai\" target=\"_blank\">Weights & Biases</a> <a href=\"https://docs.wandb.com/integrations/jupyter.html\" target=\"_blank\">(Documentation)</a>.<br/>\n",
       "                Project page: <a href=\"https://wandb.ai/notarchana/CS6910-A1\" target=\"_blank\">https://wandb.ai/notarchana/CS6910-A1</a><br/>\n",
       "                Sweep page: <a href=\"https://wandb.ai/notarchana/CS6910-A1/sweeps/wnukyq05\" target=\"_blank\">https://wandb.ai/notarchana/CS6910-A1/sweeps/wnukyq05</a><br/>\n",
       "Run page: <a href=\"https://wandb.ai/notarchana/CS6910-A1/runs/emz9djth\" target=\"_blank\">https://wandb.ai/notarchana/CS6910-A1/runs/emz9djth</a><br/>\n",
       "                Run data is saved locally in <code>/home/krishna/iit/sem6/dl/wandb/run-20210312_132102-emz9djth</code><br/><br/>\n",
       "            "
      ],
      "text/plain": [
       "<IPython.core.display.HTML object>"
      ]
     },
     "metadata": {},
     "output_type": "display_data"
    },
    {
     "name": "stderr",
     "output_type": "stream",
     "text": [
      "\u001b[34m\u001b[1mwandb\u001b[0m: \u001b[33mWARNING\u001b[0m Calling run.save without any arguments is deprecated.Changes to attributes are automatically persisted.\n"
     ]
    },
    {
     "name": "stdout",
     "output_type": "stream",
     "text": [
      "model building done\n",
      "Epoch 0 done: Loss = 0.04494113565543636\n",
      "Epoch 1 done: Loss = 0.044768580926082845\n",
      "Epoch 2 done: Loss = 0.044601531209315155\n",
      "Epoch 3 done: Loss = 0.0444163440630255\n",
      "Epoch 4 done: Loss = 0.04418582096940723\n",
      "model training done\n"
     ]
    },
    {
     "data": {
      "text/html": [
       "<br/>Waiting for W&B process to finish, PID 106536<br/>Program ended successfully."
      ],
      "text/plain": [
       "<IPython.core.display.HTML object>"
      ]
     },
     "metadata": {},
     "output_type": "display_data"
    },
    {
     "data": {
      "application/vnd.jupyter.widget-view+json": {
       "model_id": "",
       "version_major": 2,
       "version_minor": 0
      },
      "text/plain": [
       "VBox(children=(Label(value=' 0.00MB of 0.00MB uploaded (0.00MB deduped)\\r'), FloatProgress(value=1.0, max=1.0)…"
      ]
     },
     "metadata": {},
     "output_type": "display_data"
    },
    {
     "data": {
      "text/html": [
       "Find user logs for this run at: <code>/home/krishna/iit/sem6/dl/wandb/run-20210312_132102-emz9djth/logs/debug.log</code>"
      ],
      "text/plain": [
       "<IPython.core.display.HTML object>"
      ]
     },
     "metadata": {},
     "output_type": "display_data"
    },
    {
     "data": {
      "text/html": [
       "Find internal logs for this run at: <code>/home/krishna/iit/sem6/dl/wandb/run-20210312_132102-emz9djth/logs/debug-internal.log</code>"
      ],
      "text/plain": [
       "<IPython.core.display.HTML object>"
      ]
     },
     "metadata": {},
     "output_type": "display_data"
    },
    {
     "data": {
      "text/html": [
       "<h3>Run summary:</h3><br/><style>\n",
       "    table.wandb td:nth-child(1) { padding: 0 10px; text-align: right }\n",
       "    </style><table class=\"wandb\">\n",
       "<tr><td>train accuracy</td><td>0.32635</td></tr><tr><td>validation accuracy</td><td>0.322</td></tr><tr><td>train loss</td><td>0.04419</td></tr><tr><td>val loss</td><td>0.04419</td></tr><tr><td>_runtime</td><td>14</td></tr><tr><td>_timestamp</td><td>1615535476</td></tr><tr><td>_step</td><td>4</td></tr></table>"
      ],
      "text/plain": [
       "<IPython.core.display.HTML object>"
      ]
     },
     "metadata": {},
     "output_type": "display_data"
    },
    {
     "data": {
      "text/html": [
       "<h3>Run history:</h3><br/><style>\n",
       "    table.wandb td:nth-child(1) { padding: 0 10px; text-align: right }\n",
       "    </style><table class=\"wandb\">\n",
       "<tr><td>train accuracy</td><td>▁▃▅▆█</td></tr><tr><td>validation accuracy</td><td>▁▃▅▆█</td></tr><tr><td>train loss</td><td>█▆▅▃▁</td></tr><tr><td>val loss</td><td>█▆▅▃▁</td></tr><tr><td>_runtime</td><td>▁▃▄▆█</td></tr><tr><td>_timestamp</td><td>▁▃▄▆█</td></tr><tr><td>_step</td><td>▁▃▅▆█</td></tr></table><br/>"
      ],
      "text/plain": [
       "<IPython.core.display.HTML object>"
      ]
     },
     "metadata": {},
     "output_type": "display_data"
    },
    {
     "data": {
      "text/html": [
       "Synced 5 W&B file(s), 0 media file(s), 0 artifact file(s) and 0 other file(s)"
      ],
      "text/plain": [
       "<IPython.core.display.HTML object>"
      ]
     },
     "metadata": {},
     "output_type": "display_data"
    },
    {
     "data": {
      "text/html": [
       "\n",
       "                    <br/>Synced <strong style=\"color:#cdcd00\">hello</strong>: <a href=\"https://wandb.ai/notarchana/CS6910-A1/runs/emz9djth\" target=\"_blank\">https://wandb.ai/notarchana/CS6910-A1/runs/emz9djth</a><br/>\n",
       "                "
      ],
      "text/plain": [
       "<IPython.core.display.HTML object>"
      ]
     },
     "metadata": {},
     "output_type": "display_data"
    },
    {
     "name": "stderr",
     "output_type": "stream",
     "text": [
      "\u001b[34m\u001b[1mwandb\u001b[0m: Agent Starting Run: csj2hla9 with config:\n",
      "\u001b[34m\u001b[1mwandb\u001b[0m: \tactivation: sigmoid\n",
      "\u001b[34m\u001b[1mwandb\u001b[0m: \tbatch_size: 64\n",
      "\u001b[34m\u001b[1mwandb\u001b[0m: \tepochs: 10\n",
      "\u001b[34m\u001b[1mwandb\u001b[0m: \thidden_layer_size: 32\n",
      "\u001b[34m\u001b[1mwandb\u001b[0m: \thidden_layers: 3\n",
      "\u001b[34m\u001b[1mwandb\u001b[0m: \tlr: 0.001\n",
      "\u001b[34m\u001b[1mwandb\u001b[0m: \toptimiser: adam\n",
      "\u001b[34m\u001b[1mwandb\u001b[0m: \tweight_decay: 0\n",
      "\u001b[34m\u001b[1mwandb\u001b[0m: \tweight_init: xavier\n"
     ]
    },
    {
     "data": {
      "text/html": [
       "\n",
       "                Tracking run with wandb version 0.10.22<br/>\n",
       "                Syncing run <strong style=\"color:#cdcd00\">hello</strong> to <a href=\"https://wandb.ai\" target=\"_blank\">Weights & Biases</a> <a href=\"https://docs.wandb.com/integrations/jupyter.html\" target=\"_blank\">(Documentation)</a>.<br/>\n",
       "                Project page: <a href=\"https://wandb.ai/notarchana/CS6910-A1\" target=\"_blank\">https://wandb.ai/notarchana/CS6910-A1</a><br/>\n",
       "                Sweep page: <a href=\"https://wandb.ai/notarchana/CS6910-A1/sweeps/wnukyq05\" target=\"_blank\">https://wandb.ai/notarchana/CS6910-A1/sweeps/wnukyq05</a><br/>\n",
       "Run page: <a href=\"https://wandb.ai/notarchana/CS6910-A1/runs/csj2hla9\" target=\"_blank\">https://wandb.ai/notarchana/CS6910-A1/runs/csj2hla9</a><br/>\n",
       "                Run data is saved locally in <code>/home/krishna/iit/sem6/dl/wandb/run-20210312_132124-csj2hla9</code><br/><br/>\n",
       "            "
      ],
      "text/plain": [
       "<IPython.core.display.HTML object>"
      ]
     },
     "metadata": {},
     "output_type": "display_data"
    },
    {
     "name": "stderr",
     "output_type": "stream",
     "text": [
      "\u001b[34m\u001b[1mwandb\u001b[0m: \u001b[33mWARNING\u001b[0m Calling run.save without any arguments is deprecated.Changes to attributes are automatically persisted.\n"
     ]
    },
    {
     "name": "stdout",
     "output_type": "stream",
     "text": [
      "model building done\n",
      "Epoch 0 done: Loss = 0.021402385951707167\n",
      "Epoch 1 done: Loss = 0.016877352853492622\n",
      "Epoch 2 done: Loss = 0.015185269156483123\n",
      "Epoch 3 done: Loss = 0.014222886346327093\n",
      "Epoch 4 done: Loss = 0.013595580067666788\n",
      "Epoch 5 done: Loss = 0.01312038157982549\n",
      "Epoch 6 done: Loss = 0.012706197052705087\n",
      "Epoch 7 done: Loss = 0.012314100780995861\n",
      "Epoch 8 done: Loss = 0.011956441645915554\n",
      "Epoch 9 done: Loss = 0.011637473131842598\n",
      "model training done\n"
     ]
    },
    {
     "data": {
      "text/html": [
       "<br/>Waiting for W&B process to finish, PID 106574<br/>Program ended successfully."
      ],
      "text/plain": [
       "<IPython.core.display.HTML object>"
      ]
     },
     "metadata": {},
     "output_type": "display_data"
    },
    {
     "data": {
      "application/vnd.jupyter.widget-view+json": {
       "model_id": "",
       "version_major": 2,
       "version_minor": 0
      },
      "text/plain": [
       "VBox(children=(Label(value=' 0.00MB of 0.00MB uploaded (0.00MB deduped)\\r'), FloatProgress(value=1.0, max=1.0)…"
      ]
     },
     "metadata": {},
     "output_type": "display_data"
    },
    {
     "data": {
      "text/html": [
       "Find user logs for this run at: <code>/home/krishna/iit/sem6/dl/wandb/run-20210312_132124-csj2hla9/logs/debug.log</code>"
      ],
      "text/plain": [
       "<IPython.core.display.HTML object>"
      ]
     },
     "metadata": {},
     "output_type": "display_data"
    },
    {
     "data": {
      "text/html": [
       "Find internal logs for this run at: <code>/home/krishna/iit/sem6/dl/wandb/run-20210312_132124-csj2hla9/logs/debug-internal.log</code>"
      ],
      "text/plain": [
       "<IPython.core.display.HTML object>"
      ]
     },
     "metadata": {},
     "output_type": "display_data"
    },
    {
     "data": {
      "text/html": [
       "<h3>Run summary:</h3><br/><style>\n",
       "    table.wandb td:nth-child(1) { padding: 0 10px; text-align: right }\n",
       "    </style><table class=\"wandb\">\n",
       "<tr><td>train accuracy</td><td>0.84402</td></tr><tr><td>validation accuracy</td><td>0.84317</td></tr><tr><td>train loss</td><td>0.01164</td></tr><tr><td>val loss</td><td>0.01148</td></tr><tr><td>_runtime</td><td>21</td></tr><tr><td>_timestamp</td><td>1615535505</td></tr><tr><td>_step</td><td>9</td></tr></table>"
      ],
      "text/plain": [
       "<IPython.core.display.HTML object>"
      ]
     },
     "metadata": {},
     "output_type": "display_data"
    },
    {
     "data": {
      "text/html": [
       "<h3>Run history:</h3><br/><style>\n",
       "    table.wandb td:nth-child(1) { padding: 0 10px; text-align: right }\n",
       "    </style><table class=\"wandb\">\n",
       "<tr><td>train accuracy</td><td>▁▃▄▄▅▅▆▇▇█</td></tr><tr><td>validation accuracy</td><td>▁▃▄▄▅▅▆▇██</td></tr><tr><td>train loss</td><td>█▅▄▃▂▂▂▁▁▁</td></tr><tr><td>val loss</td><td>█▅▃▃▂▂▂▁▁▁</td></tr><tr><td>_runtime</td><td>▁▂▂▃▄▅▆▆▇█</td></tr><tr><td>_timestamp</td><td>▁▂▂▃▄▅▆▆▇█</td></tr><tr><td>_step</td><td>▁▂▃▃▄▅▆▆▇█</td></tr></table><br/>"
      ],
      "text/plain": [
       "<IPython.core.display.HTML object>"
      ]
     },
     "metadata": {},
     "output_type": "display_data"
    },
    {
     "data": {
      "text/html": [
       "Synced 5 W&B file(s), 0 media file(s), 0 artifact file(s) and 0 other file(s)"
      ],
      "text/plain": [
       "<IPython.core.display.HTML object>"
      ]
     },
     "metadata": {},
     "output_type": "display_data"
    },
    {
     "data": {
      "text/html": [
       "\n",
       "                    <br/>Synced <strong style=\"color:#cdcd00\">hello</strong>: <a href=\"https://wandb.ai/notarchana/CS6910-A1/runs/csj2hla9\" target=\"_blank\">https://wandb.ai/notarchana/CS6910-A1/runs/csj2hla9</a><br/>\n",
       "                "
      ],
      "text/plain": [
       "<IPython.core.display.HTML object>"
      ]
     },
     "metadata": {},
     "output_type": "display_data"
    },
    {
     "name": "stderr",
     "output_type": "stream",
     "text": [
      "\u001b[34m\u001b[1mwandb\u001b[0m: Agent Starting Run: dvy00h9v with config:\n",
      "\u001b[34m\u001b[1mwandb\u001b[0m: \tactivation: tanh\n",
      "\u001b[34m\u001b[1mwandb\u001b[0m: \tbatch_size: 16\n",
      "\u001b[34m\u001b[1mwandb\u001b[0m: \tepochs: 10\n",
      "\u001b[34m\u001b[1mwandb\u001b[0m: \thidden_layer_size: 32\n",
      "\u001b[34m\u001b[1mwandb\u001b[0m: \thidden_layers: 3\n",
      "\u001b[34m\u001b[1mwandb\u001b[0m: \tlr: 0.0001\n",
      "\u001b[34m\u001b[1mwandb\u001b[0m: \toptimiser: momentum\n",
      "\u001b[34m\u001b[1mwandb\u001b[0m: \tweight_decay: 0.5\n",
      "\u001b[34m\u001b[1mwandb\u001b[0m: \tweight_init: xavier\n"
     ]
    },
    {
     "data": {
      "text/html": [
       "\n",
       "                Tracking run with wandb version 0.10.22<br/>\n",
       "                Syncing run <strong style=\"color:#cdcd00\">hello</strong> to <a href=\"https://wandb.ai\" target=\"_blank\">Weights & Biases</a> <a href=\"https://docs.wandb.com/integrations/jupyter.html\" target=\"_blank\">(Documentation)</a>.<br/>\n",
       "                Project page: <a href=\"https://wandb.ai/notarchana/CS6910-A1\" target=\"_blank\">https://wandb.ai/notarchana/CS6910-A1</a><br/>\n",
       "                Sweep page: <a href=\"https://wandb.ai/notarchana/CS6910-A1/sweeps/wnukyq05\" target=\"_blank\">https://wandb.ai/notarchana/CS6910-A1/sweeps/wnukyq05</a><br/>\n",
       "Run page: <a href=\"https://wandb.ai/notarchana/CS6910-A1/runs/dvy00h9v\" target=\"_blank\">https://wandb.ai/notarchana/CS6910-A1/runs/dvy00h9v</a><br/>\n",
       "                Run data is saved locally in <code>/home/krishna/iit/sem6/dl/wandb/run-20210312_132153-dvy00h9v</code><br/><br/>\n",
       "            "
      ],
      "text/plain": [
       "<IPython.core.display.HTML object>"
      ]
     },
     "metadata": {},
     "output_type": "display_data"
    },
    {
     "name": "stderr",
     "output_type": "stream",
     "text": [
      "\u001b[34m\u001b[1mwandb\u001b[0m: \u001b[33mWARNING\u001b[0m Calling run.save without any arguments is deprecated.Changes to attributes are automatically persisted.\n"
     ]
    },
    {
     "name": "stdout",
     "output_type": "stream",
     "text": [
      "model building done\n",
      "Epoch 0 done: Loss = 0.01615920445967298\n",
      "Epoch 1 done: Loss = 0.012756410112188154\n",
      "Epoch 2 done: Loss = 0.011408755907753126\n",
      "Epoch 3 done: Loss = 0.010686875078247568\n",
      "Epoch 4 done: Loss = 0.01020996693393535\n",
      "Epoch 5 done: Loss = 0.009841333373203209\n",
      "Epoch 6 done: Loss = 0.009538015539467226\n",
      "Epoch 7 done: Loss = 0.00928323779831137\n",
      "Epoch 8 done: Loss = 0.00906374506069082\n",
      "Epoch 9 done: Loss = 0.008869892806610392\n",
      "model training done\n"
     ]
    },
    {
     "data": {
      "text/html": [
       "<br/>Waiting for W&B process to finish, PID 106608<br/>Program ended successfully."
      ],
      "text/plain": [
       "<IPython.core.display.HTML object>"
      ]
     },
     "metadata": {},
     "output_type": "display_data"
    },
    {
     "data": {
      "application/vnd.jupyter.widget-view+json": {
       "model_id": "",
       "version_major": 2,
       "version_minor": 0
      },
      "text/plain": [
       "VBox(children=(Label(value=' 0.00MB of 0.00MB uploaded (0.00MB deduped)\\r'), FloatProgress(value=1.0, max=1.0)…"
      ]
     },
     "metadata": {},
     "output_type": "display_data"
    },
    {
     "data": {
      "text/html": [
       "Find user logs for this run at: <code>/home/krishna/iit/sem6/dl/wandb/run-20210312_132153-dvy00h9v/logs/debug.log</code>"
      ],
      "text/plain": [
       "<IPython.core.display.HTML object>"
      ]
     },
     "metadata": {},
     "output_type": "display_data"
    },
    {
     "data": {
      "text/html": [
       "Find internal logs for this run at: <code>/home/krishna/iit/sem6/dl/wandb/run-20210312_132153-dvy00h9v/logs/debug-internal.log</code>"
      ],
      "text/plain": [
       "<IPython.core.display.HTML object>"
      ]
     },
     "metadata": {},
     "output_type": "display_data"
    },
    {
     "data": {
      "text/html": [
       "<h3>Run summary:</h3><br/><style>\n",
       "    table.wandb td:nth-child(1) { padding: 0 10px; text-align: right }\n",
       "    </style><table class=\"wandb\">\n",
       "<tr><td>train accuracy</td><td>0.87998</td></tr><tr><td>validation accuracy</td><td>0.87333</td></tr><tr><td>train loss</td><td>0.00887</td></tr><tr><td>val loss</td><td>0.00935</td></tr><tr><td>_runtime</td><td>27</td></tr><tr><td>_timestamp</td><td>1615535540</td></tr><tr><td>_step</td><td>9</td></tr></table>"
      ],
      "text/plain": [
       "<IPython.core.display.HTML object>"
      ]
     },
     "metadata": {},
     "output_type": "display_data"
    },
    {
     "data": {
      "text/html": [
       "<h3>Run history:</h3><br/><style>\n",
       "    table.wandb td:nth-child(1) { padding: 0 10px; text-align: right }\n",
       "    </style><table class=\"wandb\">\n",
       "<tr><td>train accuracy</td><td>▁▅▆▆▇▇▇███</td></tr><tr><td>validation accuracy</td><td>▁▅▆▆▇▇▇▇██</td></tr><tr><td>train loss</td><td>█▅▃▃▂▂▂▁▁▁</td></tr><tr><td>val loss</td><td>█▄▃▂▂▂▁▁▁▁</td></tr><tr><td>_runtime</td><td>▁▂▂▃▄▅▅▆▇█</td></tr><tr><td>_timestamp</td><td>▁▂▂▃▄▅▅▆▇█</td></tr><tr><td>_step</td><td>▁▂▃▃▄▅▆▆▇█</td></tr></table><br/>"
      ],
      "text/plain": [
       "<IPython.core.display.HTML object>"
      ]
     },
     "metadata": {},
     "output_type": "display_data"
    },
    {
     "data": {
      "text/html": [
       "Synced 5 W&B file(s), 0 media file(s), 0 artifact file(s) and 0 other file(s)"
      ],
      "text/plain": [
       "<IPython.core.display.HTML object>"
      ]
     },
     "metadata": {},
     "output_type": "display_data"
    },
    {
     "data": {
      "text/html": [
       "\n",
       "                    <br/>Synced <strong style=\"color:#cdcd00\">hello</strong>: <a href=\"https://wandb.ai/notarchana/CS6910-A1/runs/dvy00h9v\" target=\"_blank\">https://wandb.ai/notarchana/CS6910-A1/runs/dvy00h9v</a><br/>\n",
       "                "
      ],
      "text/plain": [
       "<IPython.core.display.HTML object>"
      ]
     },
     "metadata": {},
     "output_type": "display_data"
    },
    {
     "name": "stderr",
     "output_type": "stream",
     "text": [
      "\u001b[34m\u001b[1mwandb\u001b[0m: Agent Starting Run: q5fia6pz with config:\n",
      "\u001b[34m\u001b[1mwandb\u001b[0m: \tactivation: sigmoid\n",
      "\u001b[34m\u001b[1mwandb\u001b[0m: \tbatch_size: 32\n",
      "\u001b[34m\u001b[1mwandb\u001b[0m: \tepochs: 5\n",
      "\u001b[34m\u001b[1mwandb\u001b[0m: \thidden_layer_size: 32\n",
      "\u001b[34m\u001b[1mwandb\u001b[0m: \thidden_layers: 5\n",
      "\u001b[34m\u001b[1mwandb\u001b[0m: \tlr: 0.0001\n",
      "\u001b[34m\u001b[1mwandb\u001b[0m: \toptimiser: nesterov\n",
      "\u001b[34m\u001b[1mwandb\u001b[0m: \tweight_decay: 0.0005\n",
      "\u001b[34m\u001b[1mwandb\u001b[0m: \tweight_init: xavier\n"
     ]
    },
    {
     "data": {
      "text/html": [
       "\n",
       "                Tracking run with wandb version 0.10.22<br/>\n",
       "                Syncing run <strong style=\"color:#cdcd00\">hello</strong> to <a href=\"https://wandb.ai\" target=\"_blank\">Weights & Biases</a> <a href=\"https://docs.wandb.com/integrations/jupyter.html\" target=\"_blank\">(Documentation)</a>.<br/>\n",
       "                Project page: <a href=\"https://wandb.ai/notarchana/CS6910-A1\" target=\"_blank\">https://wandb.ai/notarchana/CS6910-A1</a><br/>\n",
       "                Sweep page: <a href=\"https://wandb.ai/notarchana/CS6910-A1/sweeps/wnukyq05\" target=\"_blank\">https://wandb.ai/notarchana/CS6910-A1/sweeps/wnukyq05</a><br/>\n",
       "Run page: <a href=\"https://wandb.ai/notarchana/CS6910-A1/runs/q5fia6pz\" target=\"_blank\">https://wandb.ai/notarchana/CS6910-A1/runs/q5fia6pz</a><br/>\n",
       "                Run data is saved locally in <code>/home/krishna/iit/sem6/dl/wandb/run-20210312_132230-q5fia6pz</code><br/><br/>\n",
       "            "
      ],
      "text/plain": [
       "<IPython.core.display.HTML object>"
      ]
     },
     "metadata": {},
     "output_type": "display_data"
    },
    {
     "name": "stderr",
     "output_type": "stream",
     "text": [
      "\u001b[34m\u001b[1mwandb\u001b[0m: \u001b[33mWARNING\u001b[0m Calling run.save without any arguments is deprecated.Changes to attributes are automatically persisted.\n"
     ]
    },
    {
     "name": "stdout",
     "output_type": "stream",
     "text": [
      "model building done\n",
      "Epoch 0 done: Loss = 0.04535204509164349\n",
      "Epoch 1 done: Loss = 0.04519043011313268\n",
      "Epoch 2 done: Loss = 0.04510933582313857\n",
      "Epoch 3 done: Loss = 0.04506395292042704\n",
      "Epoch 4 done: Loss = 0.04503747532888905\n",
      "model training done\n"
     ]
    },
    {
     "data": {
      "text/html": [
       "<br/>Waiting for W&B process to finish, PID 106668<br/>Program ended successfully."
      ],
      "text/plain": [
       "<IPython.core.display.HTML object>"
      ]
     },
     "metadata": {},
     "output_type": "display_data"
    },
    {
     "data": {
      "application/vnd.jupyter.widget-view+json": {
       "model_id": "",
       "version_major": 2,
       "version_minor": 0
      },
      "text/plain": [
       "VBox(children=(Label(value=' 0.00MB of 0.00MB uploaded (0.00MB deduped)\\r'), FloatProgress(value=1.0, max=1.0)…"
      ]
     },
     "metadata": {},
     "output_type": "display_data"
    },
    {
     "data": {
      "text/html": [
       "Find user logs for this run at: <code>/home/krishna/iit/sem6/dl/wandb/run-20210312_132230-q5fia6pz/logs/debug.log</code>"
      ],
      "text/plain": [
       "<IPython.core.display.HTML object>"
      ]
     },
     "metadata": {},
     "output_type": "display_data"
    },
    {
     "data": {
      "text/html": [
       "Find internal logs for this run at: <code>/home/krishna/iit/sem6/dl/wandb/run-20210312_132230-q5fia6pz/logs/debug-internal.log</code>"
      ],
      "text/plain": [
       "<IPython.core.display.HTML object>"
      ]
     },
     "metadata": {},
     "output_type": "display_data"
    },
    {
     "data": {
      "text/html": [
       "<h3>Run summary:</h3><br/><style>\n",
       "    table.wandb td:nth-child(1) { padding: 0 10px; text-align: right }\n",
       "    </style><table class=\"wandb\">\n",
       "<tr><td>train accuracy</td><td>0.10002</td></tr><tr><td>validation accuracy</td><td>0.09983</td></tr><tr><td>train loss</td><td>0.04504</td></tr><tr><td>val loss</td><td>0.04503</td></tr><tr><td>_runtime</td><td>17</td></tr><tr><td>_timestamp</td><td>1615535567</td></tr><tr><td>_step</td><td>4</td></tr></table>"
      ],
      "text/plain": [
       "<IPython.core.display.HTML object>"
      ]
     },
     "metadata": {},
     "output_type": "display_data"
    },
    {
     "data": {
      "text/html": [
       "<h3>Run history:</h3><br/><style>\n",
       "    table.wandb td:nth-child(1) { padding: 0 10px; text-align: right }\n",
       "    </style><table class=\"wandb\">\n",
       "<tr><td>train accuracy</td><td>▁▁▁▁▁</td></tr><tr><td>validation accuracy</td><td>▁▁▁▁▁</td></tr><tr><td>train loss</td><td>█▄▃▂▁</td></tr><tr><td>val loss</td><td>█▄▃▂▁</td></tr><tr><td>_runtime</td><td>▁▃▄▆█</td></tr><tr><td>_timestamp</td><td>▁▃▄▆█</td></tr><tr><td>_step</td><td>▁▃▅▆█</td></tr></table><br/>"
      ],
      "text/plain": [
       "<IPython.core.display.HTML object>"
      ]
     },
     "metadata": {},
     "output_type": "display_data"
    },
    {
     "data": {
      "text/html": [
       "Synced 5 W&B file(s), 0 media file(s), 0 artifact file(s) and 0 other file(s)"
      ],
      "text/plain": [
       "<IPython.core.display.HTML object>"
      ]
     },
     "metadata": {},
     "output_type": "display_data"
    },
    {
     "data": {
      "text/html": [
       "\n",
       "                    <br/>Synced <strong style=\"color:#cdcd00\">hello</strong>: <a href=\"https://wandb.ai/notarchana/CS6910-A1/runs/q5fia6pz\" target=\"_blank\">https://wandb.ai/notarchana/CS6910-A1/runs/q5fia6pz</a><br/>\n",
       "                "
      ],
      "text/plain": [
       "<IPython.core.display.HTML object>"
      ]
     },
     "metadata": {},
     "output_type": "display_data"
    },
    {
     "name": "stderr",
     "output_type": "stream",
     "text": [
      "\u001b[34m\u001b[1mwandb\u001b[0m: Agent Starting Run: hk6mvyny with config:\n",
      "\u001b[34m\u001b[1mwandb\u001b[0m: \tactivation: tanh\n",
      "\u001b[34m\u001b[1mwandb\u001b[0m: \tbatch_size: 64\n",
      "\u001b[34m\u001b[1mwandb\u001b[0m: \tepochs: 5\n",
      "\u001b[34m\u001b[1mwandb\u001b[0m: \thidden_layer_size: 64\n",
      "\u001b[34m\u001b[1mwandb\u001b[0m: \thidden_layers: 5\n",
      "\u001b[34m\u001b[1mwandb\u001b[0m: \tlr: 0.0001\n",
      "\u001b[34m\u001b[1mwandb\u001b[0m: \toptimiser: adam\n",
      "\u001b[34m\u001b[1mwandb\u001b[0m: \tweight_decay: 0\n",
      "\u001b[34m\u001b[1mwandb\u001b[0m: \tweight_init: xavier\n"
     ]
    },
    {
     "data": {
      "text/html": [
       "\n",
       "                Tracking run with wandb version 0.10.22<br/>\n",
       "                Syncing run <strong style=\"color:#cdcd00\">hello</strong> to <a href=\"https://wandb.ai\" target=\"_blank\">Weights & Biases</a> <a href=\"https://docs.wandb.com/integrations/jupyter.html\" target=\"_blank\">(Documentation)</a>.<br/>\n",
       "                Project page: <a href=\"https://wandb.ai/notarchana/CS6910-A1\" target=\"_blank\">https://wandb.ai/notarchana/CS6910-A1</a><br/>\n",
       "                Sweep page: <a href=\"https://wandb.ai/notarchana/CS6910-A1/sweeps/wnukyq05\" target=\"_blank\">https://wandb.ai/notarchana/CS6910-A1/sweeps/wnukyq05</a><br/>\n",
       "Run page: <a href=\"https://wandb.ai/notarchana/CS6910-A1/runs/hk6mvyny\" target=\"_blank\">https://wandb.ai/notarchana/CS6910-A1/runs/hk6mvyny</a><br/>\n",
       "                Run data is saved locally in <code>/home/krishna/iit/sem6/dl/wandb/run-20210312_132253-hk6mvyny</code><br/><br/>\n",
       "            "
      ],
      "text/plain": [
       "<IPython.core.display.HTML object>"
      ]
     },
     "metadata": {},
     "output_type": "display_data"
    },
    {
     "name": "stderr",
     "output_type": "stream",
     "text": [
      "\u001b[34m\u001b[1mwandb\u001b[0m: \u001b[33mWARNING\u001b[0m Calling run.save without any arguments is deprecated.Changes to attributes are automatically persisted.\n"
     ]
    },
    {
     "name": "stdout",
     "output_type": "stream",
     "text": [
      "model building done\n",
      "Epoch 0 done: Loss = 0.014321368472961725\n",
      "Epoch 1 done: Loss = 0.012938172490969771\n",
      "Epoch 2 done: Loss = 0.012310432662009601\n",
      "Epoch 3 done: Loss = 0.01190503945585605\n",
      "Epoch 4 done: Loss = 0.011603893021449995\n",
      "model training done\n"
     ]
    },
    {
     "data": {
      "text/html": [
       "<br/>Waiting for W&B process to finish, PID 106718<br/>Program ended successfully."
      ],
      "text/plain": [
       "<IPython.core.display.HTML object>"
      ]
     },
     "metadata": {},
     "output_type": "display_data"
    },
    {
     "data": {
      "application/vnd.jupyter.widget-view+json": {
       "model_id": "",
       "version_major": 2,
       "version_minor": 0
      },
      "text/plain": [
       "VBox(children=(Label(value=' 0.00MB of 0.00MB uploaded (0.00MB deduped)\\r'), FloatProgress(value=1.0, max=1.0)…"
      ]
     },
     "metadata": {},
     "output_type": "display_data"
    },
    {
     "data": {
      "text/html": [
       "Find user logs for this run at: <code>/home/krishna/iit/sem6/dl/wandb/run-20210312_132253-hk6mvyny/logs/debug.log</code>"
      ],
      "text/plain": [
       "<IPython.core.display.HTML object>"
      ]
     },
     "metadata": {},
     "output_type": "display_data"
    },
    {
     "data": {
      "text/html": [
       "Find internal logs for this run at: <code>/home/krishna/iit/sem6/dl/wandb/run-20210312_132253-hk6mvyny/logs/debug-internal.log</code>"
      ],
      "text/plain": [
       "<IPython.core.display.HTML object>"
      ]
     },
     "metadata": {},
     "output_type": "display_data"
    },
    {
     "data": {
      "text/html": [
       "<h3>Run summary:</h3><br/><style>\n",
       "    table.wandb td:nth-child(1) { padding: 0 10px; text-align: right }\n",
       "    </style><table class=\"wandb\">\n",
       "<tr><td>train accuracy</td><td>0.84104</td></tr><tr><td>validation accuracy</td><td>0.833</td></tr><tr><td>train loss</td><td>0.0116</td></tr><tr><td>val loss</td><td>0.01198</td></tr><tr><td>_runtime</td><td>27</td></tr><tr><td>_timestamp</td><td>1615535601</td></tr><tr><td>_step</td><td>4</td></tr></table>"
      ],
      "text/plain": [
       "<IPython.core.display.HTML object>"
      ]
     },
     "metadata": {},
     "output_type": "display_data"
    },
    {
     "data": {
      "text/html": [
       "<h3>Run history:</h3><br/><style>\n",
       "    table.wandb td:nth-child(1) { padding: 0 10px; text-align: right }\n",
       "    </style><table class=\"wandb\">\n",
       "<tr><td>train accuracy</td><td>▁▄▆▇█</td></tr><tr><td>validation accuracy</td><td>▁▄▆▇█</td></tr><tr><td>train loss</td><td>█▄▃▂▁</td></tr><tr><td>val loss</td><td>█▄▃▂▁</td></tr><tr><td>_runtime</td><td>▁▃▅▆█</td></tr><tr><td>_timestamp</td><td>▁▃▅▆█</td></tr><tr><td>_step</td><td>▁▃▅▆█</td></tr></table><br/>"
      ],
      "text/plain": [
       "<IPython.core.display.HTML object>"
      ]
     },
     "metadata": {},
     "output_type": "display_data"
    },
    {
     "data": {
      "text/html": [
       "Synced 5 W&B file(s), 0 media file(s), 0 artifact file(s) and 0 other file(s)"
      ],
      "text/plain": [
       "<IPython.core.display.HTML object>"
      ]
     },
     "metadata": {},
     "output_type": "display_data"
    },
    {
     "data": {
      "text/html": [
       "\n",
       "                    <br/>Synced <strong style=\"color:#cdcd00\">hello</strong>: <a href=\"https://wandb.ai/notarchana/CS6910-A1/runs/hk6mvyny\" target=\"_blank\">https://wandb.ai/notarchana/CS6910-A1/runs/hk6mvyny</a><br/>\n",
       "                "
      ],
      "text/plain": [
       "<IPython.core.display.HTML object>"
      ]
     },
     "metadata": {},
     "output_type": "display_data"
    },
    {
     "name": "stderr",
     "output_type": "stream",
     "text": [
      "\u001b[34m\u001b[1mwandb\u001b[0m: Agent Starting Run: rorjabmw with config:\n",
      "\u001b[34m\u001b[1mwandb\u001b[0m: \tactivation: relu\n",
      "\u001b[34m\u001b[1mwandb\u001b[0m: \tbatch_size: 16\n",
      "\u001b[34m\u001b[1mwandb\u001b[0m: \tepochs: 10\n",
      "\u001b[34m\u001b[1mwandb\u001b[0m: \thidden_layer_size: 32\n",
      "\u001b[34m\u001b[1mwandb\u001b[0m: \thidden_layers: 3\n",
      "\u001b[34m\u001b[1mwandb\u001b[0m: \tlr: 0.0001\n",
      "\u001b[34m\u001b[1mwandb\u001b[0m: \toptimiser: momentum\n",
      "\u001b[34m\u001b[1mwandb\u001b[0m: \tweight_decay: 0.0005\n",
      "\u001b[34m\u001b[1mwandb\u001b[0m: \tweight_init: xavier\n"
     ]
    },
    {
     "data": {
      "text/html": [
       "\n",
       "                Tracking run with wandb version 0.10.22<br/>\n",
       "                Syncing run <strong style=\"color:#cdcd00\">hello</strong> to <a href=\"https://wandb.ai\" target=\"_blank\">Weights & Biases</a> <a href=\"https://docs.wandb.com/integrations/jupyter.html\" target=\"_blank\">(Documentation)</a>.<br/>\n",
       "                Project page: <a href=\"https://wandb.ai/notarchana/CS6910-A1\" target=\"_blank\">https://wandb.ai/notarchana/CS6910-A1</a><br/>\n",
       "                Sweep page: <a href=\"https://wandb.ai/notarchana/CS6910-A1/sweeps/wnukyq05\" target=\"_blank\">https://wandb.ai/notarchana/CS6910-A1/sweeps/wnukyq05</a><br/>\n",
       "Run page: <a href=\"https://wandb.ai/notarchana/CS6910-A1/runs/rorjabmw\" target=\"_blank\">https://wandb.ai/notarchana/CS6910-A1/runs/rorjabmw</a><br/>\n",
       "                Run data is saved locally in <code>/home/krishna/iit/sem6/dl/wandb/run-20210312_132328-rorjabmw</code><br/><br/>\n",
       "            "
      ],
      "text/plain": [
       "<IPython.core.display.HTML object>"
      ]
     },
     "metadata": {},
     "output_type": "display_data"
    },
    {
     "name": "stderr",
     "output_type": "stream",
     "text": [
      "\u001b[34m\u001b[1mwandb\u001b[0m: \u001b[33mWARNING\u001b[0m Calling run.save without any arguments is deprecated.Changes to attributes are automatically persisted.\n"
     ]
    },
    {
     "name": "stdout",
     "output_type": "stream",
     "text": [
      "model building done\n",
      "Epoch 0 done: Loss = 0.015756481235699296\n",
      "Epoch 1 done: Loss = 0.013359761481310505\n",
      "Epoch 2 done: Loss = 0.012130510649948335\n",
      "Epoch 3 done: Loss = 0.01124241096234046\n",
      "Epoch 4 done: Loss = 0.010663765860467692\n",
      "Epoch 5 done: Loss = 0.010255786741629268\n",
      "Epoch 6 done: Loss = 0.009960220689185367\n",
      "Epoch 7 done: Loss = 0.009694635064750561\n",
      "Epoch 8 done: Loss = 0.009491420559354065\n",
      "Epoch 9 done: Loss = 0.009298235259225691\n",
      "model training done\n"
     ]
    },
    {
     "data": {
      "text/html": [
       "<br/>Waiting for W&B process to finish, PID 106768<br/>Program ended successfully."
      ],
      "text/plain": [
       "<IPython.core.display.HTML object>"
      ]
     },
     "metadata": {},
     "output_type": "display_data"
    },
    {
     "data": {
      "application/vnd.jupyter.widget-view+json": {
       "model_id": "",
       "version_major": 2,
       "version_minor": 0
      },
      "text/plain": [
       "VBox(children=(Label(value=' 0.00MB of 0.00MB uploaded (0.00MB deduped)\\r'), FloatProgress(value=1.0, max=1.0)…"
      ]
     },
     "metadata": {},
     "output_type": "display_data"
    },
    {
     "data": {
      "text/html": [
       "Find user logs for this run at: <code>/home/krishna/iit/sem6/dl/wandb/run-20210312_132328-rorjabmw/logs/debug.log</code>"
      ],
      "text/plain": [
       "<IPython.core.display.HTML object>"
      ]
     },
     "metadata": {},
     "output_type": "display_data"
    },
    {
     "data": {
      "text/html": [
       "Find internal logs for this run at: <code>/home/krishna/iit/sem6/dl/wandb/run-20210312_132328-rorjabmw/logs/debug-internal.log</code>"
      ],
      "text/plain": [
       "<IPython.core.display.HTML object>"
      ]
     },
     "metadata": {},
     "output_type": "display_data"
    },
    {
     "data": {
      "text/html": [
       "<h3>Run summary:</h3><br/><style>\n",
       "    table.wandb td:nth-child(1) { padding: 0 10px; text-align: right }\n",
       "    </style><table class=\"wandb\">\n",
       "<tr><td>train accuracy</td><td>0.87426</td></tr><tr><td>validation accuracy</td><td>0.86317</td></tr><tr><td>train loss</td><td>0.0093</td></tr><tr><td>val loss</td><td>0.00982</td></tr><tr><td>_runtime</td><td>22</td></tr><tr><td>_timestamp</td><td>1615535630</td></tr><tr><td>_step</td><td>9</td></tr></table>"
      ],
      "text/plain": [
       "<IPython.core.display.HTML object>"
      ]
     },
     "metadata": {},
     "output_type": "display_data"
    },
    {
     "data": {
      "text/html": [
       "<h3>Run history:</h3><br/><style>\n",
       "    table.wandb td:nth-child(1) { padding: 0 10px; text-align: right }\n",
       "    </style><table class=\"wandb\">\n",
       "<tr><td>train accuracy</td><td>▁▄▅▆▇▇▇███</td></tr><tr><td>validation accuracy</td><td>▁▄▆▆▇▇▇███</td></tr><tr><td>train loss</td><td>█▅▄▃▂▂▂▁▁▁</td></tr><tr><td>val loss</td><td>█▅▄▃▂▂▂▁▁▁</td></tr><tr><td>_runtime</td><td>▁▂▃▃▄▅▆▆▇█</td></tr><tr><td>_timestamp</td><td>▁▂▃▃▄▅▆▆▇█</td></tr><tr><td>_step</td><td>▁▂▃▃▄▅▆▆▇█</td></tr></table><br/>"
      ],
      "text/plain": [
       "<IPython.core.display.HTML object>"
      ]
     },
     "metadata": {},
     "output_type": "display_data"
    },
    {
     "data": {
      "text/html": [
       "Synced 5 W&B file(s), 0 media file(s), 0 artifact file(s) and 0 other file(s)"
      ],
      "text/plain": [
       "<IPython.core.display.HTML object>"
      ]
     },
     "metadata": {},
     "output_type": "display_data"
    },
    {
     "data": {
      "text/html": [
       "\n",
       "                    <br/>Synced <strong style=\"color:#cdcd00\">hello</strong>: <a href=\"https://wandb.ai/notarchana/CS6910-A1/runs/rorjabmw\" target=\"_blank\">https://wandb.ai/notarchana/CS6910-A1/runs/rorjabmw</a><br/>\n",
       "                "
      ],
      "text/plain": [
       "<IPython.core.display.HTML object>"
      ]
     },
     "metadata": {},
     "output_type": "display_data"
    },
    {
     "name": "stderr",
     "output_type": "stream",
     "text": [
      "\u001b[34m\u001b[1mwandb\u001b[0m: Agent Starting Run: xlv1ut2p with config:\n",
      "\u001b[34m\u001b[1mwandb\u001b[0m: \tactivation: sigmoid\n",
      "\u001b[34m\u001b[1mwandb\u001b[0m: \tbatch_size: 64\n",
      "\u001b[34m\u001b[1mwandb\u001b[0m: \tepochs: 10\n",
      "\u001b[34m\u001b[1mwandb\u001b[0m: \thidden_layer_size: 128\n",
      "\u001b[34m\u001b[1mwandb\u001b[0m: \thidden_layers: 4\n",
      "\u001b[34m\u001b[1mwandb\u001b[0m: \tlr: 0.001\n",
      "\u001b[34m\u001b[1mwandb\u001b[0m: \toptimiser: rmsprop\n",
      "\u001b[34m\u001b[1mwandb\u001b[0m: \tweight_decay: 0.5\n",
      "\u001b[34m\u001b[1mwandb\u001b[0m: \tweight_init: xavier\n"
     ]
    },
    {
     "data": {
      "text/html": [
       "\n",
       "                Tracking run with wandb version 0.10.22<br/>\n",
       "                Syncing run <strong style=\"color:#cdcd00\">hello</strong> to <a href=\"https://wandb.ai\" target=\"_blank\">Weights & Biases</a> <a href=\"https://docs.wandb.com/integrations/jupyter.html\" target=\"_blank\">(Documentation)</a>.<br/>\n",
       "                Project page: <a href=\"https://wandb.ai/notarchana/CS6910-A1\" target=\"_blank\">https://wandb.ai/notarchana/CS6910-A1</a><br/>\n",
       "                Sweep page: <a href=\"https://wandb.ai/notarchana/CS6910-A1/sweeps/wnukyq05\" target=\"_blank\">https://wandb.ai/notarchana/CS6910-A1/sweeps/wnukyq05</a><br/>\n",
       "Run page: <a href=\"https://wandb.ai/notarchana/CS6910-A1/runs/xlv1ut2p\" target=\"_blank\">https://wandb.ai/notarchana/CS6910-A1/runs/xlv1ut2p</a><br/>\n",
       "                Run data is saved locally in <code>/home/krishna/iit/sem6/dl/wandb/run-20210312_132357-xlv1ut2p</code><br/><br/>\n",
       "            "
      ],
      "text/plain": [
       "<IPython.core.display.HTML object>"
      ]
     },
     "metadata": {},
     "output_type": "display_data"
    },
    {
     "name": "stderr",
     "output_type": "stream",
     "text": [
      "\u001b[34m\u001b[1mwandb\u001b[0m: \u001b[33mWARNING\u001b[0m Calling run.save without any arguments is deprecated.Changes to attributes are automatically persisted.\n"
     ]
    },
    {
     "name": "stdout",
     "output_type": "stream",
     "text": [
      "model building done\n",
      "Epoch 0 done: Loss = 0.0198981562401778\n",
      "Epoch 1 done: Loss = 0.015094993604304956\n",
      "Epoch 2 done: Loss = 0.01176877738750022\n",
      "Epoch 3 done: Loss = 0.010453279649838292\n",
      "Epoch 4 done: Loss = 0.009928695318391158\n",
      "Epoch 5 done: Loss = 0.0094791790808756\n",
      "Epoch 6 done: Loss = 0.00893864487436556\n",
      "Epoch 7 done: Loss = 0.00858628561885714\n",
      "Epoch 8 done: Loss = 0.00829953754208855\n",
      "Epoch 9 done: Loss = 0.008150205482315428\n",
      "model training done\n"
     ]
    },
    {
     "data": {
      "text/html": [
       "<br/>Waiting for W&B process to finish, PID 106822<br/>Program ended successfully."
      ],
      "text/plain": [
       "<IPython.core.display.HTML object>"
      ]
     },
     "metadata": {},
     "output_type": "display_data"
    },
    {
     "data": {
      "application/vnd.jupyter.widget-view+json": {
       "model_id": "",
       "version_major": 2,
       "version_minor": 0
      },
      "text/plain": [
       "VBox(children=(Label(value=' 0.00MB of 0.00MB uploaded (0.00MB deduped)\\r'), FloatProgress(value=1.0, max=1.0)…"
      ]
     },
     "metadata": {},
     "output_type": "display_data"
    },
    {
     "data": {
      "text/html": [
       "Find user logs for this run at: <code>/home/krishna/iit/sem6/dl/wandb/run-20210312_132357-xlv1ut2p/logs/debug.log</code>"
      ],
      "text/plain": [
       "<IPython.core.display.HTML object>"
      ]
     },
     "metadata": {},
     "output_type": "display_data"
    },
    {
     "data": {
      "text/html": [
       "Find internal logs for this run at: <code>/home/krishna/iit/sem6/dl/wandb/run-20210312_132357-xlv1ut2p/logs/debug-internal.log</code>"
      ],
      "text/plain": [
       "<IPython.core.display.HTML object>"
      ]
     },
     "metadata": {},
     "output_type": "display_data"
    },
    {
     "data": {
      "text/html": [
       "<h3>Run summary:</h3><br/><style>\n",
       "    table.wandb td:nth-child(1) { padding: 0 10px; text-align: right }\n",
       "    </style><table class=\"wandb\">\n",
       "<tr><td>train accuracy</td><td>0.88841</td></tr><tr><td>validation accuracy</td><td>0.86983</td></tr><tr><td>train loss</td><td>0.00815</td></tr><tr><td>val loss</td><td>0.00952</td></tr><tr><td>_runtime</td><td>62</td></tr><tr><td>_timestamp</td><td>1615535699</td></tr><tr><td>_step</td><td>9</td></tr></table>"
      ],
      "text/plain": [
       "<IPython.core.display.HTML object>"
      ]
     },
     "metadata": {},
     "output_type": "display_data"
    },
    {
     "data": {
      "text/html": [
       "<h3>Run history:</h3><br/><style>\n",
       "    table.wandb td:nth-child(1) { padding: 0 10px; text-align: right }\n",
       "    </style><table class=\"wandb\">\n",
       "<tr><td>train accuracy</td><td>▁▃▆▇▇▇████</td></tr><tr><td>validation accuracy</td><td>▁▃▆▇▇▇████</td></tr><tr><td>train loss</td><td>█▅▃▂▂▂▁▁▁▁</td></tr><tr><td>val loss</td><td>█▅▃▂▂▂▁▁▁▁</td></tr><tr><td>_runtime</td><td>▁▂▂▃▄▅▆▆▇█</td></tr><tr><td>_timestamp</td><td>▁▂▂▃▄▅▆▆▇█</td></tr><tr><td>_step</td><td>▁▂▃▃▄▅▆▆▇█</td></tr></table><br/>"
      ],
      "text/plain": [
       "<IPython.core.display.HTML object>"
      ]
     },
     "metadata": {},
     "output_type": "display_data"
    },
    {
     "data": {
      "text/html": [
       "Synced 5 W&B file(s), 0 media file(s), 0 artifact file(s) and 0 other file(s)"
      ],
      "text/plain": [
       "<IPython.core.display.HTML object>"
      ]
     },
     "metadata": {},
     "output_type": "display_data"
    },
    {
     "data": {
      "text/html": [
       "\n",
       "                    <br/>Synced <strong style=\"color:#cdcd00\">hello</strong>: <a href=\"https://wandb.ai/notarchana/CS6910-A1/runs/xlv1ut2p\" target=\"_blank\">https://wandb.ai/notarchana/CS6910-A1/runs/xlv1ut2p</a><br/>\n",
       "                "
      ],
      "text/plain": [
       "<IPython.core.display.HTML object>"
      ]
     },
     "metadata": {},
     "output_type": "display_data"
    },
    {
     "name": "stderr",
     "output_type": "stream",
     "text": [
      "\u001b[34m\u001b[1mwandb\u001b[0m: Sweep Agent: Waiting for job.\n",
      "\u001b[34m\u001b[1mwandb\u001b[0m: Job received.\n",
      "\u001b[34m\u001b[1mwandb\u001b[0m: Agent Starting Run: rtqbkp41 with config:\n",
      "\u001b[34m\u001b[1mwandb\u001b[0m: \tactivation: sigmoid\n",
      "\u001b[34m\u001b[1mwandb\u001b[0m: \tbatch_size: 32\n",
      "\u001b[34m\u001b[1mwandb\u001b[0m: \tepochs: 5\n",
      "\u001b[34m\u001b[1mwandb\u001b[0m: \thidden_layer_size: 128\n",
      "\u001b[34m\u001b[1mwandb\u001b[0m: \thidden_layers: 5\n",
      "\u001b[34m\u001b[1mwandb\u001b[0m: \tlr: 0.0001\n",
      "\u001b[34m\u001b[1mwandb\u001b[0m: \toptimiser: adam\n",
      "\u001b[34m\u001b[1mwandb\u001b[0m: \tweight_decay: 0\n",
      "\u001b[34m\u001b[1mwandb\u001b[0m: \tweight_init: xavier\n"
     ]
    },
    {
     "data": {
      "text/html": [
       "\n",
       "                Tracking run with wandb version 0.10.22<br/>\n",
       "                Syncing run <strong style=\"color:#cdcd00\">hello</strong> to <a href=\"https://wandb.ai\" target=\"_blank\">Weights & Biases</a> <a href=\"https://docs.wandb.com/integrations/jupyter.html\" target=\"_blank\">(Documentation)</a>.<br/>\n",
       "                Project page: <a href=\"https://wandb.ai/notarchana/CS6910-A1\" target=\"_blank\">https://wandb.ai/notarchana/CS6910-A1</a><br/>\n",
       "                Sweep page: <a href=\"https://wandb.ai/notarchana/CS6910-A1/sweeps/wnukyq05\" target=\"_blank\">https://wandb.ai/notarchana/CS6910-A1/sweeps/wnukyq05</a><br/>\n",
       "Run page: <a href=\"https://wandb.ai/notarchana/CS6910-A1/runs/rtqbkp41\" target=\"_blank\">https://wandb.ai/notarchana/CS6910-A1/runs/rtqbkp41</a><br/>\n",
       "                Run data is saved locally in <code>/home/krishna/iit/sem6/dl/wandb/run-20210312_132518-rtqbkp41</code><br/><br/>\n",
       "            "
      ],
      "text/plain": [
       "<IPython.core.display.HTML object>"
      ]
     },
     "metadata": {},
     "output_type": "display_data"
    },
    {
     "name": "stderr",
     "output_type": "stream",
     "text": [
      "\u001b[34m\u001b[1mwandb\u001b[0m: \u001b[33mWARNING\u001b[0m Calling run.save without any arguments is deprecated.Changes to attributes are automatically persisted.\n"
     ]
    },
    {
     "name": "stdout",
     "output_type": "stream",
     "text": [
      "model building done\n",
      "Epoch 0 done: Loss = 0.04244983911162929\n",
      "Epoch 1 done: Loss = 0.039956627585599716\n",
      "Epoch 2 done: Loss = 0.037421967709682556\n",
      "Epoch 3 done: Loss = 0.03540690479440415\n",
      "Epoch 4 done: Loss = 0.033349306679827516\n",
      "model training done\n"
     ]
    },
    {
     "data": {
      "text/html": [
       "<br/>Waiting for W&B process to finish, PID 106873<br/>Program ended successfully."
      ],
      "text/plain": [
       "<IPython.core.display.HTML object>"
      ]
     },
     "metadata": {},
     "output_type": "display_data"
    },
    {
     "data": {
      "application/vnd.jupyter.widget-view+json": {
       "model_id": "",
       "version_major": 2,
       "version_minor": 0
      },
      "text/plain": [
       "VBox(children=(Label(value=' 0.00MB of 0.00MB uploaded (0.00MB deduped)\\r'), FloatProgress(value=1.0, max=1.0)…"
      ]
     },
     "metadata": {},
     "output_type": "display_data"
    },
    {
     "data": {
      "text/html": [
       "Find user logs for this run at: <code>/home/krishna/iit/sem6/dl/wandb/run-20210312_132518-rtqbkp41/logs/debug.log</code>"
      ],
      "text/plain": [
       "<IPython.core.display.HTML object>"
      ]
     },
     "metadata": {},
     "output_type": "display_data"
    },
    {
     "data": {
      "text/html": [
       "Find internal logs for this run at: <code>/home/krishna/iit/sem6/dl/wandb/run-20210312_132518-rtqbkp41/logs/debug-internal.log</code>"
      ],
      "text/plain": [
       "<IPython.core.display.HTML object>"
      ]
     },
     "metadata": {},
     "output_type": "display_data"
    },
    {
     "data": {
      "text/html": [
       "<h3>Run summary:</h3><br/><style>\n",
       "    table.wandb td:nth-child(1) { padding: 0 10px; text-align: right }\n",
       "    </style><table class=\"wandb\">\n",
       "<tr><td>train accuracy</td><td>0.43433</td></tr><tr><td>validation accuracy</td><td>0.42733</td></tr><tr><td>train loss</td><td>0.03335</td></tr><tr><td>val loss</td><td>0.03352</td></tr><tr><td>_runtime</td><td>56</td></tr><tr><td>_timestamp</td><td>1615535775</td></tr><tr><td>_step</td><td>4</td></tr></table>"
      ],
      "text/plain": [
       "<IPython.core.display.HTML object>"
      ]
     },
     "metadata": {},
     "output_type": "display_data"
    },
    {
     "data": {
      "text/html": [
       "<h3>Run history:</h3><br/><style>\n",
       "    table.wandb td:nth-child(1) { padding: 0 10px; text-align: right }\n",
       "    </style><table class=\"wandb\">\n",
       "<tr><td>train accuracy</td><td>▁▄▅▇█</td></tr><tr><td>validation accuracy</td><td>▁▄▅▇█</td></tr><tr><td>train loss</td><td>█▆▄▃▁</td></tr><tr><td>val loss</td><td>█▆▄▃▁</td></tr><tr><td>_runtime</td><td>▁▃▅▆█</td></tr><tr><td>_timestamp</td><td>▁▃▅▆█</td></tr><tr><td>_step</td><td>▁▃▅▆█</td></tr></table><br/>"
      ],
      "text/plain": [
       "<IPython.core.display.HTML object>"
      ]
     },
     "metadata": {},
     "output_type": "display_data"
    },
    {
     "data": {
      "text/html": [
       "Synced 5 W&B file(s), 0 media file(s), 0 artifact file(s) and 0 other file(s)"
      ],
      "text/plain": [
       "<IPython.core.display.HTML object>"
      ]
     },
     "metadata": {},
     "output_type": "display_data"
    },
    {
     "data": {
      "text/html": [
       "\n",
       "                    <br/>Synced <strong style=\"color:#cdcd00\">hello</strong>: <a href=\"https://wandb.ai/notarchana/CS6910-A1/runs/rtqbkp41\" target=\"_blank\">https://wandb.ai/notarchana/CS6910-A1/runs/rtqbkp41</a><br/>\n",
       "                "
      ],
      "text/plain": [
       "<IPython.core.display.HTML object>"
      ]
     },
     "metadata": {},
     "output_type": "display_data"
    },
    {
     "name": "stderr",
     "output_type": "stream",
     "text": [
      "\u001b[34m\u001b[1mwandb\u001b[0m: Agent Starting Run: in0iwnyl with config:\n",
      "\u001b[34m\u001b[1mwandb\u001b[0m: \tactivation: tanh\n",
      "\u001b[34m\u001b[1mwandb\u001b[0m: \tbatch_size: 32\n",
      "\u001b[34m\u001b[1mwandb\u001b[0m: \tepochs: 10\n",
      "\u001b[34m\u001b[1mwandb\u001b[0m: \thidden_layer_size: 32\n",
      "\u001b[34m\u001b[1mwandb\u001b[0m: \thidden_layers: 4\n",
      "\u001b[34m\u001b[1mwandb\u001b[0m: \tlr: 0.001\n",
      "\u001b[34m\u001b[1mwandb\u001b[0m: \toptimiser: adam\n",
      "\u001b[34m\u001b[1mwandb\u001b[0m: \tweight_decay: 0.5\n",
      "\u001b[34m\u001b[1mwandb\u001b[0m: \tweight_init: xavier\n"
     ]
    },
    {
     "data": {
      "text/html": [
       "\n",
       "                Tracking run with wandb version 0.10.22<br/>\n",
       "                Syncing run <strong style=\"color:#cdcd00\">hello</strong> to <a href=\"https://wandb.ai\" target=\"_blank\">Weights & Biases</a> <a href=\"https://docs.wandb.com/integrations/jupyter.html\" target=\"_blank\">(Documentation)</a>.<br/>\n",
       "                Project page: <a href=\"https://wandb.ai/notarchana/CS6910-A1\" target=\"_blank\">https://wandb.ai/notarchana/CS6910-A1</a><br/>\n",
       "                Sweep page: <a href=\"https://wandb.ai/notarchana/CS6910-A1/sweeps/wnukyq05\" target=\"_blank\">https://wandb.ai/notarchana/CS6910-A1/sweeps/wnukyq05</a><br/>\n",
       "Run page: <a href=\"https://wandb.ai/notarchana/CS6910-A1/runs/in0iwnyl\" target=\"_blank\">https://wandb.ai/notarchana/CS6910-A1/runs/in0iwnyl</a><br/>\n",
       "                Run data is saved locally in <code>/home/krishna/iit/sem6/dl/wandb/run-20210312_132623-in0iwnyl</code><br/><br/>\n",
       "            "
      ],
      "text/plain": [
       "<IPython.core.display.HTML object>"
      ]
     },
     "metadata": {},
     "output_type": "display_data"
    },
    {
     "name": "stderr",
     "output_type": "stream",
     "text": [
      "\u001b[34m\u001b[1mwandb\u001b[0m: \u001b[33mWARNING\u001b[0m Calling run.save without any arguments is deprecated.Changes to attributes are automatically persisted.\n"
     ]
    },
    {
     "name": "stdout",
     "output_type": "stream",
     "text": [
      "model building done\n",
      "Epoch 0 done: Loss = 0.010522126764737226\n",
      "Epoch 1 done: Loss = 0.009616601871189085\n",
      "Epoch 2 done: Loss = 0.00910123033999622\n",
      "Epoch 3 done: Loss = 0.008730790613661379\n",
      "Epoch 4 done: Loss = 0.00845736139368684\n",
      "Epoch 5 done: Loss = 0.008236295138970506\n",
      "Epoch 6 done: Loss = 0.008054459348982152\n",
      "Epoch 7 done: Loss = 0.007906467371317161\n",
      "Epoch 8 done: Loss = 0.007784009987045162\n",
      "Epoch 9 done: Loss = 0.007680696814159152\n",
      "model training done\n"
     ]
    },
    {
     "data": {
      "text/html": [
       "<br/>Waiting for W&B process to finish, PID 106927<br/>Program ended successfully."
      ],
      "text/plain": [
       "<IPython.core.display.HTML object>"
      ]
     },
     "metadata": {},
     "output_type": "display_data"
    },
    {
     "data": {
      "application/vnd.jupyter.widget-view+json": {
       "model_id": "",
       "version_major": 2,
       "version_minor": 0
      },
      "text/plain": [
       "VBox(children=(Label(value=' 0.00MB of 0.00MB uploaded (0.00MB deduped)\\r'), FloatProgress(value=1.0, max=1.0)…"
      ]
     },
     "metadata": {},
     "output_type": "display_data"
    },
    {
     "data": {
      "text/html": [
       "Find user logs for this run at: <code>/home/krishna/iit/sem6/dl/wandb/run-20210312_132623-in0iwnyl/logs/debug.log</code>"
      ],
      "text/plain": [
       "<IPython.core.display.HTML object>"
      ]
     },
     "metadata": {},
     "output_type": "display_data"
    },
    {
     "data": {
      "text/html": [
       "Find internal logs for this run at: <code>/home/krishna/iit/sem6/dl/wandb/run-20210312_132623-in0iwnyl/logs/debug-internal.log</code>"
      ],
      "text/plain": [
       "<IPython.core.display.HTML object>"
      ]
     },
     "metadata": {},
     "output_type": "display_data"
    },
    {
     "data": {
      "text/html": [
       "<h3>Run summary:</h3><br/><style>\n",
       "    table.wandb td:nth-child(1) { padding: 0 10px; text-align: right }\n",
       "    </style><table class=\"wandb\">\n",
       "<tr><td>train accuracy</td><td>0.89622</td></tr><tr><td>validation accuracy</td><td>0.88233</td></tr><tr><td>train loss</td><td>0.00768</td></tr><tr><td>val loss</td><td>0.00852</td></tr><tr><td>_runtime</td><td>37</td></tr><tr><td>_timestamp</td><td>1615535820</td></tr><tr><td>_step</td><td>9</td></tr></table>"
      ],
      "text/plain": [
       "<IPython.core.display.HTML object>"
      ]
     },
     "metadata": {},
     "output_type": "display_data"
    },
    {
     "data": {
      "text/html": [
       "<h3>Run history:</h3><br/><style>\n",
       "    table.wandb td:nth-child(1) { padding: 0 10px; text-align: right }\n",
       "    </style><table class=\"wandb\">\n",
       "<tr><td>train accuracy</td><td>▁▃▄▅▆▇▇▇██</td></tr><tr><td>validation accuracy</td><td>▁▅▆▆▇▇████</td></tr><tr><td>train loss</td><td>█▆▄▄▃▂▂▂▁▁</td></tr><tr><td>val loss</td><td>█▅▄▃▂▂▁▁▁▁</td></tr><tr><td>_runtime</td><td>▁▂▂▃▄▅▆▆▇█</td></tr><tr><td>_timestamp</td><td>▁▂▂▃▄▅▆▆▇█</td></tr><tr><td>_step</td><td>▁▂▃▃▄▅▆▆▇█</td></tr></table><br/>"
      ],
      "text/plain": [
       "<IPython.core.display.HTML object>"
      ]
     },
     "metadata": {},
     "output_type": "display_data"
    },
    {
     "data": {
      "text/html": [
       "Synced 5 W&B file(s), 0 media file(s), 0 artifact file(s) and 0 other file(s)"
      ],
      "text/plain": [
       "<IPython.core.display.HTML object>"
      ]
     },
     "metadata": {},
     "output_type": "display_data"
    },
    {
     "data": {
      "text/html": [
       "\n",
       "                    <br/>Synced <strong style=\"color:#cdcd00\">hello</strong>: <a href=\"https://wandb.ai/notarchana/CS6910-A1/runs/in0iwnyl\" target=\"_blank\">https://wandb.ai/notarchana/CS6910-A1/runs/in0iwnyl</a><br/>\n",
       "                "
      ],
      "text/plain": [
       "<IPython.core.display.HTML object>"
      ]
     },
     "metadata": {},
     "output_type": "display_data"
    },
    {
     "name": "stderr",
     "output_type": "stream",
     "text": [
      "\u001b[34m\u001b[1mwandb\u001b[0m: Agent Starting Run: at7a2mtg with config:\n",
      "\u001b[34m\u001b[1mwandb\u001b[0m: \tactivation: relu\n",
      "\u001b[34m\u001b[1mwandb\u001b[0m: \tbatch_size: 64\n",
      "\u001b[34m\u001b[1mwandb\u001b[0m: \tepochs: 10\n",
      "\u001b[34m\u001b[1mwandb\u001b[0m: \thidden_layer_size: 128\n",
      "\u001b[34m\u001b[1mwandb\u001b[0m: \thidden_layers: 4\n",
      "\u001b[34m\u001b[1mwandb\u001b[0m: \tlr: 0.001\n",
      "\u001b[34m\u001b[1mwandb\u001b[0m: \toptimiser: adam\n",
      "\u001b[34m\u001b[1mwandb\u001b[0m: \tweight_decay: 0.5\n",
      "\u001b[34m\u001b[1mwandb\u001b[0m: \tweight_init: xavier\n"
     ]
    },
    {
     "data": {
      "text/html": [
       "\n",
       "                Tracking run with wandb version 0.10.22<br/>\n",
       "                Syncing run <strong style=\"color:#cdcd00\">hello</strong> to <a href=\"https://wandb.ai\" target=\"_blank\">Weights & Biases</a> <a href=\"https://docs.wandb.com/integrations/jupyter.html\" target=\"_blank\">(Documentation)</a>.<br/>\n",
       "                Project page: <a href=\"https://wandb.ai/notarchana/CS6910-A1\" target=\"_blank\">https://wandb.ai/notarchana/CS6910-A1</a><br/>\n",
       "                Sweep page: <a href=\"https://wandb.ai/notarchana/CS6910-A1/sweeps/wnukyq05\" target=\"_blank\">https://wandb.ai/notarchana/CS6910-A1/sweeps/wnukyq05</a><br/>\n",
       "Run page: <a href=\"https://wandb.ai/notarchana/CS6910-A1/runs/at7a2mtg\" target=\"_blank\">https://wandb.ai/notarchana/CS6910-A1/runs/at7a2mtg</a><br/>\n",
       "                Run data is saved locally in <code>/home/krishna/iit/sem6/dl/wandb/run-20210312_132707-at7a2mtg</code><br/><br/>\n",
       "            "
      ],
      "text/plain": [
       "<IPython.core.display.HTML object>"
      ]
     },
     "metadata": {},
     "output_type": "display_data"
    },
    {
     "name": "stderr",
     "output_type": "stream",
     "text": [
      "\u001b[34m\u001b[1mwandb\u001b[0m: \u001b[33mWARNING\u001b[0m Calling run.save without any arguments is deprecated.Changes to attributes are automatically persisted.\n"
     ]
    },
    {
     "name": "stdout",
     "output_type": "stream",
     "text": [
      "model building done\n",
      "Epoch 0 done: Loss = 0.011016379443155998\n",
      "Epoch 1 done: Loss = 0.010031995003455547\n",
      "Epoch 2 done: Loss = 0.009197004024405599\n",
      "Epoch 3 done: Loss = 0.008578087601393766\n",
      "Epoch 4 done: Loss = 0.008097730749268586\n",
      "Epoch 5 done: Loss = 0.0078409257364743\n",
      "Epoch 6 done: Loss = 0.00754663652658008\n",
      "Epoch 7 done: Loss = 0.007318911931043807\n",
      "Epoch 8 done: Loss = 0.0071196231765688735\n",
      "Epoch 9 done: Loss = 0.007029773208086041\n",
      "model training done\n"
     ]
    },
    {
     "data": {
      "text/html": [
       "<br/>Waiting for W&B process to finish, PID 106979<br/>Program ended successfully."
      ],
      "text/plain": [
       "<IPython.core.display.HTML object>"
      ]
     },
     "metadata": {},
     "output_type": "display_data"
    },
    {
     "data": {
      "application/vnd.jupyter.widget-view+json": {
       "model_id": "",
       "version_major": 2,
       "version_minor": 0
      },
      "text/plain": [
       "VBox(children=(Label(value=' 0.00MB of 0.00MB uploaded (0.00MB deduped)\\r'), FloatProgress(value=1.0, max=1.0)…"
      ]
     },
     "metadata": {},
     "output_type": "display_data"
    },
    {
     "data": {
      "text/html": [
       "Find user logs for this run at: <code>/home/krishna/iit/sem6/dl/wandb/run-20210312_132707-at7a2mtg/logs/debug.log</code>"
      ],
      "text/plain": [
       "<IPython.core.display.HTML object>"
      ]
     },
     "metadata": {},
     "output_type": "display_data"
    },
    {
     "data": {
      "text/html": [
       "Find internal logs for this run at: <code>/home/krishna/iit/sem6/dl/wandb/run-20210312_132707-at7a2mtg/logs/debug-internal.log</code>"
      ],
      "text/plain": [
       "<IPython.core.display.HTML object>"
      ]
     },
     "metadata": {},
     "output_type": "display_data"
    },
    {
     "data": {
      "text/html": [
       "<h3>Run summary:</h3><br/><style>\n",
       "    table.wandb td:nth-child(1) { padding: 0 10px; text-align: right }\n",
       "    </style><table class=\"wandb\">\n",
       "<tr><td>train accuracy</td><td>0.90352</td></tr><tr><td>validation accuracy</td><td>0.88833</td></tr><tr><td>train loss</td><td>0.00703</td></tr><tr><td>val loss</td><td>0.00818</td></tr><tr><td>_runtime</td><td>58</td></tr><tr><td>_timestamp</td><td>1615535885</td></tr><tr><td>_step</td><td>9</td></tr></table>"
      ],
      "text/plain": [
       "<IPython.core.display.HTML object>"
      ]
     },
     "metadata": {},
     "output_type": "display_data"
    },
    {
     "data": {
      "text/html": [
       "<h3>Run history:</h3><br/><style>\n",
       "    table.wandb td:nth-child(1) { padding: 0 10px; text-align: right }\n",
       "    </style><table class=\"wandb\">\n",
       "<tr><td>train accuracy</td><td>▁▃▄▅▆▇▇▇██</td></tr><tr><td>validation accuracy</td><td>▁▃▄▆▆▆▇▇██</td></tr><tr><td>train loss</td><td>█▆▅▄▃▂▂▂▁▁</td></tr><tr><td>val loss</td><td>█▆▄▃▂▂▂▁▁▁</td></tr><tr><td>_runtime</td><td>▁▂▃▃▄▅▅▆▇█</td></tr><tr><td>_timestamp</td><td>▁▂▃▃▄▅▅▆▇█</td></tr><tr><td>_step</td><td>▁▂▃▃▄▅▆▆▇█</td></tr></table><br/>"
      ],
      "text/plain": [
       "<IPython.core.display.HTML object>"
      ]
     },
     "metadata": {},
     "output_type": "display_data"
    },
    {
     "data": {
      "text/html": [
       "Synced 5 W&B file(s), 0 media file(s), 0 artifact file(s) and 0 other file(s)"
      ],
      "text/plain": [
       "<IPython.core.display.HTML object>"
      ]
     },
     "metadata": {},
     "output_type": "display_data"
    },
    {
     "data": {
      "text/html": [
       "\n",
       "                    <br/>Synced <strong style=\"color:#cdcd00\">hello</strong>: <a href=\"https://wandb.ai/notarchana/CS6910-A1/runs/at7a2mtg\" target=\"_blank\">https://wandb.ai/notarchana/CS6910-A1/runs/at7a2mtg</a><br/>\n",
       "                "
      ],
      "text/plain": [
       "<IPython.core.display.HTML object>"
      ]
     },
     "metadata": {},
     "output_type": "display_data"
    },
    {
     "name": "stderr",
     "output_type": "stream",
     "text": [
      "\u001b[34m\u001b[1mwandb\u001b[0m: Agent Starting Run: dnrv3s6u with config:\n",
      "\u001b[34m\u001b[1mwandb\u001b[0m: \tactivation: sigmoid\n",
      "\u001b[34m\u001b[1mwandb\u001b[0m: \tbatch_size: 32\n",
      "\u001b[34m\u001b[1mwandb\u001b[0m: \tepochs: 10\n",
      "\u001b[34m\u001b[1mwandb\u001b[0m: \thidden_layer_size: 64\n",
      "\u001b[34m\u001b[1mwandb\u001b[0m: \thidden_layers: 3\n",
      "\u001b[34m\u001b[1mwandb\u001b[0m: \tlr: 0.001\n",
      "\u001b[34m\u001b[1mwandb\u001b[0m: \toptimiser: nadam\n",
      "\u001b[34m\u001b[1mwandb\u001b[0m: \tweight_decay: 0.0005\n",
      "\u001b[34m\u001b[1mwandb\u001b[0m: \tweight_init: xavier\n"
     ]
    },
    {
     "data": {
      "text/html": [
       "\n",
       "                Tracking run with wandb version 0.10.22<br/>\n",
       "                Syncing run <strong style=\"color:#cdcd00\">hello</strong> to <a href=\"https://wandb.ai\" target=\"_blank\">Weights & Biases</a> <a href=\"https://docs.wandb.com/integrations/jupyter.html\" target=\"_blank\">(Documentation)</a>.<br/>\n",
       "                Project page: <a href=\"https://wandb.ai/notarchana/CS6910-A1\" target=\"_blank\">https://wandb.ai/notarchana/CS6910-A1</a><br/>\n",
       "                Sweep page: <a href=\"https://wandb.ai/notarchana/CS6910-A1/sweeps/wnukyq05\" target=\"_blank\">https://wandb.ai/notarchana/CS6910-A1/sweeps/wnukyq05</a><br/>\n",
       "Run page: <a href=\"https://wandb.ai/notarchana/CS6910-A1/runs/dnrv3s6u\" target=\"_blank\">https://wandb.ai/notarchana/CS6910-A1/runs/dnrv3s6u</a><br/>\n",
       "                Run data is saved locally in <code>/home/krishna/iit/sem6/dl/wandb/run-20210312_132812-dnrv3s6u</code><br/><br/>\n",
       "            "
      ],
      "text/plain": [
       "<IPython.core.display.HTML object>"
      ]
     },
     "metadata": {},
     "output_type": "display_data"
    },
    {
     "name": "stderr",
     "output_type": "stream",
     "text": [
      "\u001b[34m\u001b[1mwandb\u001b[0m: \u001b[33mWARNING\u001b[0m Calling run.save without any arguments is deprecated.Changes to attributes are automatically persisted.\n"
     ]
    },
    {
     "name": "stdout",
     "output_type": "stream",
     "text": [
      "model building done\n",
      "Epoch 0 done: Loss = 0.014792650726547191\n",
      "Epoch 1 done: Loss = 0.012226347866435897\n",
      "Epoch 2 done: Loss = 0.011274163575439325\n",
      "Epoch 3 done: Loss = 0.01071491731281462\n",
      "Epoch 4 done: Loss = 0.010304460315235622\n",
      "Epoch 5 done: Loss = 0.00997958767489169\n",
      "Epoch 6 done: Loss = 0.00971050658512437\n",
      "Epoch 7 done: Loss = 0.009479084598592084\n",
      "Epoch 8 done: Loss = 0.00927553860982165\n",
      "Epoch 9 done: Loss = 0.009093498533499871\n",
      "model training done\n"
     ]
    },
    {
     "data": {
      "text/html": [
       "<br/>Waiting for W&B process to finish, PID 107028<br/>Program ended successfully."
      ],
      "text/plain": [
       "<IPython.core.display.HTML object>"
      ]
     },
     "metadata": {},
     "output_type": "display_data"
    },
    {
     "data": {
      "application/vnd.jupyter.widget-view+json": {
       "model_id": "",
       "version_major": 2,
       "version_minor": 0
      },
      "text/plain": [
       "VBox(children=(Label(value=' 0.00MB of 0.00MB uploaded (0.00MB deduped)\\r'), FloatProgress(value=1.0, max=1.0)…"
      ]
     },
     "metadata": {},
     "output_type": "display_data"
    },
    {
     "data": {
      "text/html": [
       "Find user logs for this run at: <code>/home/krishna/iit/sem6/dl/wandb/run-20210312_132812-dnrv3s6u/logs/debug.log</code>"
      ],
      "text/plain": [
       "<IPython.core.display.HTML object>"
      ]
     },
     "metadata": {},
     "output_type": "display_data"
    },
    {
     "data": {
      "text/html": [
       "Find internal logs for this run at: <code>/home/krishna/iit/sem6/dl/wandb/run-20210312_132812-dnrv3s6u/logs/debug-internal.log</code>"
      ],
      "text/plain": [
       "<IPython.core.display.HTML object>"
      ]
     },
     "metadata": {},
     "output_type": "display_data"
    },
    {
     "data": {
      "text/html": [
       "<h3>Run summary:</h3><br/><style>\n",
       "    table.wandb td:nth-child(1) { padding: 0 10px; text-align: right }\n",
       "    </style><table class=\"wandb\">\n",
       "<tr><td>train accuracy</td><td>0.87676</td></tr><tr><td>validation accuracy</td><td>0.87033</td></tr><tr><td>train loss</td><td>0.00909</td></tr><tr><td>val loss</td><td>0.00937</td></tr><tr><td>_runtime</td><td>54</td></tr><tr><td>_timestamp</td><td>1615535946</td></tr><tr><td>_step</td><td>9</td></tr></table>"
      ],
      "text/plain": [
       "<IPython.core.display.HTML object>"
      ]
     },
     "metadata": {},
     "output_type": "display_data"
    },
    {
     "data": {
      "text/html": [
       "<h3>Run history:</h3><br/><style>\n",
       "    table.wandb td:nth-child(1) { padding: 0 10px; text-align: right }\n",
       "    </style><table class=\"wandb\">\n",
       "<tr><td>train accuracy</td><td>▁▄▆▆▇▇▇███</td></tr><tr><td>validation accuracy</td><td>▁▅▆▇▇▇▇███</td></tr><tr><td>train loss</td><td>█▅▄▃▂▂▂▁▁▁</td></tr><tr><td>val loss</td><td>█▅▃▃▂▂▂▁▁▁</td></tr><tr><td>_runtime</td><td>▁▂▂▃▄▅▆▆▇█</td></tr><tr><td>_timestamp</td><td>▁▂▂▃▄▅▆▆▇█</td></tr><tr><td>_step</td><td>▁▂▃▃▄▅▆▆▇█</td></tr></table><br/>"
      ],
      "text/plain": [
       "<IPython.core.display.HTML object>"
      ]
     },
     "metadata": {},
     "output_type": "display_data"
    },
    {
     "data": {
      "text/html": [
       "Synced 5 W&B file(s), 0 media file(s), 0 artifact file(s) and 0 other file(s)"
      ],
      "text/plain": [
       "<IPython.core.display.HTML object>"
      ]
     },
     "metadata": {},
     "output_type": "display_data"
    },
    {
     "data": {
      "text/html": [
       "\n",
       "                    <br/>Synced <strong style=\"color:#cdcd00\">hello</strong>: <a href=\"https://wandb.ai/notarchana/CS6910-A1/runs/dnrv3s6u\" target=\"_blank\">https://wandb.ai/notarchana/CS6910-A1/runs/dnrv3s6u</a><br/>\n",
       "                "
      ],
      "text/plain": [
       "<IPython.core.display.HTML object>"
      ]
     },
     "metadata": {},
     "output_type": "display_data"
    },
    {
     "name": "stderr",
     "output_type": "stream",
     "text": [
      "\u001b[34m\u001b[1mwandb\u001b[0m: Agent Starting Run: 14uwgmgy with config:\n",
      "\u001b[34m\u001b[1mwandb\u001b[0m: \tactivation: sigmoid\n",
      "\u001b[34m\u001b[1mwandb\u001b[0m: \tbatch_size: 64\n",
      "\u001b[34m\u001b[1mwandb\u001b[0m: \tepochs: 10\n",
      "\u001b[34m\u001b[1mwandb\u001b[0m: \thidden_layer_size: 128\n",
      "\u001b[34m\u001b[1mwandb\u001b[0m: \thidden_layers: 4\n",
      "\u001b[34m\u001b[1mwandb\u001b[0m: \tlr: 0.001\n",
      "\u001b[34m\u001b[1mwandb\u001b[0m: \toptimiser: adam\n",
      "\u001b[34m\u001b[1mwandb\u001b[0m: \tweight_decay: 0\n",
      "\u001b[34m\u001b[1mwandb\u001b[0m: \tweight_init: xavier\n"
     ]
    },
    {
     "data": {
      "text/html": [
       "\n",
       "                Tracking run with wandb version 0.10.22<br/>\n",
       "                Syncing run <strong style=\"color:#cdcd00\">hello</strong> to <a href=\"https://wandb.ai\" target=\"_blank\">Weights & Biases</a> <a href=\"https://docs.wandb.com/integrations/jupyter.html\" target=\"_blank\">(Documentation)</a>.<br/>\n",
       "                Project page: <a href=\"https://wandb.ai/notarchana/CS6910-A1\" target=\"_blank\">https://wandb.ai/notarchana/CS6910-A1</a><br/>\n",
       "                Sweep page: <a href=\"https://wandb.ai/notarchana/CS6910-A1/sweeps/wnukyq05\" target=\"_blank\">https://wandb.ai/notarchana/CS6910-A1/sweeps/wnukyq05</a><br/>\n",
       "Run page: <a href=\"https://wandb.ai/notarchana/CS6910-A1/runs/14uwgmgy\" target=\"_blank\">https://wandb.ai/notarchana/CS6910-A1/runs/14uwgmgy</a><br/>\n",
       "                Run data is saved locally in <code>/home/krishna/iit/sem6/dl/wandb/run-20210312_132913-14uwgmgy</code><br/><br/>\n",
       "            "
      ],
      "text/plain": [
       "<IPython.core.display.HTML object>"
      ]
     },
     "metadata": {},
     "output_type": "display_data"
    },
    {
     "name": "stderr",
     "output_type": "stream",
     "text": [
      "\u001b[34m\u001b[1mwandb\u001b[0m: \u001b[33mWARNING\u001b[0m Calling run.save without any arguments is deprecated.Changes to attributes are automatically persisted.\n"
     ]
    },
    {
     "name": "stdout",
     "output_type": "stream",
     "text": [
      "model building done\n",
      "Epoch 0 done: Loss = 0.01594769468639477\n",
      "Epoch 1 done: Loss = 0.014100865084864208\n",
      "Epoch 2 done: Loss = 0.013150401559252407\n",
      "Epoch 3 done: Loss = 0.012567243644532185\n",
      "Epoch 4 done: Loss = 0.012067622048927454\n",
      "Epoch 5 done: Loss = 0.011553787357302501\n",
      "Epoch 6 done: Loss = 0.011058181446808344\n",
      "Epoch 7 done: Loss = 0.010655069930144812\n",
      "Epoch 8 done: Loss = 0.010343756918836572\n",
      "Epoch 9 done: Loss = 0.010088782994697112\n",
      "model training done\n"
     ]
    },
    {
     "data": {
      "text/html": [
       "<br/>Waiting for W&B process to finish, PID 107079<br/>Program ended successfully."
      ],
      "text/plain": [
       "<IPython.core.display.HTML object>"
      ]
     },
     "metadata": {},
     "output_type": "display_data"
    },
    {
     "data": {
      "application/vnd.jupyter.widget-view+json": {
       "model_id": "",
       "version_major": 2,
       "version_minor": 0
      },
      "text/plain": [
       "VBox(children=(Label(value=' 0.00MB of 0.00MB uploaded (0.00MB deduped)\\r'), FloatProgress(value=1.0, max=1.0)…"
      ]
     },
     "metadata": {},
     "output_type": "display_data"
    },
    {
     "data": {
      "text/html": [
       "Find user logs for this run at: <code>/home/krishna/iit/sem6/dl/wandb/run-20210312_132913-14uwgmgy/logs/debug.log</code>"
      ],
      "text/plain": [
       "<IPython.core.display.HTML object>"
      ]
     },
     "metadata": {},
     "output_type": "display_data"
    },
    {
     "data": {
      "text/html": [
       "Find internal logs for this run at: <code>/home/krishna/iit/sem6/dl/wandb/run-20210312_132913-14uwgmgy/logs/debug-internal.log</code>"
      ],
      "text/plain": [
       "<IPython.core.display.HTML object>"
      ]
     },
     "metadata": {},
     "output_type": "display_data"
    },
    {
     "data": {
      "text/html": [
       "<h3>Run summary:</h3><br/><style>\n",
       "    table.wandb td:nth-child(1) { padding: 0 10px; text-align: right }\n",
       "    </style><table class=\"wandb\">\n",
       "<tr><td>train accuracy</td><td>0.86328</td></tr><tr><td>validation accuracy</td><td>0.85933</td></tr><tr><td>train loss</td><td>0.01009</td></tr><tr><td>val loss</td><td>0.01026</td></tr><tr><td>_runtime</td><td>75</td></tr><tr><td>_timestamp</td><td>1615536028</td></tr><tr><td>_step</td><td>9</td></tr></table>"
      ],
      "text/plain": [
       "<IPython.core.display.HTML object>"
      ]
     },
     "metadata": {},
     "output_type": "display_data"
    },
    {
     "data": {
      "text/html": [
       "<h3>Run history:</h3><br/><style>\n",
       "    table.wandb td:nth-child(1) { padding: 0 10px; text-align: right }\n",
       "    </style><table class=\"wandb\">\n",
       "<tr><td>train accuracy</td><td>▁▃▄▅▅▆▇▇██</td></tr><tr><td>validation accuracy</td><td>▁▃▄▅▆▇▇███</td></tr><tr><td>train loss</td><td>█▆▅▄▃▃▂▂▁▁</td></tr><tr><td>val loss</td><td>█▆▄▄▃▃▂▂▁▁</td></tr><tr><td>_runtime</td><td>▁▂▃▃▄▅▆▇▇█</td></tr><tr><td>_timestamp</td><td>▁▂▃▃▄▅▆▇▇█</td></tr><tr><td>_step</td><td>▁▂▃▃▄▅▆▆▇█</td></tr></table><br/>"
      ],
      "text/plain": [
       "<IPython.core.display.HTML object>"
      ]
     },
     "metadata": {},
     "output_type": "display_data"
    },
    {
     "data": {
      "text/html": [
       "Synced 5 W&B file(s), 0 media file(s), 0 artifact file(s) and 0 other file(s)"
      ],
      "text/plain": [
       "<IPython.core.display.HTML object>"
      ]
     },
     "metadata": {},
     "output_type": "display_data"
    },
    {
     "data": {
      "text/html": [
       "\n",
       "                    <br/>Synced <strong style=\"color:#cdcd00\">hello</strong>: <a href=\"https://wandb.ai/notarchana/CS6910-A1/runs/14uwgmgy\" target=\"_blank\">https://wandb.ai/notarchana/CS6910-A1/runs/14uwgmgy</a><br/>\n",
       "                "
      ],
      "text/plain": [
       "<IPython.core.display.HTML object>"
      ]
     },
     "metadata": {},
     "output_type": "display_data"
    },
    {
     "name": "stderr",
     "output_type": "stream",
     "text": [
      "\u001b[34m\u001b[1mwandb\u001b[0m: Agent Starting Run: cp7g7ota with config:\n",
      "\u001b[34m\u001b[1mwandb\u001b[0m: \tactivation: tanh\n",
      "\u001b[34m\u001b[1mwandb\u001b[0m: \tbatch_size: 16\n",
      "\u001b[34m\u001b[1mwandb\u001b[0m: \tepochs: 5\n",
      "\u001b[34m\u001b[1mwandb\u001b[0m: \thidden_layer_size: 32\n",
      "\u001b[34m\u001b[1mwandb\u001b[0m: \thidden_layers: 4\n",
      "\u001b[34m\u001b[1mwandb\u001b[0m: \tlr: 0.001\n",
      "\u001b[34m\u001b[1mwandb\u001b[0m: \toptimiser: adam\n",
      "\u001b[34m\u001b[1mwandb\u001b[0m: \tweight_decay: 0\n",
      "\u001b[34m\u001b[1mwandb\u001b[0m: \tweight_init: xavier\n"
     ]
    },
    {
     "data": {
      "text/html": [
       "\n",
       "                Tracking run with wandb version 0.10.22<br/>\n",
       "                Syncing run <strong style=\"color:#cdcd00\">hello</strong> to <a href=\"https://wandb.ai\" target=\"_blank\">Weights & Biases</a> <a href=\"https://docs.wandb.com/integrations/jupyter.html\" target=\"_blank\">(Documentation)</a>.<br/>\n",
       "                Project page: <a href=\"https://wandb.ai/notarchana/CS6910-A1\" target=\"_blank\">https://wandb.ai/notarchana/CS6910-A1</a><br/>\n",
       "                Sweep page: <a href=\"https://wandb.ai/notarchana/CS6910-A1/sweeps/wnukyq05\" target=\"_blank\">https://wandb.ai/notarchana/CS6910-A1/sweeps/wnukyq05</a><br/>\n",
       "Run page: <a href=\"https://wandb.ai/notarchana/CS6910-A1/runs/cp7g7ota\" target=\"_blank\">https://wandb.ai/notarchana/CS6910-A1/runs/cp7g7ota</a><br/>\n",
       "                Run data is saved locally in <code>/home/krishna/iit/sem6/dl/wandb/run-20210312_133035-cp7g7ota</code><br/><br/>\n",
       "            "
      ],
      "text/plain": [
       "<IPython.core.display.HTML object>"
      ]
     },
     "metadata": {},
     "output_type": "display_data"
    },
    {
     "name": "stderr",
     "output_type": "stream",
     "text": [
      "\u001b[34m\u001b[1mwandb\u001b[0m: \u001b[33mWARNING\u001b[0m Calling run.save without any arguments is deprecated.Changes to attributes are automatically persisted.\n"
     ]
    },
    {
     "name": "stdout",
     "output_type": "stream",
     "text": [
      "model building done\n",
      "Epoch 0 done: Loss = 0.010296868741209672\n",
      "Epoch 1 done: Loss = 0.009383793259559736\n",
      "Epoch 2 done: Loss = 0.008915525789655621\n",
      "Epoch 3 done: Loss = 0.008609198319834655\n",
      "Epoch 4 done: Loss = 0.0083635281599569\n",
      "model training done\n"
     ]
    },
    {
     "data": {
      "text/html": [
       "<br/>Waiting for W&B process to finish, PID 107132<br/>Program ended successfully."
      ],
      "text/plain": [
       "<IPython.core.display.HTML object>"
      ]
     },
     "metadata": {},
     "output_type": "display_data"
    },
    {
     "data": {
      "application/vnd.jupyter.widget-view+json": {
       "model_id": "",
       "version_major": 2,
       "version_minor": 0
      },
      "text/plain": [
       "VBox(children=(Label(value=' 0.00MB of 0.00MB uploaded (0.00MB deduped)\\r'), FloatProgress(value=1.0, max=1.0)…"
      ]
     },
     "metadata": {},
     "output_type": "display_data"
    },
    {
     "data": {
      "text/html": [
       "Find user logs for this run at: <code>/home/krishna/iit/sem6/dl/wandb/run-20210312_133035-cp7g7ota/logs/debug.log</code>"
      ],
      "text/plain": [
       "<IPython.core.display.HTML object>"
      ]
     },
     "metadata": {},
     "output_type": "display_data"
    },
    {
     "data": {
      "text/html": [
       "Find internal logs for this run at: <code>/home/krishna/iit/sem6/dl/wandb/run-20210312_133035-cp7g7ota/logs/debug-internal.log</code>"
      ],
      "text/plain": [
       "<IPython.core.display.HTML object>"
      ]
     },
     "metadata": {},
     "output_type": "display_data"
    },
    {
     "data": {
      "text/html": [
       "<h3>Run summary:</h3><br/><style>\n",
       "    table.wandb td:nth-child(1) { padding: 0 10px; text-align: right }\n",
       "    </style><table class=\"wandb\">\n",
       "<tr><td>train accuracy</td><td>0.88563</td></tr><tr><td>validation accuracy</td><td>0.86483</td></tr><tr><td>train loss</td><td>0.00836</td></tr><tr><td>val loss</td><td>0.00946</td></tr><tr><td>_runtime</td><td>27</td></tr><tr><td>_timestamp</td><td>1615536062</td></tr><tr><td>_step</td><td>4</td></tr></table>"
      ],
      "text/plain": [
       "<IPython.core.display.HTML object>"
      ]
     },
     "metadata": {},
     "output_type": "display_data"
    },
    {
     "data": {
      "text/html": [
       "<h3>Run history:</h3><br/><style>\n",
       "    table.wandb td:nth-child(1) { padding: 0 10px; text-align: right }\n",
       "    </style><table class=\"wandb\">\n",
       "<tr><td>train accuracy</td><td>▁▄▆▇█</td></tr><tr><td>validation accuracy</td><td>▁▅▇▇█</td></tr><tr><td>train loss</td><td>█▅▃▂▁</td></tr><tr><td>val loss</td><td>█▄▃▂▁</td></tr><tr><td>_runtime</td><td>▁▃▅▆█</td></tr><tr><td>_timestamp</td><td>▁▃▅▆█</td></tr><tr><td>_step</td><td>▁▃▅▆█</td></tr></table><br/>"
      ],
      "text/plain": [
       "<IPython.core.display.HTML object>"
      ]
     },
     "metadata": {},
     "output_type": "display_data"
    },
    {
     "data": {
      "text/html": [
       "Synced 5 W&B file(s), 0 media file(s), 0 artifact file(s) and 0 other file(s)"
      ],
      "text/plain": [
       "<IPython.core.display.HTML object>"
      ]
     },
     "metadata": {},
     "output_type": "display_data"
    },
    {
     "data": {
      "text/html": [
       "\n",
       "                    <br/>Synced <strong style=\"color:#cdcd00\">hello</strong>: <a href=\"https://wandb.ai/notarchana/CS6910-A1/runs/cp7g7ota\" target=\"_blank\">https://wandb.ai/notarchana/CS6910-A1/runs/cp7g7ota</a><br/>\n",
       "                "
      ],
      "text/plain": [
       "<IPython.core.display.HTML object>"
      ]
     },
     "metadata": {},
     "output_type": "display_data"
    },
    {
     "name": "stderr",
     "output_type": "stream",
     "text": [
      "\u001b[34m\u001b[1mwandb\u001b[0m: Agent Starting Run: a2igagsf with config:\n",
      "\u001b[34m\u001b[1mwandb\u001b[0m: \tactivation: sigmoid\n",
      "\u001b[34m\u001b[1mwandb\u001b[0m: \tbatch_size: 64\n",
      "\u001b[34m\u001b[1mwandb\u001b[0m: \tepochs: 5\n",
      "\u001b[34m\u001b[1mwandb\u001b[0m: \thidden_layer_size: 32\n",
      "\u001b[34m\u001b[1mwandb\u001b[0m: \thidden_layers: 4\n",
      "\u001b[34m\u001b[1mwandb\u001b[0m: \tlr: 0.0001\n",
      "\u001b[34m\u001b[1mwandb\u001b[0m: \toptimiser: nesterov\n",
      "\u001b[34m\u001b[1mwandb\u001b[0m: \tweight_decay: 0\n",
      "\u001b[34m\u001b[1mwandb\u001b[0m: \tweight_init: xavier\n"
     ]
    },
    {
     "data": {
      "text/html": [
       "\n",
       "                Tracking run with wandb version 0.10.22<br/>\n",
       "                Syncing run <strong style=\"color:#cdcd00\">hello</strong> to <a href=\"https://wandb.ai\" target=\"_blank\">Weights & Biases</a> <a href=\"https://docs.wandb.com/integrations/jupyter.html\" target=\"_blank\">(Documentation)</a>.<br/>\n",
       "                Project page: <a href=\"https://wandb.ai/notarchana/CS6910-A1\" target=\"_blank\">https://wandb.ai/notarchana/CS6910-A1</a><br/>\n",
       "                Sweep page: <a href=\"https://wandb.ai/notarchana/CS6910-A1/sweeps/wnukyq05\" target=\"_blank\">https://wandb.ai/notarchana/CS6910-A1/sweeps/wnukyq05</a><br/>\n",
       "Run page: <a href=\"https://wandb.ai/notarchana/CS6910-A1/runs/a2igagsf\" target=\"_blank\">https://wandb.ai/notarchana/CS6910-A1/runs/a2igagsf</a><br/>\n",
       "                Run data is saved locally in <code>/home/krishna/iit/sem6/dl/wandb/run-20210312_133109-a2igagsf</code><br/><br/>\n",
       "            "
      ],
      "text/plain": [
       "<IPython.core.display.HTML object>"
      ]
     },
     "metadata": {},
     "output_type": "display_data"
    },
    {
     "name": "stderr",
     "output_type": "stream",
     "text": [
      "\u001b[34m\u001b[1mwandb\u001b[0m: \u001b[33mWARNING\u001b[0m Calling run.save without any arguments is deprecated.Changes to attributes are automatically persisted.\n"
     ]
    },
    {
     "name": "stdout",
     "output_type": "stream",
     "text": [
      "model building done\n",
      "Epoch 0 done: Loss = 0.046434830393445495\n",
      "Epoch 1 done: Loss = 0.04598025190699737\n",
      "Epoch 2 done: Loss = 0.04573355452172816\n",
      "Epoch 3 done: Loss = 0.045582515357615226\n",
      "Epoch 4 done: Loss = 0.04548243673026579\n",
      "model training done\n"
     ]
    },
    {
     "data": {
      "text/html": [
       "<br/>Waiting for W&B process to finish, PID 107188<br/>Program ended successfully."
      ],
      "text/plain": [
       "<IPython.core.display.HTML object>"
      ]
     },
     "metadata": {},
     "output_type": "display_data"
    },
    {
     "data": {
      "application/vnd.jupyter.widget-view+json": {
       "model_id": "",
       "version_major": 2,
       "version_minor": 0
      },
      "text/plain": [
       "VBox(children=(Label(value=' 0.00MB of 0.00MB uploaded (0.00MB deduped)\\r'), FloatProgress(value=1.0, max=1.0)…"
      ]
     },
     "metadata": {},
     "output_type": "display_data"
    },
    {
     "data": {
      "text/html": [
       "Find user logs for this run at: <code>/home/krishna/iit/sem6/dl/wandb/run-20210312_133109-a2igagsf/logs/debug.log</code>"
      ],
      "text/plain": [
       "<IPython.core.display.HTML object>"
      ]
     },
     "metadata": {},
     "output_type": "display_data"
    },
    {
     "data": {
      "text/html": [
       "Find internal logs for this run at: <code>/home/krishna/iit/sem6/dl/wandb/run-20210312_133109-a2igagsf/logs/debug-internal.log</code>"
      ],
      "text/plain": [
       "<IPython.core.display.HTML object>"
      ]
     },
     "metadata": {},
     "output_type": "display_data"
    },
    {
     "data": {
      "text/html": [
       "<h3>Run summary:</h3><br/><style>\n",
       "    table.wandb td:nth-child(1) { padding: 0 10px; text-align: right }\n",
       "    </style><table class=\"wandb\">\n",
       "<tr><td>train accuracy</td><td>0.09974</td></tr><tr><td>validation accuracy</td><td>0.103</td></tr><tr><td>train loss</td><td>0.04548</td></tr><tr><td>val loss</td><td>0.0455</td></tr><tr><td>_runtime</td><td>11</td></tr><tr><td>_timestamp</td><td>1615536080</td></tr><tr><td>_step</td><td>4</td></tr></table>"
      ],
      "text/plain": [
       "<IPython.core.display.HTML object>"
      ]
     },
     "metadata": {},
     "output_type": "display_data"
    },
    {
     "data": {
      "text/html": [
       "<h3>Run history:</h3><br/><style>\n",
       "    table.wandb td:nth-child(1) { padding: 0 10px; text-align: right }\n",
       "    </style><table class=\"wandb\">\n",
       "<tr><td>train accuracy</td><td>▁▁▁▁█</td></tr><tr><td>validation accuracy</td><td>▁▁▁▁▁</td></tr><tr><td>train loss</td><td>█▅▃▂▁</td></tr><tr><td>val loss</td><td>█▅▃▂▁</td></tr><tr><td>_runtime</td><td>▁▃▅▇█</td></tr><tr><td>_timestamp</td><td>▁▃▅▇█</td></tr><tr><td>_step</td><td>▁▃▅▆█</td></tr></table><br/>"
      ],
      "text/plain": [
       "<IPython.core.display.HTML object>"
      ]
     },
     "metadata": {},
     "output_type": "display_data"
    },
    {
     "data": {
      "text/html": [
       "Synced 5 W&B file(s), 0 media file(s), 0 artifact file(s) and 0 other file(s)"
      ],
      "text/plain": [
       "<IPython.core.display.HTML object>"
      ]
     },
     "metadata": {},
     "output_type": "display_data"
    },
    {
     "data": {
      "text/html": [
       "\n",
       "                    <br/>Synced <strong style=\"color:#cdcd00\">hello</strong>: <a href=\"https://wandb.ai/notarchana/CS6910-A1/runs/a2igagsf\" target=\"_blank\">https://wandb.ai/notarchana/CS6910-A1/runs/a2igagsf</a><br/>\n",
       "                "
      ],
      "text/plain": [
       "<IPython.core.display.HTML object>"
      ]
     },
     "metadata": {},
     "output_type": "display_data"
    },
    {
     "name": "stderr",
     "output_type": "stream",
     "text": [
      "\u001b[34m\u001b[1mwandb\u001b[0m: Agent Starting Run: x4sqnray with config:\n",
      "\u001b[34m\u001b[1mwandb\u001b[0m: \tactivation: sigmoid\n",
      "\u001b[34m\u001b[1mwandb\u001b[0m: \tbatch_size: 32\n",
      "\u001b[34m\u001b[1mwandb\u001b[0m: \tepochs: 10\n",
      "\u001b[34m\u001b[1mwandb\u001b[0m: \thidden_layer_size: 32\n",
      "\u001b[34m\u001b[1mwandb\u001b[0m: \thidden_layers: 4\n",
      "\u001b[34m\u001b[1mwandb\u001b[0m: \tlr: 0.0001\n",
      "\u001b[34m\u001b[1mwandb\u001b[0m: \toptimiser: nadam\n",
      "\u001b[34m\u001b[1mwandb\u001b[0m: \tweight_decay: 0\n",
      "\u001b[34m\u001b[1mwandb\u001b[0m: \tweight_init: xavier\n"
     ]
    },
    {
     "data": {
      "text/html": [
       "\n",
       "                Tracking run with wandb version 0.10.22<br/>\n",
       "                Syncing run <strong style=\"color:#cdcd00\">hello</strong> to <a href=\"https://wandb.ai\" target=\"_blank\">Weights & Biases</a> <a href=\"https://docs.wandb.com/integrations/jupyter.html\" target=\"_blank\">(Documentation)</a>.<br/>\n",
       "                Project page: <a href=\"https://wandb.ai/notarchana/CS6910-A1\" target=\"_blank\">https://wandb.ai/notarchana/CS6910-A1</a><br/>\n",
       "                Sweep page: <a href=\"https://wandb.ai/notarchana/CS6910-A1/sweeps/wnukyq05\" target=\"_blank\">https://wandb.ai/notarchana/CS6910-A1/sweeps/wnukyq05</a><br/>\n",
       "Run page: <a href=\"https://wandb.ai/notarchana/CS6910-A1/runs/x4sqnray\" target=\"_blank\">https://wandb.ai/notarchana/CS6910-A1/runs/x4sqnray</a><br/>\n",
       "                Run data is saved locally in <code>/home/krishna/iit/sem6/dl/wandb/run-20210312_133127-x4sqnray</code><br/><br/>\n",
       "            "
      ],
      "text/plain": [
       "<IPython.core.display.HTML object>"
      ]
     },
     "metadata": {},
     "output_type": "display_data"
    },
    {
     "name": "stderr",
     "output_type": "stream",
     "text": [
      "\u001b[34m\u001b[1mwandb\u001b[0m: \u001b[33mWARNING\u001b[0m Calling run.save without any arguments is deprecated.Changes to attributes are automatically persisted.\n"
     ]
    },
    {
     "name": "stdout",
     "output_type": "stream",
     "text": [
      "model building done\n",
      "Epoch 0 done: Loss = 0.04449427327404564\n",
      "Epoch 1 done: Loss = 0.04347651858930163\n",
      "Epoch 2 done: Loss = 0.042415017805824434\n",
      "Epoch 3 done: Loss = 0.04157959113933499\n",
      "Epoch 4 done: Loss = 0.04089266454301919\n",
      "Epoch 5 done: Loss = 0.04027947240363374\n",
      "Epoch 6 done: Loss = 0.03970319740791607\n",
      "Epoch 7 done: Loss = 0.03915528791243391\n",
      "Epoch 8 done: Loss = 0.03862808273070357\n",
      "Epoch 9 done: Loss = 0.038116104935512644\n",
      "model training done\n"
     ]
    },
    {
     "data": {
      "text/html": [
       "<br/>Waiting for W&B process to finish, PID 107220<br/>Program ended successfully."
      ],
      "text/plain": [
       "<IPython.core.display.HTML object>"
      ]
     },
     "metadata": {},
     "output_type": "display_data"
    },
    {
     "data": {
      "application/vnd.jupyter.widget-view+json": {
       "model_id": "",
       "version_major": 2,
       "version_minor": 0
      },
      "text/plain": [
       "VBox(children=(Label(value=' 0.00MB of 0.00MB uploaded (0.00MB deduped)\\r'), FloatProgress(value=1.0, max=1.0)…"
      ]
     },
     "metadata": {},
     "output_type": "display_data"
    },
    {
     "data": {
      "text/html": [
       "Find user logs for this run at: <code>/home/krishna/iit/sem6/dl/wandb/run-20210312_133127-x4sqnray/logs/debug.log</code>"
      ],
      "text/plain": [
       "<IPython.core.display.HTML object>"
      ]
     },
     "metadata": {},
     "output_type": "display_data"
    },
    {
     "data": {
      "text/html": [
       "Find internal logs for this run at: <code>/home/krishna/iit/sem6/dl/wandb/run-20210312_133127-x4sqnray/logs/debug-internal.log</code>"
      ],
      "text/plain": [
       "<IPython.core.display.HTML object>"
      ]
     },
     "metadata": {},
     "output_type": "display_data"
    },
    {
     "data": {
      "text/html": [
       "<h3>Run summary:</h3><br/><style>\n",
       "    table.wandb td:nth-child(1) { padding: 0 10px; text-align: right }\n",
       "    </style><table class=\"wandb\">\n",
       "<tr><td>train accuracy</td><td>0.39085</td></tr><tr><td>validation accuracy</td><td>0.39117</td></tr><tr><td>train loss</td><td>0.03812</td></tr><tr><td>val loss</td><td>0.03817</td></tr><tr><td>_runtime</td><td>35</td></tr><tr><td>_timestamp</td><td>1615536122</td></tr><tr><td>_step</td><td>9</td></tr></table>"
      ],
      "text/plain": [
       "<IPython.core.display.HTML object>"
      ]
     },
     "metadata": {},
     "output_type": "display_data"
    },
    {
     "data": {
      "text/html": [
       "<h3>Run history:</h3><br/><style>\n",
       "    table.wandb td:nth-child(1) { padding: 0 10px; text-align: right }\n",
       "    </style><table class=\"wandb\">\n",
       "<tr><td>train accuracy</td><td>▁▁▁▁▁▃▇▇██</td></tr><tr><td>validation accuracy</td><td>▁▁▁▁▁▂▇▇██</td></tr><tr><td>train loss</td><td>█▇▆▅▄▃▃▂▂▁</td></tr><tr><td>val loss</td><td>█▇▆▅▄▃▃▂▂▁</td></tr><tr><td>_runtime</td><td>▁▂▃▃▄▅▆▇▇█</td></tr><tr><td>_timestamp</td><td>▁▂▃▃▄▅▆▇▇█</td></tr><tr><td>_step</td><td>▁▂▃▃▄▅▆▆▇█</td></tr></table><br/>"
      ],
      "text/plain": [
       "<IPython.core.display.HTML object>"
      ]
     },
     "metadata": {},
     "output_type": "display_data"
    },
    {
     "data": {
      "text/html": [
       "Synced 5 W&B file(s), 0 media file(s), 0 artifact file(s) and 0 other file(s)"
      ],
      "text/plain": [
       "<IPython.core.display.HTML object>"
      ]
     },
     "metadata": {},
     "output_type": "display_data"
    },
    {
     "data": {
      "text/html": [
       "\n",
       "                    <br/>Synced <strong style=\"color:#cdcd00\">hello</strong>: <a href=\"https://wandb.ai/notarchana/CS6910-A1/runs/x4sqnray\" target=\"_blank\">https://wandb.ai/notarchana/CS6910-A1/runs/x4sqnray</a><br/>\n",
       "                "
      ],
      "text/plain": [
       "<IPython.core.display.HTML object>"
      ]
     },
     "metadata": {},
     "output_type": "display_data"
    },
    {
     "name": "stderr",
     "output_type": "stream",
     "text": [
      "\u001b[34m\u001b[1mwandb\u001b[0m: Agent Starting Run: zjhwfxjf with config:\n",
      "\u001b[34m\u001b[1mwandb\u001b[0m: \tactivation: sigmoid\n",
      "\u001b[34m\u001b[1mwandb\u001b[0m: \tbatch_size: 32\n",
      "\u001b[34m\u001b[1mwandb\u001b[0m: \tepochs: 10\n",
      "\u001b[34m\u001b[1mwandb\u001b[0m: \thidden_layer_size: 128\n",
      "\u001b[34m\u001b[1mwandb\u001b[0m: \thidden_layers: 5\n",
      "\u001b[34m\u001b[1mwandb\u001b[0m: \tlr: 0.001\n",
      "\u001b[34m\u001b[1mwandb\u001b[0m: \toptimiser: nesterov\n",
      "\u001b[34m\u001b[1mwandb\u001b[0m: \tweight_decay: 0.0005\n",
      "\u001b[34m\u001b[1mwandb\u001b[0m: \tweight_init: xavier\n"
     ]
    },
    {
     "data": {
      "text/html": [
       "\n",
       "                Tracking run with wandb version 0.10.22<br/>\n",
       "                Syncing run <strong style=\"color:#cdcd00\">hello</strong> to <a href=\"https://wandb.ai\" target=\"_blank\">Weights & Biases</a> <a href=\"https://docs.wandb.com/integrations/jupyter.html\" target=\"_blank\">(Documentation)</a>.<br/>\n",
       "                Project page: <a href=\"https://wandb.ai/notarchana/CS6910-A1\" target=\"_blank\">https://wandb.ai/notarchana/CS6910-A1</a><br/>\n",
       "                Sweep page: <a href=\"https://wandb.ai/notarchana/CS6910-A1/sweeps/wnukyq05\" target=\"_blank\">https://wandb.ai/notarchana/CS6910-A1/sweeps/wnukyq05</a><br/>\n",
       "Run page: <a href=\"https://wandb.ai/notarchana/CS6910-A1/runs/zjhwfxjf\" target=\"_blank\">https://wandb.ai/notarchana/CS6910-A1/runs/zjhwfxjf</a><br/>\n",
       "                Run data is saved locally in <code>/home/krishna/iit/sem6/dl/wandb/run-20210312_133210-zjhwfxjf</code><br/><br/>\n",
       "            "
      ],
      "text/plain": [
       "<IPython.core.display.HTML object>"
      ]
     },
     "metadata": {},
     "output_type": "display_data"
    },
    {
     "name": "stderr",
     "output_type": "stream",
     "text": [
      "\u001b[34m\u001b[1mwandb\u001b[0m: \u001b[33mWARNING\u001b[0m Calling run.save without any arguments is deprecated.Changes to attributes are automatically persisted.\n"
     ]
    },
    {
     "name": "stdout",
     "output_type": "stream",
     "text": [
      "model building done\n",
      "Epoch 0 done: Loss = 0.04500133510033951\n",
      "Epoch 1 done: Loss = 0.045001130397421\n",
      "Epoch 2 done: Loss = 0.045000927454663914\n",
      "Epoch 3 done: Loss = 0.04500072242989863\n",
      "Epoch 4 done: Loss = 0.04500051515365965\n",
      "Epoch 5 done: Loss = 0.04500030545097862\n",
      "Epoch 6 done: Loss = 0.04500009314091723\n",
      "Epoch 7 done: Loss = 0.044999878036073644\n",
      "Epoch 8 done: Loss = 0.04499965994205673\n",
      "Epoch 9 done: Loss = 0.044999438656925905\n",
      "model training done\n"
     ]
    },
    {
     "data": {
      "text/html": [
       "<br/>Waiting for W&B process to finish, PID 107266<br/>Program ended successfully."
      ],
      "text/plain": [
       "<IPython.core.display.HTML object>"
      ]
     },
     "metadata": {},
     "output_type": "display_data"
    },
    {
     "data": {
      "application/vnd.jupyter.widget-view+json": {
       "model_id": "",
       "version_major": 2,
       "version_minor": 0
      },
      "text/plain": [
       "VBox(children=(Label(value=' 0.00MB of 0.00MB uploaded (0.00MB deduped)\\r'), FloatProgress(value=1.0, max=1.0)…"
      ]
     },
     "metadata": {},
     "output_type": "display_data"
    },
    {
     "data": {
      "text/html": [
       "Find user logs for this run at: <code>/home/krishna/iit/sem6/dl/wandb/run-20210312_133210-zjhwfxjf/logs/debug.log</code>"
      ],
      "text/plain": [
       "<IPython.core.display.HTML object>"
      ]
     },
     "metadata": {},
     "output_type": "display_data"
    },
    {
     "data": {
      "text/html": [
       "Find internal logs for this run at: <code>/home/krishna/iit/sem6/dl/wandb/run-20210312_133210-zjhwfxjf/logs/debug-internal.log</code>"
      ],
      "text/plain": [
       "<IPython.core.display.HTML object>"
      ]
     },
     "metadata": {},
     "output_type": "display_data"
    },
    {
     "data": {
      "text/html": [
       "<h3>Run summary:</h3><br/><style>\n",
       "    table.wandb td:nth-child(1) { padding: 0 10px; text-align: right }\n",
       "    </style><table class=\"wandb\">\n",
       "<tr><td>train accuracy</td><td>0.0998</td></tr><tr><td>validation accuracy</td><td>0.10183</td></tr><tr><td>train loss</td><td>0.045</td></tr><tr><td>val loss</td><td>0.045</td></tr><tr><td>_runtime</td><td>95</td></tr><tr><td>_timestamp</td><td>1615536225</td></tr><tr><td>_step</td><td>9</td></tr></table>"
      ],
      "text/plain": [
       "<IPython.core.display.HTML object>"
      ]
     },
     "metadata": {},
     "output_type": "display_data"
    },
    {
     "data": {
      "text/html": [
       "<h3>Run history:</h3><br/><style>\n",
       "    table.wandb td:nth-child(1) { padding: 0 10px; text-align: right }\n",
       "    </style><table class=\"wandb\">\n",
       "<tr><td>train accuracy</td><td>▁▁▁▁▁▁▁▁▁▁</td></tr><tr><td>validation accuracy</td><td>▁▁▁▁▁▁▁▁▁▁</td></tr><tr><td>train loss</td><td>█▇▆▆▅▄▃▃▂▁</td></tr><tr><td>val loss</td><td>█▇▇▆▅▄▃▃▂▁</td></tr><tr><td>_runtime</td><td>▁▂▃▃▄▅▆▆▇█</td></tr><tr><td>_timestamp</td><td>▁▂▃▃▄▅▆▆▇█</td></tr><tr><td>_step</td><td>▁▂▃▃▄▅▆▆▇█</td></tr></table><br/>"
      ],
      "text/plain": [
       "<IPython.core.display.HTML object>"
      ]
     },
     "metadata": {},
     "output_type": "display_data"
    },
    {
     "data": {
      "text/html": [
       "Synced 5 W&B file(s), 0 media file(s), 0 artifact file(s) and 0 other file(s)"
      ],
      "text/plain": [
       "<IPython.core.display.HTML object>"
      ]
     },
     "metadata": {},
     "output_type": "display_data"
    },
    {
     "data": {
      "text/html": [
       "\n",
       "                    <br/>Synced <strong style=\"color:#cdcd00\">hello</strong>: <a href=\"https://wandb.ai/notarchana/CS6910-A1/runs/zjhwfxjf\" target=\"_blank\">https://wandb.ai/notarchana/CS6910-A1/runs/zjhwfxjf</a><br/>\n",
       "                "
      ],
      "text/plain": [
       "<IPython.core.display.HTML object>"
      ]
     },
     "metadata": {},
     "output_type": "display_data"
    },
    {
     "name": "stderr",
     "output_type": "stream",
     "text": [
      "\u001b[34m\u001b[1mwandb\u001b[0m: Agent Starting Run: gcgmo4vm with config:\n",
      "\u001b[34m\u001b[1mwandb\u001b[0m: \tactivation: tanh\n",
      "\u001b[34m\u001b[1mwandb\u001b[0m: \tbatch_size: 32\n",
      "\u001b[34m\u001b[1mwandb\u001b[0m: \tepochs: 5\n",
      "\u001b[34m\u001b[1mwandb\u001b[0m: \thidden_layer_size: 32\n",
      "\u001b[34m\u001b[1mwandb\u001b[0m: \thidden_layers: 4\n",
      "\u001b[34m\u001b[1mwandb\u001b[0m: \tlr: 0.0001\n",
      "\u001b[34m\u001b[1mwandb\u001b[0m: \toptimiser: adam\n",
      "\u001b[34m\u001b[1mwandb\u001b[0m: \tweight_decay: 0.0005\n",
      "\u001b[34m\u001b[1mwandb\u001b[0m: \tweight_init: xavier\n"
     ]
    },
    {
     "data": {
      "text/html": [
       "\n",
       "                Tracking run with wandb version 0.10.22<br/>\n",
       "                Syncing run <strong style=\"color:#cdcd00\">hello</strong> to <a href=\"https://wandb.ai\" target=\"_blank\">Weights & Biases</a> <a href=\"https://docs.wandb.com/integrations/jupyter.html\" target=\"_blank\">(Documentation)</a>.<br/>\n",
       "                Project page: <a href=\"https://wandb.ai/notarchana/CS6910-A1\" target=\"_blank\">https://wandb.ai/notarchana/CS6910-A1</a><br/>\n",
       "                Sweep page: <a href=\"https://wandb.ai/notarchana/CS6910-A1/sweeps/wnukyq05\" target=\"_blank\">https://wandb.ai/notarchana/CS6910-A1/sweeps/wnukyq05</a><br/>\n",
       "Run page: <a href=\"https://wandb.ai/notarchana/CS6910-A1/runs/gcgmo4vm\" target=\"_blank\">https://wandb.ai/notarchana/CS6910-A1/runs/gcgmo4vm</a><br/>\n",
       "                Run data is saved locally in <code>/home/krishna/iit/sem6/dl/wandb/run-20210312_133352-gcgmo4vm</code><br/><br/>\n",
       "            "
      ],
      "text/plain": [
       "<IPython.core.display.HTML object>"
      ]
     },
     "metadata": {},
     "output_type": "display_data"
    },
    {
     "name": "stderr",
     "output_type": "stream",
     "text": [
      "\u001b[34m\u001b[1mwandb\u001b[0m: \u001b[33mWARNING\u001b[0m Calling run.save without any arguments is deprecated.Changes to attributes are automatically persisted.\n"
     ]
    },
    {
     "name": "stdout",
     "output_type": "stream",
     "text": [
      "model building done\n",
      "Epoch 0 done: Loss = 0.017757000009487284\n",
      "Epoch 1 done: Loss = 0.01506583053201735\n",
      "Epoch 2 done: Loss = 0.013786063015273176\n",
      "Epoch 3 done: Loss = 0.013028134690319503\n",
      "Epoch 4 done: Loss = 0.012516900504624572\n",
      "model training done\n"
     ]
    },
    {
     "data": {
      "text/html": [
       "<br/>Waiting for W&B process to finish, PID 107320<br/>Program ended successfully."
      ],
      "text/plain": [
       "<IPython.core.display.HTML object>"
      ]
     },
     "metadata": {},
     "output_type": "display_data"
    },
    {
     "data": {
      "application/vnd.jupyter.widget-view+json": {
       "model_id": "",
       "version_major": 2,
       "version_minor": 0
      },
      "text/plain": [
       "VBox(children=(Label(value=' 0.00MB of 0.00MB uploaded (0.00MB deduped)\\r'), FloatProgress(value=1.0, max=1.0)…"
      ]
     },
     "metadata": {},
     "output_type": "display_data"
    },
    {
     "data": {
      "text/html": [
       "Find user logs for this run at: <code>/home/krishna/iit/sem6/dl/wandb/run-20210312_133352-gcgmo4vm/logs/debug.log</code>"
      ],
      "text/plain": [
       "<IPython.core.display.HTML object>"
      ]
     },
     "metadata": {},
     "output_type": "display_data"
    },
    {
     "data": {
      "text/html": [
       "Find internal logs for this run at: <code>/home/krishna/iit/sem6/dl/wandb/run-20210312_133352-gcgmo4vm/logs/debug-internal.log</code>"
      ],
      "text/plain": [
       "<IPython.core.display.HTML object>"
      ]
     },
     "metadata": {},
     "output_type": "display_data"
    },
    {
     "data": {
      "text/html": [
       "<h3>Run summary:</h3><br/><style>\n",
       "    table.wandb td:nth-child(1) { padding: 0 10px; text-align: right }\n",
       "    </style><table class=\"wandb\">\n",
       "<tr><td>train accuracy</td><td>0.83222</td></tr><tr><td>validation accuracy</td><td>0.83233</td></tr><tr><td>train loss</td><td>0.01252</td></tr><tr><td>val loss</td><td>0.01251</td></tr><tr><td>_runtime</td><td>19</td></tr><tr><td>_timestamp</td><td>1615536251</td></tr><tr><td>_step</td><td>4</td></tr></table>"
      ],
      "text/plain": [
       "<IPython.core.display.HTML object>"
      ]
     },
     "metadata": {},
     "output_type": "display_data"
    },
    {
     "data": {
      "text/html": [
       "<h3>Run history:</h3><br/><style>\n",
       "    table.wandb td:nth-child(1) { padding: 0 10px; text-align: right }\n",
       "    </style><table class=\"wandb\">\n",
       "<tr><td>train accuracy</td><td>▁▅▇▇█</td></tr><tr><td>validation accuracy</td><td>▁▆▇██</td></tr><tr><td>train loss</td><td>█▄▃▂▁</td></tr><tr><td>val loss</td><td>█▄▃▂▁</td></tr><tr><td>_runtime</td><td>▁▃▄▆█</td></tr><tr><td>_timestamp</td><td>▁▃▄▆█</td></tr><tr><td>_step</td><td>▁▃▅▆█</td></tr></table><br/>"
      ],
      "text/plain": [
       "<IPython.core.display.HTML object>"
      ]
     },
     "metadata": {},
     "output_type": "display_data"
    },
    {
     "data": {
      "text/html": [
       "Synced 5 W&B file(s), 0 media file(s), 0 artifact file(s) and 0 other file(s)"
      ],
      "text/plain": [
       "<IPython.core.display.HTML object>"
      ]
     },
     "metadata": {},
     "output_type": "display_data"
    },
    {
     "data": {
      "text/html": [
       "\n",
       "                    <br/>Synced <strong style=\"color:#cdcd00\">hello</strong>: <a href=\"https://wandb.ai/notarchana/CS6910-A1/runs/gcgmo4vm\" target=\"_blank\">https://wandb.ai/notarchana/CS6910-A1/runs/gcgmo4vm</a><br/>\n",
       "                "
      ],
      "text/plain": [
       "<IPython.core.display.HTML object>"
      ]
     },
     "metadata": {},
     "output_type": "display_data"
    },
    {
     "name": "stderr",
     "output_type": "stream",
     "text": [
      "\u001b[34m\u001b[1mwandb\u001b[0m: Agent Starting Run: gygvsw2v with config:\n",
      "\u001b[34m\u001b[1mwandb\u001b[0m: \tactivation: sigmoid\n",
      "\u001b[34m\u001b[1mwandb\u001b[0m: \tbatch_size: 64\n",
      "\u001b[34m\u001b[1mwandb\u001b[0m: \tepochs: 10\n",
      "\u001b[34m\u001b[1mwandb\u001b[0m: \thidden_layer_size: 32\n",
      "\u001b[34m\u001b[1mwandb\u001b[0m: \thidden_layers: 5\n",
      "\u001b[34m\u001b[1mwandb\u001b[0m: \tlr: 0.0001\n",
      "\u001b[34m\u001b[1mwandb\u001b[0m: \toptimiser: nadam\n",
      "\u001b[34m\u001b[1mwandb\u001b[0m: \tweight_decay: 0.5\n",
      "\u001b[34m\u001b[1mwandb\u001b[0m: \tweight_init: xavier\n"
     ]
    },
    {
     "data": {
      "text/html": [
       "\n",
       "                Tracking run with wandb version 0.10.22<br/>\n",
       "                Syncing run <strong style=\"color:#cdcd00\">hello</strong> to <a href=\"https://wandb.ai\" target=\"_blank\">Weights & Biases</a> <a href=\"https://docs.wandb.com/integrations/jupyter.html\" target=\"_blank\">(Documentation)</a>.<br/>\n",
       "                Project page: <a href=\"https://wandb.ai/notarchana/CS6910-A1\" target=\"_blank\">https://wandb.ai/notarchana/CS6910-A1</a><br/>\n",
       "                Sweep page: <a href=\"https://wandb.ai/notarchana/CS6910-A1/sweeps/wnukyq05\" target=\"_blank\">https://wandb.ai/notarchana/CS6910-A1/sweeps/wnukyq05</a><br/>\n",
       "Run page: <a href=\"https://wandb.ai/notarchana/CS6910-A1/runs/gygvsw2v\" target=\"_blank\">https://wandb.ai/notarchana/CS6910-A1/runs/gygvsw2v</a><br/>\n",
       "                Run data is saved locally in <code>/home/krishna/iit/sem6/dl/wandb/run-20210312_133420-gygvsw2v</code><br/><br/>\n",
       "            "
      ],
      "text/plain": [
       "<IPython.core.display.HTML object>"
      ]
     },
     "metadata": {},
     "output_type": "display_data"
    },
    {
     "name": "stderr",
     "output_type": "stream",
     "text": [
      "\u001b[34m\u001b[1mwandb\u001b[0m: \u001b[33mWARNING\u001b[0m Calling run.save without any arguments is deprecated.Changes to attributes are automatically persisted.\n"
     ]
    },
    {
     "name": "stdout",
     "output_type": "stream",
     "text": [
      "model building done\n",
      "Epoch 0 done: Loss = 0.04499397002979705\n",
      "Epoch 1 done: Loss = 0.04496289424774324\n",
      "Epoch 2 done: Loss = 0.04493689759070699\n",
      "Epoch 3 done: Loss = 0.04490148253430514\n",
      "Epoch 4 done: Loss = 0.044851902544022625\n",
      "Epoch 5 done: Loss = 0.044782344505352505\n",
      "Epoch 6 done: Loss = 0.04468473255971309\n",
      "Epoch 7 done: Loss = 0.04454782251695903\n",
      "Epoch 8 done: Loss = 0.04435693524229005\n",
      "Epoch 9 done: Loss = 0.04409582654009479\n",
      "model training done\n"
     ]
    },
    {
     "data": {
      "text/html": [
       "<br/>Waiting for W&B process to finish, PID 107362<br/>Program ended successfully."
      ],
      "text/plain": [
       "<IPython.core.display.HTML object>"
      ]
     },
     "metadata": {},
     "output_type": "display_data"
    },
    {
     "data": {
      "application/vnd.jupyter.widget-view+json": {
       "model_id": "",
       "version_major": 2,
       "version_minor": 0
      },
      "text/plain": [
       "VBox(children=(Label(value=' 0.00MB of 0.00MB uploaded (0.00MB deduped)\\r'), FloatProgress(value=1.0, max=1.0)…"
      ]
     },
     "metadata": {},
     "output_type": "display_data"
    },
    {
     "data": {
      "text/html": [
       "Find user logs for this run at: <code>/home/krishna/iit/sem6/dl/wandb/run-20210312_133420-gygvsw2v/logs/debug.log</code>"
      ],
      "text/plain": [
       "<IPython.core.display.HTML object>"
      ]
     },
     "metadata": {},
     "output_type": "display_data"
    },
    {
     "data": {
      "text/html": [
       "Find internal logs for this run at: <code>/home/krishna/iit/sem6/dl/wandb/run-20210312_133420-gygvsw2v/logs/debug-internal.log</code>"
      ],
      "text/plain": [
       "<IPython.core.display.HTML object>"
      ]
     },
     "metadata": {},
     "output_type": "display_data"
    },
    {
     "data": {
      "text/html": [
       "<h3>Run summary:</h3><br/><style>\n",
       "    table.wandb td:nth-child(1) { padding: 0 10px; text-align: right }\n",
       "    </style><table class=\"wandb\">\n",
       "<tr><td>train accuracy</td><td>0.25478</td></tr><tr><td>validation accuracy</td><td>0.25433</td></tr><tr><td>train loss</td><td>0.0441</td></tr><tr><td>val loss</td><td>0.04409</td></tr><tr><td>_runtime</td><td>28</td></tr><tr><td>_timestamp</td><td>1615536288</td></tr><tr><td>_step</td><td>9</td></tr></table>"
      ],
      "text/plain": [
       "<IPython.core.display.HTML object>"
      ]
     },
     "metadata": {},
     "output_type": "display_data"
    },
    {
     "data": {
      "text/html": [
       "<h3>Run history:</h3><br/><style>\n",
       "    table.wandb td:nth-child(1) { padding: 0 10px; text-align: right }\n",
       "    </style><table class=\"wandb\">\n",
       "<tr><td>train accuracy</td><td>▁▁▇█████▇▇</td></tr><tr><td>validation accuracy</td><td>▁▁▇██████▇</td></tr><tr><td>train loss</td><td>███▇▇▆▆▅▃▁</td></tr><tr><td>val loss</td><td>███▇▇▆▆▅▃▁</td></tr><tr><td>_runtime</td><td>▁▂▃▃▄▅▆▆▇█</td></tr><tr><td>_timestamp</td><td>▁▂▃▃▄▅▆▆▇█</td></tr><tr><td>_step</td><td>▁▂▃▃▄▅▆▆▇█</td></tr></table><br/>"
      ],
      "text/plain": [
       "<IPython.core.display.HTML object>"
      ]
     },
     "metadata": {},
     "output_type": "display_data"
    },
    {
     "data": {
      "text/html": [
       "Synced 5 W&B file(s), 0 media file(s), 0 artifact file(s) and 0 other file(s)"
      ],
      "text/plain": [
       "<IPython.core.display.HTML object>"
      ]
     },
     "metadata": {},
     "output_type": "display_data"
    },
    {
     "data": {
      "text/html": [
       "\n",
       "                    <br/>Synced <strong style=\"color:#cdcd00\">hello</strong>: <a href=\"https://wandb.ai/notarchana/CS6910-A1/runs/gygvsw2v\" target=\"_blank\">https://wandb.ai/notarchana/CS6910-A1/runs/gygvsw2v</a><br/>\n",
       "                "
      ],
      "text/plain": [
       "<IPython.core.display.HTML object>"
      ]
     },
     "metadata": {},
     "output_type": "display_data"
    },
    {
     "name": "stderr",
     "output_type": "stream",
     "text": [
      "\u001b[34m\u001b[1mwandb\u001b[0m: Agent Starting Run: r8b8xbta with config:\n",
      "\u001b[34m\u001b[1mwandb\u001b[0m: \tactivation: tanh\n",
      "\u001b[34m\u001b[1mwandb\u001b[0m: \tbatch_size: 16\n",
      "\u001b[34m\u001b[1mwandb\u001b[0m: \tepochs: 5\n",
      "\u001b[34m\u001b[1mwandb\u001b[0m: \thidden_layer_size: 32\n",
      "\u001b[34m\u001b[1mwandb\u001b[0m: \thidden_layers: 5\n",
      "\u001b[34m\u001b[1mwandb\u001b[0m: \tlr: 0.0001\n",
      "\u001b[34m\u001b[1mwandb\u001b[0m: \toptimiser: adam\n",
      "\u001b[34m\u001b[1mwandb\u001b[0m: \tweight_decay: 0.5\n",
      "\u001b[34m\u001b[1mwandb\u001b[0m: \tweight_init: xavier\n"
     ]
    },
    {
     "data": {
      "text/html": [
       "\n",
       "                Tracking run with wandb version 0.10.22<br/>\n",
       "                Syncing run <strong style=\"color:#cdcd00\">hello</strong> to <a href=\"https://wandb.ai\" target=\"_blank\">Weights & Biases</a> <a href=\"https://docs.wandb.com/integrations/jupyter.html\" target=\"_blank\">(Documentation)</a>.<br/>\n",
       "                Project page: <a href=\"https://wandb.ai/notarchana/CS6910-A1\" target=\"_blank\">https://wandb.ai/notarchana/CS6910-A1</a><br/>\n",
       "                Sweep page: <a href=\"https://wandb.ai/notarchana/CS6910-A1/sweeps/wnukyq05\" target=\"_blank\">https://wandb.ai/notarchana/CS6910-A1/sweeps/wnukyq05</a><br/>\n",
       "Run page: <a href=\"https://wandb.ai/notarchana/CS6910-A1/runs/r8b8xbta\" target=\"_blank\">https://wandb.ai/notarchana/CS6910-A1/runs/r8b8xbta</a><br/>\n",
       "                Run data is saved locally in <code>/home/krishna/iit/sem6/dl/wandb/run-20210312_133455-r8b8xbta</code><br/><br/>\n",
       "            "
      ],
      "text/plain": [
       "<IPython.core.display.HTML object>"
      ]
     },
     "metadata": {},
     "output_type": "display_data"
    },
    {
     "name": "stderr",
     "output_type": "stream",
     "text": [
      "\u001b[34m\u001b[1mwandb\u001b[0m: \u001b[33mWARNING\u001b[0m Calling run.save without any arguments is deprecated.Changes to attributes are automatically persisted.\n"
     ]
    },
    {
     "name": "stdout",
     "output_type": "stream",
     "text": [
      "model building done\n",
      "Epoch 0 done: Loss = 0.01720096731299612\n",
      "Epoch 1 done: Loss = 0.014553540551678816\n",
      "Epoch 2 done: Loss = 0.013338930257927373\n",
      "Epoch 3 done: Loss = 0.012631647724884792\n",
      "Epoch 4 done: Loss = 0.012149658605043512\n",
      "model training done\n"
     ]
    },
    {
     "data": {
      "text/html": [
       "<br/>Waiting for W&B process to finish, PID 107395<br/>Program ended successfully."
      ],
      "text/plain": [
       "<IPython.core.display.HTML object>"
      ]
     },
     "metadata": {},
     "output_type": "display_data"
    },
    {
     "data": {
      "application/vnd.jupyter.widget-view+json": {
       "model_id": "",
       "version_major": 2,
       "version_minor": 0
      },
      "text/plain": [
       "VBox(children=(Label(value=' 0.00MB of 0.00MB uploaded (0.00MB deduped)\\r'), FloatProgress(value=1.0, max=1.0)…"
      ]
     },
     "metadata": {},
     "output_type": "display_data"
    },
    {
     "data": {
      "text/html": [
       "Find user logs for this run at: <code>/home/krishna/iit/sem6/dl/wandb/run-20210312_133455-r8b8xbta/logs/debug.log</code>"
      ],
      "text/plain": [
       "<IPython.core.display.HTML object>"
      ]
     },
     "metadata": {},
     "output_type": "display_data"
    },
    {
     "data": {
      "text/html": [
       "Find internal logs for this run at: <code>/home/krishna/iit/sem6/dl/wandb/run-20210312_133455-r8b8xbta/logs/debug-internal.log</code>"
      ],
      "text/plain": [
       "<IPython.core.display.HTML object>"
      ]
     },
     "metadata": {},
     "output_type": "display_data"
    },
    {
     "data": {
      "text/html": [
       "<h3>Run summary:</h3><br/><style>\n",
       "    table.wandb td:nth-child(1) { padding: 0 10px; text-align: right }\n",
       "    </style><table class=\"wandb\">\n",
       "<tr><td>train accuracy</td><td>0.83646</td></tr><tr><td>validation accuracy</td><td>0.83133</td></tr><tr><td>train loss</td><td>0.01215</td></tr><tr><td>val loss</td><td>0.01232</td></tr><tr><td>_runtime</td><td>31</td></tr><tr><td>_timestamp</td><td>1615536326</td></tr><tr><td>_step</td><td>4</td></tr></table>"
      ],
      "text/plain": [
       "<IPython.core.display.HTML object>"
      ]
     },
     "metadata": {},
     "output_type": "display_data"
    },
    {
     "data": {
      "text/html": [
       "<h3>Run history:</h3><br/><style>\n",
       "    table.wandb td:nth-child(1) { padding: 0 10px; text-align: right }\n",
       "    </style><table class=\"wandb\">\n",
       "<tr><td>train accuracy</td><td>▁▅▇▇█</td></tr><tr><td>validation accuracy</td><td>▁▅▇▇█</td></tr><tr><td>train loss</td><td>█▄▃▂▁</td></tr><tr><td>val loss</td><td>█▄▃▂▁</td></tr><tr><td>_runtime</td><td>▁▂▄▆█</td></tr><tr><td>_timestamp</td><td>▁▂▄▆█</td></tr><tr><td>_step</td><td>▁▃▅▆█</td></tr></table><br/>"
      ],
      "text/plain": [
       "<IPython.core.display.HTML object>"
      ]
     },
     "metadata": {},
     "output_type": "display_data"
    },
    {
     "data": {
      "text/html": [
       "Synced 5 W&B file(s), 0 media file(s), 0 artifact file(s) and 0 other file(s)"
      ],
      "text/plain": [
       "<IPython.core.display.HTML object>"
      ]
     },
     "metadata": {},
     "output_type": "display_data"
    },
    {
     "data": {
      "text/html": [
       "\n",
       "                    <br/>Synced <strong style=\"color:#cdcd00\">hello</strong>: <a href=\"https://wandb.ai/notarchana/CS6910-A1/runs/r8b8xbta\" target=\"_blank\">https://wandb.ai/notarchana/CS6910-A1/runs/r8b8xbta</a><br/>\n",
       "                "
      ],
      "text/plain": [
       "<IPython.core.display.HTML object>"
      ]
     },
     "metadata": {},
     "output_type": "display_data"
    },
    {
     "name": "stderr",
     "output_type": "stream",
     "text": [
      "\u001b[34m\u001b[1mwandb\u001b[0m: Agent Starting Run: pl4wmfz6 with config:\n",
      "\u001b[34m\u001b[1mwandb\u001b[0m: \tactivation: tanh\n",
      "\u001b[34m\u001b[1mwandb\u001b[0m: \tbatch_size: 16\n",
      "\u001b[34m\u001b[1mwandb\u001b[0m: \tepochs: 5\n",
      "\u001b[34m\u001b[1mwandb\u001b[0m: \thidden_layer_size: 128\n",
      "\u001b[34m\u001b[1mwandb\u001b[0m: \thidden_layers: 3\n",
      "\u001b[34m\u001b[1mwandb\u001b[0m: \tlr: 0.001\n",
      "\u001b[34m\u001b[1mwandb\u001b[0m: \toptimiser: rmsprop\n",
      "\u001b[34m\u001b[1mwandb\u001b[0m: \tweight_decay: 0.0005\n",
      "\u001b[34m\u001b[1mwandb\u001b[0m: \tweight_init: xavier\n"
     ]
    },
    {
     "data": {
      "text/html": [
       "\n",
       "                Tracking run with wandb version 0.10.22<br/>\n",
       "                Syncing run <strong style=\"color:#cdcd00\">hello</strong> to <a href=\"https://wandb.ai\" target=\"_blank\">Weights & Biases</a> <a href=\"https://docs.wandb.com/integrations/jupyter.html\" target=\"_blank\">(Documentation)</a>.<br/>\n",
       "                Project page: <a href=\"https://wandb.ai/notarchana/CS6910-A1\" target=\"_blank\">https://wandb.ai/notarchana/CS6910-A1</a><br/>\n",
       "                Sweep page: <a href=\"https://wandb.ai/notarchana/CS6910-A1/sweeps/wnukyq05\" target=\"_blank\">https://wandb.ai/notarchana/CS6910-A1/sweeps/wnukyq05</a><br/>\n",
       "Run page: <a href=\"https://wandb.ai/notarchana/CS6910-A1/runs/pl4wmfz6\" target=\"_blank\">https://wandb.ai/notarchana/CS6910-A1/runs/pl4wmfz6</a><br/>\n",
       "                Run data is saved locally in <code>/home/krishna/iit/sem6/dl/wandb/run-20210312_133533-pl4wmfz6</code><br/><br/>\n",
       "            "
      ],
      "text/plain": [
       "<IPython.core.display.HTML object>"
      ]
     },
     "metadata": {},
     "output_type": "display_data"
    },
    {
     "name": "stderr",
     "output_type": "stream",
     "text": [
      "\u001b[34m\u001b[1mwandb\u001b[0m: \u001b[33mWARNING\u001b[0m Calling run.save without any arguments is deprecated.Changes to attributes are automatically persisted.\n"
     ]
    },
    {
     "name": "stdout",
     "output_type": "stream",
     "text": [
      "model building done\n",
      "Epoch 0 done: Loss = 0.010512507346557048\n",
      "Epoch 1 done: Loss = 0.009677234692215996\n",
      "Epoch 2 done: Loss = 0.0086930059737355\n",
      "Epoch 3 done: Loss = 0.008361380168367403\n",
      "Epoch 4 done: Loss = 0.008545280800455394\n",
      "model training done\n"
     ]
    },
    {
     "data": {
      "text/html": [
       "<br/>Waiting for W&B process to finish, PID 107438<br/>Program ended successfully."
      ],
      "text/plain": [
       "<IPython.core.display.HTML object>"
      ]
     },
     "metadata": {},
     "output_type": "display_data"
    },
    {
     "data": {
      "application/vnd.jupyter.widget-view+json": {
       "model_id": "",
       "version_major": 2,
       "version_minor": 0
      },
      "text/plain": [
       "VBox(children=(Label(value=' 0.00MB of 0.00MB uploaded (0.00MB deduped)\\r'), FloatProgress(value=1.0, max=1.0)…"
      ]
     },
     "metadata": {},
     "output_type": "display_data"
    },
    {
     "data": {
      "text/html": [
       "Find user logs for this run at: <code>/home/krishna/iit/sem6/dl/wandb/run-20210312_133533-pl4wmfz6/logs/debug.log</code>"
      ],
      "text/plain": [
       "<IPython.core.display.HTML object>"
      ]
     },
     "metadata": {},
     "output_type": "display_data"
    },
    {
     "data": {
      "text/html": [
       "Find internal logs for this run at: <code>/home/krishna/iit/sem6/dl/wandb/run-20210312_133533-pl4wmfz6/logs/debug-internal.log</code>"
      ],
      "text/plain": [
       "<IPython.core.display.HTML object>"
      ]
     },
     "metadata": {},
     "output_type": "display_data"
    },
    {
     "data": {
      "text/html": [
       "<h3>Run summary:</h3><br/><style>\n",
       "    table.wandb td:nth-child(1) { padding: 0 10px; text-align: right }\n",
       "    </style><table class=\"wandb\">\n",
       "<tr><td>train accuracy</td><td>0.88306</td></tr><tr><td>validation accuracy</td><td>0.86583</td></tr><tr><td>train loss</td><td>0.00855</td></tr><tr><td>val loss</td><td>0.00971</td></tr><tr><td>_runtime</td><td>60</td></tr><tr><td>_timestamp</td><td>1615536393</td></tr><tr><td>_step</td><td>4</td></tr></table>"
      ],
      "text/plain": [
       "<IPython.core.display.HTML object>"
      ]
     },
     "metadata": {},
     "output_type": "display_data"
    },
    {
     "data": {
      "text/html": [
       "<h3>Run history:</h3><br/><style>\n",
       "    table.wandb td:nth-child(1) { padding: 0 10px; text-align: right }\n",
       "    </style><table class=\"wandb\">\n",
       "<tr><td>train accuracy</td><td>▁▃▇█▇</td></tr><tr><td>validation accuracy</td><td>▁▃▇█▇</td></tr><tr><td>train loss</td><td>█▅▂▁▂</td></tr><tr><td>val loss</td><td>█▆▂▁▂</td></tr><tr><td>_runtime</td><td>▁▃▄▆█</td></tr><tr><td>_timestamp</td><td>▁▃▄▆█</td></tr><tr><td>_step</td><td>▁▃▅▆█</td></tr></table><br/>"
      ],
      "text/plain": [
       "<IPython.core.display.HTML object>"
      ]
     },
     "metadata": {},
     "output_type": "display_data"
    },
    {
     "data": {
      "text/html": [
       "Synced 5 W&B file(s), 0 media file(s), 0 artifact file(s) and 0 other file(s)"
      ],
      "text/plain": [
       "<IPython.core.display.HTML object>"
      ]
     },
     "metadata": {},
     "output_type": "display_data"
    },
    {
     "data": {
      "text/html": [
       "\n",
       "                    <br/>Synced <strong style=\"color:#cdcd00\">hello</strong>: <a href=\"https://wandb.ai/notarchana/CS6910-A1/runs/pl4wmfz6\" target=\"_blank\">https://wandb.ai/notarchana/CS6910-A1/runs/pl4wmfz6</a><br/>\n",
       "                "
      ],
      "text/plain": [
       "<IPython.core.display.HTML object>"
      ]
     },
     "metadata": {},
     "output_type": "display_data"
    },
    {
     "name": "stderr",
     "output_type": "stream",
     "text": [
      "\u001b[34m\u001b[1mwandb\u001b[0m: Agent Starting Run: wpvvu5pk with config:\n",
      "\u001b[34m\u001b[1mwandb\u001b[0m: \tactivation: sigmoid\n",
      "\u001b[34m\u001b[1mwandb\u001b[0m: \tbatch_size: 64\n",
      "\u001b[34m\u001b[1mwandb\u001b[0m: \tepochs: 10\n",
      "\u001b[34m\u001b[1mwandb\u001b[0m: \thidden_layer_size: 32\n",
      "\u001b[34m\u001b[1mwandb\u001b[0m: \thidden_layers: 3\n",
      "\u001b[34m\u001b[1mwandb\u001b[0m: \tlr: 0.001\n",
      "\u001b[34m\u001b[1mwandb\u001b[0m: \toptimiser: adam\n",
      "\u001b[34m\u001b[1mwandb\u001b[0m: \tweight_decay: 0.0005\n",
      "\u001b[34m\u001b[1mwandb\u001b[0m: \tweight_init: xavier\n"
     ]
    },
    {
     "data": {
      "text/html": [
       "\n",
       "                Tracking run with wandb version 0.10.22<br/>\n",
       "                Syncing run <strong style=\"color:#cdcd00\">hello</strong> to <a href=\"https://wandb.ai\" target=\"_blank\">Weights & Biases</a> <a href=\"https://docs.wandb.com/integrations/jupyter.html\" target=\"_blank\">(Documentation)</a>.<br/>\n",
       "                Project page: <a href=\"https://wandb.ai/notarchana/CS6910-A1\" target=\"_blank\">https://wandb.ai/notarchana/CS6910-A1</a><br/>\n",
       "                Sweep page: <a href=\"https://wandb.ai/notarchana/CS6910-A1/sweeps/wnukyq05\" target=\"_blank\">https://wandb.ai/notarchana/CS6910-A1/sweeps/wnukyq05</a><br/>\n",
       "Run page: <a href=\"https://wandb.ai/notarchana/CS6910-A1/runs/wpvvu5pk\" target=\"_blank\">https://wandb.ai/notarchana/CS6910-A1/runs/wpvvu5pk</a><br/>\n",
       "                Run data is saved locally in <code>/home/krishna/iit/sem6/dl/wandb/run-20210312_133641-wpvvu5pk</code><br/><br/>\n",
       "            "
      ],
      "text/plain": [
       "<IPython.core.display.HTML object>"
      ]
     },
     "metadata": {},
     "output_type": "display_data"
    },
    {
     "name": "stderr",
     "output_type": "stream",
     "text": [
      "\u001b[34m\u001b[1mwandb\u001b[0m: \u001b[33mWARNING\u001b[0m Calling run.save without any arguments is deprecated.Changes to attributes are automatically persisted.\n"
     ]
    },
    {
     "name": "stdout",
     "output_type": "stream",
     "text": [
      "model building done\n",
      "Epoch 0 done: Loss = 0.02369835458974032\n",
      "Epoch 1 done: Loss = 0.017638650410202784\n",
      "Epoch 2 done: Loss = 0.015527026194028973\n",
      "Epoch 3 done: Loss = 0.014372269692915362\n",
      "Epoch 4 done: Loss = 0.013478838208489701\n",
      "Epoch 5 done: Loss = 0.01268795470159331\n",
      "Epoch 6 done: Loss = 0.01207413842351361\n",
      "Epoch 7 done: Loss = 0.011620990432082298\n",
      "Epoch 8 done: Loss = 0.011276516606717024\n",
      "Epoch 9 done: Loss = 0.011003565884584067\n",
      "model training done\n"
     ]
    },
    {
     "data": {
      "text/html": [
       "<br/>Waiting for W&B process to finish, PID 107479<br/>Program ended successfully."
      ],
      "text/plain": [
       "<IPython.core.display.HTML object>"
      ]
     },
     "metadata": {},
     "output_type": "display_data"
    },
    {
     "data": {
      "application/vnd.jupyter.widget-view+json": {
       "model_id": "",
       "version_major": 2,
       "version_minor": 0
      },
      "text/plain": [
       "VBox(children=(Label(value=' 0.00MB of 0.00MB uploaded (0.00MB deduped)\\r'), FloatProgress(value=1.0, max=1.0)…"
      ]
     },
     "metadata": {},
     "output_type": "display_data"
    },
    {
     "data": {
      "text/html": [
       "Find user logs for this run at: <code>/home/krishna/iit/sem6/dl/wandb/run-20210312_133641-wpvvu5pk/logs/debug.log</code>"
      ],
      "text/plain": [
       "<IPython.core.display.HTML object>"
      ]
     },
     "metadata": {},
     "output_type": "display_data"
    },
    {
     "data": {
      "text/html": [
       "Find internal logs for this run at: <code>/home/krishna/iit/sem6/dl/wandb/run-20210312_133641-wpvvu5pk/logs/debug-internal.log</code>"
      ],
      "text/plain": [
       "<IPython.core.display.HTML object>"
      ]
     },
     "metadata": {},
     "output_type": "display_data"
    },
    {
     "data": {
      "text/html": [
       "<h3>Run summary:</h3><br/><style>\n",
       "    table.wandb td:nth-child(1) { padding: 0 10px; text-align: right }\n",
       "    </style><table class=\"wandb\">\n",
       "<tr><td>train accuracy</td><td>0.852</td></tr><tr><td>validation accuracy</td><td>0.84067</td></tr><tr><td>train loss</td><td>0.011</td></tr><tr><td>val loss</td><td>0.01158</td></tr><tr><td>_runtime</td><td>19</td></tr><tr><td>_timestamp</td><td>1615536420</td></tr><tr><td>_step</td><td>9</td></tr></table>"
      ],
      "text/plain": [
       "<IPython.core.display.HTML object>"
      ]
     },
     "metadata": {},
     "output_type": "display_data"
    },
    {
     "data": {
      "text/html": [
       "<h3>Run history:</h3><br/><style>\n",
       "    table.wandb td:nth-child(1) { padding: 0 10px; text-align: right }\n",
       "    </style><table class=\"wandb\">\n",
       "<tr><td>train accuracy</td><td>▁▄▅▆▇▇▇███</td></tr><tr><td>validation accuracy</td><td>▁▅▆▆▇▇▇███</td></tr><tr><td>train loss</td><td>█▅▃▃▂▂▂▁▁▁</td></tr><tr><td>val loss</td><td>█▅▃▃▂▂▂▁▁▁</td></tr><tr><td>_runtime</td><td>▁▁▂▃▄▅▆▇██</td></tr><tr><td>_timestamp</td><td>▁▁▂▃▄▅▆▇██</td></tr><tr><td>_step</td><td>▁▂▃▃▄▅▆▆▇█</td></tr></table><br/>"
      ],
      "text/plain": [
       "<IPython.core.display.HTML object>"
      ]
     },
     "metadata": {},
     "output_type": "display_data"
    },
    {
     "data": {
      "text/html": [
       "Synced 5 W&B file(s), 0 media file(s), 0 artifact file(s) and 0 other file(s)"
      ],
      "text/plain": [
       "<IPython.core.display.HTML object>"
      ]
     },
     "metadata": {},
     "output_type": "display_data"
    },
    {
     "data": {
      "text/html": [
       "\n",
       "                    <br/>Synced <strong style=\"color:#cdcd00\">hello</strong>: <a href=\"https://wandb.ai/notarchana/CS6910-A1/runs/wpvvu5pk\" target=\"_blank\">https://wandb.ai/notarchana/CS6910-A1/runs/wpvvu5pk</a><br/>\n",
       "                "
      ],
      "text/plain": [
       "<IPython.core.display.HTML object>"
      ]
     },
     "metadata": {},
     "output_type": "display_data"
    },
    {
     "name": "stderr",
     "output_type": "stream",
     "text": [
      "\u001b[34m\u001b[1mwandb\u001b[0m: Agent Starting Run: hj353du0 with config:\n",
      "\u001b[34m\u001b[1mwandb\u001b[0m: \tactivation: relu\n",
      "\u001b[34m\u001b[1mwandb\u001b[0m: \tbatch_size: 64\n",
      "\u001b[34m\u001b[1mwandb\u001b[0m: \tepochs: 10\n",
      "\u001b[34m\u001b[1mwandb\u001b[0m: \thidden_layer_size: 128\n",
      "\u001b[34m\u001b[1mwandb\u001b[0m: \thidden_layers: 4\n",
      "\u001b[34m\u001b[1mwandb\u001b[0m: \tlr: 0.001\n",
      "\u001b[34m\u001b[1mwandb\u001b[0m: \toptimiser: nesterov\n",
      "\u001b[34m\u001b[1mwandb\u001b[0m: \tweight_decay: 0\n",
      "\u001b[34m\u001b[1mwandb\u001b[0m: \tweight_init: xavier\n"
     ]
    },
    {
     "data": {
      "text/html": [
       "\n",
       "                Tracking run with wandb version 0.10.22<br/>\n",
       "                Syncing run <strong style=\"color:#cdcd00\">hello</strong> to <a href=\"https://wandb.ai\" target=\"_blank\">Weights & Biases</a> <a href=\"https://docs.wandb.com/integrations/jupyter.html\" target=\"_blank\">(Documentation)</a>.<br/>\n",
       "                Project page: <a href=\"https://wandb.ai/notarchana/CS6910-A1\" target=\"_blank\">https://wandb.ai/notarchana/CS6910-A1</a><br/>\n",
       "                Sweep page: <a href=\"https://wandb.ai/notarchana/CS6910-A1/sweeps/wnukyq05\" target=\"_blank\">https://wandb.ai/notarchana/CS6910-A1/sweeps/wnukyq05</a><br/>\n",
       "Run page: <a href=\"https://wandb.ai/notarchana/CS6910-A1/runs/hj353du0\" target=\"_blank\">https://wandb.ai/notarchana/CS6910-A1/runs/hj353du0</a><br/>\n",
       "                Run data is saved locally in <code>/home/krishna/iit/sem6/dl/wandb/run-20210312_133707-hj353du0</code><br/><br/>\n",
       "            "
      ],
      "text/plain": [
       "<IPython.core.display.HTML object>"
      ]
     },
     "metadata": {},
     "output_type": "display_data"
    },
    {
     "name": "stderr",
     "output_type": "stream",
     "text": [
      "\u001b[34m\u001b[1mwandb\u001b[0m: \u001b[33mWARNING\u001b[0m Calling run.save without any arguments is deprecated.Changes to attributes are automatically persisted.\n"
     ]
    },
    {
     "name": "stdout",
     "output_type": "stream",
     "text": [
      "model building done\n",
      "Epoch 0 done: Loss = 0.024160272222037895\n",
      "Epoch 1 done: Loss = 0.016516889266065198\n",
      "Epoch 2 done: Loss = 0.013892713126051332\n",
      "Epoch 3 done: Loss = 0.012717379878329764\n",
      "Epoch 4 done: Loss = 0.011973129906811871\n",
      "Epoch 5 done: Loss = 0.011450388808689467\n",
      "Epoch 6 done: Loss = 0.01105653508319129\n",
      "Epoch 7 done: Loss = 0.010745997140131967\n",
      "Epoch 8 done: Loss = 0.010489094472364057\n",
      "Epoch 9 done: Loss = 0.010263391582556862\n",
      "model training done\n"
     ]
    },
    {
     "data": {
      "text/html": [
       "<br/>Waiting for W&B process to finish, PID 107516<br/>Program ended successfully."
      ],
      "text/plain": [
       "<IPython.core.display.HTML object>"
      ]
     },
     "metadata": {},
     "output_type": "display_data"
    },
    {
     "data": {
      "application/vnd.jupyter.widget-view+json": {
       "model_id": "",
       "version_major": 2,
       "version_minor": 0
      },
      "text/plain": [
       "VBox(children=(Label(value=' 0.00MB of 0.00MB uploaded (0.00MB deduped)\\r'), FloatProgress(value=1.0, max=1.0)…"
      ]
     },
     "metadata": {},
     "output_type": "display_data"
    },
    {
     "data": {
      "text/html": [
       "Find user logs for this run at: <code>/home/krishna/iit/sem6/dl/wandb/run-20210312_133707-hj353du0/logs/debug.log</code>"
      ],
      "text/plain": [
       "<IPython.core.display.HTML object>"
      ]
     },
     "metadata": {},
     "output_type": "display_data"
    },
    {
     "data": {
      "text/html": [
       "Find internal logs for this run at: <code>/home/krishna/iit/sem6/dl/wandb/run-20210312_133707-hj353du0/logs/debug-internal.log</code>"
      ],
      "text/plain": [
       "<IPython.core.display.HTML object>"
      ]
     },
     "metadata": {},
     "output_type": "display_data"
    },
    {
     "data": {
      "text/html": [
       "<h3>Run summary:</h3><br/><style>\n",
       "    table.wandb td:nth-child(1) { padding: 0 10px; text-align: right }\n",
       "    </style><table class=\"wandb\">\n",
       "<tr><td>train accuracy</td><td>0.86085</td></tr><tr><td>validation accuracy</td><td>0.85217</td></tr><tr><td>train loss</td><td>0.01026</td></tr><tr><td>val loss</td><td>0.01092</td></tr><tr><td>_runtime</td><td>48</td></tr><tr><td>_timestamp</td><td>1615536475</td></tr><tr><td>_step</td><td>9</td></tr></table>"
      ],
      "text/plain": [
       "<IPython.core.display.HTML object>"
      ]
     },
     "metadata": {},
     "output_type": "display_data"
    },
    {
     "data": {
      "text/html": [
       "<h3>Run history:</h3><br/><style>\n",
       "    table.wandb td:nth-child(1) { padding: 0 10px; text-align: right }\n",
       "    </style><table class=\"wandb\">\n",
       "<tr><td>train accuracy</td><td>▁▅▆▇▇▇████</td></tr><tr><td>validation accuracy</td><td>▁▅▇▇▇█████</td></tr><tr><td>train loss</td><td>█▄▃▂▂▂▁▁▁▁</td></tr><tr><td>val loss</td><td>█▄▃▂▂▁▁▁▁▁</td></tr><tr><td>_runtime</td><td>▁▂▂▃▄▅▆▆▇█</td></tr><tr><td>_timestamp</td><td>▁▂▂▃▄▅▆▆▇█</td></tr><tr><td>_step</td><td>▁▂▃▃▄▅▆▆▇█</td></tr></table><br/>"
      ],
      "text/plain": [
       "<IPython.core.display.HTML object>"
      ]
     },
     "metadata": {},
     "output_type": "display_data"
    },
    {
     "data": {
      "text/html": [
       "Synced 5 W&B file(s), 0 media file(s), 0 artifact file(s) and 0 other file(s)"
      ],
      "text/plain": [
       "<IPython.core.display.HTML object>"
      ]
     },
     "metadata": {},
     "output_type": "display_data"
    },
    {
     "data": {
      "text/html": [
       "\n",
       "                    <br/>Synced <strong style=\"color:#cdcd00\">hello</strong>: <a href=\"https://wandb.ai/notarchana/CS6910-A1/runs/hj353du0\" target=\"_blank\">https://wandb.ai/notarchana/CS6910-A1/runs/hj353du0</a><br/>\n",
       "                "
      ],
      "text/plain": [
       "<IPython.core.display.HTML object>"
      ]
     },
     "metadata": {},
     "output_type": "display_data"
    },
    {
     "name": "stderr",
     "output_type": "stream",
     "text": [
      "\u001b[34m\u001b[1mwandb\u001b[0m: Agent Starting Run: hhw55c6b with config:\n",
      "\u001b[34m\u001b[1mwandb\u001b[0m: \tactivation: relu\n",
      "\u001b[34m\u001b[1mwandb\u001b[0m: \tbatch_size: 32\n",
      "\u001b[34m\u001b[1mwandb\u001b[0m: \tepochs: 10\n",
      "\u001b[34m\u001b[1mwandb\u001b[0m: \thidden_layer_size: 32\n",
      "\u001b[34m\u001b[1mwandb\u001b[0m: \thidden_layers: 5\n",
      "\u001b[34m\u001b[1mwandb\u001b[0m: \tlr: 0.0001\n",
      "\u001b[34m\u001b[1mwandb\u001b[0m: \toptimiser: adam\n",
      "\u001b[34m\u001b[1mwandb\u001b[0m: \tweight_decay: 0.5\n",
      "\u001b[34m\u001b[1mwandb\u001b[0m: \tweight_init: xavier\n"
     ]
    },
    {
     "data": {
      "text/html": [
       "\n",
       "                Tracking run with wandb version 0.10.22<br/>\n",
       "                Syncing run <strong style=\"color:#cdcd00\">hello</strong> to <a href=\"https://wandb.ai\" target=\"_blank\">Weights & Biases</a> <a href=\"https://docs.wandb.com/integrations/jupyter.html\" target=\"_blank\">(Documentation)</a>.<br/>\n",
       "                Project page: <a href=\"https://wandb.ai/notarchana/CS6910-A1\" target=\"_blank\">https://wandb.ai/notarchana/CS6910-A1</a><br/>\n",
       "                Sweep page: <a href=\"https://wandb.ai/notarchana/CS6910-A1/sweeps/wnukyq05\" target=\"_blank\">https://wandb.ai/notarchana/CS6910-A1/sweeps/wnukyq05</a><br/>\n",
       "Run page: <a href=\"https://wandb.ai/notarchana/CS6910-A1/runs/hhw55c6b\" target=\"_blank\">https://wandb.ai/notarchana/CS6910-A1/runs/hhw55c6b</a><br/>\n",
       "                Run data is saved locally in <code>/home/krishna/iit/sem6/dl/wandb/run-20210312_133802-hhw55c6b</code><br/><br/>\n",
       "            "
      ],
      "text/plain": [
       "<IPython.core.display.HTML object>"
      ]
     },
     "metadata": {},
     "output_type": "display_data"
    },
    {
     "name": "stderr",
     "output_type": "stream",
     "text": [
      "\u001b[34m\u001b[1mwandb\u001b[0m: \u001b[33mWARNING\u001b[0m Calling run.save without any arguments is deprecated.Changes to attributes are automatically persisted.\n"
     ]
    },
    {
     "name": "stdout",
     "output_type": "stream",
     "text": [
      "model building done\n",
      "Epoch 0 done: Loss = 0.018048424262793305\n",
      "Epoch 1 done: Loss = 0.0155177327335411\n",
      "Epoch 2 done: Loss = 0.014508029741112089\n",
      "Epoch 3 done: Loss = 0.013871782361206548\n",
      "Epoch 4 done: Loss = 0.013394346728389416\n",
      "Epoch 5 done: Loss = 0.0130065913571504\n",
      "Epoch 6 done: Loss = 0.01268299913030276\n",
      "Epoch 7 done: Loss = 0.01241182955322477\n",
      "Epoch 8 done: Loss = 0.01217870449269119\n",
      "Epoch 9 done: Loss = 0.01197305336368206\n",
      "model training done\n"
     ]
    },
    {
     "data": {
      "text/html": [
       "<br/>Waiting for W&B process to finish, PID 107560<br/>Program ended successfully."
      ],
      "text/plain": [
       "<IPython.core.display.HTML object>"
      ]
     },
     "metadata": {},
     "output_type": "display_data"
    },
    {
     "data": {
      "application/vnd.jupyter.widget-view+json": {
       "model_id": "",
       "version_major": 2,
       "version_minor": 0
      },
      "text/plain": [
       "VBox(children=(Label(value=' 0.00MB of 0.00MB uploaded (0.00MB deduped)\\r'), FloatProgress(value=1.0, max=1.0)…"
      ]
     },
     "metadata": {},
     "output_type": "display_data"
    },
    {
     "data": {
      "text/html": [
       "Find user logs for this run at: <code>/home/krishna/iit/sem6/dl/wandb/run-20210312_133802-hhw55c6b/logs/debug.log</code>"
      ],
      "text/plain": [
       "<IPython.core.display.HTML object>"
      ]
     },
     "metadata": {},
     "output_type": "display_data"
    },
    {
     "data": {
      "text/html": [
       "Find internal logs for this run at: <code>/home/krishna/iit/sem6/dl/wandb/run-20210312_133802-hhw55c6b/logs/debug-internal.log</code>"
      ],
      "text/plain": [
       "<IPython.core.display.HTML object>"
      ]
     },
     "metadata": {},
     "output_type": "display_data"
    },
    {
     "data": {
      "text/html": [
       "<h3>Run summary:</h3><br/><style>\n",
       "    table.wandb td:nth-child(1) { padding: 0 10px; text-align: right }\n",
       "    </style><table class=\"wandb\">\n",
       "<tr><td>train accuracy</td><td>0.83563</td></tr><tr><td>validation accuracy</td><td>0.82967</td></tr><tr><td>train loss</td><td>0.01197</td></tr><tr><td>val loss</td><td>0.01242</td></tr><tr><td>_runtime</td><td>31</td></tr><tr><td>_timestamp</td><td>1615536513</td></tr><tr><td>_step</td><td>9</td></tr></table>"
      ],
      "text/plain": [
       "<IPython.core.display.HTML object>"
      ]
     },
     "metadata": {},
     "output_type": "display_data"
    },
    {
     "data": {
      "text/html": [
       "<h3>Run history:</h3><br/><style>\n",
       "    table.wandb td:nth-child(1) { padding: 0 10px; text-align: right }\n",
       "    </style><table class=\"wandb\">\n",
       "<tr><td>train accuracy</td><td>▁▄▅▆▆▇▇▇██</td></tr><tr><td>validation accuracy</td><td>▁▄▅▅▆▇▇▇██</td></tr><tr><td>train loss</td><td>█▅▄▃▃▂▂▂▁▁</td></tr><tr><td>val loss</td><td>█▅▄▃▃▂▂▂▁▁</td></tr><tr><td>_runtime</td><td>▁▂▂▃▄▅▆▆▇█</td></tr><tr><td>_timestamp</td><td>▁▂▂▃▄▅▆▆▇█</td></tr><tr><td>_step</td><td>▁▂▃▃▄▅▆▆▇█</td></tr></table><br/>"
      ],
      "text/plain": [
       "<IPython.core.display.HTML object>"
      ]
     },
     "metadata": {},
     "output_type": "display_data"
    },
    {
     "data": {
      "text/html": [
       "Synced 5 W&B file(s), 0 media file(s), 0 artifact file(s) and 0 other file(s)"
      ],
      "text/plain": [
       "<IPython.core.display.HTML object>"
      ]
     },
     "metadata": {},
     "output_type": "display_data"
    },
    {
     "data": {
      "text/html": [
       "\n",
       "                    <br/>Synced <strong style=\"color:#cdcd00\">hello</strong>: <a href=\"https://wandb.ai/notarchana/CS6910-A1/runs/hhw55c6b\" target=\"_blank\">https://wandb.ai/notarchana/CS6910-A1/runs/hhw55c6b</a><br/>\n",
       "                "
      ],
      "text/plain": [
       "<IPython.core.display.HTML object>"
      ]
     },
     "metadata": {},
     "output_type": "display_data"
    },
    {
     "name": "stderr",
     "output_type": "stream",
     "text": [
      "\u001b[34m\u001b[1mwandb\u001b[0m: Agent Starting Run: yx2f6xy1 with config:\n",
      "\u001b[34m\u001b[1mwandb\u001b[0m: \tactivation: sigmoid\n",
      "\u001b[34m\u001b[1mwandb\u001b[0m: \tbatch_size: 32\n",
      "\u001b[34m\u001b[1mwandb\u001b[0m: \tepochs: 10\n",
      "\u001b[34m\u001b[1mwandb\u001b[0m: \thidden_layer_size: 32\n",
      "\u001b[34m\u001b[1mwandb\u001b[0m: \thidden_layers: 4\n",
      "\u001b[34m\u001b[1mwandb\u001b[0m: \tlr: 0.0001\n",
      "\u001b[34m\u001b[1mwandb\u001b[0m: \toptimiser: momentum\n",
      "\u001b[34m\u001b[1mwandb\u001b[0m: \tweight_decay: 0.5\n",
      "\u001b[34m\u001b[1mwandb\u001b[0m: \tweight_init: xavier\n"
     ]
    },
    {
     "data": {
      "text/html": [
       "\n",
       "                Tracking run with wandb version 0.10.22<br/>\n",
       "                Syncing run <strong style=\"color:#cdcd00\">hello</strong> to <a href=\"https://wandb.ai\" target=\"_blank\">Weights & Biases</a> <a href=\"https://docs.wandb.com/integrations/jupyter.html\" target=\"_blank\">(Documentation)</a>.<br/>\n",
       "                Project page: <a href=\"https://wandb.ai/notarchana/CS6910-A1\" target=\"_blank\">https://wandb.ai/notarchana/CS6910-A1</a><br/>\n",
       "                Sweep page: <a href=\"https://wandb.ai/notarchana/CS6910-A1/sweeps/wnukyq05\" target=\"_blank\">https://wandb.ai/notarchana/CS6910-A1/sweeps/wnukyq05</a><br/>\n",
       "Run page: <a href=\"https://wandb.ai/notarchana/CS6910-A1/runs/yx2f6xy1\" target=\"_blank\">https://wandb.ai/notarchana/CS6910-A1/runs/yx2f6xy1</a><br/>\n",
       "                Run data is saved locally in <code>/home/krishna/iit/sem6/dl/wandb/run-20210312_133840-yx2f6xy1</code><br/><br/>\n",
       "            "
      ],
      "text/plain": [
       "<IPython.core.display.HTML object>"
      ]
     },
     "metadata": {},
     "output_type": "display_data"
    },
    {
     "name": "stderr",
     "output_type": "stream",
     "text": [
      "\u001b[34m\u001b[1mwandb\u001b[0m: \u001b[33mWARNING\u001b[0m Calling run.save without any arguments is deprecated.Changes to attributes are automatically persisted.\n"
     ]
    },
    {
     "name": "stdout",
     "output_type": "stream",
     "text": [
      "model building done\n",
      "Epoch 0 done: Loss = 0.045001244808063064\n",
      "Epoch 1 done: Loss = 0.04499842815483215\n",
      "Epoch 2 done: Loss = 0.044995821797164465\n",
      "Epoch 3 done: Loss = 0.044993143845867\n",
      "Epoch 4 done: Loss = 0.044990370952971794\n",
      "Epoch 5 done: Loss = 0.04498748049810332\n",
      "Epoch 6 done: Loss = 0.0449844491663116\n",
      "Epoch 7 done: Loss = 0.04498125223607877\n",
      "Epoch 8 done: Loss = 0.04497786256487512\n",
      "Epoch 9 done: Loss = 0.04497424921017994\n",
      "model training done\n"
     ]
    },
    {
     "data": {
      "text/html": [
       "<br/>Waiting for W&B process to finish, PID 107602<br/>Program ended successfully."
      ],
      "text/plain": [
       "<IPython.core.display.HTML object>"
      ]
     },
     "metadata": {},
     "output_type": "display_data"
    },
    {
     "data": {
      "application/vnd.jupyter.widget-view+json": {
       "model_id": "",
       "version_major": 2,
       "version_minor": 0
      },
      "text/plain": [
       "VBox(children=(Label(value=' 0.00MB of 0.00MB uploaded (0.00MB deduped)\\r'), FloatProgress(value=1.0, max=1.0)…"
      ]
     },
     "metadata": {},
     "output_type": "display_data"
    },
    {
     "data": {
      "text/html": [
       "Find user logs for this run at: <code>/home/krishna/iit/sem6/dl/wandb/run-20210312_133840-yx2f6xy1/logs/debug.log</code>"
      ],
      "text/plain": [
       "<IPython.core.display.HTML object>"
      ]
     },
     "metadata": {},
     "output_type": "display_data"
    },
    {
     "data": {
      "text/html": [
       "Find internal logs for this run at: <code>/home/krishna/iit/sem6/dl/wandb/run-20210312_133840-yx2f6xy1/logs/debug-internal.log</code>"
      ],
      "text/plain": [
       "<IPython.core.display.HTML object>"
      ]
     },
     "metadata": {},
     "output_type": "display_data"
    },
    {
     "data": {
      "text/html": [
       "<h3>Run summary:</h3><br/><style>\n",
       "    table.wandb td:nth-child(1) { padding: 0 10px; text-align: right }\n",
       "    </style><table class=\"wandb\">\n",
       "<tr><td>train accuracy</td><td>0.10028</td></tr><tr><td>validation accuracy</td><td>0.0975</td></tr><tr><td>train loss</td><td>0.04497</td></tr><tr><td>val loss</td><td>0.04498</td></tr><tr><td>_runtime</td><td>27</td></tr><tr><td>_timestamp</td><td>1615536547</td></tr><tr><td>_step</td><td>9</td></tr></table>"
      ],
      "text/plain": [
       "<IPython.core.display.HTML object>"
      ]
     },
     "metadata": {},
     "output_type": "display_data"
    },
    {
     "data": {
      "text/html": [
       "<h3>Run history:</h3><br/><style>\n",
       "    table.wandb td:nth-child(1) { padding: 0 10px; text-align: right }\n",
       "    </style><table class=\"wandb\">\n",
       "<tr><td>train accuracy</td><td>▁▁▁▁▁▁▁▁▁▁</td></tr><tr><td>validation accuracy</td><td>▁▁▁▁▁▁▁▁▁▁</td></tr><tr><td>train loss</td><td>█▇▇▆▅▄▄▃▂▁</td></tr><tr><td>val loss</td><td>█▇▇▆▅▄▄▃▂▁</td></tr><tr><td>_runtime</td><td>▁▂▃▃▄▅▆▆▇█</td></tr><tr><td>_timestamp</td><td>▁▂▃▃▄▅▆▆▇█</td></tr><tr><td>_step</td><td>▁▂▃▃▄▅▆▆▇█</td></tr></table><br/>"
      ],
      "text/plain": [
       "<IPython.core.display.HTML object>"
      ]
     },
     "metadata": {},
     "output_type": "display_data"
    },
    {
     "data": {
      "text/html": [
       "Synced 5 W&B file(s), 0 media file(s), 0 artifact file(s) and 0 other file(s)"
      ],
      "text/plain": [
       "<IPython.core.display.HTML object>"
      ]
     },
     "metadata": {},
     "output_type": "display_data"
    },
    {
     "data": {
      "text/html": [
       "\n",
       "                    <br/>Synced <strong style=\"color:#cdcd00\">hello</strong>: <a href=\"https://wandb.ai/notarchana/CS6910-A1/runs/yx2f6xy1\" target=\"_blank\">https://wandb.ai/notarchana/CS6910-A1/runs/yx2f6xy1</a><br/>\n",
       "                "
      ],
      "text/plain": [
       "<IPython.core.display.HTML object>"
      ]
     },
     "metadata": {},
     "output_type": "display_data"
    },
    {
     "name": "stderr",
     "output_type": "stream",
     "text": [
      "\u001b[34m\u001b[1mwandb\u001b[0m: Agent Starting Run: xkafh7j4 with config:\n",
      "\u001b[34m\u001b[1mwandb\u001b[0m: \tactivation: tanh\n",
      "\u001b[34m\u001b[1mwandb\u001b[0m: \tbatch_size: 16\n",
      "\u001b[34m\u001b[1mwandb\u001b[0m: \tepochs: 10\n",
      "\u001b[34m\u001b[1mwandb\u001b[0m: \thidden_layer_size: 128\n",
      "\u001b[34m\u001b[1mwandb\u001b[0m: \thidden_layers: 5\n",
      "\u001b[34m\u001b[1mwandb\u001b[0m: \tlr: 0.0001\n",
      "\u001b[34m\u001b[1mwandb\u001b[0m: \toptimiser: nesterov\n",
      "\u001b[34m\u001b[1mwandb\u001b[0m: \tweight_decay: 0.0005\n",
      "\u001b[34m\u001b[1mwandb\u001b[0m: \tweight_init: xavier\n"
     ]
    },
    {
     "data": {
      "text/html": [
       "\n",
       "                Tracking run with wandb version 0.10.22<br/>\n",
       "                Syncing run <strong style=\"color:#cdcd00\">hello</strong> to <a href=\"https://wandb.ai\" target=\"_blank\">Weights & Biases</a> <a href=\"https://docs.wandb.com/integrations/jupyter.html\" target=\"_blank\">(Documentation)</a>.<br/>\n",
       "                Project page: <a href=\"https://wandb.ai/notarchana/CS6910-A1\" target=\"_blank\">https://wandb.ai/notarchana/CS6910-A1</a><br/>\n",
       "                Sweep page: <a href=\"https://wandb.ai/notarchana/CS6910-A1/sweeps/wnukyq05\" target=\"_blank\">https://wandb.ai/notarchana/CS6910-A1/sweeps/wnukyq05</a><br/>\n",
       "Run page: <a href=\"https://wandb.ai/notarchana/CS6910-A1/runs/xkafh7j4\" target=\"_blank\">https://wandb.ai/notarchana/CS6910-A1/runs/xkafh7j4</a><br/>\n",
       "                Run data is saved locally in <code>/home/krishna/iit/sem6/dl/wandb/run-20210312_133912-xkafh7j4</code><br/><br/>\n",
       "            "
      ],
      "text/plain": [
       "<IPython.core.display.HTML object>"
      ]
     },
     "metadata": {},
     "output_type": "display_data"
    },
    {
     "name": "stderr",
     "output_type": "stream",
     "text": [
      "\u001b[34m\u001b[1mwandb\u001b[0m: \u001b[33mWARNING\u001b[0m Calling run.save without any arguments is deprecated.Changes to attributes are automatically persisted.\n"
     ]
    },
    {
     "name": "stdout",
     "output_type": "stream",
     "text": [
      "model building done\n",
      "Epoch 0 done: Loss = 0.026495933784155188\n",
      "Epoch 1 done: Loss = 0.018699102828339444\n",
      "Epoch 2 done: Loss = 0.016042415307358997\n",
      "Epoch 3 done: Loss = 0.014589854106842744\n",
      "Epoch 4 done: Loss = 0.013656641697135628\n",
      "Epoch 5 done: Loss = 0.013012285623214166\n",
      "Epoch 6 done: Loss = 0.012529195898874333\n",
      "Epoch 7 done: Loss = 0.01214218134822943\n",
      "Epoch 8 done: Loss = 0.01181833169305926\n",
      "Epoch 9 done: Loss = 0.011540258560088253\n",
      "model training done\n"
     ]
    },
    {
     "data": {
      "text/html": [
       "<br/>Waiting for W&B process to finish, PID 107649<br/>Program ended successfully."
      ],
      "text/plain": [
       "<IPython.core.display.HTML object>"
      ]
     },
     "metadata": {},
     "output_type": "display_data"
    },
    {
     "data": {
      "application/vnd.jupyter.widget-view+json": {
       "model_id": "",
       "version_major": 2,
       "version_minor": 0
      },
      "text/plain": [
       "VBox(children=(Label(value=' 0.00MB of 0.00MB uploaded (0.00MB deduped)\\r'), FloatProgress(value=1.0, max=1.0)…"
      ]
     },
     "metadata": {},
     "output_type": "display_data"
    },
    {
     "data": {
      "text/html": [
       "Find user logs for this run at: <code>/home/krishna/iit/sem6/dl/wandb/run-20210312_133912-xkafh7j4/logs/debug.log</code>"
      ],
      "text/plain": [
       "<IPython.core.display.HTML object>"
      ]
     },
     "metadata": {},
     "output_type": "display_data"
    },
    {
     "data": {
      "text/html": [
       "Find internal logs for this run at: <code>/home/krishna/iit/sem6/dl/wandb/run-20210312_133912-xkafh7j4/logs/debug-internal.log</code>"
      ],
      "text/plain": [
       "<IPython.core.display.HTML object>"
      ]
     },
     "metadata": {},
     "output_type": "display_data"
    },
    {
     "data": {
      "text/html": [
       "<h3>Run summary:</h3><br/><style>\n",
       "    table.wandb td:nth-child(1) { padding: 0 10px; text-align: right }\n",
       "    </style><table class=\"wandb\">\n",
       "<tr><td>train accuracy</td><td>0.84015</td></tr><tr><td>validation accuracy</td><td>0.83367</td></tr><tr><td>train loss</td><td>0.01154</td></tr><tr><td>val loss</td><td>0.01189</td></tr><tr><td>_runtime</td><td>151</td></tr><tr><td>_timestamp</td><td>1615536703</td></tr><tr><td>_step</td><td>9</td></tr></table>"
      ],
      "text/plain": [
       "<IPython.core.display.HTML object>"
      ]
     },
     "metadata": {},
     "output_type": "display_data"
    },
    {
     "data": {
      "text/html": [
       "<h3>Run history:</h3><br/><style>\n",
       "    table.wandb td:nth-child(1) { padding: 0 10px; text-align: right }\n",
       "    </style><table class=\"wandb\">\n",
       "<tr><td>train accuracy</td><td>▁▅▆▇▇▇████</td></tr><tr><td>validation accuracy</td><td>▁▄▆▇▇▇▇███</td></tr><tr><td>train loss</td><td>█▄▃▂▂▂▁▁▁▁</td></tr><tr><td>val loss</td><td>█▄▃▂▂▂▁▁▁▁</td></tr><tr><td>_runtime</td><td>▁▂▃▃▄▅▆▆▇█</td></tr><tr><td>_timestamp</td><td>▁▂▃▃▄▅▆▆▇█</td></tr><tr><td>_step</td><td>▁▂▃▃▄▅▆▆▇█</td></tr></table><br/>"
      ],
      "text/plain": [
       "<IPython.core.display.HTML object>"
      ]
     },
     "metadata": {},
     "output_type": "display_data"
    },
    {
     "data": {
      "text/html": [
       "Synced 5 W&B file(s), 0 media file(s), 0 artifact file(s) and 0 other file(s)"
      ],
      "text/plain": [
       "<IPython.core.display.HTML object>"
      ]
     },
     "metadata": {},
     "output_type": "display_data"
    },
    {
     "data": {
      "text/html": [
       "\n",
       "                    <br/>Synced <strong style=\"color:#cdcd00\">hello</strong>: <a href=\"https://wandb.ai/notarchana/CS6910-A1/runs/xkafh7j4\" target=\"_blank\">https://wandb.ai/notarchana/CS6910-A1/runs/xkafh7j4</a><br/>\n",
       "                "
      ],
      "text/plain": [
       "<IPython.core.display.HTML object>"
      ]
     },
     "metadata": {},
     "output_type": "display_data"
    },
    {
     "name": "stderr",
     "output_type": "stream",
     "text": [
      "\u001b[34m\u001b[1mwandb\u001b[0m: Agent Starting Run: zt3rgxkp with config:\n",
      "\u001b[34m\u001b[1mwandb\u001b[0m: \tactivation: sigmoid\n",
      "\u001b[34m\u001b[1mwandb\u001b[0m: \tbatch_size: 32\n",
      "\u001b[34m\u001b[1mwandb\u001b[0m: \tepochs: 5\n",
      "\u001b[34m\u001b[1mwandb\u001b[0m: \thidden_layer_size: 32\n",
      "\u001b[34m\u001b[1mwandb\u001b[0m: \thidden_layers: 3\n",
      "\u001b[34m\u001b[1mwandb\u001b[0m: \tlr: 0.001\n",
      "\u001b[34m\u001b[1mwandb\u001b[0m: \toptimiser: momentum\n",
      "\u001b[34m\u001b[1mwandb\u001b[0m: \tweight_decay: 0.5\n",
      "\u001b[34m\u001b[1mwandb\u001b[0m: \tweight_init: xavier\n"
     ]
    },
    {
     "data": {
      "text/html": [
       "\n",
       "                Tracking run with wandb version 0.10.22<br/>\n",
       "                Syncing run <strong style=\"color:#cdcd00\">hello</strong> to <a href=\"https://wandb.ai\" target=\"_blank\">Weights & Biases</a> <a href=\"https://docs.wandb.com/integrations/jupyter.html\" target=\"_blank\">(Documentation)</a>.<br/>\n",
       "                Project page: <a href=\"https://wandb.ai/notarchana/CS6910-A1\" target=\"_blank\">https://wandb.ai/notarchana/CS6910-A1</a><br/>\n",
       "                Sweep page: <a href=\"https://wandb.ai/notarchana/CS6910-A1/sweeps/wnukyq05\" target=\"_blank\">https://wandb.ai/notarchana/CS6910-A1/sweeps/wnukyq05</a><br/>\n",
       "Run page: <a href=\"https://wandb.ai/notarchana/CS6910-A1/runs/zt3rgxkp\" target=\"_blank\">https://wandb.ai/notarchana/CS6910-A1/runs/zt3rgxkp</a><br/>\n",
       "                Run data is saved locally in <code>/home/krishna/iit/sem6/dl/wandb/run-20210312_134151-zt3rgxkp</code><br/><br/>\n",
       "            "
      ],
      "text/plain": [
       "<IPython.core.display.HTML object>"
      ]
     },
     "metadata": {},
     "output_type": "display_data"
    },
    {
     "name": "stderr",
     "output_type": "stream",
     "text": [
      "\u001b[34m\u001b[1mwandb\u001b[0m: \u001b[33mWARNING\u001b[0m Calling run.save without any arguments is deprecated.Changes to attributes are automatically persisted.\n"
     ]
    },
    {
     "name": "stdout",
     "output_type": "stream",
     "text": [
      "model building done\n",
      "Epoch 0 done: Loss = 0.04320068110805928\n",
      "Epoch 1 done: Loss = 0.025135585020948727\n",
      "Epoch 2 done: Loss = 0.017857458312962482\n",
      "Epoch 3 done: Loss = 0.014621211643933534\n",
      "Epoch 4 done: Loss = 0.012866207644624376\n",
      "model training done\n"
     ]
    },
    {
     "data": {
      "text/html": [
       "<br/>Waiting for W&B process to finish, PID 107710<br/>Program ended successfully."
      ],
      "text/plain": [
       "<IPython.core.display.HTML object>"
      ]
     },
     "metadata": {},
     "output_type": "display_data"
    },
    {
     "data": {
      "application/vnd.jupyter.widget-view+json": {
       "model_id": "",
       "version_major": 2,
       "version_minor": 0
      },
      "text/plain": [
       "VBox(children=(Label(value=' 0.00MB of 0.00MB uploaded (0.00MB deduped)\\r'), FloatProgress(value=1.0, max=1.0)…"
      ]
     },
     "metadata": {},
     "output_type": "display_data"
    },
    {
     "data": {
      "text/html": [
       "Find user logs for this run at: <code>/home/krishna/iit/sem6/dl/wandb/run-20210312_134151-zt3rgxkp/logs/debug.log</code>"
      ],
      "text/plain": [
       "<IPython.core.display.HTML object>"
      ]
     },
     "metadata": {},
     "output_type": "display_data"
    },
    {
     "data": {
      "text/html": [
       "Find internal logs for this run at: <code>/home/krishna/iit/sem6/dl/wandb/run-20210312_134151-zt3rgxkp/logs/debug-internal.log</code>"
      ],
      "text/plain": [
       "<IPython.core.display.HTML object>"
      ]
     },
     "metadata": {},
     "output_type": "display_data"
    },
    {
     "data": {
      "text/html": [
       "<h3>Run summary:</h3><br/><style>\n",
       "    table.wandb td:nth-child(1) { padding: 0 10px; text-align: right }\n",
       "    </style><table class=\"wandb\">\n",
       "<tr><td>train accuracy</td><td>0.82404</td></tr><tr><td>validation accuracy</td><td>0.811</td></tr><tr><td>train loss</td><td>0.01287</td></tr><tr><td>val loss</td><td>0.01352</td></tr><tr><td>_runtime</td><td>11</td></tr><tr><td>_timestamp</td><td>1615536722</td></tr><tr><td>_step</td><td>4</td></tr></table>"
      ],
      "text/plain": [
       "<IPython.core.display.HTML object>"
      ]
     },
     "metadata": {},
     "output_type": "display_data"
    },
    {
     "data": {
      "text/html": [
       "<h3>Run history:</h3><br/><style>\n",
       "    table.wandb td:nth-child(1) { padding: 0 10px; text-align: right }\n",
       "    </style><table class=\"wandb\">\n",
       "<tr><td>train accuracy</td><td>▁▆▇██</td></tr><tr><td>validation accuracy</td><td>▁▆▇██</td></tr><tr><td>train loss</td><td>█▄▂▁▁</td></tr><tr><td>val loss</td><td>█▄▂▁▁</td></tr><tr><td>_runtime</td><td>▁▃▅▆█</td></tr><tr><td>_timestamp</td><td>▁▃▅▆█</td></tr><tr><td>_step</td><td>▁▃▅▆█</td></tr></table><br/>"
      ],
      "text/plain": [
       "<IPython.core.display.HTML object>"
      ]
     },
     "metadata": {},
     "output_type": "display_data"
    },
    {
     "data": {
      "text/html": [
       "Synced 5 W&B file(s), 0 media file(s), 0 artifact file(s) and 0 other file(s)"
      ],
      "text/plain": [
       "<IPython.core.display.HTML object>"
      ]
     },
     "metadata": {},
     "output_type": "display_data"
    },
    {
     "data": {
      "text/html": [
       "\n",
       "                    <br/>Synced <strong style=\"color:#cdcd00\">hello</strong>: <a href=\"https://wandb.ai/notarchana/CS6910-A1/runs/zt3rgxkp\" target=\"_blank\">https://wandb.ai/notarchana/CS6910-A1/runs/zt3rgxkp</a><br/>\n",
       "                "
      ],
      "text/plain": [
       "<IPython.core.display.HTML object>"
      ]
     },
     "metadata": {},
     "output_type": "display_data"
    },
    {
     "name": "stderr",
     "output_type": "stream",
     "text": [
      "\u001b[34m\u001b[1mwandb\u001b[0m: Agent Starting Run: rqsr2chf with config:\n",
      "\u001b[34m\u001b[1mwandb\u001b[0m: \tactivation: tanh\n",
      "\u001b[34m\u001b[1mwandb\u001b[0m: \tbatch_size: 16\n",
      "\u001b[34m\u001b[1mwandb\u001b[0m: \tepochs: 10\n",
      "\u001b[34m\u001b[1mwandb\u001b[0m: \thidden_layer_size: 32\n",
      "\u001b[34m\u001b[1mwandb\u001b[0m: \thidden_layers: 3\n",
      "\u001b[34m\u001b[1mwandb\u001b[0m: \tlr: 0.001\n",
      "\u001b[34m\u001b[1mwandb\u001b[0m: \toptimiser: momentum\n",
      "\u001b[34m\u001b[1mwandb\u001b[0m: \tweight_decay: 0.0005\n",
      "\u001b[34m\u001b[1mwandb\u001b[0m: \tweight_init: xavier\n"
     ]
    },
    {
     "data": {
      "text/html": [
       "\n",
       "                Tracking run with wandb version 0.10.22<br/>\n",
       "                Syncing run <strong style=\"color:#cdcd00\">hello</strong> to <a href=\"https://wandb.ai\" target=\"_blank\">Weights & Biases</a> <a href=\"https://docs.wandb.com/integrations/jupyter.html\" target=\"_blank\">(Documentation)</a>.<br/>\n",
       "                Project page: <a href=\"https://wandb.ai/notarchana/CS6910-A1\" target=\"_blank\">https://wandb.ai/notarchana/CS6910-A1</a><br/>\n",
       "                Sweep page: <a href=\"https://wandb.ai/notarchana/CS6910-A1/sweeps/wnukyq05\" target=\"_blank\">https://wandb.ai/notarchana/CS6910-A1/sweeps/wnukyq05</a><br/>\n",
       "Run page: <a href=\"https://wandb.ai/notarchana/CS6910-A1/runs/rqsr2chf\" target=\"_blank\">https://wandb.ai/notarchana/CS6910-A1/runs/rqsr2chf</a><br/>\n",
       "                Run data is saved locally in <code>/home/krishna/iit/sem6/dl/wandb/run-20210312_134209-rqsr2chf</code><br/><br/>\n",
       "            "
      ],
      "text/plain": [
       "<IPython.core.display.HTML object>"
      ]
     },
     "metadata": {},
     "output_type": "display_data"
    },
    {
     "name": "stderr",
     "output_type": "stream",
     "text": [
      "\u001b[34m\u001b[1mwandb\u001b[0m: \u001b[33mWARNING\u001b[0m Calling run.save without any arguments is deprecated.Changes to attributes are automatically persisted.\n"
     ]
    },
    {
     "name": "stdout",
     "output_type": "stream",
     "text": [
      "model building done\n",
      "Epoch 0 done: Loss = 0.010869416148439136\n",
      "Epoch 1 done: Loss = 0.0098398103427849\n",
      "Epoch 2 done: Loss = 0.00948822599945552\n",
      "Epoch 3 done: Loss = 0.009008700920045057\n",
      "Epoch 4 done: Loss = 0.008970268574347712\n",
      "Epoch 5 done: Loss = 0.008622143516398643\n",
      "Epoch 6 done: Loss = 0.008575108239002231\n",
      "Epoch 7 done: Loss = 0.00842991202685229\n",
      "Epoch 8 done: Loss = 0.008304637856988402\n",
      "Epoch 9 done: Loss = 0.008130285701313446\n",
      "model training done\n"
     ]
    },
    {
     "data": {
      "text/html": [
       "<br/>Waiting for W&B process to finish, PID 107744<br/>Program ended successfully."
      ],
      "text/plain": [
       "<IPython.core.display.HTML object>"
      ]
     },
     "metadata": {},
     "output_type": "display_data"
    },
    {
     "data": {
      "application/vnd.jupyter.widget-view+json": {
       "model_id": "2f901b45c9414914886d54b32d4f3bc5",
       "version_major": 2,
       "version_minor": 0
      },
      "text/plain": [
       "VBox(children=(Label(value=' 0.00MB of 0.00MB uploaded (0.00MB deduped)\\r'), FloatProgress(value=1.0, max=1.0)…"
      ]
     },
     "metadata": {},
     "output_type": "display_data"
    },
    {
     "name": "stderr",
     "output_type": "stream",
     "text": [
      "\u001b[34m\u001b[1mwandb\u001b[0m: Ctrl + C detected. Stopping sweep.\n"
     ]
    }
   ],
   "source": [
    "wandb.agent(sweep_id, train,count=100)"
   ]
  },
  {
   "cell_type": "code",
   "execution_count": null,
   "metadata": {},
   "outputs": [],
   "source": []
  }
 ],
 "metadata": {
  "kernelspec": {
   "display_name": "Python 3",
   "language": "python",
   "name": "python3"
  },
  "language_info": {
   "codemirror_mode": {
    "name": "ipython",
    "version": 3
   },
   "file_extension": ".py",
   "mimetype": "text/x-python",
   "name": "python",
   "nbconvert_exporter": "python",
   "pygments_lexer": "ipython3",
   "version": "3.8.3"
  }
 },
 "nbformat": 4,
 "nbformat_minor": 4
}
