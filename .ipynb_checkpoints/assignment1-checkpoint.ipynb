{
 "cells": [
  {
   "cell_type": "code",
   "execution_count": 2,
   "metadata": {},
   "outputs": [],
   "source": [
    "import numpy as np\n",
    "import matplotlib.pyplot as plt"
   ]
  },
  {
   "cell_type": "code",
   "execution_count": 63,
   "metadata": {},
   "outputs": [],
   "source": [
    "from tensorflow.keras.datasets import fashion_mnist\n",
    "((x_train, y_train), (x_test, y_test)) = fashion_mnist.load_data()"
   ]
  },
  {
   "cell_type": "code",
   "execution_count": 54,
   "metadata": {},
   "outputs": [
    {
     "data": {
      "image/png": "[encoded data removed]",
      "text/plain": [
       "<Figure size 720x720 with 10 Axes>"
      ]
     },
     "metadata": {
      "needs_background": "light"
     },
     "output_type": "display_data"
    }
   ],
   "source": [
    "class_names = ['T-shirt/top', 'Trouser', 'Pullover', 'Dress', 'Coat',\n",
    "               'Sandal', 'Shirt', 'Sneaker', 'Bag', 'Ankle boot']\n",
    "\n",
    "_, indicesList = np.unique(y_train, return_index=True)\n",
    "\n",
    "plt.figure(figsize=(10,10))\n",
    "for i in range(10):\n",
    "    plt.xticks([])\n",
    "    plt.yticks([])\n",
    "    plt.subplot(5,5,i+1)\n",
    "#     plt.grid(False)\n",
    "    plt.imshow(x_train[indicesList[i]] , cmap=plt.cm.binary)\n",
    "    plt.xlabel(class_names[i])\n",
    "plt.show()"
   ]
  },
  {
   "cell_type": "code",
   "execution_count": 3,
   "metadata": {},
   "outputs": [],
   "source": [
    "def sigmoid(x):\n",
    "    return 1/(1+np.exp(-x)) \n",
    "\n",
    "def sigmoid_grad(x):\n",
    "    a = sigmoid(x)\n",
    "    return a*(1-a)\n",
    "\n",
    "def tanh(x):\n",
    "    return np.tanh(x)\n",
    "\n",
    "def tanh_grad(x):\n",
    "    a = tanh(x)\n",
    "    return 1 - a*a\n",
    "\n",
    "def relu(x):\n",
    "    x[x<0] = 0\n",
    "    return x\n",
    "\n",
    "def relu_grad(x):\n",
    "    x[x<=0] = 0\n",
    "    x[x>0] = 1\n",
    "    return x"
   ]
  },
  {
   "cell_type": "code",
   "execution_count": 4,
   "metadata": {},
   "outputs": [],
   "source": [
    "activations = {\n",
    "    \"sigmoid\": [sigmoid,sigmoid_grad],\n",
    "    \"tanh\": [tanh,tanh_grad],\n",
    "    \"relu\": [relu,relu_grad]\n",
    "}"
   ]
  },
  {
   "cell_type": "code",
   "execution_count": 29,
   "metadata": {},
   "outputs": [],
   "source": [
    "def cross_entropy_loss(real,pred):\n",
    "    ret = -np.sum(np.multiply(real,np.log(pred)) , axis = 1)\n",
    "    return ret\n",
    "\n",
    "def cross_entropy_loss_grad(real,pred):\n",
    "    return -(real-pred)\n",
    "\n",
    "def mse_loss(real,pred):\n",
    "    ret = np.mean((pred-real)**2)/2\n",
    "    return ret\n",
    "    \n",
    "def mse_loss_grad(real,pred):\n",
    "    return pred-real"
   ]
  },
  {
   "cell_type": "code",
   "execution_count": 30,
   "metadata": {},
   "outputs": [],
   "source": [
    "losses = {\n",
    "    \"cross_entropy\":(cross_entropy_loss,cross_entropy_loss_grad),\n",
    "    \"mse\": (mse_loss,mse_loss_grad)\n",
    "}"
   ]
  },
  {
   "cell_type": "code",
   "execution_count": 78,
   "metadata": {},
   "outputs": [],
   "source": [
    "class layer:\n",
    "    \n",
    "    def __init__(self,neurons,inputs,activation = None):\n",
    "        self.W = np.random.randn(inputs,neurons)\n",
    "        self.b = np.random.randn(neurons,)\n",
    "        self.neurons = neurons\n",
    "        self.inputs = inputs\n",
    "        if activation is None:\n",
    "            self.activation = activations[\"relu\"]\n",
    "        else:\n",
    "            self.activation = activations[activation]\n",
    "            \n",
    "    def run_layer(self,A):\n",
    "        a = np.dot(A,self.W) +self.b      #a is not dot product\n",
    "        self.inp = A\n",
    "        return self.activation[0](a)\n",
    "    \n",
    "    def back_pass(self,dl_da,lr=0.01):\n",
    "        dl_da_curr = np.dot(dl_da,self.W.T)\n",
    "        dl_dw = np.dot(self.inp.T,dl_da)\n",
    "        dl_db = np.mean(dl_da,axis=0)\n",
    "        \n",
    "        self.W -= lr * dl_dw\n",
    "        self.b -= lr * dl_db\n",
    "        \n",
    "        return dl_da_curr"
   ]
  },
  {
   "cell_type": "code",
   "execution_count": 79,
   "metadata": {},
   "outputs": [],
   "source": [
    "class models:\n",
    "    \n",
    "    def __init__(self,inputs,loss=None,optimizer=None):\n",
    "        self.inputs = inputs\n",
    "        self.layers = []\n",
    "        if loss is None:\n",
    "            self.loss = losses[\"cross_entropy\"]\n",
    "        else:\n",
    "            self.loss = losses[loss]\n",
    "        self.optimizer = optimizer\n",
    "        \n",
    "        \n",
    "    def add_layer(self,neurons,activation=None):\n",
    "        if len(self.layers) == 0:\n",
    "            inps = self.inputs\n",
    "        else:\n",
    "            inps = self.layers[-1].neurons\n",
    "        new_layer = layer(neurons,inps,activation)\n",
    "        self.layers.append(new_layer)\n",
    "        \n",
    "        \n",
    "    def forward_pass(self,inputs):\n",
    "        res = inputs\n",
    "        for lay in self.layers:\n",
    "            res = lay.run_layer(res)\n",
    "            \n",
    "        return res\n",
    "    \n",
    "    def print(self):\n",
    "        for lay in self.layers:\n",
    "            print(\"Layer : \")\n",
    "            print(\"Input: {}\".format(lay.inputs))\n",
    "            print(\"Neurons: {}\".format(lay.neurons))\n",
    "            \n",
    "    def backward_pass(self,dl_da):\n",
    "        dd = dl_da\n",
    "        for lay in reversed(self.layers) :\n",
    "            dd = lay.back_pass(dd)\n",
    "    \n",
    "    def predict(self,inputs):\n",
    "        return self.forward_pass(inputs)\n",
    "    \n",
    "    \n",
    "    def train(self,inputs,outputs,epochs):\n",
    "        loss_tracker = []\n",
    "        for i in range(epochs):\n",
    "            pred = self.predict(inputs)\n",
    "            loss = self.loss[0](outputs,pred)\n",
    "            loss_tracker.append(loss)\n",
    "            da = self.loss[1](outputs,pred)\n",
    "            self.backward_pass(da)\n",
    "            "
   ]
  },
  {
   "cell_type": "code",
   "execution_count": 71,
   "metadata": {},
   "outputs": [],
   "source": [
    "def transx(x):\n",
    "    l,b,h = x.shape\n",
    "    xt = x.reshape((l,b*h))\n",
    "    return xt"
   ]
  },
  {
   "cell_type": "code",
   "execution_count": 56,
   "metadata": {},
   "outputs": [],
   "source": [
    "xt = transx(x_train)"
   ]
  },
  {
   "cell_type": "code",
   "execution_count": 57,
   "metadata": {},
   "outputs": [
    {
     "name": "stdout",
     "output_type": "stream",
     "text": [
      "(60000, 10)\n"
     ]
    }
   ],
   "source": [
    "def one_hot_encoding(a):\n",
    "    b = np.zeros((a.size, a.max()+1))\n",
    "    b[np.arange(a.size),a] = 1\n",
    "    return b\n",
    "\n",
    "yt = one_hot_encoding(y_train)\n",
    "print(yt.shape)"
   ]
  },
  {
   "cell_type": "code",
   "execution_count": 80,
   "metadata": {},
   "outputs": [
    {
     "name": "stdout",
     "output_type": "stream",
     "text": [
      "Layer : \n",
      "Input: 784\n",
      "Neurons: 64\n",
      "Layer : \n",
      "Input: 64\n",
      "Neurons: 32\n",
      "Layer : \n",
      "Input: 32\n",
      "Neurons: 10\n"
     ]
    }
   ],
   "source": [
    "model = models(784)\n",
    "model.add_layer(64)\n",
    "model.add_layer(32)\n",
    "model.add_layer(len(class_names),activation=\"sigmoid\")\n",
    "model.print()"
   ]
  },
  {
   "cell_type": "code",
   "execution_count": 81,
   "metadata": {
    "scrolled": true
   },
   "outputs": [
    {
     "name": "stderr",
     "output_type": "stream",
     "text": [
      "<ipython-input-3-5712a88165bc>:2: RuntimeWarning: overflow encountered in exp\n",
      "  return 1/(1+np.exp(-x))\n",
      "<ipython-input-29-27948e11bda2>:2: RuntimeWarning: divide by zero encountered in log\n",
      "  ret = -np.sum(np.multiply(real,np.log(pred)) , axis = 1)\n",
      "<ipython-input-29-27948e11bda2>:2: RuntimeWarning: invalid value encountered in multiply\n",
      "  ret = -np.sum(np.multiply(real,np.log(pred)) , axis = 1)\n",
      "/home/krishna/anaconda3/envs/yrf/lib/python3.8/site-packages/numpy/core/_methods.py:151: RuntimeWarning: overflow encountered in reduce\n",
      "  ret = umr_sum(arr, axis, dtype, out, keepdims)\n",
      "<ipython-input-3-5712a88165bc>:16: RuntimeWarning: invalid value encountered in less\n",
      "  x[x<0] = 0\n"
     ]
    }
   ],
   "source": [
    "model.train(xt,yt,100)"
   ]
  },
  {
   "cell_type": "code",
   "execution_count": 82,
   "metadata": {},
   "outputs": [
    {
     "name": "stderr",
     "output_type": "stream",
     "text": [
      "<ipython-input-3-5712a88165bc>:16: RuntimeWarning: invalid value encountered in less\n",
      "  x[x<0] = 0\n"
     ]
    }
   ],
   "source": [
    "xte = transx(x_test)\n",
    "pred = np.argmax(model.predict(xte))"
   ]
  },
  {
   "cell_type": "code",
   "execution_count": 83,
   "metadata": {},
   "outputs": [
    {
     "name": "stdout",
     "output_type": "stream",
     "text": [
      "0.1\n"
     ]
    }
   ],
   "source": [
    "print(np.sum(pred==y_test)/y_test.shape[0])"
   ]
  },
  {
   "cell_type": "code",
   "execution_count": null,
   "metadata": {},
   "outputs": [],
   "source": []
  }
 ],
 "metadata": {
  "kernelspec": {
   "display_name": "Python 3",
   "language": "python",
   "name": "python3"
  },
  "language_info": {
   "codemirror_mode": {
    "name": "ipython",
    "version": 3
   },
   "file_extension": ".py",
   "mimetype": "text/x-python",
   "name": "python",
   "nbconvert_exporter": "python",
   "pygments_lexer": "ipython3",
   "version": "3.8.3"
  }
 },
 "nbformat": 4,
 "nbformat_minor": 4
}
